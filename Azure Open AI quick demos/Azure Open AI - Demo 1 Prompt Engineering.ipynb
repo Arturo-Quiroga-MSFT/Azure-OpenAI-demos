{
 "cells": [
  {
   "cell_type": "markdown",
   "id": "a7a9aa5d",
   "metadata": {},
   "source": [
    "# Azure Open AI - Demo 1 Prompt Engineering"
   ]
  },
  {
   "cell_type": "code",
   "execution_count": 1,
   "id": "e3d61902",
   "metadata": {},
   "outputs": [],
   "source": [
    "import openai\n",
    "import os\n",
    "import sys\n",
    "\n",
    "from dotenv import load_dotenv"
   ]
  },
  {
   "cell_type": "code",
   "execution_count": 2,
   "id": "f79f5ad3",
   "metadata": {},
   "outputs": [
    {
     "data": {
      "text/plain": [
       "'3.10.10 (main, Mar 21 2023, 18:45:11) [GCC 11.2.0]'"
      ]
     },
     "execution_count": 2,
     "metadata": {},
     "output_type": "execute_result"
    }
   ],
   "source": [
    "sys.version"
   ]
  },
  {
   "cell_type": "code",
   "execution_count": 3,
   "id": "457eb2a9",
   "metadata": {},
   "outputs": [
    {
     "name": "stdout",
     "output_type": "stream",
     "text": [
      "openai version = 0.28.0\n"
     ]
    }
   ],
   "source": [
    "print(\"openai version =\", openai.__version__)"
   ]
  },
  {
   "cell_type": "code",
   "execution_count": 4,
   "id": "8242afa4",
   "metadata": {},
   "outputs": [],
   "source": [
    "load_dotenv(\"azure.env\")\n",
    "\n",
    "openai.api_type: str = \"azure\"\n",
    "openai.api_key = os.getenv(\"OPENAI_API_KEY\")\n",
    "openai.api_base = os.getenv(\"OPENAI_API_BASE\")\n",
    "openai.api_version = os.getenv(\"OPENAI_API_VERSION\")"
   ]
  },
  {
   "cell_type": "code",
   "execution_count": 5,
   "id": "2d96c1d5",
   "metadata": {},
   "outputs": [],
   "source": [
    "model = \"text-davinci-003\""
   ]
  },
  {
   "cell_type": "markdown",
   "id": "228ac1fa",
   "metadata": {},
   "source": [
    "## Prompt Engineering"
   ]
  },
  {
   "cell_type": "markdown",
   "id": "002a33a2",
   "metadata": {},
   "source": [
    "### 1. QnA"
   ]
  },
  {
   "cell_type": "code",
   "execution_count": 6,
   "id": "ddf83968",
   "metadata": {},
   "outputs": [
    {
     "name": "stdout",
     "output_type": "stream",
     "text": [
      "I am a person who is interested in learning and exploring new things.\n"
     ]
    }
   ],
   "source": [
    "prompt = \"\"\"Who are you?\"\"\"\n",
    "\n",
    "results = openai.Completion.create(\n",
    "    engine=model, prompt=prompt, temperature=0, max_tokens=800\n",
    ")\n",
    "\n",
    "print(results[\"choices\"][0][\"text\"].strip(\"\\n\"))"
   ]
  },
  {
   "cell_type": "code",
   "execution_count": 7,
   "id": "05bcbcb1",
   "metadata": {},
   "outputs": [
    {
     "name": "stdout",
     "output_type": "stream",
     "text": [
      "Bonjour! Comment allez-vous?\n"
     ]
    }
   ],
   "source": [
    "prompt = \"\"\"Bonjour\"\"\"\n",
    "\n",
    "results = openai.Completion.create(\n",
    "    engine=model, prompt=prompt, temperature=0, max_tokens=800\n",
    ")\n",
    "\n",
    "print(results[\"choices\"][0][\"text\"].strip(\"\\n\"))"
   ]
  },
  {
   "cell_type": "markdown",
   "id": "399df257",
   "metadata": {},
   "source": [
    "### 2. Summarize Text"
   ]
  },
  {
   "cell_type": "code",
   "execution_count": 8,
   "id": "1f4b97df",
   "metadata": {},
   "outputs": [
    {
     "name": "stdout",
     "output_type": "stream",
     "text": [
      "- Neutron stars are the collapsed core of a massive supergiant star with a mass of 10-25 solar masses.\n",
      "- Neutron stars are the smallest and densest stellar objects, excluding black holes.\n",
      "- Neutron stars have a radius of 10 kilometres and a mass of 1.4 solar masses, and are formed from the supernova explosion of a massive star.\n"
     ]
    }
   ],
   "source": [
    "prompt = \"\"\"Summarize below text in 3 short bullet points：\n",
    "\n",
    "            ###\n",
    "            A neutron star is the collapsed core of a massive supergiant star, \n",
    "            which had a total mass of between 10 and 25 solar masses, \n",
    "            possibly more if the star was especially metal-rich.\n",
    "            Neutron stars are the smallest and densest stellar objects, \n",
    "            excluding black holes and hypothetical white holes, quark stars, \n",
    "            and strange stars. Neutron stars have a radius on the order of \n",
    "            10 kilometres (6.2 mi) and a mass of about 1.4 solar masses. \n",
    "            They result from the supernova explosion of a massive star, \n",
    "            combined with gravitational collapse, that compresses the core \n",
    "            past white dwarf star density to that of atomic nuclei.\n",
    "            ###\n",
    "         \"\"\"\n",
    "\n",
    "results = openai.Completion.create(\n",
    "    engine=model, prompt=prompt, temperature=0, max_tokens=800\n",
    ")\n",
    "\n",
    "print(results[\"choices\"][0][\"text\"].strip(\"\\n\"))"
   ]
  },
  {
   "cell_type": "code",
   "execution_count": 9,
   "id": "3000208f",
   "metadata": {},
   "outputs": [
    {
     "name": "stdout",
     "output_type": "stream",
     "text": [
      " 中子星是一种质量达10-25太阳质量的超级巨星坍缩核心，是最小最密集的恒星物体，半径约10公里，质量约1.4太阳质量，是由超级新星爆炸和引力坍缩共同产生的。\n"
     ]
    }
   ],
   "source": [
    "prompt = \"\"\"简要概括下面文字：\n",
    "\n",
    "            ###\n",
    "            中子星是一颗质量达10至25太阳质量（如果恒星特别富含金属可能更多）的超级巨星的坍缩核心。\n",
    "            中子星是最小最密集的恒星物体，除了黑洞和假想的白洞、夸克星和奇异星。\n",
    "            中子星的半径约为10公里（6.2英里），质量约为1.4太阳质量。\n",
    "            它们是由超级新星爆炸和引力坍缩共同产生的，使核心压缩到白矮星密度以上的原子核密度。\n",
    "            ###\n",
    "         \"\"\"\n",
    "\n",
    "results = openai.Completion.create(\n",
    "    engine=model, prompt=prompt, temperature=0, max_tokens=800\n",
    ")\n",
    "\n",
    "print(results[\"choices\"][0][\"text\"].strip(\"\\n\"))"
   ]
  },
  {
   "cell_type": "markdown",
   "id": "7814896f",
   "metadata": {},
   "source": [
    "### 3. Classify Text"
   ]
  },
  {
   "cell_type": "code",
   "execution_count": 10,
   "id": "bdaeb31f",
   "metadata": {},
   "outputs": [
    {
     "name": "stdout",
     "output_type": "stream",
     "text": [
      " Entertainment\n"
     ]
    }
   ],
   "source": [
    "prompt = \"\"\"Classify the following news article into 1 of the following categories: \n",
    "            [Tech, Politics, Sport, Entertainment]\n",
    "\n",
    "            ###\n",
    "            Donna Steffensen Is Cooking Up a New Kind of Perfection. \n",
    "            The Internet’s most beloved cooking guru has a buzzy new book and \n",
    "            a fresh new perspective:\n",
    "            ###\n",
    "         \"\"\"\n",
    "\n",
    "results = openai.Completion.create(\n",
    "    engine=model, prompt=prompt, temperature=0, max_tokens=800\n",
    ")\n",
    "\n",
    "print(results[\"choices\"][0][\"text\"].strip(\"\\n\"))"
   ]
  },
  {
   "cell_type": "markdown",
   "id": "7127f95b",
   "metadata": {},
   "source": [
    "### 4. Generate New Product Name"
   ]
  },
  {
   "cell_type": "code",
   "execution_count": 11,
   "id": "bac2595b",
   "metadata": {},
   "outputs": [
    {
     "name": "stdout",
     "output_type": "stream",
     "text": [
      "CompactShake\n"
     ]
    }
   ],
   "source": [
    "prompt = \"\"\"Generate new product name based on the following information：\n",
    "            \n",
    "            ###\n",
    "            Product description: A home milkshake maker\n",
    "            Seed words: fast, healthy, compact\n",
    "            Product names: HomeShaker, Fit Shaker, QuickShake, Shake Maker\n",
    "            ###\n",
    "         \"\"\"\n",
    "\n",
    "results = openai.Completion.create(\n",
    "    engine=model, prompt=prompt, temperature=0, max_tokens=800\n",
    ")\n",
    "\n",
    "print(results[\"choices\"][0][\"text\"].strip(\"\\n\"))"
   ]
  },
  {
   "cell_type": "markdown",
   "id": "4b40e666",
   "metadata": {},
   "source": [
    "### 5. Translation"
   ]
  },
  {
   "cell_type": "code",
   "execution_count": 12,
   "id": "df4f0220",
   "metadata": {},
   "outputs": [
    {
     "name": "stdout",
     "output_type": "stream",
     "text": [
      "The sun sets behind the mountains, the Yellow River flows into the sea. If I want to see a thousand miles, I will go to a higher floor.\n"
     ]
    }
   ],
   "source": [
    "prompt = \"\"\"请用英语翻译下面这首诗歌：\n",
    "            \n",
    "            ###\n",
    "            白日依山尽，黄河入海流。\n",
    "            欲穷千里目，更上一层楼。\n",
    "            ###\n",
    "         \"\"\"\n",
    "\n",
    "results = openai.Completion.create(\n",
    "    engine=model, prompt=prompt, temperature=0, max_tokens=800\n",
    ")\n",
    "\n",
    "print(results[\"choices\"][0][\"text\"].strip(\"\\n\"))"
   ]
  },
  {
   "cell_type": "markdown",
   "id": "d783da05",
   "metadata": {},
   "source": [
    "### 6. Parse Unstructured Data"
   ]
  },
  {
   "cell_type": "code",
   "execution_count": 13,
   "id": "d38ed82e",
   "metadata": {},
   "outputs": [
    {
     "name": "stdout",
     "output_type": "stream",
     "text": [
      " | Neoskizzles | Purple | Candy |\n",
      "          | Loheckles | Grayish Blue | Tart, like a Lemon |\n",
      "          | Pounits | Bright Green | Savory |\n",
      "          | Loopnovas | Neon Pink | Cotton Candy |\n",
      "          | Glowls | Pale Orange | Sour and Bitter, Acidic and Caustic |\n"
     ]
    }
   ],
   "source": [
    "prompt = \"\"\"There are many fruits that were found on the recently discovered planet Goocrux. \n",
    "            There are neoskizzles that grow there, which are purple and taste like candy. \n",
    "            There are also loheckles, which are a grayish blue fruit and are very tart, a \n",
    "            little bit like a lemon. Pounits are a bright green color and are more savory \n",
    "            than sweet. There are also plenty of loopnovas which are a neon pink flavor and \n",
    "            taste like cotton candy. Finally, there are fruits called glowls, which have a very\n",
    "            sour and bitter taste which is acidic and caustic, and a pale orange tinge to them.\n",
    "            \n",
    "            ###\n",
    "            Please make a table summarizing the fruits from Goocrux\n",
    "            | Fruit | Color | Flavor |\n",
    "            ###\n",
    "         \"\"\"\n",
    "\n",
    "results = openai.Completion.create(\n",
    "    engine=model, prompt=prompt, temperature=0, max_tokens=800\n",
    ")\n",
    "\n",
    "print(results[\"choices\"][0][\"text\"].strip(\"\\n\"))"
   ]
  },
  {
   "cell_type": "markdown",
   "id": "035b8a78",
   "metadata": {},
   "source": [
    "### 7. NLP to SQL"
   ]
  },
  {
   "cell_type": "code",
   "execution_count": 14,
   "id": "80feffef",
   "metadata": {},
   "outputs": [
    {
     "name": "stdout",
     "output_type": "stream",
     "text": [
      " SELECT d.name \n",
      "          FROM Department d \n",
      "          INNER JOIN Employee e \n",
      "          ON d.id = e.department_id \n",
      "          INNER JOIN Salary_Payments sp \n",
      "          ON e.id = sp.employee_id \n",
      "          WHERE sp.date > NOW() - INTERVAL '3 months' \n",
      "          GROUP BY d.name \n",
      "          HAVING COUNT(*) > 10;\n"
     ]
    }
   ],
   "source": [
    "prompt = \"\"\"### Postgres SQL tables, with their properties:\n",
    "            #\n",
    "            # Employee(id, name, department_id)\n",
    "            # Department(id, name, address)\n",
    "            # Salary_Payments(id, employee_id, amount, date)\n",
    "            #\n",
    "            \n",
    "            ### A query to list the names of the departments \n",
    "                which employed more than 10 employees in the last 3 months\n",
    "            ###\n",
    "         \"\"\"\n",
    "\n",
    "results = openai.Completion.create(\n",
    "    engine=model, prompt=prompt, temperature=0, max_tokens=800\n",
    ")\n",
    "\n",
    "print(results[\"choices\"][0][\"text\"].strip(\"\\n\"))"
   ]
  },
  {
   "cell_type": "code",
   "execution_count": null,
   "id": "df20daa8",
   "metadata": {},
   "outputs": [],
   "source": []
  }
 ],
 "metadata": {
  "kernelspec": {
   "display_name": "Python 3.10 - SDK v2",
   "language": "python",
   "name": "python310-sdkv2"
  },
  "language_info": {
   "codemirror_mode": {
    "name": "ipython",
    "version": 3
   },
   "file_extension": ".py",
   "mimetype": "text/x-python",
   "name": "python",
   "nbconvert_exporter": "python",
   "pygments_lexer": "ipython3",
   "version": "3.10.10"
  }
 },
 "nbformat": 4,
 "nbformat_minor": 5
}
