{
 "cells": [
  {
   "cell_type": "markdown",
   "id": "7ba19d39",
   "metadata": {},
   "source": [
    "# Azure Open AI - Demo 3 Document clustering"
   ]
  },
  {
   "cell_type": "code",
   "execution_count": 1,
   "id": "8898719a",
   "metadata": {},
   "outputs": [],
   "source": [
    "import numpy as np\n",
    "import openai\n",
    "import os\n",
    "import pandas as pd\n",
    "import plotly\n",
    "import sys\n",
    "\n",
    "import matplotlib.pyplot as plt\n",
    "%matplotlib inline\n",
    "\n",
    "from dotenv import load_dotenv\n",
    "from openai.embeddings_utils import get_embedding\n",
    "from sklearn.manifold import TSNE\n",
    "from sklearn.cluster import KMeans"
   ]
  },
  {
   "cell_type": "code",
   "execution_count": 2,
   "id": "6ddeb954",
   "metadata": {},
   "outputs": [
    {
     "data": {
      "text/plain": [
       "'3.10.10 (main, Mar 21 2023, 18:45:11) [GCC 11.2.0]'"
      ]
     },
     "execution_count": 2,
     "metadata": {},
     "output_type": "execute_result"
    }
   ],
   "source": [
    "sys.version"
   ]
  },
  {
   "cell_type": "code",
   "execution_count": 3,
   "id": "1b65176a",
   "metadata": {},
   "outputs": [
    {
     "name": "stdout",
     "output_type": "stream",
     "text": [
      "openai version = 0.28.0\n"
     ]
    }
   ],
   "source": [
    "print(\"openai version =\", openai.__version__)"
   ]
  },
  {
   "cell_type": "code",
   "execution_count": 4,
   "id": "5d4fcb09",
   "metadata": {},
   "outputs": [],
   "source": [
    "load_dotenv(\"azure.env\")\n",
    "\n",
    "openai.api_type: str = \"azure\"\n",
    "openai.api_key = os.getenv(\"OPENAI_API_KEY\")\n",
    "openai.api_base = os.getenv(\"OPENAI_API_BASE\")\n",
    "openai.api_version = os.getenv(\"OPENAI_API_VERSION\")"
   ]
  },
  {
   "cell_type": "code",
   "execution_count": 5,
   "id": "fc0a33ab",
   "metadata": {},
   "outputs": [],
   "source": [
    "embedding_model = \"text-embedding-ada-002\"\n",
    "\n",
    "pd.set_option(\n",
    "    \"display.max_columns\", 100, \"display.max_rows\", 100, \"display.max_colwidth\", None\n",
    ")"
   ]
  },
  {
   "cell_type": "markdown",
   "id": "3e735a6c",
   "metadata": {},
   "source": [
    "## 1. Load Data "
   ]
  },
  {
   "cell_type": "code",
   "execution_count": 8,
   "id": "436b322e",
   "metadata": {},
   "outputs": [
    {
     "name": "stdout",
     "output_type": "stream",
     "text": [
      "-rwxrwxrwx 1 root root 19M Sep  8 12:00 documents/cnn.zip\r\n"
     ]
    }
   ],
   "source": [
    "!ls documents/cnn.zip -lh"
   ]
  },
  {
   "cell_type": "code",
   "execution_count": 9,
   "id": "b21c413f",
   "metadata": {},
   "outputs": [
    {
     "name": "stdout",
     "output_type": "stream",
     "text": [
      "Archive:  cnn.zip\n",
      "  inflating: cnn.csv                 \n"
     ]
    }
   ],
   "source": [
    "os.chdir(\"documents\")\n",
    "!unzip cnn.zip\n",
    "os.chdir(\"..\")"
   ]
  },
  {
   "cell_type": "code",
   "execution_count": 10,
   "id": "3df4beee",
   "metadata": {},
   "outputs": [
    {
     "name": "stdout",
     "output_type": "stream",
     "text": [
      "-rwxrwxrwx 1 root root 48M Mar  4  2023 documents/cnn.csv\r\n"
     ]
    }
   ],
   "source": [
    "!ls documents/cnn.csv -lh"
   ]
  },
  {
   "cell_type": "code",
   "execution_count": 12,
   "id": "34d9b671",
   "metadata": {
    "scrolled": false
   },
   "outputs": [
    {
     "name": "stdout",
     "output_type": "stream",
     "text": [
      "<class 'pandas.core.frame.DataFrame'>\n",
      "Index: 50 entries, 2365 to 8412\n",
      "Data columns (total 3 columns):\n",
      " #   Column      Non-Null Count  Dtype \n",
      "---  ------      --------------  ----- \n",
      " 0   id          50 non-null     object\n",
      " 1   article     50 non-null     object\n",
      " 2   highlights  50 non-null     object\n",
      "dtypes: object(3)\n",
      "memory usage: 1.6+ KB\n"
     ]
    }
   ],
   "source": [
    "data_df = pd.read_csv(\"documents/cnn.csv\")\n",
    "\n",
    "df = data_df.sample(50, random_state=0)\n",
    "df.info()"
   ]
  },
  {
   "cell_type": "code",
   "execution_count": 13,
   "id": "077f2b3c",
   "metadata": {},
   "outputs": [
    {
     "data": {
      "text/html": [
       "<div>\n",
       "<style scoped>\n",
       "    .dataframe tbody tr th:only-of-type {\n",
       "        vertical-align: middle;\n",
       "    }\n",
       "\n",
       "    .dataframe tbody tr th {\n",
       "        vertical-align: top;\n",
       "    }\n",
       "\n",
       "    .dataframe thead th {\n",
       "        text-align: right;\n",
       "    }\n",
       "</style>\n",
       "<table border=\"1\" class=\"dataframe\">\n",
       "  <thead>\n",
       "    <tr style=\"text-align: right;\">\n",
       "      <th></th>\n",
       "      <th>id</th>\n",
       "      <th>article</th>\n",
       "      <th>highlights</th>\n",
       "    </tr>\n",
       "  </thead>\n",
       "  <tbody>\n",
       "    <tr>\n",
       "      <th>2365</th>\n",
       "      <td>31da329bfbf7c248bd47880ad7e780abe8c7fd7c</td>\n",
       "      <td>An Iranian cleric is teaching his followers that thinking about another woman while having sex with your wife will make your children gay. Ayatollah Hossein Dehnavi, a celebrity preacher in Iran, made the speech to a packed auditorium of men and women in his home country. It is the latest controversial teaching put forward by Dehnavi, who also warned that if women did not wear the hijab - the veil covering the hair and chest - properly, they could inadvertently cause some men to become homosexual. Islamic cleric Dehnavi is a celebrity in his native Iran, giving speeches on relationships and family values . While thinking about another woman while having sex with your wife is not a sin, the Iranian ayatollah preaches, if she becomes pregnant it will mean the child will be gay. Homosexuality is punishable by death in the state . On past occasions He has preached that women must provide sex to their husbands at all times - and said women who are better educated or are financially independent 'harm men's authority'. 'One of the other duties of women in regard to their men is to take care of their men’s instinctive needs [sexual drive]', the cleric said in a report by The Clarion Project, an organisation against extremism. 'Do not break their pride and [you must] be more sensitive toward them' During another speech, the ayatollah explain that it is not a sin for a man to think about another woman while he is having sex with his partner, but if she becomes pregnant as a result the child will be gay. Incorrectly wearing the hijab, Dehnavi also warns, could lead to some men becoming homosexual. Hundreds of women attend the lectures and speeches of the Muslim cleric, whose is also regularly shown on state TV . The statements, thought to have been made in 2012 and 2013, came to light after being shared by Gay Star News this week. Homosexual acts are punishable by death in Iran, with gay and lesbian people forced to hide their sexuality. A man involved in the 'dominant' role in sodomy faces being flogged up to 100 times if he is unmarried and the sex is consensual, while the man playing the 'passive' can still be put to death regardless of his marriage status, according to a report in The Guardian. Lesbians faced being whipped 100 times, but sex between two women can also lead to the death penalty if the act is committed four times. Following his teachings, Dehavni says, will ultimately lead to 'peace on earth'. In another speech he controversially suggested that women should always be sexually available for their husbands . Men become 'saturated' if they have too much sex, Dehavni warns - suggesting becoming intimate once or twice a week is enough. He also says women can make their husbands aroused by showing off their armpits . Dehavni is a celebrated cleric in Iran, whose speeches on family life and marital affairs are shown on state TV and who people queue up for tickets to see him speak live, according to Iran Wire. The 53-year-old grandfather has himself been married for 30 years . In other speeches he warns Iranian couples not to have too much sex: '.. only once or twice a week, not every day. Otherwise the wan will become saturated.' He also suggests paler women wear black underwear and show off the most attractive parts of their bodies - their armpits and chest - to entice their husbands. By perfecting the art of lovemaking, he suggests, couples will have bigger families with strong Muslim values which will ultimately lead to peace on earth.</td>\n",
       "      <td>Ayatollah Hossein Dehnavi made statement during marriage advice speech .\\nAlso claims women not wearing hijab properly could make men gay .\\nHomosexuals face persecution in Iran under strict Islamic regime .</td>\n",
       "    </tr>\n",
       "    <tr>\n",
       "      <th>10729</th>\n",
       "      <td>8d1da9b0197d9c733db56bdfa62332d04144398d</td>\n",
       "      <td>Aston Villa may be able to sign Cordoba striker Florin Andone for as little as £2.5million. The Spanish side are poised to be relegated and need to raise funds. Sportsmail revealed Villa have held talks over 22-year-old Andone earlier this week and will look to strike a bargain for the player. Premier League side Aston Villa could sign Cordoba striker Florin Andone (left) for as little as £2.5million . The Romanian has scored six goals in 17 games for the struggling Spanish side this season . The Romanian has scored six goals in 17 games for the struggling Spanish side who are rooted to the bottom of La Liga. Andone was born in Romania but moved to Spain when he was 12. He was only promoted to the senior team in December and following his impressive form he has since been called up to the Romanian national side. The player is valued at around £6million but it is thought Villa could sign him in a cut-price deal should Cordoba lose their La Liga status. Villa manager Tim Sherwood could add Andone to his striking options in the summer .</td>\n",
       "      <td>Aston Villa have held talks over Cordoba striker Florin Andone .\\nThe Premier League club could sign the striker for as little as £2.5million .\\nCordoba are poised for La Liga relegation and need to raise funds .</td>\n",
       "    </tr>\n",
       "    <tr>\n",
       "      <th>5099</th>\n",
       "      <td>5c4210fb587c7ee49f57405fc6c084cfcb821ed0</td>\n",
       "      <td>Doctors who treated brain cancer sufferer Ashya King in Britain yesterday accused the boy’s parents of putting his life at risk when they refused to let him have chemotherapy. Consultant Peter Wilson told a BBC TV documentary Ashya’s chances of long-term survival could have been halved by Brett and Naghmeh King’s decision to flee abroad with him before he had the treatment he was being offered here. Dr Wilson, clinical director for child health at Southampton General Hospital, claimed the chemotherapy was essential to reduce the chances of the five-year-old’s cancer returning. Scroll down for video . Clinicians in an ‘impossible situation’ as a result of King family’s flight to Spain after disagreeing with doctors . And in an interview on Radio 4’s Today programme he complained of the ‘vitriol’ to which he had been subjected as a result of the case, saying: ‘I personally received a letter from a person who said they wished my children got cancer and died.’ Mr and Mrs King had accused the hospital of planning treatment which would have left their son a ‘vegetable’ and took him abroad last year for proton beam therapy, an alternative form of radiotherapy. Mr King, 51, said Ashya did not need subsequent chemotherapy as his cancer was in remission. Last month, four months after the proton treatment ended, the family said scans showed ‘no evidence’ of the tumour. But Dr Wilson, a paediatric intensive care consultant, said Ashya should have undergone chemotherapy within six weeks of his original surgery to remove the tumour in Southampton last July, and said it was too early to say he had been cured. He told the BBC: ‘We are unsure as to exactly what treatment he is receiving but what we do know is… every month that goes by that he’s not getting chemotherapy, his outcome worsens. The family then went to Prague for proton beam therapy, and now say there is 'no evidence' of a tumour . ‘There are experts in the country that have already quoted figures of halving survival – so survival going from 80 per cent to 40 or 50 per cent, which is quite dramatic.’ Dr Wilson said there was an ‘international consensus’ of medical opinion that Ashya’s form of brain cancer should be treated by surgery followed by chemotherapy and radiotherapy. After he had the surgery in Southampton his parents took him from the hospital without telling doctors. He was eventually given radiotherapy in the form of proton beam therapy in the Czech Republic, but his parents said the chemotherapy was not needed. They initially fled to Spain where they were arrested then released after the High Court approved their plan to take Ashya to Prague. The NHS eventually agreed to pay for the proton therapy there. Dr Wilson said there was a risk that tiny cancerous cells remained around the tumour site after the surgery, and that chemotherapy and radiotherapy were required to treat those cells to offer the best possible chance that the cancer would not return. The Kings were unavailable for comment but have said they wanted Ashya to receive the best possible treatment. Paediatric intensive care consultant Dr Peter Wilson said it was 'deeply unfair when the NHS is supposed to be about equal healthcare for all’ that he had to say no to parents wanting proton beam therapy for their children .</td>\n",
       "      <td>Doctors and nurses have criticised Ashya's parents in BBC documentary .\\nDr Wilson claims chemotherapy was essential to reduce chances of five-year-old’s cancer returning .\\nComplained of ‘vitriol’ to which he had been subjected as a result of case .\\nConsultant warns case - which saw parents ignore medical advice to take Ashya to Prague for proton beam therapy - could set a worrying precedent .</td>\n",
       "    </tr>\n",
       "  </tbody>\n",
       "</table>\n",
       "</div>"
      ],
      "text/plain": [
       "                                             id   \n",
       "2365   31da329bfbf7c248bd47880ad7e780abe8c7fd7c  \\\n",
       "10729  8d1da9b0197d9c733db56bdfa62332d04144398d   \n",
       "5099   5c4210fb587c7ee49f57405fc6c084cfcb821ed0   \n",
       "\n",
       "                                                                                                                                                                                                                                                                                                                                                                                                                                                                                                                                                                                                                                                                                                                                                                                                                                                                                                                                                                                                                                                                                                                                                                                                                                                                                                                                                                                                                                                                                                                                                                                                                                                                                                                                                                                                                                                                                                                                                                                                                                                                                                                                                                                                                                                                                                                                                                                                                                                                                                                                                                                                                                                                                                                                                                                                                                                                                                                                                                                                                                                                                                                                                                                                                                                                                                                                                                                                                                                                                                                                                                                                                                               article   \n",
       "2365   An Iranian cleric is teaching his followers that thinking about another woman while having sex with your wife will make your children gay. Ayatollah Hossein Dehnavi, a celebrity preacher in Iran, made the speech to a packed auditorium of men and women in his home country. It is the latest controversial teaching put forward by Dehnavi, who also warned that if women did not wear the hijab - the veil covering the hair and chest - properly, they could inadvertently cause some men to become homosexual. Islamic cleric Dehnavi is a celebrity in his native Iran, giving speeches on relationships and family values . While thinking about another woman while having sex with your wife is not a sin, the Iranian ayatollah preaches, if she becomes pregnant it will mean the child will be gay. Homosexuality is punishable by death in the state . On past occasions He has preached that women must provide sex to their husbands at all times - and said women who are better educated or are financially independent 'harm men's authority'. 'One of the other duties of women in regard to their men is to take care of their men’s instinctive needs [sexual drive]', the cleric said in a report by The Clarion Project, an organisation against extremism. 'Do not break their pride and [you must] be more sensitive toward them' During another speech, the ayatollah explain that it is not a sin for a man to think about another woman while he is having sex with his partner, but if she becomes pregnant as a result the child will be gay. Incorrectly wearing the hijab, Dehnavi also warns, could lead to some men becoming homosexual. Hundreds of women attend the lectures and speeches of the Muslim cleric, whose is also regularly shown on state TV . The statements, thought to have been made in 2012 and 2013, came to light after being shared by Gay Star News this week. Homosexual acts are punishable by death in Iran, with gay and lesbian people forced to hide their sexuality. A man involved in the 'dominant' role in sodomy faces being flogged up to 100 times if he is unmarried and the sex is consensual, while the man playing the 'passive' can still be put to death regardless of his marriage status, according to a report in The Guardian. Lesbians faced being whipped 100 times, but sex between two women can also lead to the death penalty if the act is committed four times. Following his teachings, Dehavni says, will ultimately lead to 'peace on earth'. In another speech he controversially suggested that women should always be sexually available for their husbands . Men become 'saturated' if they have too much sex, Dehavni warns - suggesting becoming intimate once or twice a week is enough. He also says women can make their husbands aroused by showing off their armpits . Dehavni is a celebrated cleric in Iran, whose speeches on family life and marital affairs are shown on state TV and who people queue up for tickets to see him speak live, according to Iran Wire. The 53-year-old grandfather has himself been married for 30 years . In other speeches he warns Iranian couples not to have too much sex: '.. only once or twice a week, not every day. Otherwise the wan will become saturated.' He also suggests paler women wear black underwear and show off the most attractive parts of their bodies - their armpits and chest - to entice their husbands. By perfecting the art of lovemaking, he suggests, couples will have bigger families with strong Muslim values which will ultimately lead to peace on earth.  \\\n",
       "10729                                                                                                                                                                                                                                                                                                                                                                                                                                                                                                                                                                                                                                                                                                                                                                                                                                                                                                                                                                                                                                                                                                                                                                                                                                                                                                                                                                                                                                                                                                                                                                                                                                                                                                                                                                                                                                                                                                                                                                                                                                                                                                                                                                                                                                                                                                                                                                                                                                                                                                                                                        Aston Villa may be able to sign Cordoba striker Florin Andone for as little as £2.5million. The Spanish side are poised to be relegated and need to raise funds. Sportsmail revealed Villa have held talks over 22-year-old Andone earlier this week and will look to strike a bargain for the player. Premier League side Aston Villa could sign Cordoba striker Florin Andone (left) for as little as £2.5million . The Romanian has scored six goals in 17 games for the struggling Spanish side this season . The Romanian has scored six goals in 17 games for the struggling Spanish side who are rooted to the bottom of La Liga. Andone was born in Romania but moved to Spain when he was 12. He was only promoted to the senior team in December and following his impressive form he has since been called up to the Romanian national side. The player is valued at around £6million but it is thought Villa could sign him in a cut-price deal should Cordoba lose their La Liga status. Villa manager Tim Sherwood could add Andone to his striking options in the summer .   \n",
       "5099                                                                                                                                                                                                                 Doctors who treated brain cancer sufferer Ashya King in Britain yesterday accused the boy’s parents of putting his life at risk when they refused to let him have chemotherapy. Consultant Peter Wilson told a BBC TV documentary Ashya’s chances of long-term survival could have been halved by Brett and Naghmeh King’s decision to flee abroad with him before he had the treatment he was being offered here. Dr Wilson, clinical director for child health at Southampton General Hospital, claimed the chemotherapy was essential to reduce the chances of the five-year-old’s cancer returning. Scroll down for video . Clinicians in an ‘impossible situation’ as a result of King family’s flight to Spain after disagreeing with doctors . And in an interview on Radio 4’s Today programme he complained of the ‘vitriol’ to which he had been subjected as a result of the case, saying: ‘I personally received a letter from a person who said they wished my children got cancer and died.’ Mr and Mrs King had accused the hospital of planning treatment which would have left their son a ‘vegetable’ and took him abroad last year for proton beam therapy, an alternative form of radiotherapy. Mr King, 51, said Ashya did not need subsequent chemotherapy as his cancer was in remission. Last month, four months after the proton treatment ended, the family said scans showed ‘no evidence’ of the tumour. But Dr Wilson, a paediatric intensive care consultant, said Ashya should have undergone chemotherapy within six weeks of his original surgery to remove the tumour in Southampton last July, and said it was too early to say he had been cured. He told the BBC: ‘We are unsure as to exactly what treatment he is receiving but what we do know is… every month that goes by that he’s not getting chemotherapy, his outcome worsens. The family then went to Prague for proton beam therapy, and now say there is 'no evidence' of a tumour . ‘There are experts in the country that have already quoted figures of halving survival – so survival going from 80 per cent to 40 or 50 per cent, which is quite dramatic.’ Dr Wilson said there was an ‘international consensus’ of medical opinion that Ashya’s form of brain cancer should be treated by surgery followed by chemotherapy and radiotherapy. After he had the surgery in Southampton his parents took him from the hospital without telling doctors. He was eventually given radiotherapy in the form of proton beam therapy in the Czech Republic, but his parents said the chemotherapy was not needed. They initially fled to Spain where they were arrested then released after the High Court approved their plan to take Ashya to Prague. The NHS eventually agreed to pay for the proton therapy there. Dr Wilson said there was a risk that tiny cancerous cells remained around the tumour site after the surgery, and that chemotherapy and radiotherapy were required to treat those cells to offer the best possible chance that the cancer would not return. The Kings were unavailable for comment but have said they wanted Ashya to receive the best possible treatment. Paediatric intensive care consultant Dr Peter Wilson said it was 'deeply unfair when the NHS is supposed to be about equal healthcare for all’ that he had to say no to parents wanting proton beam therapy for their children .   \n",
       "\n",
       "                                                                                                                                                                                                                                                                                                                                                                                                           highlights  \n",
       "2365                                                                                                                                                                                                  Ayatollah Hossein Dehnavi made statement during marriage advice speech .\\nAlso claims women not wearing hijab properly could make men gay .\\nHomosexuals face persecution in Iran under strict Islamic regime .  \n",
       "10729                                                                                                                                                                                            Aston Villa have held talks over Cordoba striker Florin Andone .\\nThe Premier League club could sign the striker for as little as £2.5million .\\nCordoba are poised for La Liga relegation and need to raise funds .  \n",
       "5099   Doctors and nurses have criticised Ashya's parents in BBC documentary .\\nDr Wilson claims chemotherapy was essential to reduce chances of five-year-old’s cancer returning .\\nComplained of ‘vitriol’ to which he had been subjected as a result of case .\\nConsultant warns case - which saw parents ignore medical advice to take Ashya to Prague for proton beam therapy - could set a worrying precedent .  "
      ]
     },
     "execution_count": 13,
     "metadata": {},
     "output_type": "execute_result"
    }
   ],
   "source": [
    "df.head(3)"
   ]
  },
  {
   "cell_type": "code",
   "execution_count": 14,
   "id": "0c30f7a0",
   "metadata": {},
   "outputs": [
    {
     "data": {
      "text/plain": [
       "(50, 3)"
      ]
     },
     "execution_count": 14,
     "metadata": {},
     "output_type": "execute_result"
    }
   ],
   "source": [
    "df.shape"
   ]
  },
  {
   "cell_type": "markdown",
   "id": "c1c2151c",
   "metadata": {},
   "source": [
    "## 2. Create Embeddings "
   ]
  },
  {
   "cell_type": "code",
   "execution_count": 15,
   "id": "bbda3d83",
   "metadata": {
    "scrolled": false
   },
   "outputs": [
    {
     "name": "stdout",
     "output_type": "stream",
     "text": [
      "<class 'pandas.core.frame.DataFrame'>\n",
      "Index: 50 entries, 2365 to 8412\n",
      "Data columns (total 4 columns):\n",
      " #   Column         Non-Null Count  Dtype \n",
      "---  ------         --------------  ----- \n",
      " 0   id             50 non-null     object\n",
      " 1   article        50 non-null     object\n",
      " 2   highlights     50 non-null     object\n",
      " 3   article_short  50 non-null     object\n",
      "dtypes: object(4)\n",
      "memory usage: 2.0+ KB\n"
     ]
    },
    {
     "data": {
      "text/html": [
       "<div>\n",
       "<style scoped>\n",
       "    .dataframe tbody tr th:only-of-type {\n",
       "        vertical-align: middle;\n",
       "    }\n",
       "\n",
       "    .dataframe tbody tr th {\n",
       "        vertical-align: top;\n",
       "    }\n",
       "\n",
       "    .dataframe thead th {\n",
       "        text-align: right;\n",
       "    }\n",
       "</style>\n",
       "<table border=\"1\" class=\"dataframe\">\n",
       "  <thead>\n",
       "    <tr style=\"text-align: right;\">\n",
       "      <th></th>\n",
       "      <th>id</th>\n",
       "      <th>article</th>\n",
       "      <th>highlights</th>\n",
       "      <th>article_short</th>\n",
       "    </tr>\n",
       "  </thead>\n",
       "  <tbody>\n",
       "    <tr>\n",
       "      <th>2365</th>\n",
       "      <td>31da329bfbf7c248bd47880ad7e780abe8c7fd7c</td>\n",
       "      <td>An Iranian cleric is teaching his followers that thinking about another woman while having sex with your wife will make your children gay. Ayatollah Hossein Dehnavi, a celebrity preacher in Iran, made the speech to a packed auditorium of men and women in his home country. It is the latest controversial teaching put forward by Dehnavi, who also warned that if women did not wear the hijab - the veil covering the hair and chest - properly, they could inadvertently cause some men to become homosexual. Islamic cleric Dehnavi is a celebrity in his native Iran, giving speeches on relationships and family values . While thinking about another woman while having sex with your wife is not a sin, the Iranian ayatollah preaches, if she becomes pregnant it will mean the child will be gay. Homosexuality is punishable by death in the state . On past occasions He has preached that women must provide sex to their husbands at all times - and said women who are better educated or are financially independent 'harm men's authority'. 'One of the other duties of women in regard to their men is to take care of their men’s instinctive needs [sexual drive]', the cleric said in a report by The Clarion Project, an organisation against extremism. 'Do not break their pride and [you must] be more sensitive toward them' During another speech, the ayatollah explain that it is not a sin for a man to think about another woman while he is having sex with his partner, but if she becomes pregnant as a result the child will be gay. Incorrectly wearing the hijab, Dehnavi also warns, could lead to some men becoming homosexual. Hundreds of women attend the lectures and speeches of the Muslim cleric, whose is also regularly shown on state TV . The statements, thought to have been made in 2012 and 2013, came to light after being shared by Gay Star News this week. Homosexual acts are punishable by death in Iran, with gay and lesbian people forced to hide their sexuality. A man involved in the 'dominant' role in sodomy faces being flogged up to 100 times if he is unmarried and the sex is consensual, while the man playing the 'passive' can still be put to death regardless of his marriage status, according to a report in The Guardian. Lesbians faced being whipped 100 times, but sex between two women can also lead to the death penalty if the act is committed four times. Following his teachings, Dehavni says, will ultimately lead to 'peace on earth'. In another speech he controversially suggested that women should always be sexually available for their husbands . Men become 'saturated' if they have too much sex, Dehavni warns - suggesting becoming intimate once or twice a week is enough. He also says women can make their husbands aroused by showing off their armpits . Dehavni is a celebrated cleric in Iran, whose speeches on family life and marital affairs are shown on state TV and who people queue up for tickets to see him speak live, according to Iran Wire. The 53-year-old grandfather has himself been married for 30 years . In other speeches he warns Iranian couples not to have too much sex: '.. only once or twice a week, not every day. Otherwise the wan will become saturated.' He also suggests paler women wear black underwear and show off the most attractive parts of their bodies - their armpits and chest - to entice their husbands. By perfecting the art of lovemaking, he suggests, couples will have bigger families with strong Muslim values which will ultimately lead to peace on earth.</td>\n",
       "      <td>Ayatollah Hossein Dehnavi made statement during marriage advice speech .\\nAlso claims women not wearing hijab properly could make men gay .\\nHomosexuals face persecution in Iran under strict Islamic regime .</td>\n",
       "      <td>An Iranian cleric is teaching his followers that thinking about another woman while having sex with your wife will make your children gay. Ayatollah Hossein Dehnavi, a celebrity preacher in Iran, made the speech to a packed auditorium of men and women in his home country. It is the latest controversial teaching put forward by Dehnavi, who also warned that if women did not wear the hijab - the veil covering the hair and chest - properly, they could inadvertently cause some men to become homosexual. Islamic cleric Dehnavi is a celebrity in his native Iran, giving speeches on relationships and family values . While thinking about another woman while having sex with your wife is not a sin, the Iranian ayatollah preaches, if she becomes pregnant it will mean the child will be gay. Homosexuality is punishable by death in the state . On past occasions He has preached that women must provide sex to their husbands at all times - and said women who are better educated or are financially independent 'harm men's authority'. 'One of the other duties of women in regard to their men is to take care of their men’s instinctive needs [sexual drive]', the cleric said in a report by The Clarion Project, an organisation against extremism. 'Do not break their pride and [you must] be more sensitive toward them' During another speech, the ayatollah explain that it is not a sin for a man to think about another woman while he is having sex with his partner, but if she becomes pregnant as a result the child will be gay. Incorrectly wearing the hijab, Dehnavi also warns, could lead to some men becoming homosexual. Hundreds of women attend the lectures and speeches of the Muslim cleric, whose is also regularly shown on state TV . The statements, thought to have been made in 2012 and 2013, came to light after being shared by Gay Star News this week. Homosexual acts are punishable by death in Iran, with gay and lesbian people forced to hide their sexuality. A man involved in the 'dominant' role in sodomy faces being flogged up to 100 times if he is unmarried and the sex is consensual, while the man playing the 'passive' can still be put to death regardless of his marriage status, according to a report in The Guardian. Lesbians faced being whipped 100 times, but sex between two women can also lead to the death penalty if the act is committed four times. Following his teachings, Dehavni says, will ultimately lead to 'peace on earth'. In another speech he controversially suggested that women should always be sexually available for their husbands . Men become 'saturated' if they have too much sex, Dehavni warns - suggesting becoming intimate once or twice a week is enough. He also says women can make their husbands aroused by showing off their armpits . Dehavni is a celebrated cleric in Iran, whose speeches on family life and marital affairs are shown on state TV and who people queue up for tickets to see</td>\n",
       "    </tr>\n",
       "  </tbody>\n",
       "</table>\n",
       "</div>"
      ],
      "text/plain": [
       "                                            id   \n",
       "2365  31da329bfbf7c248bd47880ad7e780abe8c7fd7c  \\\n",
       "\n",
       "                                                                                                                                                                                                                                                                                                                                                                                                                                                                                                                                                                                                                                                                                                                                                                                                                                                                                                                                                                                                                                                                                                                                                                                                                                                                                                                                                                                                                                                                                                                                                                                                                                                                                                                                                                                                                                                                                                                                                                                                                                                                                                                                                                                                                                                                                                                                                                                                                                                                                                                                                                                                                                                                                                                                                                                                                                                                                                                                                                                                                                                                                                                                                                                                                                                                                                                                                                                                                                                                                                                                                                                                                                              article   \n",
       "2365  An Iranian cleric is teaching his followers that thinking about another woman while having sex with your wife will make your children gay. Ayatollah Hossein Dehnavi, a celebrity preacher in Iran, made the speech to a packed auditorium of men and women in his home country. It is the latest controversial teaching put forward by Dehnavi, who also warned that if women did not wear the hijab - the veil covering the hair and chest - properly, they could inadvertently cause some men to become homosexual. Islamic cleric Dehnavi is a celebrity in his native Iran, giving speeches on relationships and family values . While thinking about another woman while having sex with your wife is not a sin, the Iranian ayatollah preaches, if she becomes pregnant it will mean the child will be gay. Homosexuality is punishable by death in the state . On past occasions He has preached that women must provide sex to their husbands at all times - and said women who are better educated or are financially independent 'harm men's authority'. 'One of the other duties of women in regard to their men is to take care of their men’s instinctive needs [sexual drive]', the cleric said in a report by The Clarion Project, an organisation against extremism. 'Do not break their pride and [you must] be more sensitive toward them' During another speech, the ayatollah explain that it is not a sin for a man to think about another woman while he is having sex with his partner, but if she becomes pregnant as a result the child will be gay. Incorrectly wearing the hijab, Dehnavi also warns, could lead to some men becoming homosexual. Hundreds of women attend the lectures and speeches of the Muslim cleric, whose is also regularly shown on state TV . The statements, thought to have been made in 2012 and 2013, came to light after being shared by Gay Star News this week. Homosexual acts are punishable by death in Iran, with gay and lesbian people forced to hide their sexuality. A man involved in the 'dominant' role in sodomy faces being flogged up to 100 times if he is unmarried and the sex is consensual, while the man playing the 'passive' can still be put to death regardless of his marriage status, according to a report in The Guardian. Lesbians faced being whipped 100 times, but sex between two women can also lead to the death penalty if the act is committed four times. Following his teachings, Dehavni says, will ultimately lead to 'peace on earth'. In another speech he controversially suggested that women should always be sexually available for their husbands . Men become 'saturated' if they have too much sex, Dehavni warns - suggesting becoming intimate once or twice a week is enough. He also says women can make their husbands aroused by showing off their armpits . Dehavni is a celebrated cleric in Iran, whose speeches on family life and marital affairs are shown on state TV and who people queue up for tickets to see him speak live, according to Iran Wire. The 53-year-old grandfather has himself been married for 30 years . In other speeches he warns Iranian couples not to have too much sex: '.. only once or twice a week, not every day. Otherwise the wan will become saturated.' He also suggests paler women wear black underwear and show off the most attractive parts of their bodies - their armpits and chest - to entice their husbands. By perfecting the art of lovemaking, he suggests, couples will have bigger families with strong Muslim values which will ultimately lead to peace on earth.  \\\n",
       "\n",
       "                                                                                                                                                                                                           highlights   \n",
       "2365  Ayatollah Hossein Dehnavi made statement during marriage advice speech .\\nAlso claims women not wearing hijab properly could make men gay .\\nHomosexuals face persecution in Iran under strict Islamic regime .  \\\n",
       "\n",
       "                                                                                                                                                                                                                                                                                                                                                                                                                                                                                                                                                                                                                                                                                                                                                                                                                                                                                                                                                                                                                                                                                                                                                                                                                                                                                                                                                                                                                                                                                                                                                                                                                                                                                                                                                                                                                                                                                                                                                                                                                                                                                                                                                                                                                                                                                                                                                                                                                                                                                                                                                                                                                                                                                                                                                                                                                                                                                                                                                                                                                                    article_short  \n",
       "2365  An Iranian cleric is teaching his followers that thinking about another woman while having sex with your wife will make your children gay. Ayatollah Hossein Dehnavi, a celebrity preacher in Iran, made the speech to a packed auditorium of men and women in his home country. It is the latest controversial teaching put forward by Dehnavi, who also warned that if women did not wear the hijab - the veil covering the hair and chest - properly, they could inadvertently cause some men to become homosexual. Islamic cleric Dehnavi is a celebrity in his native Iran, giving speeches on relationships and family values . While thinking about another woman while having sex with your wife is not a sin, the Iranian ayatollah preaches, if she becomes pregnant it will mean the child will be gay. Homosexuality is punishable by death in the state . On past occasions He has preached that women must provide sex to their husbands at all times - and said women who are better educated or are financially independent 'harm men's authority'. 'One of the other duties of women in regard to their men is to take care of their men’s instinctive needs [sexual drive]', the cleric said in a report by The Clarion Project, an organisation against extremism. 'Do not break their pride and [you must] be more sensitive toward them' During another speech, the ayatollah explain that it is not a sin for a man to think about another woman while he is having sex with his partner, but if she becomes pregnant as a result the child will be gay. Incorrectly wearing the hijab, Dehnavi also warns, could lead to some men becoming homosexual. Hundreds of women attend the lectures and speeches of the Muslim cleric, whose is also regularly shown on state TV . The statements, thought to have been made in 2012 and 2013, came to light after being shared by Gay Star News this week. Homosexual acts are punishable by death in Iran, with gay and lesbian people forced to hide their sexuality. A man involved in the 'dominant' role in sodomy faces being flogged up to 100 times if he is unmarried and the sex is consensual, while the man playing the 'passive' can still be put to death regardless of his marriage status, according to a report in The Guardian. Lesbians faced being whipped 100 times, but sex between two women can also lead to the death penalty if the act is committed four times. Following his teachings, Dehavni says, will ultimately lead to 'peace on earth'. In another speech he controversially suggested that women should always be sexually available for their husbands . Men become 'saturated' if they have too much sex, Dehavni warns - suggesting becoming intimate once or twice a week is enough. He also says women can make their husbands aroused by showing off their armpits . Dehavni is a celebrated cleric in Iran, whose speeches on family life and marital affairs are shown on state TV and who people queue up for tickets to see  "
      ]
     },
     "execution_count": 15,
     "metadata": {},
     "output_type": "execute_result"
    }
   ],
   "source": [
    "# limit article size\n",
    "max_size = 512\n",
    "\n",
    "df[\"article_short\"] = (\n",
    "    df[\"article\"].str.split(n=max_size).str[:max_size].str.join(\" \")\n",
    ")\n",
    "\n",
    "df.info()\n",
    "df.head(1)"
   ]
  },
  {
   "cell_type": "code",
   "execution_count": 16,
   "id": "0dce7437",
   "metadata": {
    "scrolled": true
   },
   "outputs": [
    {
     "name": "stdout",
     "output_type": "stream",
     "text": [
      "<class 'pandas.core.frame.DataFrame'>\n",
      "Index: 50 entries, 2365 to 8412\n",
      "Data columns (total 5 columns):\n",
      " #   Column                    Non-Null Count  Dtype \n",
      "---  ------                    --------------  ----- \n",
      " 0   id                        50 non-null     object\n",
      " 1   article                   50 non-null     object\n",
      " 2   highlights                50 non-null     object\n",
      " 3   article_short             50 non-null     object\n",
      " 4   babbage_search_embedding  50 non-null     object\n",
      "dtypes: object(5)\n",
      "memory usage: 2.3+ KB\n"
     ]
    }
   ],
   "source": [
    "# create embeddings for each article \n",
    "df[\"babbage_search_embedding\"] = df[\"article_short\"].apply(\n",
    "    lambda x: get_embedding(x, engine=embedding_model))\n",
    "\n",
    "df.info()"
   ]
  },
  {
   "cell_type": "code",
   "execution_count": 17,
   "id": "9e144b46",
   "metadata": {},
   "outputs": [
    {
     "data": {
      "text/html": [
       "<div>\n",
       "<style scoped>\n",
       "    .dataframe tbody tr th:only-of-type {\n",
       "        vertical-align: middle;\n",
       "    }\n",
       "\n",
       "    .dataframe tbody tr th {\n",
       "        vertical-align: top;\n",
       "    }\n",
       "\n",
       "    .dataframe thead th {\n",
       "        text-align: right;\n",
       "    }\n",
       "</style>\n",
       "<table border=\"1\" class=\"dataframe\">\n",
       "  <thead>\n",
       "    <tr style=\"text-align: right;\">\n",
       "      <th></th>\n",
       "      <th>id</th>\n",
       "      <th>article</th>\n",
       "      <th>highlights</th>\n",
       "      <th>article_short</th>\n",
       "      <th>babbage_search_embedding</th>\n",
       "    </tr>\n",
       "  </thead>\n",
       "  <tbody>\n",
       "    <tr>\n",
       "      <th>2365</th>\n",
       "      <td>31da329bfbf7c248bd47880ad7e780abe8c7fd7c</td>\n",
       "      <td>An Iranian cleric is teaching his followers that thinking about another woman while having sex with your wife will make your children gay. Ayatollah Hossein Dehnavi, a celebrity preacher in Iran, made the speech to a packed auditorium of men and women in his home country. It is the latest controversial teaching put forward by Dehnavi, who also warned that if women did not wear the hijab - the veil covering the hair and chest - properly, they could inadvertently cause some men to become homosexual. Islamic cleric Dehnavi is a celebrity in his native Iran, giving speeches on relationships and family values . While thinking about another woman while having sex with your wife is not a sin, the Iranian ayatollah preaches, if she becomes pregnant it will mean the child will be gay. Homosexuality is punishable by death in the state . On past occasions He has preached that women must provide sex to their husbands at all times - and said women who are better educated or are financially independent 'harm men's authority'. 'One of the other duties of women in regard to their men is to take care of their men’s instinctive needs [sexual drive]', the cleric said in a report by The Clarion Project, an organisation against extremism. 'Do not break their pride and [you must] be more sensitive toward them' During another speech, the ayatollah explain that it is not a sin for a man to think about another woman while he is having sex with his partner, but if she becomes pregnant as a result the child will be gay. Incorrectly wearing the hijab, Dehnavi also warns, could lead to some men becoming homosexual. Hundreds of women attend the lectures and speeches of the Muslim cleric, whose is also regularly shown on state TV . The statements, thought to have been made in 2012 and 2013, came to light after being shared by Gay Star News this week. Homosexual acts are punishable by death in Iran, with gay and lesbian people forced to hide their sexuality. A man involved in the 'dominant' role in sodomy faces being flogged up to 100 times if he is unmarried and the sex is consensual, while the man playing the 'passive' can still be put to death regardless of his marriage status, according to a report in The Guardian. Lesbians faced being whipped 100 times, but sex between two women can also lead to the death penalty if the act is committed four times. Following his teachings, Dehavni says, will ultimately lead to 'peace on earth'. In another speech he controversially suggested that women should always be sexually available for their husbands . Men become 'saturated' if they have too much sex, Dehavni warns - suggesting becoming intimate once or twice a week is enough. He also says women can make their husbands aroused by showing off their armpits . Dehavni is a celebrated cleric in Iran, whose speeches on family life and marital affairs are shown on state TV and who people queue up for tickets to see him speak live, according to Iran Wire. The 53-year-old grandfather has himself been married for 30 years . In other speeches he warns Iranian couples not to have too much sex: '.. only once or twice a week, not every day. Otherwise the wan will become saturated.' He also suggests paler women wear black underwear and show off the most attractive parts of their bodies - their armpits and chest - to entice their husbands. By perfecting the art of lovemaking, he suggests, couples will have bigger families with strong Muslim values which will ultimately lead to peace on earth.</td>\n",
       "      <td>Ayatollah Hossein Dehnavi made statement during marriage advice speech .\\nAlso claims women not wearing hijab properly could make men gay .\\nHomosexuals face persecution in Iran under strict Islamic regime .</td>\n",
       "      <td>An Iranian cleric is teaching his followers that thinking about another woman while having sex with your wife will make your children gay. Ayatollah Hossein Dehnavi, a celebrity preacher in Iran, made the speech to a packed auditorium of men and women in his home country. It is the latest controversial teaching put forward by Dehnavi, who also warned that if women did not wear the hijab - the veil covering the hair and chest - properly, they could inadvertently cause some men to become homosexual. Islamic cleric Dehnavi is a celebrity in his native Iran, giving speeches on relationships and family values . While thinking about another woman while having sex with your wife is not a sin, the Iranian ayatollah preaches, if she becomes pregnant it will mean the child will be gay. Homosexuality is punishable by death in the state . On past occasions He has preached that women must provide sex to their husbands at all times - and said women who are better educated or are financially independent 'harm men's authority'. 'One of the other duties of women in regard to their men is to take care of their men’s instinctive needs [sexual drive]', the cleric said in a report by The Clarion Project, an organisation against extremism. 'Do not break their pride and [you must] be more sensitive toward them' During another speech, the ayatollah explain that it is not a sin for a man to think about another woman while he is having sex with his partner, but if she becomes pregnant as a result the child will be gay. Incorrectly wearing the hijab, Dehnavi also warns, could lead to some men becoming homosexual. Hundreds of women attend the lectures and speeches of the Muslim cleric, whose is also regularly shown on state TV . The statements, thought to have been made in 2012 and 2013, came to light after being shared by Gay Star News this week. Homosexual acts are punishable by death in Iran, with gay and lesbian people forced to hide their sexuality. A man involved in the 'dominant' role in sodomy faces being flogged up to 100 times if he is unmarried and the sex is consensual, while the man playing the 'passive' can still be put to death regardless of his marriage status, according to a report in The Guardian. Lesbians faced being whipped 100 times, but sex between two women can also lead to the death penalty if the act is committed four times. Following his teachings, Dehavni says, will ultimately lead to 'peace on earth'. In another speech he controversially suggested that women should always be sexually available for their husbands . Men become 'saturated' if they have too much sex, Dehavni warns - suggesting becoming intimate once or twice a week is enough. He also says women can make their husbands aroused by showing off their armpits . Dehavni is a celebrated cleric in Iran, whose speeches on family life and marital affairs are shown on state TV and who people queue up for tickets to see</td>\n",
       "      <td>[-0.030807312577962875, 0.002324922475963831, 0.004359020851552486, -0.03128867596387863, 0.004780214745551348, 0.008718041703104973, -0.02770518697798252, 0.006267763674259186, -0.00648838933557272, -0.033802468329668045, 0.009801111184060574, 0.02216949872672558, -0.016874492168426514, 0.01851915381848812, 0.0015828192699700594, 0.016299529001116753, 0.03848239779472351, 0.003026912221685052, -0.0010488057741895318, -0.03610232099890709, -0.032438602298498154, -0.013411343097686768, -0.009125864133238792, -0.0022831375245004892, -0.02515128254890442, 0.015310058370232582, 0.02555241994559765, -0.014521155506372452, -0.008865125477313995, -0.010162134654819965, -0.0033779069781303406, 0.0016688966425135732, 0.008871810510754585, -0.015283315442502499, -0.017997674643993378, -0.00393448444083333, 0.014079905115067959, -0.011037950403988361, 0.016459982842206955, -0.0039879693649709225, 0.01416013203561306, -0.014748466201126575, -0.004897213075309992, 0.003797429148107767, -0.02754473313689232, 0.011579484678804874, -0.028079582378268242, -0.011739939451217651, 0.0012761167017742991, 0.014186874963343143, 0.038188230246305466, 0.03444428741931915, -0.016834378242492676, 0.023640334606170654, -0.011579484678804874, 0.018813319504261017, -0.02992481179535389, -0.007815483957529068, -0.003573461202904582, 0.008116336539387703, 0.008851753547787666, -0.00011198404536116868, -0.008049480617046356, -0.002873142948374152, -0.020792262628674507, 0.014494412578642368, -0.024669919162988663, 0.011846909299492836, -0.03072708658874035, -0.009159292094409466, 0.05503598228096962, 0.021260255947709084, -0.022570636123418808, -0.00986128207296133, 0.010255733504891396, -0.029657388105988503, -0.022998515516519547, -0.020885860547423363, -0.00034660735400393605, 0.0005030925385653973, 0.045595891773700714, -0.006495074834674597, -0.011706511490046978, 0.0065786452032625675, 0.004633130971342325, -0.00897209532558918, -0.013311059214174747, 0.033642012625932693, 0.028774885460734367, -0.024201925843954086, -0.00524152209982276, -0.0215410515666008, 0.0079893097281456, 0.013404658064246178, -0.02872140146791935, 0.03647671267390251, -0.023279311135411263, 0.02055157907307148, 0.008697984740138054, 0.00043540066690184176, ...]</td>\n",
       "    </tr>\n",
       "  </tbody>\n",
       "</table>\n",
       "</div>"
      ],
      "text/plain": [
       "                                            id   \n",
       "2365  31da329bfbf7c248bd47880ad7e780abe8c7fd7c  \\\n",
       "\n",
       "                                                                                                                                                                                                                                                                                                                                                                                                                                                                                                                                                                                                                                                                                                                                                                                                                                                                                                                                                                                                                                                                                                                                                                                                                                                                                                                                                                                                                                                                                                                                                                                                                                                                                                                                                                                                                                                                                                                                                                                                                                                                                                                                                                                                                                                                                                                                                                                                                                                                                                                                                                                                                                                                                                                                                                                                                                                                                                                                                                                                                                                                                                                                                                                                                                                                                                                                                                                                                                                                                                                                                                                                                                              article   \n",
       "2365  An Iranian cleric is teaching his followers that thinking about another woman while having sex with your wife will make your children gay. Ayatollah Hossein Dehnavi, a celebrity preacher in Iran, made the speech to a packed auditorium of men and women in his home country. It is the latest controversial teaching put forward by Dehnavi, who also warned that if women did not wear the hijab - the veil covering the hair and chest - properly, they could inadvertently cause some men to become homosexual. Islamic cleric Dehnavi is a celebrity in his native Iran, giving speeches on relationships and family values . While thinking about another woman while having sex with your wife is not a sin, the Iranian ayatollah preaches, if she becomes pregnant it will mean the child will be gay. Homosexuality is punishable by death in the state . On past occasions He has preached that women must provide sex to their husbands at all times - and said women who are better educated or are financially independent 'harm men's authority'. 'One of the other duties of women in regard to their men is to take care of their men’s instinctive needs [sexual drive]', the cleric said in a report by The Clarion Project, an organisation against extremism. 'Do not break their pride and [you must] be more sensitive toward them' During another speech, the ayatollah explain that it is not a sin for a man to think about another woman while he is having sex with his partner, but if she becomes pregnant as a result the child will be gay. Incorrectly wearing the hijab, Dehnavi also warns, could lead to some men becoming homosexual. Hundreds of women attend the lectures and speeches of the Muslim cleric, whose is also regularly shown on state TV . The statements, thought to have been made in 2012 and 2013, came to light after being shared by Gay Star News this week. Homosexual acts are punishable by death in Iran, with gay and lesbian people forced to hide their sexuality. A man involved in the 'dominant' role in sodomy faces being flogged up to 100 times if he is unmarried and the sex is consensual, while the man playing the 'passive' can still be put to death regardless of his marriage status, according to a report in The Guardian. Lesbians faced being whipped 100 times, but sex between two women can also lead to the death penalty if the act is committed four times. Following his teachings, Dehavni says, will ultimately lead to 'peace on earth'. In another speech he controversially suggested that women should always be sexually available for their husbands . Men become 'saturated' if they have too much sex, Dehavni warns - suggesting becoming intimate once or twice a week is enough. He also says women can make their husbands aroused by showing off their armpits . Dehavni is a celebrated cleric in Iran, whose speeches on family life and marital affairs are shown on state TV and who people queue up for tickets to see him speak live, according to Iran Wire. The 53-year-old grandfather has himself been married for 30 years . In other speeches he warns Iranian couples not to have too much sex: '.. only once or twice a week, not every day. Otherwise the wan will become saturated.' He also suggests paler women wear black underwear and show off the most attractive parts of their bodies - their armpits and chest - to entice their husbands. By perfecting the art of lovemaking, he suggests, couples will have bigger families with strong Muslim values which will ultimately lead to peace on earth.  \\\n",
       "\n",
       "                                                                                                                                                                                                           highlights   \n",
       "2365  Ayatollah Hossein Dehnavi made statement during marriage advice speech .\\nAlso claims women not wearing hijab properly could make men gay .\\nHomosexuals face persecution in Iran under strict Islamic regime .  \\\n",
       "\n",
       "                                                                                                                                                                                                                                                                                                                                                                                                                                                                                                                                                                                                                                                                                                                                                                                                                                                                                                                                                                                                                                                                                                                                                                                                                                                                                                                                                                                                                                                                                                                                                                                                                                                                                                                                                                                                                                                                                                                                                                                                                                                                                                                                                                                                                                                                                                                                                                                                                                                                                                                                                                                                                                                                                                                                                                                                                                                                                                                                                                                                                                    article_short   \n",
       "2365  An Iranian cleric is teaching his followers that thinking about another woman while having sex with your wife will make your children gay. Ayatollah Hossein Dehnavi, a celebrity preacher in Iran, made the speech to a packed auditorium of men and women in his home country. It is the latest controversial teaching put forward by Dehnavi, who also warned that if women did not wear the hijab - the veil covering the hair and chest - properly, they could inadvertently cause some men to become homosexual. Islamic cleric Dehnavi is a celebrity in his native Iran, giving speeches on relationships and family values . While thinking about another woman while having sex with your wife is not a sin, the Iranian ayatollah preaches, if she becomes pregnant it will mean the child will be gay. Homosexuality is punishable by death in the state . On past occasions He has preached that women must provide sex to their husbands at all times - and said women who are better educated or are financially independent 'harm men's authority'. 'One of the other duties of women in regard to their men is to take care of their men’s instinctive needs [sexual drive]', the cleric said in a report by The Clarion Project, an organisation against extremism. 'Do not break their pride and [you must] be more sensitive toward them' During another speech, the ayatollah explain that it is not a sin for a man to think about another woman while he is having sex with his partner, but if she becomes pregnant as a result the child will be gay. Incorrectly wearing the hijab, Dehnavi also warns, could lead to some men becoming homosexual. Hundreds of women attend the lectures and speeches of the Muslim cleric, whose is also regularly shown on state TV . The statements, thought to have been made in 2012 and 2013, came to light after being shared by Gay Star News this week. Homosexual acts are punishable by death in Iran, with gay and lesbian people forced to hide their sexuality. A man involved in the 'dominant' role in sodomy faces being flogged up to 100 times if he is unmarried and the sex is consensual, while the man playing the 'passive' can still be put to death regardless of his marriage status, according to a report in The Guardian. Lesbians faced being whipped 100 times, but sex between two women can also lead to the death penalty if the act is committed four times. Following his teachings, Dehavni says, will ultimately lead to 'peace on earth'. In another speech he controversially suggested that women should always be sexually available for their husbands . Men become 'saturated' if they have too much sex, Dehavni warns - suggesting becoming intimate once or twice a week is enough. He also says women can make their husbands aroused by showing off their armpits . Dehavni is a celebrated cleric in Iran, whose speeches on family life and marital affairs are shown on state TV and who people queue up for tickets to see  \\\n",
       "\n",
       "                                                                                                                                                                                                                                                                                                                                                                                                                                                                                                                                                                                                                                                                                                                                                                                                                                                                                                                                                                                                                                                                                                                                                                                                                                                                                                                                                                                                                                                                                                                                                                                                                                                                                                                                                                                                                                                                                                                                                                                                                                                                                                                                                                                                                                                                                                                      babbage_search_embedding  \n",
       "2365  [-0.030807312577962875, 0.002324922475963831, 0.004359020851552486, -0.03128867596387863, 0.004780214745551348, 0.008718041703104973, -0.02770518697798252, 0.006267763674259186, -0.00648838933557272, -0.033802468329668045, 0.009801111184060574, 0.02216949872672558, -0.016874492168426514, 0.01851915381848812, 0.0015828192699700594, 0.016299529001116753, 0.03848239779472351, 0.003026912221685052, -0.0010488057741895318, -0.03610232099890709, -0.032438602298498154, -0.013411343097686768, -0.009125864133238792, -0.0022831375245004892, -0.02515128254890442, 0.015310058370232582, 0.02555241994559765, -0.014521155506372452, -0.008865125477313995, -0.010162134654819965, -0.0033779069781303406, 0.0016688966425135732, 0.008871810510754585, -0.015283315442502499, -0.017997674643993378, -0.00393448444083333, 0.014079905115067959, -0.011037950403988361, 0.016459982842206955, -0.0039879693649709225, 0.01416013203561306, -0.014748466201126575, -0.004897213075309992, 0.003797429148107767, -0.02754473313689232, 0.011579484678804874, -0.028079582378268242, -0.011739939451217651, 0.0012761167017742991, 0.014186874963343143, 0.038188230246305466, 0.03444428741931915, -0.016834378242492676, 0.023640334606170654, -0.011579484678804874, 0.018813319504261017, -0.02992481179535389, -0.007815483957529068, -0.003573461202904582, 0.008116336539387703, 0.008851753547787666, -0.00011198404536116868, -0.008049480617046356, -0.002873142948374152, -0.020792262628674507, 0.014494412578642368, -0.024669919162988663, 0.011846909299492836, -0.03072708658874035, -0.009159292094409466, 0.05503598228096962, 0.021260255947709084, -0.022570636123418808, -0.00986128207296133, 0.010255733504891396, -0.029657388105988503, -0.022998515516519547, -0.020885860547423363, -0.00034660735400393605, 0.0005030925385653973, 0.045595891773700714, -0.006495074834674597, -0.011706511490046978, 0.0065786452032625675, 0.004633130971342325, -0.00897209532558918, -0.013311059214174747, 0.033642012625932693, 0.028774885460734367, -0.024201925843954086, -0.00524152209982276, -0.0215410515666008, 0.0079893097281456, 0.013404658064246178, -0.02872140146791935, 0.03647671267390251, -0.023279311135411263, 0.02055157907307148, 0.008697984740138054, 0.00043540066690184176, ...]  "
      ]
     },
     "execution_count": 17,
     "metadata": {},
     "output_type": "execute_result"
    }
   ],
   "source": [
    "df.head(1)"
   ]
  },
  {
   "cell_type": "code",
   "execution_count": 18,
   "id": "82a16a57",
   "metadata": {},
   "outputs": [
    {
     "data": {
      "text/plain": [
       "id                          object\n",
       "article                     object\n",
       "highlights                  object\n",
       "article_short               object\n",
       "babbage_search_embedding    object\n",
       "dtype: object"
      ]
     },
     "execution_count": 18,
     "metadata": {},
     "output_type": "execute_result"
    }
   ],
   "source": [
    "df.dtypes"
   ]
  },
  {
   "cell_type": "markdown",
   "id": "8d1a44bd",
   "metadata": {},
   "source": [
    "## 3. Clustering Analysis"
   ]
  },
  {
   "cell_type": "code",
   "execution_count": 19,
   "id": "f506a976",
   "metadata": {
    "scrolled": true
   },
   "outputs": [
    {
     "name": "stdout",
     "output_type": "stream",
     "text": [
      "<class 'pandas.core.frame.DataFrame'>\n",
      "Index: 50 entries, 2365 to 8412\n",
      "Data columns (total 6 columns):\n",
      " #   Column                    Non-Null Count  Dtype \n",
      "---  ------                    --------------  ----- \n",
      " 0   id                        50 non-null     object\n",
      " 1   article                   50 non-null     object\n",
      " 2   highlights                50 non-null     object\n",
      " 3   article_short             50 non-null     object\n",
      " 4   babbage_search_embedding  50 non-null     object\n",
      " 5   cluster_label             50 non-null     int32 \n",
      "dtypes: int32(1), object(5)\n",
      "memory usage: 2.5+ KB\n"
     ]
    },
    {
     "data": {
      "text/html": [
       "<div>\n",
       "<style scoped>\n",
       "    .dataframe tbody tr th:only-of-type {\n",
       "        vertical-align: middle;\n",
       "    }\n",
       "\n",
       "    .dataframe tbody tr th {\n",
       "        vertical-align: top;\n",
       "    }\n",
       "\n",
       "    .dataframe thead th {\n",
       "        text-align: right;\n",
       "    }\n",
       "</style>\n",
       "<table border=\"1\" class=\"dataframe\">\n",
       "  <thead>\n",
       "    <tr style=\"text-align: right;\">\n",
       "      <th></th>\n",
       "      <th>id</th>\n",
       "      <th>article</th>\n",
       "      <th>highlights</th>\n",
       "      <th>article_short</th>\n",
       "      <th>babbage_search_embedding</th>\n",
       "      <th>cluster_label</th>\n",
       "    </tr>\n",
       "  </thead>\n",
       "  <tbody>\n",
       "    <tr>\n",
       "      <th>2365</th>\n",
       "      <td>31da329bfbf7c248bd47880ad7e780abe8c7fd7c</td>\n",
       "      <td>An Iranian cleric is teaching his followers that thinking about another woman while having sex with your wife will make your children gay. Ayatollah Hossein Dehnavi, a celebrity preacher in Iran, made the speech to a packed auditorium of men and women in his home country. It is the latest controversial teaching put forward by Dehnavi, who also warned that if women did not wear the hijab - the veil covering the hair and chest - properly, they could inadvertently cause some men to become homosexual. Islamic cleric Dehnavi is a celebrity in his native Iran, giving speeches on relationships and family values . While thinking about another woman while having sex with your wife is not a sin, the Iranian ayatollah preaches, if she becomes pregnant it will mean the child will be gay. Homosexuality is punishable by death in the state . On past occasions He has preached that women must provide sex to their husbands at all times - and said women who are better educated or are financially independent 'harm men's authority'. 'One of the other duties of women in regard to their men is to take care of their men’s instinctive needs [sexual drive]', the cleric said in a report by The Clarion Project, an organisation against extremism. 'Do not break their pride and [you must] be more sensitive toward them' During another speech, the ayatollah explain that it is not a sin for a man to think about another woman while he is having sex with his partner, but if she becomes pregnant as a result the child will be gay. Incorrectly wearing the hijab, Dehnavi also warns, could lead to some men becoming homosexual. Hundreds of women attend the lectures and speeches of the Muslim cleric, whose is also regularly shown on state TV . The statements, thought to have been made in 2012 and 2013, came to light after being shared by Gay Star News this week. Homosexual acts are punishable by death in Iran, with gay and lesbian people forced to hide their sexuality. A man involved in the 'dominant' role in sodomy faces being flogged up to 100 times if he is unmarried and the sex is consensual, while the man playing the 'passive' can still be put to death regardless of his marriage status, according to a report in The Guardian. Lesbians faced being whipped 100 times, but sex between two women can also lead to the death penalty if the act is committed four times. Following his teachings, Dehavni says, will ultimately lead to 'peace on earth'. In another speech he controversially suggested that women should always be sexually available for their husbands . Men become 'saturated' if they have too much sex, Dehavni warns - suggesting becoming intimate once or twice a week is enough. He also says women can make their husbands aroused by showing off their armpits . Dehavni is a celebrated cleric in Iran, whose speeches on family life and marital affairs are shown on state TV and who people queue up for tickets to see him speak live, according to Iran Wire. The 53-year-old grandfather has himself been married for 30 years . In other speeches he warns Iranian couples not to have too much sex: '.. only once or twice a week, not every day. Otherwise the wan will become saturated.' He also suggests paler women wear black underwear and show off the most attractive parts of their bodies - their armpits and chest - to entice their husbands. By perfecting the art of lovemaking, he suggests, couples will have bigger families with strong Muslim values which will ultimately lead to peace on earth.</td>\n",
       "      <td>Ayatollah Hossein Dehnavi made statement during marriage advice speech .\\nAlso claims women not wearing hijab properly could make men gay .\\nHomosexuals face persecution in Iran under strict Islamic regime .</td>\n",
       "      <td>An Iranian cleric is teaching his followers that thinking about another woman while having sex with your wife will make your children gay. Ayatollah Hossein Dehnavi, a celebrity preacher in Iran, made the speech to a packed auditorium of men and women in his home country. It is the latest controversial teaching put forward by Dehnavi, who also warned that if women did not wear the hijab - the veil covering the hair and chest - properly, they could inadvertently cause some men to become homosexual. Islamic cleric Dehnavi is a celebrity in his native Iran, giving speeches on relationships and family values . While thinking about another woman while having sex with your wife is not a sin, the Iranian ayatollah preaches, if she becomes pregnant it will mean the child will be gay. Homosexuality is punishable by death in the state . On past occasions He has preached that women must provide sex to their husbands at all times - and said women who are better educated or are financially independent 'harm men's authority'. 'One of the other duties of women in regard to their men is to take care of their men’s instinctive needs [sexual drive]', the cleric said in a report by The Clarion Project, an organisation against extremism. 'Do not break their pride and [you must] be more sensitive toward them' During another speech, the ayatollah explain that it is not a sin for a man to think about another woman while he is having sex with his partner, but if she becomes pregnant as a result the child will be gay. Incorrectly wearing the hijab, Dehnavi also warns, could lead to some men becoming homosexual. Hundreds of women attend the lectures and speeches of the Muslim cleric, whose is also regularly shown on state TV . The statements, thought to have been made in 2012 and 2013, came to light after being shared by Gay Star News this week. Homosexual acts are punishable by death in Iran, with gay and lesbian people forced to hide their sexuality. A man involved in the 'dominant' role in sodomy faces being flogged up to 100 times if he is unmarried and the sex is consensual, while the man playing the 'passive' can still be put to death regardless of his marriage status, according to a report in The Guardian. Lesbians faced being whipped 100 times, but sex between two women can also lead to the death penalty if the act is committed four times. Following his teachings, Dehavni says, will ultimately lead to 'peace on earth'. In another speech he controversially suggested that women should always be sexually available for their husbands . Men become 'saturated' if they have too much sex, Dehavni warns - suggesting becoming intimate once or twice a week is enough. He also says women can make their husbands aroused by showing off their armpits . Dehavni is a celebrated cleric in Iran, whose speeches on family life and marital affairs are shown on state TV and who people queue up for tickets to see</td>\n",
       "      <td>[-0.030807312577962875, 0.002324922475963831, 0.004359020851552486, -0.03128867596387863, 0.004780214745551348, 0.008718041703104973, -0.02770518697798252, 0.006267763674259186, -0.00648838933557272, -0.033802468329668045, 0.009801111184060574, 0.02216949872672558, -0.016874492168426514, 0.01851915381848812, 0.0015828192699700594, 0.016299529001116753, 0.03848239779472351, 0.003026912221685052, -0.0010488057741895318, -0.03610232099890709, -0.032438602298498154, -0.013411343097686768, -0.009125864133238792, -0.0022831375245004892, -0.02515128254890442, 0.015310058370232582, 0.02555241994559765, -0.014521155506372452, -0.008865125477313995, -0.010162134654819965, -0.0033779069781303406, 0.0016688966425135732, 0.008871810510754585, -0.015283315442502499, -0.017997674643993378, -0.00393448444083333, 0.014079905115067959, -0.011037950403988361, 0.016459982842206955, -0.0039879693649709225, 0.01416013203561306, -0.014748466201126575, -0.004897213075309992, 0.003797429148107767, -0.02754473313689232, 0.011579484678804874, -0.028079582378268242, -0.011739939451217651, 0.0012761167017742991, 0.014186874963343143, 0.038188230246305466, 0.03444428741931915, -0.016834378242492676, 0.023640334606170654, -0.011579484678804874, 0.018813319504261017, -0.02992481179535389, -0.007815483957529068, -0.003573461202904582, 0.008116336539387703, 0.008851753547787666, -0.00011198404536116868, -0.008049480617046356, -0.002873142948374152, -0.020792262628674507, 0.014494412578642368, -0.024669919162988663, 0.011846909299492836, -0.03072708658874035, -0.009159292094409466, 0.05503598228096962, 0.021260255947709084, -0.022570636123418808, -0.00986128207296133, 0.010255733504891396, -0.029657388105988503, -0.022998515516519547, -0.020885860547423363, -0.00034660735400393605, 0.0005030925385653973, 0.045595891773700714, -0.006495074834674597, -0.011706511490046978, 0.0065786452032625675, 0.004633130971342325, -0.00897209532558918, -0.013311059214174747, 0.033642012625932693, 0.028774885460734367, -0.024201925843954086, -0.00524152209982276, -0.0215410515666008, 0.0079893097281456, 0.013404658064246178, -0.02872140146791935, 0.03647671267390251, -0.023279311135411263, 0.02055157907307148, 0.008697984740138054, 0.00043540066690184176, ...]</td>\n",
       "      <td>5</td>\n",
       "    </tr>\n",
       "  </tbody>\n",
       "</table>\n",
       "</div>"
      ],
      "text/plain": [
       "                                            id   \n",
       "2365  31da329bfbf7c248bd47880ad7e780abe8c7fd7c  \\\n",
       "\n",
       "                                                                                                                                                                                                                                                                                                                                                                                                                                                                                                                                                                                                                                                                                                                                                                                                                                                                                                                                                                                                                                                                                                                                                                                                                                                                                                                                                                                                                                                                                                                                                                                                                                                                                                                                                                                                                                                                                                                                                                                                                                                                                                                                                                                                                                                                                                                                                                                                                                                                                                                                                                                                                                                                                                                                                                                                                                                                                                                                                                                                                                                                                                                                                                                                                                                                                                                                                                                                                                                                                                                                                                                                                                              article   \n",
       "2365  An Iranian cleric is teaching his followers that thinking about another woman while having sex with your wife will make your children gay. Ayatollah Hossein Dehnavi, a celebrity preacher in Iran, made the speech to a packed auditorium of men and women in his home country. It is the latest controversial teaching put forward by Dehnavi, who also warned that if women did not wear the hijab - the veil covering the hair and chest - properly, they could inadvertently cause some men to become homosexual. Islamic cleric Dehnavi is a celebrity in his native Iran, giving speeches on relationships and family values . While thinking about another woman while having sex with your wife is not a sin, the Iranian ayatollah preaches, if she becomes pregnant it will mean the child will be gay. Homosexuality is punishable by death in the state . On past occasions He has preached that women must provide sex to their husbands at all times - and said women who are better educated or are financially independent 'harm men's authority'. 'One of the other duties of women in regard to their men is to take care of their men’s instinctive needs [sexual drive]', the cleric said in a report by The Clarion Project, an organisation against extremism. 'Do not break their pride and [you must] be more sensitive toward them' During another speech, the ayatollah explain that it is not a sin for a man to think about another woman while he is having sex with his partner, but if she becomes pregnant as a result the child will be gay. Incorrectly wearing the hijab, Dehnavi also warns, could lead to some men becoming homosexual. Hundreds of women attend the lectures and speeches of the Muslim cleric, whose is also regularly shown on state TV . The statements, thought to have been made in 2012 and 2013, came to light after being shared by Gay Star News this week. Homosexual acts are punishable by death in Iran, with gay and lesbian people forced to hide their sexuality. A man involved in the 'dominant' role in sodomy faces being flogged up to 100 times if he is unmarried and the sex is consensual, while the man playing the 'passive' can still be put to death regardless of his marriage status, according to a report in The Guardian. Lesbians faced being whipped 100 times, but sex between two women can also lead to the death penalty if the act is committed four times. Following his teachings, Dehavni says, will ultimately lead to 'peace on earth'. In another speech he controversially suggested that women should always be sexually available for their husbands . Men become 'saturated' if they have too much sex, Dehavni warns - suggesting becoming intimate once or twice a week is enough. He also says women can make their husbands aroused by showing off their armpits . Dehavni is a celebrated cleric in Iran, whose speeches on family life and marital affairs are shown on state TV and who people queue up for tickets to see him speak live, according to Iran Wire. The 53-year-old grandfather has himself been married for 30 years . In other speeches he warns Iranian couples not to have too much sex: '.. only once or twice a week, not every day. Otherwise the wan will become saturated.' He also suggests paler women wear black underwear and show off the most attractive parts of their bodies - their armpits and chest - to entice their husbands. By perfecting the art of lovemaking, he suggests, couples will have bigger families with strong Muslim values which will ultimately lead to peace on earth.  \\\n",
       "\n",
       "                                                                                                                                                                                                           highlights   \n",
       "2365  Ayatollah Hossein Dehnavi made statement during marriage advice speech .\\nAlso claims women not wearing hijab properly could make men gay .\\nHomosexuals face persecution in Iran under strict Islamic regime .  \\\n",
       "\n",
       "                                                                                                                                                                                                                                                                                                                                                                                                                                                                                                                                                                                                                                                                                                                                                                                                                                                                                                                                                                                                                                                                                                                                                                                                                                                                                                                                                                                                                                                                                                                                                                                                                                                                                                                                                                                                                                                                                                                                                                                                                                                                                                                                                                                                                                                                                                                                                                                                                                                                                                                                                                                                                                                                                                                                                                                                                                                                                                                                                                                                                                    article_short   \n",
       "2365  An Iranian cleric is teaching his followers that thinking about another woman while having sex with your wife will make your children gay. Ayatollah Hossein Dehnavi, a celebrity preacher in Iran, made the speech to a packed auditorium of men and women in his home country. It is the latest controversial teaching put forward by Dehnavi, who also warned that if women did not wear the hijab - the veil covering the hair and chest - properly, they could inadvertently cause some men to become homosexual. Islamic cleric Dehnavi is a celebrity in his native Iran, giving speeches on relationships and family values . While thinking about another woman while having sex with your wife is not a sin, the Iranian ayatollah preaches, if she becomes pregnant it will mean the child will be gay. Homosexuality is punishable by death in the state . On past occasions He has preached that women must provide sex to their husbands at all times - and said women who are better educated or are financially independent 'harm men's authority'. 'One of the other duties of women in regard to their men is to take care of their men’s instinctive needs [sexual drive]', the cleric said in a report by The Clarion Project, an organisation against extremism. 'Do not break their pride and [you must] be more sensitive toward them' During another speech, the ayatollah explain that it is not a sin for a man to think about another woman while he is having sex with his partner, but if she becomes pregnant as a result the child will be gay. Incorrectly wearing the hijab, Dehnavi also warns, could lead to some men becoming homosexual. Hundreds of women attend the lectures and speeches of the Muslim cleric, whose is also regularly shown on state TV . The statements, thought to have been made in 2012 and 2013, came to light after being shared by Gay Star News this week. Homosexual acts are punishable by death in Iran, with gay and lesbian people forced to hide their sexuality. A man involved in the 'dominant' role in sodomy faces being flogged up to 100 times if he is unmarried and the sex is consensual, while the man playing the 'passive' can still be put to death regardless of his marriage status, according to a report in The Guardian. Lesbians faced being whipped 100 times, but sex between two women can also lead to the death penalty if the act is committed four times. Following his teachings, Dehavni says, will ultimately lead to 'peace on earth'. In another speech he controversially suggested that women should always be sexually available for their husbands . Men become 'saturated' if they have too much sex, Dehavni warns - suggesting becoming intimate once or twice a week is enough. He also says women can make their husbands aroused by showing off their armpits . Dehavni is a celebrated cleric in Iran, whose speeches on family life and marital affairs are shown on state TV and who people queue up for tickets to see  \\\n",
       "\n",
       "                                                                                                                                                                                                                                                                                                                                                                                                                                                                                                                                                                                                                                                                                                                                                                                                                                                                                                                                                                                                                                                                                                                                                                                                                                                                                                                                                                                                                                                                                                                                                                                                                                                                                                                                                                                                                                                                                                                                                                                                                                                                                                                                                                                                                                                                                                                      babbage_search_embedding   \n",
       "2365  [-0.030807312577962875, 0.002324922475963831, 0.004359020851552486, -0.03128867596387863, 0.004780214745551348, 0.008718041703104973, -0.02770518697798252, 0.006267763674259186, -0.00648838933557272, -0.033802468329668045, 0.009801111184060574, 0.02216949872672558, -0.016874492168426514, 0.01851915381848812, 0.0015828192699700594, 0.016299529001116753, 0.03848239779472351, 0.003026912221685052, -0.0010488057741895318, -0.03610232099890709, -0.032438602298498154, -0.013411343097686768, -0.009125864133238792, -0.0022831375245004892, -0.02515128254890442, 0.015310058370232582, 0.02555241994559765, -0.014521155506372452, -0.008865125477313995, -0.010162134654819965, -0.0033779069781303406, 0.0016688966425135732, 0.008871810510754585, -0.015283315442502499, -0.017997674643993378, -0.00393448444083333, 0.014079905115067959, -0.011037950403988361, 0.016459982842206955, -0.0039879693649709225, 0.01416013203561306, -0.014748466201126575, -0.004897213075309992, 0.003797429148107767, -0.02754473313689232, 0.011579484678804874, -0.028079582378268242, -0.011739939451217651, 0.0012761167017742991, 0.014186874963343143, 0.038188230246305466, 0.03444428741931915, -0.016834378242492676, 0.023640334606170654, -0.011579484678804874, 0.018813319504261017, -0.02992481179535389, -0.007815483957529068, -0.003573461202904582, 0.008116336539387703, 0.008851753547787666, -0.00011198404536116868, -0.008049480617046356, -0.002873142948374152, -0.020792262628674507, 0.014494412578642368, -0.024669919162988663, 0.011846909299492836, -0.03072708658874035, -0.009159292094409466, 0.05503598228096962, 0.021260255947709084, -0.022570636123418808, -0.00986128207296133, 0.010255733504891396, -0.029657388105988503, -0.022998515516519547, -0.020885860547423363, -0.00034660735400393605, 0.0005030925385653973, 0.045595891773700714, -0.006495074834674597, -0.011706511490046978, 0.0065786452032625675, 0.004633130971342325, -0.00897209532558918, -0.013311059214174747, 0.033642012625932693, 0.028774885460734367, -0.024201925843954086, -0.00524152209982276, -0.0215410515666008, 0.0079893097281456, 0.013404658064246178, -0.02872140146791935, 0.03647671267390251, -0.023279311135411263, 0.02055157907307148, 0.008697984740138054, 0.00043540066690184176, ...]  \\\n",
       "\n",
       "      cluster_label  \n",
       "2365              5  "
      ]
     },
     "execution_count": 19,
     "metadata": {},
     "output_type": "execute_result"
    }
   ],
   "source": [
    "n_clusters = 6\n",
    "\n",
    "embedding_matrix = np.vstack(df.babbage_search_embedding.values)\n",
    "\n",
    "kmeans = KMeans(n_clusters=n_clusters, init=\"k-means++\", n_init=10, random_state=123456)\n",
    "kmeans.fit(embedding_matrix)\n",
    "labels = kmeans.labels_\n",
    "df[\"cluster_label\"] = labels\n",
    "\n",
    "df.info()\n",
    "df.head(1)"
   ]
  },
  {
   "cell_type": "code",
   "execution_count": 20,
   "id": "7c4fdd09",
   "metadata": {},
   "outputs": [
    {
     "data": {
      "text/plain": [
       "Text(0.5, 1.0, 'Clusters Identified Using t-SNE')"
      ]
     },
     "execution_count": 20,
     "metadata": {},
     "output_type": "execute_result"
    },
    {
     "data": {
      "image/png": "[encoded data removed]",
      "text/plain": [
       "<Figure size 800x800 with 1 Axes>"
      ]
     },
     "metadata": {},
     "output_type": "display_data"
    }
   ],
   "source": [
    "# clustering using t-SNE\n",
    "tsne = TSNE(n_components=2, perplexity=15, random_state=0, init=\"random\")\n",
    "vis_dims2 = tsne.fit_transform(embedding_matrix)\n",
    "x = [x for x, y in vis_dims2]\n",
    "y = [y for x, y in vis_dims2]\n",
    "\n",
    "# creating scattering plots\n",
    "plt.figure(figsize=(8, 8))\n",
    "for category, color in enumerate(\n",
    "    [\"purple\", \"green\", \"red\", \"blue\", \"yellow\", \"orange\"]\n",
    "):\n",
    "    xs = np.array(x)[df.cluster_label == category]\n",
    "    ys = np.array(y)[df.cluster_label == category]\n",
    "    plt.scatter(xs, ys, color=color, alpha=0.3)\n",
    "    avg_x = xs.mean()\n",
    "    avg_y = ys.mean()\n",
    "    plt.scatter(avg_x, avg_y, marker=\"x\", color=color, s=200)\n",
    "\n",
    "plt.title(\"Clusters Identified Using t-SNE\")"
   ]
  },
  {
   "cell_type": "markdown",
   "id": "98b0a240",
   "metadata": {},
   "source": [
    "## 4. Summarize Each Article With OpenAI"
   ]
  },
  {
   "cell_type": "code",
   "execution_count": 21,
   "id": "059f98a8",
   "metadata": {},
   "outputs": [],
   "source": [
    "model = \"text-davinci-003\""
   ]
  },
  {
   "cell_type": "code",
   "execution_count": 22,
   "id": "0e582a36",
   "metadata": {},
   "outputs": [],
   "source": [
    "def summarize_text(text):\n",
    "    \"\"\"This function submits summarization api calls.\"\"\"\n",
    "    prompt = f\"\"\"Summarize below text in 2 short sentences:\n",
    "                 \n",
    "                 ###{text}\n",
    "              \"\"\"\n",
    "    response = openai.Completion.create(\n",
    "        engine=model,\n",
    "        prompt=prompt,\n",
    "        temperature=0.7,\n",
    "        max_tokens=300,\n",
    "        top_p=1,\n",
    "        frequency_penalty=0,\n",
    "        presence_penalty=0,\n",
    "    )\n",
    "\n",
    "    return response[\"choices\"][0][\"text\"].replace(\"\\n\", \"\")"
   ]
  },
  {
   "cell_type": "code",
   "execution_count": 23,
   "id": "b957aead",
   "metadata": {},
   "outputs": [
    {
     "ename": "InvalidRequestError",
     "evalue": "The response was filtered due to the prompt triggering Azure OpenAI’s content management policy. Please modify your prompt and retry. To learn more about our content filtering policies please read our documentation: https://go.microsoft.com/fwlink/?linkid=2198766",
     "output_type": "error",
     "traceback": [
      "\u001b[0;31m---------------------------------------------------------------------------\u001b[0m",
      "\u001b[0;31mInvalidRequestError\u001b[0m                       Traceback (most recent call last)",
      "Cell \u001b[0;32mIn[23], line 1\u001b[0m\n\u001b[0;32m----> 1\u001b[0m df[\u001b[38;5;124m\"\u001b[39m\u001b[38;5;124msummary\u001b[39m\u001b[38;5;124m\"\u001b[39m] \u001b[38;5;241m=\u001b[39m \u001b[43mdf\u001b[49m\u001b[43m[\u001b[49m\u001b[38;5;124;43m\"\u001b[39;49m\u001b[38;5;124;43marticle_short\u001b[39;49m\u001b[38;5;124;43m\"\u001b[39;49m\u001b[43m]\u001b[49m\u001b[38;5;241;43m.\u001b[39;49m\u001b[43mapply\u001b[49m\u001b[43m(\u001b[49m\u001b[38;5;28;43;01mlambda\u001b[39;49;00m\u001b[43m \u001b[49m\u001b[43mx\u001b[49m\u001b[43m:\u001b[49m\u001b[43m \u001b[49m\u001b[43msummarize_text\u001b[49m\u001b[43m(\u001b[49m\u001b[43mx\u001b[49m\u001b[43m)\u001b[49m\u001b[43m)\u001b[49m\n\u001b[1;32m      3\u001b[0m df\u001b[38;5;241m.\u001b[39mhead(\u001b[38;5;241m1\u001b[39m)\n",
      "File \u001b[0;32m/anaconda/envs/azureml_py310_sdkv2/lib/python3.10/site-packages/pandas/core/series.py:4631\u001b[0m, in \u001b[0;36mSeries.apply\u001b[0;34m(self, func, convert_dtype, args, **kwargs)\u001b[0m\n\u001b[1;32m   4521\u001b[0m \u001b[38;5;28;01mdef\u001b[39;00m \u001b[38;5;21mapply\u001b[39m(\n\u001b[1;32m   4522\u001b[0m     \u001b[38;5;28mself\u001b[39m,\n\u001b[1;32m   4523\u001b[0m     func: AggFuncType,\n\u001b[0;32m   (...)\u001b[0m\n\u001b[1;32m   4526\u001b[0m     \u001b[38;5;241m*\u001b[39m\u001b[38;5;241m*\u001b[39mkwargs,\n\u001b[1;32m   4527\u001b[0m ) \u001b[38;5;241m-\u001b[39m\u001b[38;5;241m>\u001b[39m DataFrame \u001b[38;5;241m|\u001b[39m Series:\n\u001b[1;32m   4528\u001b[0m \u001b[38;5;250m    \u001b[39m\u001b[38;5;124;03m\"\"\"\u001b[39;00m\n\u001b[1;32m   4529\u001b[0m \u001b[38;5;124;03m    Invoke function on values of Series.\u001b[39;00m\n\u001b[1;32m   4530\u001b[0m \n\u001b[0;32m   (...)\u001b[0m\n\u001b[1;32m   4629\u001b[0m \u001b[38;5;124;03m    dtype: float64\u001b[39;00m\n\u001b[1;32m   4630\u001b[0m \u001b[38;5;124;03m    \"\"\"\u001b[39;00m\n\u001b[0;32m-> 4631\u001b[0m     \u001b[38;5;28;01mreturn\u001b[39;00m \u001b[43mSeriesApply\u001b[49m\u001b[43m(\u001b[49m\u001b[38;5;28;43mself\u001b[39;49m\u001b[43m,\u001b[49m\u001b[43m \u001b[49m\u001b[43mfunc\u001b[49m\u001b[43m,\u001b[49m\u001b[43m \u001b[49m\u001b[43mconvert_dtype\u001b[49m\u001b[43m,\u001b[49m\u001b[43m \u001b[49m\u001b[43margs\u001b[49m\u001b[43m,\u001b[49m\u001b[43m \u001b[49m\u001b[43mkwargs\u001b[49m\u001b[43m)\u001b[49m\u001b[38;5;241;43m.\u001b[39;49m\u001b[43mapply\u001b[49m\u001b[43m(\u001b[49m\u001b[43m)\u001b[49m\n",
      "File \u001b[0;32m/anaconda/envs/azureml_py310_sdkv2/lib/python3.10/site-packages/pandas/core/apply.py:1025\u001b[0m, in \u001b[0;36mSeriesApply.apply\u001b[0;34m(self)\u001b[0m\n\u001b[1;32m   1022\u001b[0m     \u001b[38;5;28;01mreturn\u001b[39;00m \u001b[38;5;28mself\u001b[39m\u001b[38;5;241m.\u001b[39mapply_str()\n\u001b[1;32m   1024\u001b[0m \u001b[38;5;66;03m# self.f is Callable\u001b[39;00m\n\u001b[0;32m-> 1025\u001b[0m \u001b[38;5;28;01mreturn\u001b[39;00m \u001b[38;5;28;43mself\u001b[39;49m\u001b[38;5;241;43m.\u001b[39;49m\u001b[43mapply_standard\u001b[49m\u001b[43m(\u001b[49m\u001b[43m)\u001b[49m\n",
      "File \u001b[0;32m/anaconda/envs/azureml_py310_sdkv2/lib/python3.10/site-packages/pandas/core/apply.py:1076\u001b[0m, in \u001b[0;36mSeriesApply.apply_standard\u001b[0;34m(self)\u001b[0m\n\u001b[1;32m   1074\u001b[0m     \u001b[38;5;28;01melse\u001b[39;00m:\n\u001b[1;32m   1075\u001b[0m         values \u001b[38;5;241m=\u001b[39m obj\u001b[38;5;241m.\u001b[39mastype(\u001b[38;5;28mobject\u001b[39m)\u001b[38;5;241m.\u001b[39m_values\n\u001b[0;32m-> 1076\u001b[0m         mapped \u001b[38;5;241m=\u001b[39m \u001b[43mlib\u001b[49m\u001b[38;5;241;43m.\u001b[39;49m\u001b[43mmap_infer\u001b[49m\u001b[43m(\u001b[49m\n\u001b[1;32m   1077\u001b[0m \u001b[43m            \u001b[49m\u001b[43mvalues\u001b[49m\u001b[43m,\u001b[49m\n\u001b[1;32m   1078\u001b[0m \u001b[43m            \u001b[49m\u001b[43mf\u001b[49m\u001b[43m,\u001b[49m\n\u001b[1;32m   1079\u001b[0m \u001b[43m            \u001b[49m\u001b[43mconvert\u001b[49m\u001b[38;5;241;43m=\u001b[39;49m\u001b[38;5;28;43mself\u001b[39;49m\u001b[38;5;241;43m.\u001b[39;49m\u001b[43mconvert_dtype\u001b[49m\u001b[43m,\u001b[49m\n\u001b[1;32m   1080\u001b[0m \u001b[43m        \u001b[49m\u001b[43m)\u001b[49m\n\u001b[1;32m   1082\u001b[0m \u001b[38;5;28;01mif\u001b[39;00m \u001b[38;5;28mlen\u001b[39m(mapped) \u001b[38;5;129;01mand\u001b[39;00m \u001b[38;5;28misinstance\u001b[39m(mapped[\u001b[38;5;241m0\u001b[39m], ABCSeries):\n\u001b[1;32m   1083\u001b[0m     \u001b[38;5;66;03m# GH#43986 Need to do list(mapped) in order to get treated as nested\u001b[39;00m\n\u001b[1;32m   1084\u001b[0m     \u001b[38;5;66;03m#  See also GH#25959 regarding EA support\u001b[39;00m\n\u001b[1;32m   1085\u001b[0m     \u001b[38;5;28;01mreturn\u001b[39;00m obj\u001b[38;5;241m.\u001b[39m_constructor_expanddim(\u001b[38;5;28mlist\u001b[39m(mapped), index\u001b[38;5;241m=\u001b[39mobj\u001b[38;5;241m.\u001b[39mindex)\n",
      "File \u001b[0;32m/anaconda/envs/azureml_py310_sdkv2/lib/python3.10/site-packages/pandas/_libs/lib.pyx:2834\u001b[0m, in \u001b[0;36mpandas._libs.lib.map_infer\u001b[0;34m()\u001b[0m\n",
      "Cell \u001b[0;32mIn[23], line 1\u001b[0m, in \u001b[0;36m<lambda>\u001b[0;34m(x)\u001b[0m\n\u001b[0;32m----> 1\u001b[0m df[\u001b[38;5;124m\"\u001b[39m\u001b[38;5;124msummary\u001b[39m\u001b[38;5;124m\"\u001b[39m] \u001b[38;5;241m=\u001b[39m df[\u001b[38;5;124m\"\u001b[39m\u001b[38;5;124marticle_short\u001b[39m\u001b[38;5;124m\"\u001b[39m]\u001b[38;5;241m.\u001b[39mapply(\u001b[38;5;28;01mlambda\u001b[39;00m x: \u001b[43msummarize_text\u001b[49m\u001b[43m(\u001b[49m\u001b[43mx\u001b[49m\u001b[43m)\u001b[49m)\n\u001b[1;32m      3\u001b[0m df\u001b[38;5;241m.\u001b[39mhead(\u001b[38;5;241m1\u001b[39m)\n",
      "Cell \u001b[0;32mIn[22], line 7\u001b[0m, in \u001b[0;36msummarize_text\u001b[0;34m(text)\u001b[0m\n\u001b[1;32m      2\u001b[0m \u001b[38;5;250m\u001b[39m\u001b[38;5;124;03m\"\"\"This function submits summarization api calls.\"\"\"\u001b[39;00m\n\u001b[1;32m      3\u001b[0m prompt \u001b[38;5;241m=\u001b[39m \u001b[38;5;124mf\u001b[39m\u001b[38;5;124m\"\"\"\u001b[39m\u001b[38;5;124mSummarize below text in 2 short sentences:\u001b[39m\n\u001b[1;32m      4\u001b[0m \u001b[38;5;124m             \u001b[39m\n\u001b[1;32m      5\u001b[0m \u001b[38;5;124m             ###\u001b[39m\u001b[38;5;132;01m{\u001b[39;00mtext\u001b[38;5;132;01m}\u001b[39;00m\n\u001b[1;32m      6\u001b[0m \u001b[38;5;124m          \u001b[39m\u001b[38;5;124m\"\"\"\u001b[39m\n\u001b[0;32m----> 7\u001b[0m response \u001b[38;5;241m=\u001b[39m \u001b[43mopenai\u001b[49m\u001b[38;5;241;43m.\u001b[39;49m\u001b[43mCompletion\u001b[49m\u001b[38;5;241;43m.\u001b[39;49m\u001b[43mcreate\u001b[49m\u001b[43m(\u001b[49m\n\u001b[1;32m      8\u001b[0m \u001b[43m    \u001b[49m\u001b[43mengine\u001b[49m\u001b[38;5;241;43m=\u001b[39;49m\u001b[43mmodel\u001b[49m\u001b[43m,\u001b[49m\n\u001b[1;32m      9\u001b[0m \u001b[43m    \u001b[49m\u001b[43mprompt\u001b[49m\u001b[38;5;241;43m=\u001b[39;49m\u001b[43mprompt\u001b[49m\u001b[43m,\u001b[49m\n\u001b[1;32m     10\u001b[0m \u001b[43m    \u001b[49m\u001b[43mtemperature\u001b[49m\u001b[38;5;241;43m=\u001b[39;49m\u001b[38;5;241;43m0.7\u001b[39;49m\u001b[43m,\u001b[49m\n\u001b[1;32m     11\u001b[0m \u001b[43m    \u001b[49m\u001b[43mmax_tokens\u001b[49m\u001b[38;5;241;43m=\u001b[39;49m\u001b[38;5;241;43m300\u001b[39;49m\u001b[43m,\u001b[49m\n\u001b[1;32m     12\u001b[0m \u001b[43m    \u001b[49m\u001b[43mtop_p\u001b[49m\u001b[38;5;241;43m=\u001b[39;49m\u001b[38;5;241;43m1\u001b[39;49m\u001b[43m,\u001b[49m\n\u001b[1;32m     13\u001b[0m \u001b[43m    \u001b[49m\u001b[43mfrequency_penalty\u001b[49m\u001b[38;5;241;43m=\u001b[39;49m\u001b[38;5;241;43m0\u001b[39;49m\u001b[43m,\u001b[49m\n\u001b[1;32m     14\u001b[0m \u001b[43m    \u001b[49m\u001b[43mpresence_penalty\u001b[49m\u001b[38;5;241;43m=\u001b[39;49m\u001b[38;5;241;43m0\u001b[39;49m\u001b[43m,\u001b[49m\n\u001b[1;32m     15\u001b[0m \u001b[43m\u001b[49m\u001b[43m)\u001b[49m\n\u001b[1;32m     17\u001b[0m \u001b[38;5;28;01mreturn\u001b[39;00m response[\u001b[38;5;124m\"\u001b[39m\u001b[38;5;124mchoices\u001b[39m\u001b[38;5;124m\"\u001b[39m][\u001b[38;5;241m0\u001b[39m][\u001b[38;5;124m\"\u001b[39m\u001b[38;5;124mtext\u001b[39m\u001b[38;5;124m\"\u001b[39m]\u001b[38;5;241m.\u001b[39mreplace(\u001b[38;5;124m\"\u001b[39m\u001b[38;5;130;01m\\n\u001b[39;00m\u001b[38;5;124m\"\u001b[39m, \u001b[38;5;124m\"\u001b[39m\u001b[38;5;124m\"\u001b[39m)\n",
      "File \u001b[0;32m/anaconda/envs/azureml_py310_sdkv2/lib/python3.10/site-packages/openai/api_resources/completion.py:25\u001b[0m, in \u001b[0;36mCompletion.create\u001b[0;34m(cls, *args, **kwargs)\u001b[0m\n\u001b[1;32m     23\u001b[0m \u001b[38;5;28;01mwhile\u001b[39;00m \u001b[38;5;28;01mTrue\u001b[39;00m:\n\u001b[1;32m     24\u001b[0m     \u001b[38;5;28;01mtry\u001b[39;00m:\n\u001b[0;32m---> 25\u001b[0m         \u001b[38;5;28;01mreturn\u001b[39;00m \u001b[38;5;28;43msuper\u001b[39;49m\u001b[43m(\u001b[49m\u001b[43m)\u001b[49m\u001b[38;5;241;43m.\u001b[39;49m\u001b[43mcreate\u001b[49m\u001b[43m(\u001b[49m\u001b[38;5;241;43m*\u001b[39;49m\u001b[43margs\u001b[49m\u001b[43m,\u001b[49m\u001b[43m \u001b[49m\u001b[38;5;241;43m*\u001b[39;49m\u001b[38;5;241;43m*\u001b[39;49m\u001b[43mkwargs\u001b[49m\u001b[43m)\u001b[49m\n\u001b[1;32m     26\u001b[0m     \u001b[38;5;28;01mexcept\u001b[39;00m TryAgain \u001b[38;5;28;01mas\u001b[39;00m e:\n\u001b[1;32m     27\u001b[0m         \u001b[38;5;28;01mif\u001b[39;00m timeout \u001b[38;5;129;01mis\u001b[39;00m \u001b[38;5;129;01mnot\u001b[39;00m \u001b[38;5;28;01mNone\u001b[39;00m \u001b[38;5;129;01mand\u001b[39;00m time\u001b[38;5;241m.\u001b[39mtime() \u001b[38;5;241m>\u001b[39m start \u001b[38;5;241m+\u001b[39m timeout:\n",
      "File \u001b[0;32m/anaconda/envs/azureml_py310_sdkv2/lib/python3.10/site-packages/openai/api_resources/abstract/engine_api_resource.py:153\u001b[0m, in \u001b[0;36mEngineAPIResource.create\u001b[0;34m(cls, api_key, api_base, api_type, request_id, api_version, organization, **params)\u001b[0m\n\u001b[1;32m    127\u001b[0m \u001b[38;5;129m@classmethod\u001b[39m\n\u001b[1;32m    128\u001b[0m \u001b[38;5;28;01mdef\u001b[39;00m \u001b[38;5;21mcreate\u001b[39m(\n\u001b[1;32m    129\u001b[0m     \u001b[38;5;28mcls\u001b[39m,\n\u001b[0;32m   (...)\u001b[0m\n\u001b[1;32m    136\u001b[0m     \u001b[38;5;241m*\u001b[39m\u001b[38;5;241m*\u001b[39mparams,\n\u001b[1;32m    137\u001b[0m ):\n\u001b[1;32m    138\u001b[0m     (\n\u001b[1;32m    139\u001b[0m         deployment_id,\n\u001b[1;32m    140\u001b[0m         engine,\n\u001b[0;32m   (...)\u001b[0m\n\u001b[1;32m    150\u001b[0m         api_key, api_base, api_type, api_version, organization, \u001b[38;5;241m*\u001b[39m\u001b[38;5;241m*\u001b[39mparams\n\u001b[1;32m    151\u001b[0m     )\n\u001b[0;32m--> 153\u001b[0m     response, _, api_key \u001b[38;5;241m=\u001b[39m \u001b[43mrequestor\u001b[49m\u001b[38;5;241;43m.\u001b[39;49m\u001b[43mrequest\u001b[49m\u001b[43m(\u001b[49m\n\u001b[1;32m    154\u001b[0m \u001b[43m        \u001b[49m\u001b[38;5;124;43m\"\u001b[39;49m\u001b[38;5;124;43mpost\u001b[39;49m\u001b[38;5;124;43m\"\u001b[39;49m\u001b[43m,\u001b[49m\n\u001b[1;32m    155\u001b[0m \u001b[43m        \u001b[49m\u001b[43murl\u001b[49m\u001b[43m,\u001b[49m\n\u001b[1;32m    156\u001b[0m \u001b[43m        \u001b[49m\u001b[43mparams\u001b[49m\u001b[38;5;241;43m=\u001b[39;49m\u001b[43mparams\u001b[49m\u001b[43m,\u001b[49m\n\u001b[1;32m    157\u001b[0m \u001b[43m        \u001b[49m\u001b[43mheaders\u001b[49m\u001b[38;5;241;43m=\u001b[39;49m\u001b[43mheaders\u001b[49m\u001b[43m,\u001b[49m\n\u001b[1;32m    158\u001b[0m \u001b[43m        \u001b[49m\u001b[43mstream\u001b[49m\u001b[38;5;241;43m=\u001b[39;49m\u001b[43mstream\u001b[49m\u001b[43m,\u001b[49m\n\u001b[1;32m    159\u001b[0m \u001b[43m        \u001b[49m\u001b[43mrequest_id\u001b[49m\u001b[38;5;241;43m=\u001b[39;49m\u001b[43mrequest_id\u001b[49m\u001b[43m,\u001b[49m\n\u001b[1;32m    160\u001b[0m \u001b[43m        \u001b[49m\u001b[43mrequest_timeout\u001b[49m\u001b[38;5;241;43m=\u001b[39;49m\u001b[43mrequest_timeout\u001b[49m\u001b[43m,\u001b[49m\n\u001b[1;32m    161\u001b[0m \u001b[43m    \u001b[49m\u001b[43m)\u001b[49m\n\u001b[1;32m    163\u001b[0m     \u001b[38;5;28;01mif\u001b[39;00m stream:\n\u001b[1;32m    164\u001b[0m         \u001b[38;5;66;03m# must be an iterator\u001b[39;00m\n\u001b[1;32m    165\u001b[0m         \u001b[38;5;28;01massert\u001b[39;00m \u001b[38;5;129;01mnot\u001b[39;00m \u001b[38;5;28misinstance\u001b[39m(response, OpenAIResponse)\n",
      "File \u001b[0;32m/anaconda/envs/azureml_py310_sdkv2/lib/python3.10/site-packages/openai/api_requestor.py:298\u001b[0m, in \u001b[0;36mAPIRequestor.request\u001b[0;34m(self, method, url, params, headers, files, stream, request_id, request_timeout)\u001b[0m\n\u001b[1;32m    277\u001b[0m \u001b[38;5;28;01mdef\u001b[39;00m \u001b[38;5;21mrequest\u001b[39m(\n\u001b[1;32m    278\u001b[0m     \u001b[38;5;28mself\u001b[39m,\n\u001b[1;32m    279\u001b[0m     method,\n\u001b[0;32m   (...)\u001b[0m\n\u001b[1;32m    286\u001b[0m     request_timeout: Optional[Union[\u001b[38;5;28mfloat\u001b[39m, Tuple[\u001b[38;5;28mfloat\u001b[39m, \u001b[38;5;28mfloat\u001b[39m]]] \u001b[38;5;241m=\u001b[39m \u001b[38;5;28;01mNone\u001b[39;00m,\n\u001b[1;32m    287\u001b[0m ) \u001b[38;5;241m-\u001b[39m\u001b[38;5;241m>\u001b[39m Tuple[Union[OpenAIResponse, Iterator[OpenAIResponse]], \u001b[38;5;28mbool\u001b[39m, \u001b[38;5;28mstr\u001b[39m]:\n\u001b[1;32m    288\u001b[0m     result \u001b[38;5;241m=\u001b[39m \u001b[38;5;28mself\u001b[39m\u001b[38;5;241m.\u001b[39mrequest_raw(\n\u001b[1;32m    289\u001b[0m         method\u001b[38;5;241m.\u001b[39mlower(),\n\u001b[1;32m    290\u001b[0m         url,\n\u001b[0;32m   (...)\u001b[0m\n\u001b[1;32m    296\u001b[0m         request_timeout\u001b[38;5;241m=\u001b[39mrequest_timeout,\n\u001b[1;32m    297\u001b[0m     )\n\u001b[0;32m--> 298\u001b[0m     resp, got_stream \u001b[38;5;241m=\u001b[39m \u001b[38;5;28;43mself\u001b[39;49m\u001b[38;5;241;43m.\u001b[39;49m\u001b[43m_interpret_response\u001b[49m\u001b[43m(\u001b[49m\u001b[43mresult\u001b[49m\u001b[43m,\u001b[49m\u001b[43m \u001b[49m\u001b[43mstream\u001b[49m\u001b[43m)\u001b[49m\n\u001b[1;32m    299\u001b[0m     \u001b[38;5;28;01mreturn\u001b[39;00m resp, got_stream, \u001b[38;5;28mself\u001b[39m\u001b[38;5;241m.\u001b[39mapi_key\n",
      "File \u001b[0;32m/anaconda/envs/azureml_py310_sdkv2/lib/python3.10/site-packages/openai/api_requestor.py:700\u001b[0m, in \u001b[0;36mAPIRequestor._interpret_response\u001b[0;34m(self, result, stream)\u001b[0m\n\u001b[1;32m    692\u001b[0m     \u001b[38;5;28;01mreturn\u001b[39;00m (\n\u001b[1;32m    693\u001b[0m         \u001b[38;5;28mself\u001b[39m\u001b[38;5;241m.\u001b[39m_interpret_response_line(\n\u001b[1;32m    694\u001b[0m             line, result\u001b[38;5;241m.\u001b[39mstatus_code, result\u001b[38;5;241m.\u001b[39mheaders, stream\u001b[38;5;241m=\u001b[39m\u001b[38;5;28;01mTrue\u001b[39;00m\n\u001b[1;32m    695\u001b[0m         )\n\u001b[1;32m    696\u001b[0m         \u001b[38;5;28;01mfor\u001b[39;00m line \u001b[38;5;129;01min\u001b[39;00m parse_stream(result\u001b[38;5;241m.\u001b[39miter_lines())\n\u001b[1;32m    697\u001b[0m     ), \u001b[38;5;28;01mTrue\u001b[39;00m\n\u001b[1;32m    698\u001b[0m \u001b[38;5;28;01melse\u001b[39;00m:\n\u001b[1;32m    699\u001b[0m     \u001b[38;5;28;01mreturn\u001b[39;00m (\n\u001b[0;32m--> 700\u001b[0m         \u001b[38;5;28;43mself\u001b[39;49m\u001b[38;5;241;43m.\u001b[39;49m\u001b[43m_interpret_response_line\u001b[49m\u001b[43m(\u001b[49m\n\u001b[1;32m    701\u001b[0m \u001b[43m            \u001b[49m\u001b[43mresult\u001b[49m\u001b[38;5;241;43m.\u001b[39;49m\u001b[43mcontent\u001b[49m\u001b[38;5;241;43m.\u001b[39;49m\u001b[43mdecode\u001b[49m\u001b[43m(\u001b[49m\u001b[38;5;124;43m\"\u001b[39;49m\u001b[38;5;124;43mutf-8\u001b[39;49m\u001b[38;5;124;43m\"\u001b[39;49m\u001b[43m)\u001b[49m\u001b[43m,\u001b[49m\n\u001b[1;32m    702\u001b[0m \u001b[43m            \u001b[49m\u001b[43mresult\u001b[49m\u001b[38;5;241;43m.\u001b[39;49m\u001b[43mstatus_code\u001b[49m\u001b[43m,\u001b[49m\n\u001b[1;32m    703\u001b[0m \u001b[43m            \u001b[49m\u001b[43mresult\u001b[49m\u001b[38;5;241;43m.\u001b[39;49m\u001b[43mheaders\u001b[49m\u001b[43m,\u001b[49m\n\u001b[1;32m    704\u001b[0m \u001b[43m            \u001b[49m\u001b[43mstream\u001b[49m\u001b[38;5;241;43m=\u001b[39;49m\u001b[38;5;28;43;01mFalse\u001b[39;49;00m\u001b[43m,\u001b[49m\n\u001b[1;32m    705\u001b[0m \u001b[43m        \u001b[49m\u001b[43m)\u001b[49m,\n\u001b[1;32m    706\u001b[0m         \u001b[38;5;28;01mFalse\u001b[39;00m,\n\u001b[1;32m    707\u001b[0m     )\n",
      "File \u001b[0;32m/anaconda/envs/azureml_py310_sdkv2/lib/python3.10/site-packages/openai/api_requestor.py:765\u001b[0m, in \u001b[0;36mAPIRequestor._interpret_response_line\u001b[0;34m(self, rbody, rcode, rheaders, stream)\u001b[0m\n\u001b[1;32m    763\u001b[0m stream_error \u001b[38;5;241m=\u001b[39m stream \u001b[38;5;129;01mand\u001b[39;00m \u001b[38;5;124m\"\u001b[39m\u001b[38;5;124merror\u001b[39m\u001b[38;5;124m\"\u001b[39m \u001b[38;5;129;01min\u001b[39;00m resp\u001b[38;5;241m.\u001b[39mdata\n\u001b[1;32m    764\u001b[0m \u001b[38;5;28;01mif\u001b[39;00m stream_error \u001b[38;5;129;01mor\u001b[39;00m \u001b[38;5;129;01mnot\u001b[39;00m \u001b[38;5;241m200\u001b[39m \u001b[38;5;241m<\u001b[39m\u001b[38;5;241m=\u001b[39m rcode \u001b[38;5;241m<\u001b[39m \u001b[38;5;241m300\u001b[39m:\n\u001b[0;32m--> 765\u001b[0m     \u001b[38;5;28;01mraise\u001b[39;00m \u001b[38;5;28mself\u001b[39m\u001b[38;5;241m.\u001b[39mhandle_error_response(\n\u001b[1;32m    766\u001b[0m         rbody, rcode, resp\u001b[38;5;241m.\u001b[39mdata, rheaders, stream_error\u001b[38;5;241m=\u001b[39mstream_error\n\u001b[1;32m    767\u001b[0m     )\n\u001b[1;32m    768\u001b[0m \u001b[38;5;28;01mreturn\u001b[39;00m resp\n",
      "\u001b[0;31mInvalidRequestError\u001b[0m: The response was filtered due to the prompt triggering Azure OpenAI’s content management policy. Please modify your prompt and retry. To learn more about our content filtering policies please read our documentation: https://go.microsoft.com/fwlink/?linkid=2198766"
     ]
    }
   ],
   "source": [
    "df[\"summary\"] = df[\"article_short\"].apply(lambda x: summarize_text(x))\n",
    "\n",
    "df.head(1)"
   ]
  },
  {
   "cell_type": "markdown",
   "id": "f6670dae",
   "metadata": {},
   "source": [
    "## 5. Show Cluster Topics With Sample Summaries"
   ]
  },
  {
   "cell_type": "code",
   "execution_count": null,
   "id": "f20c4083",
   "metadata": {
    "scrolled": true
   },
   "outputs": [],
   "source": [
    "article_per_cluster = 4\n",
    "\n",
    "for i in range(n_clusters):\n",
    "    print(f\"Cluster {i+1} Topic:\", end=\" \")\n",
    "    \n",
    "    articles = \"\\n\".join(\n",
    "        df[df.cluster_label == i]\n",
    "        .summary.str.replace(\"\\n\\n\", \":  \")\n",
    "        .sample(article_per_cluster, random_state=0)\n",
    "        .values\n",
    "    )\n",
    "    # create prompt\n",
    "    prompt = f\"\"\"The following articles belong to which news topic?\n",
    "                 \n",
    "                 ###articles:{articles}\n",
    "                 \n",
    "                 News Topic:\n",
    "              \"\"\"\n",
    "    # summarize via openai\n",
    "    response = openai.Completion.create(\n",
    "        engine=model,\n",
    "        prompt=prompt,\n",
    "        temperature=0,\n",
    "        max_tokens=100,\n",
    "        top_p=1,\n",
    "        frequency_penalty=0,\n",
    "        presence_penalty=0,\n",
    "    )\n",
    "    print(response[\"choices\"][0][\"text\"].replace(\"\\n\", \"\"))\n",
    "    print(\"\\n\")\n",
    "    # show sample summaries\n",
    "    sample_cluster_rows = subset_df[df.cluster_label == i].sample(\n",
    "        article_per_cluster, random_state=0\n",
    "    )\n",
    "    for j in range(article_per_cluster):\n",
    "        print(str(j + 1), end=\": \")\n",
    "        print(sample_cluster_rows.summary.values[j])\n",
    "        print(\"\\n\")\n",
    "        print(sample_cluster_rows.article.str[:70].values[j])\n",
    "\n",
    "    print(\"-\" * 80 + \"\\n\")"
   ]
  },
  {
   "cell_type": "code",
   "execution_count": null,
   "id": "cc31f6cc",
   "metadata": {},
   "outputs": [],
   "source": []
  },
  {
   "cell_type": "code",
   "execution_count": null,
   "id": "5430e527",
   "metadata": {},
   "outputs": [],
   "source": []
  }
 ],
 "metadata": {
  "kernelspec": {
   "display_name": "Python 3.10 - SDK v2",
   "language": "python",
   "name": "python310-sdkv2"
  },
  "language_info": {
   "codemirror_mode": {
    "name": "ipython",
    "version": 3
   },
   "file_extension": ".py",
   "mimetype": "text/x-python",
   "name": "python",
   "nbconvert_exporter": "python",
   "pygments_lexer": "ipython3",
   "version": "3.10.10"
  }
 },
 "nbformat": 4,
 "nbformat_minor": 5
}
