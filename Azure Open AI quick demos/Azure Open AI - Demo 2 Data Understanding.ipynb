{
 "cells": [
  {
   "cell_type": "markdown",
   "id": "2662820a",
   "metadata": {},
   "source": [
    "# Azure Open AI - Demo 2 Data Understanding"
   ]
  },
  {
   "cell_type": "code",
   "execution_count": 1,
   "id": "52d0c88f",
   "metadata": {},
   "outputs": [],
   "source": [
    "import openai\n",
    "import os\n",
    "import sys\n",
    "\n",
    "from dotenv import load_dotenv"
   ]
  },
  {
   "cell_type": "code",
   "execution_count": 2,
   "id": "64cae696",
   "metadata": {},
   "outputs": [
    {
     "data": {
      "text/plain": [
       "'3.10.10 (main, Mar 21 2023, 18:45:11) [GCC 11.2.0]'"
      ]
     },
     "execution_count": 2,
     "metadata": {},
     "output_type": "execute_result"
    }
   ],
   "source": [
    "sys.version"
   ]
  },
  {
   "cell_type": "code",
   "execution_count": 3,
   "id": "5007b668",
   "metadata": {},
   "outputs": [
    {
     "name": "stdout",
     "output_type": "stream",
     "text": [
      "openai version = 0.28.0\n"
     ]
    }
   ],
   "source": [
    "print(\"openai version =\", openai.__version__)"
   ]
  },
  {
   "cell_type": "code",
   "execution_count": 4,
   "id": "048ee9de",
   "metadata": {},
   "outputs": [],
   "source": [
    "load_dotenv(\"azure.env\")\n",
    "\n",
    "openai.api_type: str = \"azure\"\n",
    "openai.api_key = os.getenv(\"OPENAI_API_KEY\")\n",
    "openai.api_base = os.getenv(\"OPENAI_API_BASE\")\n",
    "openai.api_version = os.getenv(\"OPENAI_API_VERSION\")"
   ]
  },
  {
   "cell_type": "code",
   "execution_count": 5,
   "id": "769e5167",
   "metadata": {},
   "outputs": [],
   "source": [
    "model = \"text-davinci-003\""
   ]
  },
  {
   "cell_type": "markdown",
   "id": "c1151f47",
   "metadata": {},
   "source": [
    "## 1. Passenger Name Record (PNR)"
   ]
  },
  {
   "cell_type": "markdown",
   "id": "bf1dbb99",
   "metadata": {},
   "source": [
    "- A passenger name record (PNR) is a record in the database of a computer reservation system (CRS) that contains the itinerary for a passenger or a group of passengers travelling together.\n",
    "- The concept of a PNR was first introduced by airlines that needed to exchange reservation information in case passengers required flights of multiple airlines to reach their destination (\"interlining\"). \n",
    "- For this purpose, IATA and ATA have defined standards for interline messaging of PNR and other data through the \"ATA/IATA Reservations Interline Message Procedures - Passenger\" (AIRIMP). \n",
    "- There is no general industry standard for the layout and content of a PNR. In practice, each CRS or hosting system has its own proprietary standards, although common industry needs, including the need to map PNR data easily to AIRIMP messages, has resulted in many general similarities in data content and format between all of the major systems."
   ]
  },
  {
   "cell_type": "markdown",
   "id": "68028cb5",
   "metadata": {},
   "source": [
    "## 2. Understand PNR Data"
   ]
  },
  {
   "cell_type": "code",
   "execution_count": 6,
   "id": "b303bcfe",
   "metadata": {},
   "outputs": [
    {
     "name": "stdout",
     "output_type": "stream",
     "text": [
      "\n",
      "         The Passenger Name Record (PNR) MU99XZ is for a passenger named John Smith (987654321) travelling from Los Angeles to Singapore departing on 22nd February 2020 and returning on 28th February 2020. The itinerary consists of a direct flight from Los Angeles to Heathrow with Delta Airlines followed by an Air France flight from Heathrow to Johannesburg and then a Delta Airlines flight from Johannesburg to New York with a Singapore Airlines connecting flight from New York to Singapore and finally an Emirates flight from Singapore to Incheon. The e-ticket number associated with the PNR is 0123456789ABCDEF.\n"
     ]
    }
   ],
   "source": [
    "prompt = \"\"\"\n",
    "         An example Passenger Name Record (PNR) data below:\n",
    "         \n",
    "         ###\n",
    "         MU99XZ\n",
    "         1EZRRK1/22FEB2E2/SGN\n",
    "         DL/KE/AF/SQ\n",
    "         LAXLHR/AF/LHRJNB/DL/JNBJFK/SQ\n",
    "         22FEB22/28FEB22\n",
    "         1/2\n",
    "         SMITH/JOHNM\n",
    "         987654321\n",
    "         DL 23 Y 22FEB 2 LAXLHR HK1 1025A 545P 1A/E\n",
    "         AF 168 Y 22FEB 2 LHRJNB HK1 930P 955A 1A/E\n",
    "         DL 54 Y 25FEB 5 JNBJFK HK1 1240A 610A 1A/E\n",
    "         SQ 238 Y 26FEB 6 JFKSIN HK1 1050A 525P 1A/E\n",
    "         SQ 186 Y 26FEB 6 SGNBKK HK1 820P 1000P 1A/E\n",
    "         KE 652 Y 28FEB 1 BKKICN HK1 1215A 720P 1A/E\n",
    "         KE 601 Y 28FEB 1 ICNLAX HK1 1000P 540P 1A/E\n",
    "         E-TKT 0123456789ABCDEF\n",
    "         ###\n",
    "         \n",
    "         Summarize the PNR data.\n",
    "         \"\"\"\n",
    "\n",
    "response = openai.Completion.create(\n",
    "    engine=model,\n",
    "    prompt=prompt,\n",
    "    temperature=1,\n",
    "    max_tokens=1000,\n",
    "    top_p=1,\n",
    "    frequency_penalty=0.5,\n",
    "    presence_penalty=0.5,\n",
    ")\n",
    "\n",
    "print(response[\"choices\"][0][\"text\"])"
   ]
  },
  {
   "cell_type": "code",
   "execution_count": 7,
   "id": "ba6ac6ef",
   "metadata": {},
   "outputs": [
    {
     "name": "stdout",
     "output_type": "stream",
     "text": [
      "\n",
      "         Le PNR MU99XZ indique un voyage en avion avec des vols Delta (DL), Air France (AF), et Singapore Airlines (SQ) du 22 Février à partir de Los Angeles, Californie jusqu'au 28 Fevrier à Lao, ainsi qu'un arrêt à Johannesburg, Singapour et Séoul . Les passagers John Smith et 987654321 ont réservé des vols allant de Los Angeles, Californie et Las Vegas à Johannesburg, Afrique du Sud ; De Johannesburg à New-York City ; Et enfin de New-York City à Singapour, puis Séoul, Corée du Sud avant d'atterrir à Lao.\n"
     ]
    }
   ],
   "source": [
    "prompt = \"\"\"\n",
    "         An example Passenger Name Record (PNR) data below:\n",
    "         \n",
    "         ###\n",
    "         MU99XZ\n",
    "         1EZRRK1/22FEB2E2/SGN\n",
    "         DL/KE/AF/SQ\n",
    "         LAXLHR/AF/LHRJNB/DL/JNBJFK/SQ\n",
    "         22FEB22/28FEB22\n",
    "         1/2\n",
    "         SMITH/JOHNM\n",
    "         987654321\n",
    "         DL 23 Y 22FEB 2 LAXLHR HK1 1025A 545P 1A/E\n",
    "         AF 168 Y 22FEB 2 LHRJNB HK1 930P 955A 1A/E\n",
    "         DL 54 Y 25FEB 5 JNBJFK HK1 1240A 610A 1A/E\n",
    "         SQ 238 Y 26FEB 6 JFKSIN HK1 1050A 525P 1A/E\n",
    "         SQ 186 Y 26FEB 6 SGNBKK HK1 820P 1000P 1A/E\n",
    "         KE 652 Y 28FEB 1 BKKICN HK1 1215A 720P 1A/E\n",
    "         KE 601 Y 28FEB 1 ICNLAX HK1 1000P 540P 1A/E\n",
    "         E-TKT 0123456789ABCDEF\n",
    "         ###\n",
    "         \n",
    "         Summarize the PNR data, in French.\n",
    "         \"\"\"\n",
    "\n",
    "response = openai.Completion.create(\n",
    "    engine=model,\n",
    "    prompt=prompt,\n",
    "    temperature=1,\n",
    "    max_tokens=1000,\n",
    "    top_p=1,\n",
    "    frequency_penalty=0.5,\n",
    "    presence_penalty=0.5,\n",
    ")\n",
    "\n",
    "print(response[\"choices\"][0][\"text\"])"
   ]
  },
  {
   "cell_type": "code",
   "execution_count": 8,
   "id": "dc006b17",
   "metadata": {},
   "outputs": [
    {
     "name": "stdout",
     "output_type": "stream",
     "text": [
      "\n",
      "         1. Banking: Using a coding system to represent financial transactions such as deposits, withdrawals, transfers, and payments.\n",
      "         \n",
      "         2. Retail: Using a coding system to represent purchases, returns, exchanges, and discounts.\n",
      "         \n",
      "         3. Healthcare: Using a coding system to represent medical procedures, treatments, medications, and insurance claims.\n",
      "         \n",
      "         4. Education: Using a coding system to represent student enrollments, course registrations, grades, and transcripts. \n",
      "         \n",
      "         5. Logistics: Using a coding system to represent shipments, deliveries, tracking numbers, and freight costs.\n"
     ]
    }
   ],
   "source": [
    "prompt = \"\"\"\n",
    "         An example Passenger Name Record (PNR) data below:\n",
    "         \n",
    "         ###\n",
    "         MU99XZ\n",
    "         1EZRRK1/22FEB2E2/SGN\n",
    "         DL/KE/AF/SQ\n",
    "         LAXLHR/AF/LHRJNB/DL/JNBJFK/SQ\n",
    "         22FEB22/28FEB22\n",
    "         1/2\n",
    "         SMITH/JOHNM\n",
    "         987654321\n",
    "         DL 23 Y 22FEB 2 LAXLHR HK1 1025A 545P 1A/E\n",
    "         AF 168 Y 22FEB 2 LHRJNB HK1 930P 955A 1A/E\n",
    "         DL 54 Y 25FEB 5 JNBJFK HK1 1240A 610A 1A/E\n",
    "         SQ 238 Y 26FEB 6 JFKSIN HK1 1050A 525P 1A/E\n",
    "         SQ 186 Y 26FEB 6 SGNBKK HK1 820P 1000P 1A/E\n",
    "         KE 652 Y 28FEB 1 BKKICN HK1 1215A 720P 1A/E\n",
    "         KE 601 Y 28FEB 1 ICNLAX HK1 1000P 540P 1A/E\n",
    "         E-TKT 0123456789ABCDEF\n",
    "         ###\n",
    "         \n",
    "         List other industries, one by one, using similar coding system \n",
    "         as PNR to represent actions or transactions.\n",
    "         \"\"\"\n",
    "\n",
    "response = openai.Completion.create(\n",
    "    engine=model,\n",
    "    prompt=prompt,\n",
    "    temperature=0,\n",
    "    max_tokens=1000,\n",
    "    top_p=1,\n",
    "    frequency_penalty=0.5,\n",
    "    presence_penalty=0.5,\n",
    ")\n",
    "\n",
    "print(response[\"choices\"][0][\"text\"])"
   ]
  },
  {
   "cell_type": "code",
   "execution_count": 9,
   "id": "00bf1679",
   "metadata": {},
   "outputs": [
    {
     "name": "stdout",
     "output_type": "stream",
     "text": [
      "\n",
      "         1. The aboveSWIFT message is related to banking transactions of EUR 3058,98 and EUR 798,98 from two different companies on different dates. The message shows orders from Media Markt Online Nederland B.V., order IDs for the two transactions along with Netherlands bank details for each transactions. \n",
      "         \n",
      "         2. In terms of Fraud Detection or Money Laundering, the risk level is low. The SWIFT message contains information about a legitimate transfer of monetary value between two companies which have been verified by the banks in Netherlands. Additionally, the source of funds is valid and traceable which further lowers the risk associated with this transaction.\n"
     ]
    }
   ],
   "source": [
    "prompt = \"\"\"\n",
    "         An example SWIFT message from Banking Industry as below:\n",
    "         \n",
    "         ###        \n",
    "         {1:F01KNABNL2HAXXX0000000000}\n",
    "         {2:1940KNABNL2HXXXXN3020}\n",
    "         {4: :20:B4G30MS9D00A003D :25:123456789 :28C:999/1 :60F:C140729EUR3058,\n",
    "         98 :61:1407290729D2760,NTRFNONREF//B4G29PGCVO7Q06US /OCMT/EUR10,\n",
    "         00/ :86:FACTUUR 201403110, 201403113 REK: NL65INGB0123456789/NAAM: \n",
    "         PICQER :61:1407290729C500NTRF29-07-2014 10:05//B4G29PGDCK1QFV3E \n",
    "         :86:12160475 0050001631430920 ORDERID: 264267 MEDIA MARKT ONLINE NE REK: \n",
    "         NL84INGB0234561789/NAAM: MMS ONLINE NEDERLAND B.V. :62F:C140730EUR798,98 \n",
    "         -}\n",
    "         ###\n",
    "         \n",
    "         Tasks:\n",
    "         1. Summarize the above SWIFT message.\n",
    "         2. Determine the risk level in [low, medium, high] \n",
    "         in terms of Fraud Detection or Money Laundering, and briefly give reasons.\n",
    "         \n",
    "         Answer above questions one at a time.\n",
    "         \"\"\"\n",
    "\n",
    "response = openai.Completion.create(\n",
    "    engine=model,\n",
    "    prompt=prompt,\n",
    "    temperature=1,\n",
    "    max_tokens=1000,\n",
    "    top_p=1,\n",
    "    frequency_penalty=0.5,\n",
    "    presence_penalty=0.5,\n",
    ")\n",
    "\n",
    "print(response[\"choices\"][0][\"text\"])"
   ]
  },
  {
   "cell_type": "code",
   "execution_count": 10,
   "id": "a6510376",
   "metadata": {},
   "outputs": [
    {
     "name": "stdout",
     "output_type": "stream",
     "text": [
      "\n",
      "         1. Ce message SWIFT contient des informations sur deux transactions : une grosse transaction (3058,98 EUR) et une petite (10 EUR). Les détails des comptes impliqués sont fournis ainsi que les informations concernant les détails de l'ordre et les parties prenantes.\n",
      "         \n",
      "         2. Le risque à court terme dans ce cas est bas car le SWIFT ne contient pas de données suspectes ou anormales qui pourraient indiquer un comportement frauduleux ou suspect en matière de blanchiment d'argent.\n"
     ]
    }
   ],
   "source": [
    "prompt = \"\"\"\n",
    "         An example SWIFT message from Banking Industry as below:\n",
    "         \n",
    "         ###        \n",
    "         {1:F01KNABNL2HAXXX0000000000}\n",
    "         {2:1940KNABNL2HXXXXN3020}\n",
    "         {4: :20:B4G30MS9D00A003D :25:123456789 :28C:999/1 :60F:C140729EUR3058,98 :61:1407290729D2760,NTRFNONREF//B4G29PGCVO7Q06US /OCMT/EUR10,00/ :86:FACTUUR 201403110, 201403113 REK: NL65INGB0123456789/NAAM: PICQER :61:1407290729C500NTRF29-07-2014 10:05//B4G29PGDCK1QFV3E :86:12160475 0050001631430920 ORDERID: 264267 MEDIA MARKT ONLINE NE REK: NL84INGB0234561789/NAAM: MMS ONLINE NEDERLAND B.V. :62F:C140730EUR798,98 \n",
    "         -}\n",
    "         ###\n",
    "         \n",
    "         Tasks:\n",
    "         1. Summarize the above SWIFT message.\n",
    "         2. Determine the risk level in [low, medium, high] \n",
    "         in terms of Fraud Detection or Money Laundering, and briefly give reasons.\n",
    "         \n",
    "         Answer above questions one at a time, in French.\n",
    "         \"\"\"\n",
    "\n",
    "response = openai.Completion.create(\n",
    "    engine=model,\n",
    "    prompt=prompt,\n",
    "    temperature=1,\n",
    "    max_tokens=1000,\n",
    "    top_p=1,\n",
    "    frequency_penalty=0.5,\n",
    "    presence_penalty=0.5,\n",
    ")\n",
    "\n",
    "print(response[\"choices\"][0][\"text\"])"
   ]
  },
  {
   "cell_type": "code",
   "execution_count": 11,
   "id": "9e76efcb",
   "metadata": {},
   "outputs": [
    {
     "name": "stdout",
     "output_type": "stream",
     "text": [
      "\n",
      "         1. El mensaje SWIFT es una transacción financiera de varias partes. La parte F01 muestra los datos bancarios del remitente, el número 25 se refiere al nombre del último cliente, la línea 28C define el número de las cuentas involucradas, la línea 60F muestra el saldo total desde la última actualización y las líneas 61 a 86 contienen detalles sobre los pagos realizados con el tiempo y los beneficiarios.\n",
      "         \n",
      "         2. El riesgo en relación a detectar fraudes o lavado de dinero es bajo, ya que se ha obtenido información suficiente (y verificable) acerca de ambos lados de la transacción financiera. Los datos bancarios está completos y todos los pagadores identificados con detalles específicos que hacen imposible cualquier tipo de malversación monetaria.\n"
     ]
    }
   ],
   "source": [
    "prompt = \"\"\"\n",
    "         An example SWIFT message from Banking Industry as below:\n",
    "         \n",
    "         ###        \n",
    "         {1:F01KNABNL2HAXXX0000000000}\n",
    "         {2:1940KNABNL2HXXXXN3020}\n",
    "         {4: :20:B4G30MS9D00A003D :25:123456789 :28C:999/1 :60F:C140729EUR3058,98 :61:1407290729D2760,NTRFNONREF//B4G29PGCVO7Q06US /OCMT/EUR10,00/ :86:FACTUUR 201403110, 201403113 REK: NL65INGB0123456789/NAAM: PICQER :61:1407290729C500NTRF29-07-2014 10:05//B4G29PGDCK1QFV3E :86:12160475 0050001631430920 ORDERID: 264267 MEDIA MARKT ONLINE NE REK: NL84INGB0234561789/NAAM: MMS ONLINE NEDERLAND B.V. :62F:C140730EUR798,98 \n",
    "         -}\n",
    "         ###\n",
    "         \n",
    "         Tasks:\n",
    "         1. Summarize the above SWIFT message.\n",
    "         2. Determine the risk level in [low, medium, high] \n",
    "         in terms of Fraud Detection or Money Laundering, and briefly give reasons.\n",
    "         \n",
    "         Answer above questions one at a time, in Spanish.\n",
    "         \"\"\"\n",
    "\n",
    "response = openai.Completion.create(\n",
    "    engine=model,\n",
    "    prompt=prompt,\n",
    "    temperature=1,\n",
    "    max_tokens=1000,\n",
    "    top_p=1,\n",
    "    frequency_penalty=0.5,\n",
    "    presence_penalty=0.5,\n",
    ")\n",
    "\n",
    "print(response[\"choices\"][0][\"text\"])"
   ]
  },
  {
   "cell_type": "code",
   "execution_count": 13,
   "id": "6e8a273b",
   "metadata": {},
   "outputs": [
    {
     "name": "stdout",
     "output_type": "stream",
     "text": [
      "\n",
      "         1. 위의 SWIFT 메시지는 금융 거래 (빚, 이체, 환불 등)에 관한 정보를 전달하기 위한 기술로, F01KNABNL2HAXXX0000000000 스타일의 20 번째 데이터 'B4G30MS9D00A003D', 25 번째 데이터 '123456789' 등 다양한 금전 거래 정보가 포함되어 있다.\n",
      "         \n",
      "         2. 이 SWIFT 메시지는 Fraud Detection(Fraud Detector / 사기 탐지) 뿐만 아니라 Money Laundering(Moeny Laundering / 돈 빚)의 risk level을 Low(1/3 – low risk)로 평가할 수 있다. SWIFT Message type이 Financial Messaging System을 사용하는 Test 875(Payments Type 3) xxx KB ‐ 2 Format (for Non ‐ Bank Org.) 등 Payment Message Category 6 Standard Business Message System message pattern을 Table 500 3a(for Banks org)Format 875 (Bank To Non ‐ Bank User Interface by SWIFT Generic Role based Network Rule System Level 5 Option Description Form 5A Level 5 Messaging Transaction a-Nominations Process') Level 4 Formatting Rules Pattern 210 message pattern nor Bank To Non - Bank Payment Messages option assignment type 7b message according to Pattern Generation Rule Set A Principle b-Data Priority Assignment rule set Pattern 985 Level 4 Tables Management st anding Instruction tem Section B- Payments Document Object Type 1’Scope TP GB rules therein defined.\n"
     ]
    }
   ],
   "source": [
    "prompt = \"\"\"\n",
    "         An example SWIFT message from Banking Industry as below:\n",
    "         \n",
    "         ###        \n",
    "         {1:F01KNABNL2HAXXX0000000000}\n",
    "         {2:1940KNABNL2HXXXXN3020}\n",
    "         {4: :20:B4G30MS9D00A003D :25:123456789 :28C:999/1 :60F:C140729EUR3058,98 :61:1407290729D2760,NTRFNONREF//B4G29PGCVO7Q06US /OCMT/EUR10,00/ :86:FACTUUR 201403110, 201403113 REK: NL65INGB0123456789/NAAM: PICQER :61:1407290729C500NTRF29-07-2014 10:05//B4G29PGDCK1QFV3E :86:12160475 0050001631430920 ORDERID: 264267 MEDIA MARKT ONLINE NE REK: NL84INGB0234561789/NAAM: MMS ONLINE NEDERLAND B.V. :62F:C140730EUR798,98 \n",
    "         -}\n",
    "         ###\n",
    "         \n",
    "         Tasks:\n",
    "         1. Summarize the above SWIFT message.\n",
    "         2. Determine the risk level in [low, medium, high] \n",
    "         in terms of Fraud Detection or Money Laundering, and briefly give reasons.\n",
    "         \n",
    "         Answer above questions one at a time, in Korean.\n",
    "         \"\"\"\n",
    "\n",
    "response = openai.Completion.create(\n",
    "    engine=model,\n",
    "    prompt=prompt,\n",
    "    temperature=1,\n",
    "    max_tokens=1000,\n",
    "    top_p=1,\n",
    "    frequency_penalty=0.5,\n",
    "    presence_penalty=0.5,\n",
    ")\n",
    "\n",
    "print(response[\"choices\"][0][\"text\"])"
   ]
  },
  {
   "cell_type": "code",
   "execution_count": null,
   "id": "3451cd82",
   "metadata": {},
   "outputs": [],
   "source": []
  }
 ],
 "metadata": {
  "kernelspec": {
   "display_name": "Python 3.10 - SDK v2",
   "language": "python",
   "name": "python310-sdkv2"
  },
  "language_info": {
   "codemirror_mode": {
    "name": "ipython",
    "version": 3
   },
   "file_extension": ".py",
   "mimetype": "text/x-python",
   "name": "python",
   "nbconvert_exporter": "python",
   "pygments_lexer": "ipython3",
   "version": "3.10.10"
  }
 },
 "nbformat": 4,
 "nbformat_minor": 5
}
