{
 "cells": [
  {
   "cell_type": "markdown",
   "id": "6ea80aa9",
   "metadata": {},
   "source": [
    "# Semantic Kernel"
   ]
  },
  {
   "cell_type": "markdown",
   "id": "8157ef41",
   "metadata": {},
   "source": [
    "The Semantic Kernel, initially created by Microsoft as an open-source SDK, serves as the foundational technology for Microsoft 365 Copilot and Bing, with the primary goal of simplifying the integration of Large Language Models (LLMs) into various applications. This SDK empowers users to harness the capabilities of LLMs for orchestrating workflows through natural language queries and commands. This is achieved by facilitating seamless connections between these language models and external services, which offer supplementary functionalities essential for task completion.\n",
    "\n",
    "https://github.com/microsoft/semantic-kernel"
   ]
  },
  {
   "cell_type": "markdown",
   "id": "d7e5b14b",
   "metadata": {},
   "source": [
    "> Reference: https://towardsdatascience.com/a-pythonistas-intro-to-semantic-kernel-af5a1a39564d"
   ]
  },
  {
   "cell_type": "code",
   "execution_count": 1,
   "id": "bbc15eb9",
   "metadata": {},
   "outputs": [],
   "source": [
    "# %pip install semantic-kernel"
   ]
  },
  {
   "cell_type": "code",
   "execution_count": 2,
   "id": "6a044814",
   "metadata": {},
   "outputs": [],
   "source": [
    "import datetime\n",
    "import openai\n",
    "import os\n",
    "import semantic_kernel as sk\n",
    "import sys\n",
    "\n",
    "from dotenv import load_dotenv\n",
    "from semantic_kernel.connectors.ai.open_ai import (\n",
    "    AzureChatCompletion,\n",
    "    AzureTextCompletion,\n",
    ")\n",
    "from semantic_kernel.connectors.ai.hugging_face import HuggingFaceTextCompletion\n",
    "from semantic_kernel import PromptTemplateConfig\n",
    "from semantic_kernel import PromptTemplate\n",
    "from semantic_kernel import SemanticFunctionConfig\n",
    "from semantic_kernel.connectors.ai.open_ai import AzureTextEmbedding\n",
    "from semantic_kernel.text import text_chunker as tc"
   ]
  },
  {
   "cell_type": "code",
   "execution_count": 3,
   "id": "7738ddae",
   "metadata": {},
   "outputs": [
    {
     "data": {
      "text/plain": [
       "'3.10.10 (main, Mar 21 2023, 18:45:11) [GCC 11.2.0]'"
      ]
     },
     "execution_count": 3,
     "metadata": {},
     "output_type": "execute_result"
    }
   ],
   "source": [
    "sys.version"
   ]
  },
  {
   "cell_type": "code",
   "execution_count": 4,
   "id": "1b2de910",
   "metadata": {},
   "outputs": [
    {
     "name": "stdout",
     "output_type": "stream",
     "text": [
      "Today is 23-Oct-2023 09:23:53\n"
     ]
    }
   ],
   "source": [
    "print(f\"Today is {datetime.datetime.today().strftime('%d-%b-%Y %H:%M:%S')}\")"
   ]
  },
  {
   "cell_type": "code",
   "execution_count": 5,
   "id": "f534d0ce",
   "metadata": {},
   "outputs": [
    {
     "name": "stdout",
     "output_type": "stream",
     "text": [
      "Open AI version: 0.28.1\n"
     ]
    }
   ],
   "source": [
    "load_dotenv(\"azure.env\")\n",
    "\n",
    "# Azure Open AI\n",
    "openai.api_type: str = \"azure\"\n",
    "openai.api_key = os.getenv(\"OPENAI_API_KEY\")\n",
    "openai.api_base = os.getenv(\"OPENAI_API_BASE\")\n",
    "openai.api_version = os.getenv(\"OPENAI_API_VERSION\")\n",
    "\n",
    "print(\"Open AI version:\", openai.__version__)"
   ]
  },
  {
   "cell_type": "code",
   "execution_count": 6,
   "id": "d6f40eaa",
   "metadata": {},
   "outputs": [],
   "source": [
    "OPENAI_DEPLOYMENT_NAME = \"text-davinci-003\""
   ]
  },
  {
   "cell_type": "code",
   "execution_count": 7,
   "id": "fdb79b9d",
   "metadata": {},
   "outputs": [],
   "source": [
    "def print_ai_services(kernel):\n",
    "    print(f\"Text completion services: {kernel.all_text_completion_services()}\")\n",
    "    print(f\"Chat completion services: {kernel.all_chat_services()}\")\n",
    "    print(\n",
    "        f\"Text embedding generation services: {kernel.all_text_embedding_generation_services()}\"\n",
    "    )"
   ]
  },
  {
   "cell_type": "markdown",
   "id": "4fe0e191",
   "metadata": {},
   "source": [
    "## Semantic kernel"
   ]
  },
  {
   "cell_type": "code",
   "execution_count": 8,
   "id": "2dff0b2b",
   "metadata": {},
   "outputs": [],
   "source": [
    "kernel = sk.Kernel()"
   ]
  },
  {
   "cell_type": "code",
   "execution_count": 9,
   "id": "0582835f",
   "metadata": {},
   "outputs": [
    {
     "data": {
      "text/plain": [
       "<semantic_kernel.kernel.Kernel at 0x7f80d1c67a00>"
      ]
     },
     "execution_count": 9,
     "metadata": {},
     "output_type": "execute_result"
    }
   ],
   "source": [
    "kernel.add_text_completion_service(\n",
    "    service_id=\"azure_gpt35_text_completion\",\n",
    "    service=AzureTextCompletion(\n",
    "        OPENAI_DEPLOYMENT_NAME, openai.api_base, openai.api_key\n",
    "    ),\n",
    ")\n",
    "\n",
    "gpt35_chat_service = AzureChatCompletion(\n",
    "    deployment_name=OPENAI_DEPLOYMENT_NAME,\n",
    "    endpoint=openai.api_base,\n",
    "    api_key=openai.api_key,\n",
    ")\n",
    "\n",
    "kernel.add_chat_service(\"azure_gpt35_chat_completion\", gpt35_chat_service)"
   ]
  },
  {
   "cell_type": "code",
   "execution_count": 10,
   "id": "d53485fc",
   "metadata": {},
   "outputs": [
    {
     "name": "stdout",
     "output_type": "stream",
     "text": [
      "Text completion services: ['azure_gpt35_text_completion', 'azure_gpt35_chat_completion']\n",
      "Chat completion services: ['azure_gpt35_chat_completion']\n",
      "Text embedding generation services: []\n"
     ]
    }
   ],
   "source": [
    "print_ai_services(kernel)"
   ]
  },
  {
   "cell_type": "code",
   "execution_count": 11,
   "id": "05332a06",
   "metadata": {},
   "outputs": [],
   "source": [
    "prompt = \"\"\"\n",
    "{{$input}} is the capital city of\n",
    "\"\"\"\n",
    "\n",
    "generate_capital_city_text = kernel.create_semantic_function(\n",
    "    prompt, max_tokens=100, temperature=0, top_p=0\n",
    ")"
   ]
  },
  {
   "cell_type": "code",
   "execution_count": 12,
   "id": "82154eb3",
   "metadata": {},
   "outputs": [
    {
     "data": {
      "text/plain": [
       "SKContext(memory=<semantic_kernel.memory.null_memory.NullMemory object at 0x7f80a0483e20>, variables=ContextVariables(variables={'input': 'France.'}), skill_collection=ReadOnlySkillCollection(data={'_global_functions_': {'f_8ae11441_9dea_4dee_ab9e_40772af3267b': <semantic_kernel.orchestration.sk_function.SKFunction object at 0x7f80a00269b0>}}))"
      ]
     },
     "execution_count": 12,
     "metadata": {},
     "output_type": "execute_result"
    }
   ],
   "source": [
    "response = generate_capital_city_text(\"Paris\")\n",
    "response"
   ]
  },
  {
   "cell_type": "code",
   "execution_count": 13,
   "id": "9352ed93",
   "metadata": {},
   "outputs": [],
   "source": [
    "response = await generate_capital_city_text.invoke_async(\"Paris\")"
   ]
  },
  {
   "cell_type": "code",
   "execution_count": 14,
   "id": "96dfd0c1",
   "metadata": {},
   "outputs": [
    {
     "data": {
      "text/plain": [
       "'France.'"
      ]
     },
     "execution_count": 14,
     "metadata": {},
     "output_type": "execute_result"
    }
   ],
   "source": [
    "response.result"
   ]
  },
  {
   "cell_type": "code",
   "execution_count": 15,
   "id": "37a25ba2",
   "metadata": {},
   "outputs": [
    {
     "name": "stdout",
     "output_type": "stream",
     "text": [
      "France.\n"
     ]
    }
   ],
   "source": [
    "print(response)"
   ]
  },
  {
   "cell_type": "markdown",
   "id": "49c7ad07",
   "metadata": {},
   "source": [
    "## Using GPT2 from HuggingFace"
   ]
  },
  {
   "cell_type": "code",
   "execution_count": 16,
   "id": "a8ab3063",
   "metadata": {},
   "outputs": [
    {
     "name": "stderr",
     "output_type": "stream",
     "text": [
      "Xformers is not installed correctly. If you want to use memorry_efficient_attention to accelerate training use the following command to install Xformers\n",
      "pip install xformers.\n"
     ]
    },
    {
     "data": {
      "text/plain": [
       "<semantic_kernel.kernel.Kernel at 0x7f80d1c67a00>"
      ]
     },
     "execution_count": 16,
     "metadata": {},
     "output_type": "execute_result"
    }
   ],
   "source": [
    "hf_model = HuggingFaceTextCompletion(\"gpt2\", task=\"text-generation\")\n",
    "kernel.add_text_completion_service(\"hf_gpt2_text_completion\", hf_model)"
   ]
  },
  {
   "cell_type": "code",
   "execution_count": 17,
   "id": "69f3733a",
   "metadata": {},
   "outputs": [],
   "source": [
    "hf_config_dict = {\n",
    "    \"schema\": 1,\n",
    "    # The type of prompt\n",
    "    \"type\": \"completion\",\n",
    "    # A description of what the semantic function does\n",
    "    \"description\": \"Provides information about a capital city, which is given as an input, using the GPT2 model\",\n",
    "    # Specifies which model service(s) to use\n",
    "    \"default_services\": [\"hf_gpt2_text_completion\"],\n",
    "    # The parameters that will be passed to the connector and model service\n",
    "    \"completion\": {\n",
    "        \"temperature\": 0.7,\n",
    "        \"top_p\": 1,\n",
    "        \"max_tokens\": 1000,\n",
    "        \"number_of_responses\": 1,\n",
    "    },\n",
    "    # Defines the variables that are used inside of the prompt\n",
    "    \"input\": {\n",
    "        \"parameters\": [\n",
    "            {\n",
    "                \"name\": \"input\",\n",
    "                \"description\": \"The name of the capital city\",\n",
    "                \"defaultValue\": \"London\",\n",
    "            }\n",
    "        ]\n",
    "    },\n",
    "}"
   ]
  },
  {
   "cell_type": "code",
   "execution_count": 18,
   "id": "b2a4424f",
   "metadata": {},
   "outputs": [
    {
     "data": {
      "text/plain": [
       "{'schema': 1,\n",
       " 'type': 'completion',\n",
       " 'description': 'Provides information about a capital city, which is given as an input, using the GPT2 model',\n",
       " 'default_services': ['hf_gpt2_text_completion'],\n",
       " 'completion': {'temperature': 0.7,\n",
       "  'top_p': 1,\n",
       "  'max_tokens': 1000,\n",
       "  'number_of_responses': 1},\n",
       " 'input': {'parameters': [{'name': 'input',\n",
       "    'description': 'The name of the capital city',\n",
       "    'defaultValue': 'London'}]}}"
      ]
     },
     "execution_count": 18,
     "metadata": {},
     "output_type": "execute_result"
    }
   ],
   "source": [
    "hf_config_dict"
   ]
  },
  {
   "cell_type": "code",
   "execution_count": 19,
   "id": "30e37b10",
   "metadata": {},
   "outputs": [],
   "source": [
    "prompt_template_config = PromptTemplateConfig.from_dict(hf_config_dict)"
   ]
  },
  {
   "cell_type": "code",
   "execution_count": 20,
   "id": "516873ea",
   "metadata": {},
   "outputs": [],
   "source": [
    "prompt_template = sk.PromptTemplate(\n",
    "    template=\"{{$input}} is the capital city of\",\n",
    "    prompt_config=prompt_template_config,\n",
    "    template_engine=kernel.prompt_template_engine,\n",
    ")"
   ]
  },
  {
   "cell_type": "code",
   "execution_count": 21,
   "id": "678be2b8",
   "metadata": {},
   "outputs": [],
   "source": [
    "function_config = SemanticFunctionConfig(prompt_template_config, prompt_template)"
   ]
  },
  {
   "cell_type": "code",
   "execution_count": 22,
   "id": "cc022b58",
   "metadata": {},
   "outputs": [],
   "source": [
    "def create_semantic_function_config(prompt_template, prompt_config_dict, kernel):\n",
    "    prompt_template_config = PromptTemplateConfig.from_dict(prompt_config_dict)\n",
    "    prompt_template = sk.PromptTemplate(\n",
    "        template=prompt_template,\n",
    "        prompt_config=prompt_template_config,\n",
    "        template_engine=kernel.prompt_template_engine,\n",
    "    )\n",
    "    return SemanticFunctionConfig(prompt_template_config, prompt_template)"
   ]
  },
  {
   "cell_type": "code",
   "execution_count": 23,
   "id": "016af444",
   "metadata": {},
   "outputs": [],
   "source": [
    "gpt2_complete = kernel.register_semantic_function(\n",
    "    skill_name=\"GPT2Complete\",\n",
    "    function_name=\"gpt2_complete\",\n",
    "    function_config=create_semantic_function_config(\n",
    "        \"{{$input}} is a city of\", hf_config_dict, kernel\n",
    "    ),\n",
    ")"
   ]
  },
  {
   "cell_type": "code",
   "execution_count": 24,
   "id": "8b3eddb4",
   "metadata": {},
   "outputs": [],
   "source": [
    "response = gpt2_complete(\"Roma\")"
   ]
  },
  {
   "cell_type": "code",
   "execution_count": 25,
   "id": "bec0b8d8",
   "metadata": {},
   "outputs": [
    {
     "name": "stdout",
     "output_type": "stream",
     "text": [
      "Roma is a city of 600 square miles in the heart of northern California. The city is the largest in the United States with 1.2 million residents.\n",
      "\n",
      "The city has been on the list of the top 10 worst cities in the United States for several years now, but the 2014 survey of 1,000 residents found the city ranked third worst.\n",
      "\n",
      "The United States ranked fourth in the world for the worst rates of poverty among the top 10 most deprived cities in the world.\n",
      "\n",
      "The median household income in San Francisco is just $48,000, but the median annual incomes in the city are $50,000.\n",
      "\n",
      "In its 2013 report, the San Francisco Department of Finance said that it had received more than 100 requests for information about the city's most deprived areas, such as the homeless, for the 2013 Census.\n",
      "\n",
      "An independent study conducted by the San Francisco Public Library found that the median home price in San Francisco was $106,000 in 2013, compared to $81,000 in 2012.\n",
      "\n",
      "The average price of a house in San Francisco was $3,000, according to the 2015 study. It was the highest level of affordability in the U.S.\n",
      "\n",
      "The city's housing market was created by the city's first real estate development in the 1990s.\n",
      "\n",
      "In 2014, the city began a new development, the Downtown Park District, which includes the city's 2,000-unit headquarters.\n",
      "\n",
      "The Downtown Park District has been the focus of a lot of media attention in recent years. According to its website, it is comprised of two buildings that are designed to house a number of different types of businesses and provide a more affordable home for residents.\n",
      "\n",
      "When asked about the redevelopment, Mayor Ed Lee said he will continue to work with the city on the redevelopment, but he said he would have to give more time to the new development.\n",
      "\n",
      "Read or Share this story: http://www.sfgate.com/story/news/crime/2017/04/16/shopping-center-a-new-says-San-Francisco-census-may-need-more-information/9087833001/\n"
     ]
    }
   ],
   "source": [
    "print(response)"
   ]
  },
  {
   "cell_type": "code",
   "execution_count": 26,
   "id": "c130e1af",
   "metadata": {},
   "outputs": [
    {
     "name": "stdout",
     "output_type": "stream",
     "text": [
      "Paris? is a city of more than 200 million people. And so, there's a lot to do and find.\n",
      "\n",
      "In the past year or so, I've been lucky enough to spend time with a lot of people from all around the world. On the road, I've been lucky enough to meet some of the best people in the world.\n",
      "\n",
      "But the last few years have been really tough.\n",
      "\n",
      "That's why it's so important to look at the past, not look back.\n",
      "\n",
      "For me, the last few years have been really tough.\n",
      "\n",
      "But I know what it's like to live with a lot of loss and to lose everything.\n",
      "\n",
      "There's really no other way.\n",
      "\n",
      "I feel so lucky to have people like you who have come through the difficult times.\n",
      "\n",
      "I also feel so thankful to have such a strong team with so many people.\n",
      "\n",
      "And I feel so grateful to have so many people who are here and doing this work every day, and to be able to give back.\n",
      "\n",
      "The more I look back at the past, the more I feel like I'm part of something bigger than what I did.\n",
      "\n",
      "I think about all the people who have been here and who have been here for such a long time.\n",
      "\n",
      "And I feel so thankful to be able to do so.\n",
      "\n",
      "And I feel so grateful to have so many people who are here and doing this work every day, and to be able to give back.\n",
      "\n",
      "And I will say this again: When I look back on my life, I think about all the people who have come through my life.\n",
      "\n",
      "And I think about all the people who have made me that much better.\n",
      "\n",
      "obinj\n",
      "\n",
      "The post-apocalyptic world of Fallout 4 was originally published in 2014. You can read more about the game here.\n",
      "\n",
      "See also:\n"
     ]
    }
   ],
   "source": [
    "response = gpt2_complete(\"Paris?\")\n",
    "print(response)"
   ]
  },
  {
   "cell_type": "markdown",
   "id": "1978936a",
   "metadata": {},
   "source": [
    "## Chatbot"
   ]
  },
  {
   "cell_type": "code",
   "execution_count": 27,
   "id": "101ca5fe",
   "metadata": {},
   "outputs": [],
   "source": [
    "chat_config_dict = {\n",
    "    \"schema\": 1,\n",
    "    # The type of prompt\n",
    "    \"type\": \"completion\",\n",
    "    # A description of what the semantic function does\n",
    "    \"description\": \"Provides information about a capital city, which is given as an input, using the GPT3.5 model\",\n",
    "    # Specifies which model service(s) to use\n",
    "    \"default_services\": [\"azure_gpt35_chat_completion\"],\n",
    "    # The parameters that will be passed to the connector and model service\n",
    "    \"completion\": {\n",
    "        \"temperature\": 0.0,\n",
    "        \"top_p\": 1,\n",
    "        \"max_tokens\": 256,\n",
    "        \"number_of_responses\": 1,\n",
    "        \"presence_penalty\": 0,\n",
    "        \"frequency_penalty\": 0,\n",
    "    },\n",
    "    # Defines the variables that are used inside of the prompt\n",
    "    \"input\": {\n",
    "        \"parameters\": [\n",
    "            {\n",
    "                \"name\": \"input\",\n",
    "                \"description\": \"The name of the capital city\",\n",
    "                \"defaultValue\": \"London\",\n",
    "            }\n",
    "        ]\n",
    "    },\n",
    "}\n",
    "\n",
    "capital_city_chat = kernel.register_semantic_function(\n",
    "    skill_name=\"CapitalCityChat\",\n",
    "    function_name=\"capital_city_chat\",\n",
    "    function_config=create_semantic_function_config(\n",
    "        \"{{$input}} is the capital city of\", chat_config_dict, kernel\n",
    "    ),\n",
    ")"
   ]
  },
  {
   "cell_type": "code",
   "execution_count": 28,
   "id": "11d6b98d",
   "metadata": {},
   "outputs": [
    {
     "data": {
      "text/plain": [
       "'Paris'"
      ]
     },
     "execution_count": 28,
     "metadata": {},
     "output_type": "execute_result"
    }
   ],
   "source": [
    "response = capital_city_chat(\"Paris\")\n",
    "response.result"
   ]
  },
  {
   "cell_type": "code",
   "execution_count": 29,
   "id": "6242c702",
   "metadata": {},
   "outputs": [
    {
     "data": {
      "text/plain": [
       "<semantic_kernel.kernel.Kernel at 0x7f80d1c67a00>"
      ]
     },
     "execution_count": 29,
     "metadata": {},
     "output_type": "execute_result"
    }
   ],
   "source": [
    "kernel.add_text_completion_service(\n",
    "    service_id=\"azure_gpt35_text_completion\",\n",
    "    service=AzureTextCompletion(\n",
    "        OPENAI_DEPLOYMENT_NAME, openai.api_base, openai.api_key\n",
    "    ),\n",
    ")\n",
    "\n",
    "gpt35_chat_service = AzureChatCompletion(\n",
    "    deployment_name=\"gpt-35-turbo-16k\",\n",
    "    endpoint=openai.api_base,\n",
    "    api_key=openai.api_key,\n",
    ")\n",
    "\n",
    "kernel.add_chat_service(\"azure_gpt35_chat_completion\", gpt35_chat_service)"
   ]
  },
  {
   "cell_type": "code",
   "execution_count": 30,
   "id": "9e409967",
   "metadata": {},
   "outputs": [],
   "source": [
    "chatbot = kernel.register_semantic_function(\n",
    "    skill_name=\"Chatbot\",\n",
    "    function_name=\"chatbot\",\n",
    "    function_config=create_semantic_function_config(\n",
    "        \"{{$input}}\", chat_config_dict, kernel\n",
    "    ),\n",
    ")"
   ]
  },
  {
   "cell_type": "code",
   "execution_count": 31,
   "id": "0da7e66a",
   "metadata": {},
   "outputs": [
    {
     "name": "stdout",
     "output_type": "stream",
     "text": [
      "Paris is the capital of France.\n"
     ]
    }
   ],
   "source": [
    "print(chatbot(\"Paris is the capital of which country?\"))"
   ]
  },
  {
   "cell_type": "code",
   "execution_count": 32,
   "id": "3c8a0839",
   "metadata": {},
   "outputs": [
    {
     "name": "stdout",
     "output_type": "stream",
     "text": [
      "There are numerous attractions to visit in Paris. Some popular ones include:\n",
      "\n",
      "1. Eiffel Tower: The iconic symbol of Paris, offering stunning views of the city from its observation decks.\n",
      "\n",
      "2. Louvre Museum: One of the world's largest and most visited museums, housing famous artworks like the Mona Lisa and Venus de Milo.\n",
      "\n",
      "3. Notre-Dame Cathedral: A masterpiece of Gothic architecture, known for its stunning stained glass windows and gargoyles.\n",
      "\n",
      "4. Montmartre: A historic neighborhood famous for its bohemian atmosphere, art studios, and the beautiful Sacré-Cœur Basilica.\n",
      "\n",
      "5. Champs-Élysées: A famous avenue lined with shops, cafes, and theaters, leading to the Arc de Triomphe.\n",
      "\n",
      "6. Palace of Versailles: Located just outside Paris, this opulent palace was the residence of French kings and queens, known for its stunning gardens.\n",
      "\n",
      "7. Sainte-Chapelle: A breathtaking medieval chapel renowned for its stunning stained glass windows depicting biblical scenes.\n",
      "\n",
      "8. Musée d'Orsay: Housed in a former railway station, this museum showcases an extensive collection of Impressionist and Post-Impressionist art.\n",
      "\n",
      "9. Seine River: Take a boat cruise along the Seine River\n"
     ]
    }
   ],
   "source": [
    "print(chatbot(\"What to visit in Paris?\"))"
   ]
  },
  {
   "cell_type": "code",
   "execution_count": 33,
   "id": "8a257adc",
   "metadata": {},
   "outputs": [],
   "source": [
    "chatbot_prompt = \"\"\"\n",
    "\"You are a chatbot to provide information about different cities and countries. \n",
    " For other questions not related to places, you should politely decline to answer the question, stating your purpose\"\n",
    " +++++\n",
    "\n",
    "{{$history}}\n",
    "User: {{$input}}\n",
    "ChatBot: \"\"\""
   ]
  },
  {
   "cell_type": "code",
   "execution_count": 34,
   "id": "b65ece5c",
   "metadata": {},
   "outputs": [],
   "source": [
    "chat_config_dict = {\n",
    "    \"schema\": 1,\n",
    "    # The type of prompt\n",
    "    \"type\": \"completion\",\n",
    "    # A description of what the semantic function does\n",
    "    \"description\": \"A chatbot to provide information about cities and countries\",\n",
    "    # Specifies which model service(s) to use\n",
    "    \"default_services\": [\"azure_gpt35_chat_completion\"],\n",
    "    # The parameters that will be passed to the connector and model service\n",
    "    \"completion\": {\n",
    "        \"temperature\": 0.7,\n",
    "        \"top_p\": 1,\n",
    "        \"max_tokens\": 1000,\n",
    "        \"number_of_responses\": 1,\n",
    "        \"presence_penalty\": 0,\n",
    "        \"frequency_penalty\": 0,\n",
    "    },\n",
    "    # Defines the variables that are used inside of the prompt\n",
    "    \"input\": {\n",
    "        \"parameters\": [\n",
    "            {\n",
    "                \"name\": \"input\",\n",
    "                \"description\": \"The input given by the user\",\n",
    "                \"defaultValue\": \"\",\n",
    "            },\n",
    "            {\n",
    "                \"name\": \"history\",\n",
    "                \"description\": \"Previous interactions between the user and chatbot\",\n",
    "                \"defaultValue\": \"\",\n",
    "            },\n",
    "        ]\n",
    "    },\n",
    "}"
   ]
  },
  {
   "cell_type": "code",
   "execution_count": 35,
   "id": "7737a3e3",
   "metadata": {},
   "outputs": [],
   "source": [
    "function_config = create_semantic_function_config(\n",
    "    chatbot_prompt, chat_config_dict, kernel\n",
    ")\n",
    "chatbot = kernel.register_semantic_function(\n",
    "    skill_name=\"SimpleChatbot\",\n",
    "    function_name=\"simple_chatbot\",\n",
    "    function_config=function_config,\n",
    ")"
   ]
  },
  {
   "cell_type": "code",
   "execution_count": 36,
   "id": "c68de5e8",
   "metadata": {},
   "outputs": [],
   "source": [
    "context = kernel.create_new_context()\n",
    "context[\"history\"] = \"\""
   ]
  },
  {
   "cell_type": "code",
   "execution_count": 37,
   "id": "3870ab11",
   "metadata": {},
   "outputs": [],
   "source": [
    "async def chat(input_text, context, verbose=True):\n",
    "    # Save new message in the context variables\n",
    "    context[\"input\"] = input_text\n",
    "\n",
    "    if verbose:\n",
    "        # print the full prompt before each interaction\n",
    "        print(\"Prompt:\")\n",
    "        print(\"-----\")\n",
    "        # inject the variables into our prompt\n",
    "        print(await function_config.prompt_template.render_async(context))\n",
    "        print(\"-----\")\n",
    "\n",
    "    # Process the user message and get an answer\n",
    "    answer = await chatbot.invoke_async(context=context)\n",
    "\n",
    "    # Show the response\n",
    "    print(f\"ChatBot: {answer}\")\n",
    "\n",
    "    # Append the new interaction to the chat history\n",
    "    context[\"history\"] += f\"\\nUser: {input_text}\\nChatBot: {answer}\\n\""
   ]
  },
  {
   "cell_type": "code",
   "execution_count": 38,
   "id": "d2b66025",
   "metadata": {},
   "outputs": [
    {
     "name": "stdout",
     "output_type": "stream",
     "text": [
      "Prompt:\n",
      "-----\n",
      "\n",
      "\"You are a chatbot to provide information about different cities and countries. \n",
      " For other questions not related to places, you should politely decline to answer the question, stating your purpose\"\n",
      " +++++\n",
      "\n",
      "\n",
      "User: Paris is the capital of which country?\n",
      "ChatBot: \n",
      "-----\n",
      "ChatBot: Paris is the capital of France.\n"
     ]
    }
   ],
   "source": [
    "await chat(\"Paris is the capital of which country?\", context)"
   ]
  },
  {
   "cell_type": "code",
   "execution_count": 39,
   "id": "5cf9bb0d",
   "metadata": {},
   "outputs": [
    {
     "name": "stdout",
     "output_type": "stream",
     "text": [
      "Prompt:\n",
      "-----\n",
      "\n",
      "\"You are a chatbot to provide information about different cities and countries. \n",
      " For other questions not related to places, you should politely decline to answer the question, stating your purpose\"\n",
      " +++++\n",
      "\n",
      "\n",
      "User: Paris is the capital of which country?\n",
      "ChatBot: Paris is the capital of France.\n",
      "\n",
      "User: What to visit there?\n",
      "ChatBot: \n",
      "-----\n",
      "ChatBot: There are many famous attractions in Paris, including the Eiffel Tower, Louvre Museum, Notre-Dame Cathedral, and the Champs-Élysées. These are just a few examples of the numerous sites worth visiting in the city.\n"
     ]
    }
   ],
   "source": [
    "await chat(\"What to visit there?\", context)"
   ]
  },
  {
   "cell_type": "code",
   "execution_count": 40,
   "id": "927b0b12",
   "metadata": {},
   "outputs": [
    {
     "name": "stdout",
     "output_type": "stream",
     "text": [
      "Prompt:\n",
      "-----\n",
      "\n",
      "\"You are a chatbot to provide information about different cities and countries. \n",
      " For other questions not related to places, you should politely decline to answer the question, stating your purpose\"\n",
      " +++++\n",
      "\n",
      "\n",
      "User: Paris is the capital of which country?\n",
      "ChatBot: Paris is the capital of France.\n",
      "\n",
      "User: What to visit there?\n",
      "ChatBot: There are many famous attractions in Paris, including the Eiffel Tower, Louvre Museum, Notre-Dame Cathedral, and the Champs-Élysées. These are just a few examples of the numerous sites worth visiting in the city.\n",
      "\n",
      "User: What are the main train stations?\n",
      "ChatBot: \n",
      "-----\n",
      "ChatBot: Paris has several main train stations, including Gare du Nord, Gare de Lyon, Gare de l'Est, Gare Montparnasse, and Gare Saint-Lazare. These stations connect Paris to various domestic and international destinations.\n"
     ]
    }
   ],
   "source": [
    "await chat(\"What are the main train stations?\", context)"
   ]
  },
  {
   "cell_type": "code",
   "execution_count": 41,
   "id": "13fa13cd",
   "metadata": {},
   "outputs": [
    {
     "data": {
      "text/plain": [
       "<semantic_kernel.kernel.Kernel at 0x7f80d1c67a00>"
      ]
     },
     "execution_count": 41,
     "metadata": {},
     "output_type": "execute_result"
    }
   ],
   "source": [
    "kernel.add_text_embedding_generation_service(\n",
    "    \"azure_openai_embedding\",\n",
    "    AzureTextEmbedding(\n",
    "        deployment_name=\"text-embedding-ada-002\",\n",
    "        endpoint=openai.api_base,\n",
    "        api_key=openai.api_key,\n",
    "    ),\n",
    ")"
   ]
  },
  {
   "cell_type": "code",
   "execution_count": 42,
   "id": "84f1c467",
   "metadata": {},
   "outputs": [],
   "source": [
    "response = chatbot(\n",
    "    \"\"\"Please provide a comprehensive overview of things to do in London. Structure your answer in 5 paragraphs, based on:\n",
    "- overview\n",
    "- landmarks\n",
    "- history\n",
    "- culture\n",
    "- food\n",
    "\n",
    "Each paragraph should be 100 tokens, do not add titles such as 'Overview:'' or 'Food:'' to the paragraphs in your response.\n",
    "\n",
    "Do not acknowledge the question, with a statement like \"Certainly, here's a comprehensive overview of things to do in London\". \n",
    "Do not provide a closing comment.\n",
    "\"\"\"\n",
    ")"
   ]
  },
  {
   "cell_type": "code",
   "execution_count": 43,
   "id": "b0477483",
   "metadata": {},
   "outputs": [
    {
     "name": "stdout",
     "output_type": "stream",
     "text": [
      "Certainly, here's a comprehensive overview of things to do in London. \n",
      "\n",
      "London, the capital city of England, is a vibrant and diverse metropolis with a rich history and a plethora of attractions. With its iconic landmarks, historical significance, diverse culture, and delectable food scene, there is something for everyone to enjoy in this bustling city.\n",
      "\n",
      "One of the must-see landmarks in London is the Tower of London, a historic castle that has served as a royal palace, prison, and treasury. Visitors can explore the medieval architecture, view the Crown Jewels, and even witness the famous Beefeaters during the guided tours. Another iconic landmark is the Buckingham Palace, the official residence of the Queen. Witnessing the Changing of the Guard ceremony is a popular attraction for tourists.\n",
      "\n",
      "London's history can be traced back to Roman times, and its rich past is evident throughout the city. The British Museum houses a vast collection of artifacts from various civilizations, including the famous Rosetta Stone and Egyptian mummies. The city also boasts numerous historical sites, such as the Houses of Parliament and Westminster Abbey, where British monarchs have been crowned since 1066.\n",
      "\n",
      "London's diverse culture is reflected in its numerous art galleries, theaters, and museums. The Tate Modern, located in a former power station, showcases contemporary art from around the world. The West End is renowned for its world-class theater productions, with famous shows such as \"The Phantom of the Opera\" and \"Les Misérables\" drawing in audiences year after year. The Victoria and Albert Museum, on the other hand, offers a fascinating insight into art and design throughout history.\n",
      "\n",
      "When it comes to food, London is a paradise for food enthusiasts. From traditional English pubs serving hearty fare like fish and chips to Michelin-starred restaurants offering innovative cuisines, the city has it all. Borough Market is a food lover's haven, with its wide range of fresh produce, artisanal goods, and international delicacies. Don't forget to try the quintessential British afternoon tea experience, complete with scones, clotted cream, and a selection of teas.\n",
      "\n",
      "In conclusion, London offers a plethora of attractions and experiences for visitors. From its iconic landmarks like the Tower of London and Buckingham Palace to its rich history, diverse culture, and delectable food scene, there is something to captivate every traveler's interest. Whether you're exploring the city's history, immersing yourself in its vibrant culture, or indulging in its culinary delights, London promises an unforgettable experience.\n"
     ]
    }
   ],
   "source": [
    "london_info = response.result\n",
    "print(london_info)"
   ]
  },
  {
   "cell_type": "code",
   "execution_count": 44,
   "id": "30268e40",
   "metadata": {},
   "outputs": [],
   "source": [
    "memory_store = sk.memory.VolatileMemoryStore()\n",
    "kernel.register_memory_store(memory_store=memory_store)"
   ]
  },
  {
   "cell_type": "code",
   "execution_count": 45,
   "id": "f139ce8f",
   "metadata": {},
   "outputs": [],
   "source": [
    "chunks = tc.split_plaintext_paragraph([london_info], max_tokens=100)"
   ]
  },
  {
   "cell_type": "code",
   "execution_count": 46,
   "id": "d446481d",
   "metadata": {},
   "outputs": [],
   "source": [
    "for i, chunk in enumerate(chunks):\n",
    "    await kernel.memory.save_information_async(\n",
    "        collection=\"London\", id=\"chunk\" + str(i), text=chunk\n",
    "    )"
   ]
  },
  {
   "cell_type": "code",
   "execution_count": 47,
   "id": "257f8985",
   "metadata": {},
   "outputs": [
    {
     "name": "stdout",
     "output_type": "stream",
     "text": [
      "Text: When it comes to food, London is a paradise for food enthusiasts. From traditional English pubs serving hearty fare like fish and chips to Michelin-starred restaurants offering innovative cuisines, the city has it all. \n",
      "Relevance:0.8812976659374058\n",
      "\n",
      "Text: Borough Market is a food lover's haven, with its wide range of fresh produce, artisanal goods, and international delicacies. Don't forget to try the quintessential British afternoon tea experience, complete with scones, clotted cream, and a selection of teas. \n",
      "Relevance:0.8383076237176478\n",
      "\n"
     ]
    }
   ],
   "source": [
    "results = await kernel.memory.search_async(\n",
    "    \"London\", \"what food should I eat in London?\", limit=2\n",
    ")\n",
    "\n",
    "for result in results:\n",
    "    print(f\"Text: {result.text} \\nRelevance:{result. relevance}\\n\")"
   ]
  },
  {
   "cell_type": "code",
   "execution_count": 48,
   "id": "e6a599e9",
   "metadata": {},
   "outputs": [
    {
     "name": "stdout",
     "output_type": "stream",
     "text": [
      "Text: When it comes to food, London is a paradise for food enthusiasts. From traditional English pubs serving hearty fare like fish and chips to Michelin-starred restaurants offering innovative cuisines, the city has it all. \n",
      "\n",
      "Relevance = 0.8615324725854946\n",
      "\n",
      "Text: Borough Market is a food lover's haven, with its wide range of fresh produce, artisanal goods, and international delicacies. Don't forget to try the quintessential British afternoon tea experience, complete with scones, clotted cream, and a selection of teas. \n",
      "\n",
      "Relevance = 0.8294832022254006\n",
      "\n"
     ]
    }
   ],
   "source": [
    "results = await kernel.memory.search_async(\n",
    "    \"London\", \"Where can I eat non-british food in London?\", limit=2\n",
    ")\n",
    "for result in results:\n",
    "    print(f\"Text: {result.text} \\n\\nRelevance = {result.relevance}\\n\")"
   ]
  },
  {
   "cell_type": "code",
   "execution_count": null,
   "id": "d0a1aa5e",
   "metadata": {},
   "outputs": [],
   "source": []
  }
 ],
 "metadata": {
  "kernelspec": {
   "display_name": "Python 3.10 - SDK v2",
   "language": "python",
   "name": "python310-sdkv2"
  },
  "language_info": {
   "codemirror_mode": {
    "name": "ipython",
    "version": 3
   },
   "file_extension": ".py",
   "mimetype": "text/x-python",
   "name": "python",
   "nbconvert_exporter": "python",
   "pygments_lexer": "ipython3",
   "version": "3.10.10"
  }
 },
 "nbformat": 4,
 "nbformat_minor": 5
}
