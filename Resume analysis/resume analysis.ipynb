{
 "cells": [
  {
   "cell_type": "markdown",
   "metadata": {},
   "source": [
    "# Resume analysis with Azure Open AI"
   ]
  },
  {
   "cell_type": "code",
   "execution_count": 1,
   "metadata": {},
   "outputs": [],
   "source": [
    "import os\n",
    "import openai\n",
    "import sys\n",
    "\n",
    "from dotenv import load_dotenv"
   ]
  },
  {
   "cell_type": "code",
   "execution_count": 2,
   "metadata": {},
   "outputs": [],
   "source": [
    "load_dotenv(\"azure.env\")\n",
    "\n",
    "openai.api_type: str = \"azure\"\n",
    "openai.api_key = os.getenv(\"OPENAI_API_KEY\")\n",
    "openai.api_base = os.getenv(\"OPENAI_API_BASE\")\n",
    "openai.api_version = os.getenv(\"OPENAI_API_VERSION\")"
   ]
  },
  {
   "cell_type": "code",
   "execution_count": 3,
   "metadata": {},
   "outputs": [
    {
     "data": {
      "text/plain": [
       "'2023-05-15'"
      ]
     },
     "execution_count": 3,
     "metadata": {},
     "output_type": "execute_result"
    }
   ],
   "source": [
    "openai.api_version"
   ]
  },
  {
   "cell_type": "code",
   "execution_count": 4,
   "metadata": {},
   "outputs": [
    {
     "data": {
      "text/plain": [
       "'3.10.10 (main, Mar 21 2023, 18:45:11) [GCC 11.2.0]'"
      ]
     },
     "execution_count": 4,
     "metadata": {},
     "output_type": "execute_result"
    }
   ],
   "source": [
    "sys.version"
   ]
  },
  {
   "cell_type": "code",
   "execution_count": 5,
   "metadata": {},
   "outputs": [],
   "source": [
    "model = \"gpt-35-turbo-16k\""
   ]
  },
  {
   "cell_type": "markdown",
   "metadata": {},
   "source": [
    "## Testing"
   ]
  },
  {
   "cell_type": "code",
   "execution_count": 6,
   "metadata": {},
   "outputs": [],
   "source": [
    "def QnA(prompt):\n",
    "    \"\"\"\n",
    "    QnA with Azure Open AI\n",
    "    \"\"\"\n",
    "    response = openai.ChatCompletion.create(\n",
    "    engine=model,\n",
    "    messages=[\n",
    "        {\"role\": \"user\", \"content\": prompt},\n",
    "    ],\n",
    "    temperature=0.8,\n",
    "    max_tokens=500,\n",
    "    top_p=1,\n",
    "    frequency_penalty=0,\n",
    "    presence_penalty=0,\n",
    "    stop=None,\n",
    "    )\n",
    "    print(response)"
   ]
  },
  {
   "cell_type": "code",
   "execution_count": 7,
   "metadata": {},
   "outputs": [
    {
     "name": "stdout",
     "output_type": "stream",
     "text": [
      "{\n",
      "  \"id\": \"chatcmpl-7w6hvYjG1kFVtCLv1KlHNSG8KZeJO\",\n",
      "  \"object\": \"chat.completion\",\n",
      "  \"created\": 1694083163,\n",
      "  \"model\": \"gpt-35-turbo-16k\",\n",
      "  \"choices\": [\n",
      "    {\n",
      "      \"index\": 0,\n",
      "      \"finish_reason\": \"stop\",\n",
      "      \"message\": {\n",
      "        \"role\": \"assistant\",\n",
      "        \"content\": \"I am an AI language model developed by OpenAI. I am programmed to assist and engage in conversation with users. How may I assist you today?\"\n",
      "      }\n",
      "    }\n",
      "  ],\n",
      "  \"usage\": {\n",
      "    \"completion_tokens\": 30,\n",
      "    \"prompt_tokens\": 11,\n",
      "    \"total_tokens\": 41\n",
      "  }\n",
      "}\n"
     ]
    }
   ],
   "source": [
    "QnA(\"Who are you?\")"
   ]
  },
  {
   "cell_type": "code",
   "execution_count": 8,
   "metadata": {},
   "outputs": [
    {
     "name": "stdout",
     "output_type": "stream",
     "text": [
      "{\n",
      "  \"id\": \"chatcmpl-7w6hxSn20v6NdBjZaM0mrWYPiA5z2\",\n",
      "  \"object\": \"chat.completion\",\n",
      "  \"created\": 1694083165,\n",
      "  \"model\": \"gpt-35-turbo-16k\",\n",
      "  \"choices\": [\n",
      "    {\n",
      "      \"index\": 0,\n",
      "      \"finish_reason\": \"stop\",\n",
      "      \"message\": {\n",
      "        \"role\": \"assistant\",\n",
      "        \"content\": \"Azure Open AI is a cloud-based service provided by Microsoft Azure that allows developers to access and use OpenAI's GPT-3 (Generative Pre-trained Transformer 3) model. GPT-3 is an advanced language processing AI model developed by OpenAI, capable of understanding and generating human-like text. Azure Open AI provides a platform for developers to build applications and solutions that leverage the power of GPT-3 for natural language understanding, conversation, translation, content generation, and more. It offers an API-based interface to integrate GPT-3 capabilities into various applications and services.\"\n",
      "      }\n",
      "    }\n",
      "  ],\n",
      "  \"usage\": {\n",
      "    \"completion_tokens\": 118,\n",
      "    \"prompt_tokens\": 13,\n",
      "    \"total_tokens\": 131\n",
      "  }\n",
      "}\n"
     ]
    }
   ],
   "source": [
    "QnA(\"What is Azure Open AI?\")"
   ]
  },
  {
   "cell_type": "markdown",
   "metadata": {},
   "source": [
    "## Reading the resume"
   ]
  },
  {
   "cell_type": "code",
   "execution_count": 9,
   "metadata": {},
   "outputs": [
    {
     "name": "stdout",
     "output_type": "stream",
     "text": [
      "-rwxrwxrwx 1 root root 1.8K Sep  7 10:39 resume.txt\r\n"
     ]
    }
   ],
   "source": [
    "resume_file = \"resume.txt\"\n",
    "!ls $resume_file -lh"
   ]
  },
  {
   "cell_type": "code",
   "execution_count": 10,
   "metadata": {},
   "outputs": [],
   "source": [
    "with open(resume_file, \"r\") as f:\n",
    "    doc = f.readlines()\n",
    "\n",
    "doc = \" \".join(doc)"
   ]
  },
  {
   "cell_type": "code",
   "execution_count": 11,
   "metadata": {},
   "outputs": [
    {
     "name": "stdout",
     "output_type": "stream",
     "text": [
      "John Water\n",
      " Phone: (123) 456 78 99\n",
      " Email: john.water@hello.com\n",
      " Website: www.johnwater.com\n",
      " Linkedin: https://www.linkedin.com/jwater\n",
      " Address: 25 rue des chantiers 75012 Paris\n",
      " Date of birth: 20-Jan-1986\n",
      " Place of Birth: Versailles\n",
      " Nationality: French\n",
      " \n",
      " \n",
      " Objective\n",
      " Data Scientist with PhD in Physics and 10+ years of industrial experience. Two years of working experience in Data Analysis team of LIGO Scientific Collaboration [$3M Special Breakthrough Prize winner of 2016]. Over ten years of \n"
     ]
    }
   ],
   "source": [
    "print(doc[:500])"
   ]
  },
  {
   "cell_type": "markdown",
   "metadata": {},
   "source": [
    "## Asking questions"
   ]
  },
  {
   "cell_type": "code",
   "execution_count": 12,
   "metadata": {},
   "outputs": [],
   "source": [
    "def resume_qna(document, prompt, model):\n",
    "    \"\"\"\n",
    "    Analysing resume with Azure Open AI\n",
    "    \"\"\"\n",
    "    content = f\"\"\" {document}\n",
    "      \\n###\n",
    "      \\n{prompt}\n",
    "    \"\"\"\n",
    "\n",
    "    messages = [{\"role\": \"user\", \"content\": content}]\n",
    "    \n",
    "    response = openai.ChatCompletion.create(\n",
    "        engine=model,\n",
    "        messages=messages,\n",
    "        temperature=0,\n",
    "        max_tokens=800,\n",
    "        top_p=1,\n",
    "        frequency_penalty=0,\n",
    "        presence_penalty=0,\n",
    "        stop=\"###\",\n",
    "    )\n",
    "\n",
    "    return response"
   ]
  },
  {
   "cell_type": "code",
   "execution_count": 13,
   "metadata": {},
   "outputs": [
    {
     "name": "stdout",
     "output_type": "stream",
     "text": [
      "\u001b[1;31;34mAnswer:\n",
      "\n",
      " {\n",
      "  \"name\": \"John Water\",\n",
      "  \"phone\": \"(123) 456 78 99\",\n",
      "  \"email\": \"john.water@hello.com\",\n",
      "  \"website\": \"www.johnwater.com\",\n",
      "  \"linkedin\": \"https://www.linkedin.com/jwater\",\n",
      "  \"address\": \"25 rue des chantiers 75012 Paris\",\n",
      "  \"date_of_birth\": \"20-Jan-1986\",\n",
      "  \"place_of_birth\": \"Versailles\",\n",
      "  \"nationality\": \"French\",\n",
      "  \"objective\": \"Data Scientist with PhD in Physics and 10+ years of industrial experience. Two years of working experience in Data Analysis team of LIGO Scientific Collaboration [$3M Special Breakthrough Prize winner of 2016]. Over ten years of successful research experience in both theoretical and datascience. Strong problem-solving and analytical skills. Advanced programming proficiency. Certified in Data Analysis and Machine Learning on Azure and AWS services.\",\n",
      "  \"skills\": \"Azure, Azure AI, Azure ML, Data Mining, Data Analysis, Machine Learning, Python, R, MATLAB, Sphinx, Mathematica, Maple, GIT, Azure Custom Vision, Azure Open AI, SPSS, time series.\",\n",
      "  \"work_experience\": [\n",
      "    {\n",
      "      \"title\": \"Data Scientist\",\n",
      "      \"company\": \"ABCD Corporation\",\n",
      "      \"start_date\": \"Jan 2020\",\n",
      "      \"end_date\": \"Sept 2023\",\n",
      "      \"description\": \"Data science manager of ABCD. Managing a team of 10 advanced datascientists.\"\n",
      "    },\n",
      "    {\n",
      "      \"title\": \"Datascience trainer\",\n",
      "      \"company\": \"XYZ Corporation\",\n",
      "      \"start_date\": \"Sept 2015\",\n",
      "      \"end_date\": \"Sept 2019\",\n",
      "      \"description\": \"Datascience trainer manager\"\n",
      "    },\n",
      "    {\n",
      "      \"title\": \"Python programmer\",\n",
      "      \"company\": \"The PyCompany\",\n",
      "      \"start_date\": \"Jan 2008\",\n",
      "      \"end_date\": \"August 2015\",\n",
      "      \"description\": \"Served as an internal resource for Python programming and documentation. Designed and developed small scale deliverables related to the custom study. Responsible for results reporting in the appropriate media and creation of supporting documentation for the client. Monitored products from datascience programs for accuracy, consistency and statistical validity. Designed and applied statistical and mathematical methods for corporate analytics that were implemented into client-facing products. Deep Learning expertise mainly in computer vision with PyTorch.\"\n",
      "    }\n",
      "  ],\n",
      "  \"misc\": \"Guitar, music, programming\"\n",
      "}\n"
     ]
    }
   ],
   "source": [
    "prompt = \"Extract the key sections from the resume above into json.\"\n",
    "\n",
    "answer = resume_qna(doc, prompt, model)\n",
    "print(\"\\033[1;31;34mAnswer:\\n\\n\", answer[\"choices\"][0][\"message\"][\"content\"])"
   ]
  },
  {
   "cell_type": "code",
   "execution_count": 14,
   "metadata": {},
   "outputs": [
    {
     "name": "stdout",
     "output_type": "stream",
     "text": [
      "\u001b[1;31;34mAnswer:\n",
      "\n",
      " This resume belongs to John Water, a data scientist with a PhD in Physics and 10+ years of industrial experience. He has worked on the Data Analysis team of the LIGO Scientific Collaboration and has strong problem-solving and analytical skills. He is proficient in programming languages such as Python and R, and is certified in Data Analysis and Machine Learning on Azure and AWS services.\n"
     ]
    }
   ],
   "source": [
    "prompt = \"Can you describe this resume in 3 lines?\"\n",
    "\n",
    "answer = resume_qna(doc, prompt, model)\n",
    "print(\"\\033[1;31;34mAnswer:\\n\\n\", answer[\"choices\"][0][\"message\"][\"content\"])"
   ]
  },
  {
   "cell_type": "code",
   "execution_count": 15,
   "metadata": {},
   "outputs": [
    {
     "name": "stdout",
     "output_type": "stream",
     "text": [
      "\u001b[1;31;34mAnswer:\n",
      "\n",
      " Oui, le candidat réside à Paris, en France.\n"
     ]
    }
   ],
   "source": [
    "prompt = \"Est-ce que le candidat réside en France? Si oui dans quelle ville?\"\n",
    "\n",
    "answer = resume_qna(doc, prompt, model)\n",
    "print(\"\\033[1;31;34mAnswer:\\n\\n\", answer[\"choices\"][0][\"message\"][\"content\"])"
   ]
  },
  {
   "cell_type": "code",
   "execution_count": 16,
   "metadata": {},
   "outputs": [
    {
     "name": "stdout",
     "output_type": "stream",
     "text": [
      "\u001b[1;31;34mAnswer:\n",
      "\n",
      " 1. Data Scientist\n",
      "2. PhD in Physics\n",
      "3. Data Analysis\n",
      "4. LIGO Scientific Collaboration\n",
      "5. Problem-solving\n",
      "6. Analytical skills\n",
      "7. Programming proficiency\n",
      "8. Azure\n",
      "9. Machine Learning\n",
      "10. Python\n"
     ]
    }
   ],
   "source": [
    "prompt = \"What are the 10 keywords of this resume?\"\n",
    "\n",
    "answer = resume_qna(doc, prompt, model)\n",
    "print(\"\\033[1;31;34mAnswer:\\n\\n\", answer[\"choices\"][0][\"message\"][\"content\"])"
   ]
  },
  {
   "cell_type": "code",
   "execution_count": 17,
   "metadata": {},
   "outputs": [
    {
     "name": "stdout",
     "output_type": "stream",
     "text": [
      "\u001b[1;31;34mAnswer:\n",
      "\n",
      " The location of this candidate is Paris, France.\n"
     ]
    }
   ],
   "source": [
    "prompt = \"What the location of this candidate?\"\n",
    "\n",
    "answer = resume_qna(doc, prompt, model)\n",
    "print(\"\\033[1;31;34mAnswer:\\n\\n\", answer[\"choices\"][0][\"message\"][\"content\"])"
   ]
  },
  {
   "cell_type": "code",
   "execution_count": 18,
   "metadata": {},
   "outputs": [
    {
     "name": "stdout",
     "output_type": "stream",
     "text": [
      "\u001b[1;31;34mAnswer:\n",
      "\n",
      " Yes, the place of birth is Versailles, which is in France.\n"
     ]
    }
   ],
   "source": [
    "prompt = \"What is the place of birth? Is it in France?\"\n",
    "\n",
    "answer = resume_qna(doc, prompt, model)\n",
    "print(\"\\033[1;31;34mAnswer:\\n\\n\", answer[\"choices\"][0][\"message\"][\"content\"])"
   ]
  },
  {
   "cell_type": "code",
   "execution_count": 19,
   "metadata": {},
   "outputs": [
    {
     "name": "stdout",
     "output_type": "stream",
     "text": [
      "\u001b[1;31;34mAnswer:\n",
      "\n",
      " The distance from the location (25 rue des chantiers 75012 Paris) to the place of birth (Versailles) is approximately 17 kilometers.\n"
     ]
    }
   ],
   "source": [
    "prompt = \"What is the distance from the location and the place of birth from this candidate?\"\n",
    "\n",
    "answer = resume_qna(doc, prompt, model)\n",
    "print(\"\\033[1;31;34mAnswer:\\n\\n\", answer[\"choices\"][0][\"message\"][\"content\"])"
   ]
  },
  {
   "cell_type": "code",
   "execution_count": 20,
   "metadata": {},
   "outputs": [
    {
     "name": "stdout",
     "output_type": "stream",
     "text": [
      "\u001b[1;31;34mAnswer:\n",
      "\n",
      " This candidate has worked for three companies. The names of the companies are:\n",
      "\n",
      "1. ABCD Corporation\n",
      "2. XYZ Corporation\n",
      "3. The PyCompany\n"
     ]
    }
   ],
   "source": [
    "prompt = \"How many companies has this candidate worked for? Give the names.\"\n",
    "\n",
    "answer = resume_qna(doc, prompt, model)\n",
    "print(\"\\033[1;31;34mAnswer:\\n\\n\", answer[\"choices\"][0][\"message\"][\"content\"])"
   ]
  },
  {
   "cell_type": "code",
   "execution_count": 21,
   "metadata": {},
   "outputs": [
    {
     "name": "stdout",
     "output_type": "stream",
     "text": [
      "\u001b[1;31;34mAnswer:\n",
      "\n",
      " {\n",
      "  \"name\": \"John Water\",\n",
      "  \"address\": \"25 rue des chantiers 75012 Paris\",\n",
      "  \"email\": \"john.water@hello.com\",\n",
      "  \"linkedin\": \"https://www.linkedin.com/jwater\"\n",
      "}\n"
     ]
    }
   ],
   "source": [
    "prompt = \"What are the people informations (name, address, email, linkedin profile) and display it in a json?\"\n",
    "\n",
    "answer = resume_qna(doc, prompt, model)\n",
    "print(\"\\033[1;31;34mAnswer:\\n\\n\", answer[\"choices\"][0][\"message\"][\"content\"])"
   ]
  },
  {
   "cell_type": "code",
   "execution_count": 22,
   "metadata": {},
   "outputs": [
    {
     "name": "stdout",
     "output_type": "stream",
     "text": [
      "\u001b[1;31;34mAnswer:\n",
      "\n",
      " Yes, there are computer vision skills mentioned in this resume. The candidate states that they have \"Deep Learning expertise mainly in computer vision with PyTorch\" in their role as a Python programmer at The PyCompany. This indicates that they have experience and knowledge in computer vision techniques and have worked with PyTorch, a popular deep learning framework often used for computer vision tasks.\n"
     ]
    }
   ],
   "source": [
    "prompt = \"Do we have some computer vision skills in this resume? Explain.\"\n",
    "\n",
    "answer = resume_qna(doc, prompt, model)\n",
    "print(\"\\033[1;31;34mAnswer:\\n\\n\", answer[\"choices\"][0][\"message\"][\"content\"])"
   ]
  },
  {
   "cell_type": "code",
   "execution_count": 23,
   "metadata": {},
   "outputs": [
    {
     "name": "stdout",
     "output_type": "stream",
     "text": [
      "\u001b[1;31;34mAnswer:\n",
      "\n",
      " Yes\n"
     ]
    }
   ],
   "source": [
    "prompt = \"Do we have some Azure ML skills in this resume? Just answer by Yes or No.\"\n",
    "\n",
    "answer = resume_qna(doc, prompt, model)\n",
    "print(\"\\033[1;31;34mAnswer:\\n\\n\", answer[\"choices\"][0][\"message\"][\"content\"])"
   ]
  },
  {
   "cell_type": "code",
   "execution_count": 24,
   "metadata": {},
   "outputs": [
    {
     "name": "stdout",
     "output_type": "stream",
     "text": [
      "\u001b[1;31;34mAnswer:\n",
      "\n",
      " - ABCD Corporation: 3 years (Jan 2020 - Sept 2023)\n",
      "- XYZ Corporation: 4 years (Sept 2015 - Sept 2019)\n",
      "- The PyCompany: 7 years (Jan 2008 - August 2015)\n"
     ]
    }
   ],
   "source": [
    "prompt = \"How many years of professional experience per company do we have in this resume? Display the dates.\"\n",
    "\n",
    "answer = resume_qna(doc, prompt, model)\n",
    "print(\"\\033[1;31;34mAnswer:\\n\\n\", answer[\"choices\"][0][\"message\"][\"content\"])"
   ]
  },
  {
   "cell_type": "code",
   "execution_count": 25,
   "metadata": {},
   "outputs": [
    {
     "name": "stdout",
     "output_type": "stream",
     "text": [
      "\u001b[1;31;34mAnswer:\n",
      "\n",
      " Azure, Azure AI, Azure Custom Vision, Azure ML, Azure Open AI, Data Analysis, Data Mining, GIT, Machine Learning, Maple, MATLAB, Python, R, Sphinx, SPSS, time series\n"
     ]
    }
   ],
   "source": [
    "prompt = \"List all the skills mentionned by alphabetical order.\"\n",
    "\n",
    "answer = resume_qna(doc, prompt, model)\n",
    "print(\"\\033[1;31;34mAnswer:\\n\\n\", answer[\"choices\"][0][\"message\"][\"content\"])"
   ]
  },
  {
   "cell_type": "code",
   "execution_count": 26,
   "metadata": {},
   "outputs": [
    {
     "name": "stdout",
     "output_type": "stream",
     "text": [
      "\u001b[1;31;34mAnswer:\n",
      "\n",
      " No.\n"
     ]
    }
   ],
   "source": [
    "prompt = \"Do we have some Oracle experience? Just say Yes or No.\"\n",
    "\n",
    "answer = resume_qna(doc, prompt, model)\n",
    "print(\"\\033[1;31;34mAnswer:\\n\\n\", answer[\"choices\"][0][\"message\"][\"content\"])"
   ]
  },
  {
   "cell_type": "code",
   "execution_count": 27,
   "metadata": {},
   "outputs": [
    {
     "name": "stdout",
     "output_type": "stream",
     "text": [
      "\u001b[1;31;34mAnswer:\n",
      "\n",
      " Yes, the individual has Azure experience. They have listed Azure, Azure AI, Azure ML, Azure Custom Vision, and Azure Open AI as skills. They are also certified in Data Analysis and Machine Learning on Azure and AWS services.\n"
     ]
    }
   ],
   "source": [
    "prompt = \"Do we have some Azure experience? Explain.\"\n",
    "\n",
    "answer = resume_qna(doc, prompt, model)\n",
    "print(\"\\033[1;31;34mAnswer:\\n\\n\", answer[\"choices\"][0][\"message\"][\"content\"])"
   ]
  },
  {
   "cell_type": "code",
   "execution_count": 28,
   "metadata": {},
   "outputs": [
    {
     "name": "stdout",
     "output_type": "stream",
     "text": [
      "\u001b[1;31;34mAnswer:\n",
      "\n",
      " {\n",
      "  \"Azure\": true,\n",
      "  \"Azure AI\": true,\n",
      "  \"Azure ML\": true,\n",
      "  \"Azure Custom Vision\": true,\n",
      "  \"Azure Open AI\": true\n",
      "}\n"
     ]
    }
   ],
   "source": [
    "prompt = \"List the Microsoft skills mentionned and display in a json structure.\"\n",
    "\n",
    "answer = resume_qna(doc, prompt, model)\n",
    "print(\"\\033[1;31;34mAnswer:\\n\\n\", answer[\"choices\"][0][\"message\"][\"content\"])"
   ]
  },
  {
   "cell_type": "code",
   "execution_count": null,
   "metadata": {},
   "outputs": [],
   "source": []
  }
 ],
 "metadata": {
  "kernelspec": {
   "display_name": "Python 3.10 - SDK v2",
   "language": "python",
   "name": "python310-sdkv2"
  },
  "language_info": {
   "codemirror_mode": {
    "name": "ipython",
    "version": 3
   },
   "file_extension": ".py",
   "mimetype": "text/x-python",
   "name": "python",
   "nbconvert_exporter": "python",
   "pygments_lexer": "ipython3",
   "version": "3.10.10"
  },
  "vscode": {
   "interpreter": {
    "hash": "6d65a8c07f5b6469e0fc613f182488c0dccce05038bbda39e5ac9075c0454d11"
   }
  }
 },
 "nbformat": 4,
 "nbformat_minor": 2
}
