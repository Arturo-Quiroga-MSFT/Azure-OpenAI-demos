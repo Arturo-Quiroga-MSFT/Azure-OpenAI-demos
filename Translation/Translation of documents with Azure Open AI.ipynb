{
 "cells": [
  {
   "cell_type": "markdown",
   "id": "cfc0ddec",
   "metadata": {},
   "source": [
    "# Translation of documents with Azure Open AI"
   ]
  },
  {
   "cell_type": "code",
   "execution_count": 1,
   "id": "ae1ecd30",
   "metadata": {},
   "outputs": [],
   "source": [
    "import datetime\n",
    "import openai\n",
    "import re\n",
    "import sys\n",
    "import tiktoken\n",
    "import time\n",
    "\n",
    "from docx import Document\n",
    "from dotenv import load_dotenv\n",
    "from IPython.display import FileLink\n",
    "from langchain.text_splitter import RecursiveCharacterTextSplitter\n",
    "from pypdf import PdfReader"
   ]
  },
  {
   "cell_type": "code",
   "execution_count": 2,
   "id": "754715d7",
   "metadata": {},
   "outputs": [
    {
     "data": {
      "text/plain": [
       "'3.10.10 (main, Mar 21 2023, 18:45:11) [GCC 11.2.0]'"
      ]
     },
     "execution_count": 2,
     "metadata": {},
     "output_type": "execute_result"
    }
   ],
   "source": [
    "sys.version"
   ]
  },
  {
   "cell_type": "code",
   "execution_count": 3,
   "id": "e60a4ecd",
   "metadata": {},
   "outputs": [
    {
     "name": "stdout",
     "output_type": "stream",
     "text": [
      "Today is: 21-Sep-2023 08:23:00\n"
     ]
    }
   ],
   "source": [
    "print('Today is:', datetime.datetime.today().strftime ('%d-%b-%Y %H:%M:%S'))"
   ]
  },
  {
   "cell_type": "code",
   "execution_count": 4,
   "id": "ffd4cbd5",
   "metadata": {},
   "outputs": [
    {
     "name": "stdout",
     "output_type": "stream",
     "text": [
      "Open AI version: 0.28.0\n"
     ]
    }
   ],
   "source": [
    "load_dotenv(\"azure.env\")\n",
    "\n",
    "# Azure Open AI\n",
    "openai.api_type: str = \"azure\"\n",
    "openai.api_key = os.getenv(\"OPENAI_API_KEY\")\n",
    "openai.api_base = os.getenv(\"OPENAI_API_BASE\")\n",
    "openai.api_version = os.getenv(\"OPENAI_API_VERSION\")\n",
    "\n",
    "print(\"Open AI version:\", openai.__version__)"
   ]
  },
  {
   "cell_type": "code",
   "execution_count": 5,
   "id": "99712cef",
   "metadata": {},
   "outputs": [],
   "source": [
    "text = \"Azure Open AI is great!\""
   ]
  },
  {
   "cell_type": "code",
   "execution_count": 6,
   "id": "0ba53055",
   "metadata": {},
   "outputs": [],
   "source": [
    "def text_infos(text):\n",
    "    \"\"\"\n",
    "    Get string information\n",
    "    \"\"\"\n",
    "    nb_char = len(text)\n",
    "    print(\"Number of characters =\", nb_char)\n",
    "    nb_words = len(re.findall(r\"\\w+\", text))\n",
    "    print(\"Number of words =\", nb_words)\n",
    "\n",
    "    encoding = tiktoken.get_encoding(\"cl100k_base\")\n",
    "    nb_tokens = len(encoding.encode(text))\n",
    "    print(\"Number of tokens =\", nb_tokens)\n",
    "\n",
    "    return nb_char, nb_words, nb_tokens"
   ]
  },
  {
   "cell_type": "code",
   "execution_count": 7,
   "id": "666f4009",
   "metadata": {},
   "outputs": [
    {
     "name": "stdout",
     "output_type": "stream",
     "text": [
      "Number of characters = 23\n",
      "Number of words = 5\n",
      "Number of tokens = 6\n"
     ]
    },
    {
     "data": {
      "text/plain": [
       "(23, 5, 6)"
      ]
     },
     "execution_count": 7,
     "metadata": {},
     "output_type": "execute_result"
    }
   ],
   "source": [
    "text_infos(text)"
   ]
  },
  {
   "cell_type": "markdown",
   "id": "6818e814",
   "metadata": {},
   "source": [
    "## Translation with Azure Open AI"
   ]
  },
  {
   "cell_type": "code",
   "execution_count": 8,
   "id": "9b806c3b",
   "metadata": {},
   "outputs": [],
   "source": [
    "model = \"text-davinci-003\""
   ]
  },
  {
   "cell_type": "code",
   "execution_count": 9,
   "id": "030c274c",
   "metadata": {},
   "outputs": [],
   "source": [
    "def azure_openai_translation(text, language=\"French\"):\n",
    "    \"\"\"\n",
    "    Translation of a text using Azure Open AI\n",
    "    \"\"\"\n",
    "    prompt = f\"You are a translator expert. You should translate the following text into {language}:\\n{text}\"\n",
    "\n",
    "    response = openai.Completion.create(\n",
    "        engine=model,\n",
    "        prompt=prompt,\n",
    "        temperature=0,\n",
    "        max_tokens=3000,\n",
    "        top_p=1,\n",
    "    )\n",
    "\n",
    "    result = response[\"choices\"][0][\"text\"]\n",
    "\n",
    "    return result"
   ]
  },
  {
   "cell_type": "code",
   "execution_count": 10,
   "id": "0e412f85",
   "metadata": {},
   "outputs": [
    {
     "name": "stdout",
     "output_type": "stream",
     "text": [
      "\u001b[1;31;34m Fintech Plus Sync had a successful Q2 with a revenue of 125 million, a 25% increase year over year, and a gross profit margin of 58%. Their net income rose to 16 million, total assetsreached 1.5 billion, and their debt to equity ratio stood at 1.5. They saw organic user growth and hada LTV CAC ratio of 3.5%. They have a value at risk model in place and are expecting a 8% quarter overquarter revenue growth in the next quarter, driven by blockchain and AI. Additionally, they are excitedabout their subsidiary's upcoming IPO, which is expected to raise 200 million.\n"
     ]
    }
   ],
   "source": [
    "smalltext = \"Fintech Plus Sync had a successful Q2 with a revenue of 125 million, a 25% increase \\\n",
    "year over year, and a gross profit margin of 58%. Their net income rose to 16 million, total assets\\\n",
    "reached 1.5 billion, and their debt to equity ratio stood at 1.5. They saw organic user growth and had\\\n",
    "a LTV CAC ratio of 3.5%. They have a value at risk model in place and are expecting a 8% quarter over\\\n",
    "quarter revenue growth in the next quarter, driven by blockchain and AI. Additionally, they are excited\\\n",
    "about their subsidiary's upcoming IPO, which is expected to raise 200 million.\"\n",
    "\n",
    "print(\"\\033[1;31;34m\", smalltext)"
   ]
  },
  {
   "cell_type": "code",
   "execution_count": 11,
   "id": "1fa7c0a6",
   "metadata": {},
   "outputs": [
    {
     "name": "stdout",
     "output_type": "stream",
     "text": [
      "Number of characters = 567\n",
      "Number of words = 104\n",
      "Number of tokens = 140\n"
     ]
    },
    {
     "data": {
      "text/plain": [
       "(567, 104, 140)"
      ]
     },
     "execution_count": 11,
     "metadata": {},
     "output_type": "execute_result"
    }
   ],
   "source": [
    "text_infos(smalltext)"
   ]
  },
  {
   "cell_type": "code",
   "execution_count": 12,
   "id": "e7e4712e",
   "metadata": {},
   "outputs": [
    {
     "name": "stdout",
     "output_type": "stream",
     "text": [
      "\u001b[1;31;34m \n",
      "\n",
      "Fintech Plus Sync a connu un Q2 réussi avec un chiffre d'affaires de 125 millions de dollars, une augmentation de 25 % par rapport à l'année précédente et un taux de marge brute de 58 %. Leur bénéfice net a augmenté à 16 millions de dollars, leurs actifs totaux ont atteint 1,5 milliard de dollars et leur ratio dette / équité s'élevait à 1,5. Ils ont constaté une croissance organique des utilisateurs et un ratio LTV CAC de 3,5 %. Ils ont mis en place un modèle de risque de valeur et s'attendent à une croissance du chiffre d'affaires de 8 % trimestre sur trimestre au cours du prochain trimestre, soutenue par la blockchain et l'IA. De plus, ils sont enthousiasmés par l'introduction en bourse prochaine de leur filiale, qui devrait lever 200 millions de dollars.\n"
     ]
    }
   ],
   "source": [
    "print(\"\\033[1;31;34m\", azure_openai_translation(smalltext, \"french\"))"
   ]
  },
  {
   "cell_type": "code",
   "execution_count": 13,
   "id": "195837d1",
   "metadata": {},
   "outputs": [
    {
     "name": "stdout",
     "output_type": "stream",
     "text": [
      "\u001b[1;31;34m \n",
      "\n",
      "Fintech Plus Sync ha avuto un Q2 di successo con un fatturato di 125 milioni, un aumento del 25% anno su anno e un margine di profitto lordo del 58%. Il loro reddito netto è aumentato a 16 milioni, gli attivi totali hanno raggiunto 1,5 miliardi e il loro rapporto debito / patrimonio netto era pari a 1,5. Hanno visto una crescita organica degli utenti e hanno avuto un rapporto LTV CAC di 3,5%. Hanno un modello di rischio di valore in atto e si aspettano una crescita del fatturato del 8% trimestre su trimestre nel prossimo trimestre, guidata dalla blockchain e dall'IA. Inoltre, sono entusiasti dell'imminente IPO della loro controllata, che dovrebbe raccogliere 200 milioni.\n"
     ]
    }
   ],
   "source": [
    "print(\"\\033[1;31;34m\", azure_openai_translation(smalltext, \"italian\"))"
   ]
  },
  {
   "cell_type": "code",
   "execution_count": 14,
   "id": "ed6e6038",
   "metadata": {},
   "outputs": [
    {
     "name": "stdout",
     "output_type": "stream",
     "text": [
      "\u001b[1;31;34m \n",
      "\n",
      "フィンテックプラスシンクは、年間25％の増加と58％の粗利益率を持つ、成功したQ2を持っていました。彼らの収益は1億2500万ドルに上昇し、資産総額は15億ドルに達し、債務対資本比率は1.5となりました。彼らは有機的なユーザー増加を見ており、LTV CAC比率は3.5％でした。彼らはバリューアットリスクモデルを導入しており、次の四半期にはブロックチェーンとAIによる収益8％の増加を期待しています。さらに、彼らは子会社のIPOが200万ドルを調達することを期待していることを興奮しています。\n"
     ]
    }
   ],
   "source": [
    "print(\"\\033[1;31;34m\", azure_openai_translation(smalltext, \"japanese\"))"
   ]
  },
  {
   "cell_type": "code",
   "execution_count": 15,
   "id": "23daac1b",
   "metadata": {},
   "outputs": [
    {
     "name": "stdout",
     "output_type": "stream",
     "text": [
      "\u001b[1;31;34m \n",
      "\n",
      "Fintech Plus Sync在第二季度取得了成功，收入达1.25亿，同比增长25％，毛利率达58％。其净收入增加至1600万，总资产达15亿，债务股权比率为1.5。他们看到了有机用户增长，LTV CAC比率为3.5％。他们有一个价值风险模型，预计下一季度收入将以区块链和人工智能为推动力增长8％。此外，他们对其子公司即将上市的IPO充满期待，预计将筹集2亿美元。\n"
     ]
    }
   ],
   "source": [
    "print(\"\\033[1;31;34m\", azure_openai_translation(smalltext, \"chinese\"))"
   ]
  },
  {
   "cell_type": "code",
   "execution_count": 16,
   "id": "61f3fb34",
   "metadata": {},
   "outputs": [
    {
     "name": "stdout",
     "output_type": "stream",
     "text": [
      "\u001b[1;31;34m \n",
      "\n",
      "Fintech Plus Sync tuvo un exitoso segundo trimestre con una facturación de 125 millones de dólares, un aumento del 25% interanual, y un margen bruto de beneficio del 58%. Su beneficio neto aumentó a 16 millones, sus activos totales alcanzaron los 1.5 mil millones, y su ratio deuda/equidad se situó en 1.5. Vieron un crecimiento orgánico de usuarios y tuvieron un ratio LTV CAC de 3.5%. Tienen un modelo de riesgo de valor en su lugar y esperan un crecimiento de la facturación trimestral del 8% en el próximo trimestre, impulsado por la tecnología blockchain y la Inteligencia Artificial. Además, están entusiasmados con la próxima salida a bolsa de su filial, que se espera que recaude 200 millones de dólares.\n"
     ]
    }
   ],
   "source": [
    "print(\"\\033[1;31;34m\", azure_openai_translation(smalltext, \"spanish\"))"
   ]
  },
  {
   "cell_type": "code",
   "execution_count": 17,
   "id": "2c461f55",
   "metadata": {},
   "outputs": [
    {
     "name": "stdout",
     "output_type": "stream",
     "text": [
      "\u001b[1;31;34m \n",
      "\n",
      "Fintech Plus Sync hatte ein erfolgreiches Q2 mit einem Umsatz von 125 Millionen, einem Anstieg um 25% im Vergleich zum Vorjahr und einer Bruttogewinnspanne von 58%. Ihr Nettoergebnis stieg auf 16 Millionen, die Gesamtvermögenswerte erreichten 1,5 Milliarden und ihr Verschuldungsgrad betrug 1,5. Sie sahen ein organisches Wachstum der Nutzer und hatten ein LTV CAC-Verhältnis von 3,5%. Sie haben ein Value at Risk-Modell implementiert und erwarten ein Wachstum des Umsatzes im nächsten Quartal um 8%, getrieben von Blockchain und KI. Darüber hinaus freuen sie sich auf den bevorstehenden Börsengang ihrer Tochtergesellschaft, der 200 Millionen einbringen soll.\n"
     ]
    }
   ],
   "source": [
    "print(\"\\033[1;31;34m\", azure_openai_translation(smalltext, \"german\"))"
   ]
  },
  {
   "cell_type": "markdown",
   "id": "b765c1db",
   "metadata": {},
   "source": [
    "## Translation with Azure Open AI using a PDF file"
   ]
  },
  {
   "cell_type": "code",
   "execution_count": 18,
   "id": "45ccc931",
   "metadata": {},
   "outputs": [
    {
     "name": "stdout",
     "output_type": "stream",
     "text": [
      "-rwxrwxrwx 1 root root 166K Sep 12 09:16 constitution.pdf\r\n"
     ]
    }
   ],
   "source": [
    "my_pdf_file  = \"constitution.pdf\"\n",
    "\n",
    "!ls $my_pdf_file -lh"
   ]
  },
  {
   "cell_type": "markdown",
   "id": "f6a2a9c4",
   "metadata": {},
   "source": [
    "### Get the number of pages"
   ]
  },
  {
   "cell_type": "code",
   "execution_count": 19,
   "id": "95a0506d",
   "metadata": {},
   "outputs": [
    {
     "name": "stdout",
     "output_type": "stream",
     "text": [
      "Total number of pages = 32\n"
     ]
    }
   ],
   "source": [
    "reader = PdfReader(my_pdf_file)\n",
    "print(\"Total number of pages =\", len(reader.pages))"
   ]
  },
  {
   "cell_type": "markdown",
   "id": "fbc8cbb6",
   "metadata": {},
   "source": [
    "### Get the pages of the PDF document into a string"
   ]
  },
  {
   "cell_type": "code",
   "execution_count": 20,
   "id": "988499f4",
   "metadata": {},
   "outputs": [],
   "source": [
    "# nb_pages_to_extract = 10\n",
    "nb_pages_to_extract = len(reader.pages)"
   ]
  },
  {
   "cell_type": "code",
   "execution_count": 21,
   "id": "ead28432",
   "metadata": {},
   "outputs": [
    {
     "name": "stdout",
     "output_type": "stream",
     "text": [
      "Extracting pages form the PDF document...\n",
      "\n",
      "Done\n",
      "Elapsed time: 00:00:01.810477\n"
     ]
    }
   ],
   "source": [
    "print(\"Extracting pages form the PDF document...\\n\")\n",
    "start = time.time()\n",
    "\n",
    "extracted_text = [\n",
    "    reader.pages[idx].extract_text() for idx in range(nb_pages_to_extract)\n",
    "]\n",
    "\n",
    "print(\"Done\")\n",
    "elapsed = time.time() - start\n",
    "elapsed_time_str = time.strftime(\n",
    "    \"%H:%M:%S.{}\".format(str(elapsed % 1)[2:])[:15], time.gmtime(elapsed)\n",
    ")\n",
    "print(f\"Elapsed time: {elapsed_time_str}\")"
   ]
  },
  {
   "cell_type": "code",
   "execution_count": 22,
   "id": "4bf5f04f",
   "metadata": {},
   "outputs": [
    {
     "name": "stdout",
     "output_type": "stream",
     "text": [
      "Number of characters = 79724\n",
      "Number of words = 12912\n",
      "Number of tokens = 23228\n"
     ]
    },
    {
     "data": {
      "text/plain": [
       "(79724, 12912, 23228)"
      ]
     },
     "execution_count": 22,
     "metadata": {},
     "output_type": "execute_result"
    }
   ],
   "source": [
    "text_infos(str(extracted_text))"
   ]
  },
  {
   "cell_type": "markdown",
   "id": "5efdf420",
   "metadata": {},
   "source": [
    "### Let's create some chunk from the extract text"
   ]
  },
  {
   "cell_type": "code",
   "execution_count": 23,
   "id": "de15d20d",
   "metadata": {},
   "outputs": [],
   "source": [
    "text_splitter = RecursiveCharacterTextSplitter(\n",
    "    chunk_size=3000,\n",
    "    chunk_overlap=100,\n",
    "    length_function=len,\n",
    "    add_start_index=True,\n",
    ")"
   ]
  },
  {
   "cell_type": "code",
   "execution_count": 24,
   "id": "60a4c44f",
   "metadata": {},
   "outputs": [
    {
     "name": "stdout",
     "output_type": "stream",
     "text": [
      "Total number of chunks = 33\n"
     ]
    }
   ],
   "source": [
    "chunks = text_splitter.create_documents(extracted_text)\n",
    "number_chunks = len(chunks)\n",
    "print(\"Total number of chunks =\", number_chunks)"
   ]
  },
  {
   "cell_type": "markdown",
   "id": "36a61350",
   "metadata": {},
   "source": [
    "### Some preview of some chunks"
   ]
  },
  {
   "cell_type": "code",
   "execution_count": 25,
   "id": "de4b1d4f",
   "metadata": {},
   "outputs": [
    {
     "data": {
      "text/plain": [
       "langchain.schema.document.Document"
      ]
     },
     "execution_count": 25,
     "metadata": {},
     "output_type": "execute_result"
    }
   ],
   "source": [
    "type(chunks[0])"
   ]
  },
  {
   "cell_type": "code",
   "execution_count": 26,
   "id": "0ce6c6e2",
   "metadata": {},
   "outputs": [
    {
     "name": "stdout",
     "output_type": "stream",
     "text": [
      "Constitution du 4 octobre 1958\n",
      "Dernière mise à jour des données de ce texte : 01 décembre 2009\n",
      "Titre premier : De la souveraineté (Articles 2 à 4)\n",
      "Titre II : Le Président de la République (Articles 5 à 19)\n",
      "Titre III : Le Gouvernement (Articles 20 à 23)\n",
      "Titre IV : Le Parlement (Articles 24 à 33)\n",
      "Titre V : Des rapports entre le Parlement et le Gouvernement (Articles 34 à 51)\n",
      "Titre VI : Des traités et accords internationaux (Articles 52 à 55)\n",
      "Titre VII : Le Conseil constitutionnel (Articles 56 à 63)\n",
      "Titre VIII : De l'autorité judiciaire (Articles 64 à 66)\n",
      "Titre IX : La Haute Cour de Justice. (Articles 67 à 68)\n",
      "Titre X : De la responsabilité pénale des membres du Gouvernement (Articles 68-1 à 68-3)\n",
      "Titre XI : Le Conseil économique et social. (Articles 69 à 71)\n",
      "Titre XII : Des collectivités territoriales (Articles 72 à 75)\n",
      "Titre XIII : De la Communauté. (Articles 76 à 77) (abrogé)\n",
      "Titre XIII : Dispositions transitoires relatives à la Nouvelle-Calédonie (Articles 76 à \n",
      "77)\n",
      "Titre XIV : Des accords d'association. (Article 88)\n",
      "Titre XV : Des Communautés européennes et de l'Union européenne (Article 88-1)\n",
      "Titre XVI : De la révision (Article 89)\n",
      "Titre XVII : Dispositions transitoires. (abrogé)\n",
      "Le Gouvernement de la République, conformément à la loi constitutionnelle du 3 juin \n",
      "1958, a proposé, Le Peuple français a adopté, Le Président de la République promulgue la\n",
      "loi constitutionnelle dont la teneur suit :\n",
      "Article PREAMBULE\n",
      "Modifié par Loi constitutionnelle n°2005-205 du 1 mars 2005 - art. 1\n",
      "Le Peuple français proclame solennellement son attachement aux Droits de l'Homme et aux \n",
      "principes de la souveraineté nationale tels qu'ils ont été définis par la Déclaration de\n",
      "1789, confirmée et complétée par le préambule de la Constitution de 1946, ainsi qu'aux \n",
      "droits et devoirs définis dans la Charte de l'environnement de 2004.\n",
      "En vertu de ces principes et de celui de la libre détermination des peuples, la \n",
      "République offre aux territoires d'outre-mer qui manifestent la volonté d'y adhérer des \n",
      "institutions nouvelles fondées sur l'idéal commun de liberté, d'égalité et de fraternité\n",
      "et conçues en vue de leur évolution démocratique.\n",
      "Article 1\n",
      "Modifié par Loi constitutionnelle n°2003-276 du 28 mars 2003 - art. 1\n",
      "La France est une République indivisible, laïque, démocratique et sociale. Elle assure \n",
      "l'égalité devant la loi de tous les citoyens sans distinction d'origine, de race ou de \n",
      "religion. Elle respecte toutes les croyances. Son organisation est décentralisée.\n",
      "Titre premier : De la souveraineté (Articles 2 à 4)\n",
      "Article 2\n",
      "Modifié par Loi constitutionnelle n°95-880 du 4 août 1995 - art. 8\n",
      "La langue de la République est le français.\n",
      "L'emblème national est le drapeau tricolore, bleu, blanc, rouge.\n"
     ]
    }
   ],
   "source": [
    "print(chunks[0].page_content)"
   ]
  },
  {
   "cell_type": "markdown",
   "id": "0fe0f737",
   "metadata": {},
   "source": [
    "## Translation from French to English"
   ]
  },
  {
   "cell_type": "markdown",
   "id": "e4d3bfdf",
   "metadata": {},
   "source": [
    "### Now we can run the Azure Open AI translation function for each chunk"
   ]
  },
  {
   "cell_type": "code",
   "execution_count": 27,
   "id": "424ee6a7",
   "metadata": {},
   "outputs": [],
   "source": [
    "target_language = \"English\""
   ]
  },
  {
   "cell_type": "code",
   "execution_count": 28,
   "id": "21146b85",
   "metadata": {},
   "outputs": [
    {
     "name": "stdout",
     "output_type": "stream",
     "text": [
      "Starting to translate the document into English \n",
      "\n",
      "21-Sep-2023 08:23:43 Translation of chunk: 1 / 33\n",
      "21-Sep-2023 08:23:46 Translation of chunk: 2 / 33\n",
      "21-Sep-2023 08:23:53 Translation of chunk: 3 / 33\n",
      "21-Sep-2023 08:24:09 Translation of chunk: 4 / 33\n",
      "21-Sep-2023 08:24:10 Translation of chunk: 5 / 33\n",
      "21-Sep-2023 08:24:28 Translation of chunk: 6 / 33\n",
      "21-Sep-2023 08:24:35 Translation of chunk: 7 / 33\n",
      "21-Sep-2023 08:24:42 Translation of chunk: 8 / 33\n",
      "21-Sep-2023 08:24:51 Translation of chunk: 9 / 33\n",
      "21-Sep-2023 08:25:06 Translation of chunk: 10 / 33\n",
      "21-Sep-2023 08:25:11 Translation of chunk: 11 / 33\n",
      "21-Sep-2023 08:25:21 Translation of chunk: 12 / 33\n",
      "21-Sep-2023 08:25:31 Translation of chunk: 13 / 33\n",
      "21-Sep-2023 08:25:42 Translation of chunk: 14 / 33\n",
      "21-Sep-2023 08:25:52 Translation of chunk: 15 / 33\n",
      "21-Sep-2023 08:26:01 Translation of chunk: 16 / 33\n",
      "21-Sep-2023 08:26:09 Translation of chunk: 17 / 33\n",
      "21-Sep-2023 08:26:41 Translation of chunk: 18 / 33\n",
      "21-Sep-2023 08:26:50 Translation of chunk: 19 / 33\n",
      "21-Sep-2023 08:26:59 Translation of chunk: 20 / 33\n",
      "21-Sep-2023 08:27:07 Translation of chunk: 21 / 33\n",
      "21-Sep-2023 08:27:18 Translation of chunk: 22 / 33\n",
      "21-Sep-2023 08:27:28 Translation of chunk: 23 / 33\n",
      "21-Sep-2023 08:27:38 Translation of chunk: 24 / 33\n",
      "21-Sep-2023 08:27:50 Translation of chunk: 25 / 33\n",
      "21-Sep-2023 08:28:00 Translation of chunk: 26 / 33\n",
      "21-Sep-2023 08:28:09 Translation of chunk: 27 / 33\n",
      "21-Sep-2023 08:28:20 Translation of chunk: 28 / 33\n",
      "21-Sep-2023 08:28:31 Translation of chunk: 29 / 33\n",
      "21-Sep-2023 08:28:50 Translation of chunk: 30 / 33\n",
      "21-Sep-2023 08:29:06 Translation of chunk: 31 / 33\n",
      "21-Sep-2023 08:29:16 Translation of chunk: 32 / 33\n",
      "21-Sep-2023 08:29:25 Translation of chunk: 33 / 33\n",
      "\n",
      "Done\n",
      "Elapsed time: 00:05:42.730966\n"
     ]
    }
   ],
   "source": [
    "start = time.time()\n",
    "translated_document = []\n",
    "\n",
    "print(\"Starting to translate the document into\", target_language, \"\\n\")\n",
    "\n",
    "for nb_chunk in range(number_chunks):\n",
    "    dt = datetime.datetime.today().strftime(\"%d-%b-%Y %H:%M:%S\")\n",
    "    print(f\"{dt} Translation of chunk: {nb_chunk + 1} / {number_chunks}\")\n",
    "    chunk_text_to_translate = chunks[nb_chunk].page_content\n",
    "    trans_chunk = azure_openai_translation(chunk_text_to_translate, target_language)\n",
    "    translated_document.append(trans_chunk)\n",
    "\n",
    "print(\"\\nDone\")\n",
    "elapsed = time.time() - start\n",
    "elapsed_time_str = time.strftime(\n",
    "    \"%H:%M:%S.{}\".format(str(elapsed % 1)[2:])[:15], time.gmtime(elapsed)\n",
    ")\n",
    "print(f\"Elapsed time: {elapsed_time_str}\")"
   ]
  },
  {
   "cell_type": "markdown",
   "id": "cf3e1208",
   "metadata": {},
   "source": [
    "### Saving the translated text into a .docx file"
   ]
  },
  {
   "cell_type": "code",
   "execution_count": 29,
   "id": "744c864f",
   "metadata": {},
   "outputs": [
    {
     "name": "stdout",
     "output_type": "stream",
     "text": [
      "Saving the translated document into a .docx file...\n",
      "\n",
      "Done\n",
      "Elapsed time: 00:00:00.131001\n"
     ]
    }
   ],
   "source": [
    "docx_file = f\"translated_document_{target_language}.docx\"\n",
    "\n",
    "start = time.time()\n",
    "print(\"Saving the translated document into a .docx file...\")\n",
    "\n",
    "results = \"\\n\".join(translated_document)\n",
    "\n",
    "document = Document()\n",
    "document.add_heading(\"Translated document made with Azure Open AI\", level=1)\n",
    "document.add_paragraph(results)\n",
    "document.save(docx_file)\n",
    "\n",
    "print(\"\\nDone\")\n",
    "elapsed = time.time() - start\n",
    "elapsed_time_str = time.strftime(\n",
    "    \"%H:%M:%S.{}\".format(str(elapsed % 1)[2:])[:15], time.gmtime(elapsed)\n",
    ")\n",
    "print(f\"Elapsed time: {elapsed_time_str}\")"
   ]
  },
  {
   "cell_type": "code",
   "execution_count": 30,
   "id": "0ceed347",
   "metadata": {},
   "outputs": [
    {
     "name": "stdout",
     "output_type": "stream",
     "text": [
      "-rwxrwxrwx 1 root root 55K Sep 21 08:29 translated_document_English.docx\r\n"
     ]
    }
   ],
   "source": [
    "!ls $docx_file -lh"
   ]
  },
  {
   "cell_type": "code",
   "execution_count": 31,
   "id": "4f069667",
   "metadata": {},
   "outputs": [
    {
     "data": {
      "text/html": [
       "<a href='translated_document_English.docx' target='_blank'>translated_document_English.docx</a><br>"
      ],
      "text/plain": [
       "/mnt/batch/tasks/shared/LS_root/mounts/clusters/standardd14sr/code/Users/seretkow/Translation/translated_document_English.docx"
      ]
     },
     "execution_count": 31,
     "metadata": {},
     "output_type": "execute_result"
    }
   ],
   "source": [
    "doclink = FileLink(path=docx_file)\n",
    "doclink"
   ]
  },
  {
   "cell_type": "markdown",
   "id": "85351c0d",
   "metadata": {},
   "source": [
    "## Translation from French to Spanish"
   ]
  },
  {
   "cell_type": "code",
   "execution_count": 32,
   "id": "a52f3aad",
   "metadata": {},
   "outputs": [],
   "source": [
    "target_language = \"Spanish\""
   ]
  },
  {
   "cell_type": "code",
   "execution_count": 33,
   "id": "3c209696",
   "metadata": {},
   "outputs": [
    {
     "name": "stdout",
     "output_type": "stream",
     "text": [
      "Starting to translate the document into Spanish \n",
      "\n",
      "21-Sep-2023 08:29:27 Translation of chunk: 1 / 33\n",
      "21-Sep-2023 08:29:29 Translation of chunk: 2 / 33\n",
      "21-Sep-2023 08:29:43 Translation of chunk: 3 / 33\n",
      "21-Sep-2023 08:30:03 Translation of chunk: 4 / 33\n",
      "21-Sep-2023 08:30:08 Translation of chunk: 5 / 33\n",
      "21-Sep-2023 08:30:48 Translation of chunk: 6 / 33\n",
      "21-Sep-2023 08:31:05 Translation of chunk: 7 / 33\n",
      "21-Sep-2023 08:31:20 Translation of chunk: 8 / 33\n",
      "21-Sep-2023 08:31:35 Translation of chunk: 9 / 33\n",
      "21-Sep-2023 08:31:56 Translation of chunk: 10 / 33\n",
      "21-Sep-2023 08:32:07 Translation of chunk: 11 / 33\n",
      "21-Sep-2023 08:32:24 Translation of chunk: 12 / 33\n",
      "21-Sep-2023 08:32:44 Translation of chunk: 13 / 33\n",
      "21-Sep-2023 08:33:01 Translation of chunk: 14 / 33\n",
      "21-Sep-2023 08:33:19 Translation of chunk: 15 / 33\n",
      "21-Sep-2023 08:33:36 Translation of chunk: 16 / 33\n",
      "21-Sep-2023 08:34:10 Translation of chunk: 17 / 33\n",
      "21-Sep-2023 08:34:30 Translation of chunk: 18 / 33\n",
      "21-Sep-2023 08:34:48 Translation of chunk: 19 / 33\n",
      "21-Sep-2023 08:35:05 Translation of chunk: 20 / 33\n",
      "21-Sep-2023 08:35:23 Translation of chunk: 21 / 33\n",
      "21-Sep-2023 08:35:48 Translation of chunk: 22 / 33\n",
      "21-Sep-2023 08:36:08 Translation of chunk: 23 / 33\n",
      "21-Sep-2023 08:36:33 Translation of chunk: 24 / 33\n",
      "21-Sep-2023 08:37:02 Translation of chunk: 25 / 33\n",
      "21-Sep-2023 08:37:17 Translation of chunk: 26 / 33\n",
      "21-Sep-2023 08:37:45 Translation of chunk: 27 / 33\n",
      "21-Sep-2023 08:38:11 Translation of chunk: 28 / 33\n",
      "21-Sep-2023 08:38:37 Translation of chunk: 29 / 33\n",
      "21-Sep-2023 08:38:55 Translation of chunk: 30 / 33\n",
      "21-Sep-2023 08:39:12 Translation of chunk: 31 / 33\n",
      "21-Sep-2023 08:39:41 Translation of chunk: 32 / 33\n",
      "21-Sep-2023 08:40:00 Translation of chunk: 33 / 33\n",
      "\n",
      "Done\n",
      "Elapsed time: 00:10:34.675521\n"
     ]
    }
   ],
   "source": [
    "start = time.time()\n",
    "translated_document = []\n",
    "\n",
    "print(\"Starting to translate the document into\", target_language, \"\\n\")\n",
    "\n",
    "for nb_chunk in range(number_chunks):\n",
    "    dt = datetime.datetime.today().strftime(\"%d-%b-%Y %H:%M:%S\")\n",
    "    print(f\"{dt} Translation of chunk: {nb_chunk + 1} / {number_chunks}\")\n",
    "    chunk_text_to_translate = chunks[nb_chunk].page_content\n",
    "    trans_chunk = azure_openai_translation(chunk_text_to_translate, target_language)\n",
    "    translated_document.append(trans_chunk)\n",
    "\n",
    "print(\"\\nDone\")\n",
    "elapsed = time.time() - start\n",
    "elapsed_time_str = time.strftime(\n",
    "    \"%H:%M:%S.{}\".format(str(elapsed % 1)[2:])[:15], time.gmtime(elapsed)\n",
    ")\n",
    "print(f\"Elapsed time: {elapsed_time_str}\")"
   ]
  },
  {
   "cell_type": "code",
   "execution_count": 34,
   "id": "5df787f5",
   "metadata": {},
   "outputs": [
    {
     "name": "stdout",
     "output_type": "stream",
     "text": [
      "Saving the translated document into a .docx file...\n",
      "\n",
      "Done\n",
      "Elapsed time: 00:00:00.159475\n"
     ]
    }
   ],
   "source": [
    "docx_file = f\"translated_document_{target_language}.docx\"\n",
    "\n",
    "start = time.time()\n",
    "print(\"Saving the translated document into a .docx file...\")\n",
    "\n",
    "results = \"\\n\".join(translated_document)\n",
    "\n",
    "document = Document()\n",
    "document.add_heading(\"Translated document made with Azure Open AI\", level=1)\n",
    "document.add_paragraph(results)\n",
    "document.save(docx_file)\n",
    "\n",
    "print(\"\\nDone\")\n",
    "elapsed = time.time() - start\n",
    "elapsed_time_str = time.strftime(\n",
    "    \"%H:%M:%S.{}\".format(str(elapsed % 1)[2:])[:15], time.gmtime(elapsed)\n",
    ")\n",
    "print(f\"Elapsed time: {elapsed_time_str}\")"
   ]
  },
  {
   "cell_type": "code",
   "execution_count": 35,
   "id": "255394df",
   "metadata": {},
   "outputs": [
    {
     "name": "stdout",
     "output_type": "stream",
     "text": [
      "-rwxrwxrwx 1 root root 57K Sep 21 08:40 translated_document_Spanish.docx\r\n"
     ]
    }
   ],
   "source": [
    "!ls $docx_file -lh"
   ]
  },
  {
   "cell_type": "code",
   "execution_count": 36,
   "id": "ce0830fc",
   "metadata": {},
   "outputs": [
    {
     "data": {
      "text/html": [
       "<a href='translated_document_Spanish.docx' target='_blank'>translated_document_Spanish.docx</a><br>"
      ],
      "text/plain": [
       "/mnt/batch/tasks/shared/LS_root/mounts/clusters/standardd14sr/code/Users/seretkow/Translation/translated_document_Spanish.docx"
      ]
     },
     "execution_count": 36,
     "metadata": {},
     "output_type": "execute_result"
    }
   ],
   "source": [
    "doclink = FileLink(path=docx_file)\n",
    "doclink"
   ]
  },
  {
   "cell_type": "code",
   "execution_count": null,
   "id": "a1adfe10",
   "metadata": {},
   "outputs": [],
   "source": []
  }
 ],
 "metadata": {
  "kernelspec": {
   "display_name": "Python 3.10 - SDK v2",
   "language": "python",
   "name": "python310-sdkv2"
  },
  "language_info": {
   "codemirror_mode": {
    "name": "ipython",
    "version": 3
   },
   "file_extension": ".py",
   "mimetype": "text/x-python",
   "name": "python",
   "nbconvert_exporter": "python",
   "pygments_lexer": "ipython3",
   "version": "3.10.10"
  }
 },
 "nbformat": 4,
 "nbformat_minor": 5
}
