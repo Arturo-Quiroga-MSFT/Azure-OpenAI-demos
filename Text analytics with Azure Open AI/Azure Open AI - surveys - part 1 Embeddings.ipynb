{
 "cells": [
  {
   "cell_type": "markdown",
   "id": "e2b55211",
   "metadata": {},
   "source": [
    "# Azure Open AI - surveys - part 1 Embeddings"
   ]
  },
  {
   "cell_type": "code",
   "execution_count": 1,
   "id": "649fb619",
   "metadata": {},
   "outputs": [],
   "source": [
    "#%pip install azure-search-documents --pre --upgrade"
   ]
  },
  {
   "cell_type": "code",
   "execution_count": 2,
   "id": "6682834a",
   "metadata": {},
   "outputs": [],
   "source": [
    "import json\n",
    "import math\n",
    "import openai\n",
    "import os\n",
    "import pandas as pd\n",
    "import pickle\n",
    "import pytz\n",
    "import requests\n",
    "import sys\n",
    "import tiktoken\n",
    "import time\n",
    "\n",
    "from azure.core.credentials import AzureKeyCredential\n",
    "from azure.search.documents import SearchClient\n",
    "from azure.search.documents.indexes import SearchIndexClient\n",
    "from azure.search.documents.indexes.models import (\n",
    "    VectorSearch,\n",
    "    SimpleField,\n",
    "    SemanticSettings,\n",
    "    SemanticField,\n",
    "    SemanticConfiguration,\n",
    "    SearchIndex,\n",
    "    SearchFieldDataType,\n",
    "    SearchField,\n",
    "    SearchableField,\n",
    "    PrioritizedFields,\n",
    "    HnswVectorSearchAlgorithmConfiguration,\n",
    ")\n",
    "\n",
    "from datetime import datetime\n",
    "from dotenv import load_dotenv\n",
    "from tqdm import tqdm"
   ]
  },
  {
   "cell_type": "code",
   "execution_count": 3,
   "id": "018fc6e5",
   "metadata": {},
   "outputs": [
    {
     "data": {
      "text/plain": [
       "'3.10.10 (main, Mar 21 2023, 18:45:11) [GCC 11.2.0]'"
      ]
     },
     "execution_count": 3,
     "metadata": {},
     "output_type": "execute_result"
    }
   ],
   "source": [
    "sys.version"
   ]
  },
  {
   "cell_type": "code",
   "execution_count": 4,
   "id": "9c70ed19",
   "metadata": {},
   "outputs": [
    {
     "name": "stdout",
     "output_type": "stream",
     "text": [
      "Local time: 07-Sep-2023 18:40:34\n"
     ]
    }
   ],
   "source": [
    "local_tz = pytz.timezone(requests.get(\"https://ipinfo.io\").json()[\"timezone\"])\n",
    "print(\"Local time:\", datetime.now(local_tz).strftime(\"%d-%b-%Y %H:%M:%S\"))"
   ]
  },
  {
   "cell_type": "code",
   "execution_count": 5,
   "id": "28ca0f6e",
   "metadata": {},
   "outputs": [
    {
     "name": "stdout",
     "output_type": "stream",
     "text": [
      "Open AI version: 0.28.0\n"
     ]
    }
   ],
   "source": [
    "print(\"Open AI version:\", openai.__version__)"
   ]
  },
  {
   "cell_type": "code",
   "execution_count": 6,
   "id": "df6462e5",
   "metadata": {},
   "outputs": [],
   "source": [
    "load_dotenv(\"azure.env\")\n",
    "\n",
    "openai.api_type: str = \"azure\"\n",
    "openai.api_key = os.getenv(\"OPENAI_API_KEY\")\n",
    "openai.api_base = os.getenv(\"OPENAI_API_BASE\")\n",
    "openai.api_version = os.getenv(\"OPENAI_API_VERSION\")\n",
    "\n",
    "acs_endpoint = os.getenv(\"AZURE_COGNITIVE_SEARCH_ENDPOINT\")\n",
    "acs_key = os.getenv(\"AZURE_COGNITIVE_SEARCH_API_KEY\")"
   ]
  },
  {
   "cell_type": "code",
   "execution_count": 7,
   "id": "7b4281f1",
   "metadata": {},
   "outputs": [],
   "source": [
    "# Azure Open AI embeddings model to use\n",
    "embeddings_engine = \"text-embedding-ada-002\""
   ]
  },
  {
   "cell_type": "markdown",
   "id": "0463dd72",
   "metadata": {},
   "source": [
    "- Vector search is in public preview\n",
    "- Model name: text-embedding-ada-002\n",
    "- Model version: 2\n",
    "- API version: 2023-05-15"
   ]
  },
  {
   "cell_type": "code",
   "execution_count": 8,
   "id": "6f1ae436",
   "metadata": {},
   "outputs": [],
   "source": [
    "# Azure Cognitive Search index name to create\n",
    "index_name = \"surveys\""
   ]
  },
  {
   "cell_type": "markdown",
   "id": "c0bbefd2",
   "metadata": {},
   "source": [
    "## 0. Azure Cognitive Search vector store\n",
    "<img src=\"https://github.com/retkowsky/images/blob/master/vector_search_architecture.png?raw=true\">"
   ]
  },
  {
   "cell_type": "markdown",
   "id": "e725f2e0",
   "metadata": {},
   "source": [
    "## 1. Data"
   ]
  },
  {
   "cell_type": "code",
   "execution_count": 9,
   "id": "18707923",
   "metadata": {},
   "outputs": [
    {
     "name": "stdout",
     "output_type": "stream",
     "text": [
      "-rwxrwxrwx 1 root root 160K Sep  7 16:40 surveys.xlsx\r\n"
     ]
    }
   ],
   "source": [
    "EXCEL_FILE = \"surveys.xlsx\"\n",
    "\n",
    "!ls $EXCEL_FILE -lh"
   ]
  },
  {
   "cell_type": "code",
   "execution_count": 10,
   "id": "7d12599f",
   "metadata": {},
   "outputs": [],
   "source": [
    "df = pd.read_excel(EXCEL_FILE)"
   ]
  },
  {
   "cell_type": "code",
   "execution_count": 11,
   "id": "3b8b9c94",
   "metadata": {},
   "outputs": [
    {
     "data": {
      "text/html": [
       "<div>\n",
       "<style scoped>\n",
       "    .dataframe tbody tr th:only-of-type {\n",
       "        vertical-align: middle;\n",
       "    }\n",
       "\n",
       "    .dataframe tbody tr th {\n",
       "        vertical-align: top;\n",
       "    }\n",
       "\n",
       "    .dataframe thead th {\n",
       "        text-align: right;\n",
       "    }\n",
       "</style>\n",
       "<table border=\"1\" class=\"dataframe\">\n",
       "  <thead>\n",
       "    <tr style=\"text-align: right;\">\n",
       "      <th></th>\n",
       "      <th>id</th>\n",
       "      <th>company</th>\n",
       "      <th>comments</th>\n",
       "      <th>month</th>\n",
       "      <th>year</th>\n",
       "    </tr>\n",
       "  </thead>\n",
       "  <tbody>\n",
       "    <tr>\n",
       "      <th>0</th>\n",
       "      <td>100</td>\n",
       "      <td>Réassurez-moi</td>\n",
       "      <td>Ravi ! La recherche et la comparaison des mutu...</td>\n",
       "      <td>8</td>\n",
       "      <td>2019</td>\n",
       "    </tr>\n",
       "    <tr>\n",
       "      <th>1</th>\n",
       "      <td>101</td>\n",
       "      <td>Réassurez-moi</td>\n",
       "      <td>Très satisfaite ! Un conseiller à l'écoute et ...</td>\n",
       "      <td>8</td>\n",
       "      <td>2019</td>\n",
       "    </tr>\n",
       "    <tr>\n",
       "      <th>2</th>\n",
       "      <td>102</td>\n",
       "      <td>Réassurez-moi</td>\n",
       "      <td>Je vous avais contacté pour la mise en place e...</td>\n",
       "      <td>8</td>\n",
       "      <td>2019</td>\n",
       "    </tr>\n",
       "    <tr>\n",
       "      <th>3</th>\n",
       "      <td>103</td>\n",
       "      <td>Réassurez-moi</td>\n",
       "      <td>Quelques mots sur Réassurez-moi. Je suis très ...</td>\n",
       "      <td>8</td>\n",
       "      <td>2019</td>\n",
       "    </tr>\n",
       "    <tr>\n",
       "      <th>4</th>\n",
       "      <td>104</td>\n",
       "      <td>Réassurez-moi</td>\n",
       "      <td>Votre cabinet m'a permis de pouvoir bénéficier...</td>\n",
       "      <td>8</td>\n",
       "      <td>2019</td>\n",
       "    </tr>\n",
       "    <tr>\n",
       "      <th>...</th>\n",
       "      <td>...</td>\n",
       "      <td>...</td>\n",
       "      <td>...</td>\n",
       "      <td>...</td>\n",
       "      <td>...</td>\n",
       "    </tr>\n",
       "    <tr>\n",
       "      <th>1055</th>\n",
       "      <td>1155</td>\n",
       "      <td>Néoliane Santé</td>\n",
       "      <td>très facile d accès personnel sympathique accu...</td>\n",
       "      <td>10</td>\n",
       "      <td>2018</td>\n",
       "    </tr>\n",
       "    <tr>\n",
       "      <th>1056</th>\n",
       "      <td>1156</td>\n",
       "      <td>Néoliane Santé</td>\n",
       "      <td>je suis passer par senttianne jai recu un accu...</td>\n",
       "      <td>10</td>\n",
       "      <td>2018</td>\n",
       "    </tr>\n",
       "    <tr>\n",
       "      <th>1057</th>\n",
       "      <td>1157</td>\n",
       "      <td>Néoliane Santé</td>\n",
       "      <td>je suis chez neoliane depuis 2016 et suis tres...</td>\n",
       "      <td>10</td>\n",
       "      <td>2018</td>\n",
       "    </tr>\n",
       "    <tr>\n",
       "      <th>1058</th>\n",
       "      <td>1158</td>\n",
       "      <td>Néoliane Santé</td>\n",
       "      <td>j'avais une mutuelle en 2017 et je n'étais pas...</td>\n",
       "      <td>10</td>\n",
       "      <td>2018</td>\n",
       "    </tr>\n",
       "    <tr>\n",
       "      <th>1059</th>\n",
       "      <td>1159</td>\n",
       "      <td>Néoliane Santé</td>\n",
       "      <td>les remboursements sont rapides bonne reactivi...</td>\n",
       "      <td>10</td>\n",
       "      <td>2018</td>\n",
       "    </tr>\n",
       "  </tbody>\n",
       "</table>\n",
       "<p>1060 rows × 5 columns</p>\n",
       "</div>"
      ],
      "text/plain": [
       "        id          company   \n",
       "0      100    Réassurez-moi  \\\n",
       "1      101    Réassurez-moi   \n",
       "2      102    Réassurez-moi   \n",
       "3      103    Réassurez-moi   \n",
       "4      104    Réassurez-moi   \n",
       "...    ...              ...   \n",
       "1055  1155  Néoliane Santé    \n",
       "1056  1156  Néoliane Santé    \n",
       "1057  1157  Néoliane Santé    \n",
       "1058  1158  Néoliane Santé    \n",
       "1059  1159  Néoliane Santé    \n",
       "\n",
       "                                               comments  month  year  \n",
       "0     Ravi ! La recherche et la comparaison des mutu...      8  2019  \n",
       "1     Très satisfaite ! Un conseiller à l'écoute et ...      8  2019  \n",
       "2     Je vous avais contacté pour la mise en place e...      8  2019  \n",
       "3     Quelques mots sur Réassurez-moi. Je suis très ...      8  2019  \n",
       "4     Votre cabinet m'a permis de pouvoir bénéficier...      8  2019  \n",
       "...                                                 ...    ...   ...  \n",
       "1055  très facile d accès personnel sympathique accu...     10  2018  \n",
       "1056  je suis passer par senttianne jai recu un accu...     10  2018  \n",
       "1057  je suis chez neoliane depuis 2016 et suis tres...     10  2018  \n",
       "1058  j'avais une mutuelle en 2017 et je n'étais pas...     10  2018  \n",
       "1059  les remboursements sont rapides bonne reactivi...     10  2018  \n",
       "\n",
       "[1060 rows x 5 columns]"
      ]
     },
     "execution_count": 11,
     "metadata": {},
     "output_type": "execute_result"
    }
   ],
   "source": [
    "df"
   ]
  },
  {
   "cell_type": "code",
   "execution_count": 12,
   "id": "5a164ddc",
   "metadata": {},
   "outputs": [],
   "source": [
    "df[\"id\"] = df[\"id\"].astype(str)\n",
    "df[\"year\"] = df[\"year\"].astype(str)\n",
    "df[\"month\"] = df[\"month\"].astype(str)\n",
    "df[\"text\"] = \" Year=\" + df[\"year\"] + \" month=\" + df[\"month\"] + \" \" + \"company:\" + df[\"company\"] + \" comment: \" + df[\"comments\"]"
   ]
  },
  {
   "cell_type": "code",
   "execution_count": 13,
   "id": "58e7a836",
   "metadata": {},
   "outputs": [
    {
     "data": {
      "text/html": [
       "<div>\n",
       "<style scoped>\n",
       "    .dataframe tbody tr th:only-of-type {\n",
       "        vertical-align: middle;\n",
       "    }\n",
       "\n",
       "    .dataframe tbody tr th {\n",
       "        vertical-align: top;\n",
       "    }\n",
       "\n",
       "    .dataframe thead th {\n",
       "        text-align: right;\n",
       "    }\n",
       "</style>\n",
       "<table border=\"1\" class=\"dataframe\">\n",
       "  <thead>\n",
       "    <tr style=\"text-align: right;\">\n",
       "      <th></th>\n",
       "      <th>id</th>\n",
       "      <th>company</th>\n",
       "      <th>comments</th>\n",
       "      <th>month</th>\n",
       "      <th>year</th>\n",
       "      <th>text</th>\n",
       "    </tr>\n",
       "  </thead>\n",
       "  <tbody>\n",
       "    <tr>\n",
       "      <th>0</th>\n",
       "      <td>100</td>\n",
       "      <td>Réassurez-moi</td>\n",
       "      <td>Ravi ! La recherche et la comparaison des mutu...</td>\n",
       "      <td>8</td>\n",
       "      <td>2019</td>\n",
       "      <td>Year=2019 month=8 company:Réassurez-moi comme...</td>\n",
       "    </tr>\n",
       "    <tr>\n",
       "      <th>1</th>\n",
       "      <td>101</td>\n",
       "      <td>Réassurez-moi</td>\n",
       "      <td>Très satisfaite ! Un conseiller à l'écoute et ...</td>\n",
       "      <td>8</td>\n",
       "      <td>2019</td>\n",
       "      <td>Year=2019 month=8 company:Réassurez-moi comme...</td>\n",
       "    </tr>\n",
       "    <tr>\n",
       "      <th>2</th>\n",
       "      <td>102</td>\n",
       "      <td>Réassurez-moi</td>\n",
       "      <td>Je vous avais contacté pour la mise en place e...</td>\n",
       "      <td>8</td>\n",
       "      <td>2019</td>\n",
       "      <td>Year=2019 month=8 company:Réassurez-moi comme...</td>\n",
       "    </tr>\n",
       "    <tr>\n",
       "      <th>3</th>\n",
       "      <td>103</td>\n",
       "      <td>Réassurez-moi</td>\n",
       "      <td>Quelques mots sur Réassurez-moi. Je suis très ...</td>\n",
       "      <td>8</td>\n",
       "      <td>2019</td>\n",
       "      <td>Year=2019 month=8 company:Réassurez-moi comme...</td>\n",
       "    </tr>\n",
       "    <tr>\n",
       "      <th>4</th>\n",
       "      <td>104</td>\n",
       "      <td>Réassurez-moi</td>\n",
       "      <td>Votre cabinet m'a permis de pouvoir bénéficier...</td>\n",
       "      <td>8</td>\n",
       "      <td>2019</td>\n",
       "      <td>Year=2019 month=8 company:Réassurez-moi comme...</td>\n",
       "    </tr>\n",
       "  </tbody>\n",
       "</table>\n",
       "</div>"
      ],
      "text/plain": [
       "    id        company                                           comments   \n",
       "0  100  Réassurez-moi  Ravi ! La recherche et la comparaison des mutu...  \\\n",
       "1  101  Réassurez-moi  Très satisfaite ! Un conseiller à l'écoute et ...   \n",
       "2  102  Réassurez-moi  Je vous avais contacté pour la mise en place e...   \n",
       "3  103  Réassurez-moi  Quelques mots sur Réassurez-moi. Je suis très ...   \n",
       "4  104  Réassurez-moi  Votre cabinet m'a permis de pouvoir bénéficier...   \n",
       "\n",
       "  month  year                                               text  \n",
       "0     8  2019   Year=2019 month=8 company:Réassurez-moi comme...  \n",
       "1     8  2019   Year=2019 month=8 company:Réassurez-moi comme...  \n",
       "2     8  2019   Year=2019 month=8 company:Réassurez-moi comme...  \n",
       "3     8  2019   Year=2019 month=8 company:Réassurez-moi comme...  \n",
       "4     8  2019   Year=2019 month=8 company:Réassurez-moi comme...  "
      ]
     },
     "execution_count": 13,
     "metadata": {},
     "output_type": "execute_result"
    }
   ],
   "source": [
    "df.head(5)"
   ]
  },
  {
   "cell_type": "code",
   "execution_count": 14,
   "id": "2c318304",
   "metadata": {},
   "outputs": [
    {
     "data": {
      "text/plain": [
       "id          object\n",
       "company     object\n",
       "comments    object\n",
       "month       object\n",
       "year        object\n",
       "text        object\n",
       "dtype: object"
      ]
     },
     "execution_count": 14,
     "metadata": {},
     "output_type": "execute_result"
    }
   ],
   "source": [
    "df.dtypes"
   ]
  },
  {
   "cell_type": "markdown",
   "id": "e22b7044",
   "metadata": {},
   "source": [
    "## 2. Generating text embeddings with Azure Open AI"
   ]
  },
  {
   "cell_type": "markdown",
   "id": "bdf7bd17",
   "metadata": {},
   "source": [
    "### Vectors embeddings"
   ]
  },
  {
   "cell_type": "code",
   "execution_count": 15,
   "id": "eafef145",
   "metadata": {},
   "outputs": [
    {
     "name": "stdout",
     "output_type": "stream",
     "text": [
      "Embedding engine: text-embedding-ada-002\n"
     ]
    }
   ],
   "source": [
    "print(\"Embedding engine:\", embeddings_engine)"
   ]
  },
  {
   "cell_type": "code",
   "execution_count": 16,
   "id": "3225abc5",
   "metadata": {},
   "outputs": [],
   "source": [
    "def openai_text_embeddings(text):\n",
    "    \"\"\"\n",
    "    Generating embeddings from text using Azure Open AI\n",
    "    Input: text\n",
    "    Output: text embeddings\n",
    "    \"\"\"\n",
    "    embeddings = openai.Embedding.create(\n",
    "        input=text,\n",
    "        deployment_id=embeddings_engine,\n",
    "    )\n",
    "    embeddings = embeddings[\"data\"][0][\"embedding\"]\n",
    "\n",
    "    return embeddings"
   ]
  },
  {
   "cell_type": "code",
   "execution_count": 17,
   "id": "a42c3f8c",
   "metadata": {},
   "outputs": [
    {
     "data": {
      "text/plain": [
       "[-0.03617486730217934,\n",
       " -0.005520837381482124,\n",
       " -0.007070655468851328,\n",
       " -0.030174769461154938,\n",
       " 0.0020399712957441807]"
      ]
     },
     "execution_count": 17,
     "metadata": {},
     "output_type": "execute_result"
    }
   ],
   "source": [
    "emb = openai_text_embeddings(\"My name is James Bond\")\n",
    "emb[:5]"
   ]
  },
  {
   "cell_type": "code",
   "execution_count": 18,
   "id": "51db08ce",
   "metadata": {},
   "outputs": [
    {
     "name": "stdout",
     "output_type": "stream",
     "text": [
      "Size of the embeddings = 1536\n"
     ]
    }
   ],
   "source": [
    "print(\"Size of the embeddings =\", len(emb))"
   ]
  },
  {
   "cell_type": "code",
   "execution_count": 19,
   "id": "39cce04f",
   "metadata": {},
   "outputs": [
    {
     "name": "stdout",
     "output_type": "stream",
     "text": [
      "Running the embedding process...\n"
     ]
    },
    {
     "name": "stderr",
     "output_type": "stream",
     "text": [
      "100%|██████████| 1060/1060 [02:09<00:00,  8.17it/s]\n"
     ]
    }
   ],
   "source": [
    "print(\"Running the embedding process...\")\n",
    "df[\"embed_text\"] = None\n",
    "\n",
    "with tqdm(total=len(df)) as pbar:\n",
    "    def apply_embedding(x):\n",
    "        \"\"\"\n",
    "        Azure Open AI text embedding\n",
    "        \"\"\"\n",
    "        global pbar\n",
    "        embedding = openai_text_embeddings(x[\"text\"])\n",
    "        pbar.update(1)  # Update the progress bar\n",
    "        return embedding\n",
    "    df[\"embed_text\"] = df.apply(apply_embedding, axis=1)"
   ]
  },
  {
   "cell_type": "markdown",
   "id": "f5e7e197",
   "metadata": {},
   "source": [
    "### Saving the documents (initial data + embeddings) into a file"
   ]
  },
  {
   "cell_type": "code",
   "execution_count": 21,
   "id": "bb151f8d",
   "metadata": {},
   "outputs": [
    {
     "data": {
      "text/html": [
       "<div>\n",
       "<style scoped>\n",
       "    .dataframe tbody tr th:only-of-type {\n",
       "        vertical-align: middle;\n",
       "    }\n",
       "\n",
       "    .dataframe tbody tr th {\n",
       "        vertical-align: top;\n",
       "    }\n",
       "\n",
       "    .dataframe thead th {\n",
       "        text-align: right;\n",
       "    }\n",
       "</style>\n",
       "<table border=\"1\" class=\"dataframe\">\n",
       "  <thead>\n",
       "    <tr style=\"text-align: right;\">\n",
       "      <th></th>\n",
       "      <th>id</th>\n",
       "      <th>company</th>\n",
       "      <th>comments</th>\n",
       "      <th>month</th>\n",
       "      <th>year</th>\n",
       "      <th>text</th>\n",
       "      <th>embed_text</th>\n",
       "    </tr>\n",
       "  </thead>\n",
       "  <tbody>\n",
       "    <tr>\n",
       "      <th>0</th>\n",
       "      <td>100</td>\n",
       "      <td>Réassurez-moi</td>\n",
       "      <td>Ravi ! La recherche et la comparaison des mutu...</td>\n",
       "      <td>8</td>\n",
       "      <td>2019</td>\n",
       "      <td>Year=2019 month=8 company:Réassurez-moi comme...</td>\n",
       "      <td>[-0.0184832401573658, -0.008551266975700855, 0...</td>\n",
       "    </tr>\n",
       "    <tr>\n",
       "      <th>1</th>\n",
       "      <td>101</td>\n",
       "      <td>Réassurez-moi</td>\n",
       "      <td>Très satisfaite ! Un conseiller à l'écoute et ...</td>\n",
       "      <td>8</td>\n",
       "      <td>2019</td>\n",
       "      <td>Year=2019 month=8 company:Réassurez-moi comme...</td>\n",
       "      <td>[-0.019603285938501358, -0.006490982137620449,...</td>\n",
       "    </tr>\n",
       "    <tr>\n",
       "      <th>2</th>\n",
       "      <td>102</td>\n",
       "      <td>Réassurez-moi</td>\n",
       "      <td>Je vous avais contacté pour la mise en place e...</td>\n",
       "      <td>8</td>\n",
       "      <td>2019</td>\n",
       "      <td>Year=2019 month=8 company:Réassurez-moi comme...</td>\n",
       "      <td>[-0.016711777076125145, -0.004223286639899015,...</td>\n",
       "    </tr>\n",
       "    <tr>\n",
       "      <th>3</th>\n",
       "      <td>103</td>\n",
       "      <td>Réassurez-moi</td>\n",
       "      <td>Quelques mots sur Réassurez-moi. Je suis très ...</td>\n",
       "      <td>8</td>\n",
       "      <td>2019</td>\n",
       "      <td>Year=2019 month=8 company:Réassurez-moi comme...</td>\n",
       "      <td>[-0.0205739364027977, -0.009005204774439335, -...</td>\n",
       "    </tr>\n",
       "    <tr>\n",
       "      <th>4</th>\n",
       "      <td>104</td>\n",
       "      <td>Réassurez-moi</td>\n",
       "      <td>Votre cabinet m'a permis de pouvoir bénéficier...</td>\n",
       "      <td>8</td>\n",
       "      <td>2019</td>\n",
       "      <td>Year=2019 month=8 company:Réassurez-moi comme...</td>\n",
       "      <td>[-0.008775348775088787, -0.006393004208803177,...</td>\n",
       "    </tr>\n",
       "    <tr>\n",
       "      <th>...</th>\n",
       "      <td>...</td>\n",
       "      <td>...</td>\n",
       "      <td>...</td>\n",
       "      <td>...</td>\n",
       "      <td>...</td>\n",
       "      <td>...</td>\n",
       "      <td>...</td>\n",
       "    </tr>\n",
       "    <tr>\n",
       "      <th>1055</th>\n",
       "      <td>1155</td>\n",
       "      <td>Néoliane Santé</td>\n",
       "      <td>très facile d accès personnel sympathique accu...</td>\n",
       "      <td>10</td>\n",
       "      <td>2018</td>\n",
       "      <td>Year=2018 month=10 company:Néoliane Santé  co...</td>\n",
       "      <td>[-0.007273130118846893, 0.0017582291038706899,...</td>\n",
       "    </tr>\n",
       "    <tr>\n",
       "      <th>1056</th>\n",
       "      <td>1156</td>\n",
       "      <td>Néoliane Santé</td>\n",
       "      <td>je suis passer par senttianne jai recu un accu...</td>\n",
       "      <td>10</td>\n",
       "      <td>2018</td>\n",
       "      <td>Year=2018 month=10 company:Néoliane Santé  co...</td>\n",
       "      <td>[-0.015039212070405483, -0.01120542362332344, ...</td>\n",
       "    </tr>\n",
       "    <tr>\n",
       "      <th>1057</th>\n",
       "      <td>1157</td>\n",
       "      <td>Néoliane Santé</td>\n",
       "      <td>je suis chez neoliane depuis 2016 et suis tres...</td>\n",
       "      <td>10</td>\n",
       "      <td>2018</td>\n",
       "      <td>Year=2018 month=10 company:Néoliane Santé  co...</td>\n",
       "      <td>[-0.01934194564819336, -0.01205415278673172, -...</td>\n",
       "    </tr>\n",
       "    <tr>\n",
       "      <th>1058</th>\n",
       "      <td>1158</td>\n",
       "      <td>Néoliane Santé</td>\n",
       "      <td>j'avais une mutuelle en 2017 et je n'étais pas...</td>\n",
       "      <td>10</td>\n",
       "      <td>2018</td>\n",
       "      <td>Year=2018 month=10 company:Néoliane Santé  co...</td>\n",
       "      <td>[-0.012488491833209991, -0.015272384509444237,...</td>\n",
       "    </tr>\n",
       "    <tr>\n",
       "      <th>1059</th>\n",
       "      <td>1159</td>\n",
       "      <td>Néoliane Santé</td>\n",
       "      <td>les remboursements sont rapides bonne reactivi...</td>\n",
       "      <td>10</td>\n",
       "      <td>2018</td>\n",
       "      <td>Year=2018 month=10 company:Néoliane Santé  co...</td>\n",
       "      <td>[-0.0183951947838068, -0.010313263162970543, -...</td>\n",
       "    </tr>\n",
       "  </tbody>\n",
       "</table>\n",
       "<p>1060 rows × 7 columns</p>\n",
       "</div>"
      ],
      "text/plain": [
       "        id          company   \n",
       "0      100    Réassurez-moi  \\\n",
       "1      101    Réassurez-moi   \n",
       "2      102    Réassurez-moi   \n",
       "3      103    Réassurez-moi   \n",
       "4      104    Réassurez-moi   \n",
       "...    ...              ...   \n",
       "1055  1155  Néoliane Santé    \n",
       "1056  1156  Néoliane Santé    \n",
       "1057  1157  Néoliane Santé    \n",
       "1058  1158  Néoliane Santé    \n",
       "1059  1159  Néoliane Santé    \n",
       "\n",
       "                                               comments month  year   \n",
       "0     Ravi ! La recherche et la comparaison des mutu...     8  2019  \\\n",
       "1     Très satisfaite ! Un conseiller à l'écoute et ...     8  2019   \n",
       "2     Je vous avais contacté pour la mise en place e...     8  2019   \n",
       "3     Quelques mots sur Réassurez-moi. Je suis très ...     8  2019   \n",
       "4     Votre cabinet m'a permis de pouvoir bénéficier...     8  2019   \n",
       "...                                                 ...   ...   ...   \n",
       "1055  très facile d accès personnel sympathique accu...    10  2018   \n",
       "1056  je suis passer par senttianne jai recu un accu...    10  2018   \n",
       "1057  je suis chez neoliane depuis 2016 et suis tres...    10  2018   \n",
       "1058  j'avais une mutuelle en 2017 et je n'étais pas...    10  2018   \n",
       "1059  les remboursements sont rapides bonne reactivi...    10  2018   \n",
       "\n",
       "                                                   text   \n",
       "0      Year=2019 month=8 company:Réassurez-moi comme...  \\\n",
       "1      Year=2019 month=8 company:Réassurez-moi comme...   \n",
       "2      Year=2019 month=8 company:Réassurez-moi comme...   \n",
       "3      Year=2019 month=8 company:Réassurez-moi comme...   \n",
       "4      Year=2019 month=8 company:Réassurez-moi comme...   \n",
       "...                                                 ...   \n",
       "1055   Year=2018 month=10 company:Néoliane Santé  co...   \n",
       "1056   Year=2018 month=10 company:Néoliane Santé  co...   \n",
       "1057   Year=2018 month=10 company:Néoliane Santé  co...   \n",
       "1058   Year=2018 month=10 company:Néoliane Santé  co...   \n",
       "1059   Year=2018 month=10 company:Néoliane Santé  co...   \n",
       "\n",
       "                                             embed_text  \n",
       "0     [-0.0184832401573658, -0.008551266975700855, 0...  \n",
       "1     [-0.019603285938501358, -0.006490982137620449,...  \n",
       "2     [-0.016711777076125145, -0.004223286639899015,...  \n",
       "3     [-0.0205739364027977, -0.009005204774439335, -...  \n",
       "4     [-0.008775348775088787, -0.006393004208803177,...  \n",
       "...                                                 ...  \n",
       "1055  [-0.007273130118846893, 0.0017582291038706899,...  \n",
       "1056  [-0.015039212070405483, -0.01120542362332344, ...  \n",
       "1057  [-0.01934194564819336, -0.01205415278673172, -...  \n",
       "1058  [-0.012488491833209991, -0.015272384509444237,...  \n",
       "1059  [-0.0183951947838068, -0.010313263162970543, -...  \n",
       "\n",
       "[1060 rows x 7 columns]"
      ]
     },
     "execution_count": 21,
     "metadata": {},
     "output_type": "execute_result"
    }
   ],
   "source": [
    "df"
   ]
  },
  {
   "cell_type": "code",
   "execution_count": 22,
   "id": "e555513a",
   "metadata": {},
   "outputs": [
    {
     "name": "stdout",
     "output_type": "stream",
     "text": [
      "Number of documents = 1060\n"
     ]
    }
   ],
   "source": [
    "documents = df.to_dict(orient=\"records\")\n",
    "print(\"Number of documents =\", len(documents))"
   ]
  },
  {
   "cell_type": "code",
   "execution_count": 23,
   "id": "f49910d2",
   "metadata": {},
   "outputs": [
    {
     "name": "stdout",
     "output_type": "stream",
     "text": [
      "Saving documents...\n",
      "Done\n"
     ]
    },
    {
     "data": {
      "text/plain": [
       "['surveys.pkl']"
      ]
     },
     "execution_count": 23,
     "metadata": {},
     "output_type": "execute_result"
    }
   ],
   "source": [
    "# Saving the documents into a pkl file\n",
    "PKL_DIR = \"embeddings\"\n",
    "PKL_FILE = \"surveys.pkl\"\n",
    "\n",
    "os.makedirs(PKL_DIR, exist_ok=True)\n",
    "\n",
    "print(\"Saving documents...\")\n",
    "with open(os.path.join(PKL_DIR, PKL_FILE), 'wb') as f:\n",
    "    pickle.dump(documents, f)\n",
    "print(\"Done\")\n",
    "\n",
    "os.listdir(PKL_DIR)"
   ]
  },
  {
   "cell_type": "markdown",
   "id": "436ab9f7",
   "metadata": {},
   "source": [
    "## 5. Azure Cognitive Search functions"
   ]
  },
  {
   "cell_type": "code",
   "execution_count": 24,
   "id": "8e549a54",
   "metadata": {},
   "outputs": [],
   "source": [
    "def delete_index(index_name):\n",
    "    \"\"\"\n",
    "    Deleting an Azure Cognitive Search index\n",
    "    Input: Azure Cognitive Search index\n",
    "    Output: None\n",
    "    \"\"\"\n",
    "    start = time.time()\n",
    "    search_client = SearchIndexClient(\n",
    "        endpoint=acs_endpoint, credential=AzureKeyCredential(acs_key)\n",
    "    )\n",
    "    \n",
    "    try:\n",
    "        print(\"Deleting the Azure Cognitive Search index:\", index_name)\n",
    "        search_client.delete_index(index_name)\n",
    "        print(\"Done. Elapsed time:\", round(time.time() - start, 2), \"secs\")\n",
    "    except:\n",
    "        print(\"Cannot delete index. Check the index name.\")"
   ]
  },
  {
   "cell_type": "code",
   "execution_count": 25,
   "id": "4e61eead",
   "metadata": {},
   "outputs": [],
   "source": [
    "def index_stats(index_name):\n",
    "    \"\"\"\n",
    "    Get statistics about Azure Cognitive Search index\n",
    "    Input: Azure Cognitive Search index\n",
    "    Output: Get Azure Cognitive Search index stats\n",
    "    \"\"\"\n",
    "    url = (\n",
    "        acs_endpoint\n",
    "        + \"/indexes/\"\n",
    "        + index_name\n",
    "        + \"/stats?api-version=2021-04-30-Preview\"\n",
    "    )\n",
    "    headers = {\n",
    "        \"Content-Type\": \"application/json\",\n",
    "        \"api-key\": acs_key,\n",
    "    }\n",
    "    response = requests.get(url, headers=headers)\n",
    "    print(\"Azure Cognitive Search index status for:\", index_name, \"\\n\")\n",
    "\n",
    "    if response.status_code == 200:\n",
    "        res = response.json()\n",
    "        print(json.dumps(res, indent=2))\n",
    "        document_count = res[\"documentCount\"]\n",
    "        storage_size = res[\"storageSize\"]\n",
    "\n",
    "    else:\n",
    "        print(\"Request failed with status code:\", response.status_code)\n",
    "\n",
    "    return document_count, storage_size"
   ]
  },
  {
   "cell_type": "code",
   "execution_count": 26,
   "id": "29eaac49",
   "metadata": {},
   "outputs": [],
   "source": [
    "def index_status(index_name):\n",
    "    \"\"\"\n",
    "    Azure Cognitive Search index status\n",
    "    Input: Azure Cognitive Search index\n",
    "    Output: Get Azure Cognitive Search index status\n",
    "    \"\"\"\n",
    "    print(\"Azure Cognitive Search Index:\", index_name, \"\\n\")\n",
    "\n",
    "    headers = {\"Content-Type\": \"application/json\", \"api-key\": acs_key}\n",
    "    params = {\"api-version\": \"2021-04-30-Preview\"}\n",
    "    index_status = requests.get(\n",
    "        acs_endpoint + \"/indexes/\" + index_name, headers=headers, params=params\n",
    "    )\n",
    "\n",
    "    try:\n",
    "        print(json.dumps((index_status.json()), indent=5))\n",
    "    except:\n",
    "        print(\"Request failed with status code:\", response.status_code)"
   ]
  },
  {
   "cell_type": "markdown",
   "id": "f0da537a",
   "metadata": {},
   "source": [
    "## 6. Creating an Azure Cognitive Search index"
   ]
  },
  {
   "cell_type": "code",
   "execution_count": 27,
   "id": "85f1e803",
   "metadata": {},
   "outputs": [
    {
     "name": "stdout",
     "output_type": "stream",
     "text": [
      "Setting the Azure Cognitive Search client\n",
      "Done. Azure Cognitive Search client defined.\n",
      "<azure.search.documents.indexes._search_index_client.SearchIndexClient object at 0x7f69d2b55990>\n"
     ]
    }
   ],
   "source": [
    "try:\n",
    "    # Setting the Azure Cognitive Search client\n",
    "    print(\"Setting the Azure Cognitive Search client\")\n",
    "    search_client = SearchIndexClient(\n",
    "        endpoint=acs_endpoint,\n",
    "        credential=AzureKeyCredential(acs_key)\n",
    "    )\n",
    "    print(\"Done. Azure Cognitive Search client defined.\")\n",
    "    print(search_client)\n",
    "\n",
    "except:\n",
    "    print(\"Request failed. Cannot create Azure Cognitive Search client:\", acs_endpoint)"
   ]
  },
  {
   "cell_type": "markdown",
   "id": "5ff3bd13",
   "metadata": {},
   "source": [
    "### Removing any existing index"
   ]
  },
  {
   "cell_type": "code",
   "execution_count": 28,
   "id": "70a493bf",
   "metadata": {},
   "outputs": [
    {
     "name": "stdout",
     "output_type": "stream",
     "text": [
      "Deleting the Azure Cognitive Search index: surveys\n",
      "Done. Elapsed time: 0.66 secs\n"
     ]
    }
   ],
   "source": [
    "delete_index(index_name)"
   ]
  },
  {
   "cell_type": "markdown",
   "id": "0e1e0e6a",
   "metadata": {},
   "source": [
    "### Creating search index"
   ]
  },
  {
   "cell_type": "code",
   "execution_count": 29,
   "id": "0c551775",
   "metadata": {},
   "outputs": [
    {
     "name": "stdout",
     "output_type": "stream",
     "text": [
      "Vector embeddings size = 1536\n"
     ]
    }
   ],
   "source": [
    "vector_search_dim = len(openai_text_embeddings(\"Hello\"))\n",
    "print(\"Vector embeddings size =\", vector_search_dim)"
   ]
  },
  {
   "cell_type": "code",
   "execution_count": 30,
   "id": "19fc42da",
   "metadata": {},
   "outputs": [
    {
     "name": "stdout",
     "output_type": "stream",
     "text": [
      "Done. The surveys Azure Cognitive Search index has been created!\n"
     ]
    }
   ],
   "source": [
    "# Create a search index\n",
    "index_client = SearchIndexClient(\n",
    "    endpoint=acs_endpoint, credential=AzureKeyCredential(acs_key)\n",
    ")\n",
    "fields = [\n",
    "    # Index\n",
    "    SimpleField(\n",
    "        name=\"id\",\n",
    "        type=SearchFieldDataType.String,\n",
    "        key=True,\n",
    "        sortable=True,\n",
    "        filterable=True,\n",
    "        facetable=True,\n",
    "    ),\n",
    "    # Searchable fields\n",
    "    SearchableField(name=\"company\", type=SearchFieldDataType.String, filterable=True),\n",
    "    SearchableField(name=\"month\", type=SearchFieldDataType.String, filterable=True),\n",
    "    SearchableField(name=\"year\", type=SearchFieldDataType.Single, filterable=True),\n",
    "    SearchableField(name=\"comments\", type=SearchFieldDataType.String),\n",
    "    SearchableField(name=\"text\", type=SearchFieldDataType.String),\n",
    "\n",
    "    # Vectors embeddings\n",
    "    SearchField(\n",
    "        name=\"embed_text\",\n",
    "        type=SearchFieldDataType.Collection(SearchFieldDataType.Single),\n",
    "        searchable=True,\n",
    "        vector_search_dimensions=vector_search_dim,\n",
    "        vector_search_configuration=\"my-vector-config\",\n",
    "    ),\n",
    "\n",
    "\n",
    "]\n",
    "\n",
    "\n",
    "# Configuration\n",
    "vector_search = VectorSearch(\n",
    "    algorithm_configurations=[\n",
    "        HnswVectorSearchAlgorithmConfiguration(\n",
    "            name=\"my-vector-config\",\n",
    "            # HNSW is a graph-based Approximate Nearest Neighbors (ANN)\n",
    "            # algorithm optimized for high-recall, low-latency applications\n",
    "            kind=\"hnsw\",\n",
    "            parameters={\n",
    "                \"m\": 4,\n",
    "                \"efConstruction\": 400,\n",
    "                \"efSearch\": 500,\n",
    "                \"metric\": \"cosine\",  # Cosine similarity metric\n",
    "            },\n",
    "        )\n",
    "    ]\n",
    ")\n",
    "\n",
    "semantic_config = SemanticConfiguration(\n",
    "    name=\"my-semantic-config\",\n",
    "    prioritized_fields=PrioritizedFields(\n",
    "        title_field=SemanticField(field_name=\"comments\"),\n",
    "        prioritized_keywords_fields=[SemanticField(field_name=\"month\")],\n",
    "        prioritized_content_fields=[SemanticField(field_name=\"year\")],\n",
    "    ),\n",
    ")\n",
    "\n",
    "# Create the semantic settings with the configuration\n",
    "semantic_settings = SemanticSettings(configurations=[semantic_config])\n",
    "\n",
    "# Create the search index with the semantic settings\n",
    "index = SearchIndex(\n",
    "    name=index_name,\n",
    "    fields=fields,\n",
    "    vector_search=vector_search,\n",
    "    semantic_settings=semantic_settings,\n",
    ")\n",
    "\n",
    "try:\n",
    "    result = index_client.create_or_update_index(index)\n",
    "    print(f\"Done. The {result.name} Azure Cognitive Search index has been created!\")\n",
    "\n",
    "except:\n",
    "    print(f\"Error. The {result.name} Azure Cognitive Search index cannot be created.\")"
   ]
  },
  {
   "cell_type": "markdown",
   "id": "f975c827",
   "metadata": {},
   "source": [
    "## 7. Uploading the documents into the index"
   ]
  },
  {
   "cell_type": "code",
   "execution_count": 31,
   "id": "a6491d06",
   "metadata": {},
   "outputs": [
    {
     "name": "stdout",
     "output_type": "stream",
     "text": [
      "Number of documents to load = 1060\n"
     ]
    }
   ],
   "source": [
    "print(\"Number of documents to load =\", len(documents))"
   ]
  },
  {
   "cell_type": "code",
   "execution_count": 32,
   "id": "c5b89b0c",
   "metadata": {},
   "outputs": [],
   "source": [
    "def upload_documents(docs):\n",
    "    \"\"\"\n",
    "    Uploading documents into the Azure Cognitive Search index\n",
    "    Inputs: documents\n",
    "    Outputs: loading documents to Azure Cognitive Search index\n",
    "    \"\"\"\n",
    "    search_client = SearchClient(\n",
    "        endpoint=acs_endpoint,\n",
    "        index_name=index_name,\n",
    "        credential=AzureKeyCredential(acs_key),\n",
    "    )\n",
    "    result = search_client.upload_documents(docs)"
   ]
  },
  {
   "cell_type": "code",
   "execution_count": 33,
   "id": "d421458b",
   "metadata": {},
   "outputs": [],
   "source": [
    "def chunk_list(input_list, chunk_size):\n",
    "    \"\"\"\n",
    "    Chunk a list according to the chunk_size value\n",
    "    Inputs: documents (list), chunk size list\n",
    "    Outputs: chunk list of documents\n",
    "    \"\"\"\n",
    "    return [\n",
    "        input_list[i : i + chunk_size] for i in range(0, len(input_list), chunk_size)\n",
    "    ]"
   ]
  },
  {
   "cell_type": "code",
   "execution_count": 34,
   "id": "d49c63fa",
   "metadata": {},
   "outputs": [
    {
     "name": "stdout",
     "output_type": "stream",
     "text": [
      "Loading the documents into the Azure Cognitive Search index...\n",
      "Total number of documents to load = 1060\n",
      "\n",
      "Processing chunk 001 | Number of loaded documents = 000100 of 1060 | Done: 9 %\n",
      "Processing chunk 002 | Number of loaded documents = 000200 of 1060 | Done: 19 %\n",
      "Processing chunk 003 | Number of loaded documents = 000300 of 1060 | Done: 28 %\n",
      "Processing chunk 004 | Number of loaded documents = 000400 of 1060 | Done: 38 %\n",
      "Processing chunk 005 | Number of loaded documents = 000500 of 1060 | Done: 47 %\n",
      "Processing chunk 006 | Number of loaded documents = 000600 of 1060 | Done: 57 %\n",
      "Processing chunk 007 | Number of loaded documents = 000700 of 1060 | Done: 66 %\n",
      "Processing chunk 008 | Number of loaded documents = 000800 of 1060 | Done: 75 %\n",
      "Processing chunk 009 | Number of loaded documents = 000900 of 1060 | Done: 85 %\n",
      "Processing chunk 010 | Number of loaded documents = 001000 of 1060 | Done: 94 %\n",
      "Processing chunk 011 | Number of loaded documents = 001100 of 1060 | Done: 100 %\n",
      "\n",
      "Done\n",
      "Elapsed time: 00:00:20.578424\n"
     ]
    }
   ],
   "source": [
    "start = time.time()\n",
    "\n",
    "chunk_size = 100  # We will load documents chunk by chunk\n",
    "chunks = chunk_list(documents, chunk_size)\n",
    "idx = 1\n",
    "\n",
    "print(\"Loading the documents into the Azure Cognitive Search index...\")\n",
    "print(\"Total number of documents to load =\", len(documents))\n",
    "print()\n",
    "\n",
    "loaded_docs = chunk_size\n",
    "\n",
    "for chunk in chunks:\n",
    "    pct_done = round(loaded_docs / len(documents) * 100)\n",
    "    if pct_done >= 100:\n",
    "        pct_done = 100\n",
    "\n",
    "    print(\n",
    "        f\"Processing chunk {idx:03}\",\n",
    "        f\"| Number of loaded documents = {loaded_docs:06}\",\n",
    "        \"of\",\n",
    "        len(documents),\n",
    "        \"| Done:\",\n",
    "        pct_done,\n",
    "        \"%\",\n",
    "    )\n",
    "    upload_documents(chunk)\n",
    "    loaded_docs += chunk_size\n",
    "    idx += 1\n",
    "\n",
    "elapsed = time.time() - start\n",
    "print(\"\\nDone\")\n",
    "print(\n",
    "    \"Elapsed time: \"\n",
    "    + time.strftime(\n",
    "        \"%H:%M:%S.{}\".format(str(elapsed % 1)[2:])[:15], time.gmtime(elapsed)\n",
    "    )\n",
    ")"
   ]
  },
  {
   "cell_type": "code",
   "execution_count": 35,
   "id": "f256de96",
   "metadata": {},
   "outputs": [
    {
     "name": "stdout",
     "output_type": "stream",
     "text": [
      "Elapsed time to process 1060 documents = 21 seconds\n",
      "Time per processed document in second = 0.01941\n",
      "Number of processed documents per second = 51\n"
     ]
    }
   ],
   "source": [
    "print(f\"Elapsed time to process {len(documents)} documents = {round(elapsed)} seconds\")\n",
    "print(f\"Time per processed document in second = {round(elapsed / len(documents), 5)}\")\n",
    "print(f\"Number of processed documents per second = {int(len(documents) / elapsed)}\")"
   ]
  },
  {
   "cell_type": "markdown",
   "id": "e29fd702",
   "metadata": {},
   "source": [
    "## 8. Azure Cognitive Search Index informations"
   ]
  },
  {
   "cell_type": "code",
   "execution_count": 36,
   "id": "9abec83e",
   "metadata": {},
   "outputs": [
    {
     "data": {
      "text/plain": [
       "'surveys'"
      ]
     },
     "execution_count": 36,
     "metadata": {},
     "output_type": "execute_result"
    }
   ],
   "source": [
    "index_name"
   ]
  },
  {
   "cell_type": "code",
   "execution_count": 37,
   "id": "70612697",
   "metadata": {},
   "outputs": [
    {
     "name": "stdout",
     "output_type": "stream",
     "text": [
      "Azure Cognitive Search Index: surveys \n",
      "\n",
      "{\n",
      "     \"@odata.context\": \"https://azurecogsearcheastussr.search.windows.net/$metadata#indexes/$entity\",\n",
      "     \"@odata.etag\": \"\\\"0x8DBAFC1E451A7AF\\\"\",\n",
      "     \"name\": \"surveys\",\n",
      "     \"defaultScoringProfile\": null,\n",
      "     \"fields\": [\n",
      "          {\n",
      "               \"name\": \"id\",\n",
      "               \"type\": \"Edm.String\",\n",
      "               \"searchable\": false,\n",
      "               \"filterable\": true,\n",
      "               \"retrievable\": true,\n",
      "               \"sortable\": true,\n",
      "               \"facetable\": true,\n",
      "               \"key\": true,\n",
      "               \"indexAnalyzer\": null,\n",
      "               \"searchAnalyzer\": null,\n",
      "               \"analyzer\": null,\n",
      "               \"normalizer\": null,\n",
      "               \"synonymMaps\": []\n",
      "          },\n",
      "          {\n",
      "               \"name\": \"company\",\n",
      "               \"type\": \"Edm.String\",\n",
      "               \"searchable\": true,\n",
      "               \"filterable\": true,\n",
      "               \"retrievable\": true,\n",
      "               \"sortable\": false,\n",
      "               \"facetable\": false,\n",
      "               \"key\": false,\n",
      "               \"indexAnalyzer\": null,\n",
      "               \"searchAnalyzer\": null,\n",
      "               \"analyzer\": null,\n",
      "               \"normalizer\": null,\n",
      "               \"synonymMaps\": []\n",
      "          },\n",
      "          {\n",
      "               \"name\": \"month\",\n",
      "               \"type\": \"Edm.String\",\n",
      "               \"searchable\": true,\n",
      "               \"filterable\": true,\n",
      "               \"retrievable\": true,\n",
      "               \"sortable\": false,\n",
      "               \"facetable\": false,\n",
      "               \"key\": false,\n",
      "               \"indexAnalyzer\": null,\n",
      "               \"searchAnalyzer\": null,\n",
      "               \"analyzer\": null,\n",
      "               \"normalizer\": null,\n",
      "               \"synonymMaps\": []\n",
      "          },\n",
      "          {\n",
      "               \"name\": \"year\",\n",
      "               \"type\": \"Edm.String\",\n",
      "               \"searchable\": true,\n",
      "               \"filterable\": true,\n",
      "               \"retrievable\": true,\n",
      "               \"sortable\": false,\n",
      "               \"facetable\": false,\n",
      "               \"key\": false,\n",
      "               \"indexAnalyzer\": null,\n",
      "               \"searchAnalyzer\": null,\n",
      "               \"analyzer\": null,\n",
      "               \"normalizer\": null,\n",
      "               \"synonymMaps\": []\n",
      "          },\n",
      "          {\n",
      "               \"name\": \"comments\",\n",
      "               \"type\": \"Edm.String\",\n",
      "               \"searchable\": true,\n",
      "               \"filterable\": false,\n",
      "               \"retrievable\": true,\n",
      "               \"sortable\": false,\n",
      "               \"facetable\": false,\n",
      "               \"key\": false,\n",
      "               \"indexAnalyzer\": null,\n",
      "               \"searchAnalyzer\": null,\n",
      "               \"analyzer\": null,\n",
      "               \"normalizer\": null,\n",
      "               \"synonymMaps\": []\n",
      "          },\n",
      "          {\n",
      "               \"name\": \"text\",\n",
      "               \"type\": \"Edm.String\",\n",
      "               \"searchable\": true,\n",
      "               \"filterable\": false,\n",
      "               \"retrievable\": true,\n",
      "               \"sortable\": false,\n",
      "               \"facetable\": false,\n",
      "               \"key\": false,\n",
      "               \"indexAnalyzer\": null,\n",
      "               \"searchAnalyzer\": null,\n",
      "               \"analyzer\": null,\n",
      "               \"normalizer\": null,\n",
      "               \"synonymMaps\": []\n",
      "          },\n",
      "          {\n",
      "               \"name\": \"embed_text\",\n",
      "               \"type\": \"Collection(Edm.Single)\",\n",
      "               \"searchable\": true,\n",
      "               \"filterable\": false,\n",
      "               \"retrievable\": true,\n",
      "               \"sortable\": false,\n",
      "               \"facetable\": false,\n",
      "               \"key\": false,\n",
      "               \"indexAnalyzer\": null,\n",
      "               \"searchAnalyzer\": null,\n",
      "               \"analyzer\": null,\n",
      "               \"normalizer\": null,\n",
      "               \"synonymMaps\": []\n",
      "          }\n",
      "     ],\n",
      "     \"scoringProfiles\": [],\n",
      "     \"corsOptions\": null,\n",
      "     \"suggesters\": [],\n",
      "     \"analyzers\": [],\n",
      "     \"normalizers\": [],\n",
      "     \"tokenizers\": [],\n",
      "     \"tokenFilters\": [],\n",
      "     \"charFilters\": [],\n",
      "     \"encryptionKey\": null,\n",
      "     \"similarity\": {\n",
      "          \"@odata.type\": \"#Microsoft.Azure.Search.BM25Similarity\",\n",
      "          \"k1\": null,\n",
      "          \"b\": null\n",
      "     },\n",
      "     \"semantic\": {\n",
      "          \"defaultConfiguration\": null,\n",
      "          \"configurations\": [\n",
      "               {\n",
      "                    \"name\": \"my-semantic-config\",\n",
      "                    \"prioritizedFields\": {\n",
      "                         \"titleField\": {\n",
      "                              \"fieldName\": \"comments\"\n",
      "                         },\n",
      "                         \"prioritizedContentFields\": [\n",
      "                              {\n",
      "                                   \"fieldName\": \"year\"\n",
      "                              }\n",
      "                         ],\n",
      "                         \"prioritizedKeywordsFields\": [\n",
      "                              {\n",
      "                                   \"fieldName\": \"month\"\n",
      "                              }\n",
      "                         ]\n",
      "                    }\n",
      "               }\n",
      "          ]\n",
      "     }\n",
      "}\n"
     ]
    }
   ],
   "source": [
    "index_status(index_name)"
   ]
  },
  {
   "cell_type": "code",
   "execution_count": 38,
   "id": "291d88e2",
   "metadata": {},
   "outputs": [
    {
     "name": "stdout",
     "output_type": "stream",
     "text": [
      "Azure Cognitive Search index status for: surveys \n",
      "\n",
      "{\n",
      "  \"@odata.context\": \"https://azurecogsearcheastussr.search.windows.net/$metadata#Microsoft.Azure.Search.V2021_04_30_Preview.IndexStatistics\",\n",
      "  \"documentCount\": 0,\n",
      "  \"storageSize\": 0\n",
      "}\n"
     ]
    }
   ],
   "source": [
    "document_count, storage_size = index_stats(index_name)"
   ]
  },
  {
   "cell_type": "code",
   "execution_count": 39,
   "id": "3ba394a0",
   "metadata": {},
   "outputs": [
    {
     "name": "stdout",
     "output_type": "stream",
     "text": [
      "Number of documents in the index = 0\n",
      "Size of the index = 0.0 MB\n"
     ]
    }
   ],
   "source": [
    "print(\"Number of documents in the index =\", f\"{document_count:,}\")\n",
    "print(\"Size of the index =\", round(storage_size / (1024 * 1024), 2), \"MB\")"
   ]
  },
  {
   "cell_type": "markdown",
   "id": "59c3db49",
   "metadata": {},
   "source": [
    "Note: Please wait some time in order to have the updated results"
   ]
  },
  {
   "cell_type": "markdown",
   "id": "306abe6b",
   "metadata": {},
   "source": [
    "> Go to the next notebook"
   ]
  }
 ],
 "metadata": {
  "kernelspec": {
   "display_name": "Python 3.10 - SDK v2",
   "language": "python",
   "name": "python310-sdkv2"
  },
  "language_info": {
   "codemirror_mode": {
    "name": "ipython",
    "version": 3
   },
   "file_extension": ".py",
   "mimetype": "text/x-python",
   "name": "python",
   "nbconvert_exporter": "python",
   "pygments_lexer": "ipython3",
   "version": "3.10.10"
  }
 },
 "nbformat": 4,
 "nbformat_minor": 5
}
