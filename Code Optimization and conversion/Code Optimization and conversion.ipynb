{
 "cells": [
  {
   "cell_type": "markdown",
   "id": "bbeeb8bc",
   "metadata": {},
   "source": [
    "# Code Optimization and conversion"
   ]
  },
  {
   "cell_type": "code",
   "execution_count": 1,
   "id": "eeefd124",
   "metadata": {},
   "outputs": [],
   "source": [
    "import os\n",
    "import openai\n",
    "\n",
    "from dotenv import load_dotenv"
   ]
  },
  {
   "cell_type": "code",
   "execution_count": 2,
   "id": "023347ac",
   "metadata": {},
   "outputs": [
    {
     "name": "stdout",
     "output_type": "stream",
     "text": [
      "openai version = 0.28.0\n"
     ]
    }
   ],
   "source": [
    "print(\"openai version =\", openai.__version__)"
   ]
  },
  {
   "cell_type": "code",
   "execution_count": 3,
   "id": "1eb66c65",
   "metadata": {},
   "outputs": [],
   "source": [
    "load_dotenv(\"azure.env\")\n",
    "\n",
    "openai.api_key = os.getenv(\"OPENAI_API_KEY\")\n",
    "openai.api_base = os.getenv(\"OPENAI_API_BASE\")\n",
    "openai.api_version = \"2023-07-01-preview\"\n",
    "openai.api_type = \"azure\""
   ]
  },
  {
   "cell_type": "code",
   "execution_count": 4,
   "id": "4e151c2f",
   "metadata": {},
   "outputs": [],
   "source": [
    "engine = \"gpt-35-turbo-16k\""
   ]
  },
  {
   "cell_type": "markdown",
   "id": "5fd1f3ec",
   "metadata": {},
   "source": [
    "## Example 1"
   ]
  },
  {
   "cell_type": "code",
   "execution_count": 5,
   "id": "6cfc642c",
   "metadata": {},
   "outputs": [],
   "source": [
    "query = \"How to load images from the DIR1 directory, resize them to 640*640 and save them to the DIR2 directory?\""
   ]
  },
  {
   "cell_type": "code",
   "execution_count": 6,
   "id": "ef540092",
   "metadata": {},
   "outputs": [],
   "source": [
    "messages = [\n",
    "    {\n",
    "        \"role\": \"assistant\",\n",
    "        \"content\": \"You are a python expert. You will analyse the prompt and generate the python code.\",\n",
    "    },\n",
    "    {\"role\": \"user\", \"content\": query},\n",
    "]"
   ]
  },
  {
   "cell_type": "code",
   "execution_count": 7,
   "id": "38764597",
   "metadata": {},
   "outputs": [],
   "source": [
    "response = openai.ChatCompletion.create(\n",
    "    deployment_id=engine,\n",
    "    messages=messages,\n",
    "    temperature=0,\n",
    "    max_tokens=2048,\n",
    ")"
   ]
  },
  {
   "cell_type": "code",
   "execution_count": 8,
   "id": "a1985207",
   "metadata": {},
   "outputs": [
    {
     "data": {
      "text/plain": [
       "<OpenAIObject chat.completion id=chatcmpl-7xI4ryQm9Ffm4NyebSK9SQR85bHuh at 0x7ff6ea7615d0> JSON: {\n",
       "  \"id\": \"chatcmpl-7xI4ryQm9Ffm4NyebSK9SQR85bHuh\",\n",
       "  \"object\": \"chat.completion\",\n",
       "  \"created\": 1694365197,\n",
       "  \"model\": \"gpt-35-turbo-16k\",\n",
       "  \"prompt_annotations\": [\n",
       "    {\n",
       "      \"prompt_index\": 0,\n",
       "      \"content_filter_results\": {\n",
       "        \"hate\": {\n",
       "          \"filtered\": false,\n",
       "          \"severity\": \"safe\"\n",
       "        },\n",
       "        \"self_harm\": {\n",
       "          \"filtered\": false,\n",
       "          \"severity\": \"safe\"\n",
       "        },\n",
       "        \"sexual\": {\n",
       "          \"filtered\": false,\n",
       "          \"severity\": \"safe\"\n",
       "        },\n",
       "        \"violence\": {\n",
       "          \"filtered\": false,\n",
       "          \"severity\": \"safe\"\n",
       "        }\n",
       "      }\n",
       "    }\n",
       "  ],\n",
       "  \"choices\": [\n",
       "    {\n",
       "      \"index\": 0,\n",
       "      \"finish_reason\": \"stop\",\n",
       "      \"message\": {\n",
       "        \"role\": \"assistant\",\n",
       "        \"content\": \"To load images from a directory, resize them, and save them to another directory, you can use the Python library called `PIL` (Python Imaging Library). Here's an example code snippet that demonstrates how to achieve this:\\n\\n```python\\nfrom PIL import Image\\nimport os\\n\\n# Set the directories\\nDIR1 = 'path/to/DIR1'\\nDIR2 = 'path/to/DIR2'\\n\\n# Get the list of image files in DIR1\\nimage_files = [f for f in os.listdir(DIR1) if os.path.isfile(os.path.join(DIR1, f))]\\n\\n# Loop through each image file\\nfor file_name in image_files:\\n    # Open the image file\\n    image = Image.open(os.path.join(DIR1, file_name))\\n    \\n    # Resize the image to 640x640\\n    resized_image = image.resize((640, 640))\\n    \\n    # Save the resized image to DIR2\\n    resized_image.save(os.path.join(DIR2, file_name))\\n```\\n\\nMake sure to replace `'path/to/DIR1'` and `'path/to/DIR2'` with the actual paths to your directories. This code assumes that the directories contain only image files and no subdirectories.\"\n",
       "      },\n",
       "      \"content_filter_results\": {\n",
       "        \"hate\": {\n",
       "          \"filtered\": false,\n",
       "          \"severity\": \"safe\"\n",
       "        },\n",
       "        \"self_harm\": {\n",
       "          \"filtered\": false,\n",
       "          \"severity\": \"safe\"\n",
       "        },\n",
       "        \"sexual\": {\n",
       "          \"filtered\": false,\n",
       "          \"severity\": \"safe\"\n",
       "        },\n",
       "        \"violence\": {\n",
       "          \"filtered\": false,\n",
       "          \"severity\": \"safe\"\n",
       "        }\n",
       "      }\n",
       "    }\n",
       "  ],\n",
       "  \"usage\": {\n",
       "    \"completion_tokens\": 248,\n",
       "    \"prompt_tokens\": 54,\n",
       "    \"total_tokens\": 302\n",
       "  }\n",
       "}"
      ]
     },
     "execution_count": 8,
     "metadata": {},
     "output_type": "execute_result"
    }
   ],
   "source": [
    "response"
   ]
  },
  {
   "cell_type": "code",
   "execution_count": 9,
   "id": "f8bf04a7",
   "metadata": {},
   "outputs": [
    {
     "name": "stdout",
     "output_type": "stream",
     "text": [
      "To load images from a directory, resize them, and save them to another directory, you can use the Python library called `PIL` (Python Imaging Library). Here's an example code snippet that demonstrates how to achieve this:\n",
      "\n",
      "```python\n",
      "from PIL import Image\n",
      "import os\n",
      "\n",
      "# Set the directories\n",
      "DIR1 = 'path/to/DIR1'\n",
      "DIR2 = 'path/to/DIR2'\n",
      "\n",
      "# Get the list of image files in DIR1\n",
      "image_files = [f for f in os.listdir(DIR1) if os.path.isfile(os.path.join(DIR1, f))]\n",
      "\n",
      "# Loop through each image file\n",
      "for file_name in image_files:\n",
      "    # Open the image file\n",
      "    image = Image.open(os.path.join(DIR1, file_name))\n",
      "    \n",
      "    # Resize the image to 640x640\n",
      "    resized_image = image.resize((640, 640))\n",
      "    \n",
      "    # Save the resized image to DIR2\n",
      "    resized_image.save(os.path.join(DIR2, file_name))\n",
      "```\n",
      "\n",
      "Make sure to replace `'path/to/DIR1'` and `'path/to/DIR2'` with the actual paths to your directories. This code assumes that the directories contain only image files and no subdirectories.\n"
     ]
    }
   ],
   "source": [
    "print(response[\"choices\"][0][\"message\"][\"content\"])"
   ]
  },
  {
   "cell_type": "markdown",
   "id": "f038263f",
   "metadata": {},
   "source": [
    "## Example 2"
   ]
  },
  {
   "cell_type": "code",
   "execution_count": 10,
   "id": "691e1935",
   "metadata": {},
   "outputs": [],
   "source": [
    "query = \"How to load images from the TEST directory, resize them to 640*640 and save them to the TEST2 \\\n",
    "directory using OpenCV?\""
   ]
  },
  {
   "cell_type": "code",
   "execution_count": 11,
   "id": "5ea18f1c",
   "metadata": {},
   "outputs": [],
   "source": [
    "messages = [\n",
    "    {\n",
    "        \"role\": \"assistant\",\n",
    "        \"content\": \"You are a python expert. You will analyse the prompt and generate the python code.\",\n",
    "    },\n",
    "    {\"role\": \"user\", \"content\": query},\n",
    "]"
   ]
  },
  {
   "cell_type": "code",
   "execution_count": 12,
   "id": "c94420f5",
   "metadata": {},
   "outputs": [
    {
     "name": "stdout",
     "output_type": "stream",
     "text": [
      "To load images from the TEST directory, resize them to 640x640, and save them to the TEST2 directory using OpenCV, you can use the following Python code:\n",
      "\n",
      "```python\n",
      "import os\n",
      "import cv2\n",
      "\n",
      "# Path to the directory containing the images\n",
      "input_dir = 'TEST'\n",
      "\n",
      "# Path to the directory where the resized images will be saved\n",
      "output_dir = 'TEST2'\n",
      "\n",
      "# Create the output directory if it doesn't exist\n",
      "os.makedirs(output_dir, exist_ok=True)\n",
      "\n",
      "# Loop through all the files in the input directory\n",
      "for filename in os.listdir(input_dir):\n",
      "    # Load the image using OpenCV\n",
      "    image = cv2.imread(os.path.join(input_dir, filename))\n",
      "    \n",
      "    # Resize the image to 640x640\n",
      "    resized_image = cv2.resize(image, (640, 640))\n",
      "    \n",
      "    # Save the resized image to the output directory\n",
      "    cv2.imwrite(os.path.join(output_dir, filename), resized_image)\n",
      "```\n",
      "\n",
      "Make sure to replace `'TEST'` with the actual path to your input directory and `'TEST2'` with the desired path to your output directory.\n"
     ]
    }
   ],
   "source": [
    "response = openai.ChatCompletion.create(\n",
    "    deployment_id=engine,\n",
    "    messages=messages,\n",
    "    temperature=0,\n",
    "    max_tokens=2048,\n",
    ")\n",
    "\n",
    "print(response[\"choices\"][0][\"message\"][\"content\"])"
   ]
  },
  {
   "cell_type": "markdown",
   "id": "a4221106",
   "metadata": {},
   "source": [
    "## Example 3"
   ]
  },
  {
   "cell_type": "code",
   "execution_count": 13,
   "id": "63133caa",
   "metadata": {},
   "outputs": [],
   "source": [
    "query = \"How to compute the cosine similarity metric?\""
   ]
  },
  {
   "cell_type": "code",
   "execution_count": 14,
   "id": "34c46b0b",
   "metadata": {},
   "outputs": [],
   "source": [
    "messages = [\n",
    "    {\n",
    "        \"role\": \"assistant\",\n",
    "        \"content\": \"You are a python expert. You will analyse the prompt and generate the python code.\",\n",
    "    },\n",
    "    {\"role\": \"user\", \"content\": query},\n",
    "]"
   ]
  },
  {
   "cell_type": "code",
   "execution_count": 15,
   "id": "3dcde979",
   "metadata": {},
   "outputs": [
    {
     "name": "stdout",
     "output_type": "stream",
     "text": [
      "To compute the cosine similarity metric, you can use the following steps:\n",
      "\n",
      "1. Import the necessary libraries:\n",
      "```python\n",
      "import numpy as np\n",
      "from sklearn.metrics.pairwise import cosine_similarity\n",
      "```\n",
      "\n",
      "2. Prepare your data:\n",
      "   - Convert your data into numerical vectors. This can be done using techniques like bag-of-words, TF-IDF, or word embeddings.\n",
      "   - Ensure that your data is in the form of a matrix, where each row represents a document or a data point, and each column represents a feature or a dimension.\n",
      "\n",
      "3. Compute the cosine similarity:\n",
      "```python\n",
      "# Assuming you have two data points represented as vectors: vector1 and vector2\n",
      "# Reshape the vectors into 2D arrays\n",
      "vector1 = np.array(vector1).reshape(1, -1)\n",
      "vector2 = np.array(vector2).reshape(1, -1)\n",
      "\n",
      "# Compute the cosine similarity between the two vectors\n",
      "similarity_score = cosine_similarity(vector1, vector2)[0][0]\n",
      "```\n",
      "\n",
      "The `cosine_similarity` function from the `sklearn.metrics.pairwise` module calculates the cosine similarity between two vectors. It takes two matrices as input and returns a similarity matrix. In this case, since we are comparing only two vectors, we access the similarity score at index `[0][0]`.\n",
      "\n",
      "Note: Make sure that the vectors have the same dimensions before computing the cosine similarity. If they have different dimensions, you may need to preprocess or normalize the vectors accordingly.\n"
     ]
    }
   ],
   "source": [
    "response = openai.ChatCompletion.create(\n",
    "    deployment_id=engine,\n",
    "    messages=messages,\n",
    "    temperature=0,\n",
    "    max_tokens=2048,\n",
    ")\n",
    "\n",
    "print(response[\"choices\"][0][\"message\"][\"content\"])"
   ]
  },
  {
   "cell_type": "markdown",
   "id": "8d4d161d",
   "metadata": {},
   "source": [
    "## Example 4"
   ]
  },
  {
   "cell_type": "code",
   "execution_count": 16,
   "id": "b95dc358",
   "metadata": {},
   "outputs": [],
   "source": [
    "with open(\"mycode.py\", \"r\") as file:\n",
    "    mycode = file.read()"
   ]
  },
  {
   "cell_type": "code",
   "execution_count": 17,
   "id": "edc32699",
   "metadata": {},
   "outputs": [
    {
     "name": "stdout",
     "output_type": "stream",
     "text": [
      "# Add three to all list members.\n",
      "a = [3, 4, 5]\n",
      "b = a                     # a and b refer to the same list object\n",
      "\n",
      "for i in range(len(a)):\n",
      "    a[i] += 3             # b[i] also changes\n"
     ]
    }
   ],
   "source": [
    "print(mycode)"
   ]
  },
  {
   "cell_type": "code",
   "execution_count": 18,
   "id": "c381f9c8",
   "metadata": {},
   "outputs": [],
   "source": [
    "messages = [\n",
    "    {\n",
    "        \"role\": \"assistant\",\n",
    "        \"content\": \"You are a python expert. You will analyse the code and will make some suggestions to improve it.\",\n",
    "    },\n",
    "    {\"role\": \"user\", \"content\": mycode},\n",
    "]"
   ]
  },
  {
   "cell_type": "code",
   "execution_count": 19,
   "id": "a2661e18",
   "metadata": {},
   "outputs": [
    {
     "name": "stdout",
     "output_type": "stream",
     "text": [
      "The code provided is correct and achieves the desired result of adding three to all members of the list `a`. However, there are a few suggestions to improve the code:\n",
      "\n",
      "1. Use a list comprehension instead of a for loop to simplify the code and make it more concise:\n",
      "\n",
      "```python\n",
      "a = [x + 3 for x in a]\n",
      "```\n",
      "\n",
      "2. Avoid using the assignment `b = a` if you don't intend to modify `b` later on. This can lead to confusion and unintended side effects. If you need a separate copy of the list, use the `copy()` method:\n",
      "\n",
      "```python\n",
      "b = a.copy()\n",
      "```\n",
      "\n",
      "3. Consider using more descriptive variable names to improve code readability. For example, instead of `a` and `b`, you could use `original_list` and `modified_list`.\n",
      "\n",
      "Here's an updated version of the code incorporating these suggestions:\n",
      "\n",
      "```python\n",
      "original_list = [3, 4, 5]\n",
      "modified_list = original_list.copy()\n",
      "\n",
      "modified_list = [x + 3 for x in modified_list]\n",
      "```\n"
     ]
    }
   ],
   "source": [
    "response = openai.ChatCompletion.create(\n",
    "    deployment_id=engine,\n",
    "    messages=messages,\n",
    "    temperature=0,\n",
    "    max_tokens=2048,\n",
    ")\n",
    "\n",
    "print(response[\"choices\"][0][\"message\"][\"content\"])"
   ]
  },
  {
   "cell_type": "markdown",
   "id": "99cddbb9",
   "metadata": {},
   "source": [
    "## Example 5"
   ]
  },
  {
   "cell_type": "code",
   "execution_count": 20,
   "id": "fef531ce",
   "metadata": {},
   "outputs": [
    {
     "name": "stdout",
     "output_type": "stream",
     "text": [
      "# Add three to all list members.\n",
      "a = [3, 4, 5]\n",
      "b = a                     # a and b refer to the same list object\n",
      "\n",
      "for i in range(len(a)):\n",
      "    a[i] += 3             # b[i] also changes\n"
     ]
    }
   ],
   "source": [
    "print(mycode)"
   ]
  },
  {
   "cell_type": "code",
   "execution_count": 21,
   "id": "d7504944",
   "metadata": {},
   "outputs": [],
   "source": [
    "messages = [\n",
    "    {\n",
    "        \"role\": \"assistant\",\n",
    "        \"content\": \"You are a python expert. You will analyse the code and generate some SAS code.\\\n",
    "     You should provide an updated version of the code.\",\n",
    "    },\n",
    "    {\"role\": \"user\", \"content\": mycode},\n",
    "]"
   ]
  },
  {
   "cell_type": "code",
   "execution_count": 22,
   "id": "1ae43e10",
   "metadata": {},
   "outputs": [
    {
     "name": "stdout",
     "output_type": "stream",
     "text": [
      "/* Add three to all list members. */\n",
      "data a;\n",
      "    input value;\n",
      "    datalines;\n",
      "3\n",
      "4\n",
      "5\n",
      ";\n",
      "run;\n",
      "\n",
      "data b;\n",
      "    set a;\n",
      "    value = value + 3;\n",
      "run;\n"
     ]
    }
   ],
   "source": [
    "response = openai.ChatCompletion.create(\n",
    "    deployment_id=engine,\n",
    "    messages=messages,\n",
    "    temperature=0,\n",
    "    max_tokens=2048,\n",
    ")\n",
    "\n",
    "print(response[\"choices\"][0][\"message\"][\"content\"])"
   ]
  },
  {
   "cell_type": "markdown",
   "id": "ad2aeeab",
   "metadata": {},
   "source": [
    "## Example 6"
   ]
  },
  {
   "cell_type": "code",
   "execution_count": 23,
   "id": "3076eb05",
   "metadata": {},
   "outputs": [],
   "source": [
    "with open(\"mycode2.py\", \"r\") as file:\n",
    "    mycode = file.read()"
   ]
  },
  {
   "cell_type": "code",
   "execution_count": 24,
   "id": "7e6ce0f5",
   "metadata": {},
   "outputs": [
    {
     "name": "stdout",
     "output_type": "stream",
     "text": [
      "if a==1;\n",
      "    choice = 'One'\n",
      "elif a == 2:\n",
      "    choice = \"Two\"\n",
      "else:\n",
      "    choice = \"Something\"\n",
      "    \n"
     ]
    }
   ],
   "source": [
    "print(mycode)"
   ]
  },
  {
   "cell_type": "code",
   "execution_count": 25,
   "id": "f9632ef0",
   "metadata": {},
   "outputs": [],
   "source": [
    "messages = [\n",
    "    {\"role\": \"assistant\", \"content\": \"You are a python expert. Optimize this code.\"},\n",
    "    {\"role\": \"user\", \"content\": mycode},\n",
    "]"
   ]
  },
  {
   "cell_type": "code",
   "execution_count": 26,
   "id": "c86fc408",
   "metadata": {},
   "outputs": [
    {
     "name": "stdout",
     "output_type": "stream",
     "text": [
      "choice = \"One\" if a == 1 else \"Two\" if a == 2 else \"Something\"\n"
     ]
    }
   ],
   "source": [
    "response = openai.ChatCompletion.create(\n",
    "    deployment_id=engine,\n",
    "    messages=messages,\n",
    "    temperature=0,\n",
    "    max_tokens=2048,\n",
    ")\n",
    "\n",
    "print(response[\"choices\"][0][\"message\"][\"content\"])"
   ]
  },
  {
   "cell_type": "code",
   "execution_count": null,
   "id": "a181e615",
   "metadata": {},
   "outputs": [],
   "source": []
  }
 ],
 "metadata": {
  "kernelspec": {
   "display_name": "Python 3.10 - SDK v2",
   "language": "python",
   "name": "python310-sdkv2"
  },
  "language_info": {
   "codemirror_mode": {
    "name": "ipython",
    "version": 3
   },
   "file_extension": ".py",
   "mimetype": "text/x-python",
   "name": "python",
   "nbconvert_exporter": "python",
   "pygments_lexer": "ipython3",
   "version": "3.10.10"
  }
 },
 "nbformat": 4,
 "nbformat_minor": 5
}
