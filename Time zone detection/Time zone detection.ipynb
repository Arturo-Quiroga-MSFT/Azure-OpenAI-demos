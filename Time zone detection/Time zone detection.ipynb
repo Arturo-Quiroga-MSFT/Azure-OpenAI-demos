{
 "cells": [
  {
   "cell_type": "markdown",
   "id": "8a157fb8",
   "metadata": {},
   "source": [
    "# Time zone detections with Azure Open AI"
   ]
  },
  {
   "cell_type": "code",
   "execution_count": 1,
   "id": "e08cdbd6",
   "metadata": {},
   "outputs": [],
   "source": [
    "import datetime\n",
    "import openai\n",
    "import os\n",
    "import sys\n",
    "\n",
    "from dotenv import load_dotenv"
   ]
  },
  {
   "cell_type": "code",
   "execution_count": 2,
   "id": "14be4f9e",
   "metadata": {},
   "outputs": [
    {
     "data": {
      "text/plain": [
       "'3.10.10 (main, Mar 21 2023, 18:45:11) [GCC 11.2.0]'"
      ]
     },
     "execution_count": 2,
     "metadata": {},
     "output_type": "execute_result"
    }
   ],
   "source": [
    "sys.version"
   ]
  },
  {
   "cell_type": "code",
   "execution_count": 3,
   "id": "77c69ef6",
   "metadata": {},
   "outputs": [
    {
     "name": "stdout",
     "output_type": "stream",
     "text": [
      "Today is 09-Nov-2023 10:40:04\n"
     ]
    }
   ],
   "source": [
    "print(f\"Today is {datetime.datetime.today().strftime('%d-%b-%Y %H:%M:%S')}\")"
   ]
  },
  {
   "cell_type": "code",
   "execution_count": 4,
   "id": "55d27ebf",
   "metadata": {},
   "outputs": [
    {
     "name": "stdout",
     "output_type": "stream",
     "text": [
      "Open AI version: 0.28.1\n"
     ]
    }
   ],
   "source": [
    "load_dotenv(\"azure.env\")\n",
    "\n",
    "# Azure Open AI\n",
    "openai.api_type: str = \"azure\"\n",
    "openai.api_key = os.getenv(\"OPENAI_API_KEY\")\n",
    "openai.api_base = os.getenv(\"OPENAI_API_BASE\")\n",
    "openai.api_version = os.getenv(\"OPENAI_API_VERSION\")\n",
    "\n",
    "print(\"Open AI version:\", openai.__version__)"
   ]
  },
  {
   "cell_type": "markdown",
   "id": "87d3bd2b",
   "metadata": {},
   "source": [
    "## Function"
   ]
  },
  {
   "cell_type": "code",
   "execution_count": 5,
   "id": "ed7bc8a5",
   "metadata": {},
   "outputs": [],
   "source": [
    "def tz(query):\n",
    "    \"\"\"\n",
    "    Time Zone analysis with Azure Open AI\n",
    "    \"\"\"\n",
    "    prompt = f\"\"\" You are a time zone asistant.\n",
    "    You should detect the time zones from the query.   \n",
    "    print the results in a python list.\n",
    "    Examples:\n",
    "    \"timeZone\": \"PST\", \"time\": \"10:00\",\n",
    "    \"timeZone\": \"GMT\", \"time\": \"23:00\".\n",
    "    Do not add addtional info.\n",
    "    Text is: {query}\"\"\"\n",
    "\n",
    "    response = openai.Completion.create(\n",
    "        engine=\"text-davinci-003\",\n",
    "        prompt=prompt,\n",
    "        max_tokens=4000,\n",
    "        temperature=0.7,\n",
    "    )\n",
    "\n",
    "    result = response[\"choices\"][0][\"text\"].replace(\"\\n\", \"\")\n",
    "\n",
    "    return result"
   ]
  },
  {
   "cell_type": "markdown",
   "id": "2741001c",
   "metadata": {},
   "source": [
    "## Testing"
   ]
  },
  {
   "cell_type": "code",
   "execution_count": 6,
   "id": "2fd2d9b3",
   "metadata": {},
   "outputs": [
    {
     "name": "stdout",
     "output_type": "stream",
     "text": [
      "['CET', '10:20']\n"
     ]
    }
   ],
   "source": [
    "prompt = \"It's 10:20 AM in Paris\"\n",
    "\n",
    "print(tz(prompt))"
   ]
  },
  {
   "cell_type": "code",
   "execution_count": 7,
   "id": "87c15c78",
   "metadata": {},
   "outputs": [
    {
     "name": "stdout",
     "output_type": "stream",
     "text": [
      "[\"GMT\", \"15:17\"]\n"
     ]
    }
   ],
   "source": [
    "prompt = \"It's 15:17 in London\"\n",
    "\n",
    "print(tz(prompt))"
   ]
  },
  {
   "cell_type": "code",
   "execution_count": 8,
   "id": "77322a6a",
   "metadata": {},
   "outputs": [
    {
     "name": "stdout",
     "output_type": "stream",
     "text": [
      "['CST', '22:49']\n"
     ]
    }
   ],
   "source": [
    "prompt = \"It is 10:49 PM in Chicago.\"\n",
    "\n",
    "print(tz(prompt))"
   ]
  },
  {
   "cell_type": "code",
   "execution_count": 9,
   "id": "d0955dee",
   "metadata": {},
   "outputs": [
    {
     "name": "stdout",
     "output_type": "stream",
     "text": [
      "['JST', '05:49']\n"
     ]
    }
   ],
   "source": [
    "prompt = \"It is 05:49 in Tokyo.\"\n",
    "\n",
    "print(tz(prompt))"
   ]
  },
  {
   "cell_type": "code",
   "execution_count": null,
   "id": "23aff595",
   "metadata": {},
   "outputs": [],
   "source": []
  }
 ],
 "metadata": {
  "kernelspec": {
   "display_name": "Python 3.10 - SDK v2",
   "language": "python",
   "name": "python310-sdkv2"
  },
  "language_info": {
   "codemirror_mode": {
    "name": "ipython",
    "version": 3
   },
   "file_extension": ".py",
   "mimetype": "text/x-python",
   "name": "python",
   "nbconvert_exporter": "python",
   "pygments_lexer": "ipython3",
   "version": "3.10.10"
  }
 },
 "nbformat": 4,
 "nbformat_minor": 5
}
