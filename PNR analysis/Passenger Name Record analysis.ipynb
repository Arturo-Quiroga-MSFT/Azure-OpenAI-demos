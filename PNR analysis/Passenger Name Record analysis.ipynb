{
 "cells": [
  {
   "cell_type": "markdown",
   "id": "20e46c2f",
   "metadata": {},
   "source": [
    "# Passenger Name Record analysis"
   ]
  },
  {
   "cell_type": "code",
   "execution_count": 1,
   "id": "a9ed10c4",
   "metadata": {},
   "outputs": [],
   "source": [
    "import datetime\n",
    "import os\n",
    "import openai\n",
    "import sys\n",
    "\n",
    "from dotenv import load_dotenv"
   ]
  },
  {
   "cell_type": "code",
   "execution_count": 2,
   "id": "bacb98f7",
   "metadata": {},
   "outputs": [
    {
     "name": "stdout",
     "output_type": "stream",
     "text": [
      "Open AI version: 0.28.0\n"
     ]
    }
   ],
   "source": [
    "load_dotenv(\"azure.env\")\n",
    "\n",
    "# Azure Open AI\n",
    "openai.api_type: str = \"azure\"\n",
    "openai.api_key = os.getenv(\"OPENAI_API_KEY\")\n",
    "openai.api_base = os.getenv(\"OPENAI_API_BASE\")\n",
    "openai.api_version = os.getenv(\"OPENAI_API_VERSION\")\n",
    "\n",
    "print(\"Open AI version:\", openai.__version__)"
   ]
  },
  {
   "cell_type": "code",
   "execution_count": 3,
   "id": "6b463bec",
   "metadata": {},
   "outputs": [
    {
     "name": "stdout",
     "output_type": "stream",
     "text": [
      "Today is: 21-Sep-2023 08:17:06\n"
     ]
    }
   ],
   "source": [
    "print('Today is:', datetime.datetime.today().strftime ('%d-%b-%Y %H:%M:%S'))"
   ]
  },
  {
   "cell_type": "code",
   "execution_count": 4,
   "id": "3dd263bd",
   "metadata": {},
   "outputs": [
    {
     "data": {
      "text/plain": [
       "'3.10.10 (main, Mar 21 2023, 18:45:11) [GCC 11.2.0]'"
      ]
     },
     "execution_count": 4,
     "metadata": {},
     "output_type": "execute_result"
    }
   ],
   "source": [
    "sys.version"
   ]
  },
  {
   "cell_type": "markdown",
   "id": "bf083314",
   "metadata": {},
   "source": [
    "## Function"
   ]
  },
  {
   "cell_type": "code",
   "execution_count": 5,
   "id": "1a4b5443",
   "metadata": {},
   "outputs": [],
   "source": [
    "model = \"text-davinci-003\""
   ]
  },
  {
   "cell_type": "code",
   "execution_count": 6,
   "id": "c2dd2175",
   "metadata": {},
   "outputs": [],
   "source": [
    "def azure_openai(prompt, temperature=0.8):\n",
    "    \"\"\"\n",
    "    Get Azure Open AI results\n",
    "    \"\"\"\n",
    "    prompt = prompt + \"\\n\" + text\n",
    "\n",
    "    results = openai.Completion.create(\n",
    "        engine=model,\n",
    "        prompt=prompt,\n",
    "        temperature=temperature,\n",
    "        max_tokens=800,\n",
    "    )\n",
    "\n",
    "    answer = results[\"choices\"][0][\"text\"].strip(\"\\n\")\n",
    "\n",
    "    return answer"
   ]
  },
  {
   "cell_type": "markdown",
   "id": "6ba8838d",
   "metadata": {},
   "source": [
    "## Test"
   ]
  },
  {
   "cell_type": "code",
   "execution_count": 7,
   "id": "5d782d44",
   "metadata": {},
   "outputs": [
    {
     "name": "stdout",
     "output_type": "stream",
     "text": [
      "\n",
      "RP/KULMHOBAA/KULMHOSAA\n",
      "FY/IT 8FEB23/2308Z 59W78V\n",
      "000 ON/ABXXXAM/CXXXXXXXXAJ MR(ADT)\n",
      "000 OS/MH5483 O 10MAR 5 SZBXSP LK1 0930 1050/NN *1A/E*\n",
      "000 05/MH5470 O 15MAR 3 XSPSZB LK1 1635 1755/NN *1A/E*\n",
      "000 OP/APE\n",
      "TEST@TEST.COM\n",
      "000 OP/APN MH/M+617713456122/EN/ABXXXAM/ (XXXXXXXXAJ MR(ADT)\n",
      "000 OP/APN\n",
      "MH/E+TEST@TEST.COM/EN/ABXXXAM/ ABXXXAM/(XXXXXXXXAJ MR(\n",
      "000 OT/TKXL 09FEB/0917/KULMHOBAA\n",
      "000 OR/SSR CCMMHHK1 61770000022/EN/ABXXXAM/ (XXXXXXXXAJ MR(ADT)\n",
      "000 OR/SSR CTCEMHHK1 TEST//TEST.COM/EN/ABXXXAM/ (XXXXXXXXAJ MR(ADT)\n",
      "000 KO/RM FOTV MH\n",
      "009000316/MH FAILED/VERIFY CARD NUMBER/\n",
      "ABXXXAM/CXXXXXXXXAJ MR(ADT)\n",
      "000 KO/RM PRICING ENTRY FXP/R, UP,SZB.SZB/A\n",
      "OMHFY/MH5483 O\n",
      "10MAR SZBXSP/MH5470 0 15MAR XSPSZB/ABXXXAM/\n",
      "CXXXXXXXXAJ MR(ADT)\n",
      "000 KO/RM*\n",
      "EMAIL:TEST@TEST.COM/GB\n",
      "\n"
     ]
    }
   ],
   "source": [
    "text = \"\"\"\n",
    "RP/KULMHOBAA/KULMHOSAA\n",
    "FY/IT 8FEB23/2308Z 59W78V\n",
    "000 ON/ABXXXAM/CXXXXXXXXAJ MR(ADT)\n",
    "000 OS/MH5483 O 10MAR 5 SZBXSP LK1 0930 1050/NN *1A/E*\n",
    "000 05/MH5470 O 15MAR 3 XSPSZB LK1 1635 1755/NN *1A/E*\n",
    "000 OP/APE\n",
    "TEST@TEST.COM\n",
    "000 OP/APN MH/M+617713456122/EN/ABXXXAM/ (XXXXXXXXAJ MR(ADT)\n",
    "000 OP/APN\n",
    "MH/E+TEST@TEST.COM/EN/ABXXXAM/ ABXXXAM/(XXXXXXXXAJ MR(\n",
    "000 OT/TKXL 09FEB/0917/KULMHOBAA\n",
    "000 OR/SSR CCMMHHK1 61770000022/EN/ABXXXAM/ (XXXXXXXXAJ MR(ADT)\n",
    "000 OR/SSR CTCEMHHK1 TEST//TEST.COM/EN/ABXXXAM/ (XXXXXXXXAJ MR(ADT)\n",
    "000 KO/RM FOTV MH\n",
    "009000316/MH FAILED/VERIFY CARD NUMBER/\n",
    "ABXXXAM/CXXXXXXXXAJ MR(ADT)\n",
    "000 KO/RM PRICING ENTRY FXP/R, UP,SZB.SZB/A\n",
    "OMHFY/MH5483 O\n",
    "10MAR SZBXSP/MH5470 0 15MAR XSPSZB/ABXXXAM/\n",
    "CXXXXXXXXAJ MR(ADT)\n",
    "000 KO/RM*\n",
    "EMAIL:TEST@TEST.COM/GB\n",
    "\"\"\"\n",
    "\n",
    "print(text)"
   ]
  },
  {
   "cell_type": "code",
   "execution_count": 8,
   "id": "b2a50475",
   "metadata": {},
   "outputs": [
    {
     "name": "stdout",
     "output_type": "stream",
     "text": [
      "This is a Sabre PNR containing customer details (name, flight date/times, email), along with various service entries (CC, CTC, TKXL, FAILED, FXP) and instructions (RM, FOTV, PRICING).\n"
     ]
    }
   ],
   "source": [
    "answer = azure_openai(\"Can you describe this file in one line?\")\n",
    "print(answer)"
   ]
  },
  {
   "cell_type": "code",
   "execution_count": 9,
   "id": "8de587c0",
   "metadata": {},
   "outputs": [
    {
     "name": "stdout",
     "output_type": "stream",
     "text": [
      "This file contains data related to a travel reservation. The first section contains reservation information, such as the flight numbers, dates, and times of the flights, as well as the passenger's name and contact information. The second section contains additional data related to the reservation, such as payment information and pricing details. The third section contains a summary of the reservation, including the failed payment attempt and the email associated with the reservation.\n"
     ]
    }
   ],
   "source": [
    "answer = azure_openai(\"Can you explain this file?\")\n",
    "print(answer)"
   ]
  },
  {
   "cell_type": "code",
   "execution_count": 10,
   "id": "e51efddc",
   "metadata": {},
   "outputs": [
    {
     "name": "stdout",
     "output_type": "stream",
     "text": [
      "The airport codes in the examples above are KULMHOBAA, KULMHOSAA, SZBXSP, XSPSZB.\n"
     ]
    }
   ],
   "source": [
    "answer = azure_openai(\"What are the airport codes?\")\n",
    "print(answer)"
   ]
  },
  {
   "cell_type": "code",
   "execution_count": 11,
   "id": "c5dbfc48",
   "metadata": {},
   "outputs": [
    {
     "name": "stdout",
     "output_type": "stream",
     "text": [
      "The cities are Kuala Lumpur (KUL), Singapore (SZB), and Subang (XSP).\n"
     ]
    }
   ],
   "source": [
    "answer = azure_openai(\"What are the cities?\")\n",
    "print(answer)"
   ]
  },
  {
   "cell_type": "code",
   "execution_count": 12,
   "id": "64b9539d",
   "metadata": {},
   "outputs": [
    {
     "name": "stdout",
     "output_type": "stream",
     "text": [
      "The countries referenced in this message appear to be Malaysia (KULMHOBAA/KULMHOSAA) and Italy (IT).\n"
     ]
    }
   ],
   "source": [
    "answer = azure_openai(\"What are the countries?\")\n",
    "print(answer)"
   ]
  },
  {
   "cell_type": "code",
   "execution_count": 13,
   "id": "a99a58fb",
   "metadata": {},
   "outputs": [
    {
     "name": "stdout",
     "output_type": "stream",
     "text": [
      "The origin of the flight is Kuala Lumpur International Airport (KUL) and the destination is also Kuala Lumpur International Airport (KUL).\n"
     ]
    }
   ],
   "source": [
    "answer = azure_openai(\"What is the origin and destination of the flight?\")\n",
    "print(answer)"
   ]
  },
  {
   "cell_type": "code",
   "execution_count": 14,
   "id": "f3ba2490",
   "metadata": {},
   "outputs": [
    {
     "name": "stdout",
     "output_type": "stream",
     "text": [
      "English\n"
     ]
    }
   ],
   "source": [
    "answer = azure_openai(\"What is the language of the text?\")\n",
    "print(answer)"
   ]
  },
  {
   "cell_type": "code",
   "execution_count": 15,
   "id": "5942731f",
   "metadata": {},
   "outputs": [
    {
     "name": "stdout",
     "output_type": "stream",
     "text": [
      "The email address is TEST@TEST.COM.\n"
     ]
    }
   ],
   "source": [
    "answer = azure_openai(\"what is the email address?\")\n",
    "print(answer)"
   ]
  },
  {
   "cell_type": "code",
   "execution_count": null,
   "id": "f846d82b",
   "metadata": {},
   "outputs": [],
   "source": []
  }
 ],
 "metadata": {
  "kernelspec": {
   "display_name": "Python 3.10 - SDK v2",
   "language": "python",
   "name": "python310-sdkv2"
  },
  "language_info": {
   "codemirror_mode": {
    "name": "ipython",
    "version": 3
   },
   "file_extension": ".py",
   "mimetype": "text/x-python",
   "name": "python",
   "nbconvert_exporter": "python",
   "pygments_lexer": "ipython3",
   "version": "3.10.10"
  }
 },
 "nbformat": 4,
 "nbformat_minor": 5
}
