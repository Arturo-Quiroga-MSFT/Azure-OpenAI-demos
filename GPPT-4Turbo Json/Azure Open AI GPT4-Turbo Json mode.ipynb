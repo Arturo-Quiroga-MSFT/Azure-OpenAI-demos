{
 "cells": [
  {
   "cell_type": "markdown",
   "id": "04c8fe82",
   "metadata": {},
   "source": [
    "# Azure Open AI GPT4-Turbo Json mode\n",
    "\n",
    "JSON Mode\n",
    "GPT-4 Turbo also introduces JSON Mode, which improves on GPT-4’s ability to generate correctly formatted JSON output to interoperate with software systems.  This is a highly requested feature for builders using OpenAI models to work with their applications.  You can use JSON Mode by settings response_format to { \"type\": \"json_object\" }."
   ]
  },
  {
   "cell_type": "code",
   "execution_count": 1,
   "id": "3f612244",
   "metadata": {},
   "outputs": [
    {
     "name": "stdout",
     "output_type": "stream",
     "text": [
      "Installed OpenAI version: 1.3.6\n",
      "[OK] OpenAI version 1.3.6 is > 1.0.0\n"
     ]
    }
   ],
   "source": [
    "def check_openai_version():\n",
    "    \"\"\"\n",
    "    Check Azure Open AI version\n",
    "    \"\"\"\n",
    "    import openai\n",
    "\n",
    "    installed_version = openai.__version__\n",
    "\n",
    "    try:\n",
    "        version_number = float(installed_version[:3])\n",
    "    except ValueError:\n",
    "        print(\"Invalid OpenAI version format\")\n",
    "        return\n",
    "\n",
    "    print(f\"Installed OpenAI version: {installed_version}\")\n",
    "\n",
    "    if version_number < 1.0:\n",
    "        print(\"[Warning] You should upgrade OpenAI to have version > 1.0.0\")\n",
    "        print(\"Run: %pip install openai --upgrade\")\n",
    "    else:\n",
    "        print(f\"[OK] OpenAI version {installed_version} is > 1.0.0\")\n",
    "\n",
    "\n",
    "check_openai_version()"
   ]
  },
  {
   "cell_type": "code",
   "execution_count": 2,
   "id": "c3a4ff9c",
   "metadata": {},
   "outputs": [],
   "source": [
    "import datetime\n",
    "import json\n",
    "import openai\n",
    "import os\n",
    "import sys\n",
    "\n",
    "from openai import AzureOpenAI\n",
    "from dotenv import load_dotenv\n",
    "from pprint import pprint"
   ]
  },
  {
   "cell_type": "code",
   "execution_count": 3,
   "id": "d483fc52",
   "metadata": {},
   "outputs": [
    {
     "data": {
      "text/plain": [
       "'3.10.10 (main, Mar 21 2023, 18:45:11) [GCC 11.2.0]'"
      ]
     },
     "execution_count": 3,
     "metadata": {},
     "output_type": "execute_result"
    }
   ],
   "source": [
    "sys.version"
   ]
  },
  {
   "cell_type": "code",
   "execution_count": 4,
   "id": "cb9b9606",
   "metadata": {},
   "outputs": [
    {
     "name": "stdout",
     "output_type": "stream",
     "text": [
      "Today is 05-Dec-2023 10:04:06\n"
     ]
    }
   ],
   "source": [
    "print(f\"Today is {datetime.datetime.today().strftime('%d-%b-%Y %H:%M:%S')}\")"
   ]
  },
  {
   "cell_type": "code",
   "execution_count": 5,
   "id": "b13e24b7",
   "metadata": {},
   "outputs": [
    {
     "name": "stdout",
     "output_type": "stream",
     "text": [
      "Python version: 3.10.10 (main, Mar 21 2023, 18:45:11) [GCC 11.2.0]\n",
      "OpenAI version: 1.3.6\n"
     ]
    }
   ],
   "source": [
    "print(f\"Python version: {sys.version}\")\n",
    "print(f\"OpenAI version: {openai.__version__}\")"
   ]
  },
  {
   "cell_type": "markdown",
   "id": "9742a495",
   "metadata": {},
   "source": [
    "## Azure Open AI"
   ]
  },
  {
   "cell_type": "code",
   "execution_count": 6,
   "id": "f89590d6",
   "metadata": {},
   "outputs": [],
   "source": [
    "load_dotenv(\"azure.env\")\n",
    "\n",
    "# Azure Open AI\n",
    "openai.api_type: str = \"azure\"\n",
    "openai.api_key = os.getenv(\"OPENAI_API_KEY\")\n",
    "openai.api_base = os.getenv(\"OPENAI_API_BASE\")\n",
    "openai.api_version = os.getenv(\"OPENAI_API_VERSION\")"
   ]
  },
  {
   "cell_type": "code",
   "execution_count": 7,
   "id": "f5c282a0",
   "metadata": {},
   "outputs": [],
   "source": [
    "client = AzureOpenAI(\n",
    "    api_version=openai.api_version,\n",
    "    azure_endpoint=openai.api_base,\n",
    "    api_key=openai.api_key,\n",
    ")"
   ]
  },
  {
   "cell_type": "code",
   "execution_count": 8,
   "id": "b4a6dc50",
   "metadata": {},
   "outputs": [],
   "source": [
    "gpt4model = \"gpt-4Turbo\""
   ]
  },
  {
   "cell_type": "code",
   "execution_count": 9,
   "id": "21f58d10",
   "metadata": {},
   "outputs": [],
   "source": [
    "completion = client.chat.completions.create(\n",
    "    model=gpt4model,\n",
    "    messages=[\n",
    "        {\n",
    "            \"role\": \"system\",\n",
    "            \"content\": \"You are a helpful assistant. Your response should be in JSON format.\",\n",
    "        },\n",
    "        {\n",
    "            \"role\": \"user\",\n",
    "            \"content\": \"List me 10 top movies from the 70's with the title, the director, the year \\\n",
    "        and the main actors\",\n",
    "        },\n",
    "    ],\n",
    "    response_format={\"type\": \"json_object\"},\n",
    ")"
   ]
  },
  {
   "cell_type": "code",
   "execution_count": 10,
   "id": "23e8c637",
   "metadata": {},
   "outputs": [
    {
     "name": "stdout",
     "output_type": "stream",
     "text": [
      "ChatCompletion(id='chatcmpl-8SMZf1yZt5WKWfF2S00aFcTjhJYI9', choices=[Choice(finish_reason='stop', index=0, message=ChatCompletionMessage(content='{\\n  \"movies\": [\\n    {\\n      \"title\": \"The Godfather\",\\n      \"director\": \"Francis Ford Coppola\",\\n      \"year\": 1972,\\n      \"main_actors\": [\"Marlon Brando\", \"Al Pacino\", \"James Caan\", \"Robert Duvall\"]\\n    },\\n    {\\n      \"title\": \"Star Wars: Episode IV - A New Hope\",\\n      \"director\": \"George Lucas\",\\n      \"year\": 1977,\\n      \"main_actors\": [\"Mark Hamill\", \"Harrison Ford\", \"Carrie Fisher\"]\\n    },\\n    {\\n      \"title\": \"Jaws\",\\n      \"director\": \"Steven Spielberg\",\\n      \"year\": 1975,\\n      \"main_actors\": [\"Roy Scheider\", \"Robert Shaw\", \"Richard Dreyfuss\"]\\n    },\\n    {\\n      \"title\": \"One Flew Over the Cuckoo\\'s Nest\",\\n      \"director\": \"Milos Forman\",\\n      \"year\": 1975,\\n      \"main_actors\": [\"Jack Nicholson\", \"Louise Fletcher\", \"Will Sampson\"]\\n    },\\n    {\\n      \"title\": \"Apocalypse Now\",\\n      \"director\": \"Francis Ford Coppola\",\\n      \"year\": 1979,\\n      \"main_actors\": [\"Martin Sheen\", \"Marlon Brando\", \"Robert Duvall\"]\\n    },\\n    {\\n      \"title\": \"A Clockwork Orange\",\\n      \"director\": \"Stanley Kubrick\",\\n      \"year\": 1971,\\n      \"main_actors\": [\"Malcolm McDowell\", \"Patrick Magee\", \"Michael Bates\"]\\n    },\\n    {\\n      \"title\": \"Taxi Driver\",\\n      \"director\": \"Martin Scorsese\",\\n      \"year\": 1976,\\n      \"main_actors\": [\"Robert De Niro\", \"Jodie Foster\", \"Cybill Shepherd\"]\\n    },\\n    {\\n      \"title\": \"Rocky\",\\n      \"director\": \"John G. Avildsen\",\\n      \"year\": 1976,\\n      \"main_actors\": [\"Sylvester Stallone\", \"Talia Shire\", \"Burt Young\"]\\n    },\\n    {\\n      \"title\": \"Chinatown\",\\n      \"director\": \"Roman Polanski\",\\n      \"year\": 1974,\\n      \"main_actors\": [\"Jack Nicholson\", \"Faye Dunaway\", \"John Huston\"]\\n    },\\n    {\\n      \"title\": \"The French Connection\",\\n      \"director\": \"William Friedkin\",\\n      \"year\": 1971,\\n      \"main_actors\": [\"Gene Hackman\", \"Roy Scheider\", \"Fernando Rey\"]\\n    }\\n  ]\\n}', role='assistant', function_call=None, tool_calls=None))], created=1701770651, model='gpt-4', object='chat.completion', system_fingerprint='fp_50a4261de5', usage=CompletionUsage(completion_tokens=554, prompt_tokens=50, total_tokens=604))\n"
     ]
    }
   ],
   "source": [
    "print(completion)"
   ]
  },
  {
   "cell_type": "code",
   "execution_count": 11,
   "id": "de06be69",
   "metadata": {},
   "outputs": [
    {
     "data": {
      "text/plain": [
       "CompletionUsage(completion_tokens=554, prompt_tokens=50, total_tokens=604)"
      ]
     },
     "execution_count": 11,
     "metadata": {},
     "output_type": "execute_result"
    }
   ],
   "source": [
    "completion.usage"
   ]
  },
  {
   "cell_type": "code",
   "execution_count": 12,
   "id": "d20c3a9e",
   "metadata": {},
   "outputs": [
    {
     "name": "stdout",
     "output_type": "stream",
     "text": [
      "{'movies': [{'director': 'Francis Ford Coppola',\n",
      "             'main_actors': ['Marlon Brando',\n",
      "                             'Al Pacino',\n",
      "                             'James Caan',\n",
      "                             'Robert Duvall'],\n",
      "             'title': 'The Godfather',\n",
      "             'year': 1972},\n",
      "            {'director': 'George Lucas',\n",
      "             'main_actors': ['Mark Hamill', 'Harrison Ford', 'Carrie Fisher'],\n",
      "             'title': 'Star Wars: Episode IV - A New Hope',\n",
      "             'year': 1977},\n",
      "            {'director': 'Steven Spielberg',\n",
      "             'main_actors': ['Roy Scheider', 'Robert Shaw', 'Richard Dreyfuss'],\n",
      "             'title': 'Jaws',\n",
      "             'year': 1975},\n",
      "            {'director': 'Milos Forman',\n",
      "             'main_actors': ['Jack Nicholson',\n",
      "                             'Louise Fletcher',\n",
      "                             'Will Sampson'],\n",
      "             'title': \"One Flew Over the Cuckoo's Nest\",\n",
      "             'year': 1975},\n",
      "            {'director': 'Francis Ford Coppola',\n",
      "             'main_actors': ['Martin Sheen', 'Marlon Brando', 'Robert Duvall'],\n",
      "             'title': 'Apocalypse Now',\n",
      "             'year': 1979},\n",
      "            {'director': 'Stanley Kubrick',\n",
      "             'main_actors': ['Malcolm McDowell',\n",
      "                             'Patrick Magee',\n",
      "                             'Michael Bates'],\n",
      "             'title': 'A Clockwork Orange',\n",
      "             'year': 1971},\n",
      "            {'director': 'Martin Scorsese',\n",
      "             'main_actors': ['Robert De Niro',\n",
      "                             'Jodie Foster',\n",
      "                             'Cybill Shepherd'],\n",
      "             'title': 'Taxi Driver',\n",
      "             'year': 1976},\n",
      "            {'director': 'John G. Avildsen',\n",
      "             'main_actors': ['Sylvester Stallone', 'Talia Shire', 'Burt Young'],\n",
      "             'title': 'Rocky',\n",
      "             'year': 1976},\n",
      "            {'director': 'Roman Polanski',\n",
      "             'main_actors': ['Jack Nicholson', 'Faye Dunaway', 'John Huston'],\n",
      "             'title': 'Chinatown',\n",
      "             'year': 1974},\n",
      "            {'director': 'William Friedkin',\n",
      "             'main_actors': ['Gene Hackman', 'Roy Scheider', 'Fernando Rey'],\n",
      "             'title': 'The French Connection',\n",
      "             'year': 1971}]}\n"
     ]
    }
   ],
   "source": [
    "json_answer = json.loads(completion.choices[0].message.content)\n",
    "pprint(json_answer)"
   ]
  },
  {
   "cell_type": "code",
   "execution_count": 13,
   "id": "c18d6203",
   "metadata": {},
   "outputs": [
    {
     "data": {
      "text/plain": [
       "{'title': 'The Godfather',\n",
       " 'director': 'Francis Ford Coppola',\n",
       " 'year': 1972,\n",
       " 'main_actors': ['Marlon Brando', 'Al Pacino', 'James Caan', 'Robert Duvall']}"
      ]
     },
     "execution_count": 13,
     "metadata": {},
     "output_type": "execute_result"
    }
   ],
   "source": [
    "json_answer[\"movies\"][0]"
   ]
  },
  {
   "cell_type": "code",
   "execution_count": 23,
   "id": "1f52c6f1",
   "metadata": {},
   "outputs": [
    {
     "name": "stdout",
     "output_type": "stream",
     "text": [
      "1 The Godfather 1972\n",
      "2 Star Wars: Episode IV - A New Hope 1977\n",
      "3 Jaws 1975\n",
      "4 One Flew Over the Cuckoo's Nest 1975\n",
      "5 Apocalypse Now 1979\n",
      "6 A Clockwork Orange 1971\n",
      "7 Taxi Driver 1976\n",
      "8 Rocky 1976\n",
      "9 Chinatown 1974\n",
      "10 The French Connection 1971\n"
     ]
    }
   ],
   "source": [
    "for i in range(len(json_answer[\"movies\"])):\n",
    "    print(i+1, json_answer[\"movies\"][i][\"title\"], json_answer[\"movies\"][i][\"year\"])"
   ]
  },
  {
   "cell_type": "code",
   "execution_count": null,
   "id": "d59572cd",
   "metadata": {},
   "outputs": [],
   "source": []
  }
 ],
 "metadata": {
  "kernelspec": {
   "display_name": "Python 3.10 - SDK v2",
   "language": "python",
   "name": "python310-sdkv2"
  },
  "language_info": {
   "codemirror_mode": {
    "name": "ipython",
    "version": 3
   },
   "file_extension": ".py",
   "mimetype": "text/x-python",
   "name": "python",
   "nbconvert_exporter": "python",
   "pygments_lexer": "ipython3",
   "version": "3.10.10"
  }
 },
 "nbformat": 4,
 "nbformat_minor": 5
}
