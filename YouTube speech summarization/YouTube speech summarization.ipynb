{
 "cells": [
  {
   "cell_type": "markdown",
   "id": "4877fbab",
   "metadata": {},
   "source": [
    "# YouTube speech summarization with Whisper, Langchain & Azure Open AI"
   ]
  },
  {
   "cell_type": "markdown",
   "id": "74669472",
   "metadata": {},
   "source": [
    "In the contemporary era, Azure OpenAI's Chat GPT has gained widespread recognition as a versatile tool. It boasts a range of capabilities, including generating content, translating languages, summarizing text, aiding in programming, and crafting narratives. Nonetheless, there exists a constraint regarding the volume of text that can be input into Chat GPT at a single instance, which hovers around 4096 tokens. Tokens can encompass words, sub-words, characters, or punctuation marks, and you can verify your text's token count by employing an online tokenizer.\n",
    "\n",
    "When you encounter the need to condense documents that surpass this token threshold, you must divide them into smaller segments, ensuring each segment adheres to the token limit. These segments are then submitted to the model, and subsequently, the summaries are pieced together. This procedure can prove to be quite laborious, especially for exceptionally lengthy documents. Enter Langchain, which steps in to streamline this process through automation. We will now delve into the specifics of how Langchain accomplishes this task."
   ]
  },
  {
   "cell_type": "markdown",
   "id": "7c5ff83b",
   "metadata": {},
   "source": [
    "<img src=\"https://cdn.hashnode.com/res/hashnode/image/upload/v1695581465743/cbf6cd39-abad-47cc-9849-446ed2fd9cdd.png?auto=compress,format&format=webp\" width=800>"
   ]
  },
  {
   "cell_type": "code",
   "execution_count": 2,
   "id": "3030d0b7",
   "metadata": {},
   "outputs": [],
   "source": [
    "import datetime\n",
    "import openai\n",
    "import os\n",
    "import requests\n",
    "import sys\n",
    "import time\n",
    "import tiktoken\n",
    "\n",
    "from dotenv import load_dotenv\n",
    "from IPython.display import YouTubeVideo\n",
    "from langchain.chains import LLMChain\n",
    "from langchain.chains import MapReduceDocumentsChain\n",
    "from langchain.chains import ReduceDocumentsChain\n",
    "from langchain.chains.combine_documents.stuff import StuffDocumentsChain\n",
    "from langchain.chat_models import AzureChatOpenAI\n",
    "from langchain.document_loaders import TextLoader\n",
    "from langchain.prompts import PromptTemplate\n",
    "from langchain.text_splitter import TokenTextSplitter\n",
    "from moviepy.editor import AudioFileClip\n",
    "from pytube import YouTube"
   ]
  },
  {
   "cell_type": "code",
   "execution_count": 3,
   "id": "5692a206",
   "metadata": {},
   "outputs": [
    {
     "data": {
      "text/plain": [
       "'3.10.10 (main, Mar 21 2023, 18:45:11) [GCC 11.2.0]'"
      ]
     },
     "execution_count": 3,
     "metadata": {},
     "output_type": "execute_result"
    }
   ],
   "source": [
    "sys.version"
   ]
  },
  {
   "cell_type": "code",
   "execution_count": 4,
   "id": "08771635",
   "metadata": {},
   "outputs": [
    {
     "name": "stdout",
     "output_type": "stream",
     "text": [
      "Today is 09-Nov-2023 09:58:43\n"
     ]
    }
   ],
   "source": [
    "print(f\"Today is {datetime.datetime.today().strftime('%d-%b-%Y %H:%M:%S')}\")"
   ]
  },
  {
   "cell_type": "markdown",
   "id": "a3ae324f",
   "metadata": {},
   "source": [
    "## Settings"
   ]
  },
  {
   "cell_type": "code",
   "execution_count": 5,
   "id": "566b041f",
   "metadata": {},
   "outputs": [
    {
     "name": "stdout",
     "output_type": "stream",
     "text": [
      "Open AI version: 0.28.1\n"
     ]
    }
   ],
   "source": [
    "load_dotenv(\"azure.env\")\n",
    "\n",
    "# Azure Open AI\n",
    "openai.api_type: str = \"azure\"\n",
    "openai.api_key = os.getenv(\"OPENAI_API_KEY\")\n",
    "openai.api_base = os.getenv(\"OPENAI_API_BASE\")\n",
    "openai.api_version = os.getenv(\"OPENAI_API_VERSION\")\n",
    "\n",
    "print(\"Open AI version:\", openai.__version__)"
   ]
  },
  {
   "cell_type": "code",
   "execution_count": 6,
   "id": "7dc9de35",
   "metadata": {},
   "outputs": [],
   "source": [
    "GPT_MODEL = \"gpt-35-turbo\"\n",
    "WHISPER_MODEL = \"whisper\""
   ]
  },
  {
   "cell_type": "code",
   "execution_count": 7,
   "id": "e613552e",
   "metadata": {},
   "outputs": [],
   "source": [
    "def speech_to_text_azureopenai_whisper(audio_path):\n",
    "    \"\"\"\n",
    "    Speech to text with Azure Open AI Whisper\n",
    "    \"\"\"\n",
    "    start = time.time()\n",
    "\n",
    "    # Prepare the headers\n",
    "    headers = {\n",
    "        \"api-key\": openai.api_key,\n",
    "    }\n",
    "\n",
    "    # Prepare the data for the multipart/form-data request\n",
    "    json = {\n",
    "        \"file\": (audio_path, open(audio_path, \"rb\"), \"audio/mp3\"),\n",
    "        \"locale\": \"en-US\",\n",
    "    }\n",
    "\n",
    "    # Define the API endpoint URL\n",
    "    url = f\"{openai.api_base}/openai/deployments/{WHISPER_MODEL}/audio/transcriptions?api-version=2023-09-01-preview&\"\n",
    "    # Send the POST request\n",
    "    response = requests.post(url, headers=headers, files=json)\n",
    "    # Check the response\n",
    "    if response.status_code == 200:\n",
    "        print(\"Transcription request was successful.\")\n",
    "        transcription_data = response.json()\n",
    "\n",
    "        elapsed = time.time() - start\n",
    "        print(\n",
    "            \"Elapsed time: \"\n",
    "            + time.strftime(\n",
    "                \"%H:%M:%S.{}\".format(str(elapsed % 1)[2:])[:15], time.gmtime(elapsed)\n",
    "            )\n",
    "        )\n",
    "        return transcription_data\n",
    "    else:\n",
    "        print(f\"Error: {response.status_code}\")"
   ]
  },
  {
   "cell_type": "code",
   "execution_count": 8,
   "id": "f2307d00",
   "metadata": {},
   "outputs": [],
   "source": [
    "output_directory = \"audio\"\n",
    "\n",
    "os.makedirs(output_directory, exist_ok=True)"
   ]
  },
  {
   "cell_type": "markdown",
   "id": "3e063cf9",
   "metadata": {},
   "source": [
    "## Example 1"
   ]
  },
  {
   "cell_type": "code",
   "execution_count": 9,
   "id": "ec05ff3d",
   "metadata": {},
   "outputs": [],
   "source": [
    "youtube_id = \"U9mJuUkhUzk\"\n",
    "video_url = \"https://www.youtube.com/watch?v=\" + youtube_id"
   ]
  },
  {
   "cell_type": "code",
   "execution_count": 10,
   "id": "b0910de0",
   "metadata": {},
   "outputs": [
    {
     "data": {
      "image/jpeg": "[encoded data removed]",
      "text/html": [
       "\n",
       "        <iframe\n",
       "            width=\"400\"\n",
       "            height=\"300\"\n",
       "            src=\"https://www.youtube.com/embed/U9mJuUkhUzk\"\n",
       "            frameborder=\"0\"\n",
       "            allowfullscreen\n",
       "            \n",
       "        ></iframe>\n",
       "        "
      ],
      "text/plain": [
       "<IPython.lib.display.YouTubeVideo at 0x7f856d21e0b0>"
      ]
     },
     "metadata": {},
     "output_type": "display_data"
    }
   ],
   "source": [
    "video = YouTubeVideo(youtube_id)\n",
    "display(video)"
   ]
  },
  {
   "cell_type": "code",
   "execution_count": 11,
   "id": "40b9af7a",
   "metadata": {},
   "outputs": [
    {
     "name": "stdout",
     "output_type": "stream",
     "text": [
      "Audio downloaded to audio/audio_U9mJuUkhUzk.mp3\n"
     ]
    }
   ],
   "source": [
    "audio_filename = f\"audio_{youtube_id}.mp3\"\n",
    "\n",
    "yt = YouTube(video_url)\n",
    "audio_stream = yt.streams.filter(only_audio=True).first()\n",
    "audio_stream.download(output_path=output_directory, filename=audio_filename)\n",
    "audio_path = os.path.join(output_directory, audio_filename)\n",
    "print(f\"Audio downloaded to {audio_path}\")"
   ]
  },
  {
   "cell_type": "code",
   "execution_count": 12,
   "id": "80975e87",
   "metadata": {},
   "outputs": [
    {
     "name": "stdout",
     "output_type": "stream",
     "text": [
      "-rwxrwxrwx 1 root root 16M Nov  7 11:28 audio/audio_U9mJuUkhUzk.mp3\r\n"
     ]
    }
   ],
   "source": [
    "!ls $audio_path -lh"
   ]
  },
  {
   "cell_type": "markdown",
   "id": "e9314fdf",
   "metadata": {},
   "source": [
    "### Speech to text"
   ]
  },
  {
   "cell_type": "code",
   "execution_count": 13,
   "id": "4a839962",
   "metadata": {},
   "outputs": [
    {
     "name": "stdout",
     "output_type": "stream",
     "text": [
      "Running the Speech to text...\n",
      "Transcription request was successful.\n",
      "Elapsed time: 00:02:01.807347\n",
      "Done\n"
     ]
    }
   ],
   "source": [
    "print(\"Running the Speech to text...\")\n",
    "transcript = speech_to_text_azureopenai_whisper(audio_path)\n",
    "print(\"Done\")"
   ]
  },
  {
   "cell_type": "code",
   "execution_count": 14,
   "id": "4499965d",
   "metadata": {},
   "outputs": [],
   "source": [
    "transcript_file = f\"transcript_{youtube_id}.txt\"\n",
    "\n",
    "with open(transcript_file, \"w\") as file:\n",
    "    file.write(transcript[\"text\"])\n",
    "\n",
    "text = transcript[\"text\"]"
   ]
  },
  {
   "cell_type": "code",
   "execution_count": 15,
   "id": "a192adcf",
   "metadata": {},
   "outputs": [
    {
     "data": {
      "text/plain": [
       "\"Good morning. Thank you for joining us today. Please welcome to the stage Sam Altman. Good morning. Welcome to our first ever OpenAI Dev Day. We're thrilled that you're here and this energy is awesome. And welcome to San Francisco. San Francisco has been our home since day one. The city is important to us and the tech industry in general. We're looking forward to continuing to grow here. So we've got some great stuff to announce today. But first, I'd like to take a minute to talk about some of the stuff that we've done over the past year. About a year ago, November 30th, we shipped ChatGPT as a low-key research preview. And that went pretty well. In March, we followed that up with the launch of GPT-4. Still the most capable model out in the world. And in the last few months, we launched voice and vision capabilities so that ChatGPT can now see, hear, and speak. And more recently... There's a lot. You don't have to clap each time. And more recently, we launched Dolly 3, the world's most\""
      ]
     },
     "execution_count": 15,
     "metadata": {},
     "output_type": "execute_result"
    }
   ],
   "source": [
    "text[:1000]"
   ]
  },
  {
   "cell_type": "markdown",
   "id": "55e63466",
   "metadata": {},
   "source": [
    "## Transcript file analysis with Map Reduce Langchain"
   ]
  },
  {
   "cell_type": "code",
   "execution_count": 16,
   "id": "38d3c6d1",
   "metadata": {},
   "outputs": [
    {
     "name": "stdout",
     "output_type": "stream",
     "text": [
      "-rwxrwxrwx 1 root root 40K Nov  9 10:01 transcript_U9mJuUkhUzk.txt\r\n"
     ]
    }
   ],
   "source": [
    "!ls $transcript_file -lh"
   ]
  },
  {
   "cell_type": "code",
   "execution_count": 17,
   "id": "91e3f808",
   "metadata": {},
   "outputs": [
    {
     "name": "stdout",
     "output_type": "stream",
     "text": [
      "Audio file duration: 45 minutes and 35 seconds\n"
     ]
    }
   ],
   "source": [
    "duration_seconds = AudioFileClip(audio_path).duration\n",
    "print(\n",
    "    f\"Audio file duration: {int(duration_seconds // 60)} minutes and {int(duration_seconds % 60)} seconds\"\n",
    ")"
   ]
  },
  {
   "cell_type": "code",
   "execution_count": 18,
   "id": "ef844d5a",
   "metadata": {},
   "outputs": [
    {
     "data": {
      "text/plain": [
       "39991"
      ]
     },
     "execution_count": 18,
     "metadata": {},
     "output_type": "execute_result"
    }
   ],
   "source": [
    "len(text)"
   ]
  },
  {
   "cell_type": "code",
   "execution_count": 19,
   "id": "f36dffad",
   "metadata": {},
   "outputs": [],
   "source": [
    "encoding = tiktoken.encoding_for_model(\"gpt-3.5-turbo\")"
   ]
  },
  {
   "cell_type": "code",
   "execution_count": 20,
   "id": "122bbffb",
   "metadata": {},
   "outputs": [],
   "source": [
    "with open(transcript_file, \"r\") as file:\n",
    "    transcript = file.read()"
   ]
  },
  {
   "cell_type": "code",
   "execution_count": 21,
   "id": "2a27cd0e",
   "metadata": {},
   "outputs": [
    {
     "name": "stdout",
     "output_type": "stream",
     "text": [
      "9022 are the number of tokens in transcript file\n"
     ]
    }
   ],
   "source": [
    "tokens_integer = encoding.encode(transcript)\n",
    "print(f\"{len(tokens_integer)} are the number of tokens in transcript file\")"
   ]
  },
  {
   "cell_type": "markdown",
   "id": "c5199e65",
   "metadata": {},
   "source": [
    "## Summarization with map reduce langchain"
   ]
  },
  {
   "cell_type": "code",
   "execution_count": 22,
   "id": "9457f176",
   "metadata": {},
   "outputs": [],
   "source": [
    "# Map Chain\n",
    "map_template = \"\"\"Write a precise summary of this video transcript:\n",
    "\n",
    "{content}\n",
    "\n",
    "Summary:\n",
    "\"\"\"\n",
    "\n",
    "map_prompt = PromptTemplate.from_template(map_template)\n",
    "llm = AzureChatOpenAI(deployment_name=GPT_MODEL)\n",
    "map_chain = LLMChain(prompt=map_prompt, llm=llm)\n",
    "\n",
    "\n",
    "# Reduce Chain\n",
    "reduce_template = \"\"\"The following is set of summaries:\n",
    "\n",
    "{doc_summaries}\n",
    "\n",
    "Summarize all the above summaries with all the key technical details.\n",
    "Summary:\"\"\"\n",
    "\n",
    "reduce_prompt = PromptTemplate.from_template(reduce_template)\n",
    "reduce_chain = LLMChain(prompt=reduce_prompt, llm=llm)\n",
    "stuff_chain = StuffDocumentsChain(\n",
    "    llm_chain=reduce_chain, document_variable_name=\"doc_summaries\"\n",
    ")\n",
    "reduce_chain = ReduceDocumentsChain(\n",
    "    combine_documents_chain=stuff_chain,\n",
    ")\n",
    "\n",
    "\n",
    "# Map Reduce Chain\n",
    "map_reduce_chain = MapReduceDocumentsChain(\n",
    "    llm_chain=map_chain,\n",
    "    document_variable_name=\"content\",\n",
    "    reduce_documents_chain=reduce_chain,\n",
    ")"
   ]
  },
  {
   "cell_type": "code",
   "execution_count": 23,
   "id": "ba2a464f",
   "metadata": {},
   "outputs": [],
   "source": [
    "# Loading the transcript file\n",
    "loader = TextLoader(transcript_file)\n",
    "docs = loader.load()\n",
    "\n",
    "# Split the content into smaller chuncks\n",
    "splitter = TokenTextSplitter(chunk_size=4000)\n",
    "split_docs = splitter.split_documents(docs)"
   ]
  },
  {
   "cell_type": "code",
   "execution_count": 24,
   "id": "437a8634",
   "metadata": {},
   "outputs": [
    {
     "name": "stdout",
     "output_type": "stream",
     "text": [
      "Number of chunks = 3\n"
     ]
    }
   ],
   "source": [
    "nbchunks = len(split_docs)\n",
    "print(\"Number of chunks =\", nbchunks)"
   ]
  },
  {
   "cell_type": "code",
   "execution_count": 25,
   "id": "c754050d",
   "metadata": {},
   "outputs": [
    {
     "name": "stdout",
     "output_type": "stream",
     "text": [
      "In the video transcript of the OpenAI Dev Day presentation, CEO Sam Altman highlights the progress made by OpenAI over the past year. This includes the launch of ChatGPT, GPT-4, and advancements in voice and vision capabilities. Altman also mentions Dolly 3, showcasing the success and widespread use of OpenAI technologies.\n",
      "\n",
      "The transcript goes on to discuss the improvements made to ChatGPT, specifically the integration of GPT-4 Turbo. This new version introduces features like web browsing, code writing, and image generation. Additionally, the transcript introduces the concept of GPTs, which are tailored versions of ChatGPT for specific purposes. Users can build, customize, and publish their own GPTs, such as Lesson Planner GPT, Design GPT, and Zapier GPT.\n",
      "\n",
      "The video transcript further highlights the new capabilities of OpenAI's Assistance API. They demonstrate the Code Interpreter, which can generate and execute code on the fly, perform calculations, and generate files. The transcript also showcases the use of voice input and output in an assistant app, with a variety of voices and languages available. The assistant is shown to be able to take real actions for users, such as randomly selecting attendees and giving them API credits.\n",
      "\n",
      "The speaker concludes the presentation by expressing excitement for the future development of AI agents and their potential to empower individuals and revolutionize society.\n"
     ]
    }
   ],
   "source": [
    "# Use Map reduce chain to summarize\n",
    "summary = map_reduce_chain.run(split_docs)\n",
    "print(summary)"
   ]
  },
  {
   "cell_type": "code",
   "execution_count": 26,
   "id": "c69a40e0",
   "metadata": {},
   "outputs": [
    {
     "name": "stdout",
     "output_type": "stream",
     "text": [
      "-rwxrwxrwx 1 root root 1.4K Nov  9 10:02 summary_U9mJuUkhUzk.txt\r\n"
     ]
    }
   ],
   "source": [
    "# Saving the summary file\n",
    "summary_file = f\"summary_{youtube_id}.txt\"\n",
    "\n",
    "file = open(summary_file, 'w')\n",
    "file.write(summary)\n",
    "file.close()\n",
    "\n",
    "!ls $summary_file -lh"
   ]
  },
  {
   "cell_type": "markdown",
   "id": "74ae14c3",
   "metadata": {},
   "source": [
    "## Another example"
   ]
  },
  {
   "cell_type": "code",
   "execution_count": 27,
   "id": "eabfefc2",
   "metadata": {},
   "outputs": [],
   "source": [
    "youtube_id = \"9W9CpLK7I1c\"\n",
    "video_url = \"https://www.youtube.com/watch?v=\" + youtube_id"
   ]
  },
  {
   "cell_type": "code",
   "execution_count": 28,
   "id": "448aa2f1",
   "metadata": {},
   "outputs": [
    {
     "data": {
      "image/jpeg": "[encoded data removed]",
      "text/html": [
       "\n",
       "        <iframe\n",
       "            width=\"400\"\n",
       "            height=\"300\"\n",
       "            src=\"https://www.youtube.com/embed/9W9CpLK7I1c\"\n",
       "            frameborder=\"0\"\n",
       "            allowfullscreen\n",
       "            \n",
       "        ></iframe>\n",
       "        "
      ],
      "text/plain": [
       "<IPython.lib.display.YouTubeVideo at 0x7f85dcddbf70>"
      ]
     },
     "metadata": {},
     "output_type": "display_data"
    }
   ],
   "source": [
    "video = YouTubeVideo(youtube_id)\n",
    "display(video)"
   ]
  },
  {
   "cell_type": "code",
   "execution_count": 29,
   "id": "99237ca7",
   "metadata": {},
   "outputs": [
    {
     "name": "stdout",
     "output_type": "stream",
     "text": [
      "Audio downloaded to audio/audio_9W9CpLK7I1c.mp3\n"
     ]
    }
   ],
   "source": [
    "audio_filename = f\"audio_{youtube_id}.mp3\"\n",
    "\n",
    "yt = YouTube(video_url)\n",
    "audio_stream = yt.streams.filter(only_audio=True).first()\n",
    "audio_stream.download(output_path=output_directory, filename=audio_filename)\n",
    "audio_path = os.path.join(output_directory, audio_filename)\n",
    "print(f\"Audio downloaded to {audio_path}\")"
   ]
  },
  {
   "cell_type": "code",
   "execution_count": 30,
   "id": "bb736bac",
   "metadata": {},
   "outputs": [
    {
     "name": "stdout",
     "output_type": "stream",
     "text": [
      "Running the Speech to text...\n",
      "Transcription request was successful.\n",
      "Elapsed time: 00:01:09.453927\n",
      "Done\n"
     ]
    }
   ],
   "source": [
    "print(\"Running the Speech to text...\")\n",
    "transcript = speech_to_text_azureopenai_whisper(audio_path)\n",
    "print(\"Done\")"
   ]
  },
  {
   "cell_type": "code",
   "execution_count": 31,
   "id": "1bfbeeb7",
   "metadata": {},
   "outputs": [],
   "source": [
    "transcript_file = f\"transcript_{youtube_id}.txt\"\n",
    "\n",
    "with open(transcript_file, \"w\") as file:\n",
    "    file.write(transcript[\"text\"])\n",
    "\n",
    "text = transcript[\"text\"]"
   ]
  },
  {
   "cell_type": "code",
   "execution_count": 32,
   "id": "9b0ba116",
   "metadata": {},
   "outputs": [
    {
     "name": "stdout",
     "output_type": "stream",
     "text": [
      "Audio file duration: 25 minutes and 33 seconds\n"
     ]
    }
   ],
   "source": [
    "duration_seconds = AudioFileClip(audio_path).duration\n",
    "print(\n",
    "    f\"Audio file duration: {int(duration_seconds // 60)} minutes and {int(duration_seconds % 60)} seconds\"\n",
    ")"
   ]
  },
  {
   "cell_type": "code",
   "execution_count": 33,
   "id": "4f787811",
   "metadata": {},
   "outputs": [],
   "source": [
    "with open(transcript_file, \"r\") as file:\n",
    "    transcript = file.read()"
   ]
  },
  {
   "cell_type": "code",
   "execution_count": 34,
   "id": "ee2a2f89",
   "metadata": {},
   "outputs": [
    {
     "name": "stdout",
     "output_type": "stream",
     "text": [
      "5450 is the number of tokens in transcript file\n"
     ]
    }
   ],
   "source": [
    "tokens_integer = encoding.encode(transcript)\n",
    "print(f\"{len(tokens_integer)} is the number of tokens in transcript file\")"
   ]
  },
  {
   "cell_type": "code",
   "execution_count": 35,
   "id": "458f556e",
   "metadata": {},
   "outputs": [
    {
     "name": "stdout",
     "output_type": "stream",
     "text": [
      "President Kennedy reflects on his first two years in office in a video transcript. He discusses the difficulties and limitations of the presidency, particularly in solving international problems, such as the situation in the Congo. He also talks about his struggles in passing bills through a divided Congress, particularly in the areas of education and civil rights. Kennedy defends his use of presidential power, specifically in regards to the rollback of steel prices, stating that he acted in the best interest of the public and to maintain good faith between labor and management. He emphasizes the importance of perseverance and the need for cooperation between the presidency and Congress.\n"
     ]
    }
   ],
   "source": [
    "# Loading the transcript file\n",
    "loader = TextLoader(transcript_file)\n",
    "docs = loader.load()\n",
    "\n",
    "# Split the content into smaller chuncks\n",
    "splitter = TokenTextSplitter(chunk_size=4000)\n",
    "split_docs = splitter.split_documents(docs)\n",
    "\n",
    "# Use Map reduce chain to summarize\n",
    "summary = map_reduce_chain.run(split_docs)\n",
    "print(summary)"
   ]
  },
  {
   "cell_type": "code",
   "execution_count": 36,
   "id": "061b7482",
   "metadata": {},
   "outputs": [
    {
     "name": "stdout",
     "output_type": "stream",
     "text": [
      "-rwxrwxrwx 1 root root 696 Nov  9 10:03 summary_9W9CpLK7I1c.txt\r\n"
     ]
    }
   ],
   "source": [
    "# Saving the summary file\n",
    "summary_file = f\"summary_{youtube_id}.txt\"\n",
    "\n",
    "file = open(summary_file, 'w')\n",
    "file.write(summary)\n",
    "file.close()\n",
    "\n",
    "!ls $summary_file -lh"
   ]
  },
  {
   "cell_type": "markdown",
   "id": "cefd9977",
   "metadata": {},
   "source": [
    "## Last example"
   ]
  },
  {
   "cell_type": "code",
   "execution_count": 37,
   "id": "496cae85",
   "metadata": {},
   "outputs": [],
   "source": [
    "youtube_id = \"uZcqUh7ciug\"\n",
    "video_url = \"https://www.youtube.com/watch?v=\" + youtube_id"
   ]
  },
  {
   "cell_type": "code",
   "execution_count": 38,
   "id": "34b04e79",
   "metadata": {},
   "outputs": [
    {
     "data": {
      "image/jpeg": "[encoded data removed]",
      "text/html": [
       "\n",
       "        <iframe\n",
       "            width=\"400\"\n",
       "            height=\"300\"\n",
       "            src=\"https://www.youtube.com/embed/uZcqUh7ciug\"\n",
       "            frameborder=\"0\"\n",
       "            allowfullscreen\n",
       "            \n",
       "        ></iframe>\n",
       "        "
      ],
      "text/plain": [
       "<IPython.lib.display.YouTubeVideo at 0x7f85d59ba020>"
      ]
     },
     "metadata": {},
     "output_type": "display_data"
    }
   ],
   "source": [
    "video = YouTubeVideo(youtube_id)\n",
    "display(video)"
   ]
  },
  {
   "cell_type": "code",
   "execution_count": 39,
   "id": "979c8e66",
   "metadata": {},
   "outputs": [
    {
     "name": "stdout",
     "output_type": "stream",
     "text": [
      "Audio downloaded to audio/audio_uZcqUh7ciug.mp3\n"
     ]
    }
   ],
   "source": [
    "audio_filename = f\"audio_{youtube_id}.mp3\"\n",
    "\n",
    "yt = YouTube(video_url)\n",
    "audio_stream = yt.streams.filter(only_audio=True).first()\n",
    "audio_stream.download(output_path=output_directory, filename=audio_filename)\n",
    "audio_path = os.path.join(output_directory, audio_filename)\n",
    "print(f\"Audio downloaded to {audio_path}\")"
   ]
  },
  {
   "cell_type": "code",
   "execution_count": 40,
   "id": "3980fa6e",
   "metadata": {},
   "outputs": [
    {
     "name": "stdout",
     "output_type": "stream",
     "text": [
      "Running the Speech to text...\n",
      "Transcription request was successful.\n",
      "Elapsed time: 00:00:48.848497\n",
      "Done\n"
     ]
    }
   ],
   "source": [
    "print(\"Running the Speech to text...\")\n",
    "transcript = speech_to_text_azureopenai_whisper(audio_path)\n",
    "print(\"Done\")"
   ]
  },
  {
   "cell_type": "code",
   "execution_count": 41,
   "id": "c95083bf",
   "metadata": {},
   "outputs": [],
   "source": [
    "transcript_file = f\"transcript_{youtube_id}.txt\"\n",
    "\n",
    "with open(transcript_file, \"w\") as file:\n",
    "    file.write(transcript[\"text\"])\n",
    "\n",
    "text = transcript[\"text\"]"
   ]
  },
  {
   "cell_type": "code",
   "execution_count": 42,
   "id": "fd92eab3",
   "metadata": {},
   "outputs": [
    {
     "name": "stdout",
     "output_type": "stream",
     "text": [
      "Audio file duration: 18 minutes and 34 seconds\n"
     ]
    }
   ],
   "source": [
    "duration_seconds = AudioFileClip(audio_path).duration\n",
    "print(\n",
    "    f\"Audio file duration: {int(duration_seconds // 60)} minutes and {int(duration_seconds % 60)} seconds\"\n",
    ")"
   ]
  },
  {
   "cell_type": "code",
   "execution_count": 43,
   "id": "e541ad55",
   "metadata": {},
   "outputs": [],
   "source": [
    "with open(transcript_file, \"r\") as file:\n",
    "    transcript = file.read()"
   ]
  },
  {
   "cell_type": "code",
   "execution_count": 44,
   "id": "bebdee37",
   "metadata": {},
   "outputs": [
    {
     "name": "stdout",
     "output_type": "stream",
     "text": [
      "3518 is the number of tokens in transcript file\n"
     ]
    }
   ],
   "source": [
    "tokens_integer = encoding.encode(transcript)\n",
    "print(f\"{len(tokens_integer)} is the number of tokens in transcript file\")"
   ]
  },
  {
   "cell_type": "code",
   "execution_count": 45,
   "id": "17aa8759",
   "metadata": {},
   "outputs": [
    {
     "name": "stdout",
     "output_type": "stream",
     "text": [
      "The video discusses the features and capabilities of Azure Video Indexer, a tool that uses artificial intelligence (AI) to extract insights from videos. It can extract over 30 different AI insights, including text extraction, face recognition, object detection, and transcription. The tool offers benefits such as improved searchability, accessibility, content generation, and content moderation. It also integrates with Azure OpenAI and ChatGPT to enhance the search experience, allowing users to search through video transcripts using natural language queries. The video showcases a private preview feature that enables users to redact faces in videos using AI. It also provides a code sample for integrating Video Indexer with OpenAI and ChatGPT. The video discusses the expansion of Video Indexer to edge computing scenarios through the ARC platform, enabling customers to run AI processes close to their data centers. Users can access these features and provide feedback on the tool.\n"
     ]
    }
   ],
   "source": [
    "# Loading the transcript file\n",
    "loader = TextLoader(transcript_file)\n",
    "docs = loader.load()\n",
    "\n",
    "# Split the content into smaller chuncks\n",
    "splitter = TokenTextSplitter(chunk_size=4000)\n",
    "split_docs = splitter.split_documents(docs)\n",
    "\n",
    "# Use Map reduce chain to summarize\n",
    "summary = map_reduce_chain.run(split_docs)\n",
    "print(summary)"
   ]
  },
  {
   "cell_type": "code",
   "execution_count": 46,
   "id": "d4b19f25",
   "metadata": {},
   "outputs": [
    {
     "name": "stdout",
     "output_type": "stream",
     "text": [
      "-rwxrwxrwx 1 root root 988 Nov  9 10:04 summary_uZcqUh7ciug.txt\r\n"
     ]
    }
   ],
   "source": [
    "# Saving the summary file\n",
    "summary_file = f\"summary_{youtube_id}.txt\"\n",
    "\n",
    "file = open(summary_file, 'w')\n",
    "file.write(summary)\n",
    "file.close()\n",
    "\n",
    "!ls $summary_file -lh"
   ]
  },
  {
   "cell_type": "code",
   "execution_count": null,
   "id": "7b9c21fa",
   "metadata": {},
   "outputs": [],
   "source": []
  }
 ],
 "metadata": {
  "kernelspec": {
   "display_name": "Python 3.10 - SDK v2",
   "language": "python",
   "name": "python310-sdkv2"
  },
  "language_info": {
   "codemirror_mode": {
    "name": "ipython",
    "version": 3
   },
   "file_extension": ".py",
   "mimetype": "text/x-python",
   "name": "python",
   "nbconvert_exporter": "python",
   "pygments_lexer": "ipython3",
   "version": "3.10.10"
  }
 },
 "nbformat": 4,
 "nbformat_minor": 5
}
