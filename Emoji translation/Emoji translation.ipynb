{
 "cells": [
  {
   "cell_type": "markdown",
   "id": "8a157fb8",
   "metadata": {},
   "source": [
    "# Emoji translation"
   ]
  },
  {
   "cell_type": "code",
   "execution_count": 1,
   "id": "e08cdbd6",
   "metadata": {},
   "outputs": [],
   "source": [
    "import datetime\n",
    "import openai\n",
    "import os\n",
    "import sys\n",
    "\n",
    "from dotenv import load_dotenv"
   ]
  },
  {
   "cell_type": "code",
   "execution_count": 2,
   "id": "55d27ebf",
   "metadata": {},
   "outputs": [
    {
     "name": "stdout",
     "output_type": "stream",
     "text": [
      "Open AI version: 0.28.1\n"
     ]
    }
   ],
   "source": [
    "load_dotenv(\"azure.env\")\n",
    "\n",
    "# Azure Open AI\n",
    "openai.api_type: str = \"azure\"\n",
    "openai.api_key = os.getenv(\"OPENAI_API_KEY\")\n",
    "openai.api_base = os.getenv(\"OPENAI_API_BASE\")\n",
    "openai.api_version = os.getenv(\"OPENAI_API_VERSION\")\n",
    "\n",
    "print(\"Open AI version:\", openai.__version__)"
   ]
  },
  {
   "cell_type": "code",
   "execution_count": 3,
   "id": "cc0cc7a9",
   "metadata": {},
   "outputs": [
    {
     "name": "stdout",
     "output_type": "stream",
     "text": [
      "Today is: 12-Oct-2023 14:57:41\n"
     ]
    }
   ],
   "source": [
    "print(\"Today is:\", datetime.datetime.today().strftime(\"%d-%b-%Y %H:%M:%S\"))"
   ]
  },
  {
   "cell_type": "code",
   "execution_count": 4,
   "id": "651f08ec",
   "metadata": {},
   "outputs": [
    {
     "data": {
      "text/plain": [
       "'3.10.10 (main, Mar 21 2023, 18:45:11) [GCC 11.2.0]'"
      ]
     },
     "execution_count": 4,
     "metadata": {},
     "output_type": "execute_result"
    }
   ],
   "source": [
    "sys.version"
   ]
  },
  {
   "cell_type": "markdown",
   "id": "5043334f",
   "metadata": {},
   "source": [
    "## From text to emoji"
   ]
  },
  {
   "cell_type": "code",
   "execution_count": 5,
   "id": "ed7bc8a5",
   "metadata": {},
   "outputs": [],
   "source": [
    "def emoji_translation(text):\n",
    "    \"\"\"\n",
    "    Emoji translation analysis with Azure Open AI\n",
    "    \"\"\"\n",
    "    prompt = (\n",
    "        \"You will be provided with text, and your task is to translate it into emojis. Do not use any regular text. Do your best with emojis only. Text is:\"\n",
    "        + text\n",
    "    )\n",
    "\n",
    "    response = openai.Completion.create(\n",
    "        engine=\"text-davinci-003\",\n",
    "        prompt=prompt,\n",
    "        max_tokens=100,\n",
    "        temperature=0,\n",
    "    )\n",
    "\n",
    "    result = response[\"choices\"][0][\"text\"]\n",
    "\n",
    "    return result"
   ]
  },
  {
   "cell_type": "code",
   "execution_count": 6,
   "id": "201fa2ea",
   "metadata": {},
   "outputs": [
    {
     "name": "stdout",
     "output_type": "stream",
     "text": [
      "\n",
      "\n",
      "🤖💡🤝💪🔥\n"
     ]
    }
   ],
   "source": [
    "print(emoji_translation(\"Artificial intelligence is a technology with great promise.\"))"
   ]
  },
  {
   "cell_type": "code",
   "execution_count": 7,
   "id": "b54d1e49",
   "metadata": {},
   "outputs": [
    {
     "name": "stdout",
     "output_type": "stream",
     "text": [
      "\n",
      "\n",
      "💸💸💔\n"
     ]
    }
   ],
   "source": [
    "print(emoji_translation(\"Current economic situation is bad\"))"
   ]
  },
  {
   "cell_type": "code",
   "execution_count": 8,
   "id": "5d90d29a",
   "metadata": {},
   "outputs": [
    {
     "name": "stdout",
     "output_type": "stream",
     "text": [
      "\n",
      "\n",
      "💕🕰️📈\n"
     ]
    }
   ],
   "source": [
    "print(emoji_translation(\"I love time series models\"))"
   ]
  },
  {
   "cell_type": "code",
   "execution_count": 9,
   "id": "1de88976",
   "metadata": {},
   "outputs": [
    {
     "name": "stdout",
     "output_type": "stream",
     "text": [
      " and fun\n",
      "\n",
      "🌞🏖️🌊🤩🎉\n"
     ]
    }
   ],
   "source": [
    "print(emoji_translation(\"It is time for holidays with sun\"))"
   ]
  },
  {
   "cell_type": "code",
   "execution_count": 10,
   "id": "7a71338d",
   "metadata": {},
   "outputs": [
    {
     "name": "stdout",
     "output_type": "stream",
     "text": [
      " of you\n",
      "\n",
      "🎉🎂🎁🎈🤗🥳\n"
     ]
    }
   ],
   "source": [
    "print(emoji_translation(\"Happy birthday to all\"))"
   ]
  },
  {
   "cell_type": "markdown",
   "id": "05dfbbf5",
   "metadata": {},
   "source": [
    "## From emoji to text"
   ]
  },
  {
   "cell_type": "code",
   "execution_count": 11,
   "id": "0f26c1d4",
   "metadata": {},
   "outputs": [],
   "source": [
    "def reverse_emoji_translation(emojis):\n",
    "    \"\"\"\n",
    "    Emoji translation analysis with Azure Open AI\n",
    "    \"\"\"\n",
    "    prompt = (\n",
    "        \"\"\"You will be provided with some emojis, and your task is to translate it into English into a json file.\\\n",
    "    Emojis are: \"\"\"\n",
    "        + emojis\n",
    "    )\n",
    "\n",
    "    response = openai.Completion.create(\n",
    "        engine=\"text-davinci-003\",\n",
    "        prompt=prompt,\n",
    "        max_tokens=100,\n",
    "        temperature=0.7,\n",
    "    )\n",
    "\n",
    "    result = response[\"choices\"][0][\"text\"]\n",
    "\n",
    "    return result"
   ]
  },
  {
   "cell_type": "code",
   "execution_count": 12,
   "id": "296ac20c",
   "metadata": {},
   "outputs": [
    {
     "name": "stdout",
     "output_type": "stream",
     "text": [
      "\n",
      "\n",
      "{\n",
      "    \"Translation\": \"Celebration, Birthday Cake, Gift, Balloon, Happy Face, Excitement\"\n",
      "}\n"
     ]
    }
   ],
   "source": [
    "print(reverse_emoji_translation(\"🎉🎂🎁🎈🤗🥳\"))"
   ]
  },
  {
   "cell_type": "code",
   "execution_count": 13,
   "id": "7e985b28",
   "metadata": {},
   "outputs": [
    {
     "name": "stdout",
     "output_type": "stream",
     "text": [
      "\n",
      "\n",
      "{\n",
      "  \"Translation\": \"Sun, Beach, Waves, Excited Face, Party Popper\"\n",
      "}\n"
     ]
    }
   ],
   "source": [
    "print(reverse_emoji_translation(\"🌞🏖️🌊🤩🎉\"))"
   ]
  },
  {
   "cell_type": "code",
   "execution_count": 14,
   "id": "1818b6b5",
   "metadata": {},
   "outputs": [
    {
     "name": "stdout",
     "output_type": "stream",
     "text": [
      "\n",
      "\n",
      "{\n",
      "\"emoji1\": \"💸\",\n",
      "\"translation1\": \"Money\",\n",
      "\"emoji2\": \"💔\",\n",
      "\"translation2\": \"Broken Heart\"\n",
      "}\n"
     ]
    }
   ],
   "source": [
    "print(reverse_emoji_translation(\"💸💔\"))"
   ]
  },
  {
   "cell_type": "code",
   "execution_count": null,
   "id": "1dc1216d",
   "metadata": {},
   "outputs": [],
   "source": []
  }
 ],
 "metadata": {
  "kernelspec": {
   "display_name": "Python 3.10 - SDK v2",
   "language": "python",
   "name": "python310-sdkv2"
  },
  "language_info": {
   "codemirror_mode": {
    "name": "ipython",
    "version": 3
   },
   "file_extension": ".py",
   "mimetype": "text/x-python",
   "name": "python",
   "nbconvert_exporter": "python",
   "pygments_lexer": "ipython3",
   "version": "3.10.10"
  }
 },
 "nbformat": 4,
 "nbformat_minor": 5
}
