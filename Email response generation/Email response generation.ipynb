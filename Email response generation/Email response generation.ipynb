{
 "cells": [
  {
   "cell_type": "markdown",
   "id": "011db2ec",
   "metadata": {},
   "source": [
    "# Email response generation"
   ]
  },
  {
   "cell_type": "code",
   "execution_count": 1,
   "id": "a92744f4",
   "metadata": {
    "gather": {
     "logged": 1681842003771
    },
    "jupyter": {
     "source_hidden": false
    }
   },
   "outputs": [],
   "source": [
    "import json\n",
    "import openai\n",
    "import os\n",
    "\n",
    "from dotenv import load_dotenv"
   ]
  },
  {
   "cell_type": "code",
   "execution_count": 2,
   "id": "377b2fea",
   "metadata": {},
   "outputs": [],
   "source": [
    "load_dotenv(\"azure.env\")\n",
    "\n",
    "openai.api_type: str = \"azure\"\n",
    "openai.api_key = os.getenv(\"OPENAI_API_KEY\")\n",
    "openai.api_base = os.getenv(\"OPENAI_API_BASE\")\n",
    "openai.api_version = os.getenv(\"OPENAI_API_VERSION\")"
   ]
  },
  {
   "cell_type": "code",
   "execution_count": 3,
   "id": "19ae1e36",
   "metadata": {
    "gather": {
     "logged": 1681842042034
    },
    "jupyter": {
     "source_hidden": false
    }
   },
   "outputs": [],
   "source": [
    "deployment_name = \"text-davinci-003\"\n",
    "\n",
    "openai.api_type = \"azure\"\n",
    "openai.api_version = \"2023-05-15\""
   ]
  },
  {
   "cell_type": "code",
   "execution_count": 4,
   "id": "b15862a1",
   "metadata": {
    "gather": {
     "logged": 1681842044295
    },
    "jupyter": {
     "source_hidden": false
    }
   },
   "outputs": [],
   "source": [
    "def run_completion(\n",
    "    prompt: str, deployment_name: str, temperature=0.7, max_tokens=100, verbose=False\n",
    "):\n",
    "    try:\n",
    "        completion = openai.Completion.create(\n",
    "            prompt=prompt,\n",
    "            temperature=temperature,\n",
    "            max_tokens=max_tokens,\n",
    "            top_p=1,\n",
    "            frequency_penalty=0,\n",
    "            presence_penalty=0,\n",
    "            engine=deployment_name,\n",
    "        )\n",
    "\n",
    "        # print the completion\n",
    "        if verbose:\n",
    "            print(completion.choices[0].text.strip(\" \\n\"))\n",
    "\n",
    "        return completion.choices[0].text\n",
    "\n",
    "        # Here indicating if the response is filtered\n",
    "        if completion.choices[0].finish_reason == \"content_filter\":\n",
    "            print(\"The generated content is filtered.\")\n",
    "\n",
    "    except openai.error.APIError as e:\n",
    "        # Handle API error here, e.g. retry or log\n",
    "        print(f\"OpenAI API returned an API Error: {e}\")\n",
    "\n",
    "    except openai.error.AuthenticationError as e:\n",
    "        # Handle Authentication error here, e.g. invalid API key\n",
    "        print(f\"OpenAI API returned an Authentication Error: {e}\")\n",
    "\n",
    "    except openai.error.APIConnectionError as e:\n",
    "        # Handle connection error here\n",
    "        print(f\"Failed to connect to OpenAI API: {e}\")\n",
    "\n",
    "    except openai.error.InvalidRequestError as e:\n",
    "        # Handle connection error here\n",
    "        print(f\"Invalid Request Error: {e}\")\n",
    "\n",
    "    except openai.error.RateLimitError as e:\n",
    "        # Handle rate limit error\n",
    "        print(f\"OpenAI API request exceeded rate limit: {e}\")\n",
    "\n",
    "    except openai.error.ServiceUnavailableError as e:\n",
    "        # Handle Service Unavailable error\n",
    "        print(f\"Service Unavailable: {e}\")\n",
    "\n",
    "    except openai.error.Timeout as e:\n",
    "        # Handle request timeout\n",
    "        print(f\"Request timed out: {e}\")"
   ]
  },
  {
   "cell_type": "code",
   "execution_count": 5,
   "id": "3243c47f-4f4b-4840-938b-99f193088ca4",
   "metadata": {
    "gather": {
     "logged": 1681842045413
    },
    "jupyter": {
     "outputs_hidden": false,
     "source_hidden": false
    },
    "nteract": {
     "transient": {
      "deleting": false
     }
    }
   },
   "outputs": [],
   "source": [
    "def print_result(result):\n",
    "    \"\"\"\n",
    "    Print response function\n",
    "    \"\"\"\n",
    "    print(\"\\033[1;31;34m\")\n",
    "    for text in result.split(\"\\n\"):\n",
    "        print(text)"
   ]
  },
  {
   "cell_type": "markdown",
   "id": "72effb63-d4ae-4bda-aef6-1b4813f37058",
   "metadata": {
    "nteract": {
     "transient": {
      "deleting": false
     }
    }
   },
   "source": [
    "## Examples  1"
   ]
  },
  {
   "cell_type": "code",
   "execution_count": 6,
   "id": "ec717dfb-cb62-4596-87ac-62517057406a",
   "metadata": {
    "gather": {
     "logged": 1681842052625
    },
    "jupyter": {
     "outputs_hidden": false,
     "source_hidden": false
    },
    "nteract": {
     "transient": {
      "deleting": false
     }
    }
   },
   "outputs": [
    {
     "name": "stdout",
     "output_type": "stream",
     "text": [
      "\u001b[1;31;34m\n",
      "\n",
      "Summary:\n",
      "\n",
      "Matt is reaching out to John to ask for his assistance in addressing user interface issues with a software that John has been developing. The issues mainly involve difficulty accessing features and lack of intuitiveness. Matt is requesting that John use his expertise to adjust the UI's layout, design, and/or functionality to rectify these issues and enhance the user experience. Additionally, Matt is offering any additional resources or support needed to complete the task and requesting an estimated timeline.\n",
      "\n",
      "Action Items:\n",
      "\n",
      "-Adjust UI layout, design, and/or functionality\n",
      "-Provide estimated timeline for completion of modifications\n",
      "-Inform Matt of any additional resources or support needed to complete the task\n"
     ]
    }
   ],
   "source": [
    "prompt = \"\"\"\n",
    "Dear John,\n",
    "\n",
    "I trust you're in good health. I'm reaching out to offer updates regarding our company's status and to kindly \\\n",
    "request your assistance in addressing a concern related to the user interface (UI) of the software \\\n",
    "you've been actively involved in developing.\n",
    "As you're aware, our company places a strong emphasis on delivering a user-friendly experience to our clients. \\\n",
    "Regrettably, we've identified issues with the current UI of the software. Specifically, user feedback has \\\n",
    "indicated difficulties in accessing certain features and has noted that the UI lacks intuitiveness.\n",
    "\n",
    "We are seeking your expertise to rectify these issues and enhance the software's UI. This task may entail \\\n",
    "adjustments to the UI's layout, design, or functionality. Given your software development proficiency and \\\n",
    "your familiarity with the software in question, we believe you are ideally suited to assist us in this endeavor.\n",
    "\n",
    "Should you require any additional resources or support to effectively complete this task, please do not \\\n",
    "hesitate to inform me. Furthermore, I would greatly appreciate it if you could provide an estimated \\\n",
    "timeline for the completion of these modifications.\n",
    "Should you have any questions or require further clarification, please don't hesitate to reach out to me.\n",
    "\n",
    "Thank you for your unwavering dedication and hard work in support of our company. I eagerly await your response.\n",
    "\n",
    "Warm regards,\n",
    "Matt\n",
    "\n",
    "Generate a summary of this and a list of action items.\n",
    "\"\"\"\n",
    "\n",
    "resp = run_completion(\n",
    "    prompt=prompt,\n",
    "    deployment_name=deployment_name,\n",
    "    temperature=0.8,\n",
    "    max_tokens=500,\n",
    "    verbose=False,\n",
    ")\n",
    "print_result(resp)"
   ]
  },
  {
   "cell_type": "code",
   "execution_count": 7,
   "id": "75aa30a2-131d-4b92-80fe-40e09fe5ca54",
   "metadata": {
    "gather": {
     "logged": 1681842062305
    },
    "jupyter": {
     "outputs_hidden": false,
     "source_hidden": false
    },
    "nteract": {
     "transient": {
      "deleting": false
     }
    }
   },
   "outputs": [
    {
     "name": "stdout",
     "output_type": "stream",
     "text": [
      "\u001b[1;31;34m\n",
      "\n",
      "Dear John,\n",
      "\n",
      "I hope you are doing well. I'm writing to you to let you know that we've recently received some feedback concerning the user interface (UI) of our software. It appears that some users have expressed difficulty in navigating the software due to its poor layout, design, and functionality. \n",
      "\n",
      "Therefore, I'm requesting your help in addressing these issues and making necessary improvements to the UI. To ensure that these changes are made in a timely manner, I would like to receive an estimated timeline from you. Additionally, please let me know if you need any additional resources or support in order to complete this task.\n",
      "\n",
      "Thank you in advance for your attention to this matter. I look forward to hearing from you soon.\n",
      "\n",
      "Regards,\n",
      "Matt\n"
     ]
    }
   ],
   "source": [
    "prompt = \"\"\"\n",
    "Summary: Matt is writing to inform John of recent feedback the company has received regarding their user \\\n",
    "interface (UI) of the software. Matt is requesting John's help in addressing these issues and making improvements\\\n",
    "to the software's UI. \n",
    "\n",
    "Action Items:\n",
    "1. Assess the layout, design, and functionality of the UI and make necessary changes.\n",
    "2. Provide John with an estimated timeline for when these modifications are expected to be complete.\n",
    "3. Let John know if any additional resources or support are needed to complete the task.\n",
    "\n",
    "Write a response email from Mario using the above email summary:\n",
    "\"\"\"\n",
    "\n",
    "resp = run_completion(\n",
    "    prompt=prompt,\n",
    "    deployment_name=deployment_name,\n",
    "    temperature=0.8,\n",
    "    max_tokens=500,\n",
    "    verbose=False,\n",
    ")\n",
    "print_result(resp)"
   ]
  },
  {
   "cell_type": "markdown",
   "id": "24a2731b",
   "metadata": {},
   "source": [
    "## Examples 2"
   ]
  },
  {
   "cell_type": "code",
   "execution_count": 8,
   "id": "45761047",
   "metadata": {},
   "outputs": [
    {
     "name": "stdout",
     "output_type": "stream",
     "text": [
      "\u001b[1;31;34m\n",
      "\n",
      "Negative.\n"
     ]
    }
   ],
   "source": [
    "prompt = \"\"\"\n",
    "\n",
    "I am writing today to complain of the poor service I received from your company on June 12, 2020. \\\n",
    "I was visited by a representative of That Awful Company, Mr. Madman, at my home that day.\n",
    "\n",
    "Mr. Madman was one hour late for his appointment and offered nothing by way of apology \\\n",
    "when he arrived at noon. Your representative did not remove his muddy shoes upon entering \\\n",
    "my house and consequently left a trail of dirt in the hallway. Mr. Madman then proceeded to present \\\n",
    "a range of products to me that I had specifically told his assistant by telephone that I was not \\\n",
    "interested in. I repeatedly tried to ask your representative about the products that were of interest \\\n",
    "to me, but he refused to deal with my questions. We ended our meeting after 25 minutes without either \\\n",
    "of us having accomplished anything.\n",
    "\n",
    "I am most annoyed that I wasted a morning (and half a day's vacation) waiting for Mr. Madman to \\\n",
    "show up. My impression of That Awful Company has been tarnished, and I am now concerned about how \\\n",
    "my existing business is being managed by your firm. Furthermore, Mr. Madman's inability to remove his \\\n",
    "muddy shoes has meant that I have had to engage the services, and incur the expense, of a professional carpet cleaner.\n",
    "\n",
    "I trust this is not the way That Awful Company wishes to conduct business with valued customers—I \\\n",
    "have been with you since the company was founded and have never encountered such treatment before. I would \\\n",
    "welcome the opportunity to discuss matters further and to learn how you propose to prevent a similar situation \\\n",
    "from recurring. I look forward to hearing from you.\n",
    "\n",
    "Is it a positive, negative or neutral email?\n",
    "\"\"\"\n",
    "\n",
    "resp = run_completion(\n",
    "    prompt=prompt,\n",
    "    deployment_name=deployment_name,\n",
    "    temperature=0.8,\n",
    "    max_tokens=500,\n",
    "    verbose=False,\n",
    ")\n",
    "print_result(resp)"
   ]
  },
  {
   "cell_type": "code",
   "execution_count": 9,
   "id": "d1ae8bc1",
   "metadata": {},
   "outputs": [
    {
     "name": "stdout",
     "output_type": "stream",
     "text": [
      "\u001b[1;31;34m\n",
      "\n",
      "This email is negative because the customer is expressing dissatisfaction with the service they received from the company. The letter outlines the problems they encountered, including the representative's tardiness, failure to remove his shoes upon entering the home, refusal to address the customer's questions, and overall unproductive meeting. The customer is also seeking reimbursement for the cost of a professional carpet cleaner, suggesting that the company is liable for any damages caused by its representative. Finally, the customer expresses disappointment in the company and worries that their business is being poorly managed.\n"
     ]
    }
   ],
   "source": [
    "prompt = \"\"\"\n",
    "\n",
    "I am writing today to complain of the poor service I received from your company on June 12, 2020. \\\n",
    "I was visited by a representative of That Awful Company, Mr. Madman, at my home that day.\n",
    "\n",
    "Mr. Madman was one hour late for his appointment and offered nothing by way of apology \\\n",
    "when he arrived at noon. Your representative did not remove his muddy shoes upon entering \\\n",
    "my house and consequently left a trail of dirt in the hallway. Mr. Madman then proceeded to present \\\n",
    "a range of products to me that I had specifically told his assistant by telephone that I was not \\\n",
    "interested in. I repeatedly tried to ask your representative about the products that were of interest \\\n",
    "to me, but he refused to deal with my questions. We ended our meeting after 25 minutes without either \\\n",
    "of us having accomplished anything.\n",
    "\n",
    "I am most annoyed that I wasted a morning (and half a day's vacation) waiting for Mr. Madman to \\\n",
    "show up. My impression of That Awful Company has been tarnished, and I am now concerned about how \\\n",
    "my existing business is being managed by your firm. Furthermore, Mr. Madman's inability to remove his \\\n",
    "muddy shoes has meant that I have had to engage the services, and incur the expense, of a professional carpet cleaner.\n",
    "\n",
    "I trust this is not the way That Awful Company wishes to conduct business with valued customers—I \\\n",
    "have been with you since the company was founded and have never encountered such treatment before. I would \\\n",
    "welcome the opportunity to discuss matters further and to learn how you propose to prevent a similar situation \\\n",
    "from recurring. I look forward to hearing from you.\n",
    "\n",
    "Explain why it is a negative email\n",
    "\"\"\"\n",
    "\n",
    "resp = run_completion(\n",
    "    prompt=prompt,\n",
    "    deployment_name=deployment_name,\n",
    "    temperature=0.8,\n",
    "    max_tokens=500,\n",
    "    verbose=False,\n",
    ")\n",
    "print_result(resp)"
   ]
  },
  {
   "cell_type": "code",
   "execution_count": 10,
   "id": "58811228",
   "metadata": {},
   "outputs": [
    {
     "name": "stdout",
     "output_type": "stream",
     "text": [
      "\u001b[1;31;34m\n",
      "\n",
      "I was visited by an unprofessional representative from That Awful Company on June 12, 2020, who left mud in my hallway and would not address my queries. I am disappointed by my experience and would like to discuss this further.\n"
     ]
    }
   ],
   "source": [
    "prompt = \"\"\"\n",
    "\n",
    "I am writing today to complain of the poor service I received from your company on June 12, 2020. \\\n",
    "I was visited by a representative of That Awful Company, Mr. Madman, at my home that day.\n",
    "\n",
    "Mr. Madman was one hour late for his appointment and offered nothing by way of apology \\\n",
    "when he arrived at noon. Your representative did not remove his muddy shoes upon entering \\\n",
    "my house and consequently left a trail of dirt in the hallway. Mr. Madman then proceeded to present \\\n",
    "a range of products to me that I had specifically told his assistant by telephone that I was not \\\n",
    "interested in. I repeatedly tried to ask your representative about the products that were of interest \\\n",
    "to me, but he refused to deal with my questions. We ended our meeting after 25 minutes without either \\\n",
    "of us having accomplished anything.\n",
    "\n",
    "I am most annoyed that I wasted a morning (and half a day's vacation) waiting for Mr. Madman to \\\n",
    "show up. My impression of That Awful Company has been tarnished, and I am now concerned about how \\\n",
    "my existing business is being managed by your firm. Furthermore, Mr. Madman's inability to remove his \\\n",
    "muddy shoes has meant that I have had to engage the services, and incur the expense, of a professional carpet cleaner.\n",
    "\n",
    "I trust this is not the way That Awful Company wishes to conduct business with valued customers—I \\\n",
    "have been with you since the company was founded and have never encountered such treatment before. I would \\\n",
    "welcome the opportunity to discuss matters further and to learn how you propose to prevent a similar situation \\\n",
    "from recurring. I look forward to hearing from you.\n",
    "\n",
    "Can you summarize this in 3 lines?\n",
    "\"\"\"\n",
    "\n",
    "resp = run_completion(\n",
    "    prompt=prompt,\n",
    "    deployment_name=deployment_name,\n",
    "    temperature=0.8,\n",
    "    max_tokens=500,\n",
    "    verbose=False,\n",
    ")\n",
    "print_result(resp)"
   ]
  },
  {
   "cell_type": "code",
   "execution_count": 11,
   "id": "730fd569",
   "metadata": {},
   "outputs": [
    {
     "name": "stdout",
     "output_type": "stream",
     "text": [
      "\u001b[1;31;34m\n",
      "\n",
      "Dear [Customer],\n",
      "\n",
      "I am writing in relation to your complaint about the poor service you received from our company on June 12, 2020. I apologize for the unsatisfactory experience you had with our representative, Mr. Madman. It is unacceptable that he was late for his appointment without offering an apology and that he did not remove his muddy shoes upon entering your house. I can only imagine how frustrated you must have been when he presented you with products that you had already said you were not interested in.\n",
      "\n",
      "We are dedicated to providing our valued customers with the best possible service. To make amends for the way you were treated on this occasion, we would like to offer you a free product of your choosing from the range of products that we offer. We also understand that you had to incur the expense of a professional carpet cleaner due to the mud left by Mr. Madman. As such, we would like to reimburse you for the cost of the carpet cleaning.\n",
      "\n",
      "We are taking steps to ensure the situation you encountered with Mr. Madman does not occur again. We will be issuing new training guidelines to all our representatives, emphasizing the importance of punctuality, the application of politeness and respect, and the need to be acquainted with our products and services. We will also provide ongoing support and training for our representatives so that they are able to better serve our customers.\n",
      "\n",
      "I hope that this resolution is satisfactory to you. Please do not hesitate to contact me if you have any further questions or concerns.\n",
      "\n",
      "Sincerely, \n",
      "[Name]\n"
     ]
    }
   ],
   "source": [
    "prompt = \"\"\"\n",
    "\n",
    "I am writing today to complain of the poor service I received from your company on June 12, 2020. \\\n",
    "I was visited by a representative of That Awful Company, Mr. Madman, at my home that day.\n",
    "\n",
    "Mr. Madman was one hour late for his appointment and offered nothing by way of apology \\\n",
    "when he arrived at noon. Your representative did not remove his muddy shoes upon entering \\\n",
    "my house and consequently left a trail of dirt in the hallway. Mr. Madman then proceeded to present \\\n",
    "a range of products to me that I had specifically told his assistant by telephone that I was not \\\n",
    "interested in. I repeatedly tried to ask your representative about the products that were of interest \\\n",
    "to me, but he refused to deal with my questions. We ended our meeting after 25 minutes without either \\\n",
    "of us having accomplished anything.\n",
    "\n",
    "I am most annoyed that I wasted a morning (and half a day's vacation) waiting for Mr. Madman to \\\n",
    "show up. My impression of That Awful Company has been tarnished, and I am now concerned about how \\\n",
    "my existing business is being managed by your firm. Furthermore, Mr. Madman's inability to remove his \\\n",
    "muddy shoes has meant that I have had to engage the services, and incur the expense, of a professional carpet cleaner.\n",
    "\n",
    "I trust this is not the way That Awful Company wishes to conduct business with valued customers—I \\\n",
    "have been with you since the company was founded and have never encountered such treatment before. I would \\\n",
    "welcome the opportunity to discuss matters further and to learn how you propose to prevent a similar situation \\\n",
    "from recurring. I look forward to hearing from you.\n",
    "\n",
    "Can you generate an email to this customer with some suggestions to fix the issues?\n",
    "\"\"\"\n",
    "\n",
    "resp = run_completion(\n",
    "    prompt=prompt,\n",
    "    deployment_name=deployment_name,\n",
    "    temperature=0.8,\n",
    "    max_tokens=500,\n",
    "    verbose=False,\n",
    ")\n",
    "print_result(resp)"
   ]
  },
  {
   "cell_type": "code",
   "execution_count": null,
   "id": "2e0eee9a",
   "metadata": {},
   "outputs": [],
   "source": []
  }
 ],
 "metadata": {
  "kernel_info": {
   "name": "python3"
  },
  "kernelspec": {
   "display_name": "Python 3.10 - SDK v2",
   "language": "python",
   "name": "python310-sdkv2"
  },
  "language_info": {
   "codemirror_mode": {
    "name": "ipython",
    "version": 3
   },
   "file_extension": ".py",
   "mimetype": "text/x-python",
   "name": "python",
   "nbconvert_exporter": "python",
   "pygments_lexer": "ipython3",
   "version": "3.10.10"
  },
  "microsoft": {
   "host": {
    "AzureML": {
     "notebookHasBeenCompleted": true
    }
   },
   "ms_spell_check": {
    "ms_spell_check_language": "en"
   }
  },
  "nteract": {
   "version": "nteract-front-end@1.0.0"
  }
 },
 "nbformat": 4,
 "nbformat_minor": 5
}
