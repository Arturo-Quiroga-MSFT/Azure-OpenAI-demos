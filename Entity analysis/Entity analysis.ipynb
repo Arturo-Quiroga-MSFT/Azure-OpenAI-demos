{
 "cells": [
  {
   "cell_type": "markdown",
   "id": "20e46c2f",
   "metadata": {},
   "source": [
    "# Entity analysis with Azure Open AI"
   ]
  },
  {
   "cell_type": "code",
   "execution_count": 1,
   "id": "a9ed10c4",
   "metadata": {},
   "outputs": [],
   "source": [
    "import datetime\n",
    "import openai\n",
    "import os\n",
    "import sys\n",
    "\n",
    "from dotenv import load_dotenv"
   ]
  },
  {
   "cell_type": "code",
   "execution_count": 2,
   "id": "bacb98f7",
   "metadata": {},
   "outputs": [
    {
     "name": "stdout",
     "output_type": "stream",
     "text": [
      "Open AI version: 0.28.1\n"
     ]
    }
   ],
   "source": [
    "load_dotenv(\"azure.env\")\n",
    "\n",
    "# Azure Open AI\n",
    "openai.api_type: str = \"azure\"\n",
    "openai.api_key = os.getenv(\"OPENAI_API_KEY\")\n",
    "openai.api_base = os.getenv(\"OPENAI_API_BASE\")\n",
    "openai.api_version = os.getenv(\"OPENAI_API_VERSION\")\n",
    "\n",
    "print(\"Open AI version:\", openai.__version__)"
   ]
  },
  {
   "cell_type": "code",
   "execution_count": 3,
   "id": "6b463bec",
   "metadata": {},
   "outputs": [
    {
     "name": "stdout",
     "output_type": "stream",
     "text": [
      "Today is: 12-Oct-2023 14:39:33\n"
     ]
    }
   ],
   "source": [
    "print(\"Today is:\", datetime.datetime.today().strftime(\"%d-%b-%Y %H:%M:%S\"))"
   ]
  },
  {
   "cell_type": "code",
   "execution_count": 4,
   "id": "3dd263bd",
   "metadata": {},
   "outputs": [
    {
     "data": {
      "text/plain": [
       "'3.10.10 (main, Mar 21 2023, 18:45:11) [GCC 11.2.0]'"
      ]
     },
     "execution_count": 4,
     "metadata": {},
     "output_type": "execute_result"
    }
   ],
   "source": [
    "sys.version"
   ]
  },
  {
   "cell_type": "markdown",
   "id": "bf083314",
   "metadata": {},
   "source": [
    "## Function"
   ]
  },
  {
   "cell_type": "code",
   "execution_count": 5,
   "id": "1a4b5443",
   "metadata": {},
   "outputs": [],
   "source": [
    "model = \"text-davinci-003\""
   ]
  },
  {
   "cell_type": "code",
   "execution_count": 6,
   "id": "c2dd2175",
   "metadata": {},
   "outputs": [],
   "source": [
    "def azure_openai(prompt, temperature=0.8):\n",
    "    \"\"\"\n",
    "    Get Azure Open AI results\n",
    "    \"\"\"\n",
    "    prompt = prompt + \"\\n\" + text\n",
    "\n",
    "    results = openai.Completion.create(\n",
    "        engine=model,\n",
    "        prompt=prompt,\n",
    "        temperature=temperature,\n",
    "        max_tokens=800,\n",
    "    )\n",
    "\n",
    "    answer = results[\"choices\"][0][\"text\"].strip(\"\\n\")\n",
    "\n",
    "    return answer"
   ]
  },
  {
   "cell_type": "markdown",
   "id": "6ba8838d",
   "metadata": {},
   "source": [
    "## Entity analysis"
   ]
  },
  {
   "cell_type": "code",
   "execution_count": 7,
   "id": "f846d82b",
   "metadata": {},
   "outputs": [
    {
     "name": "stdout",
     "output_type": "stream",
     "text": [
      "\n",
      "Microsoft was founded by Bill Gates with some friends he met at Harvard. One of his friends,\n",
      "Steve Ballmer, eventually became CEO after Bill Gates as well. Steve Ballmer eventually stepped\n",
      "down as CEO of Microsoft, and was succeeded by Satya Nadella.\n",
      "Microsoft originally moved its headquarters to Bellevue, Washington in January 1979, but is now\n",
      "headquartered in Redmond.\n",
      "\n"
     ]
    }
   ],
   "source": [
    "text = \"\"\"\n",
    "Microsoft was founded by Bill Gates with some friends he met at Harvard. One of his friends,\n",
    "Steve Ballmer, eventually became CEO after Bill Gates as well. Steve Ballmer eventually stepped\n",
    "down as CEO of Microsoft, and was succeeded by Satya Nadella.\n",
    "Microsoft originally moved its headquarters to Bellevue, Washington in January 1979, but is now\n",
    "headquartered in Redmond.\n",
    "\"\"\"\n",
    "\n",
    "print(text)"
   ]
  },
  {
   "cell_type": "code",
   "execution_count": 8,
   "id": "85d1a30f",
   "metadata": {},
   "outputs": [
    {
     "name": "stdout",
     "output_type": "stream",
     "text": [
      "-Microsoft\n",
      "-Bill Gates\n",
      "-Steve Ballmer\n",
      "-Satya Nadella\n",
      "-Bellevue, Washington\n",
      "-Redmond\n"
     ]
    }
   ],
   "source": [
    "answer = azure_openai(\"Extract named entities in this text?\")\n",
    "print(answer)"
   ]
  },
  {
   "cell_type": "code",
   "execution_count": 9,
   "id": "6b1ec71b",
   "metadata": {},
   "outputs": [
    {
     "name": "stdout",
     "output_type": "stream",
     "text": [
      "Named Entities: \n",
      "- Microsoft\n",
      "- Bill Gates\n",
      "- Steve Ballmer\n",
      "- Satya Nadella\n",
      "- Bellevue, Washington\n",
      "- Redmond\n",
      "\n",
      "Proposed Relationships:\n",
      "- Bill Gates founded Microsoft with some friends he met at Harvard\n",
      "- Steve Ballmer succeeded Bill Gates as CEO of Microsoft\n",
      "- Steve Ballmer eventually stepped down as CEO of Microsoft\n",
      "- Satya Nadella succeeded Steve Ballmer as CEO of Microsoft\n",
      "- Microsoft moved its headquarters from Bellevue, Washington to Redmond in January 1979\n"
     ]
    }
   ],
   "source": [
    "answer = azure_openai(\n",
    "    \"Can you extract the named entities and propose some relationship between them?\"\n",
    ")\n",
    "print(answer)"
   ]
  },
  {
   "cell_type": "code",
   "execution_count": 10,
   "id": "740ba984",
   "metadata": {},
   "outputs": [
    {
     "name": "stdout",
     "output_type": "stream",
     "text": [
      "Named Entities:\n",
      "- Microsoft  (Organization)\n",
      "- Bill Gates (Person)\n",
      "- Harvard (Location)\n",
      "- Steve Ballmer (Person)\n",
      "- CEO (Job Title)\n",
      "- Satya Nadella (Person)\n",
      "- Bellevue, Washington (Location)\n",
      "- Redmond (Location)\n"
     ]
    }
   ],
   "source": [
    "answer = azure_openai(\"Can you extract the named entities and classify them?\")\n",
    "print(answer)"
   ]
  },
  {
   "cell_type": "code",
   "execution_count": 11,
   "id": "588d46c5",
   "metadata": {},
   "outputs": [
    {
     "name": "stdout",
     "output_type": "stream",
     "text": [
      "The three persons are Bill Gates, Steve Ballmer, and Satya Nadella - they are all associated with Microsoft. Bill Gates founded Microsoft, Steve Ballmer was the CEO after Gates, and Satya Nadella is the current CEO. Microsoft has been headquartered in Bellevue, Washington and is now headquartered in Redmond.\n"
     ]
    }
   ],
   "source": [
    "answer = azure_openai(\"What are the links between the 3 persons?\")\n",
    "print(answer)"
   ]
  },
  {
   "cell_type": "code",
   "execution_count": 12,
   "id": "0a015a01",
   "metadata": {},
   "outputs": [
    {
     "name": "stdout",
     "output_type": "stream",
     "text": [
      "The locations mentioned in this text are Harvard, Bellevue, Washington, and Redmond.\n"
     ]
    }
   ],
   "source": [
    "answer = azure_openai(\"What are the locations in this text?\")\n",
    "print(answer)"
   ]
  },
  {
   "cell_type": "code",
   "execution_count": 13,
   "id": "67c14b4d",
   "metadata": {},
   "outputs": [
    {
     "name": "stdout",
     "output_type": "stream",
     "text": [
      "The link between these locations is that Microsoft was founded by Bill Gates and his friends at Harvard. Steve Ballmer, one of these friends, became the CEO of Microsoft after Bill Gates, and then was succeeded by Satya Nadella. Microsoft moved its headquarters from Bellevue, Washington to Redmond in 1979.\n"
     ]
    }
   ],
   "source": [
    "answer = azure_openai(\"What are the links between these locations?\")\n",
    "print(answer)"
   ]
  },
  {
   "cell_type": "code",
   "execution_count": 14,
   "id": "43a7922d",
   "metadata": {},
   "outputs": [
    {
     "name": "stdout",
     "output_type": "stream",
     "text": [
      "President JFK will speak from the White House, located at 1600 Pennsylvania Ave NW, Washington, DC, on October 7.\n"
     ]
    }
   ],
   "source": [
    "text = \"President JFK will speak from the White House, located at 1600 Pennsylvania Ave NW, Washington, DC, on October 7.\"\n",
    "\n",
    "print(text)"
   ]
  },
  {
   "cell_type": "code",
   "execution_count": 15,
   "id": "a85351b5",
   "metadata": {},
   "outputs": [
    {
     "name": "stdout",
     "output_type": "stream",
     "text": [
      "Named Entities: \n",
      "1. President JFK  (Person)\n",
      "2. White House (Location)\n",
      "3. 1600 Pennsylvania Ave NW (Location)\n",
      "4. Washington, DC (Location)\n",
      "5. October 7 (Date)\n"
     ]
    }
   ],
   "source": [
    "answer = azure_openai(\"Can you extract the named entities and classify them?\")\n",
    "print(answer)"
   ]
  },
  {
   "cell_type": "code",
   "execution_count": null,
   "id": "dfbd2515",
   "metadata": {},
   "outputs": [],
   "source": []
  },
  {
   "cell_type": "code",
   "execution_count": null,
   "id": "b858c08c",
   "metadata": {},
   "outputs": [],
   "source": []
  }
 ],
 "metadata": {
  "kernelspec": {
   "display_name": "Python 3.10 - SDK v2",
   "language": "python",
   "name": "python310-sdkv2"
  },
  "language_info": {
   "codemirror_mode": {
    "name": "ipython",
    "version": 3
   },
   "file_extension": ".py",
   "mimetype": "text/x-python",
   "name": "python",
   "nbconvert_exporter": "python",
   "pygments_lexer": "ipython3",
   "version": "3.10.10"
  }
 },
 "nbformat": 4,
 "nbformat_minor": 5
}
