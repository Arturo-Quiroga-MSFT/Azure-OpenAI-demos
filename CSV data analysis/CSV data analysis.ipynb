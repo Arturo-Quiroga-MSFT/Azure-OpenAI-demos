{
 "cells": [
  {
   "cell_type": "markdown",
   "id": "20e46c2f",
   "metadata": {},
   "source": [
    "# CSV data analysis"
   ]
  },
  {
   "cell_type": "code",
   "execution_count": 1,
   "id": "a9ed10c4",
   "metadata": {},
   "outputs": [],
   "source": [
    "import csv\n",
    "import datetime\n",
    "import openai\n",
    "import os\n",
    "import pandas as pd\n",
    "import sys\n",
    "\n",
    "from dotenv import load_dotenv"
   ]
  },
  {
   "cell_type": "code",
   "execution_count": 2,
   "id": "bacb98f7",
   "metadata": {},
   "outputs": [
    {
     "name": "stdout",
     "output_type": "stream",
     "text": [
      "Open AI version: 0.28.1\n"
     ]
    }
   ],
   "source": [
    "load_dotenv(\"azure.env\")\n",
    "\n",
    "# Azure Open AI\n",
    "openai.api_type: str = \"azure\"\n",
    "openai.api_key = os.getenv(\"OPENAI_API_KEY\")\n",
    "openai.api_base = os.getenv(\"OPENAI_API_BASE\")\n",
    "openai.api_version = os.getenv(\"OPENAI_API_VERSION\")\n",
    "\n",
    "print(\"Open AI version:\", openai.__version__)"
   ]
  },
  {
   "cell_type": "code",
   "execution_count": 3,
   "id": "6b463bec",
   "metadata": {},
   "outputs": [
    {
     "name": "stdout",
     "output_type": "stream",
     "text": [
      "Today is: 12-Oct-2023 14:41:04\n"
     ]
    }
   ],
   "source": [
    "print(\"Today is:\", datetime.datetime.today().strftime(\"%d-%b-%Y %H:%M:%S\"))"
   ]
  },
  {
   "cell_type": "code",
   "execution_count": 4,
   "id": "3dd263bd",
   "metadata": {},
   "outputs": [
    {
     "data": {
      "text/plain": [
       "'3.10.10 (main, Mar 21 2023, 18:45:11) [GCC 11.2.0]'"
      ]
     },
     "execution_count": 4,
     "metadata": {},
     "output_type": "execute_result"
    }
   ],
   "source": [
    "sys.version"
   ]
  },
  {
   "cell_type": "markdown",
   "id": "bf083314",
   "metadata": {},
   "source": [
    "## Function"
   ]
  },
  {
   "cell_type": "code",
   "execution_count": 5,
   "id": "1a4b5443",
   "metadata": {},
   "outputs": [],
   "source": [
    "model = \"text-davinci-003\""
   ]
  },
  {
   "cell_type": "code",
   "execution_count": 6,
   "id": "c2dd2175",
   "metadata": {},
   "outputs": [],
   "source": [
    "def azure_openai(prompt, temperature=0.8):\n",
    "    \"\"\"\n",
    "    Get Azure Open AI results\n",
    "    \"\"\"\n",
    "    prompt = prompt + \"\\n\" + text\n",
    "\n",
    "    results = openai.Completion.create(\n",
    "        engine=model,\n",
    "        prompt=prompt,\n",
    "        temperature=temperature,\n",
    "        max_tokens=800,\n",
    "    )\n",
    "\n",
    "    answer = results[\"choices\"][0][\"text\"].strip(\"\\n\")\n",
    "\n",
    "    return answer"
   ]
  },
  {
   "cell_type": "markdown",
   "id": "6ba8838d",
   "metadata": {},
   "source": [
    "## CSV analysis"
   ]
  },
  {
   "cell_type": "code",
   "execution_count": 7,
   "id": "25f2556f",
   "metadata": {},
   "outputs": [],
   "source": [
    "csv_file_path = \"cars.csv\""
   ]
  },
  {
   "cell_type": "code",
   "execution_count": 8,
   "id": "1d0ae386",
   "metadata": {},
   "outputs": [
    {
     "name": "stdout",
     "output_type": "stream",
     "text": [
      "-rwxrwxrwx 1 root root 3.6K Oct  6 14:50 cars.csv\r\n"
     ]
    }
   ],
   "source": [
    "!ls $csv_file_path -lh"
   ]
  },
  {
   "cell_type": "code",
   "execution_count": 9,
   "id": "7b56653b",
   "metadata": {},
   "outputs": [
    {
     "name": "stdout",
     "output_type": "stream",
     "text": [
      "Manufacturer,Model,Type,Origin,DriveTrain,MSRP,Invoice,EngineSize,Cylinders,Horsepower,MPG_City,MPG_Highway,Weight,Wheelbase,Length\n",
      "Acura,MDX,SUV,Asia,All,36945.0,33337.0,3.5,6.0,265.0,17.0,23.0,4451.0,106.0,189.0\n",
      "Acura,RSX Type S 2dr,Sedan,Asia,Front,23820.0,21761.0,2.0,4.0,200.0,24.0,31.0,2778.0,101.0,172.0\n",
      "Acura,TSX 4dr,Sedan,Asia,Front,26990.0,24647.0,2.4,4.0,200.0,22.0,29.0,3230.0,105.0,183.0\n",
      "Acura,TL 4dr,Sedan,Asia,Front,33195.0,30299.0,3.2,6.0,270.0,20.0,28.0,3575.0,108.0,186.0\n",
      "Acura,3.5 RL 4dr,Sedan,Asia,Front,43755.0,39014.0,3.5,6.0,225.0,18.0,24.0,3880.0,115.0,197.0\n",
      "Acura,3.5 RL w/Navigation 4dr,Sedan,Asia,Front,46100.0,41100.0,3.5,6.0,225.0,18.0,24.0,3893.0,115.0,197.0\n",
      "Acura,NSX coupe 2dr manual S,Sports,Asia,Rear,89765.0,79978.0,3.2,6.0,290.0,17.0,24.0,3153.0,100.0,174.0\n",
      "Audi,A4 1.8T 4dr,Sedan,Europe,Front,25940.0,23508.0,1.8,4.0,170.0,22.0,31.0,3252.0,104.0,179.0\n",
      "Audi,A41.8T convertible 2dr,Sedan,Europe,Front,35940.0,32506.0,1.8,4.0,170.0,23.0,30.0,3638.0,105.0,180.0\n",
      "Audi,A4 3.0 4dr,Sedan,Europe,Front,31840.0,28846.0,3.0,6.0,220.0,20.0,28.0,3462.0,104.0,179.0\n",
      "Audi,A4 3.0 Quattro 4dr manual,Sedan,Europe,All,33430.0,30366.0,3.0,6.0,220.0,17.0,26.0,3583.0,104.0,179.0\n",
      "Audi,A4 3.0 Quattro 4dr auto,Sedan,Europe,All,34480.0,31388.0,3.0,6.0,220.0,18.0,25.0,3627.0,104.0,179.0\n",
      "Audi,A6 3.0 4dr,Sedan,Europe,Front,36640.0,33129.0,3.0,6.0,220.0,20.0,27.0,3561.0,109.0,192.0\n",
      "Audi,A6 3.0 Quattro 4dr,Sedan,Europe,All,39640.0,35992.0,3.0,6.0,220.0,18.0,25.0,3880.0,109.0,192.0\n",
      "Audi,A4 3.0 convertible 2dr,Sedan,Europe,Front,42490.0,38325.0,3.0,6.0,220.0,20.0,27.0,3814.0,105.0,180.0\n",
      "Audi,A4 3.0 Quattro convertible 2dr,Sedan,Europe,All,44240.0,40075.0,3.0,6.0,220.0,18.0,25.0,4013.0,105.0,180.0\n",
      "Audi,A6 2.7 Turbo Quattro 4dr,Sedan,Europe,All,42840.0,38840.0,2.7,6.0,250.0,18.0,25.0,3836.0,109.0,192.0\n",
      "Audi,A6 3.0 Avant Quattro,Wagon,Europe,All,40840.0,37060.0,3.0,6.0,220.0,18.0,25.0,4035.0,109.0,192.0\n",
      "Audi,S4 Avant Quattro,Wagon,Europe,All,49090.0,44446.0,4.2,8.0,340.0,15.0,21.0,3936.0,104.0,179.0\n",
      "BMW,X3 3.0i,SUV,Europe,All,37000.0,33873.0,3.0,6.0,225.0,16.0,23.0,4023.0,110.0,180.0\n",
      "BMW,X5 4.4i,SUV,Europe,All,52195.0,47720.0,4.4,8.0,325.0,16.0,22.0,4824.0,111.0,184.0\n",
      "BMW,325i 4dr,Sedan,Europe,Rear,28495.0,26155.0,2.5,6.0,184.0,20.0,29.0,3219.0,107.0,176.0\n",
      "BMW,325Ci 2dr,Sedan,Europe,Rear,30795.0,28245.0,2.5,6.0,184.0,20.0,29.0,3197.0,107.0,177.0\n",
      "BMW,325Ci convertible 2dr,Sedan,Europe,Rear,37995.0,34800.0,2.5,6.0,184.0,19.0,27.0,3560.0,107.0,177.0\n",
      "BMW,325xi 4dr,Sedan,Europe,All,30245.0,27745.0,2.5,6.0,184.0,19.0,27.0,3461.0,107.0,176.0\n",
      "BMW,330i 4dr,Sedan,Europe,Rear,35495.0,32525.0,3.0,6.0,225.0,20.0,30.0,3285.0,107.0,176.0\n",
      "BMW,330Ci 2dr,Sedan,Europe,Rear,36995.0,33890.0,3.0,6.0,225.0,20.0,30.0,3285.0,107.0,176.0\n",
      "BMW,330xi 4dr,Sedan,Europe,All,37245.0,34115.0,3.0,6.0,225.0,20.0,29.0,3483.0,107.0,176.0\n",
      "BMW,525i 4dr,Sedan,Europe,Rear,39995.0,36620.0,2.5,6.0,184.0,19.0,28.0,3428.0,114.0,191.0\n",
      "BMW,330Ci convertible 2dr,Sedan,Europe,Rear,44295.0,40530.0,3.0,6.0,225.0,19.0,28.0,3616.0,107.0,177.0\n",
      "BMW,530i 4dr,Sedan,Europe,Rear,44995.0,41170.0,3.0,6.0,225.0,20.0,30.0,3472.0,114.0,191.0\n",
      "BMW,545iA 4dr,Sedan,Europe,Rear,54995.0,50270.0,4.4,8.0,325.0,18.0,26.0,3814.0,114.0,191.0\n",
      "BMW,745i 4dr,Sedan,Europe,Rear,69195.0,63190.0,4.4,8.0,325.0,18.0,26.0,4376.0,118.0,198.0\n",
      "BMW,745Li 4dr,Sedan,Europe,Rear,73195.0,66830.0,4.4,8.0,325.0,18.0,26.0,4464.0,123.0,204.0\n",
      "BMW,M3 coupe 2dr,Sports,Europe,Rear,48195.0,44170.0,3.2,6.0,333.0,16.0,24.0,3415.0,108.0,177.0\n",
      "BMW,M3 convertible 2dr,Sports,Europe,Rear,56595.0,51815.0,3.2,6.0,333.0,16.0,23.0,3781.0,108.0,177.0\n",
      "\n",
      "\n",
      "\n"
     ]
    }
   ],
   "source": [
    "with open(csv_file_path, \"r\", newline=\"\") as file:\n",
    "    csv_reader = csv.reader(file)\n",
    "    text = \"\"\n",
    "\n",
    "    for row in csv_reader:\n",
    "        text += \",\".join(row) + \"\\n\"\n",
    "\n",
    "print(text)"
   ]
  },
  {
   "cell_type": "code",
   "execution_count": 10,
   "id": "52e1a902",
   "metadata": {},
   "outputs": [
    {
     "name": "stdout",
     "output_type": "stream",
     "text": [
      "This is a dataset containing information on various types of cars from different manufacturers. It includes columns for Manufacturer, Model, Type, Origin, DriveTrain, MSRP, Invoice, EngineSize, Cylinders, Horsepower, MPG_City, MPG_Highway, Weight, Wheelbase, and Length.\n"
     ]
    }
   ],
   "source": [
    "answer = azure_openai(\"Can you describe this dataset?\")\n",
    "\n",
    "print(answer)"
   ]
  },
  {
   "cell_type": "code",
   "execution_count": 11,
   "id": "767e9142",
   "metadata": {},
   "outputs": [
    {
     "name": "stdout",
     "output_type": "stream",
     "text": [
      "Dimensions: 13 columns, 27 rows\n"
     ]
    }
   ],
   "source": [
    "answer = azure_openai(\"What are the dimensions of this dataset?\")\n",
    "\n",
    "print(answer)"
   ]
  },
  {
   "cell_type": "code",
   "execution_count": 12,
   "id": "90ba3358",
   "metadata": {},
   "outputs": [
    {
     "name": "stdout",
     "output_type": "stream",
     "text": [
      "There are 33 models in this dataset.\n"
     ]
    }
   ],
   "source": [
    "answer = azure_openai(\"How many models do we have in this dataset?\")\n",
    "\n",
    "print(answer)"
   ]
  },
  {
   "cell_type": "code",
   "execution_count": 13,
   "id": "fa9e8975",
   "metadata": {},
   "outputs": [
    {
     "name": "stdout",
     "output_type": "stream",
     "text": [
      "The average horsepower of the above vehicles is roughly 228.8.\n"
     ]
    }
   ],
   "source": [
    "answer = azure_openai(\"What is average horsepower?\")\n",
    "\n",
    "print(answer)"
   ]
  },
  {
   "cell_type": "code",
   "execution_count": 14,
   "id": "05fc505d",
   "metadata": {},
   "outputs": [
    {
     "name": "stdout",
     "output_type": "stream",
     "text": [
      "The average horsepower for BMW is approximately 258.\n"
     ]
    }
   ],
   "source": [
    "answer = azure_openai(\"What is average horsepower for BMW?\")\n",
    "\n",
    "print(answer)"
   ]
  },
  {
   "cell_type": "code",
   "execution_count": 15,
   "id": "e61f2923",
   "metadata": {},
   "outputs": [
    {
     "name": "stdout",
     "output_type": "stream",
     "text": [
      "The average horsepower for Audi is 220.6\n"
     ]
    }
   ],
   "source": [
    "answer = azure_openai(\"What is average horsepower for Audi?\")\n",
    "\n",
    "print(answer)"
   ]
  },
  {
   "cell_type": "code",
   "execution_count": 16,
   "id": "d2ac072f",
   "metadata": {},
   "outputs": [
    {
     "name": "stdout",
     "output_type": "stream",
     "text": [
      "23.0\n"
     ]
    }
   ],
   "source": [
    "answer = azure_openai(\"What is lowest MPG_Highway?\")\n",
    "\n",
    "print(answer)"
   ]
  },
  {
   "cell_type": "code",
   "execution_count": 17,
   "id": "b25f9383",
   "metadata": {},
   "outputs": [
    {
     "name": "stdout",
     "output_type": "stream",
     "text": [
      "The car model that has the lowest MPG_Highway is the BMW X5 4.4i with 22 MPG_Highway.\n"
     ]
    }
   ],
   "source": [
    "answer = azure_openai(\"What is the car model that has the lowest MPG_Highway?\")\n",
    "\n",
    "print(answer)"
   ]
  },
  {
   "cell_type": "code",
   "execution_count": 18,
   "id": "55c50100",
   "metadata": {},
   "outputs": [
    {
     "name": "stdout",
     "output_type": "stream",
     "text": [
      "The Audi model with the greatest cylinders value is the S4 Avant Quattro, with 8 cylinders.\n"
     ]
    }
   ],
   "source": [
    "answer = azure_openai(\n",
    "    \"What is the car model from Audi that has the greatest cylinders value?\"\n",
    ")\n",
    "\n",
    "print(answer)"
   ]
  },
  {
   "cell_type": "code",
   "execution_count": 19,
   "id": "82a4fb1a",
   "metadata": {},
   "outputs": [
    {
     "name": "stdout",
     "output_type": "stream",
     "text": [
      "The Audi A4 1.8T 4dr has the lowest cylinders value of 4.\n"
     ]
    }
   ],
   "source": [
    "answer = azure_openai(\n",
    "    \"What is the car model from Audi that has the lowest cylinders value?\"\n",
    ")\n",
    "\n",
    "print(answer)"
   ]
  },
  {
   "cell_type": "code",
   "execution_count": 20,
   "id": "d68b63f5",
   "metadata": {},
   "outputs": [
    {
     "name": "stdout",
     "output_type": "stream",
     "text": [
      "Unique values of Type: Sedan, SUV, Sports, Wagon\n"
     ]
    }
   ],
   "source": [
    "answer = azure_openai(\"What are the unique values of Type?\")\n",
    "\n",
    "print(answer)"
   ]
  },
  {
   "cell_type": "code",
   "execution_count": 21,
   "id": "6e6edb10",
   "metadata": {},
   "outputs": [
    {
     "name": "stdout",
     "output_type": "stream",
     "text": [
      "The unique values of Origin are: Asia, Europe\n"
     ]
    }
   ],
   "source": [
    "answer = azure_openai(\"What are the unique values of Origin?\")\n",
    "\n",
    "print(answer)"
   ]
  },
  {
   "cell_type": "code",
   "execution_count": 22,
   "id": "d2fe643f",
   "metadata": {},
   "outputs": [
    {
     "name": "stdout",
     "output_type": "stream",
     "text": [
      "Acura RSX Type S 2dr has the lowest cylinders value with 4.\n"
     ]
    }
   ],
   "source": [
    "answer = azure_openai(\n",
    "    \"What is the car model from Asia that has the lowest cylinders value?\"\n",
    ")\n",
    "\n",
    "print(answer)"
   ]
  },
  {
   "cell_type": "code",
   "execution_count": 23,
   "id": "cb063f0a",
   "metadata": {},
   "outputs": [
    {
     "name": "stdout",
     "output_type": "stream",
     "text": [
      "The smallest car in terms of length is the Acura RSX Type S 2dr with a length of 172 inches.\n"
     ]
    }
   ],
   "source": [
    "answer = azure_openai(\"What is the smallest car in term of length?\")\n",
    "\n",
    "print(answer)"
   ]
  },
  {
   "cell_type": "code",
   "execution_count": 24,
   "id": "10ad65cc",
   "metadata": {},
   "outputs": [
    {
     "name": "stdout",
     "output_type": "stream",
     "text": [
      "BMW 745Li 4dr, 204.0\n"
     ]
    }
   ],
   "source": [
    "answer = azure_openai(\n",
    "    \"What is the biggest car in term of length? Print only the name and the length\"\n",
    ")\n",
    "\n",
    "print(answer)"
   ]
  },
  {
   "cell_type": "code",
   "execution_count": 25,
   "id": "052b5fb0",
   "metadata": {},
   "outputs": [
    {
     "name": "stdout",
     "output_type": "stream",
     "text": [
      "187.8\n"
     ]
    }
   ],
   "source": [
    "answer = azure_openai(\n",
    "    \"What is the average value in term of length? Print only the value\"\n",
    ")\n",
    "\n",
    "print(answer)"
   ]
  },
  {
   "cell_type": "code",
   "execution_count": 26,
   "id": "3a30790c",
   "metadata": {},
   "outputs": [
    {
     "name": "stdout",
     "output_type": "stream",
     "text": [
      "[{\n",
      "    \"Manufacturer\": \"Acura\",\n",
      "    \"Model\": \"MDX\",\n",
      "    \"Type\": \"SUV\",\n",
      "    \"Origin\": \"Asia\",\n",
      "    \"DriveTrain\": \"All\",\n",
      "    \"MSRP\": 36945.0,\n",
      "    \"Invoice\": 33337.0,\n",
      "    \"EngineSize\": 3.5,\n",
      "    \"Cylinders\": 6.0,\n",
      "    \"Horsepower\": 265.0,\n",
      "    \"MPG_City\": 17.0,\n",
      "    \"MPG_Highway\": 23.0,\n",
      "    \"Weight\": 4451.0,\n",
      "    \"Wheelbase\": 106.0,\n",
      "    \"Length\": 189.0\n",
      "},\n",
      "{\n",
      "    \"Manufacturer\": \"Acura\",\n",
      "    \"Model\": \"TL 4dr\",\n",
      "    \"Type\": \"Sedan\",\n",
      "    \"Origin\": \"Asia\",\n",
      "    \"DriveTrain\": \"Front\",\n",
      "    \"MSRP\": 33195.0,\n",
      "    \"Invoice\": 30299.0,\n",
      "    \"EngineSize\": 3.2,\n",
      "    \"Cylinders\": 6.0,\n",
      "    \"Horsepower\": 270.0,\n",
      "    \"MPG_City\": 20.0,\n",
      "    \"MPG_Highway\": 28.0,\n",
      "    \"Weight\": 3575.0,\n",
      "    \"Wheelbase\": 108.0,\n",
      "    \"Length\": 186.0\n",
      "},\n",
      "{\n",
      "    \"Manufacturer\": \"Acura\",\n",
      "    \"Model\": \"3.5 RL w/Navigation 4dr\",\n",
      "    \"Type\": \"Sedan\",\n",
      "    \"Origin\": \"Asia\",\n",
      "    \"DriveTrain\": \"Front\",\n",
      "    \"MSRP\": 46100.0,\n",
      "    \"Invoice\": 41100.0,\n",
      "    \"EngineSize\": 3.5,\n",
      "    \"Cylinders\": 6.0,\n",
      "    \"Horsepower\": 225.0,\n",
      "    \"MPG_City\": 18.0,\n",
      "    \"MPG_Highway\": 24.0,\n",
      "    \"Weight\": 3893.0,\n",
      "    \"Wheelbase\": 115.0,\n",
      "    \"Length\": 197.0\n",
      "},\n",
      "{\n",
      "    \"Manufacturer\": \"Acura\",\n",
      "    \"Model\": \"NSX coupe 2dr manual S\",\n",
      "    \"Type\": \"Sports\",\n",
      "    \"Origin\": \"Asia\",\n",
      "    \"DriveTrain\": \"Rear\",\n",
      "    \"MSRP\": 89765.0,\n",
      "    \"Invoice\": 79978.0,\n",
      "    \"EngineSize\": 3.2,\n",
      "    \"Cylinders\": 6.0,\n",
      "    \"Horsepower\": 290.0,\n",
      "    \"MPG_City\": 17.0,\n",
      "    \"MPG_Highway\": 24.0,\n",
      "    \"Weight\": 3153.0,\n",
      "    \"Wheelbase\": 100.0,\n",
      "    \"Length\": 174.0\n",
      "},\n",
      "{\n",
      "    \"Manufacturer\": \"Audi\",\n",
      "    \"Model\": \"A4 3.0 Quattro 4dr manual\",\n",
      "    \"Type\": \"Sedan\",\n",
      "    \"Origin\": \"Europe\",\n",
      "    \"DriveTrain\": \"All\",\n",
      "    \"MSRP\": 33430.0,\n",
      "    \"Invoice\": 30366.0,\n",
      "    \"EngineSize\": 3.0,\n",
      "    \"Cylinders\": 6.0,\n",
      "    \"Horsepower\": 220.0,\n",
      "    \"MPG_City\": 17.0,\n",
      "    \"MPG_Highway\": 26.0,\n",
      "    \"Weight\": 3583.0,\n",
      "    \"Wheelbase\": 104.0,\n"
     ]
    }
   ],
   "source": [
    "answer = azure_openai(\n",
    "    \"Display some cars that contain the term 'Quattro'. Just print the results into a json format\"\n",
    ")\n",
    "\n",
    "print(answer)"
   ]
  },
  {
   "cell_type": "code",
   "execution_count": 27,
   "id": "462fbb1e",
   "metadata": {},
   "outputs": [
    {
     "name": "stdout",
     "output_type": "stream",
     "text": [
      "[\n",
      "  {\n",
      "    \"Manufacturer\": \"Acura\",\n",
      "    \"Model\": \"MDX\",\n",
      "    \"Type\": \"SUV\",\n",
      "    \"Origin\": \"Asia\",\n",
      "    \"DriveTrain\": \"All\",\n",
      "    \"MSRP\": 36945.0,\n",
      "    \"Invoice\": 33337.0,\n",
      "    \"EngineSize\": 3.5,\n",
      "    \"Cylinders\": 6.0,\n",
      "    \"Horsepower\": 265.0,\n",
      "    \"MPG_City\": 17.0,\n",
      "    \"MPG_Highway\": 23.0,\n",
      "    \"Weight\": 4451.0,\n",
      "    \"Wheelbase\": 106.0,\n",
      "    \"Length\": 189.0\n",
      "  },\n",
      "  {\n",
      "    \"Manufacturer\": \"Audi\",\n",
      "    \"Model\": \"A4 3.0 Quattro 4dr manual\",\n",
      "    \"Type\": \"Sedan\",\n",
      "    \"Origin\": \"Europe\",\n",
      "    \"DriveTrain\": \"All\",\n",
      "    \"MSRP\": 33430.0,\n",
      "    \"Invoice\": 30366.0,\n",
      "    \"EngineSize\": 3.0,\n",
      "    \"Cylinders\": 6.0,\n",
      "    \"Horsepower\": 220.0,\n",
      "    \"MPG_City\": 17.0,\n",
      "    \"MPG_Highway\": 26.0,\n",
      "    \"Weight\": 3583.0,\n",
      "    \"Wheelbase\": 104.0,\n",
      "    \"Length\": 179.0\n",
      "  },\n",
      "  {\n",
      "    \"Manufacturer\": \"BMW\",\n",
      "    \"Model\": \"X3 3.0i\",\n",
      "    \"Type\": \"SUV\",\n",
      "    \"Origin\": \"Europe\",\n",
      "    \"DriveTrain\": \"All\",\n",
      "    \"MSRP\": 37000.0,\n",
      "    \"Invoice\": 33873.0,\n",
      "    \"EngineSize\": 3.0,\n",
      "    \"Cylinders\": 6.0,\n",
      "    \"Horsepower\": 225.0,\n",
      "    \"MPG_City\": 16.0,\n",
      "    \"MPG_Highway\": 23.0,\n",
      "    \"Weight\": 4023.0,\n",
      "    \"Wheelbase\": 110.0,\n",
      "    \"Length\": 180.0\n",
      "  }\n",
      "]\n"
     ]
    }
   ],
   "source": [
    "answer = azure_openai(\n",
    "    \"Find me 3 cars with Drive Train = All. Just print the results into a json format\"\n",
    ")\n",
    "\n",
    "print(answer)"
   ]
  },
  {
   "cell_type": "code",
   "execution_count": 28,
   "id": "1997d51f",
   "metadata": {},
   "outputs": [
    {
     "name": "stdout",
     "output_type": "stream",
     "text": [
      "<?xml version=\"1.0\" encoding=\"UTF-8\"?>\n",
      "<Cars>\n",
      "  <Car>\n",
      "    <Manufacturer>Acura</Manufacturer>\n",
      "    <Model>MDX</Model>\n",
      "    <Type>SUV</Type>\n",
      "    <Origin>Asia</Origin>\n",
      "    <DriveTrain>All</DriveTrain>\n",
      "    <MSRP>36945.0</MSRP>\n",
      "    <Invoice>33337.0</Invoice>\n",
      "    <EngineSize>3.5</EngineSize>\n",
      "    <Cylinders>6.0</Cylinders>\n",
      "    <Horsepower>265.0</Horsepower>\n",
      "    <MPG_City>17.0</MPG_City>\n",
      "    <MPG_Highway>23.0</MPG_Highway>\n",
      "    <Weight>4451.0</Weight>\n",
      "    <Wheelbase>106.0</Wheelbase>\n",
      "    <Length>189.0</Length>\n",
      "  </Car>\n",
      "  <Car>\n",
      "    <Manufacturer>BMW</Manufacturer>\n",
      "    <Model>X3 3.0i</Model>\n",
      "    <Type>SUV</Type>\n",
      "    <Origin>Europe</Origin>\n",
      "    <DriveTrain>All</DriveTrain>\n",
      "    <MSRP>37000.0</MSRP>\n",
      "    <Invoice>33873.0</Invoice>\n",
      "    <EngineSize>3.0</EngineSize>\n",
      "    <Cylinders>6.0</Cylinders>\n",
      "    <Horsepower>225.0</Horsepower>\n",
      "    <MPG_City>16.0</MPG_City>\n",
      "    <MPG_Highway>23.0</MPG_Highway>\n",
      "    <Weight>4023.0</Weight>\n",
      "    <Wheelbase>110.0</Wheelbase>\n",
      "    <Length>180.0</Length>\n",
      "  </Car>\n",
      "  <Car>\n",
      "    <Manufacturer>BMW</Manufacturer>\n",
      "    <Model>X5 4.4i</Model>\n",
      "    <Type>SUV</Type>\n",
      "    <Origin>Europe</Origin>\n",
      "    <DriveTrain>All</DriveTrain>\n",
      "    <MSRP>52195.0</MSRP>\n",
      "    <Invoice>47720.0</Invoice>\n",
      "    <EngineSize>4.4</EngineSize>\n",
      "    <Cylinders>8.0</Cylinders>\n",
      "    <Horsepower>325.0</Horsepower>\n",
      "    <MPG_City>16.0</MPG_City>\n",
      "    <MPG_Highway>22.0</MPG_Highway>\n",
      "    <Weight>4824.0</Weight>\n",
      "    <Wheelbase>111.0</Wheelbase>\n",
      "    <Length>184.0</Length>\n",
      "  </Car>\n",
      "</Cars>\n"
     ]
    }
   ],
   "source": [
    "answer = azure_openai(\n",
    "    \"Display only cars where type = 'SUV'. Just print the results into an XML format\"\n",
    ")\n",
    "\n",
    "print(answer)"
   ]
  },
  {
   "cell_type": "code",
   "execution_count": null,
   "id": "1b352fd4",
   "metadata": {},
   "outputs": [],
   "source": []
  }
 ],
 "metadata": {
  "kernelspec": {
   "display_name": "Python 3.10 - SDK v2",
   "language": "python",
   "name": "python310-sdkv2"
  },
  "language_info": {
   "codemirror_mode": {
    "name": "ipython",
    "version": 3
   },
   "file_extension": ".py",
   "mimetype": "text/x-python",
   "name": "python",
   "nbconvert_exporter": "python",
   "pygments_lexer": "ipython3",
   "version": "3.10.10"
  }
 },
 "nbformat": 4,
 "nbformat_minor": 5
}
