{
 "cells": [
  {
   "cell_type": "markdown",
   "id": "d8719518",
   "metadata": {},
   "source": [
    "# DALL·E 2 service with Azure Open AI"
   ]
  },
  {
   "cell_type": "markdown",
   "id": "e1f58200",
   "metadata": {},
   "source": [
    "The DALL·E service offers an asynchronous API that lets you submit requests to generate images. It also includes Responsible AI text filters to prevent inappropriate images from being generated."
   ]
  },
  {
   "cell_type": "code",
   "execution_count": 1,
   "id": "877a235b",
   "metadata": {},
   "outputs": [],
   "source": [
    "import gradio as gr\n",
    "import openai\n",
    "import os\n",
    "import requests\n",
    "import time\n",
    "\n",
    "from dotenv import load_dotenv\n",
    "from io import BytesIO\n",
    "from PIL import Image"
   ]
  },
  {
   "cell_type": "code",
   "execution_count": 2,
   "id": "350bd629",
   "metadata": {},
   "outputs": [],
   "source": [
    "def dalle2(prompt, size=1024):\n",
    "    \"\"\"\n",
    "    Generate an image from a prompt with Dall e 2\n",
    "    \"\"\"\n",
    "    # prompt\n",
    "    extra_prompt = \"full view, detailled, 8K\"\n",
    "    image_prompt = prompt + extra_prompt\n",
    "\n",
    "    # Get the endpoint and key for Azure Open AI\n",
    "    load_dotenv(\"azure.env\")\n",
    "    openai.api_base = os.getenv(\"azure_openai_endpoint\")\n",
    "    openai.api_key = os.getenv(\"azure_openai_key\")\n",
    "\n",
    "    api_version = \"2023-06-01-preview\"\n",
    "    url = (\n",
    "        f\"{openai.api_base}/openai/images/generations:submit?api-version={api_version}\"\n",
    "    )\n",
    "    headers = {\n",
    "        \"api-key\": openai.api_key,\n",
    "        \"Content-Type\": \"application/json\",\n",
    "    }\n",
    "\n",
    "    if size == 512:\n",
    "        imagesize = \"512x512\"\n",
    "    elif size == 1024:\n",
    "        imagesize = \"1024x1024\"\n",
    "    elif size == 256:\n",
    "        imagesize = \"256x256\"\n",
    "    else:\n",
    "        imagesize = \"1024x1024\"\n",
    "\n",
    "    body = {\"prompt\": image_prompt, \"size\": imagesize, \"n\": 1}\n",
    "\n",
    "    submission = requests.post(url, headers=headers, json=body)\n",
    "    operation_location = submission.headers[\"operation-location\"]\n",
    "    status = \"\"\n",
    "\n",
    "    while status != \"succeeded\":\n",
    "        time.sleep(1)\n",
    "        response = requests.get(operation_location, headers=headers)\n",
    "        status = response.json()[\"status\"]\n",
    "\n",
    "    # Get the first generated image\n",
    "    image_url = response.json()[\"result\"][\"data\"][0][\"url\"]\n",
    "    response = requests.get(image_url)\n",
    "    img = Image.open(BytesIO(response.content))\n",
    "\n",
    "    return img"
   ]
  },
  {
   "cell_type": "code",
   "execution_count": 3,
   "id": "ed2de6db",
   "metadata": {},
   "outputs": [
    {
     "name": "stdout",
     "output_type": "stream",
     "text": [
      "Running on local URL:  http://127.0.0.1:7860\n",
      "Running on public URL: https://dfef2ac1bdbd0895e5.gradio.live\n",
      "\n",
      "This share link expires in 72 hours. For free permanent hosting and GPU upgrades, run `gradio deploy` from Terminal to deploy to Spaces (https://huggingface.co/spaces)\n"
     ]
    },
    {
     "data": {
      "text/html": [
       "<div><iframe src=\"https://dfef2ac1bdbd0895e5.gradio.live\" width=\"100%\" height=\"500\" allow=\"autoplay; camera; microphone; clipboard-read; clipboard-write;\" frameborder=\"0\" allowfullscreen></iframe></div>"
      ],
      "text/plain": [
       "<IPython.core.display.HTML object>"
      ]
     },
     "metadata": {},
     "output_type": "display_data"
    },
    {
     "data": {
      "text/plain": []
     },
     "execution_count": 3,
     "metadata": {},
     "output_type": "execute_result"
    }
   ],
   "source": [
    "logo = \"https://github.com/retkowsky/images/blob/master/aoai.jpg?raw=true\"\n",
    "image = \"<center> <img src= {} width=240px></center>\".format(logo)\n",
    "title = \"Text to image with Azure OpenAI Dalle2\"\n",
    "\n",
    "samples = [\n",
    "    \"Two people walking in the street in the style of Basquiat\",\n",
    "    \"A lady hiding her eyes, polaroid style\",\n",
    "    \"A boy playing football, pixel style\",\n",
    "    \"Portrait of a lady with long hair, in the style of Andy Warhol\",\n",
    "    \"Portrait, ages 20-40\",\n",
    "    \"A rainbow over a snowy mountain\",\n",
    "    \"Distant view of some scratches on the door of a car\",\n",
    "    \"Pixar style 3D render of a baby hippo, 4k, trending in artstation\",\n",
    "    \"A satellite view of a lake and forests\",\n",
    "    \"A sailbot in the sea, watercolor\",\n",
    "]\n",
    "\n",
    "inputs = [gr.Textbox(label=\"Your prompt to generate the artificial image\")]\n",
    "outputs = [gr.Image(label=\"The generated image\", type=\"pil\")]\n",
    "\n",
    "\n",
    "# Webapp\n",
    "webapp = gr.Interface(\n",
    "    fn=dalle2,\n",
    "    inputs=inputs,\n",
    "    outputs=outputs,\n",
    "    description=image,\n",
    "    title=title,\n",
    "    examples=samples,\n",
    "    theme=\"gradio/monochrome\",  #  https://huggingface.co/spaces/gradio/theme-gallery\n",
    ")\n",
    "\n",
    "# Running the webapp\n",
    "webapp.launch(share=True)"
   ]
  },
  {
   "cell_type": "code",
   "execution_count": null,
   "id": "80697edd",
   "metadata": {},
   "outputs": [],
   "source": []
  }
 ],
 "metadata": {
  "kernelspec": {
   "display_name": "Python 3 (ipykernel)",
   "language": "python",
   "name": "python3"
  },
  "language_info": {
   "codemirror_mode": {
    "name": "ipython",
    "version": 3
   },
   "file_extension": ".py",
   "mimetype": "text/x-python",
   "name": "python",
   "nbconvert_exporter": "python",
   "pygments_lexer": "ipython3",
   "version": "3.8.5"
  }
 },
 "nbformat": 4,
 "nbformat_minor": 5
}
