{
 "cells": [
  {
   "cell_type": "markdown",
   "id": "8a157fb8",
   "metadata": {},
   "source": [
    "# Airport codes detection with Azure Open AI"
   ]
  },
  {
   "cell_type": "code",
   "execution_count": 1,
   "id": "e08cdbd6",
   "metadata": {},
   "outputs": [],
   "source": [
    "import datetime\n",
    "import os\n",
    "import openai\n",
    "import sys\n",
    "\n",
    "from dotenv import load_dotenv"
   ]
  },
  {
   "cell_type": "code",
   "execution_count": 2,
   "id": "55d27ebf",
   "metadata": {},
   "outputs": [
    {
     "name": "stdout",
     "output_type": "stream",
     "text": [
      "Open AI version: 0.28.1\n"
     ]
    }
   ],
   "source": [
    "load_dotenv(\"azure.env\")\n",
    "\n",
    "# Azure Open AI\n",
    "openai.api_type: str = \"azure\"\n",
    "openai.api_key = os.getenv(\"OPENAI_API_KEY\")\n",
    "openai.api_base = os.getenv(\"OPENAI_API_BASE\")\n",
    "openai.api_version = os.getenv(\"OPENAI_API_VERSION\")\n",
    "\n",
    "print(\"Open AI version:\", openai.__version__)"
   ]
  },
  {
   "cell_type": "code",
   "execution_count": 3,
   "id": "14be4f9e",
   "metadata": {},
   "outputs": [
    {
     "data": {
      "text/plain": [
       "'3.10.10 (main, Mar 21 2023, 18:45:11) [GCC 11.2.0]'"
      ]
     },
     "execution_count": 3,
     "metadata": {},
     "output_type": "execute_result"
    }
   ],
   "source": [
    "sys.version"
   ]
  },
  {
   "cell_type": "code",
   "execution_count": 4,
   "id": "77c69ef6",
   "metadata": {},
   "outputs": [
    {
     "name": "stdout",
     "output_type": "stream",
     "text": [
      "Today is 23-Oct-2023 09:24:52\n"
     ]
    }
   ],
   "source": [
    "print(f\"Today is {datetime.datetime.today().strftime('%d-%b-%Y %H:%M:%S')}\")"
   ]
  },
  {
   "cell_type": "markdown",
   "id": "87d3bd2b",
   "metadata": {},
   "source": [
    "## Function"
   ]
  },
  {
   "cell_type": "code",
   "execution_count": 5,
   "id": "ed7bc8a5",
   "metadata": {},
   "outputs": [],
   "source": [
    "def ask(query):\n",
    "    \"\"\"\n",
    "    Data generation with Azure Open AI\n",
    "    \"\"\"\n",
    "    prompt = (\n",
    "        \"\"\"\n",
    "    You are a traveller assistant.  You should print the airport codes.\n",
    "    Use this format to display the results: { \"departure\" : \"code1\", \"destination\" : \"code2\" }. Text is: \"\"\"\n",
    "        + query\n",
    "    )\n",
    "\n",
    "    response = openai.Completion.create(\n",
    "        engine=\"text-davinci-003\",\n",
    "        prompt=prompt,\n",
    "        max_tokens=4000,\n",
    "        temperature=0,\n",
    "    )\n",
    "\n",
    "    result = response[\"choices\"][0][\"text\"].replace(\"\\n\", \"\")\n",
    "\n",
    "    return result"
   ]
  },
  {
   "cell_type": "markdown",
   "id": "2741001c",
   "metadata": {},
   "source": [
    "## Testing"
   ]
  },
  {
   "cell_type": "code",
   "execution_count": 6,
   "id": "208b3fb3",
   "metadata": {},
   "outputs": [
    {
     "name": "stdout",
     "output_type": "stream",
     "text": [
      "{ \"departure\" : \"ORY\", \"destination\" : \"MIA\" }\n"
     ]
    }
   ],
   "source": [
    "prompt = \"Leaving Paris Orly to Miami\"\n",
    "print(ask(prompt))"
   ]
  },
  {
   "cell_type": "code",
   "execution_count": 7,
   "id": "50c08f6a",
   "metadata": {},
   "outputs": [
    {
     "name": "stdout",
     "output_type": "stream",
     "text": [
      "{ \"departure\" : \"BRU\", \"destination\" : \"YYZ\" }\n"
     ]
    }
   ],
   "source": [
    "prompt = \"Let's go to Toronto from Brussels\"\n",
    "print(ask(prompt))"
   ]
  },
  {
   "cell_type": "code",
   "execution_count": 11,
   "id": "908bf466",
   "metadata": {},
   "outputs": [
    {
     "name": "stdout",
     "output_type": "stream",
     "text": [
      "{ \"departure\" : \"JFK\", \"destination\" : \"LHR\" }\n"
     ]
    }
   ],
   "source": [
    "prompt = \"Leaving JFK for Heathrow\"\n",
    "print(ask(prompt))"
   ]
  },
  {
   "cell_type": "code",
   "execution_count": 9,
   "id": "8b4cd088",
   "metadata": {},
   "outputs": [
    {
     "name": "stdout",
     "output_type": "stream",
     "text": [
      "{ \"departure\" : \"TYO\", \"destination\" : \"FCO\" }\n"
     ]
    }
   ],
   "source": [
    "prompt = \"I want to go to Roma from Tokyo\"\n",
    "print(ask(prompt))"
   ]
  },
  {
   "cell_type": "code",
   "execution_count": 10,
   "id": "d7e63a43",
   "metadata": {},
   "outputs": [
    {
     "name": "stdout",
     "output_type": "stream",
     "text": [
      "{ \"departure\" : \"SYD\", \"destination\" : \"LAX\" }\n"
     ]
    }
   ],
   "source": [
    "prompt = \"I am leaving Sydney to go to Los Angeles\"\n",
    "print(ask(prompt))"
   ]
  },
  {
   "cell_type": "code",
   "execution_count": null,
   "id": "ea6b1be7",
   "metadata": {},
   "outputs": [],
   "source": []
  }
 ],
 "metadata": {
  "kernelspec": {
   "display_name": "Python 3.10 - SDK v2",
   "language": "python",
   "name": "python310-sdkv2"
  },
  "language_info": {
   "codemirror_mode": {
    "name": "ipython",
    "version": 3
   },
   "file_extension": ".py",
   "mimetype": "text/x-python",
   "name": "python",
   "nbconvert_exporter": "python",
   "pygments_lexer": "ipython3",
   "version": "3.10.10"
  }
 },
 "nbformat": 4,
 "nbformat_minor": 5
}
