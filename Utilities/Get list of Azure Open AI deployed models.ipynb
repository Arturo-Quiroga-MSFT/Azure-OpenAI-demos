{
 "cells": [
  {
   "cell_type": "markdown",
   "id": "bbeeb8bc",
   "metadata": {},
   "source": [
    "# Get list of Azure Open AI deployed models"
   ]
  },
  {
   "cell_type": "code",
   "execution_count": 1,
   "id": "eeefd124",
   "metadata": {},
   "outputs": [],
   "source": [
    "import json\n",
    "import os\n",
    "import openai\n",
    "import requests\n",
    "\n",
    "from dotenv import load_dotenv"
   ]
  },
  {
   "cell_type": "code",
   "execution_count": 2,
   "id": "023347ac",
   "metadata": {},
   "outputs": [
    {
     "name": "stdout",
     "output_type": "stream",
     "text": [
      "Open AI version: 0.28.0\n"
     ]
    }
   ],
   "source": [
    "print('Open AI version:', openai.__version__)"
   ]
  },
  {
   "cell_type": "code",
   "execution_count": 3,
   "id": "1eb66c65",
   "metadata": {},
   "outputs": [],
   "source": [
    "load_dotenv(\"azure.env\")\n",
    "\n",
    "openai.api_key = os.getenv(\"OPENAI_API_KEY\")\n",
    "openai.api_base = os.getenv(\"OPENAI_API_BASE\")\n",
    "openai.api_type = \"azure\""
   ]
  },
  {
   "cell_type": "code",
   "execution_count": 4,
   "id": "bc5fbd51",
   "metadata": {},
   "outputs": [
    {
     "name": "stdout",
     "output_type": "stream",
     "text": [
      "{\n",
      "  \"data\": [\n",
      "    {\n",
      "      \"scale_settings\": {\n",
      "        \"scale_type\": \"standard\"\n",
      "      },\n",
      "      \"model\": \"text-davinci-003\",\n",
      "      \"owner\": \"organization-owner\",\n",
      "      \"id\": \"text-davinci-003\",\n",
      "      \"status\": \"succeeded\",\n",
      "      \"created_at\": 1686571176,\n",
      "      \"updated_at\": 1686571176,\n",
      "      \"object\": \"deployment\"\n",
      "    },\n",
      "    {\n",
      "      \"scale_settings\": {\n",
      "        \"scale_type\": \"standard\"\n",
      "      },\n",
      "      \"model\": \"gpt-35-turbo\",\n",
      "      \"owner\": \"organization-owner\",\n",
      "      \"id\": \"gpt-35-turbo\",\n",
      "      \"status\": \"succeeded\",\n",
      "      \"created_at\": 1686571933,\n",
      "      \"updated_at\": 1686571933,\n",
      "      \"object\": \"deployment\"\n",
      "    },\n",
      "    {\n",
      "      \"scale_settings\": {\n",
      "        \"scale_type\": \"standard\"\n",
      "      },\n",
      "      \"model\": \"text-embedding-ada-002\",\n",
      "      \"owner\": \"organization-owner\",\n",
      "      \"id\": \"text-embedding-ada-002\",\n",
      "      \"status\": \"succeeded\",\n",
      "      \"created_at\": 1688721003,\n",
      "      \"updated_at\": 1688721003,\n",
      "      \"object\": \"deployment\"\n",
      "    },\n",
      "    {\n",
      "      \"scale_settings\": {\n",
      "        \"scale_type\": \"standard\"\n",
      "      },\n",
      "      \"model\": \"gpt-35-turbo\",\n",
      "      \"owner\": \"organization-owner\",\n",
      "      \"id\": \"gpt-35-turbo-0613\",\n",
      "      \"status\": \"succeeded\",\n",
      "      \"created_at\": 1689948759,\n",
      "      \"updated_at\": 1689948759,\n",
      "      \"object\": \"deployment\"\n",
      "    },\n",
      "    {\n",
      "      \"scale_settings\": {\n",
      "        \"scale_type\": \"standard\"\n",
      "      },\n",
      "      \"model\": \"text-similarity-curie-001\",\n",
      "      \"owner\": \"organization-owner\",\n",
      "      \"id\": \"text-similarity-curie-001\",\n",
      "      \"status\": \"succeeded\",\n",
      "      \"created_at\": 1692776971,\n",
      "      \"updated_at\": 1692776971,\n",
      "      \"object\": \"deployment\"\n",
      "    },\n",
      "    {\n",
      "      \"scale_settings\": {\n",
      "        \"scale_type\": \"standard\"\n",
      "      },\n",
      "      \"model\": \"gpt-35-turbo-16k\",\n",
      "      \"owner\": \"organization-owner\",\n",
      "      \"id\": \"gpt-35-turbo-16k\",\n",
      "      \"status\": \"succeeded\",\n",
      "      \"created_at\": 1693818361,\n",
      "      \"updated_at\": 1693818361,\n",
      "      \"object\": \"deployment\"\n",
      "    }\n",
      "  ],\n",
      "  \"object\": \"list\"\n",
      "}\n"
     ]
    }
   ],
   "source": [
    "url = openai.api_base + \"/openai/deployments?api-version=2022-12-01\" \n",
    "response = requests.get(url, headers={\"api-key\": openai.api_key})\n",
    "    \n",
    "if response.status_code == 200:\n",
    "    print(response.text)\n",
    "else:\n",
    "    print(f\"Failed to retrieve data. Status code: {response.status_code}\")"
   ]
  },
  {
   "cell_type": "code",
   "execution_count": 5,
   "id": "d475f9f1",
   "metadata": {},
   "outputs": [
    {
     "name": "stdout",
     "output_type": "stream",
     "text": [
      "text-davinci-003\n",
      "gpt-35-turbo\n",
      "text-embedding-ada-002\n",
      "gpt-35-turbo-0613\n",
      "text-similarity-curie-001\n",
      "gpt-35-turbo-16k\n"
     ]
    }
   ],
   "source": [
    "data = json.loads(response.text)\n",
    "\n",
    "models = [item[\"id\"] for item in data[\"data\"]]\n",
    "for model in models:\n",
    "    print(model)"
   ]
  },
  {
   "cell_type": "code",
   "execution_count": 6,
   "id": "2da8380e",
   "metadata": {},
   "outputs": [
    {
     "name": "stdout",
     "output_type": "stream",
     "text": [
      "text-davinci-003\n",
      "gpt-35-turbo\n",
      "text-embedding-ada-002\n",
      "gpt-35-turbo\n",
      "text-similarity-curie-001\n",
      "gpt-35-turbo-16k\n"
     ]
    }
   ],
   "source": [
    "models = [item[\"model\"] for item in data[\"data\"]]\n",
    "for model in models:\n",
    "    print(model)"
   ]
  },
  {
   "cell_type": "code",
   "execution_count": null,
   "id": "df3ae099",
   "metadata": {},
   "outputs": [],
   "source": []
  }
 ],
 "metadata": {
  "kernelspec": {
   "display_name": "Python 3.10 - SDK v2",
   "language": "python",
   "name": "python310-sdkv2"
  },
  "language_info": {
   "codemirror_mode": {
    "name": "ipython",
    "version": 3
   },
   "file_extension": ".py",
   "mimetype": "text/x-python",
   "name": "python",
   "nbconvert_exporter": "python",
   "pygments_lexer": "ipython3",
   "version": "3.10.10"
  }
 },
 "nbformat": 4,
 "nbformat_minor": 5
}
