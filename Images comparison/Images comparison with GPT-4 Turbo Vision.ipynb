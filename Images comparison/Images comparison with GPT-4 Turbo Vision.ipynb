{
 "cells": [
  {
   "cell_type": "markdown",
   "id": "816bdc6f",
   "metadata": {},
   "source": [
    "# Images comparison with GPT-4 Turbo Vision"
   ]
  },
  {
   "cell_type": "markdown",
   "id": "99169a7c",
   "metadata": {},
   "source": [
    "**GPT-4 Turbo with Vision** is a large multimodal model (LMM) developed by OpenAI that can analyze images and provide textual responses to questions about them. It incorporates both natural language processing and visual understanding. This guide provides details on the capabilities and limitations of GPT-4 Turbo with Vision.\n",
    "\n",
    "GPT-4 Turbo with Vision on Azure OpenAI service is now in public preview. GPT-4 Turbo with Vision is a large multimodal model (LMM) developed by OpenAI that can analyze images and provide textual responses to questions about them. It incorporates both natural language processing and visual understanding. With enhanced mode, you can use the Azure AI Vision features to generate additional insights from the images."
   ]
  },
  {
   "cell_type": "markdown",
   "id": "476e5b8c",
   "metadata": {},
   "source": [
    "> https://learn.microsoft.com/en-us/azure/ai-services/openai/whats-new#gpt-4-turbo-with-vision-now-available"
   ]
  },
  {
   "cell_type": "code",
   "execution_count": 1,
   "id": "c3a4ff9c",
   "metadata": {},
   "outputs": [],
   "source": [
    "import datetime\n",
    "import openai\n",
    "import os\n",
    "import sys\n",
    "import time\n",
    "\n",
    "from dotenv import load_dotenv\n",
    "from IPython.display import Image, HTML\n",
    "from openai import AzureOpenAI"
   ]
  },
  {
   "cell_type": "code",
   "execution_count": 2,
   "id": "3f612244",
   "metadata": {},
   "outputs": [
    {
     "name": "stdout",
     "output_type": "stream",
     "text": [
      "Installed OpenAI version: 1.12.0\n",
      "[OK] OpenAI version 1.12.0 is >= 1.0.0\n"
     ]
    }
   ],
   "source": [
    "def check_openai_version():\n",
    "    \"\"\"\n",
    "    Check Azure Open AI version\n",
    "    \"\"\"\n",
    "    installed_version = openai.__version__\n",
    "\n",
    "    try:\n",
    "        version_number = float(installed_version[:3])\n",
    "    except ValueError:\n",
    "        print(\"Invalid OpenAI version format\")\n",
    "        return\n",
    "\n",
    "    print(f\"Installed OpenAI version: {installed_version}\")\n",
    "\n",
    "    if version_number < 1.0:\n",
    "        print(\"[Warning] You should upgrade OpenAI to have version >= 1.0.0\")\n",
    "        print(\"To upgrade, run: %pip install openai --upgrade\")\n",
    "    else:\n",
    "        print(f\"[OK] OpenAI version {installed_version} is >= 1.0.0\")\n",
    "\n",
    "\n",
    "check_openai_version()"
   ]
  },
  {
   "cell_type": "code",
   "execution_count": 3,
   "id": "d483fc52",
   "metadata": {},
   "outputs": [
    {
     "data": {
      "text/plain": [
       "'3.10.11 (main, May 16 2023, 00:28:57) [GCC 11.2.0]'"
      ]
     },
     "execution_count": 3,
     "metadata": {},
     "output_type": "execute_result"
    }
   ],
   "source": [
    "sys.version"
   ]
  },
  {
   "cell_type": "code",
   "execution_count": 4,
   "id": "cb9b9606",
   "metadata": {},
   "outputs": [
    {
     "name": "stdout",
     "output_type": "stream",
     "text": [
      "Today is 05-Mar-2024 11:35:14\n"
     ]
    }
   ],
   "source": [
    "print(f\"Today is {datetime.datetime.today().strftime('%d-%b-%Y %H:%M:%S')}\")"
   ]
  },
  {
   "cell_type": "code",
   "execution_count": 5,
   "id": "b13e24b7",
   "metadata": {},
   "outputs": [
    {
     "name": "stdout",
     "output_type": "stream",
     "text": [
      "Python version: 3.10.11 (main, May 16 2023, 00:28:57) [GCC 11.2.0]\n"
     ]
    }
   ],
   "source": [
    "print(f\"Python version: {sys.version}\")"
   ]
  },
  {
   "cell_type": "markdown",
   "id": "9742a495",
   "metadata": {},
   "source": [
    "## 1. Azure Open AI"
   ]
  },
  {
   "cell_type": "code",
   "execution_count": 6,
   "id": "0c13e784",
   "metadata": {},
   "outputs": [
    {
     "name": "stdout",
     "output_type": "stream",
     "text": [
      "OpenAI version: 1.12.0\n"
     ]
    }
   ],
   "source": [
    "print(f\"OpenAI version: {openai.__version__}\")"
   ]
  },
  {
   "cell_type": "code",
   "execution_count": 7,
   "id": "f89590d6",
   "metadata": {},
   "outputs": [],
   "source": [
    "load_dotenv(\"azure.env\")\n",
    "\n",
    "# Azure Open AI\n",
    "openai.api_type: str = \"azure\"\n",
    "openai.api_key = os.getenv(\"OPENAI_API_KEY\")\n",
    "openai.api_base = os.getenv(\"OPENAI_API_BASE\")\n",
    "openai.api_version = os.getenv(\"OPENAI_API_VERSION\")"
   ]
  },
  {
   "cell_type": "code",
   "execution_count": 8,
   "id": "2e09c7f0",
   "metadata": {},
   "outputs": [],
   "source": [
    "model = \"gpt-4TurboVision\""
   ]
  },
  {
   "cell_type": "code",
   "execution_count": 9,
   "id": "ec297f02",
   "metadata": {},
   "outputs": [],
   "source": [
    "endpoint = f\"{openai.api_base}/openai/deployments/{model}/chat/completions?api-version=2023-12-01-preview\""
   ]
  },
  {
   "cell_type": "code",
   "execution_count": 10,
   "id": "ac6d4ab4",
   "metadata": {},
   "outputs": [],
   "source": [
    "client = AzureOpenAI(\n",
    "    api_key=openai.api_key,\n",
    "    api_version=openai.api_version,\n",
    "    base_url=endpoint,\n",
    ")"
   ]
  },
  {
   "cell_type": "markdown",
   "id": "14cd12e0",
   "metadata": {},
   "source": [
    "##  2. Single image analysis"
   ]
  },
  {
   "cell_type": "code",
   "execution_count": 11,
   "id": "27b6fca3",
   "metadata": {},
   "outputs": [],
   "source": [
    "def ask_image(prompt, img_url, imgview=True):\n",
    "    \"\"\"\n",
    "    Ask image with Gpt-4 Turbo Vision\n",
    "    \"\"\"\n",
    "    print(prompt)\n",
    "    print()\n",
    "\n",
    "    start = time.time()\n",
    "    \n",
    "    if imgview:\n",
    "        # Viewing images\n",
    "        print(f\"Image : {img_url}\")\n",
    "        display(\n",
    "            HTML(\n",
    "                \"<table><tr><td><img src={0}></td><td>\".format(\n",
    "                    img_url\n",
    "                )\n",
    "            )\n",
    "        )\n",
    "\n",
    "    # Calling Azure OpenAI model\n",
    "    response = client.chat.completions.create(\n",
    "        model=model,\n",
    "        messages=[\n",
    "            {\n",
    "                \"role\": \"user\",\n",
    "                \"content\": [\n",
    "                    {\"type\": \"text\", \"text\": prompt},\n",
    "                    {\n",
    "                        \"type\": \"image_url\",\n",
    "                        \"image_url\": {\"url\": img_url},\n",
    "                    },\n",
    "                ],\n",
    "            }\n",
    "        ],\n",
    "        max_tokens=2000,\n",
    "        temperature=0,\n",
    "    )\n",
    "\n",
    "    # Print results\n",
    "    print()\n",
    "    print(\"Azure OpenAI GPT-4 Turbo with Vision results:\")\n",
    "    print(\"\\033[1;31;34m\")\n",
    "    print(response.choices[0].message.content)\n",
    "\n",
    "    print(\"\\033[1;31;32m\")\n",
    "    print(\"[Note] These results are produced by an AI.\")\n",
    "    print(\n",
    "        datetime.datetime.today().strftime(\"%d-%b-%Y %H:%M:%S\"),\n",
    "        \"Powered by Azure OpenAI GPT-4 Turbo with vision model\",\n",
    "    )\n",
    "    print(\"\\033[0m\")\n",
    "    \n",
    "    elapsed = time.time() - start\n",
    "    print(f\"Time elapsed in seconds = {round(elapsed, 5)}\")"
   ]
  },
  {
   "cell_type": "code",
   "execution_count": 12,
   "id": "22fa2b49",
   "metadata": {},
   "outputs": [],
   "source": [
    "url = \"https://github.com/retkowsky/Azure-OpenAI-demos/blob/main/images/Paris%20(1).png?raw=true\""
   ]
  },
  {
   "cell_type": "code",
   "execution_count": 13,
   "id": "be99c53e",
   "metadata": {},
   "outputs": [
    {
     "name": "stdout",
     "output_type": "stream",
     "text": [
      "Describe this\n",
      "\n",
      "Image : https://github.com/retkowsky/Azure-OpenAI-demos/blob/main/images/Paris%20(1).png?raw=true\n"
     ]
    },
    {
     "data": {
      "text/html": [
       "<table><tr><td><img src=https://github.com/retkowsky/Azure-OpenAI-demos/blob/main/images/Paris%20(1).png?raw=true></td><td>"
      ],
      "text/plain": [
       "<IPython.core.display.HTML object>"
      ]
     },
     "metadata": {},
     "output_type": "display_data"
    },
    {
     "name": "stdout",
     "output_type": "stream",
     "text": [
      "\n",
      "Azure OpenAI GPT-4 Turbo with Vision results:\n",
      "\u001b[1;31;34m\n",
      "The Eiffel Tower is a wrought-iron lattice tower on the Champ de Mars in Paris, France. It is named after the engineer Gustave Eiffel, whose company designed and built the tower.\n",
      "\u001b[1;31;32m\n",
      "[Note] These results are produced by an AI.\n",
      "05-Mar-2024 11:35:20 Powered by Azure OpenAI GPT-4 Turbo with vision model\n",
      "\u001b[0m\n",
      "Time elapsed in seconds = 2.7892\n"
     ]
    }
   ],
   "source": [
    "prompt = \"Describe this\"\n",
    "\n",
    "ask_image(prompt, url)"
   ]
  },
  {
   "cell_type": "code",
   "execution_count": 14,
   "id": "0e40e82a",
   "metadata": {},
   "outputs": [
    {
     "name": "stdout",
     "output_type": "stream",
     "text": [
      "Is it London, Paris, Lisbon, Madrid?\n",
      "\n",
      "Image : https://github.com/retkowsky/Azure-OpenAI-demos/blob/main/images/Paris%20(1).png?raw=true\n"
     ]
    },
    {
     "data": {
      "text/html": [
       "<table><tr><td><img src=https://github.com/retkowsky/Azure-OpenAI-demos/blob/main/images/Paris%20(1).png?raw=true></td><td>"
      ],
      "text/plain": [
       "<IPython.core.display.HTML object>"
      ]
     },
     "metadata": {},
     "output_type": "display_data"
    },
    {
     "name": "stdout",
     "output_type": "stream",
     "text": [
      "\n",
      "Azure OpenAI GPT-4 Turbo with Vision results:\n",
      "\u001b[1;31;34m\n",
      "Paris\n",
      "\u001b[1;31;32m\n",
      "[Note] These results are produced by an AI.\n",
      "05-Mar-2024 11:35:22 Powered by Azure OpenAI GPT-4 Turbo with vision model\n",
      "\u001b[0m\n",
      "Time elapsed in seconds = 1.53684\n"
     ]
    }
   ],
   "source": [
    "prompt = \"Is it London, Paris, Lisbon, Madrid?\"\n",
    "\n",
    "ask_image(prompt, url)"
   ]
  },
  {
   "cell_type": "code",
   "execution_count": 15,
   "id": "81916b75",
   "metadata": {},
   "outputs": [
    {
     "name": "stdout",
     "output_type": "stream",
     "text": [
      "Generate a twitter post for this landmark with emojis and hashtags\n",
      "\n",
      "Image : https://github.com/retkowsky/Azure-OpenAI-demos/blob/main/images/Paris%20(1).png?raw=true\n"
     ]
    },
    {
     "data": {
      "text/html": [
       "<table><tr><td><img src=https://github.com/retkowsky/Azure-OpenAI-demos/blob/main/images/Paris%20(1).png?raw=true></td><td>"
      ],
      "text/plain": [
       "<IPython.core.display.HTML object>"
      ]
     },
     "metadata": {},
     "output_type": "display_data"
    },
    {
     "name": "stdout",
     "output_type": "stream",
     "text": [
      "\n",
      "Azure OpenAI GPT-4 Turbo with Vision results:\n",
      "\u001b[1;31;34m\n",
      "Bonjour from the City of Love! 🇫🇷💕 The Eiffel Tower never fails to take my breath away. 😍🗼 #Paris #EiffelTower #TravelGoals #France\n",
      "\u001b[1;31;32m\n",
      "[Note] These results are produced by an AI.\n",
      "05-Mar-2024 11:35:30 Powered by Azure OpenAI GPT-4 Turbo with vision model\n",
      "\u001b[0m\n",
      "Time elapsed in seconds = 3.81095\n"
     ]
    }
   ],
   "source": [
    "prompt = \"Generate a twitter post for this landmark with emojis and hashtags\"\n",
    "\n",
    "ask_image(prompt, url)"
   ]
  },
  {
   "cell_type": "code",
   "execution_count": 16,
   "id": "ac7a1514",
   "metadata": {},
   "outputs": [],
   "source": [
    "url1 = \"https://github.com/retkowsky/Azure-OpenAI-demos/blob/main/images/r5.jpg?raw=true\"\n",
    "url2 = \"https://github.com/retkowsky/Azure-OpenAI-demos/blob/main/images/r52.jpg?raw=true\""
   ]
  },
  {
   "cell_type": "code",
   "execution_count": 17,
   "id": "4bb3a3bc",
   "metadata": {},
   "outputs": [
    {
     "name": "stdout",
     "output_type": "stream",
     "text": [
      "What is this car model?\n",
      "\n",
      "Image : https://github.com/retkowsky/Azure-OpenAI-demos/blob/main/images/r5.jpg?raw=true\n"
     ]
    },
    {
     "data": {
      "text/html": [
       "<table><tr><td><img src=https://github.com/retkowsky/Azure-OpenAI-demos/blob/main/images/r5.jpg?raw=true></td><td>"
      ],
      "text/plain": [
       "<IPython.core.display.HTML object>"
      ]
     },
     "metadata": {},
     "output_type": "display_data"
    },
    {
     "name": "stdout",
     "output_type": "stream",
     "text": [
      "\n",
      "Azure OpenAI GPT-4 Turbo with Vision results:\n",
      "\u001b[1;31;34m\n",
      "Renault R5\n",
      "\u001b[1;31;32m\n",
      "[Note] These results are produced by an AI.\n",
      "05-Mar-2024 11:35:35 Powered by Azure OpenAI GPT-4 Turbo with vision model\n",
      "\u001b[0m\n",
      "Time elapsed in seconds = 2.223\n"
     ]
    }
   ],
   "source": [
    "prompt = \"What is this car model?\"\n",
    "\n",
    "ask_image(prompt, url1)"
   ]
  },
  {
   "cell_type": "code",
   "execution_count": 18,
   "id": "47fcff0e",
   "metadata": {},
   "outputs": [
    {
     "name": "stdout",
     "output_type": "stream",
     "text": [
      "Describe this\n",
      "\n",
      "Image : https://github.com/retkowsky/Azure-OpenAI-demos/blob/main/images/r52.jpg?raw=true\n"
     ]
    },
    {
     "data": {
      "text/html": [
       "<table><tr><td><img src=https://github.com/retkowsky/Azure-OpenAI-demos/blob/main/images/r52.jpg?raw=true></td><td>"
      ],
      "text/plain": [
       "<IPython.core.display.HTML object>"
      ]
     },
     "metadata": {},
     "output_type": "display_data"
    },
    {
     "name": "stdout",
     "output_type": "stream",
     "text": [
      "\n",
      "Azure OpenAI GPT-4 Turbo with Vision results:\n",
      "\u001b[1;31;34m\n",
      "This is an electric car being charged.\n",
      "\u001b[1;31;32m\n",
      "[Note] These results are produced by an AI.\n",
      "05-Mar-2024 11:35:42 Powered by Azure OpenAI GPT-4 Turbo with vision model\n",
      "\u001b[0m\n",
      "Time elapsed in seconds = 3.0744\n"
     ]
    }
   ],
   "source": [
    "prompt = \"Describe this\"\n",
    "\n",
    "ask_image(prompt, url2)"
   ]
  },
  {
   "cell_type": "code",
   "execution_count": 19,
   "id": "55cae829",
   "metadata": {},
   "outputs": [],
   "source": [
    "url1 = \"https://github.com/retkowsky/Azure-OpenAI-demos/blob/main/images/fridge.jpg?raw=true\""
   ]
  },
  {
   "cell_type": "code",
   "execution_count": 20,
   "id": "2712b95e",
   "metadata": {},
   "outputs": [
    {
     "name": "stdout",
     "output_type": "stream",
     "text": [
      "Describe this\n",
      "\n",
      "Image : https://github.com/retkowsky/Azure-OpenAI-demos/blob/main/images/fridge.jpg?raw=true\n"
     ]
    },
    {
     "data": {
      "text/html": [
       "<table><tr><td><img src=https://github.com/retkowsky/Azure-OpenAI-demos/blob/main/images/fridge.jpg?raw=true></td><td>"
      ],
      "text/plain": [
       "<IPython.core.display.HTML object>"
      ]
     },
     "metadata": {},
     "output_type": "display_data"
    },
    {
     "name": "stdout",
     "output_type": "stream",
     "text": [
      "\n",
      "Azure OpenAI GPT-4 Turbo with Vision results:\n",
      "\u001b[1;31;34m\n",
      "This is a picture of a refrigerator filled with fresh produce and other food items. The top shelf has containers of pre-made salads, pickled vegetables, and a jar of olives. The second shelf has a carton of eggs, a pitcher of water, a bottle of juice, and a container of strawberries. There is also a bunch of fresh herbs in a glass of water. The third shelf has a basket of cherry tomatoes, a whole chicken, and a container of blueberries. The bottom shelf has a variety of fruits including apples, pears, and oranges. The drawers are filled with fresh vegetables such as bell peppers, cauliflower, and kale. There is also a bottle of salad dressing on the door shelf. The refrigerator is well-organized and stocked with healthy food options.\n",
      "\u001b[1;31;32m\n",
      "[Note] These results are produced by an AI.\n",
      "05-Mar-2024 11:35:50 Powered by Azure OpenAI GPT-4 Turbo with vision model\n",
      "\u001b[0m\n",
      "Time elapsed in seconds = 5.66564\n"
     ]
    }
   ],
   "source": [
    "prompt = \"Describe this\"\n",
    "\n",
    "ask_image(prompt, url1)"
   ]
  },
  {
   "cell_type": "code",
   "execution_count": 21,
   "id": "815a7634",
   "metadata": {},
   "outputs": [
    {
     "name": "stdout",
     "output_type": "stream",
     "text": [
      "Propose me a meal based on the contents of my fridge\n",
      "\n",
      "Image : https://github.com/retkowsky/Azure-OpenAI-demos/blob/main/images/fridge.jpg?raw=true\n"
     ]
    },
    {
     "data": {
      "text/html": [
       "<table><tr><td><img src=https://github.com/retkowsky/Azure-OpenAI-demos/blob/main/images/fridge.jpg?raw=true></td><td>"
      ],
      "text/plain": [
       "<IPython.core.display.HTML object>"
      ]
     },
     "metadata": {},
     "output_type": "display_data"
    },
    {
     "name": "stdout",
     "output_type": "stream",
     "text": [
      "\n",
      "Azure OpenAI GPT-4 Turbo with Vision results:\n",
      "\u001b[1;31;34m\n",
      "How about a roasted chicken with a side of roasted vegetables? You have a whole chicken and a variety of vegetables like bell peppers, cauliflower, and kale that would roast up nicely. You could also make a fresh salad with the lettuce and tomatoes, and use the lemons and limes for a homemade dressing. For dessert, you have plenty of fruit options like apples, pears, and berries.\n",
      "\u001b[1;31;32m\n",
      "[Note] These results are produced by an AI.\n",
      "05-Mar-2024 11:35:55 Powered by Azure OpenAI GPT-4 Turbo with vision model\n",
      "\u001b[0m\n",
      "Time elapsed in seconds = 3.70146\n"
     ]
    }
   ],
   "source": [
    "prompt = \"Propose me a meal based on the contents of my fridge\"\n",
    "\n",
    "ask_image(prompt, url1)"
   ]
  },
  {
   "cell_type": "code",
   "execution_count": 22,
   "id": "048e11f4",
   "metadata": {},
   "outputs": [],
   "source": [
    "url1 = \"https://github.com/retkowsky/Azure-OpenAI-demos/blob/main/images/openai-monitor-log.png?raw=true\""
   ]
  },
  {
   "cell_type": "code",
   "execution_count": 23,
   "id": "affc1945",
   "metadata": {},
   "outputs": [
    {
     "name": "stdout",
     "output_type": "stream",
     "text": [
      "Explain this architecture\n",
      "\n",
      "Image : https://github.com/retkowsky/Azure-OpenAI-demos/blob/main/images/openai-monitor-log.png?raw=true\n"
     ]
    },
    {
     "data": {
      "text/html": [
       "<table><tr><td><img src=https://github.com/retkowsky/Azure-OpenAI-demos/blob/main/images/openai-monitor-log.png?raw=true></td><td>"
      ],
      "text/plain": [
       "<IPython.core.display.HTML object>"
      ]
     },
     "metadata": {},
     "output_type": "display_data"
    },
    {
     "name": "stdout",
     "output_type": "stream",
     "text": [
      "\n",
      "Azure OpenAI GPT-4 Turbo with Vision results:\n",
      "\u001b[1;31;34m\n",
      "This architecture represents a secure and scalable API management solution using Microsoft Azure services. The architecture is divided into two subscriptions: Corporate and Application.\n",
      "\n",
      "1. The user accesses the system through an Application Gateway, which acts as a load balancer and provides a secure entry point to the application.\n",
      "\n",
      "2. The Application Gateway is connected to a subnet within a Virtual Network in the Corporate subscription. This Virtual Network is peered with another Virtual Network in the Application subscription, allowing secure communication between the two.\n",
      "\n",
      "3. Within the Application subscription's Virtual Network, there is an API Management service that handles the API requests and responses. This service is also connected to a subnet.\n",
      "\n",
      "4. The API Management service interacts with Azure OpenAI Service instances through Private Links, which provide secure and private connectivity without exposing the services to the public internet. These instances are used for AI and machine learning capabilities.\n",
      "\n",
      "5. The architecture also includes Azure Active Directory for identity and access management, as well as Monitor, Key Vaults, and Storage services for monitoring, secure storage of secrets, and data storage, respectively.\n",
      "\n",
      "Overall, this architecture ensures secure and efficient management of APIs with the integration of AI services, while maintaining a clear separation of concerns between the corporate and application environments.\n",
      "\u001b[1;31;32m\n",
      "[Note] These results are produced by an AI.\n",
      "05-Mar-2024 11:36:07 Powered by Azure OpenAI GPT-4 Turbo with vision model\n",
      "\u001b[0m\n",
      "Time elapsed in seconds = 8.52381\n"
     ]
    }
   ],
   "source": [
    "prompt = \"Explain this architecture\"\n",
    "\n",
    "ask_image(prompt, url1)"
   ]
  },
  {
   "cell_type": "markdown",
   "id": "78363d81",
   "metadata": {},
   "source": [
    "## 3. Images comparison"
   ]
  },
  {
   "cell_type": "code",
   "execution_count": 24,
   "id": "545934dc",
   "metadata": {},
   "outputs": [],
   "source": [
    "def images_comparison(prompt, img_url1, img_url2, imgview=True):\n",
    "    \"\"\"\n",
    "    Images_comparison with Gpt-4 Turbo Vision\n",
    "    \"\"\"\n",
    "    print(prompt)\n",
    "    print()\n",
    "    \n",
    "    if imgview:\n",
    "        # Viewing images\n",
    "        print(f\"Image 1: {img_url1} \\nImage 2: {img_url2}\")\n",
    "        display(\n",
    "            HTML(\n",
    "                \"<table><tr><td><img src={0}></td><td><img src={1}></td></tr></table>\".format(\n",
    "                    img_url1, img_url2\n",
    "                )\n",
    "            )\n",
    "        )\n",
    "\n",
    "    # Calling Azure OpenAI model\n",
    "    response = client.chat.completions.create(\n",
    "        model=model,\n",
    "        messages=[\n",
    "            {\n",
    "                \"role\": \"user\",\n",
    "                \"content\": [\n",
    "                    {\"type\": \"text\", \"text\": prompt},\n",
    "                    {\n",
    "                        \"type\": \"image_url\",\n",
    "                        \"image_url\": {\"url\": img_url1},\n",
    "                    },\n",
    "                    {\n",
    "                        \"type\": \"image_url\",\n",
    "                        \"image_url\": {\"url\": img_url2},\n",
    "                    },\n",
    "                ],\n",
    "            }\n",
    "        ],\n",
    "        max_tokens=800,\n",
    "        temperature=0,\n",
    "    )\n",
    "\n",
    "    # Print results\n",
    "    print()\n",
    "    print(\"Azure OpenAI GPT-4 Turbo with Vision results:\")\n",
    "    print(\"\\033[1;31;34m\")\n",
    "    print(response.choices[0].message.content)\n",
    "\n",
    "    print(\"\\033[1;31;32m\")\n",
    "    print(\"[Note] These results are produced by an AI.\")\n",
    "    print(\n",
    "        datetime.datetime.today().strftime(\"%d-%b-%Y %H:%M:%S\"),\n",
    "        \"Powered by Azure OpenAI GPT-4 Turbo with vision model\",\n",
    "    )\n",
    "    print(\"\\033[0m\")"
   ]
  },
  {
   "cell_type": "markdown",
   "id": "d20184d1",
   "metadata": {},
   "source": [
    "## Testing"
   ]
  },
  {
   "cell_type": "code",
   "execution_count": 25,
   "id": "9dda160f",
   "metadata": {},
   "outputs": [],
   "source": [
    "url1 = \"https://github.com/retkowsky/Azure-OpenAI-demos/blob/main/images/Paris%20(1).png?raw=true\"\n",
    "url2 = \"https://github.com/retkowsky/Azure-OpenAI-demos/blob/main/images/Paris%20(2).png?raw=true\"\n",
    "url3 = \"https://github.com/retkowsky/Azure-OpenAI-demos/blob/main/images/Paris%20(3).png?raw=true\"\n",
    "url4 = \"https://github.com/retkowsky/Azure-OpenAI-demos/blob/main/images/Paris%20(4).png?raw=true\""
   ]
  },
  {
   "cell_type": "code",
   "execution_count": 26,
   "id": "82437694",
   "metadata": {},
   "outputs": [],
   "source": [
    "prompt = \"What are in these images? Is there any difference between them? Explain the details\""
   ]
  },
  {
   "cell_type": "code",
   "execution_count": 27,
   "id": "a7835fb3",
   "metadata": {},
   "outputs": [
    {
     "name": "stdout",
     "output_type": "stream",
     "text": [
      "What are in these images? Is there any difference between them? Explain the details\n",
      "\n",
      "Image 1: https://github.com/retkowsky/Azure-OpenAI-demos/blob/main/images/Paris%20(1).png?raw=true \n",
      "Image 2: https://github.com/retkowsky/Azure-OpenAI-demos/blob/main/images/Paris%20(2).png?raw=true\n"
     ]
    },
    {
     "data": {
      "text/html": [
       "<table><tr><td><img src=https://github.com/retkowsky/Azure-OpenAI-demos/blob/main/images/Paris%20(1).png?raw=true></td><td><img src=https://github.com/retkowsky/Azure-OpenAI-demos/blob/main/images/Paris%20(2).png?raw=true></td></tr></table>"
      ],
      "text/plain": [
       "<IPython.core.display.HTML object>"
      ]
     },
     "metadata": {},
     "output_type": "display_data"
    },
    {
     "name": "stdout",
     "output_type": "stream",
     "text": [
      "\n",
      "Azure OpenAI GPT-4 Turbo with Vision results:\n",
      "\u001b[1;31;34m\n",
      "Both images show the Eiffel Tower in Paris, France. The main difference between the two images is the time of day they were taken. The first image was taken during the day, with clear blue skies and the sun shining on the tower. The second image was taken at night, with the tower illuminated by lights and the sky dark. Additionally, the first image shows more people gathered on the lawn in front of the tower, while the second image has fewer people and a more serene atmosphere.\n",
      "\u001b[1;31;32m\n",
      "[Note] These results are produced by an AI.\n",
      "05-Mar-2024 11:36:21 Powered by Azure OpenAI GPT-4 Turbo with vision model\n",
      "\u001b[0m\n"
     ]
    }
   ],
   "source": [
    "images_comparison(prompt, url1, url2)"
   ]
  },
  {
   "cell_type": "code",
   "execution_count": 28,
   "id": "b14aa015",
   "metadata": {},
   "outputs": [
    {
     "name": "stdout",
     "output_type": "stream",
     "text": [
      "What are in these images? Is there any difference between them? Explain the details\n",
      "\n",
      "Image 1: https://github.com/retkowsky/Azure-OpenAI-demos/blob/main/images/Paris%20(1).png?raw=true \n",
      "Image 2: https://github.com/retkowsky/Azure-OpenAI-demos/blob/main/images/Paris%20(3).png?raw=true\n"
     ]
    },
    {
     "data": {
      "text/html": [
       "<table><tr><td><img src=https://github.com/retkowsky/Azure-OpenAI-demos/blob/main/images/Paris%20(1).png?raw=true></td><td><img src=https://github.com/retkowsky/Azure-OpenAI-demos/blob/main/images/Paris%20(3).png?raw=true></td></tr></table>"
      ],
      "text/plain": [
       "<IPython.core.display.HTML object>"
      ]
     },
     "metadata": {},
     "output_type": "display_data"
    },
    {
     "name": "stdout",
     "output_type": "stream",
     "text": [
      "\n",
      "Azure OpenAI GPT-4 Turbo with Vision results:\n",
      "\u001b[1;31;34m\n",
      "The first image is of the Eiffel Tower, and the second image is of the Arc de Triomphe. Both are famous landmarks located in Paris, France. The Eiffel Tower is a wrought-iron lattice tower that stands 324 meters tall and was completed in 1889. The Arc de Triomphe is a triumphal arch that stands 50 meters tall and was completed in 1836. The main difference between the two images is the subject matter, with one featuring the Eiffel Tower and the other featuring the Arc de Triomphe. Additionally, the first image is taken during the day with a clear blue sky, while the second image is taken during sunset with a more dramatic sky.\n",
      "\u001b[1;31;32m\n",
      "[Note] These results are produced by an AI.\n",
      "05-Mar-2024 11:36:31 Powered by Azure OpenAI GPT-4 Turbo with vision model\n",
      "\u001b[0m\n"
     ]
    }
   ],
   "source": [
    "images_comparison(prompt, url1, url3)"
   ]
  },
  {
   "cell_type": "code",
   "execution_count": 29,
   "id": "51066dc2",
   "metadata": {},
   "outputs": [
    {
     "name": "stdout",
     "output_type": "stream",
     "text": [
      "What are in these images? Is there any difference between them? Explain the details\n",
      "\n",
      "Image 1: https://github.com/retkowsky/Azure-OpenAI-demos/blob/main/images/Paris%20(1).png?raw=true \n",
      "Image 2: https://github.com/retkowsky/Azure-OpenAI-demos/blob/main/images/Paris%20(4).png?raw=true\n"
     ]
    },
    {
     "data": {
      "text/html": [
       "<table><tr><td><img src=https://github.com/retkowsky/Azure-OpenAI-demos/blob/main/images/Paris%20(1).png?raw=true></td><td><img src=https://github.com/retkowsky/Azure-OpenAI-demos/blob/main/images/Paris%20(4).png?raw=true></td></tr></table>"
      ],
      "text/plain": [
       "<IPython.core.display.HTML object>"
      ]
     },
     "metadata": {},
     "output_type": "display_data"
    },
    {
     "name": "stdout",
     "output_type": "stream",
     "text": [
      "\n",
      "Azure OpenAI GPT-4 Turbo with Vision results:\n",
      "\u001b[1;31;34m\n",
      "Both images show the Eiffel Tower in Paris, France. The first image is a modern, colored photograph of the completed tower, with a clear blue sky in the background and people gathered on the grassy area in front of it. The second image is a black and white historical photograph of the Eiffel Tower during its construction, with the top portion still incomplete and surrounded by scaffolding. The surrounding area also appears to be less developed, with fewer buildings and more open space.\n",
      "\u001b[1;31;32m\n",
      "[Note] These results are produced by an AI.\n",
      "05-Mar-2024 11:36:39 Powered by Azure OpenAI GPT-4 Turbo with vision model\n",
      "\u001b[0m\n"
     ]
    }
   ],
   "source": [
    "images_comparison(prompt, url1, url4)"
   ]
  },
  {
   "cell_type": "code",
   "execution_count": 30,
   "id": "641b5857",
   "metadata": {},
   "outputs": [
    {
     "name": "stdout",
     "output_type": "stream",
     "text": [
      "What are in these images? Is there any difference between them? Explain the details\n",
      "\n",
      "Image 1: https://github.com/retkowsky/Azure-OpenAI-demos/blob/main/images/Paris%20(1).png?raw=true \n",
      "Image 2: https://github.com/retkowsky/Azure-OpenAI-demos/blob/main/images/Paris%20(1).png?raw=true\n"
     ]
    },
    {
     "data": {
      "text/html": [
       "<table><tr><td><img src=https://github.com/retkowsky/Azure-OpenAI-demos/blob/main/images/Paris%20(1).png?raw=true></td><td><img src=https://github.com/retkowsky/Azure-OpenAI-demos/blob/main/images/Paris%20(1).png?raw=true></td></tr></table>"
      ],
      "text/plain": [
       "<IPython.core.display.HTML object>"
      ]
     },
     "metadata": {},
     "output_type": "display_data"
    },
    {
     "name": "stdout",
     "output_type": "stream",
     "text": [
      "\n",
      "Azure OpenAI GPT-4 Turbo with Vision results:\n",
      "\u001b[1;31;34m\n",
      "Both images show the Eiffel Tower in Paris, France. There is no difference between the two images as they are identical. The Eiffel Tower is a famous landmark and a symbol of France, known for its iron lattice structure and height of 324 meters. The images show the tower on a clear day with a blue sky, and there are people gathered on the grassy area in front of it.\n",
      "\u001b[1;31;32m\n",
      "[Note] These results are produced by an AI.\n",
      "05-Mar-2024 11:36:46 Powered by Azure OpenAI GPT-4 Turbo with vision model\n",
      "\u001b[0m\n"
     ]
    }
   ],
   "source": [
    "images_comparison(prompt, url1, url1)"
   ]
  },
  {
   "cell_type": "markdown",
   "id": "18eccb2a",
   "metadata": {},
   "source": [
    "## Others examples"
   ]
  },
  {
   "cell_type": "code",
   "execution_count": 31,
   "id": "1c6f2e74",
   "metadata": {},
   "outputs": [],
   "source": [
    "url5 = \"https://github.com/retkowsky/Azure-OpenAI-demos/blob/main/images/car1.png?raw=true\"\n",
    "url6 = \"https://github.com/retkowsky/Azure-OpenAI-demos/blob/main/images/car2.png?raw=true\"\n",
    "url7 = \"https://github.com/retkowsky/Azure-OpenAI-demos/blob/main/images/car3.png?raw=true\""
   ]
  },
  {
   "cell_type": "code",
   "execution_count": 32,
   "id": "f1c24c7c",
   "metadata": {},
   "outputs": [],
   "source": [
    "prompt = \"Can you compare these images?\""
   ]
  },
  {
   "cell_type": "code",
   "execution_count": 33,
   "id": "66e5509e",
   "metadata": {},
   "outputs": [
    {
     "name": "stdout",
     "output_type": "stream",
     "text": [
      "Can you compare these images?\n",
      "\n",
      "Image 1: https://github.com/retkowsky/Azure-OpenAI-demos/blob/main/images/car1.png?raw=true \n",
      "Image 2: https://github.com/retkowsky/Azure-OpenAI-demos/blob/main/images/car2.png?raw=true\n"
     ]
    },
    {
     "data": {
      "text/html": [
       "<table><tr><td><img src=https://github.com/retkowsky/Azure-OpenAI-demos/blob/main/images/car1.png?raw=true></td><td><img src=https://github.com/retkowsky/Azure-OpenAI-demos/blob/main/images/car2.png?raw=true></td></tr></table>"
      ],
      "text/plain": [
       "<IPython.core.display.HTML object>"
      ]
     },
     "metadata": {},
     "output_type": "display_data"
    },
    {
     "name": "stdout",
     "output_type": "stream",
     "text": [
      "\n",
      "Azure OpenAI GPT-4 Turbo with Vision results:\n",
      "\u001b[1;31;34m\n",
      "Both images show cars in motion, with the first image featuring a red and black BMW i3 electric car driving on a road with mountains in the background, and the second image featuring a white BMW i4 electric car driving on a bridge with a sunset sky in the background. Both cars have a sleek and modern design, with the i3 having a more compact and futuristic look, and the i4 having a more traditional sedan shape with a sporty touch. The i3 is a smaller, city-focused electric vehicle, while the i4 is a larger, performance-oriented electric vehicle. Both images convey a sense of speed and motion, with the cars positioned at an angle that suggests they are quickly moving forward.\n",
      "\u001b[1;31;32m\n",
      "[Note] These results are produced by an AI.\n",
      "05-Mar-2024 11:36:57 Powered by Azure OpenAI GPT-4 Turbo with vision model\n",
      "\u001b[0m\n"
     ]
    }
   ],
   "source": [
    "images_comparison(prompt, url5, url6)"
   ]
  },
  {
   "cell_type": "code",
   "execution_count": 34,
   "id": "231f7b38",
   "metadata": {},
   "outputs": [
    {
     "name": "stdout",
     "output_type": "stream",
     "text": [
      "Can you compare these images?\n",
      "\n",
      "Image 1: https://github.com/retkowsky/Azure-OpenAI-demos/blob/main/images/car2.png?raw=true \n",
      "Image 2: https://github.com/retkowsky/Azure-OpenAI-demos/blob/main/images/car3.png?raw=true\n"
     ]
    },
    {
     "data": {
      "text/html": [
       "<table><tr><td><img src=https://github.com/retkowsky/Azure-OpenAI-demos/blob/main/images/car2.png?raw=true></td><td><img src=https://github.com/retkowsky/Azure-OpenAI-demos/blob/main/images/car3.png?raw=true></td></tr></table>"
      ],
      "text/plain": [
       "<IPython.core.display.HTML object>"
      ]
     },
     "metadata": {},
     "output_type": "display_data"
    },
    {
     "name": "stdout",
     "output_type": "stream",
     "text": [
      "\n",
      "Azure OpenAI GPT-4 Turbo with Vision results:\n",
      "\u001b[1;31;34m\n",
      "Both images show the same car model, a white BMW i4, driving on a road. The first image has a sunset sky with clouds and a bridge in the background, while the second image has a clear blue sky with modern buildings in the background. The car is positioned at a slightly different angle in each image, with the first image showing more of the front of the car and the second image showing more of the side. Both images convey a sense of motion and speed.\n",
      "\u001b[1;31;32m\n",
      "[Note] These results are produced by an AI.\n",
      "05-Mar-2024 11:37:06 Powered by Azure OpenAI GPT-4 Turbo with vision model\n",
      "\u001b[0m\n"
     ]
    }
   ],
   "source": [
    "images_comparison(prompt, url6, url7)"
   ]
  },
  {
   "cell_type": "code",
   "execution_count": 35,
   "id": "a425027e",
   "metadata": {},
   "outputs": [
    {
     "name": "stdout",
     "output_type": "stream",
     "text": [
      "Can you compare these images?\n",
      "\n",
      "Image 1: https://github.com/retkowsky/Azure-OpenAI-demos/blob/main/images/car1.png?raw=true \n",
      "Image 2: https://github.com/retkowsky/Azure-OpenAI-demos/blob/main/images/car3.png?raw=true\n"
     ]
    },
    {
     "data": {
      "text/html": [
       "<table><tr><td><img src=https://github.com/retkowsky/Azure-OpenAI-demos/blob/main/images/car1.png?raw=true></td><td><img src=https://github.com/retkowsky/Azure-OpenAI-demos/blob/main/images/car3.png?raw=true></td></tr></table>"
      ],
      "text/plain": [
       "<IPython.core.display.HTML object>"
      ]
     },
     "metadata": {},
     "output_type": "display_data"
    },
    {
     "name": "stdout",
     "output_type": "stream",
     "text": [
      "\n",
      "Azure OpenAI GPT-4 Turbo with Vision results:\n",
      "\u001b[1;31;34m\n",
      "Both images show electric cars from the BMW brand, with the first image featuring the BMW i3 and the second image featuring the BMW i4. The i3 has a more compact and futuristic design with a two-tone color scheme, while the i4 has a sleek and sporty design with a more traditional sedan shape. Both cars have the signature BMW front grille and emblem, but the i4's grille is larger and more prominent. The i3 is shown driving on a scenic mountain road, while the i4 is shown in an urban setting with modern architecture in the background.\n",
      "\u001b[1;31;32m\n",
      "[Note] These results are produced by an AI.\n",
      "05-Mar-2024 11:37:14 Powered by Azure OpenAI GPT-4 Turbo with vision model\n",
      "\u001b[0m\n"
     ]
    }
   ],
   "source": [
    "images_comparison(prompt, url5, url7)"
   ]
  },
  {
   "cell_type": "code",
   "execution_count": 36,
   "id": "b93bc5d0",
   "metadata": {},
   "outputs": [
    {
     "name": "stdout",
     "output_type": "stream",
     "text": [
      "Can you compare these images?\n",
      "\n",
      "Image 1: https://github.com/retkowsky/Azure-OpenAI-demos/blob/main/images/car1.png?raw=true \n",
      "Image 2: https://github.com/retkowsky/Azure-OpenAI-demos/blob/main/images/car1.png?raw=true\n"
     ]
    },
    {
     "data": {
      "text/html": [
       "<table><tr><td><img src=https://github.com/retkowsky/Azure-OpenAI-demos/blob/main/images/car1.png?raw=true></td><td><img src=https://github.com/retkowsky/Azure-OpenAI-demos/blob/main/images/car1.png?raw=true></td></tr></table>"
      ],
      "text/plain": [
       "<IPython.core.display.HTML object>"
      ]
     },
     "metadata": {},
     "output_type": "display_data"
    },
    {
     "name": "stdout",
     "output_type": "stream",
     "text": [
      "\n",
      "Azure OpenAI GPT-4 Turbo with Vision results:\n",
      "\u001b[1;31;34m\n",
      "I'm sorry, I cannot compare these images as they are identical.\n",
      "\u001b[1;31;32m\n",
      "[Note] These results are produced by an AI.\n",
      "05-Mar-2024 11:37:20 Powered by Azure OpenAI GPT-4 Turbo with vision model\n",
      "\u001b[0m\n"
     ]
    }
   ],
   "source": [
    "images_comparison(prompt, url5, url5)"
   ]
  },
  {
   "cell_type": "code",
   "execution_count": null,
   "id": "e1930325",
   "metadata": {},
   "outputs": [],
   "source": []
  }
 ],
 "metadata": {
  "kernelspec": {
   "display_name": "Python 3.10 - SDK v2",
   "language": "python",
   "name": "python310-sdkv2"
  },
  "language_info": {
   "codemirror_mode": {
    "name": "ipython",
    "version": 3
   },
   "file_extension": ".py",
   "mimetype": "text/x-python",
   "name": "python",
   "nbconvert_exporter": "python",
   "pygments_lexer": "ipython3",
   "version": "3.10.11"
  }
 },
 "nbformat": 4,
 "nbformat_minor": 5
}
