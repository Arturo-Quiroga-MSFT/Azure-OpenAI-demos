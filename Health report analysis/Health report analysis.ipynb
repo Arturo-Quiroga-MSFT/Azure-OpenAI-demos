{
 "cells": [
  {
   "cell_type": "markdown",
   "id": "20e46c2f",
   "metadata": {},
   "source": [
    "# Health report analysis with Azure Open AI"
   ]
  },
  {
   "cell_type": "code",
   "execution_count": 1,
   "id": "a9ed10c4",
   "metadata": {},
   "outputs": [],
   "source": [
    "import datetime\n",
    "import openai\n",
    "import os\n",
    "import sys\n",
    "\n",
    "from dotenv import load_dotenv"
   ]
  },
  {
   "cell_type": "code",
   "execution_count": 2,
   "id": "bacb98f7",
   "metadata": {},
   "outputs": [
    {
     "name": "stdout",
     "output_type": "stream",
     "text": [
      "Open AI version: 0.28.1\n"
     ]
    }
   ],
   "source": [
    "load_dotenv(\"azure.env\")\n",
    "\n",
    "# Azure Open AI\n",
    "openai.api_type: str = \"azure\"\n",
    "openai.api_key = os.getenv(\"OPENAI_API_KEY\")\n",
    "openai.api_base = os.getenv(\"OPENAI_API_BASE\")\n",
    "openai.api_version = os.getenv(\"OPENAI_API_VERSION\")\n",
    "\n",
    "print(\"Open AI version:\", openai.__version__)"
   ]
  },
  {
   "cell_type": "code",
   "execution_count": 3,
   "id": "6b463bec",
   "metadata": {},
   "outputs": [
    {
     "name": "stdout",
     "output_type": "stream",
     "text": [
      "Today is: 12-Oct-2023 14:45:42\n"
     ]
    }
   ],
   "source": [
    "print(\"Today is:\", datetime.datetime.today().strftime(\"%d-%b-%Y %H:%M:%S\"))"
   ]
  },
  {
   "cell_type": "code",
   "execution_count": 4,
   "id": "3dd263bd",
   "metadata": {},
   "outputs": [
    {
     "data": {
      "text/plain": [
       "'3.10.10 (main, Mar 21 2023, 18:45:11) [GCC 11.2.0]'"
      ]
     },
     "execution_count": 4,
     "metadata": {},
     "output_type": "execute_result"
    }
   ],
   "source": [
    "sys.version"
   ]
  },
  {
   "cell_type": "markdown",
   "id": "bf083314",
   "metadata": {},
   "source": [
    "## Function"
   ]
  },
  {
   "cell_type": "code",
   "execution_count": 5,
   "id": "1a4b5443",
   "metadata": {},
   "outputs": [],
   "source": [
    "model = \"text-davinci-003\""
   ]
  },
  {
   "cell_type": "code",
   "execution_count": 6,
   "id": "c2dd2175",
   "metadata": {},
   "outputs": [],
   "source": [
    "def azure_openai(prompt, temperature=0.8):\n",
    "    \"\"\"\n",
    "    Get Azure Open AI results\n",
    "    \"\"\"\n",
    "    prompt = prompt + \"\\n\" + text\n",
    "\n",
    "    results = openai.Completion.create(\n",
    "        engine=model,\n",
    "        prompt=prompt,\n",
    "        temperature=temperature,\n",
    "        max_tokens=800,\n",
    "    )\n",
    "\n",
    "    answer = results[\"choices\"][0][\"text\"].strip(\"\\n\")\n",
    "\n",
    "    return answer"
   ]
  },
  {
   "cell_type": "markdown",
   "id": "6ba8838d",
   "metadata": {},
   "source": [
    "## Health report"
   ]
  },
  {
   "cell_type": "code",
   "execution_count": 7,
   "id": "ab797928",
   "metadata": {},
   "outputs": [
    {
     "name": "stdout",
     "output_type": "stream",
     "text": [
      "\n",
      "RECORD #333582770390100 | MH | 85986313 | | 054351 | 2/14/2001 12:00:00 AM | CORONARY ARTERY DISEASE | Signed | DIS | Admission Date: 5/22/2001 eport Status: Signed Discharge Date: 4/24/2001 ADMISSION DIAGNOSIS: CORONARY ARTERY DISEASE. HISTORY OF PRESENT ILLNESS: The patient is a 54-year-old gentleman with a history of progressive angina over the past several months. The patient had a cardiac catheterization in July of this year revealing total occlusion of the RCA and 50% left main disease , with a strong family history of coronary artery disease with a brother dying at the age of 52 from a myocardial infarction and another brother who is status post coronary artery bypass grafting. The patient had a stress echocardiogram done on July , 2001 , which showed no wall motion abnormalities ,but this was a difficult study due to body habitus. The patient went for six minutes with minimal ST depressions in the anterior lateral leads , thought due to fatigue and wrist pain , his anginal equivalent. Due to the patient's increased symptoms and family history and history left main disease with total occasional of his RCA was referred for revascularization with open heart surgery.\"\n",
      "\n"
     ]
    }
   ],
   "source": [
    "text = \"\"\"\n",
    "RECORD #333582770390100 | MH | 85986313 | | 054351 | 2/14/2001 12:00:00 AM | \\\n",
    "CORONARY ARTERY DISEASE | Signed | DIS | Admission Date: 5/22/2001 \\\n",
    "eport Status: Signed Discharge Date: 4/24/2001 ADMISSION DIAGNOSIS: \\\n",
    "CORONARY ARTERY DISEASE. HISTORY OF PRESENT ILLNESS: \\\n",
    "The patient is a 54-year-old gentleman with a history of progressive angina over the past several months. \\\n",
    "The patient had a cardiac catheterization in July of this year revealing total occlusion of the RCA and \\\n",
    "50% left main disease , with a strong family history of coronary artery disease with a brother dying at \\\n",
    "the age of 52 from a myocardial infarction and another brother who is status post coronary artery bypass grafting. \\\n",
    "The patient had a stress echocardiogram done on July , 2001 , which showed no wall motion abnormalities ,\\\n",
    "but this was a difficult study due to body habitus. The patient went for six minutes with minimal ST depressions \\\n",
    "in the anterior lateral leads , thought due to fatigue and wrist pain , his anginal equivalent. Due to the patient's \\\n",
    "increased symptoms and family history and history left main disease with total occasional of his RCA was referred \\\n",
    "for revascularization with open heart surgery.\"\n",
    "\"\"\"\n",
    "print(text)"
   ]
  },
  {
   "cell_type": "code",
   "execution_count": 8,
   "id": "a0ec2524",
   "metadata": {},
   "outputs": [
    {
     "name": "stdout",
     "output_type": "stream",
     "text": [
      "{\n",
      "  \"personally_identifiable_information\": {\n",
      "    \"name\": \"MH\",\n",
      "    \"age\": 54,\n",
      "    \"date_of_admission\": \"5/22/2001\",\n",
      "    \"date_of_discharge\": \"4/24/2001\",\n",
      "    \"family_history\": {\n",
      "      \"brother_died_age\": 52,\n",
      "      \"brother_cabg\": \"status post coronary artery bypass grafting\"\n",
      "    },\n",
      "    \"cardiac_catheterization_results\": \"total occlusion of the RCA and 50% left main disease\"\n",
      "  }\n",
      "}\n"
     ]
    }
   ],
   "source": [
    "answer = azure_openai(\n",
    "    \"What are the Personally identifiable information in this text? Extract this into a json file\"\n",
    ")\n",
    "print(answer)"
   ]
  },
  {
   "cell_type": "code",
   "execution_count": 9,
   "id": "07a48e72",
   "metadata": {},
   "outputs": [
    {
     "name": "stdout",
     "output_type": "stream",
     "text": [
      "This health report is about a 54-year-old man with coronary artery disease and a strong family history of cardiac issues. He had a cardiac catheterization and stress echocardiogram done in July which showed no wall motion abnormalities but was difficult due to his body habitus. He was referred for revascularization with open heart surgery.\n"
     ]
    }
   ],
   "source": [
    "answer = azure_openai(\"Summarize this health report?\")\n",
    "print(answer)"
   ]
  },
  {
   "cell_type": "code",
   "execution_count": 10,
   "id": "885e9aeb",
   "metadata": {},
   "outputs": [
    {
     "name": "stdout",
     "output_type": "stream",
     "text": [
      "1. Patient presents with progressive angina symptoms over the past several months.\n",
      "2. Patient undergoes cardiac catheterization in July, revealing total occlusion of the RCA and 50% left main disease.\n",
      "3. Patient undergoes stress echocardiogram in July, showing no wall motion abnormalities but difficult to interpret due to body habitus.\n",
      "4. Patient referred for revascularization with open heart surgery due to increased symptoms, family history, and history of left main disease and total occlusion of the RCA.\n",
      "5. Patient admitted to hospital on 5/22/2001, with diagnosis of coronary artery disease.\n",
      "6. Patient discharged from hospital on 4/24/2001, with report status signed.\n"
     ]
    }
   ],
   "source": [
    "answer = azure_openai(\"Can you describe step by step the sequence of events?\")\n",
    "print(answer)"
   ]
  },
  {
   "cell_type": "code",
   "execution_count": 11,
   "id": "05e1b160",
   "metadata": {},
   "outputs": [
    {
     "name": "stdout",
     "output_type": "stream",
     "text": [
      "Admission Diagnose : Maladie des artères coronaires. Histoire de la maladie présente : Le patient est un homme de 54 ans dont l'angor a progressé au cours des derniers mois. Le patient a fait une cathétérisme cardiaque en juillet de cette année, révélant une occlusion totale de la coronaire gauche et une maladie de 50% du tronc coronaire gauche, avec un historique familial important de maladie coronaire avec un frère décédé à l'âge de 52 ans d'un infarctus et un autre frère qui est post-greffe de pontage coronaire. Le patient a fait une échocardiographie d'effort en juillet 2001, qui n'a montré aucune anomalie du mouvement de la paroi, mais ce fut une étude difficile en raison de la corpulence. Le patient a fait six minutes avec une dépression minime des ST dans les leads antéro-latéraux, pensée due à la fatigue et à la douleur au poignet, son équivalent anginal. En raison des symptômes accrus du patient et de son historique de maladie du tronc coronaire gauche avec une occlusion totale de sa coronaire droite, le patient a été référé pour une revascularisation par chirurgie cardiaque ouverte.\n"
     ]
    }
   ],
   "source": [
    "answer = azure_openai(\"Can you translate this into French?\")\n",
    "print(answer)"
   ]
  },
  {
   "cell_type": "code",
   "execution_count": 12,
   "id": "b29fc7e5",
   "metadata": {},
   "outputs": [
    {
     "name": "stdout",
     "output_type": "stream",
     "text": [
      "RCA stands for Right Coronary Artery. It is the main artery supplying the right side of the heart and is often involved in coronary artery disease.\n"
     ]
    }
   ],
   "source": [
    "answer = azure_openai(\"what is RCA?\")\n",
    "print(answer)"
   ]
  },
  {
   "cell_type": "code",
   "execution_count": null,
   "id": "016789a2",
   "metadata": {},
   "outputs": [],
   "source": []
  }
 ],
 "metadata": {
  "kernelspec": {
   "display_name": "Python 3.10 - SDK v2",
   "language": "python",
   "name": "python310-sdkv2"
  },
  "language_info": {
   "codemirror_mode": {
    "name": "ipython",
    "version": 3
   },
   "file_extension": ".py",
   "mimetype": "text/x-python",
   "name": "python",
   "nbconvert_exporter": "python",
   "pygments_lexer": "ipython3",
   "version": "3.10.10"
  }
 },
 "nbformat": 4,
 "nbformat_minor": 5
}
