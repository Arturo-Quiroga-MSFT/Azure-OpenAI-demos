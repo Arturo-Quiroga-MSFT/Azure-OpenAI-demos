{
 "cells": [
  {
   "cell_type": "markdown",
   "id": "8a157fb8",
   "metadata": {},
   "source": [
    "# Writer assistant"
   ]
  },
  {
   "cell_type": "code",
   "execution_count": 1,
   "id": "e08cdbd6",
   "metadata": {},
   "outputs": [],
   "source": [
    "import datetime\n",
    "import os\n",
    "import openai\n",
    "import sys\n",
    "\n",
    "from dotenv import load_dotenv"
   ]
  },
  {
   "cell_type": "code",
   "execution_count": 2,
   "id": "55d27ebf",
   "metadata": {},
   "outputs": [
    {
     "name": "stdout",
     "output_type": "stream",
     "text": [
      "Open AI version: 0.28.1\n"
     ]
    }
   ],
   "source": [
    "load_dotenv(\"azure.env\")\n",
    "\n",
    "# Azure Open AI\n",
    "openai.api_type: str = \"azure\"\n",
    "openai.api_key = os.getenv(\"OPENAI_API_KEY\")\n",
    "openai.api_base = os.getenv(\"OPENAI_API_BASE\")\n",
    "openai.api_version = os.getenv(\"OPENAI_API_VERSION\")\n",
    "\n",
    "print(\"Open AI version:\", openai.__version__)"
   ]
  },
  {
   "cell_type": "code",
   "execution_count": 3,
   "id": "53543fb6",
   "metadata": {},
   "outputs": [
    {
     "name": "stdout",
     "output_type": "stream",
     "text": [
      "Today is: 12-Oct-2023 15:00:13\n"
     ]
    }
   ],
   "source": [
    "print(\"Today is:\", datetime.datetime.today().strftime(\"%d-%b-%Y %H:%M:%S\"))"
   ]
  },
  {
   "cell_type": "code",
   "execution_count": 4,
   "id": "ce1d0068",
   "metadata": {},
   "outputs": [
    {
     "data": {
      "text/plain": [
       "'3.10.10 (main, Mar 21 2023, 18:45:11) [GCC 11.2.0]'"
      ]
     },
     "execution_count": 4,
     "metadata": {},
     "output_type": "execute_result"
    }
   ],
   "source": [
    "sys.version"
   ]
  },
  {
   "cell_type": "code",
   "execution_count": 5,
   "id": "950286f6",
   "metadata": {},
   "outputs": [],
   "source": [
    "model = \"gpt-35-turbo\""
   ]
  },
  {
   "cell_type": "code",
   "execution_count": 6,
   "id": "8d9d3375",
   "metadata": {},
   "outputs": [],
   "source": [
    "def ask_chatgpt35(prompt):\n",
    "    \"\"\"\n",
    "    chatGPT with Azure Open AI\n",
    "    \"\"\"\n",
    "    messages = [\n",
    "        {\"role\": \"system\", \"content\": \"You are a helpful AI assistant.\"},\n",
    "        {\"role\": \"user\", \"content\": prompt},\n",
    "    ]\n",
    "    response = openai.ChatCompletion.create(engine=model, messages=messages)\n",
    "\n",
    "    return response[\"choices\"][0][\"message\"][\"content\"]"
   ]
  },
  {
   "cell_type": "code",
   "execution_count": 7,
   "id": "6ab7ab0b",
   "metadata": {},
   "outputs": [
    {
     "data": {
      "text/plain": [
       "'I am an AI language model created by OpenAI, designed to assist you with various tasks or answer your questions to the best of my abilities. You can think of me as a helpful virtual assistant always at your service.'"
      ]
     },
     "execution_count": 7,
     "metadata": {},
     "output_type": "execute_result"
    }
   ],
   "source": [
    "prompt = \"Who are you?\"\n",
    "\n",
    "ask_chatgpt35(prompt)"
   ]
  },
  {
   "cell_type": "markdown",
   "id": "11262126",
   "metadata": {},
   "source": [
    "## Testing"
   ]
  },
  {
   "cell_type": "code",
   "execution_count": 8,
   "id": "0e69a10a",
   "metadata": {},
   "outputs": [],
   "source": [
    "context = \"\"\"You are an AI writer assistant.\n",
    "Your task is to write articles, based on the ELEMENTS that are given to you.\n",
    "You should respect the instructions: the TONE, the LENGTH, and the STYLE\"\"\""
   ]
  },
  {
   "cell_type": "code",
   "execution_count": 9,
   "id": "d6378ceb",
   "metadata": {},
   "outputs": [],
   "source": [
    "def writer_assistant(elements, tone, nb_words, style):\n",
    "    \"\"\"\n",
    "    Writer assistant\n",
    "    \"\"\"\n",
    "    elements = \", \".join(elements)\n",
    "    prompt = f\"{context} ELEMENTS: {elements} TONE: {tone} LENGTH: {nb_words} words STYLE: {style}\"\n",
    "    article = ask_chatgpt35(prompt)\n",
    "\n",
    "    return article"
   ]
  },
  {
   "cell_type": "code",
   "execution_count": 10,
   "id": "02565121",
   "metadata": {},
   "outputs": [
    {
     "name": "stdout",
     "output_type": "stream",
     "text": [
      "Azure Open AI: The Future of Artificial Intelligence in the Cloud\n",
      "\n",
      "Artificial Intelligence (AI) has emerged as a revolutionary technology that has the potential to transform the way we live and work. AI can help businesses in various industries automate their processes, provide more personalized customer experience, and create new revenue streams. However, developing and deploying AI models require significant compute power and data storage, making it challenging for businesses to scale AI projects.\n",
      "\n",
      "That's where Azure Open AI comes in. Azure Open AI is a cloud-based platform that provides businesses with the tools and resources they need to develop, deploy, and manage their AI models at scale. With Azure Open AI, businesses can easily access the power of AI without needing to maintain their own infrastructure.\n",
      "\n",
      "One of the leading players in the cloud computing space, Microsoft, has made significant investments in AI technology in recent years. Azure Open AI is part of Microsoft's strategy to democratize AI, making it more accessible to businesses of all sizes. Azure Open AI offers several benefits to businesses looking to integrate AI into their operations:\n",
      "\n",
      "Scalability: Azure Open AI provides businesses with the flexibility to scale their AI projects based on their needs, without needing to invest in expensive hardware or infrastructure.\n",
      "\n",
      "Advanced tools: Azure Open AI offers advanced tools for data preparation, model training, and deployment, making it easier for businesses to build and deploy their AI models.\n",
      "\n",
      "Cost-effectiveness: Azure Open AI offers a cost-effective solution for businesses looking to integrate AI into their operations, with pay-as-you-go pricing.\n",
      "\n",
      "Seamless integration: Azure Open AI integrates seamlessly with other Microsoft tools and services, such as Power BI and Azure Machine Learning, making it easier for businesses to manage their AI projects.\n",
      "\n",
      "In conclusion, Azure Open AI is helping to democratize AI by making it easier and more accessible for businesses of all sizes. With its advanced tools, scalability, cost-effectiveness, and seamless integration, Azure Open AI is paving the way for the future of AI in the cloud. By leveraging Azure Open AI, businesses can unlock the full potential of AI and drive innovation in their industries.\n"
     ]
    }
   ],
   "source": [
    "elements = [\"Azure Open AI\", \"Microsoft\"]\n",
    "tone = \"informal\"\n",
    "nb_words = 300\n",
    "style = \"blogpost\"\n",
    "\n",
    "print(writer_assistant(elements, tone, nb_words, style))"
   ]
  },
  {
   "cell_type": "code",
   "execution_count": 11,
   "id": "63c47a91",
   "metadata": {},
   "outputs": [
    {
     "name": "stdout",
     "output_type": "stream",
     "text": [
      "It's time to revolutionize your data science game with Azure ML. Boost productivity with streamlined model training and deployment. Simplify prompt flow and achieve better results. With Microsoft's Azure ML, you can gain a competitive edge in the market. Get started today! #AzureML #datascience #AI #Microsoft\n"
     ]
    }
   ],
   "source": [
    "elements = [\"Azure ML\", \"Prompt flow\", \"Microsoft\"]\n",
    "tone = \"marketing\"\n",
    "nb_words = 50\n",
    "style = \"tweeter\"\n",
    "\n",
    "print(writer_assistant(elements, tone, nb_words, style))"
   ]
  },
  {
   "cell_type": "code",
   "execution_count": 12,
   "id": "7d7ea0c3",
   "metadata": {},
   "outputs": [
    {
     "name": "stdout",
     "output_type": "stream",
     "text": [
      "Azure ML is an innovative and powerful machine learning tool developed by Microsoft. Its seamless integration with other Microsoft products and convenience of use makes it an ideal choice for businesses large and small. With its user-friendly prompt flow interface, it's no wonder why Azure ML has become a go-to for technical teams. #AzureML #Microsoft #MachineLearning #Tech\n"
     ]
    }
   ],
   "source": [
    "elements = [\"Azure ML\", \"Prompt flow\", \"Microsoft\"]\n",
    "tone = \"technical\"\n",
    "nb_words = 50\n",
    "style = \"tweeter\"\n",
    "\n",
    "print(writer_assistant(elements, tone, nb_words, style))"
   ]
  },
  {
   "cell_type": "code",
   "execution_count": 13,
   "id": "73319602",
   "metadata": {},
   "outputs": [
    {
     "name": "stdout",
     "output_type": "stream",
     "text": [
      "Breaking News: Paris to Host 2023 Rugby World Cup\n",
      "\n",
      "France has won the bid to host the 2023 Rugby World Cup, with the tournament set to take place in Paris. The news was announced earlier today, after a vote by the World Rugby Council.\n",
      "\n",
      "France beat out bids from Ireland and South Africa to win the right to host the competition. The tournament is set to be the tenth Rugby World Cup, and the second to be held in France, after the country previously hosted the 2007 tournament.\n",
      "\n",
      "The decision to award the tournament to Paris was met with excitement from rugby fans around the world. The city is known for its love of sport, and its iconic stadiums, such as the Stade de France, are sure to provide an unforgettable experience for fans.\n",
      "\n",
      "France is also a traditional rugby powerhouse, having won the Six Nations championship 17 times and the Rugby World Cup twice. The country's passion for the sport is sure to contribute to a memorable tournament in 2023.\n",
      "\n",
      "The 2023 Rugby World Cup is set to take place from September 8th to October 28th, with matches scheduled to be held around the country. Fans can expect a thrilling competition, with some of the world's best rugby players set to compete for the title of world champion.\n",
      "\n",
      "This is an exciting day for rugby fans around the world, and we can't wait to see what the 2023 Rugby World Cup has in store for us.\n"
     ]
    }
   ],
   "source": [
    "elements = [\"France\", \"Paris\", \"World cup\", \"Rugby\", \"2023\"]\n",
    "tone = \"breaking news\"\n",
    "nb_words = 200\n",
    "style = \"Newspaper article\"\n",
    "\n",
    "print(writer_assistant(elements, tone, nb_words, style))"
   ]
  },
  {
   "cell_type": "code",
   "execution_count": 14,
   "id": "3150c897",
   "metadata": {},
   "outputs": [
    {
     "name": "stdout",
     "output_type": "stream",
     "text": [
      "Azure Open AI: Revolutionizing the World of Digital Marketing\n",
      "\n",
      "Are you tired of spending endless hours trying to optimize your digital marketing content? Look no further than Azure Open AI. With its cutting-edge artificial intelligence technology, Azure Open AI can help take your marketing efforts to new heights. \n",
      " \n",
      "Say goodbye to tedious transcription tasks with our whisper-quiet speech-to-text capabilities, enabling you to focus on what really matters - engaging with your customers. \n",
      " \n",
      "In just 100 words, we've given you a glimpse into the possibilities of Azure Open AI. Upgrade your marketing game today and revolutionize the way you do business.\n"
     ]
    }
   ],
   "source": [
    "elements = [\"Azure Open AI\", \"whisper\", \"speech to text\"]\n",
    "tone = \"marketing\"\n",
    "nb_words = 100\n",
    "style = \"LinkedIn\"\n",
    "\n",
    "print(writer_assistant(elements, tone, nb_words, style))"
   ]
  },
  {
   "cell_type": "code",
   "execution_count": null,
   "id": "30573edc",
   "metadata": {},
   "outputs": [],
   "source": []
  }
 ],
 "metadata": {
  "kernelspec": {
   "display_name": "Python 3.10 - SDK v2",
   "language": "python",
   "name": "python310-sdkv2"
  },
  "language_info": {
   "codemirror_mode": {
    "name": "ipython",
    "version": 3
   },
   "file_extension": ".py",
   "mimetype": "text/x-python",
   "name": "python",
   "nbconvert_exporter": "python",
   "pygments_lexer": "ipython3",
   "version": "3.10.10"
  }
 },
 "nbformat": 4,
 "nbformat_minor": 5
}
