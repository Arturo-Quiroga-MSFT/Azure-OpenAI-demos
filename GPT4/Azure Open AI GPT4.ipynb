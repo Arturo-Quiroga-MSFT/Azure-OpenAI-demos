{
 "cells": [
  {
   "cell_type": "markdown",
   "id": "c52e30c0",
   "metadata": {},
   "source": [
    "# Azure Open AI GPT4"
   ]
  },
  {
   "cell_type": "code",
   "execution_count": 1,
   "id": "5d32223c",
   "metadata": {},
   "outputs": [],
   "source": [
    "import datetime\n",
    "import openai\n",
    "import os\n",
    "import sys\n",
    "\n",
    "from dotenv import load_dotenv"
   ]
  },
  {
   "cell_type": "code",
   "execution_count": 2,
   "id": "5aec866b",
   "metadata": {},
   "outputs": [
    {
     "name": "stdout",
     "output_type": "stream",
     "text": [
      "Open AI version: 0.28.1\n"
     ]
    }
   ],
   "source": [
    "load_dotenv(\"azure.env\")\n",
    "\n",
    "# Azure Open AI\n",
    "openai.api_type: str = \"azure\"\n",
    "openai.api_key = os.getenv(\"OPENAI_API_KEY\")\n",
    "openai.api_base = os.getenv(\"OPENAI_API_BASE\")\n",
    "openai.api_version = os.getenv(\"OPENAI_API_VERSION\")\n",
    "\n",
    "print(\"Open AI version:\", openai.__version__)"
   ]
  },
  {
   "cell_type": "code",
   "execution_count": 3,
   "id": "dc0efdf0",
   "metadata": {},
   "outputs": [
    {
     "name": "stdout",
     "output_type": "stream",
     "text": [
      "Today is: 12-Oct-2023 14:37:57\n"
     ]
    }
   ],
   "source": [
    "print(\"Today is:\", datetime.datetime.today().strftime(\"%d-%b-%Y %H:%M:%S\"))"
   ]
  },
  {
   "cell_type": "code",
   "execution_count": 4,
   "id": "87f429e2",
   "metadata": {},
   "outputs": [
    {
     "data": {
      "text/plain": [
       "'3.10.10 (main, Mar 21 2023, 18:45:11) [GCC 11.2.0]'"
      ]
     },
     "execution_count": 4,
     "metadata": {},
     "output_type": "execute_result"
    }
   ],
   "source": [
    "sys.version"
   ]
  },
  {
   "cell_type": "markdown",
   "id": "343729ec",
   "metadata": {},
   "source": [
    "## Model"
   ]
  },
  {
   "cell_type": "code",
   "execution_count": 5,
   "id": "e84e6e44",
   "metadata": {},
   "outputs": [],
   "source": [
    "model = \"gpt-4-32k\""
   ]
  },
  {
   "cell_type": "code",
   "execution_count": 6,
   "id": "f0d6f673",
   "metadata": {},
   "outputs": [],
   "source": [
    "question = \"What are Azure Cognitive services?\""
   ]
  },
  {
   "cell_type": "code",
   "execution_count": 7,
   "id": "5a54e527",
   "metadata": {},
   "outputs": [
    {
     "name": "stdout",
     "output_type": "stream",
     "text": [
      "{\n",
      "  \"id\": \"chatcmpl-88r73vq5jGSbJ6K19Ly4NsYA7vAmu\",\n",
      "  \"object\": \"chat.completion\",\n",
      "  \"created\": 1697121481,\n",
      "  \"model\": \"gpt-4-32k\",\n",
      "  \"choices\": [\n",
      "    {\n",
      "      \"index\": 0,\n",
      "      \"finish_reason\": \"stop\",\n",
      "      \"message\": {\n",
      "        \"role\": \"assistant\",\n",
      "        \"content\": \"Azure Cognitive Services are a collection of application programming interfaces (APIs), SDKs, and services provided by Microsoft that developers use to build AI-powered applications on the Microsoft Azure cloud platform.\\n\\nThese services allow developers to easily incorporate intelligent features into their applications, such as natural language understanding, speech recognition, text-to-speech, computer vision, decision-making capabilities, and more, without needing specialized knowledge in machine learning or artificial intelligence.\\n\\nThe capabilities of Cognitive Services are categorized into five main categories: \\n\\n1. Vision: These services can analyze images and videos to provide useful information, detect faces or objects, and even recognize handwriting.\\n\\n2. Speech: This involves converting spoken content to text and vice versa. It can also be used to identify the speaker.\\n\\n3. Language: These services can comprehend and generate human language. They can be used to understand what users mean when they input a text or to generate human-like text as output.\\n\\n4. Decision: This involves prediction capabilities that enable your apps to make recommendations or identify fraudulent activities.\\n\\n5. Web Search: These services can offer detailed search capabilities within your apps.\\n\\nThese services can be used in various industries for a broad range of applications including customer service, e-commerce, healthcare, and many more.\"\n",
      "      }\n",
      "    }\n",
      "  ],\n",
      "  \"usage\": {\n",
      "    \"prompt_tokens\": 24,\n",
      "    \"completion_tokens\": 248,\n",
      "    \"total_tokens\": 272\n",
      "  }\n",
      "}\n"
     ]
    }
   ],
   "source": [
    "response = openai.ChatCompletion.create(\n",
    "    engine=model,\n",
    "    messages=[\n",
    "        {\"role\": \"system\", \"content\": \"You are a helpful AI assistant.\"},\n",
    "        {\"role\": \"user\", \"content\": question},\n",
    "    ],\n",
    ")\n",
    "\n",
    "print(response)"
   ]
  },
  {
   "cell_type": "code",
   "execution_count": 8,
   "id": "290db3dd",
   "metadata": {},
   "outputs": [
    {
     "name": "stdout",
     "output_type": "stream",
     "text": [
      "gpt-4-32k\n"
     ]
    }
   ],
   "source": [
    "print(response[\"model\"])"
   ]
  },
  {
   "cell_type": "code",
   "execution_count": 9,
   "id": "d3ee9faa",
   "metadata": {},
   "outputs": [
    {
     "name": "stdout",
     "output_type": "stream",
     "text": [
      "{\n",
      "  \"prompt_tokens\": 24,\n",
      "  \"completion_tokens\": 248,\n",
      "  \"total_tokens\": 272\n",
      "}\n"
     ]
    }
   ],
   "source": [
    "print(response[\"usage\"])"
   ]
  },
  {
   "cell_type": "code",
   "execution_count": 10,
   "id": "80a38ecb",
   "metadata": {},
   "outputs": [
    {
     "name": "stdout",
     "output_type": "stream",
     "text": [
      "272\n"
     ]
    }
   ],
   "source": [
    "print(response[\"usage\"][\"total_tokens\"])"
   ]
  },
  {
   "cell_type": "code",
   "execution_count": 11,
   "id": "41061dc3",
   "metadata": {},
   "outputs": [
    {
     "name": "stdout",
     "output_type": "stream",
     "text": [
      "Azure Cognitive Services are a collection of application programming interfaces (APIs), SDKs, and services provided by Microsoft that developers use to build AI-powered applications on the Microsoft Azure cloud platform.\n",
      "\n",
      "These services allow developers to easily incorporate intelligent features into their applications, such as natural language understanding, speech recognition, text-to-speech, computer vision, decision-making capabilities, and more, without needing specialized knowledge in machine learning or artificial intelligence.\n",
      "\n",
      "The capabilities of Cognitive Services are categorized into five main categories: \n",
      "\n",
      "1. Vision: These services can analyze images and videos to provide useful information, detect faces or objects, and even recognize handwriting.\n",
      "\n",
      "2. Speech: This involves converting spoken content to text and vice versa. It can also be used to identify the speaker.\n",
      "\n",
      "3. Language: These services can comprehend and generate human language. They can be used to understand what users mean when they input a text or to generate human-like text as output.\n",
      "\n",
      "4. Decision: This involves prediction capabilities that enable your apps to make recommendations or identify fraudulent activities.\n",
      "\n",
      "5. Web Search: These services can offer detailed search capabilities within your apps.\n",
      "\n",
      "These services can be used in various industries for a broad range of applications including customer service, e-commerce, healthcare, and many more.\n"
     ]
    }
   ],
   "source": [
    "print(response[\"choices\"][0][\"message\"][\"content\"])"
   ]
  },
  {
   "cell_type": "code",
   "execution_count": null,
   "id": "297300a8",
   "metadata": {},
   "outputs": [],
   "source": []
  }
 ],
 "metadata": {
  "kernelspec": {
   "display_name": "Python 3.10 - SDK v2",
   "language": "python",
   "name": "python310-sdkv2"
  },
  "language_info": {
   "codemirror_mode": {
    "name": "ipython",
    "version": 3
   },
   "file_extension": ".py",
   "mimetype": "text/x-python",
   "name": "python",
   "nbconvert_exporter": "python",
   "pygments_lexer": "ipython3",
   "version": "3.10.10"
  }
 },
 "nbformat": 4,
 "nbformat_minor": 5
}
