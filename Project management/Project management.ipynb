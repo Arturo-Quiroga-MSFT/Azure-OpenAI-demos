{
 "cells": [
  {
   "cell_type": "markdown",
   "id": "20e46c2f",
   "metadata": {},
   "source": [
    "# Project management"
   ]
  },
  {
   "cell_type": "code",
   "execution_count": 1,
   "id": "a9ed10c4",
   "metadata": {},
   "outputs": [],
   "source": [
    "import datetime\n",
    "import os\n",
    "import openai\n",
    "import sys\n",
    "\n",
    "from dotenv import load_dotenv"
   ]
  },
  {
   "cell_type": "code",
   "execution_count": 2,
   "id": "9b28ee68",
   "metadata": {},
   "outputs": [
    {
     "name": "stdout",
     "output_type": "stream",
     "text": [
      "Today is: 21-Sep-2023 08:27:20\n"
     ]
    }
   ],
   "source": [
    "print('Today is:', datetime.datetime.today().strftime('%d-%b-%Y %H:%M:%S'))"
   ]
  },
  {
   "cell_type": "code",
   "execution_count": 3,
   "id": "bacb98f7",
   "metadata": {},
   "outputs": [
    {
     "name": "stdout",
     "output_type": "stream",
     "text": [
      "Open AI version: 0.28.0\n"
     ]
    }
   ],
   "source": [
    "load_dotenv(\"azure.env\")\n",
    "\n",
    "# Azure Open AI\n",
    "openai.api_type: str = \"azure\"\n",
    "openai.api_key = os.getenv(\"OPENAI_API_KEY\")\n",
    "openai.api_base = os.getenv(\"OPENAI_API_BASE\")\n",
    "openai.api_version = os.getenv(\"OPENAI_API_VERSION\")\n",
    "\n",
    "print(\"Open AI version:\", openai.__version__)"
   ]
  },
  {
   "cell_type": "code",
   "execution_count": 4,
   "id": "3e9bd760",
   "metadata": {},
   "outputs": [
    {
     "data": {
      "text/plain": [
       "'3.10.10 (main, Mar 21 2023, 18:45:11) [GCC 11.2.0]'"
      ]
     },
     "execution_count": 4,
     "metadata": {},
     "output_type": "execute_result"
    }
   ],
   "source": [
    "sys.version"
   ]
  },
  {
   "cell_type": "markdown",
   "id": "0c0ce884",
   "metadata": {},
   "source": [
    "## Testing"
   ]
  },
  {
   "cell_type": "code",
   "execution_count": 5,
   "id": "5d782d44",
   "metadata": {},
   "outputs": [],
   "source": [
    "text = \"\"\"\n",
    "Hello Sophie, how are you?\n",
    "\n",
    "Hi John, I'm fine, thank you. And how are you?\n",
    "\n",
    "I'm fine too, thank you. I wanted to give you an update on the progress of the project we started 3 months ago in March 2023. We've finished the foundations and the outside walls are under construction.\n",
    "\n",
    "It's going very well. What's your timetable for the next stages?\n",
    "\n",
    "We're planning to finish the exterior walls in the next two weeks, and then we'll concentrate on the interior walls and the roof. We should be able to complete these stages within four weeks. Then we'll start work on the interior.\n",
    "\n",
    "That's perfect. What risks of delay have you anticipated?\n",
    "\n",
    "The risks include delays in the delivery of materials, adverse weather conditions and labour supply problems. We have taken steps to mitigate these risks, including ensuring that materials are ordered early enough and hiring extra workers for peak periods.\n",
    "\n",
    "That's all very well. I'm pleased to see that you have anticipated these risks and taken steps to mitigate them.\n",
    "\n",
    "Yes, we are committed to delivering this project on time and to the agreed specification. We will continue to keep you informed of progress and any changes to the schedule.\n",
    "\n",
    "Please do not hesitate to contact me if you have any further questions or concerns.\n",
    "\n",
    "Thank you, John. I'll let you know if I need any further information.\n",
    "\"\"\""
   ]
  },
  {
   "cell_type": "code",
   "execution_count": 6,
   "id": "35a038a1",
   "metadata": {},
   "outputs": [
    {
     "name": "stdout",
     "output_type": "stream",
     "text": [
      "\n",
      "Hello Sophie, how are you?\n",
      "\n",
      "Hi John, I'm fine, thank you. And how are you?\n",
      "\n",
      "I'm fine too, thank you. I wanted to give you an update on the progress of the project we started 3 months ago in March 2023. We've finished the foundations and the outside walls are under construction.\n",
      "\n",
      "It's going very well. What's your timetable for the next stages?\n",
      "\n",
      "We're planning to finish the exterior walls in the next two weeks, and then we'll concentrate on the interior walls and the roof. We should be able to complete these stages within four weeks. Then we'll start work on the interior.\n",
      "\n",
      "That's perfect. What risks of delay have you anticipated?\n",
      "\n",
      "The risks include delays in the delivery of materials, adverse weather conditions and labour supply problems. We have taken steps to mitigate these risks, including ensuring that materials are ordered early enough and hiring extra workers for peak periods.\n",
      "\n",
      "That's all very well. I'm pleased to see that you have anticipated these risks and taken steps to mitigate them.\n",
      "\n",
      "Yes, we are committed to delivering this project on time and to the agreed specification. We will continue to keep you informed of progress and any changes to the schedule.\n",
      "\n",
      "Please do not hesitate to contact me if you have any further questions or concerns.\n",
      "\n",
      "Thank you, John. I'll let you know if I need any further information.\n",
      "\n"
     ]
    }
   ],
   "source": [
    "print(text)"
   ]
  },
  {
   "cell_type": "code",
   "execution_count": 7,
   "id": "1a4b5443",
   "metadata": {},
   "outputs": [],
   "source": [
    "model = \"text-davinci-003\""
   ]
  },
  {
   "cell_type": "code",
   "execution_count": 8,
   "id": "c2dd2175",
   "metadata": {},
   "outputs": [],
   "source": [
    "def azure_openai(prompt, temperature=0.8):\n",
    "    \"\"\"\n",
    "    Get Azure Open AI results\n",
    "    \"\"\"\n",
    "    results = openai.Completion.create(\n",
    "        engine=model,\n",
    "        prompt=prompt,\n",
    "        temperature=temperature,\n",
    "        max_tokens=800,\n",
    "    )\n",
    "\n",
    "    answer = results[\"choices\"][0][\"text\"].strip(\"\\n\")\n",
    "\n",
    "    return answer"
   ]
  },
  {
   "cell_type": "code",
   "execution_count": 9,
   "id": "d1d95fa3",
   "metadata": {},
   "outputs": [],
   "source": [
    "prompt = (\n",
    "    \"You are a planificator expert. Can you extract the main steps of this project?\"\n",
    ")"
   ]
  },
  {
   "cell_type": "code",
   "execution_count": 10,
   "id": "8de587c0",
   "metadata": {},
   "outputs": [
    {
     "name": "stdout",
     "output_type": "stream",
     "text": [
      "1. Establish project objectives: Identify desired outcomes, create project timeline, identify key stakeholders.\n",
      "2. Gather resources: Assess resources needed, research potential vendors, create budget.\n",
      "3. Develop project plan: Create detailed timeline and project milestones, assign tasks, ensure deadlines are met.\n",
      "4. Execute plan: Monitor progress, communicate with stakeholders, adjust project plan as necessary.\n",
      "5. Test and evaluate: Analyze results, identify any issues, make necessary adjustments.\n",
      "6. Finalize project: Celebrate successes, document results, provide feedback to stakeholders.\n"
     ]
    }
   ],
   "source": [
    "answer = azure_openai(prompt)\n",
    "print(answer)"
   ]
  },
  {
   "cell_type": "code",
   "execution_count": 11,
   "id": "ac6d999f",
   "metadata": {},
   "outputs": [],
   "source": [
    "prompt = \"You are a planificator expert. Print the main steps into a json file\""
   ]
  },
  {
   "cell_type": "code",
   "execution_count": 12,
   "id": "e51efddc",
   "metadata": {},
   "outputs": [
    {
     "name": "stdout",
     "output_type": "stream",
     "text": [
      "Steps:\n",
      "\n",
      "1. Analyze the project:\n",
      "  {\n",
      "  \"step\": \"Analyze the project\",\n",
      "  \"action\": \"Evaluate the scope and goals of the project, and identify any potential risks or challenges.\"\n",
      "  }\n",
      "\n",
      "2. Create the plan:\n",
      "  {\n",
      "  \"step\": \"Create the plan\",\n",
      "  \"action\": \"Outline the steps that need to be taken and the resources necessary to complete the project.\"\n",
      "  }\n",
      "\n",
      "3. Schedule the tasks:\n",
      "  {\n",
      "  \"step\": \"Schedule the tasks\",\n",
      "  \"action\": \"Determine the timeline for each task and assign each task to resources.\"\n",
      "  }\n",
      "\n",
      "4. Monitor progress:\n",
      "  {\n",
      "  \"step\": \"Monitor progress\",\n",
      "  \"action\": \"Regularly track progress, identify any issues, and adjust the plan accordingly.\"\n",
      "  }\n",
      "\n",
      "5. Report the results:\n",
      "  {\n",
      "  \"step\": \"Report the results\",\n",
      "  \"action\": \"Provide updates to stakeholders and present the final results of the project.\"\n",
      "  }\n"
     ]
    }
   ],
   "source": [
    "answer = azure_openai(prompt)\n",
    "print(answer)"
   ]
  },
  {
   "cell_type": "code",
   "execution_count": 13,
   "id": "d6c10a4b",
   "metadata": {},
   "outputs": [],
   "source": [
    "prompt = \"You are a planificator expert. Generate e a python code for a GANTT chart\""
   ]
  },
  {
   "cell_type": "code",
   "execution_count": 14,
   "id": "c5dbfc48",
   "metadata": {},
   "outputs": [
    {
     "name": "stdout",
     "output_type": "stream",
     "text": [
      "import matplotlib.pyplot as plt\n",
      "\n",
      "# Defining the Gantt chart data \n",
      "Activity=['Task1','Task2','Task3','Task4','Task5']\n",
      "Start_date=[1,3,0,5,8]\n",
      "Finish_date=[4,5,6,7,9]\n",
      "\n",
      "# Setting the axes \n",
      "fig, ax = plt.subplots()\n",
      "ax.axis('tight')\n",
      "ax.axis('off')\n",
      " \n",
      "# Creating table positions\n",
      "my_table = plt.table(cellText=None,\n",
      "                      cellLoc='center',\n",
      "                      rowLabels=Activity,\n",
      "                      colLabels=None,\n",
      "                      colWidths=[0.2]*2,\n",
      "                      cellColours=None,\n",
      "                      rowColours=None,\n",
      "                      rowLoc='left',\n",
      "                      loc='center')\n",
      "\n",
      "# Table Properties\n",
      "table_props=my_table.properties()\n",
      "table_cells=table_props['child_artists'] \n",
      "for cell in table_cells: \n",
      "    cell.set_height(0.2)\n",
      "\n",
      "# Plotting the Gantt chart\n",
      "for i in range(len(Activity)):\n",
      "    ax.broken_barh([(Start_date[i],Finish_date[i]-Start_date[i])],\n",
      "                   (2*i+1,1),\n",
      "                   facecolors =('red','green'))\n",
      "\n",
      "# Setting ticks\n",
      "Yticks=[]\n",
      "for i in range(len(Activity)*2+1):\n",
      "    Yticks.append(i+1)\n",
      "\n",
      "plt.yticks(Yticks,Activity)\n",
      "plt.ylim(0,len(Activity)*2+2)\n",
      "plt.xlim(0,max(Finish_date)+2)\n",
      "plt.show()\n"
     ]
    }
   ],
   "source": [
    "answer = azure_openai(prompt)\n",
    "print(answer)"
   ]
  },
  {
   "cell_type": "code",
   "execution_count": 15,
   "id": "4b3e9933",
   "metadata": {},
   "outputs": [],
   "source": [
    "prompt = (\n",
    "    \"You are a planificator expert. Generate the code for a Mermaid Markdown project\"\n",
    ")"
   ]
  },
  {
   "cell_type": "code",
   "execution_count": 16,
   "id": "cc61eefa",
   "metadata": {},
   "outputs": [
    {
     "name": "stdout",
     "output_type": "stream",
     "text": [
      ":\n",
      "\n",
      "```\n",
      "\n",
      "graph LR\n",
      "    A[Start] --> B[Identify stakeholders]\n",
      "    B --> C[Establish timeline]\n",
      "    C --> D[Define objectives]\n",
      "    D --> E[Develop plan]\n",
      "    E --> F[Gather resources]\n",
      "    F --> G[Execute plan]\n",
      "    G --> H[Evaluate outcomes]\n",
      "    H --> I[End]\n",
      "\n",
      "```\n"
     ]
    }
   ],
   "source": [
    "answer = azure_openai(prompt)\n",
    "print(answer)"
   ]
  },
  {
   "cell_type": "code",
   "execution_count": 17,
   "id": "03c064da",
   "metadata": {},
   "outputs": [],
   "source": [
    "prompt = (\n",
    "    \"You are a planificator expert. Generate a neutral Linkedin post of this project\"\n",
    ")"
   ]
  },
  {
   "cell_type": "code",
   "execution_count": 18,
   "id": "1cc67041",
   "metadata": {},
   "outputs": [
    {
     "name": "stdout",
     "output_type": "stream",
     "text": [
      "I'm excited to share the successful completion of a project I recently worked on - developing a planificator system for a company. The system was designed to improve efficiency and productivity by accurately and efficiently planning tasks. It was a great experience to work on this project and I'm proud of the successful outcome. #planificator #efficiency #productivity\n"
     ]
    }
   ],
   "source": [
    "answer = azure_openai(prompt)\n",
    "print(answer)"
   ]
  },
  {
   "cell_type": "code",
   "execution_count": 19,
   "id": "784b1608",
   "metadata": {},
   "outputs": [],
   "source": [
    "prompt = \"You are a twitter redactor. Please generate a post about this project using some emojis\""
   ]
  },
  {
   "cell_type": "code",
   "execution_count": 20,
   "id": "bddd85f9",
   "metadata": {},
   "outputs": [
    {
     "name": "stdout",
     "output_type": "stream",
     "text": [
      "🤩 Check out this 🤩 incredible project 🚀 that I'm working on! It's sure to make a 🌎 of difference. 🤩 #MakingADifference #ProjectLife 🔨\n"
     ]
    }
   ],
   "source": [
    "answer = azure_openai(prompt)\n",
    "print(answer)"
   ]
  },
  {
   "cell_type": "code",
   "execution_count": null,
   "id": "64b9539d",
   "metadata": {},
   "outputs": [],
   "source": []
  }
 ],
 "metadata": {
  "kernelspec": {
   "display_name": "Python 3.10 - SDK v2",
   "language": "python",
   "name": "python310-sdkv2"
  },
  "language_info": {
   "codemirror_mode": {
    "name": "ipython",
    "version": 3
   },
   "file_extension": ".py",
   "mimetype": "text/x-python",
   "name": "python",
   "nbconvert_exporter": "python",
   "pygments_lexer": "ipython3",
   "version": "3.10.10"
  }
 },
 "nbformat": 4,
 "nbformat_minor": 5
}
