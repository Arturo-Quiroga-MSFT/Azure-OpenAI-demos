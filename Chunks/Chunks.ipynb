{
 "cells": [
  {
   "cell_type": "markdown",
   "id": "126a8975",
   "metadata": {},
   "source": [
    "# Chunks"
   ]
  },
  {
   "cell_type": "code",
   "execution_count": 1,
   "id": "fec91059",
   "metadata": {},
   "outputs": [],
   "source": [
    "import csv\n",
    "import datetime\n",
    "import openai\n",
    "import math\n",
    "import sys\n",
    "import tiktoken\n",
    "\n",
    "from dotenv import load_dotenv\n",
    "from openai.embeddings_utils import cosine_similarity"
   ]
  },
  {
   "cell_type": "code",
   "execution_count": 2,
   "id": "9409da89",
   "metadata": {},
   "outputs": [
    {
     "name": "stdout",
     "output_type": "stream",
     "text": [
      "Today is: 21-Sep-2023 08:30:52\n"
     ]
    }
   ],
   "source": [
    "print('Today is:', datetime.datetime.today().strftime ('%d-%b-%Y %H:%M:%S'))"
   ]
  },
  {
   "cell_type": "code",
   "execution_count": 3,
   "id": "327a5390",
   "metadata": {},
   "outputs": [
    {
     "name": "stdout",
     "output_type": "stream",
     "text": [
      "Open AI version: 0.28.0\n"
     ]
    }
   ],
   "source": [
    "load_dotenv(\"azure.env\")\n",
    "\n",
    "# Azure Open AI\n",
    "openai.api_type: str = \"azure\"\n",
    "openai.api_key = os.getenv(\"OPENAI_API_KEY\")\n",
    "openai.api_base = os.getenv(\"OPENAI_API_BASE\")\n",
    "openai.api_version = os.getenv(\"OPENAI_API_VERSION\")\n",
    "\n",
    "print(\"Open AI version:\", openai.__version__)"
   ]
  },
  {
   "cell_type": "code",
   "execution_count": 4,
   "id": "adafb4c2",
   "metadata": {},
   "outputs": [
    {
     "data": {
      "text/plain": [
       "'3.10.10 (main, Mar 21 2023, 18:45:11) [GCC 11.2.0]'"
      ]
     },
     "execution_count": 4,
     "metadata": {},
     "output_type": "execute_result"
    }
   ],
   "source": [
    "sys.version"
   ]
  },
  {
   "cell_type": "code",
   "execution_count": 5,
   "id": "64f31d8d",
   "metadata": {},
   "outputs": [],
   "source": [
    "def split_text(text, chunk_size):\n",
    "    \"\"\"\n",
    "    Split text\n",
    "    \"\"\"\n",
    "    return [text[i : i + chunk_size] for i in range(0, len(text), chunk_size)]"
   ]
  },
  {
   "cell_type": "code",
   "execution_count": 6,
   "id": "0203ef58",
   "metadata": {},
   "outputs": [],
   "source": [
    "def get_embeddings(text_chunks):\n",
    "    \"\"\"\n",
    "    Create embeddings\n",
    "    \"\"\"\n",
    "    try:\n",
    "        prepared_chunks = [chunk.replace(\"\\n\", \" \") for chunk in text_chunks]\n",
    "\n",
    "        response = openai.Embedding.create(\n",
    "            input=prepared_chunks,\n",
    "            deployment_id=\"text-embedding-ada-002\",\n",
    "        )\n",
    "\n",
    "        if response and \"data\" in response:\n",
    "            embeddings = [data[\"embedding\"] for data in response[\"data\"]]\n",
    "            return embeddings\n",
    "\n",
    "    except Exception as e:\n",
    "        print(f\"Error creating embeddings: {e}\")\n",
    "\n",
    "    return []"
   ]
  },
  {
   "cell_type": "code",
   "execution_count": 7,
   "id": "95da0e7a",
   "metadata": {},
   "outputs": [],
   "source": [
    "def export_embeddings_to_csv(embeddings, csv_filename):\n",
    "    \"\"\"\n",
    "    Export embeddings to csv\n",
    "    \"\"\"\n",
    "    with open(csv_filename, \"w\", newline=\"\") as csvfile:\n",
    "        csv_writer = csv.writer(csvfile)\n",
    "        csv_writer.writerows(embeddings)\n",
    "    print(\"Embeddings have been saved in:\", csv_filename)"
   ]
  },
  {
   "cell_type": "code",
   "execution_count": 8,
   "id": "c018eeee",
   "metadata": {},
   "outputs": [],
   "source": [
    "def import_embeddings_from_csv(csv_filename):\n",
    "    \"\"\"\n",
    "    Read embeddings from csv\n",
    "    \"\"\"\n",
    "    embeddings = []\n",
    "\n",
    "    if os.path.exists(csv_filename):\n",
    "        with open(csv_filename, \"r\", newline=\"\") as csv_file:\n",
    "            csv_reader = csv.reader(csv_file)\n",
    "            embeddings = [[float(value) for value in row] for row in csv_reader]\n",
    "        return embeddings\n",
    "    else:\n",
    "        print(\"Error. File does not exist.\")\n",
    "        return None"
   ]
  },
  {
   "cell_type": "code",
   "execution_count": 9,
   "id": "be797a60",
   "metadata": {},
   "outputs": [],
   "source": [
    "def export_chunks_to_csv(chunks, csv_filename):\n",
    "    \"\"\"\n",
    "    Write chunks to a csv file\n",
    "    \"\"\"\n",
    "    with open(csv_filename, \"w\", encoding=\"utf-8\", newline=\"\") as csv_file:\n",
    "        writer = csv.writer(csv_file)\n",
    "        writer.writerow([\"chunk\"])\n",
    "        writer.writerows([[chunk] for chunk in chunks])\n",
    "        print(\"Chunks have been saved in:\", csv_filename)"
   ]
  },
  {
   "cell_type": "code",
   "execution_count": 10,
   "id": "f9bfbfdb",
   "metadata": {},
   "outputs": [],
   "source": [
    "def import_chunks_from_csv(csv_filename):\n",
    "    \"\"\"\n",
    "    Read chunks from csv file\n",
    "    \"\"\"\n",
    "    chunks = []\n",
    "\n",
    "    if os.path.exists(csv_filename):\n",
    "        with open(csv_filename, \"r\", encoding=\"utf-8\", newline=\"\") as csv_file:\n",
    "            reader = csv.reader(csv_file)\n",
    "            next(reader)  # Skip header row\n",
    "            for row in reader:\n",
    "                chunks.append(row[0])\n",
    "        return chunks\n",
    "    else:\n",
    "        print(\"Error. File does not exist.\")\n",
    "        return None"
   ]
  },
  {
   "cell_type": "markdown",
   "id": "db2c43a9",
   "metadata": {},
   "source": [
    "## Document"
   ]
  },
  {
   "cell_type": "code",
   "execution_count": 11,
   "id": "2e972cba",
   "metadata": {},
   "outputs": [],
   "source": [
    "DOC_FILE = \"document.txt\""
   ]
  },
  {
   "cell_type": "code",
   "execution_count": 12,
   "id": "c38fb45a",
   "metadata": {},
   "outputs": [
    {
     "name": "stdout",
     "output_type": "stream",
     "text": [
      "-rwxrwxrwx 1 root root 78K Sep 13 10:45 document.txt\r\n"
     ]
    }
   ],
   "source": [
    "!ls $DOC_FILE -lh"
   ]
  },
  {
   "cell_type": "code",
   "execution_count": 13,
   "id": "d128f686",
   "metadata": {},
   "outputs": [],
   "source": [
    "with open(DOC_FILE, \"r\") as f:\n",
    "    mytext = f.read()"
   ]
  },
  {
   "cell_type": "code",
   "execution_count": 14,
   "id": "983fd129",
   "metadata": {},
   "outputs": [
    {
     "data": {
      "text/plain": [
       "78458"
      ]
     },
     "execution_count": 14,
     "metadata": {},
     "output_type": "execute_result"
    }
   ],
   "source": [
    "len(mytext)"
   ]
  },
  {
   "cell_type": "code",
   "execution_count": 15,
   "id": "19d80ddb",
   "metadata": {},
   "outputs": [
    {
     "name": "stdout",
     "output_type": "stream",
     "text": [
      "16085 tokens\n"
     ]
    }
   ],
   "source": [
    "encoding = tiktoken.get_encoding(\"cl100k_base\")\n",
    "encoding = tiktoken.encoding_for_model(\"text-embedding-ada-002\")\n",
    "print(f\"{len(encoding.encode(mytext))} tokens\")"
   ]
  },
  {
   "cell_type": "markdown",
   "id": "0fcf010b",
   "metadata": {},
   "source": [
    "## Generating chunks"
   ]
  },
  {
   "cell_type": "code",
   "execution_count": 16,
   "id": "46fec0ed",
   "metadata": {},
   "outputs": [
    {
     "data": {
      "text/plain": [
       "4"
      ]
     },
     "execution_count": 16,
     "metadata": {},
     "output_type": "execute_result"
    }
   ],
   "source": [
    "text_chunks = split_text(mytext, 20000)\n",
    "len(text_chunks)"
   ]
  },
  {
   "cell_type": "code",
   "execution_count": 17,
   "id": "c94b6209",
   "metadata": {},
   "outputs": [],
   "source": [
    "myembeddings = get_embeddings(text_chunks)"
   ]
  },
  {
   "cell_type": "code",
   "execution_count": 18,
   "id": "327f0d7d",
   "metadata": {},
   "outputs": [
    {
     "data": {
      "text/plain": [
       "4"
      ]
     },
     "execution_count": 18,
     "metadata": {},
     "output_type": "execute_result"
    }
   ],
   "source": [
    "len(myembeddings)"
   ]
  },
  {
   "cell_type": "code",
   "execution_count": 19,
   "id": "21d2fb61",
   "metadata": {},
   "outputs": [
    {
     "data": {
      "text/plain": [
       "1536"
      ]
     },
     "execution_count": 19,
     "metadata": {},
     "output_type": "execute_result"
    }
   ],
   "source": [
    "len(myembeddings[0])"
   ]
  },
  {
   "cell_type": "code",
   "execution_count": 20,
   "id": "ddf248c5",
   "metadata": {},
   "outputs": [
    {
     "data": {
      "text/plain": [
       "[-0.00039046857273206115,\n",
       " 0.018460722640156746,\n",
       " -0.0016234100330621004,\n",
       " -0.027231184765696526,\n",
       " -0.01879754848778248,\n",
       " -0.0011473177000880241,\n",
       " -0.002461429685354233,\n",
       " -0.012546813115477562,\n",
       " -0.007805322762578726,\n",
       " -0.01094040647149086]"
      ]
     },
     "execution_count": 20,
     "metadata": {},
     "output_type": "execute_result"
    }
   ],
   "source": [
    "myembeddings[0][:10]"
   ]
  },
  {
   "cell_type": "code",
   "execution_count": 21,
   "id": "c7c9b76a",
   "metadata": {},
   "outputs": [
    {
     "name": "stdout",
     "output_type": "stream",
     "text": [
      "Chunk 1 = 4033 tokens\n",
      "Chunk 2 = 3964 tokens\n",
      "Chunk 3 = 4091 tokens\n",
      "Chunk 4 = 3999 tokens\n"
     ]
    }
   ],
   "source": [
    "for i in range(len(text_chunks)):\n",
    "    print(f\"Chunk {i+1} = {len(encoding.encode(text_chunks[i]))} tokens\")"
   ]
  },
  {
   "cell_type": "markdown",
   "id": "0082d051",
   "metadata": {},
   "source": [
    "## Saving embeddings"
   ]
  },
  {
   "cell_type": "code",
   "execution_count": 22,
   "id": "0862194d",
   "metadata": {},
   "outputs": [],
   "source": [
    "embeddings_file = \"embeddings.csv\""
   ]
  },
  {
   "cell_type": "code",
   "execution_count": 23,
   "id": "efa94119",
   "metadata": {},
   "outputs": [
    {
     "name": "stdout",
     "output_type": "stream",
     "text": [
      "Embeddings have been saved in: embeddings.csv\n"
     ]
    }
   ],
   "source": [
    "export_embeddings_to_csv(myembeddings, embeddings_file)"
   ]
  },
  {
   "cell_type": "code",
   "execution_count": 24,
   "id": "1a8e3315",
   "metadata": {},
   "outputs": [
    {
     "name": "stdout",
     "output_type": "stream",
     "text": [
      "-rwxrwxrwx 1 root root 129K Sep 21 08:30 embeddings.csv\r\n"
     ]
    }
   ],
   "source": [
    "!ls $embeddings_file -lh"
   ]
  },
  {
   "cell_type": "markdown",
   "id": "557e1b06",
   "metadata": {},
   "source": [
    "## Saving chunks"
   ]
  },
  {
   "cell_type": "code",
   "execution_count": 25,
   "id": "09a7bdb4",
   "metadata": {},
   "outputs": [],
   "source": [
    "chunks_file = \"chunks.csv\""
   ]
  },
  {
   "cell_type": "code",
   "execution_count": 26,
   "id": "4cc38191",
   "metadata": {},
   "outputs": [
    {
     "name": "stdout",
     "output_type": "stream",
     "text": [
      "Chunks have been saved in: chunks.csv\n"
     ]
    }
   ],
   "source": [
    "export_chunks_to_csv(text_chunks, chunks_file)"
   ]
  },
  {
   "cell_type": "code",
   "execution_count": 27,
   "id": "77d02c69",
   "metadata": {},
   "outputs": [
    {
     "name": "stdout",
     "output_type": "stream",
     "text": [
      "-rwxrwxrwx 1 root root 77K Sep 21 08:30 chunks.csv\r\n"
     ]
    }
   ],
   "source": [
    "!ls $chunks_file -lh"
   ]
  },
  {
   "cell_type": "markdown",
   "id": "5f7d5f09",
   "metadata": {},
   "source": [
    "## Importing chunks from a file"
   ]
  },
  {
   "cell_type": "code",
   "execution_count": 28,
   "id": "530868a9",
   "metadata": {},
   "outputs": [],
   "source": [
    "mychunks = import_chunks_from_csv(chunks_file)"
   ]
  },
  {
   "cell_type": "code",
   "execution_count": 29,
   "id": "43630bd1",
   "metadata": {},
   "outputs": [
    {
     "data": {
      "text/plain": [
       "4"
      ]
     },
     "execution_count": 29,
     "metadata": {},
     "output_type": "execute_result"
    }
   ],
   "source": [
    "len(mychunks)"
   ]
  },
  {
   "cell_type": "markdown",
   "id": "16269d45",
   "metadata": {},
   "source": [
    "## Importing embeddings from a file"
   ]
  },
  {
   "cell_type": "code",
   "execution_count": 30,
   "id": "e1ff9107",
   "metadata": {},
   "outputs": [],
   "source": [
    "myemb = import_embeddings_from_csv(embeddings_file)"
   ]
  },
  {
   "cell_type": "code",
   "execution_count": null,
   "id": "c6817a15",
   "metadata": {},
   "outputs": [],
   "source": []
  },
  {
   "cell_type": "code",
   "execution_count": null,
   "id": "93aced62",
   "metadata": {},
   "outputs": [],
   "source": []
  }
 ],
 "metadata": {
  "kernelspec": {
   "display_name": "Python 3.10 - SDK v2",
   "language": "python",
   "name": "python310-sdkv2"
  },
  "language_info": {
   "codemirror_mode": {
    "name": "ipython",
    "version": 3
   },
   "file_extension": ".py",
   "mimetype": "text/x-python",
   "name": "python",
   "nbconvert_exporter": "python",
   "pygments_lexer": "ipython3",
   "version": "3.10.10"
  }
 },
 "nbformat": 4,
 "nbformat_minor": 5
}
