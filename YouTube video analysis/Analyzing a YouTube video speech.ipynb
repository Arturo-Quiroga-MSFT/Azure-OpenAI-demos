{
 "cells": [
  {
   "cell_type": "markdown",
   "id": "d607f926",
   "metadata": {},
   "source": [
    "# Analyzing a YouTube video speech"
   ]
  },
  {
   "cell_type": "code",
   "execution_count": 1,
   "id": "a9ed10c4",
   "metadata": {},
   "outputs": [],
   "source": [
    "import azure.cognitiveservices.speech as speechsdk\n",
    "import datetime\n",
    "import csv\n",
    "import json\n",
    "import librosa\n",
    "import matplotlib.pyplot as plt\n",
    "import openai\n",
    "import os\n",
    "import requests\n",
    "import sys\n",
    "import time\n",
    "import wave\n",
    "\n",
    "from dotenv import load_dotenv\n",
    "from pprint import pprint\n",
    "from pydub import AudioSegment\n",
    "from pytube import YouTube"
   ]
  },
  {
   "cell_type": "code",
   "execution_count": 2,
   "id": "7fd59164",
   "metadata": {},
   "outputs": [
    {
     "data": {
      "text/plain": [
       "'3.10.10 (main, Mar 21 2023, 18:45:11) [GCC 11.2.0]'"
      ]
     },
     "execution_count": 2,
     "metadata": {},
     "output_type": "execute_result"
    }
   ],
   "source": [
    "sys.version"
   ]
  },
  {
   "cell_type": "code",
   "execution_count": 3,
   "id": "dc727754",
   "metadata": {},
   "outputs": [
    {
     "name": "stdout",
     "output_type": "stream",
     "text": [
      "Today is: 21-Sep-2023 08:26:41\n"
     ]
    }
   ],
   "source": [
    "print('Today is:', datetime.datetime.today().strftime('%d-%b-%Y %H:%M:%S'))"
   ]
  },
  {
   "cell_type": "code",
   "execution_count": 4,
   "id": "bacb98f7",
   "metadata": {},
   "outputs": [
    {
     "name": "stdout",
     "output_type": "stream",
     "text": [
      "Open AI version: 0.28.0\n"
     ]
    }
   ],
   "source": [
    "load_dotenv(\"azure.env\")\n",
    "\n",
    "# Azure Open AI\n",
    "openai.api_type: str = \"azure\"\n",
    "openai.api_key = os.getenv(\"OPENAI_API_KEY\")\n",
    "openai.api_base = os.getenv(\"OPENAI_API_BASE\")\n",
    "openai.api_version = os.getenv(\"OPENAI_API_VERSION\")\n",
    "\n",
    "azure_speech_key = os.getenv(\"AZURE_SPEECH_KEY\")\n",
    "azure_service_region = os.getenv(\"AZURE_SPEECH_REGION\")\n",
    "\n",
    "print(\"Open AI version:\", openai.__version__)"
   ]
  },
  {
   "cell_type": "code",
   "execution_count": 5,
   "id": "1a4b5443",
   "metadata": {},
   "outputs": [],
   "source": [
    "model = \"text-davinci-003\""
   ]
  },
  {
   "cell_type": "markdown",
   "id": "79273b4d",
   "metadata": {},
   "source": [
    "### YouTube video"
   ]
  },
  {
   "cell_type": "code",
   "execution_count": 6,
   "id": "3d004eca",
   "metadata": {},
   "outputs": [],
   "source": [
    "youtube_video_url = \"https://www.youtube.com/watch?v=DaIYrlMOj7I\""
   ]
  },
  {
   "cell_type": "markdown",
   "id": "d60c90c7",
   "metadata": {},
   "source": [
    "### Downloading the video"
   ]
  },
  {
   "cell_type": "code",
   "execution_count": 7,
   "id": "4d1506d6",
   "metadata": {},
   "outputs": [],
   "source": [
    "yt = YouTube(youtube_video_url)\n",
    "\n",
    "audio = yt.streams.filter(only_audio=True).first()\n",
    "download_file = audio.download()"
   ]
  },
  {
   "cell_type": "code",
   "execution_count": 8,
   "id": "2148242f",
   "metadata": {},
   "outputs": [
    {
     "data": {
      "text/plain": [
       "<Stream: itag=\"139\" mime_type=\"audio/mp4\" abr=\"48kbps\" acodec=\"mp4a.40.5\" progressive=\"False\" type=\"audio\">"
      ]
     },
     "execution_count": 8,
     "metadata": {},
     "output_type": "execute_result"
    }
   ],
   "source": [
    "audio"
   ]
  },
  {
   "cell_type": "code",
   "execution_count": 9,
   "id": "ac27fdb4",
   "metadata": {},
   "outputs": [
    {
     "name": "stdout",
     "output_type": "stream",
     "text": [
      "-rwxrwxrwx 1 root root 463K Sep 21 08:26 'Azure AI Studio Satya Nadella at Microsoft Build 2023.mp4'\r\n",
      "-rwxrwxrwx 1 root root 463K Sep 20 14:46  audio.mp4\r\n"
     ]
    }
   ],
   "source": [
    "!ls *.mp4 -lh"
   ]
  },
  {
   "cell_type": "code",
   "execution_count": 10,
   "id": "d94356da",
   "metadata": {},
   "outputs": [],
   "source": [
    "audio_file = \"audio.mp4\""
   ]
  },
  {
   "cell_type": "code",
   "execution_count": 11,
   "id": "2a54af90",
   "metadata": {},
   "outputs": [],
   "source": [
    "os.rename(\"Azure AI Studio Satya Nadella at Microsoft Build 2023.mp4\", audio_file)"
   ]
  },
  {
   "cell_type": "markdown",
   "id": "6bf3d8f5",
   "metadata": {},
   "source": [
    "### Saving the audio mp4 file into wav"
   ]
  },
  {
   "cell_type": "code",
   "execution_count": 12,
   "id": "633688df",
   "metadata": {},
   "outputs": [
    {
     "data": {
      "text/plain": [
       "<_io.BufferedRandom name='audio.wav'>"
      ]
     },
     "execution_count": 12,
     "metadata": {},
     "output_type": "execute_result"
    }
   ],
   "source": [
    "wavfile = \"audio.wav\"\n",
    "\n",
    "# Load the MP4 audio as an AudioSegment\n",
    "audio = AudioSegment.from_file(audio_file, format=\"mp4\")\n",
    "\n",
    "# Export the audio as a WAV file\n",
    "audio.export(wavfile, format=\"wav\")"
   ]
  },
  {
   "cell_type": "code",
   "execution_count": 13,
   "id": "d7eb37ae",
   "metadata": {},
   "outputs": [
    {
     "name": "stdout",
     "output_type": "stream",
     "text": [
      "-rwxrwxrwx 1 root root 14M Sep 21 08:26 audio.wav\r\n"
     ]
    }
   ],
   "source": [
    "!ls $wavfile -lh"
   ]
  },
  {
   "cell_type": "code",
   "execution_count": 14,
   "id": "9a16fe9c",
   "metadata": {},
   "outputs": [
    {
     "name": "stdout",
     "output_type": "stream",
     "text": [
      "Number of Channels: 2\n",
      "Sample Width (bytes): 2\n",
      "Frame Rate (samples per second): 44100\n",
      "Total Number of Frames: 3418112\n",
      "Duration: 1 minutes and 17 seconds\n"
     ]
    }
   ],
   "source": [
    "with wave.open(wavfile, \"rb\") as wav_file:\n",
    "    # Get the number of channels (1 for mono, 2 for stereo, etc.)\n",
    "    num_channels = wav_file.getnchannels()\n",
    "\n",
    "    # Get the sample width in bytes (typically 2 for 16-bit audio)\n",
    "    sample_width = wav_file.getsampwidth()\n",
    "\n",
    "    # Get the frame rate (samples per second)\n",
    "    frame_rate = wav_file.getframerate()\n",
    "\n",
    "    # Get the total number of frames in the WAV file\n",
    "    num_frames = wav_file.getnframes()\n",
    "\n",
    "    # Calculate the duration of the audio in seconds\n",
    "    duration_seconds = num_frames / frame_rate\n",
    "\n",
    "    # Calculate the duration in minutes and seconds\n",
    "    duration_minutes = int(duration_seconds // 60)\n",
    "    duration_seconds = int(duration_seconds % 60)\n",
    "\n",
    "    # Print the information\n",
    "    print(f\"Number of Channels: {num_channels}\")\n",
    "    print(f\"Sample Width (bytes): {sample_width}\")\n",
    "    print(f\"Frame Rate (samples per second): {frame_rate}\")\n",
    "    print(f\"Total Number of Frames: {num_frames}\")\n",
    "    print(f\"Duration: {duration_minutes} minutes and {duration_seconds} seconds\")"
   ]
  },
  {
   "cell_type": "code",
   "execution_count": 15,
   "id": "393625fc",
   "metadata": {},
   "outputs": [],
   "source": [
    "def display_amplitude(audiofile):\n",
    "    \"\"\"\n",
    "    Get amplitude plot from a local audio file\n",
    "    \"\"\"\n",
    "    plt.figure(figsize=(15, 5))\n",
    "    # Reading the sound file\n",
    "    y, sr = librosa.load(audiofile)\n",
    "    # amplitude plot\n",
    "    librosa.display.waveshow(y, sr=sr)\n",
    "    title = \"Waveplot: \" + audiofile\n",
    "    plt.title(title, fontdict=dict(size=15))\n",
    "    plt.xlabel(\"Time\", fontdict=dict(size=12))\n",
    "    plt.ylabel(\"Amplitude\", fontdict=dict(size=12))\n",
    "\n",
    "    plt.show()"
   ]
  },
  {
   "cell_type": "code",
   "execution_count": 16,
   "id": "15675d32",
   "metadata": {},
   "outputs": [
    {
     "data": {
      "image/png": "[encoded data removed]",
      "text/plain": [
       "<Figure size 1500x500 with 1 Axes>"
      ]
     },
     "metadata": {},
     "output_type": "display_data"
    }
   ],
   "source": [
    "display_amplitude(wavfile)"
   ]
  },
  {
   "cell_type": "markdown",
   "id": "5f3a04f3",
   "metadata": {},
   "source": [
    "## Text to speech with Azure Speech"
   ]
  },
  {
   "cell_type": "code",
   "execution_count": 17,
   "id": "3f4ac579",
   "metadata": {},
   "outputs": [],
   "source": [
    "def azure_tts(audio_filepath, locale):\n",
    "    \"\"\"\n",
    "    Azure TTS\n",
    "    \"\"\"\n",
    "    audio_config = speechsdk.audio.AudioConfig(filename=audio_filepath)\n",
    "    speech_config = speechsdk.SpeechConfig(\n",
    "        subscription=azure_speech_key, region=azure_service_region\n",
    "    )\n",
    "    speech_config.request_word_level_timestamps()\n",
    "    speech_config.speech_recognition_language = locale\n",
    "    speech_config.output_format = speechsdk.OutputFormat(1)\n",
    "\n",
    "    # Creates a recognizer with the given settings\n",
    "    speech_recognizer = speechsdk.SpeechRecognizer(\n",
    "        speech_config=speech_config, audio_config=audio_config\n",
    "    )\n",
    "\n",
    "    # Variable to monitor status\n",
    "    done = False\n",
    "\n",
    "    # Service callback for recognition text\n",
    "    transcript_display_list = []\n",
    "    transcript_ITN_list = []\n",
    "    confidence_list = []\n",
    "    words = []\n",
    "\n",
    "    def parse_azure_result(evt):\n",
    "        import json\n",
    "\n",
    "        response = json.loads(evt.result.json)\n",
    "        transcript_display_list.append(response[\"DisplayText\"])\n",
    "        confidence_list_temp = [item.get(\"Confidence\") for item in response[\"NBest\"]]\n",
    "        max_confidence_index = confidence_list_temp.index(max(confidence_list_temp))\n",
    "        confidence_list.append(response[\"NBest\"][max_confidence_index][\"Confidence\"])\n",
    "        transcript_ITN_list.append(response[\"NBest\"][max_confidence_index][\"ITN\"])\n",
    "        words.extend(response[\"NBest\"][max_confidence_index][\"Words\"])\n",
    "\n",
    "    # Service callback that stops continuous recognition upon receiving an event `evt`\n",
    "    def stop_cb(evt):\n",
    "        print(\"CLOSING on {}\".format(evt))\n",
    "        speech_recognizer.stop_continuous_recognition()\n",
    "        nonlocal done\n",
    "        done = True\n",
    "\n",
    "        # Do something with the combined responses\n",
    "        print(transcript_display_list)\n",
    "        print(confidence_list)\n",
    "        print(words)\n",
    "\n",
    "    # Connect callbacks to the events fired by the speech recognizer\n",
    "    speech_recognizer.recognizing.connect(\n",
    "        lambda evt: logger.debug(\"RECOGNIZING: {}\".format(evt))\n",
    "    )\n",
    "    speech_recognizer.recognized.connect(parse_azure_result)\n",
    "    speech_recognizer.session_started.connect(\n",
    "        lambda evt: logger.debug(\"SESSION STARTED: {}\".format(evt))\n",
    "    )\n",
    "    speech_recognizer.session_stopped.connect(\n",
    "        lambda evt: logger.debug(\"SESSION STOPPED {}\".format(evt))\n",
    "    )\n",
    "    speech_recognizer.canceled.connect(\n",
    "        lambda evt: logger.debug(\"CANCELED {}\".format(evt))\n",
    "    )\n",
    "    # stop continuous recognition on either session stopped or canceled events\n",
    "    speech_recognizer.session_stopped.connect(stop_cb)\n",
    "    speech_recognizer.canceled.connect(stop_cb)\n",
    "\n",
    "    # Start continuous speech recognition\n",
    "    speech_recognizer.start_continuous_recognition()\n",
    "    while not done:\n",
    "        time.sleep(0.5)\n",
    "\n",
    "    return transcript_display_list, confidence_list, words"
   ]
  },
  {
   "cell_type": "code",
   "execution_count": 18,
   "id": "9ea73b07",
   "metadata": {},
   "outputs": [
    {
     "name": "stdout",
     "output_type": "stream",
     "text": [
      "CLOSING on SpeechRecognitionCanceledEventArgs(session_id=307556cce5914ded9a7e3fff38b608fe, result=SpeechRecognitionResult(result_id=286a401063964626aa032f131774114e, text=\"\", reason=ResultReason.Canceled))\n",
      "['Introducing Azure AI Studio, a full lifecycle tool to build, customize, train, evaluate and deploy the latest next generation models responsibly with just a few clicks. Developers can ground AI models with their structured and unstructured data to quickly and easily build customized, cutting edge conversational experiences for their customers. Developers can take advantage of a new model catalog that works with the popular models organizations use, including those.', 'From Azure Open AI Service, Hugging Face and many other open source models with Prompt Flow, developers can combine relevant data from your organization and create a detailed prompt to get better results. Prompt Flow works with Foundation internally developed or open source models and uses popular open source tools Lang Chain and Semantic Kernel. And because the AI systems we build are designed to support our AI principles with Azure AI content safety.', 'We are making it easier for you to test and evaluate your AI deployments for safety. This is Azure AI Studio, the trusted tools you need to build the next generation of AI applications.']\n",
      "[0.8719978, 0.8111747, 0.87798536]\n",
      "[{'Word': 'introducing', 'Offset': 2000000, 'Duration': 8100000, 'Confidence': 0.7578639}, {'Word': 'azure', 'Offset': 10200000, 'Duration': 5100000, 'Confidence': 0.69740736}, {'Word': 'AI', 'Offset': 15400000, 'Duration': 3700000, 'Confidence': 0.5534592}, {'Word': 'studio', 'Offset': 19200000, 'Duration': 8500000, 'Confidence': 0.96035683}, {'Word': 'a', 'Offset': 28200000, 'Duration': 1300000, 'Confidence': 0.5521275}, {'Word': 'full', 'Offset': 29600000, 'Duration': 3500000, 'Confidence': 0.9258533}, {'Word': 'lifecycle', 'Offset': 33200000, 'Duration': 6000000, 'Confidence': 0.8452919}, {'Word': 'tool', 'Offset': 39300000, 'Duration': 3400000, 'Confidence': 0.92282414}, {'Word': 'to', 'Offset': 42800000, 'Duration': 1300000, 'Confidence': 0.9029979}, {'Word': 'build', 'Offset': 44200000, 'Duration': 5700000, 'Confidence': 0.9780737}, {'Word': 'customized', 'Offset': 50600000, 'Duration': 8200000, 'Confidence': 0.9109986}, {'Word': 'train', 'Offset': 59600000, 'Duration': 5500000, 'Confidence': 0.9284376}, {'Word': 'evaluate', 'Offset': 65800000, 'Duration': 8300000, 'Confidence': 0.7802924}, {'Word': 'and', 'Offset': 74800000, 'Duration': 2100000, 'Confidence': 0.65765053}, {'Word': 'deploy', 'Offset': 77000000, 'Duration': 5700000, 'Confidence': 0.94880587}, {'Word': 'the', 'Offset': 82800000, 'Duration': 1900000, 'Confidence': 0.4422792}, {'Word': 'latest', 'Offset': 84800000, 'Duration': 4300000, 'Confidence': 0.97259027}, {'Word': 'next', 'Offset': 89200000, 'Duration': 3700000, 'Confidence': 0.8506696}, {'Word': 'generation', 'Offset': 93000000, 'Duration': 5900000, 'Confidence': 0.9556259}, {'Word': 'models', 'Offset': 99000000, 'Duration': 4100000, 'Confidence': 0.9304699}, {'Word': 'responsibly', 'Offset': 103200000, 'Duration': 11100000, 'Confidence': 0.8370292}, {'Word': 'with', 'Offset': 115200000, 'Duration': 2700000, 'Confidence': 0.8937814}, {'Word': 'just', 'Offset': 118000000, 'Duration': 3300000, 'Confidence': 0.92596996}, {'Word': 'a', 'Offset': 121400000, 'Duration': 500000, 'Confidence': 0.8539614}, {'Word': 'few', 'Offset': 122000000, 'Duration': 2700000, 'Confidence': 0.98627555}, {'Word': 'clicks', 'Offset': 124800000, 'Duration': 5100000, 'Confidence': 0.94213796}, {'Word': 'developers', 'Offset': 130000000, 'Duration': 6500000, 'Confidence': 0.80021274}, {'Word': 'can', 'Offset': 136600000, 'Duration': 1700000, 'Confidence': 0.96418893}, {'Word': 'ground', 'Offset': 138400000, 'Duration': 4100000, 'Confidence': 0.76432484}, {'Word': 'AI', 'Offset': 142600000, 'Duration': 3300000, 'Confidence': 0.31229144}, {'Word': 'models', 'Offset': 146000000, 'Duration': 3900000, 'Confidence': 0.9560258}, {'Word': 'with', 'Offset': 150000000, 'Duration': 1600000, 'Confidence': 0.8965095}, {'Word': 'their', 'Offset': 151700000, 'Duration': 2000000, 'Confidence': 0.757198}, {'Word': 'structured', 'Offset': 153800000, 'Duration': 4900000, 'Confidence': 0.8901137}, {'Word': 'and', 'Offset': 158800000, 'Duration': 1300000, 'Confidence': 0.82656497}, {'Word': 'unstructured', 'Offset': 160200000, 'Duration': 6900000, 'Confidence': 0.98924065}, {'Word': 'data', 'Offset': 167200000, 'Duration': 4300000, 'Confidence': 0.99041486}, {'Word': 'to', 'Offset': 172000000, 'Duration': 2100000, 'Confidence': 0.817796}, {'Word': 'quickly', 'Offset': 174200000, 'Duration': 5100000, 'Confidence': 0.86512375}, {'Word': 'and', 'Offset': 179400000, 'Duration': 1700000, 'Confidence': 0.9479934}, {'Word': 'easily', 'Offset': 181200000, 'Duration': 4500000, 'Confidence': 0.9913239}, {'Word': 'build', 'Offset': 185800000, 'Duration': 3700000, 'Confidence': 0.8904801}, {'Word': 'customized', 'Offset': 189600000, 'Duration': 7300000, 'Confidence': 0.9084524}, {'Word': 'cutting', 'Offset': 197000000, 'Duration': 3700000, 'Confidence': 0.93208915}, {'Word': 'edge', 'Offset': 200800000, 'Duration': 2500000, 'Confidence': 0.89160895}, {'Word': 'conversational', 'Offset': 203400000, 'Duration': 7800000, 'Confidence': 0.8402593}, {'Word': 'experiences', 'Offset': 211300000, 'Duration': 8000000, 'Confidence': 0.9597561}, {'Word': 'for', 'Offset': 219400000, 'Duration': 1100000, 'Confidence': 0.89207953}, {'Word': 'their', 'Offset': 220600000, 'Duration': 2100000, 'Confidence': 0.80133104}, {'Word': 'customers', 'Offset': 222800000, 'Duration': 7900000, 'Confidence': 0.9884963}, {'Word': 'developers', 'Offset': 237600000, 'Duration': 6400000, 'Confidence': 0.7436398}, {'Word': 'can', 'Offset': 244100000, 'Duration': 1200000, 'Confidence': 0.89178044}, {'Word': 'take', 'Offset': 245400000, 'Duration': 2200000, 'Confidence': 0.9623889}, {'Word': 'advantage', 'Offset': 247700000, 'Duration': 4100000, 'Confidence': 0.9908658}, {'Word': 'of', 'Offset': 251900000, 'Duration': 1000000, 'Confidence': 0.9108014}, {'Word': 'a', 'Offset': 253000000, 'Duration': 300000, 'Confidence': 0.67827356}, {'Word': 'new', 'Offset': 253400000, 'Duration': 2300000, 'Confidence': 0.9843834}, {'Word': 'model', 'Offset': 255800000, 'Duration': 2900000, 'Confidence': 0.9458448}, {'Word': 'catalog', 'Offset': 258800000, 'Duration': 7100000, 'Confidence': 0.85834897}, {'Word': 'that', 'Offset': 266400000, 'Duration': 2000000, 'Confidence': 0.7285096}, {'Word': 'works', 'Offset': 268500000, 'Duration': 2400000, 'Confidence': 0.8849993}, {'Word': 'with', 'Offset': 271000000, 'Duration': 1400000, 'Confidence': 0.9337076}, {'Word': 'the', 'Offset': 272500000, 'Duration': 1200000, 'Confidence': 0.8118163}, {'Word': 'popular', 'Offset': 273800000, 'Duration': 4500000, 'Confidence': 0.89025444}, {'Word': 'models', 'Offset': 278400000, 'Duration': 3500000, 'Confidence': 0.8615272}, {'Word': 'organizations', 'Offset': 282000000, 'Duration': 7700000, 'Confidence': 0.79823124}, {'Word': 'use', 'Offset': 289800000, 'Duration': 3900000, 'Confidence': 0.9528825}, {'Word': 'including', 'Offset': 294400000, 'Duration': 4600000, 'Confidence': 0.8776797}, {'Word': 'those', 'Offset': 299100000, 'Duration': 2500000, 'Confidence': 0.9406807}, {'Word': 'from', 'Offset': 302300000, 'Duration': 1600000, 'Confidence': 0.66303045}, {'Word': 'azure', 'Offset': 304000000, 'Duration': 3900000, 'Confidence': 0.41636953}, {'Word': 'open', 'Offset': 308000000, 'Duration': 2700000, 'Confidence': 0.8976896}, {'Word': 'AI', 'Offset': 310800000, 'Duration': 2700000, 'Confidence': 0.41737878}, {'Word': 'service', 'Offset': 313600000, 'Duration': 6700000, 'Confidence': 0.9147954}, {'Word': 'hugging', 'Offset': 321000000, 'Duration': 3500000, 'Confidence': 0.23417997}, {'Word': 'face', 'Offset': 324600000, 'Duration': 4900000, 'Confidence': 0.9684453}, {'Word': 'and', 'Offset': 330800000, 'Duration': 2300000, 'Confidence': 0.6842694}, {'Word': 'many', 'Offset': 333200000, 'Duration': 2900000, 'Confidence': 0.94847786}, {'Word': 'other', 'Offset': 336200000, 'Duration': 2900000, 'Confidence': 0.9814571}, {'Word': 'open', 'Offset': 339200000, 'Duration': 2700000, 'Confidence': 0.82410455}, {'Word': 'source', 'Offset': 342000000, 'Duration': 3500000, 'Confidence': 0.98438054}, {'Word': 'models', 'Offset': 345600000, 'Duration': 6100000, 'Confidence': 0.92952055}, {'Word': 'with', 'Offset': 356800000, 'Duration': 2900000, 'Confidence': 0.8988698}, {'Word': 'prompt', 'Offset': 359800000, 'Duration': 3300000, 'Confidence': 0.71933573}, {'Word': 'flow', 'Offset': 363200000, 'Duration': 5700000, 'Confidence': 0.72041386}, {'Word': 'developers', 'Offset': 369300000, 'Duration': 6600000, 'Confidence': 0.72776484}, {'Word': 'can', 'Offset': 376000000, 'Duration': 1700000, 'Confidence': 0.95099187}, {'Word': 'combine', 'Offset': 377800000, 'Duration': 5700000, 'Confidence': 0.8199652}, {'Word': 'relevant', 'Offset': 383600000, 'Duration': 4100000, 'Confidence': 0.7858395}, {'Word': 'data', 'Offset': 387800000, 'Duration': 3100000, 'Confidence': 0.9838746}, {'Word': 'from', 'Offset': 391000000, 'Duration': 1600000, 'Confidence': 0.94792724}, {'Word': 'your', 'Offset': 392700000, 'Duration': 1600000, 'Confidence': 0.75727624}, {'Word': 'organization', 'Offset': 394400000, 'Duration': 9300000, 'Confidence': 0.9706507}, {'Word': 'and', 'Offset': 404400000, 'Duration': 1900000, 'Confidence': 0.79968774}, {'Word': 'create', 'Offset': 406400000, 'Duration': 3700000, 'Confidence': 0.9236499}, {'Word': 'a', 'Offset': 410200000, 'Duration': 900000, 'Confidence': 0.8495734}, {'Word': 'detailed', 'Offset': 411200000, 'Duration': 4900000, 'Confidence': 0.89471567}, {'Word': 'prompt', 'Offset': 416200000, 'Duration': 4100000, 'Confidence': 0.7255228}, {'Word': 'to', 'Offset': 420400000, 'Duration': 1100000, 'Confidence': 0.9117694}, {'Word': 'get', 'Offset': 421600000, 'Duration': 1900000, 'Confidence': 0.970825}, {'Word': 'better', 'Offset': 423600000, 'Duration': 2300000, 'Confidence': 0.8450379}, {'Word': 'results', 'Offset': 426000000, 'Duration': 6500000, 'Confidence': 0.98533547}, {'Word': 'prompt', 'Offset': 435400000, 'Duration': 3900000, 'Confidence': 0.58556527}, {'Word': 'flow', 'Offset': 439400000, 'Duration': 2300000, 'Confidence': 0.7715581}, {'Word': 'works', 'Offset': 441800000, 'Duration': 2600000, 'Confidence': 0.8448876}, {'Word': 'with', 'Offset': 444500000, 'Duration': 1600000, 'Confidence': 0.87137675}, {'Word': 'foundation', 'Offset': 446200000, 'Duration': 8700000, 'Confidence': 0.8215104}, {'Word': 'internally', 'Offset': 455400000, 'Duration': 6200000, 'Confidence': 0.80237216}, {'Word': 'developed', 'Offset': 461700000, 'Duration': 5200000, 'Confidence': 0.9466406}, {'Word': 'or', 'Offset': 467000000, 'Duration': 2300000, 'Confidence': 0.808895}, {'Word': 'open', 'Offset': 469400000, 'Duration': 2900000, 'Confidence': 0.8570994}, {'Word': 'source', 'Offset': 472400000, 'Duration': 3300000, 'Confidence': 0.9701824}, {'Word': 'models', 'Offset': 475800000, 'Duration': 6100000, 'Confidence': 0.8840085}, {'Word': 'and', 'Offset': 483000000, 'Duration': 2100000, 'Confidence': 0.8451511}, {'Word': 'use', 'Offset': 485200000, 'Duration': 2100000, 'Confidence': 0.93086493}, {'Word': 'as', 'Offset': 487400000, 'Duration': 1500000, 'Confidence': 0.8370502}, {'Word': 'popular', 'Offset': 489000000, 'Duration': 5500000, 'Confidence': 0.74907035}, {'Word': 'open', 'Offset': 494600000, 'Duration': 2700000, 'Confidence': 0.88498557}, {'Word': 'source', 'Offset': 497400000, 'Duration': 2900000, 'Confidence': 0.9833325}, {'Word': 'tools', 'Offset': 500400000, 'Duration': 4700000, 'Confidence': 0.9853898}, {'Word': 'lang', 'Offset': 505600000, 'Duration': 3300000, 'Confidence': 0.42203444}, {'Word': 'chain', 'Offset': 509000000, 'Duration': 4300000, 'Confidence': 0.7831378}, {'Word': 'and', 'Offset': 514000000, 'Duration': 2500000, 'Confidence': 0.80495167}, {'Word': 'semantic', 'Offset': 516600000, 'Duration': 4900000, 'Confidence': 0.6352989}, {'Word': 'kernel', 'Offset': 521600000, 'Duration': 6500000, 'Confidence': 0.61253744}, {'Word': 'and', 'Offset': 535200000, 'Duration': 3500000, 'Confidence': 0.7957361}, {'Word': 'because', 'Offset': 538800000, 'Duration': 3500000, 'Confidence': 0.9484643}, {'Word': 'the', 'Offset': 542400000, 'Duration': 1200000, 'Confidence': 0.467159}, {'Word': 'AI', 'Offset': 543700000, 'Duration': 3200000, 'Confidence': 0.76475394}, {'Word': 'systems', 'Offset': 547000000, 'Duration': 3800000, 'Confidence': 0.72961366}, {'Word': 'we', 'Offset': 550900000, 'Duration': 1600000, 'Confidence': 0.8781197}, {'Word': 'build', 'Offset': 552600000, 'Duration': 3100000, 'Confidence': 0.9749899}, {'Word': 'are', 'Offset': 555800000, 'Duration': 1400000, 'Confidence': 0.55032414}, {'Word': 'designed', 'Offset': 557300000, 'Duration': 4400000, 'Confidence': 0.95870495}, {'Word': 'to', 'Offset': 561800000, 'Duration': 700000, 'Confidence': 0.9048621}, {'Word': 'support', 'Offset': 562600000, 'Duration': 4300000, 'Confidence': 0.97666705}, {'Word': 'our', 'Offset': 567000000, 'Duration': 1300000, 'Confidence': 0.59341395}, {'Word': 'AI', 'Offset': 568400000, 'Duration': 3300000, 'Confidence': 0.7372774}, {'Word': 'principles', 'Offset': 571800000, 'Duration': 7700000, 'Confidence': 0.78224003}, {'Word': 'with', 'Offset': 581600000, 'Duration': 2700000, 'Confidence': 0.8770335}, {'Word': 'azure', 'Offset': 584400000, 'Duration': 4100000, 'Confidence': 0.8540791}, {'Word': 'AI', 'Offset': 588600000, 'Duration': 3100000, 'Confidence': 0.8003121}, {'Word': 'content', 'Offset': 591800000, 'Duration': 4900000, 'Confidence': 0.59519607}, {'Word': 'safety', 'Offset': 596800000, 'Duration': 7900000, 'Confidence': 0.7019392}, {'Word': 'we', 'Offset': 606400000, 'Duration': 1700000, 'Confidence': 0.9073146}, {'Word': 'are', 'Offset': 608200000, 'Duration': 1200000, 'Confidence': 0.8890549}, {'Word': 'making', 'Offset': 609500000, 'Duration': 2600000, 'Confidence': 0.93198323}, {'Word': 'it', 'Offset': 612200000, 'Duration': 1100000, 'Confidence': 0.8804139}, {'Word': 'easier', 'Offset': 613400000, 'Duration': 4300000, 'Confidence': 0.9923524}, {'Word': 'for', 'Offset': 617800000, 'Duration': 1000000, 'Confidence': 0.9732722}, {'Word': 'you', 'Offset': 618900000, 'Duration': 1200000, 'Confidence': 0.95105016}, {'Word': 'to', 'Offset': 620200000, 'Duration': 900000, 'Confidence': 0.953781}, {'Word': 'test', 'Offset': 621200000, 'Duration': 4300000, 'Confidence': 0.8807141}, {'Word': 'and', 'Offset': 625600000, 'Duration': 1900000, 'Confidence': 0.8568304}, {'Word': 'evaluate', 'Offset': 627600000, 'Duration': 6300000, 'Confidence': 0.9815686}, {'Word': 'your', 'Offset': 634000000, 'Duration': 1700000, 'Confidence': 0.9539875}, {'Word': 'a', 'Offset': 635800000, 'Duration': 600000, 'Confidence': 0.42935103}, {'Word': 'AI', 'Offset': 636500000, 'Duration': 2000000, 'Confidence': 0.647237}, {'Word': 'deployments', 'Offset': 638600000, 'Duration': 6500000, 'Confidence': 0.8755101}, {'Word': 'for', 'Offset': 645200000, 'Duration': 1700000, 'Confidence': 0.9683849}, {'Word': 'safety', 'Offset': 647000000, 'Duration': 7900000, 'Confidence': 0.8821076}, {'Word': 'this', 'Offset': 659800000, 'Duration': 4300000, 'Confidence': 0.8178333}, {'Word': 'is', 'Offset': 664200000, 'Duration': 1700000, 'Confidence': 0.9427761}, {'Word': 'azure', 'Offset': 666000000, 'Duration': 4900000, 'Confidence': 0.721363}, {'Word': 'AI', 'Offset': 671000000, 'Duration': 3100000, 'Confidence': 0.5700643}, {'Word': 'studio', 'Offset': 674200000, 'Duration': 9500000, 'Confidence': 0.9682279}, {'Word': 'the', 'Offset': 684400000, 'Duration': 1900000, 'Confidence': 0.6255193}, {'Word': 'trusted', 'Offset': 686400000, 'Duration': 4700000, 'Confidence': 0.73109686}, {'Word': 'tools', 'Offset': 691200000, 'Duration': 3500000, 'Confidence': 0.88151294}, {'Word': 'you', 'Offset': 694800000, 'Duration': 1300000, 'Confidence': 0.87806463}, {'Word': 'need', 'Offset': 696200000, 'Duration': 2700000, 'Confidence': 0.9917407}, {'Word': 'to', 'Offset': 699000000, 'Duration': 1300000, 'Confidence': 0.9679371}, {'Word': 'build', 'Offset': 700400000, 'Duration': 2900000, 'Confidence': 0.97957355}, {'Word': 'the', 'Offset': 703400000, 'Duration': 1100000, 'Confidence': 0.787507}, {'Word': 'next', 'Offset': 704600000, 'Duration': 3300000, 'Confidence': 0.97564125}, {'Word': 'generation', 'Offset': 708000000, 'Duration': 6200000, 'Confidence': 0.97909987}, {'Word': 'of', 'Offset': 714300000, 'Duration': 1400000, 'Confidence': 0.8246224}, {'Word': 'AI', 'Offset': 715800000, 'Duration': 3700000, 'Confidence': 0.577454}, {'Word': 'applications', 'Offset': 719600000, 'Duration': 10700000, 'Confidence': 0.94417506}]\n",
      "CLOSING on SessionEventArgs(session_id=307556cce5914ded9a7e3fff38b608fe)\n",
      "['Introducing Azure AI Studio, a full lifecycle tool to build, customize, train, evaluate and deploy the latest next generation models responsibly with just a few clicks. Developers can ground AI models with their structured and unstructured data to quickly and easily build customized, cutting edge conversational experiences for their customers. Developers can take advantage of a new model catalog that works with the popular models organizations use, including those.', 'From Azure Open AI Service, Hugging Face and many other open source models with Prompt Flow, developers can combine relevant data from your organization and create a detailed prompt to get better results. Prompt Flow works with Foundation internally developed or open source models and uses popular open source tools Lang Chain and Semantic Kernel. And because the AI systems we build are designed to support our AI principles with Azure AI content safety.', 'We are making it easier for you to test and evaluate your AI deployments for safety. This is Azure AI Studio, the trusted tools you need to build the next generation of AI applications.']\n",
      "[0.8719978, 0.8111747, 0.87798536]\n",
      "[{'Word': 'introducing', 'Offset': 2000000, 'Duration': 8100000, 'Confidence': 0.7578639}, {'Word': 'azure', 'Offset': 10200000, 'Duration': 5100000, 'Confidence': 0.69740736}, {'Word': 'AI', 'Offset': 15400000, 'Duration': 3700000, 'Confidence': 0.5534592}, {'Word': 'studio', 'Offset': 19200000, 'Duration': 8500000, 'Confidence': 0.96035683}, {'Word': 'a', 'Offset': 28200000, 'Duration': 1300000, 'Confidence': 0.5521275}, {'Word': 'full', 'Offset': 29600000, 'Duration': 3500000, 'Confidence': 0.9258533}, {'Word': 'lifecycle', 'Offset': 33200000, 'Duration': 6000000, 'Confidence': 0.8452919}, {'Word': 'tool', 'Offset': 39300000, 'Duration': 3400000, 'Confidence': 0.92282414}, {'Word': 'to', 'Offset': 42800000, 'Duration': 1300000, 'Confidence': 0.9029979}, {'Word': 'build', 'Offset': 44200000, 'Duration': 5700000, 'Confidence': 0.9780737}, {'Word': 'customized', 'Offset': 50600000, 'Duration': 8200000, 'Confidence': 0.9109986}, {'Word': 'train', 'Offset': 59600000, 'Duration': 5500000, 'Confidence': 0.9284376}, {'Word': 'evaluate', 'Offset': 65800000, 'Duration': 8300000, 'Confidence': 0.7802924}, {'Word': 'and', 'Offset': 74800000, 'Duration': 2100000, 'Confidence': 0.65765053}, {'Word': 'deploy', 'Offset': 77000000, 'Duration': 5700000, 'Confidence': 0.94880587}, {'Word': 'the', 'Offset': 82800000, 'Duration': 1900000, 'Confidence': 0.4422792}, {'Word': 'latest', 'Offset': 84800000, 'Duration': 4300000, 'Confidence': 0.97259027}, {'Word': 'next', 'Offset': 89200000, 'Duration': 3700000, 'Confidence': 0.8506696}, {'Word': 'generation', 'Offset': 93000000, 'Duration': 5900000, 'Confidence': 0.9556259}, {'Word': 'models', 'Offset': 99000000, 'Duration': 4100000, 'Confidence': 0.9304699}, {'Word': 'responsibly', 'Offset': 103200000, 'Duration': 11100000, 'Confidence': 0.8370292}, {'Word': 'with', 'Offset': 115200000, 'Duration': 2700000, 'Confidence': 0.8937814}, {'Word': 'just', 'Offset': 118000000, 'Duration': 3300000, 'Confidence': 0.92596996}, {'Word': 'a', 'Offset': 121400000, 'Duration': 500000, 'Confidence': 0.8539614}, {'Word': 'few', 'Offset': 122000000, 'Duration': 2700000, 'Confidence': 0.98627555}, {'Word': 'clicks', 'Offset': 124800000, 'Duration': 5100000, 'Confidence': 0.94213796}, {'Word': 'developers', 'Offset': 130000000, 'Duration': 6500000, 'Confidence': 0.80021274}, {'Word': 'can', 'Offset': 136600000, 'Duration': 1700000, 'Confidence': 0.96418893}, {'Word': 'ground', 'Offset': 138400000, 'Duration': 4100000, 'Confidence': 0.76432484}, {'Word': 'AI', 'Offset': 142600000, 'Duration': 3300000, 'Confidence': 0.31229144}, {'Word': 'models', 'Offset': 146000000, 'Duration': 3900000, 'Confidence': 0.9560258}, {'Word': 'with', 'Offset': 150000000, 'Duration': 1600000, 'Confidence': 0.8965095}, {'Word': 'their', 'Offset': 151700000, 'Duration': 2000000, 'Confidence': 0.757198}, {'Word': 'structured', 'Offset': 153800000, 'Duration': 4900000, 'Confidence': 0.8901137}, {'Word': 'and', 'Offset': 158800000, 'Duration': 1300000, 'Confidence': 0.82656497}, {'Word': 'unstructured', 'Offset': 160200000, 'Duration': 6900000, 'Confidence': 0.98924065}, {'Word': 'data', 'Offset': 167200000, 'Duration': 4300000, 'Confidence': 0.99041486}, {'Word': 'to', 'Offset': 172000000, 'Duration': 2100000, 'Confidence': 0.817796}, {'Word': 'quickly', 'Offset': 174200000, 'Duration': 5100000, 'Confidence': 0.86512375}, {'Word': 'and', 'Offset': 179400000, 'Duration': 1700000, 'Confidence': 0.9479934}, {'Word': 'easily', 'Offset': 181200000, 'Duration': 4500000, 'Confidence': 0.9913239}, {'Word': 'build', 'Offset': 185800000, 'Duration': 3700000, 'Confidence': 0.8904801}, {'Word': 'customized', 'Offset': 189600000, 'Duration': 7300000, 'Confidence': 0.9084524}, {'Word': 'cutting', 'Offset': 197000000, 'Duration': 3700000, 'Confidence': 0.93208915}, {'Word': 'edge', 'Offset': 200800000, 'Duration': 2500000, 'Confidence': 0.89160895}, {'Word': 'conversational', 'Offset': 203400000, 'Duration': 7800000, 'Confidence': 0.8402593}, {'Word': 'experiences', 'Offset': 211300000, 'Duration': 8000000, 'Confidence': 0.9597561}, {'Word': 'for', 'Offset': 219400000, 'Duration': 1100000, 'Confidence': 0.89207953}, {'Word': 'their', 'Offset': 220600000, 'Duration': 2100000, 'Confidence': 0.80133104}, {'Word': 'customers', 'Offset': 222800000, 'Duration': 7900000, 'Confidence': 0.9884963}, {'Word': 'developers', 'Offset': 237600000, 'Duration': 6400000, 'Confidence': 0.7436398}, {'Word': 'can', 'Offset': 244100000, 'Duration': 1200000, 'Confidence': 0.89178044}, {'Word': 'take', 'Offset': 245400000, 'Duration': 2200000, 'Confidence': 0.9623889}, {'Word': 'advantage', 'Offset': 247700000, 'Duration': 4100000, 'Confidence': 0.9908658}, {'Word': 'of', 'Offset': 251900000, 'Duration': 1000000, 'Confidence': 0.9108014}, {'Word': 'a', 'Offset': 253000000, 'Duration': 300000, 'Confidence': 0.67827356}, {'Word': 'new', 'Offset': 253400000, 'Duration': 2300000, 'Confidence': 0.9843834}, {'Word': 'model', 'Offset': 255800000, 'Duration': 2900000, 'Confidence': 0.9458448}, {'Word': 'catalog', 'Offset': 258800000, 'Duration': 7100000, 'Confidence': 0.85834897}, {'Word': 'that', 'Offset': 266400000, 'Duration': 2000000, 'Confidence': 0.7285096}, {'Word': 'works', 'Offset': 268500000, 'Duration': 2400000, 'Confidence': 0.8849993}, {'Word': 'with', 'Offset': 271000000, 'Duration': 1400000, 'Confidence': 0.9337076}, {'Word': 'the', 'Offset': 272500000, 'Duration': 1200000, 'Confidence': 0.8118163}, {'Word': 'popular', 'Offset': 273800000, 'Duration': 4500000, 'Confidence': 0.89025444}, {'Word': 'models', 'Offset': 278400000, 'Duration': 3500000, 'Confidence': 0.8615272}, {'Word': 'organizations', 'Offset': 282000000, 'Duration': 7700000, 'Confidence': 0.79823124}, {'Word': 'use', 'Offset': 289800000, 'Duration': 3900000, 'Confidence': 0.9528825}, {'Word': 'including', 'Offset': 294400000, 'Duration': 4600000, 'Confidence': 0.8776797}, {'Word': 'those', 'Offset': 299100000, 'Duration': 2500000, 'Confidence': 0.9406807}, {'Word': 'from', 'Offset': 302300000, 'Duration': 1600000, 'Confidence': 0.66303045}, {'Word': 'azure', 'Offset': 304000000, 'Duration': 3900000, 'Confidence': 0.41636953}, {'Word': 'open', 'Offset': 308000000, 'Duration': 2700000, 'Confidence': 0.8976896}, {'Word': 'AI', 'Offset': 310800000, 'Duration': 2700000, 'Confidence': 0.41737878}, {'Word': 'service', 'Offset': 313600000, 'Duration': 6700000, 'Confidence': 0.9147954}, {'Word': 'hugging', 'Offset': 321000000, 'Duration': 3500000, 'Confidence': 0.23417997}, {'Word': 'face', 'Offset': 324600000, 'Duration': 4900000, 'Confidence': 0.9684453}, {'Word': 'and', 'Offset': 330800000, 'Duration': 2300000, 'Confidence': 0.6842694}, {'Word': 'many', 'Offset': 333200000, 'Duration': 2900000, 'Confidence': 0.94847786}, {'Word': 'other', 'Offset': 336200000, 'Duration': 2900000, 'Confidence': 0.9814571}, {'Word': 'open', 'Offset': 339200000, 'Duration': 2700000, 'Confidence': 0.82410455}, {'Word': 'source', 'Offset': 342000000, 'Duration': 3500000, 'Confidence': 0.98438054}, {'Word': 'models', 'Offset': 345600000, 'Duration': 6100000, 'Confidence': 0.92952055}, {'Word': 'with', 'Offset': 356800000, 'Duration': 2900000, 'Confidence': 0.8988698}, {'Word': 'prompt', 'Offset': 359800000, 'Duration': 3300000, 'Confidence': 0.71933573}, {'Word': 'flow', 'Offset': 363200000, 'Duration': 5700000, 'Confidence': 0.72041386}, {'Word': 'developers', 'Offset': 369300000, 'Duration': 6600000, 'Confidence': 0.72776484}, {'Word': 'can', 'Offset': 376000000, 'Duration': 1700000, 'Confidence': 0.95099187}, {'Word': 'combine', 'Offset': 377800000, 'Duration': 5700000, 'Confidence': 0.8199652}, {'Word': 'relevant', 'Offset': 383600000, 'Duration': 4100000, 'Confidence': 0.7858395}, {'Word': 'data', 'Offset': 387800000, 'Duration': 3100000, 'Confidence': 0.9838746}, {'Word': 'from', 'Offset': 391000000, 'Duration': 1600000, 'Confidence': 0.94792724}, {'Word': 'your', 'Offset': 392700000, 'Duration': 1600000, 'Confidence': 0.75727624}, {'Word': 'organization', 'Offset': 394400000, 'Duration': 9300000, 'Confidence': 0.9706507}, {'Word': 'and', 'Offset': 404400000, 'Duration': 1900000, 'Confidence': 0.79968774}, {'Word': 'create', 'Offset': 406400000, 'Duration': 3700000, 'Confidence': 0.9236499}, {'Word': 'a', 'Offset': 410200000, 'Duration': 900000, 'Confidence': 0.8495734}, {'Word': 'detailed', 'Offset': 411200000, 'Duration': 4900000, 'Confidence': 0.89471567}, {'Word': 'prompt', 'Offset': 416200000, 'Duration': 4100000, 'Confidence': 0.7255228}, {'Word': 'to', 'Offset': 420400000, 'Duration': 1100000, 'Confidence': 0.9117694}, {'Word': 'get', 'Offset': 421600000, 'Duration': 1900000, 'Confidence': 0.970825}, {'Word': 'better', 'Offset': 423600000, 'Duration': 2300000, 'Confidence': 0.8450379}, {'Word': 'results', 'Offset': 426000000, 'Duration': 6500000, 'Confidence': 0.98533547}, {'Word': 'prompt', 'Offset': 435400000, 'Duration': 3900000, 'Confidence': 0.58556527}, {'Word': 'flow', 'Offset': 439400000, 'Duration': 2300000, 'Confidence': 0.7715581}, {'Word': 'works', 'Offset': 441800000, 'Duration': 2600000, 'Confidence': 0.8448876}, {'Word': 'with', 'Offset': 444500000, 'Duration': 1600000, 'Confidence': 0.87137675}, {'Word': 'foundation', 'Offset': 446200000, 'Duration': 8700000, 'Confidence': 0.8215104}, {'Word': 'internally', 'Offset': 455400000, 'Duration': 6200000, 'Confidence': 0.80237216}, {'Word': 'developed', 'Offset': 461700000, 'Duration': 5200000, 'Confidence': 0.9466406}, {'Word': 'or', 'Offset': 467000000, 'Duration': 2300000, 'Confidence': 0.808895}, {'Word': 'open', 'Offset': 469400000, 'Duration': 2900000, 'Confidence': 0.8570994}, {'Word': 'source', 'Offset': 472400000, 'Duration': 3300000, 'Confidence': 0.9701824}, {'Word': 'models', 'Offset': 475800000, 'Duration': 6100000, 'Confidence': 0.8840085}, {'Word': 'and', 'Offset': 483000000, 'Duration': 2100000, 'Confidence': 0.8451511}, {'Word': 'use', 'Offset': 485200000, 'Duration': 2100000, 'Confidence': 0.93086493}, {'Word': 'as', 'Offset': 487400000, 'Duration': 1500000, 'Confidence': 0.8370502}, {'Word': 'popular', 'Offset': 489000000, 'Duration': 5500000, 'Confidence': 0.74907035}, {'Word': 'open', 'Offset': 494600000, 'Duration': 2700000, 'Confidence': 0.88498557}, {'Word': 'source', 'Offset': 497400000, 'Duration': 2900000, 'Confidence': 0.9833325}, {'Word': 'tools', 'Offset': 500400000, 'Duration': 4700000, 'Confidence': 0.9853898}, {'Word': 'lang', 'Offset': 505600000, 'Duration': 3300000, 'Confidence': 0.42203444}, {'Word': 'chain', 'Offset': 509000000, 'Duration': 4300000, 'Confidence': 0.7831378}, {'Word': 'and', 'Offset': 514000000, 'Duration': 2500000, 'Confidence': 0.80495167}, {'Word': 'semantic', 'Offset': 516600000, 'Duration': 4900000, 'Confidence': 0.6352989}, {'Word': 'kernel', 'Offset': 521600000, 'Duration': 6500000, 'Confidence': 0.61253744}, {'Word': 'and', 'Offset': 535200000, 'Duration': 3500000, 'Confidence': 0.7957361}, {'Word': 'because', 'Offset': 538800000, 'Duration': 3500000, 'Confidence': 0.9484643}, {'Word': 'the', 'Offset': 542400000, 'Duration': 1200000, 'Confidence': 0.467159}, {'Word': 'AI', 'Offset': 543700000, 'Duration': 3200000, 'Confidence': 0.76475394}, {'Word': 'systems', 'Offset': 547000000, 'Duration': 3800000, 'Confidence': 0.72961366}, {'Word': 'we', 'Offset': 550900000, 'Duration': 1600000, 'Confidence': 0.8781197}, {'Word': 'build', 'Offset': 552600000, 'Duration': 3100000, 'Confidence': 0.9749899}, {'Word': 'are', 'Offset': 555800000, 'Duration': 1400000, 'Confidence': 0.55032414}, {'Word': 'designed', 'Offset': 557300000, 'Duration': 4400000, 'Confidence': 0.95870495}, {'Word': 'to', 'Offset': 561800000, 'Duration': 700000, 'Confidence': 0.9048621}, {'Word': 'support', 'Offset': 562600000, 'Duration': 4300000, 'Confidence': 0.97666705}, {'Word': 'our', 'Offset': 567000000, 'Duration': 1300000, 'Confidence': 0.59341395}, {'Word': 'AI', 'Offset': 568400000, 'Duration': 3300000, 'Confidence': 0.7372774}, {'Word': 'principles', 'Offset': 571800000, 'Duration': 7700000, 'Confidence': 0.78224003}, {'Word': 'with', 'Offset': 581600000, 'Duration': 2700000, 'Confidence': 0.8770335}, {'Word': 'azure', 'Offset': 584400000, 'Duration': 4100000, 'Confidence': 0.8540791}, {'Word': 'AI', 'Offset': 588600000, 'Duration': 3100000, 'Confidence': 0.8003121}, {'Word': 'content', 'Offset': 591800000, 'Duration': 4900000, 'Confidence': 0.59519607}, {'Word': 'safety', 'Offset': 596800000, 'Duration': 7900000, 'Confidence': 0.7019392}, {'Word': 'we', 'Offset': 606400000, 'Duration': 1700000, 'Confidence': 0.9073146}, {'Word': 'are', 'Offset': 608200000, 'Duration': 1200000, 'Confidence': 0.8890549}, {'Word': 'making', 'Offset': 609500000, 'Duration': 2600000, 'Confidence': 0.93198323}, {'Word': 'it', 'Offset': 612200000, 'Duration': 1100000, 'Confidence': 0.8804139}, {'Word': 'easier', 'Offset': 613400000, 'Duration': 4300000, 'Confidence': 0.9923524}, {'Word': 'for', 'Offset': 617800000, 'Duration': 1000000, 'Confidence': 0.9732722}, {'Word': 'you', 'Offset': 618900000, 'Duration': 1200000, 'Confidence': 0.95105016}, {'Word': 'to', 'Offset': 620200000, 'Duration': 900000, 'Confidence': 0.953781}, {'Word': 'test', 'Offset': 621200000, 'Duration': 4300000, 'Confidence': 0.8807141}, {'Word': 'and', 'Offset': 625600000, 'Duration': 1900000, 'Confidence': 0.8568304}, {'Word': 'evaluate', 'Offset': 627600000, 'Duration': 6300000, 'Confidence': 0.9815686}, {'Word': 'your', 'Offset': 634000000, 'Duration': 1700000, 'Confidence': 0.9539875}, {'Word': 'a', 'Offset': 635800000, 'Duration': 600000, 'Confidence': 0.42935103}, {'Word': 'AI', 'Offset': 636500000, 'Duration': 2000000, 'Confidence': 0.647237}, {'Word': 'deployments', 'Offset': 638600000, 'Duration': 6500000, 'Confidence': 0.8755101}, {'Word': 'for', 'Offset': 645200000, 'Duration': 1700000, 'Confidence': 0.9683849}, {'Word': 'safety', 'Offset': 647000000, 'Duration': 7900000, 'Confidence': 0.8821076}, {'Word': 'this', 'Offset': 659800000, 'Duration': 4300000, 'Confidence': 0.8178333}, {'Word': 'is', 'Offset': 664200000, 'Duration': 1700000, 'Confidence': 0.9427761}, {'Word': 'azure', 'Offset': 666000000, 'Duration': 4900000, 'Confidence': 0.721363}, {'Word': 'AI', 'Offset': 671000000, 'Duration': 3100000, 'Confidence': 0.5700643}, {'Word': 'studio', 'Offset': 674200000, 'Duration': 9500000, 'Confidence': 0.9682279}, {'Word': 'the', 'Offset': 684400000, 'Duration': 1900000, 'Confidence': 0.6255193}, {'Word': 'trusted', 'Offset': 686400000, 'Duration': 4700000, 'Confidence': 0.73109686}, {'Word': 'tools', 'Offset': 691200000, 'Duration': 3500000, 'Confidence': 0.88151294}, {'Word': 'you', 'Offset': 694800000, 'Duration': 1300000, 'Confidence': 0.87806463}, {'Word': 'need', 'Offset': 696200000, 'Duration': 2700000, 'Confidence': 0.9917407}, {'Word': 'to', 'Offset': 699000000, 'Duration': 1300000, 'Confidence': 0.9679371}, {'Word': 'build', 'Offset': 700400000, 'Duration': 2900000, 'Confidence': 0.97957355}, {'Word': 'the', 'Offset': 703400000, 'Duration': 1100000, 'Confidence': 0.787507}, {'Word': 'next', 'Offset': 704600000, 'Duration': 3300000, 'Confidence': 0.97564125}, {'Word': 'generation', 'Offset': 708000000, 'Duration': 6200000, 'Confidence': 0.97909987}, {'Word': 'of', 'Offset': 714300000, 'Duration': 1400000, 'Confidence': 0.8246224}, {'Word': 'AI', 'Offset': 715800000, 'Duration': 3700000, 'Confidence': 0.577454}, {'Word': 'applications', 'Offset': 719600000, 'Duration': 10700000, 'Confidence': 0.94417506}]\n"
     ]
    }
   ],
   "source": [
    "transcript, confidence, words = azure_tts(wavfile, \"en-US\")"
   ]
  },
  {
   "cell_type": "code",
   "execution_count": 19,
   "id": "770c2394",
   "metadata": {},
   "outputs": [
    {
     "data": {
      "text/plain": [
       "1112"
      ]
     },
     "execution_count": 19,
     "metadata": {},
     "output_type": "execute_result"
    }
   ],
   "source": [
    "video_transcript = \" \".join(transcript)\n",
    "len(video_transcript)"
   ]
  },
  {
   "cell_type": "code",
   "execution_count": 20,
   "id": "76ccd224",
   "metadata": {},
   "outputs": [
    {
     "name": "stdout",
     "output_type": "stream",
     "text": [
      "Introducing Azure AI Studio, a full lifecycle tool to build, customize, train, evaluate and deploy the latest next generation models responsibly with just a few clicks. Developers can ground AI models with their structured and unstructured data to quickly and easily build customized, cutting edge conversational experiences for their customers. Developers can take advantage of a new model catalog that works with the popular models organizations use, including those. From Azure Open AI Service, Hugging Face and many other open source models with Prompt Flow, developers can combine relevant data from your organization and create a detailed prompt to get better results. Prompt Flow works with Foundation internally developed or open source models and uses popular open source tools Lang Chain and Semantic Kernel. And because the AI systems we build are designed to support our AI principles with Azure AI content safety. We are making it easier for you to test and evaluate your AI deployments for safety. This is Azure AI Studio, the trusted tools you need to build the next generation of AI applications.\n"
     ]
    }
   ],
   "source": [
    "print(video_transcript)"
   ]
  },
  {
   "cell_type": "code",
   "execution_count": 21,
   "id": "46af1917",
   "metadata": {},
   "outputs": [
    {
     "data": {
      "text/plain": [
       "[{'Word': 'introducing',\n",
       "  'Offset': 2000000,\n",
       "  'Duration': 8100000,\n",
       "  'Confidence': 0.7578639},\n",
       " {'Word': 'azure',\n",
       "  'Offset': 10200000,\n",
       "  'Duration': 5100000,\n",
       "  'Confidence': 0.69740736},\n",
       " {'Word': 'AI',\n",
       "  'Offset': 15400000,\n",
       "  'Duration': 3700000,\n",
       "  'Confidence': 0.5534592},\n",
       " {'Word': 'studio',\n",
       "  'Offset': 19200000,\n",
       "  'Duration': 8500000,\n",
       "  'Confidence': 0.96035683},\n",
       " {'Word': 'a',\n",
       "  'Offset': 28200000,\n",
       "  'Duration': 1300000,\n",
       "  'Confidence': 0.5521275},\n",
       " {'Word': 'full',\n",
       "  'Offset': 29600000,\n",
       "  'Duration': 3500000,\n",
       "  'Confidence': 0.9258533},\n",
       " {'Word': 'lifecycle',\n",
       "  'Offset': 33200000,\n",
       "  'Duration': 6000000,\n",
       "  'Confidence': 0.8452919},\n",
       " {'Word': 'tool',\n",
       "  'Offset': 39300000,\n",
       "  'Duration': 3400000,\n",
       "  'Confidence': 0.92282414},\n",
       " {'Word': 'to',\n",
       "  'Offset': 42800000,\n",
       "  'Duration': 1300000,\n",
       "  'Confidence': 0.9029979},\n",
       " {'Word': 'build',\n",
       "  'Offset': 44200000,\n",
       "  'Duration': 5700000,\n",
       "  'Confidence': 0.9780737},\n",
       " {'Word': 'customized',\n",
       "  'Offset': 50600000,\n",
       "  'Duration': 8200000,\n",
       "  'Confidence': 0.9109986},\n",
       " {'Word': 'train',\n",
       "  'Offset': 59600000,\n",
       "  'Duration': 5500000,\n",
       "  'Confidence': 0.9284376},\n",
       " {'Word': 'evaluate',\n",
       "  'Offset': 65800000,\n",
       "  'Duration': 8300000,\n",
       "  'Confidence': 0.7802924},\n",
       " {'Word': 'and',\n",
       "  'Offset': 74800000,\n",
       "  'Duration': 2100000,\n",
       "  'Confidence': 0.65765053},\n",
       " {'Word': 'deploy',\n",
       "  'Offset': 77000000,\n",
       "  'Duration': 5700000,\n",
       "  'Confidence': 0.94880587},\n",
       " {'Word': 'the',\n",
       "  'Offset': 82800000,\n",
       "  'Duration': 1900000,\n",
       "  'Confidence': 0.4422792},\n",
       " {'Word': 'latest',\n",
       "  'Offset': 84800000,\n",
       "  'Duration': 4300000,\n",
       "  'Confidence': 0.97259027},\n",
       " {'Word': 'next',\n",
       "  'Offset': 89200000,\n",
       "  'Duration': 3700000,\n",
       "  'Confidence': 0.8506696},\n",
       " {'Word': 'generation',\n",
       "  'Offset': 93000000,\n",
       "  'Duration': 5900000,\n",
       "  'Confidence': 0.9556259},\n",
       " {'Word': 'models',\n",
       "  'Offset': 99000000,\n",
       "  'Duration': 4100000,\n",
       "  'Confidence': 0.9304699},\n",
       " {'Word': 'responsibly',\n",
       "  'Offset': 103200000,\n",
       "  'Duration': 11100000,\n",
       "  'Confidence': 0.8370292},\n",
       " {'Word': 'with',\n",
       "  'Offset': 115200000,\n",
       "  'Duration': 2700000,\n",
       "  'Confidence': 0.8937814},\n",
       " {'Word': 'just',\n",
       "  'Offset': 118000000,\n",
       "  'Duration': 3300000,\n",
       "  'Confidence': 0.92596996},\n",
       " {'Word': 'a',\n",
       "  'Offset': 121400000,\n",
       "  'Duration': 500000,\n",
       "  'Confidence': 0.8539614},\n",
       " {'Word': 'few',\n",
       "  'Offset': 122000000,\n",
       "  'Duration': 2700000,\n",
       "  'Confidence': 0.98627555},\n",
       " {'Word': 'clicks',\n",
       "  'Offset': 124800000,\n",
       "  'Duration': 5100000,\n",
       "  'Confidence': 0.94213796},\n",
       " {'Word': 'developers',\n",
       "  'Offset': 130000000,\n",
       "  'Duration': 6500000,\n",
       "  'Confidence': 0.80021274},\n",
       " {'Word': 'can',\n",
       "  'Offset': 136600000,\n",
       "  'Duration': 1700000,\n",
       "  'Confidence': 0.96418893},\n",
       " {'Word': 'ground',\n",
       "  'Offset': 138400000,\n",
       "  'Duration': 4100000,\n",
       "  'Confidence': 0.76432484},\n",
       " {'Word': 'AI',\n",
       "  'Offset': 142600000,\n",
       "  'Duration': 3300000,\n",
       "  'Confidence': 0.31229144},\n",
       " {'Word': 'models',\n",
       "  'Offset': 146000000,\n",
       "  'Duration': 3900000,\n",
       "  'Confidence': 0.9560258},\n",
       " {'Word': 'with',\n",
       "  'Offset': 150000000,\n",
       "  'Duration': 1600000,\n",
       "  'Confidence': 0.8965095},\n",
       " {'Word': 'their',\n",
       "  'Offset': 151700000,\n",
       "  'Duration': 2000000,\n",
       "  'Confidence': 0.757198},\n",
       " {'Word': 'structured',\n",
       "  'Offset': 153800000,\n",
       "  'Duration': 4900000,\n",
       "  'Confidence': 0.8901137},\n",
       " {'Word': 'and',\n",
       "  'Offset': 158800000,\n",
       "  'Duration': 1300000,\n",
       "  'Confidence': 0.82656497},\n",
       " {'Word': 'unstructured',\n",
       "  'Offset': 160200000,\n",
       "  'Duration': 6900000,\n",
       "  'Confidence': 0.98924065},\n",
       " {'Word': 'data',\n",
       "  'Offset': 167200000,\n",
       "  'Duration': 4300000,\n",
       "  'Confidence': 0.99041486},\n",
       " {'Word': 'to',\n",
       "  'Offset': 172000000,\n",
       "  'Duration': 2100000,\n",
       "  'Confidence': 0.817796},\n",
       " {'Word': 'quickly',\n",
       "  'Offset': 174200000,\n",
       "  'Duration': 5100000,\n",
       "  'Confidence': 0.86512375},\n",
       " {'Word': 'and',\n",
       "  'Offset': 179400000,\n",
       "  'Duration': 1700000,\n",
       "  'Confidence': 0.9479934},\n",
       " {'Word': 'easily',\n",
       "  'Offset': 181200000,\n",
       "  'Duration': 4500000,\n",
       "  'Confidence': 0.9913239},\n",
       " {'Word': 'build',\n",
       "  'Offset': 185800000,\n",
       "  'Duration': 3700000,\n",
       "  'Confidence': 0.8904801},\n",
       " {'Word': 'customized',\n",
       "  'Offset': 189600000,\n",
       "  'Duration': 7300000,\n",
       "  'Confidence': 0.9084524},\n",
       " {'Word': 'cutting',\n",
       "  'Offset': 197000000,\n",
       "  'Duration': 3700000,\n",
       "  'Confidence': 0.93208915},\n",
       " {'Word': 'edge',\n",
       "  'Offset': 200800000,\n",
       "  'Duration': 2500000,\n",
       "  'Confidence': 0.89160895},\n",
       " {'Word': 'conversational',\n",
       "  'Offset': 203400000,\n",
       "  'Duration': 7800000,\n",
       "  'Confidence': 0.8402593},\n",
       " {'Word': 'experiences',\n",
       "  'Offset': 211300000,\n",
       "  'Duration': 8000000,\n",
       "  'Confidence': 0.9597561},\n",
       " {'Word': 'for',\n",
       "  'Offset': 219400000,\n",
       "  'Duration': 1100000,\n",
       "  'Confidence': 0.89207953},\n",
       " {'Word': 'their',\n",
       "  'Offset': 220600000,\n",
       "  'Duration': 2100000,\n",
       "  'Confidence': 0.80133104},\n",
       " {'Word': 'customers',\n",
       "  'Offset': 222800000,\n",
       "  'Duration': 7900000,\n",
       "  'Confidence': 0.9884963},\n",
       " {'Word': 'developers',\n",
       "  'Offset': 237600000,\n",
       "  'Duration': 6400000,\n",
       "  'Confidence': 0.7436398},\n",
       " {'Word': 'can',\n",
       "  'Offset': 244100000,\n",
       "  'Duration': 1200000,\n",
       "  'Confidence': 0.89178044},\n",
       " {'Word': 'take',\n",
       "  'Offset': 245400000,\n",
       "  'Duration': 2200000,\n",
       "  'Confidence': 0.9623889},\n",
       " {'Word': 'advantage',\n",
       "  'Offset': 247700000,\n",
       "  'Duration': 4100000,\n",
       "  'Confidence': 0.9908658},\n",
       " {'Word': 'of',\n",
       "  'Offset': 251900000,\n",
       "  'Duration': 1000000,\n",
       "  'Confidence': 0.9108014},\n",
       " {'Word': 'a',\n",
       "  'Offset': 253000000,\n",
       "  'Duration': 300000,\n",
       "  'Confidence': 0.67827356},\n",
       " {'Word': 'new',\n",
       "  'Offset': 253400000,\n",
       "  'Duration': 2300000,\n",
       "  'Confidence': 0.9843834},\n",
       " {'Word': 'model',\n",
       "  'Offset': 255800000,\n",
       "  'Duration': 2900000,\n",
       "  'Confidence': 0.9458448},\n",
       " {'Word': 'catalog',\n",
       "  'Offset': 258800000,\n",
       "  'Duration': 7100000,\n",
       "  'Confidence': 0.85834897},\n",
       " {'Word': 'that',\n",
       "  'Offset': 266400000,\n",
       "  'Duration': 2000000,\n",
       "  'Confidence': 0.7285096},\n",
       " {'Word': 'works',\n",
       "  'Offset': 268500000,\n",
       "  'Duration': 2400000,\n",
       "  'Confidence': 0.8849993},\n",
       " {'Word': 'with',\n",
       "  'Offset': 271000000,\n",
       "  'Duration': 1400000,\n",
       "  'Confidence': 0.9337076},\n",
       " {'Word': 'the',\n",
       "  'Offset': 272500000,\n",
       "  'Duration': 1200000,\n",
       "  'Confidence': 0.8118163},\n",
       " {'Word': 'popular',\n",
       "  'Offset': 273800000,\n",
       "  'Duration': 4500000,\n",
       "  'Confidence': 0.89025444},\n",
       " {'Word': 'models',\n",
       "  'Offset': 278400000,\n",
       "  'Duration': 3500000,\n",
       "  'Confidence': 0.8615272},\n",
       " {'Word': 'organizations',\n",
       "  'Offset': 282000000,\n",
       "  'Duration': 7700000,\n",
       "  'Confidence': 0.79823124},\n",
       " {'Word': 'use',\n",
       "  'Offset': 289800000,\n",
       "  'Duration': 3900000,\n",
       "  'Confidence': 0.9528825},\n",
       " {'Word': 'including',\n",
       "  'Offset': 294400000,\n",
       "  'Duration': 4600000,\n",
       "  'Confidence': 0.8776797},\n",
       " {'Word': 'those',\n",
       "  'Offset': 299100000,\n",
       "  'Duration': 2500000,\n",
       "  'Confidence': 0.9406807},\n",
       " {'Word': 'from',\n",
       "  'Offset': 302300000,\n",
       "  'Duration': 1600000,\n",
       "  'Confidence': 0.66303045},\n",
       " {'Word': 'azure',\n",
       "  'Offset': 304000000,\n",
       "  'Duration': 3900000,\n",
       "  'Confidence': 0.41636953},\n",
       " {'Word': 'open',\n",
       "  'Offset': 308000000,\n",
       "  'Duration': 2700000,\n",
       "  'Confidence': 0.8976896},\n",
       " {'Word': 'AI',\n",
       "  'Offset': 310800000,\n",
       "  'Duration': 2700000,\n",
       "  'Confidence': 0.41737878},\n",
       " {'Word': 'service',\n",
       "  'Offset': 313600000,\n",
       "  'Duration': 6700000,\n",
       "  'Confidence': 0.9147954},\n",
       " {'Word': 'hugging',\n",
       "  'Offset': 321000000,\n",
       "  'Duration': 3500000,\n",
       "  'Confidence': 0.23417997},\n",
       " {'Word': 'face',\n",
       "  'Offset': 324600000,\n",
       "  'Duration': 4900000,\n",
       "  'Confidence': 0.9684453},\n",
       " {'Word': 'and',\n",
       "  'Offset': 330800000,\n",
       "  'Duration': 2300000,\n",
       "  'Confidence': 0.6842694},\n",
       " {'Word': 'many',\n",
       "  'Offset': 333200000,\n",
       "  'Duration': 2900000,\n",
       "  'Confidence': 0.94847786},\n",
       " {'Word': 'other',\n",
       "  'Offset': 336200000,\n",
       "  'Duration': 2900000,\n",
       "  'Confidence': 0.9814571},\n",
       " {'Word': 'open',\n",
       "  'Offset': 339200000,\n",
       "  'Duration': 2700000,\n",
       "  'Confidence': 0.82410455},\n",
       " {'Word': 'source',\n",
       "  'Offset': 342000000,\n",
       "  'Duration': 3500000,\n",
       "  'Confidence': 0.98438054},\n",
       " {'Word': 'models',\n",
       "  'Offset': 345600000,\n",
       "  'Duration': 6100000,\n",
       "  'Confidence': 0.92952055},\n",
       " {'Word': 'with',\n",
       "  'Offset': 356800000,\n",
       "  'Duration': 2900000,\n",
       "  'Confidence': 0.8988698},\n",
       " {'Word': 'prompt',\n",
       "  'Offset': 359800000,\n",
       "  'Duration': 3300000,\n",
       "  'Confidence': 0.71933573},\n",
       " {'Word': 'flow',\n",
       "  'Offset': 363200000,\n",
       "  'Duration': 5700000,\n",
       "  'Confidence': 0.72041386},\n",
       " {'Word': 'developers',\n",
       "  'Offset': 369300000,\n",
       "  'Duration': 6600000,\n",
       "  'Confidence': 0.72776484},\n",
       " {'Word': 'can',\n",
       "  'Offset': 376000000,\n",
       "  'Duration': 1700000,\n",
       "  'Confidence': 0.95099187},\n",
       " {'Word': 'combine',\n",
       "  'Offset': 377800000,\n",
       "  'Duration': 5700000,\n",
       "  'Confidence': 0.8199652},\n",
       " {'Word': 'relevant',\n",
       "  'Offset': 383600000,\n",
       "  'Duration': 4100000,\n",
       "  'Confidence': 0.7858395},\n",
       " {'Word': 'data',\n",
       "  'Offset': 387800000,\n",
       "  'Duration': 3100000,\n",
       "  'Confidence': 0.9838746},\n",
       " {'Word': 'from',\n",
       "  'Offset': 391000000,\n",
       "  'Duration': 1600000,\n",
       "  'Confidence': 0.94792724},\n",
       " {'Word': 'your',\n",
       "  'Offset': 392700000,\n",
       "  'Duration': 1600000,\n",
       "  'Confidence': 0.75727624},\n",
       " {'Word': 'organization',\n",
       "  'Offset': 394400000,\n",
       "  'Duration': 9300000,\n",
       "  'Confidence': 0.9706507},\n",
       " {'Word': 'and',\n",
       "  'Offset': 404400000,\n",
       "  'Duration': 1900000,\n",
       "  'Confidence': 0.79968774},\n",
       " {'Word': 'create',\n",
       "  'Offset': 406400000,\n",
       "  'Duration': 3700000,\n",
       "  'Confidence': 0.9236499},\n",
       " {'Word': 'a',\n",
       "  'Offset': 410200000,\n",
       "  'Duration': 900000,\n",
       "  'Confidence': 0.8495734},\n",
       " {'Word': 'detailed',\n",
       "  'Offset': 411200000,\n",
       "  'Duration': 4900000,\n",
       "  'Confidence': 0.89471567},\n",
       " {'Word': 'prompt',\n",
       "  'Offset': 416200000,\n",
       "  'Duration': 4100000,\n",
       "  'Confidence': 0.7255228},\n",
       " {'Word': 'to',\n",
       "  'Offset': 420400000,\n",
       "  'Duration': 1100000,\n",
       "  'Confidence': 0.9117694},\n",
       " {'Word': 'get',\n",
       "  'Offset': 421600000,\n",
       "  'Duration': 1900000,\n",
       "  'Confidence': 0.970825},\n",
       " {'Word': 'better',\n",
       "  'Offset': 423600000,\n",
       "  'Duration': 2300000,\n",
       "  'Confidence': 0.8450379},\n",
       " {'Word': 'results',\n",
       "  'Offset': 426000000,\n",
       "  'Duration': 6500000,\n",
       "  'Confidence': 0.98533547},\n",
       " {'Word': 'prompt',\n",
       "  'Offset': 435400000,\n",
       "  'Duration': 3900000,\n",
       "  'Confidence': 0.58556527},\n",
       " {'Word': 'flow',\n",
       "  'Offset': 439400000,\n",
       "  'Duration': 2300000,\n",
       "  'Confidence': 0.7715581},\n",
       " {'Word': 'works',\n",
       "  'Offset': 441800000,\n",
       "  'Duration': 2600000,\n",
       "  'Confidence': 0.8448876},\n",
       " {'Word': 'with',\n",
       "  'Offset': 444500000,\n",
       "  'Duration': 1600000,\n",
       "  'Confidence': 0.87137675},\n",
       " {'Word': 'foundation',\n",
       "  'Offset': 446200000,\n",
       "  'Duration': 8700000,\n",
       "  'Confidence': 0.8215104},\n",
       " {'Word': 'internally',\n",
       "  'Offset': 455400000,\n",
       "  'Duration': 6200000,\n",
       "  'Confidence': 0.80237216},\n",
       " {'Word': 'developed',\n",
       "  'Offset': 461700000,\n",
       "  'Duration': 5200000,\n",
       "  'Confidence': 0.9466406},\n",
       " {'Word': 'or',\n",
       "  'Offset': 467000000,\n",
       "  'Duration': 2300000,\n",
       "  'Confidence': 0.808895},\n",
       " {'Word': 'open',\n",
       "  'Offset': 469400000,\n",
       "  'Duration': 2900000,\n",
       "  'Confidence': 0.8570994},\n",
       " {'Word': 'source',\n",
       "  'Offset': 472400000,\n",
       "  'Duration': 3300000,\n",
       "  'Confidence': 0.9701824},\n",
       " {'Word': 'models',\n",
       "  'Offset': 475800000,\n",
       "  'Duration': 6100000,\n",
       "  'Confidence': 0.8840085},\n",
       " {'Word': 'and',\n",
       "  'Offset': 483000000,\n",
       "  'Duration': 2100000,\n",
       "  'Confidence': 0.8451511},\n",
       " {'Word': 'use',\n",
       "  'Offset': 485200000,\n",
       "  'Duration': 2100000,\n",
       "  'Confidence': 0.93086493},\n",
       " {'Word': 'as',\n",
       "  'Offset': 487400000,\n",
       "  'Duration': 1500000,\n",
       "  'Confidence': 0.8370502},\n",
       " {'Word': 'popular',\n",
       "  'Offset': 489000000,\n",
       "  'Duration': 5500000,\n",
       "  'Confidence': 0.74907035},\n",
       " {'Word': 'open',\n",
       "  'Offset': 494600000,\n",
       "  'Duration': 2700000,\n",
       "  'Confidence': 0.88498557},\n",
       " {'Word': 'source',\n",
       "  'Offset': 497400000,\n",
       "  'Duration': 2900000,\n",
       "  'Confidence': 0.9833325},\n",
       " {'Word': 'tools',\n",
       "  'Offset': 500400000,\n",
       "  'Duration': 4700000,\n",
       "  'Confidence': 0.9853898},\n",
       " {'Word': 'lang',\n",
       "  'Offset': 505600000,\n",
       "  'Duration': 3300000,\n",
       "  'Confidence': 0.42203444},\n",
       " {'Word': 'chain',\n",
       "  'Offset': 509000000,\n",
       "  'Duration': 4300000,\n",
       "  'Confidence': 0.7831378},\n",
       " {'Word': 'and',\n",
       "  'Offset': 514000000,\n",
       "  'Duration': 2500000,\n",
       "  'Confidence': 0.80495167},\n",
       " {'Word': 'semantic',\n",
       "  'Offset': 516600000,\n",
       "  'Duration': 4900000,\n",
       "  'Confidence': 0.6352989},\n",
       " {'Word': 'kernel',\n",
       "  'Offset': 521600000,\n",
       "  'Duration': 6500000,\n",
       "  'Confidence': 0.61253744},\n",
       " {'Word': 'and',\n",
       "  'Offset': 535200000,\n",
       "  'Duration': 3500000,\n",
       "  'Confidence': 0.7957361},\n",
       " {'Word': 'because',\n",
       "  'Offset': 538800000,\n",
       "  'Duration': 3500000,\n",
       "  'Confidence': 0.9484643},\n",
       " {'Word': 'the',\n",
       "  'Offset': 542400000,\n",
       "  'Duration': 1200000,\n",
       "  'Confidence': 0.467159},\n",
       " {'Word': 'AI',\n",
       "  'Offset': 543700000,\n",
       "  'Duration': 3200000,\n",
       "  'Confidence': 0.76475394},\n",
       " {'Word': 'systems',\n",
       "  'Offset': 547000000,\n",
       "  'Duration': 3800000,\n",
       "  'Confidence': 0.72961366},\n",
       " {'Word': 'we',\n",
       "  'Offset': 550900000,\n",
       "  'Duration': 1600000,\n",
       "  'Confidence': 0.8781197},\n",
       " {'Word': 'build',\n",
       "  'Offset': 552600000,\n",
       "  'Duration': 3100000,\n",
       "  'Confidence': 0.9749899},\n",
       " {'Word': 'are',\n",
       "  'Offset': 555800000,\n",
       "  'Duration': 1400000,\n",
       "  'Confidence': 0.55032414},\n",
       " {'Word': 'designed',\n",
       "  'Offset': 557300000,\n",
       "  'Duration': 4400000,\n",
       "  'Confidence': 0.95870495},\n",
       " {'Word': 'to',\n",
       "  'Offset': 561800000,\n",
       "  'Duration': 700000,\n",
       "  'Confidence': 0.9048621},\n",
       " {'Word': 'support',\n",
       "  'Offset': 562600000,\n",
       "  'Duration': 4300000,\n",
       "  'Confidence': 0.97666705},\n",
       " {'Word': 'our',\n",
       "  'Offset': 567000000,\n",
       "  'Duration': 1300000,\n",
       "  'Confidence': 0.59341395},\n",
       " {'Word': 'AI',\n",
       "  'Offset': 568400000,\n",
       "  'Duration': 3300000,\n",
       "  'Confidence': 0.7372774},\n",
       " {'Word': 'principles',\n",
       "  'Offset': 571800000,\n",
       "  'Duration': 7700000,\n",
       "  'Confidence': 0.78224003},\n",
       " {'Word': 'with',\n",
       "  'Offset': 581600000,\n",
       "  'Duration': 2700000,\n",
       "  'Confidence': 0.8770335},\n",
       " {'Word': 'azure',\n",
       "  'Offset': 584400000,\n",
       "  'Duration': 4100000,\n",
       "  'Confidence': 0.8540791},\n",
       " {'Word': 'AI',\n",
       "  'Offset': 588600000,\n",
       "  'Duration': 3100000,\n",
       "  'Confidence': 0.8003121},\n",
       " {'Word': 'content',\n",
       "  'Offset': 591800000,\n",
       "  'Duration': 4900000,\n",
       "  'Confidence': 0.59519607},\n",
       " {'Word': 'safety',\n",
       "  'Offset': 596800000,\n",
       "  'Duration': 7900000,\n",
       "  'Confidence': 0.7019392},\n",
       " {'Word': 'we',\n",
       "  'Offset': 606400000,\n",
       "  'Duration': 1700000,\n",
       "  'Confidence': 0.9073146},\n",
       " {'Word': 'are',\n",
       "  'Offset': 608200000,\n",
       "  'Duration': 1200000,\n",
       "  'Confidence': 0.8890549},\n",
       " {'Word': 'making',\n",
       "  'Offset': 609500000,\n",
       "  'Duration': 2600000,\n",
       "  'Confidence': 0.93198323},\n",
       " {'Word': 'it',\n",
       "  'Offset': 612200000,\n",
       "  'Duration': 1100000,\n",
       "  'Confidence': 0.8804139},\n",
       " {'Word': 'easier',\n",
       "  'Offset': 613400000,\n",
       "  'Duration': 4300000,\n",
       "  'Confidence': 0.9923524},\n",
       " {'Word': 'for',\n",
       "  'Offset': 617800000,\n",
       "  'Duration': 1000000,\n",
       "  'Confidence': 0.9732722},\n",
       " {'Word': 'you',\n",
       "  'Offset': 618900000,\n",
       "  'Duration': 1200000,\n",
       "  'Confidence': 0.95105016},\n",
       " {'Word': 'to',\n",
       "  'Offset': 620200000,\n",
       "  'Duration': 900000,\n",
       "  'Confidence': 0.953781},\n",
       " {'Word': 'test',\n",
       "  'Offset': 621200000,\n",
       "  'Duration': 4300000,\n",
       "  'Confidence': 0.8807141},\n",
       " {'Word': 'and',\n",
       "  'Offset': 625600000,\n",
       "  'Duration': 1900000,\n",
       "  'Confidence': 0.8568304},\n",
       " {'Word': 'evaluate',\n",
       "  'Offset': 627600000,\n",
       "  'Duration': 6300000,\n",
       "  'Confidence': 0.9815686},\n",
       " {'Word': 'your',\n",
       "  'Offset': 634000000,\n",
       "  'Duration': 1700000,\n",
       "  'Confidence': 0.9539875},\n",
       " {'Word': 'a',\n",
       "  'Offset': 635800000,\n",
       "  'Duration': 600000,\n",
       "  'Confidence': 0.42935103},\n",
       " {'Word': 'AI',\n",
       "  'Offset': 636500000,\n",
       "  'Duration': 2000000,\n",
       "  'Confidence': 0.647237},\n",
       " {'Word': 'deployments',\n",
       "  'Offset': 638600000,\n",
       "  'Duration': 6500000,\n",
       "  'Confidence': 0.8755101},\n",
       " {'Word': 'for',\n",
       "  'Offset': 645200000,\n",
       "  'Duration': 1700000,\n",
       "  'Confidence': 0.9683849},\n",
       " {'Word': 'safety',\n",
       "  'Offset': 647000000,\n",
       "  'Duration': 7900000,\n",
       "  'Confidence': 0.8821076},\n",
       " {'Word': 'this',\n",
       "  'Offset': 659800000,\n",
       "  'Duration': 4300000,\n",
       "  'Confidence': 0.8178333},\n",
       " {'Word': 'is',\n",
       "  'Offset': 664200000,\n",
       "  'Duration': 1700000,\n",
       "  'Confidence': 0.9427761},\n",
       " {'Word': 'azure',\n",
       "  'Offset': 666000000,\n",
       "  'Duration': 4900000,\n",
       "  'Confidence': 0.721363},\n",
       " {'Word': 'AI',\n",
       "  'Offset': 671000000,\n",
       "  'Duration': 3100000,\n",
       "  'Confidence': 0.5700643},\n",
       " {'Word': 'studio',\n",
       "  'Offset': 674200000,\n",
       "  'Duration': 9500000,\n",
       "  'Confidence': 0.9682279},\n",
       " {'Word': 'the',\n",
       "  'Offset': 684400000,\n",
       "  'Duration': 1900000,\n",
       "  'Confidence': 0.6255193},\n",
       " {'Word': 'trusted',\n",
       "  'Offset': 686400000,\n",
       "  'Duration': 4700000,\n",
       "  'Confidence': 0.73109686},\n",
       " {'Word': 'tools',\n",
       "  'Offset': 691200000,\n",
       "  'Duration': 3500000,\n",
       "  'Confidence': 0.88151294},\n",
       " {'Word': 'you',\n",
       "  'Offset': 694800000,\n",
       "  'Duration': 1300000,\n",
       "  'Confidence': 0.87806463},\n",
       " {'Word': 'need',\n",
       "  'Offset': 696200000,\n",
       "  'Duration': 2700000,\n",
       "  'Confidence': 0.9917407},\n",
       " {'Word': 'to',\n",
       "  'Offset': 699000000,\n",
       "  'Duration': 1300000,\n",
       "  'Confidence': 0.9679371},\n",
       " {'Word': 'build',\n",
       "  'Offset': 700400000,\n",
       "  'Duration': 2900000,\n",
       "  'Confidence': 0.97957355},\n",
       " {'Word': 'the',\n",
       "  'Offset': 703400000,\n",
       "  'Duration': 1100000,\n",
       "  'Confidence': 0.787507},\n",
       " {'Word': 'next',\n",
       "  'Offset': 704600000,\n",
       "  'Duration': 3300000,\n",
       "  'Confidence': 0.97564125},\n",
       " {'Word': 'generation',\n",
       "  'Offset': 708000000,\n",
       "  'Duration': 6200000,\n",
       "  'Confidence': 0.97909987},\n",
       " {'Word': 'of',\n",
       "  'Offset': 714300000,\n",
       "  'Duration': 1400000,\n",
       "  'Confidence': 0.8246224},\n",
       " {'Word': 'AI',\n",
       "  'Offset': 715800000,\n",
       "  'Duration': 3700000,\n",
       "  'Confidence': 0.577454},\n",
       " {'Word': 'applications',\n",
       "  'Offset': 719600000,\n",
       "  'Duration': 10700000,\n",
       "  'Confidence': 0.94417506}]"
      ]
     },
     "execution_count": 21,
     "metadata": {},
     "output_type": "execute_result"
    }
   ],
   "source": [
    "words"
   ]
  },
  {
   "cell_type": "markdown",
   "id": "b7cbe2ff",
   "metadata": {},
   "source": [
    "## Azure Open AI analysis"
   ]
  },
  {
   "cell_type": "code",
   "execution_count": 22,
   "id": "bbe04e7e",
   "metadata": {},
   "outputs": [],
   "source": [
    "def azure_openai(prompt, temperature=0.7):\n",
    "    \"\"\"\n",
    "    Get Azure Open AI results\n",
    "    \"\"\"\n",
    "    preprompt = (\n",
    "        \"You are going to give answer based on the transcript of a video file.\\n\"\n",
    "    )\n",
    "    prompt = preprompt + prompt\n",
    "\n",
    "    results = openai.Completion.create(\n",
    "        engine=model,\n",
    "        prompt=prompt,\n",
    "        temperature=temperature,\n",
    "        max_tokens=400,\n",
    "    )\n",
    "\n",
    "    answer = results[\"choices\"][0][\"text\"].strip(\"\\n\")\n",
    "\n",
    "    return answer"
   ]
  },
  {
   "cell_type": "code",
   "execution_count": 23,
   "id": "87824018",
   "metadata": {},
   "outputs": [
    {
     "name": "stdout",
     "output_type": "stream",
     "text": [
      "English\n"
     ]
    }
   ],
   "source": [
    "prompt = f\"\"\"What is the language of the following transcript.\n",
    "Text: {video_transcript}\n",
    "\"\"\"\n",
    "\n",
    "print(azure_openai(prompt))"
   ]
  },
  {
   "cell_type": "code",
   "execution_count": 24,
   "id": "e5621086",
   "metadata": {},
   "outputs": [
    {
     "name": "stdout",
     "output_type": "stream",
     "text": [
      "Title: Introducing Azure AI Studio: The Trusted Tool for Building Next Generation AI Applications\n",
      "\n",
      "Introduction: Microsoft Azure AI Studio is a comprehensive tool designed to help developers quickly and easily build customized, cutting-edge conversational experiences for their customers. It provides a lifecycle for creating, customizing, training, evaluating and deploying models using AI principles and content safety. \n",
      "\n",
      "Bullet Points: \n",
      "• Azure AI Studio offers a model catalog for popular models such as those from Azure Open AI Service, Hugging Face and other open source models. \n",
      "• Prompt Flow is a feature that combines relevant data from an organization to create a detailed prompt to get better results.\n",
      "• It uses Lang Chain and Semantic Kernel, two popular open source tools for testing and evaluating AI deployments to ensure content safety.\n",
      "\n",
      "Conclusion: Azure AI Studio is the trusted solution for developers to build next generation AI applications with ease and safety.\n"
     ]
    }
   ],
   "source": [
    "prompt = f\"\"\"Create a summary of the following transcript.\n",
    "Text: {video_transcript}\n",
    "    \n",
    "Add a title to the summary.\n",
    " Your summary should be informative and factual, covering the most important aspects of the topic.\n",
    " Start your summary with an INTRODUCTION PARAGRAPH that gives an overview of the topic FOLLOWED\n",
    "by BULLET POINTS if possible AND end the summary with a CONCLUSION PHRASE.\n",
    "\"\"\"\n",
    "\n",
    "print(azure_openai(prompt))"
   ]
  },
  {
   "cell_type": "code",
   "execution_count": 25,
   "id": "5d8fcb87",
   "metadata": {},
   "outputs": [
    {
     "name": "stdout",
     "output_type": "stream",
     "text": [
      "Keywords: Azure AI Studio, AI models, structured data, unstructured data, model catalog, Azure Open AI Service, Hugging Face, Prompt Flow, Foundation, Lang Chain, Semantic Kernel, AI content safety, AI principles, AI applications.\n"
     ]
    }
   ],
   "source": [
    "prompt = f\"\"\"Generate some keywords to classify this transcript.\n",
    "Text: {video_transcript}\n",
    "\"\"\"\n",
    "\n",
    "print(azure_openai(prompt))"
   ]
  },
  {
   "cell_type": "code",
   "execution_count": 26,
   "id": "4712b6d4",
   "metadata": {},
   "outputs": [
    {
     "name": "stdout",
     "output_type": "stream",
     "text": [
      "Azure AI Studio offers a full lifecycle of tools for developers to build, customize, train, evaluate, and deploy cutting-edge models for conversational experiences. With access to a model catalog that includes Azure Open AI Service, Hugging Face, and other open source models, developers can quickly craft personalized experiences with data from their organization. Internal models and open source tools such as Lang Chain and Semantic Kernel are also supported. Additionally, Azure AI Studio offers content safety measures for AI systems, making it easy to test and evaluate for safety. 🤖📊🔍💻\n"
     ]
    }
   ],
   "source": [
    "prompt = f\"\"\"Write a summary of this transcript with some emojis.\n",
    "Text: {video_transcript}\n",
    "\"\"\"\n",
    "\n",
    "print(azure_openai(prompt))"
   ]
  },
  {
   "cell_type": "code",
   "execution_count": 27,
   "id": "13aeb57d",
   "metadata": {},
   "outputs": [
    {
     "name": "stdout",
     "output_type": "stream",
     "text": [
      "Check out Azure AI Studio! A full lifecycle tool to easily and responsibly build, customize, train, evaluate, and deploy the latest cutting-edge #AI models with a few clicks. Create detailed prompts with Foundation models, Lang Chain, and Semantic Kernel and ensure safety with Azure AI content safety. #Azure #NextGenAI\n"
     ]
    }
   ],
   "source": [
    "prompt = f\"\"\"Write a tweeter post about this transcript.\n",
    "Text: {video_transcript}\n",
    "\"\"\"\n",
    "\n",
    "print(azure_openai(prompt))"
   ]
  },
  {
   "cell_type": "code",
   "execution_count": 28,
   "id": "4b95ee2f",
   "metadata": {},
   "outputs": [
    {
     "name": "stdout",
     "output_type": "stream",
     "text": [
      "Products mentioned: \n",
      "Azure AI Studio, Azure Open AI Service, Hugging Face, Prompt Flow, Lang Chain, Semantic Kernel, Azure AI Content Safety.\n"
     ]
    }
   ],
   "source": [
    "prompt = f\"\"\"What are the products mentionned?.\n",
    "Text: {video_transcript}\n",
    "\"\"\"\n",
    "\n",
    "print(azure_openai(prompt))"
   ]
  },
  {
   "cell_type": "code",
   "execution_count": 29,
   "id": "f23f6733",
   "metadata": {},
   "outputs": [
    {
     "name": "stdout",
     "output_type": "stream",
     "text": [
      "AI\n"
     ]
    }
   ],
   "source": [
    "prompt = f\"\"\"Classify this into one of these categories: SPORTS, AI, POLITICS, ART, MUSIC?.\n",
    "Text: {video_transcript}\n",
    "\"\"\"\n",
    "\n",
    "print(azure_openai(prompt))"
   ]
  },
  {
   "cell_type": "code",
   "execution_count": 30,
   "id": "b361ff40",
   "metadata": {},
   "outputs": [
    {
     "name": "stdout",
     "output_type": "stream",
     "text": [
      "AI. This text is describing the features of Azure AI Studio, which is a tool used to build and deploy AI models.\n"
     ]
    }
   ],
   "source": [
    "prompt = f\"\"\"Classify this into one of these categories: SPORTS, AI, POLITICS, ART, MUSIC? Explain why.\n",
    "Text: {video_transcript}\n",
    "\"\"\"\n",
    "\n",
    "print(azure_openai(prompt))"
   ]
  },
  {
   "cell_type": "code",
   "execution_count": 31,
   "id": "751fef00",
   "metadata": {},
   "outputs": [
    {
     "name": "stdout",
     "output_type": "stream",
     "text": [
      "Yes, there are mentions about Microsoft technologies in the transcript. Specifically, the transcript mentions Azure AI Studio, Azure Open AI Service, Prompt Flow, Foundation, Lang Chain, Semantic Kernel, and Azure AI Content Safety.\n"
     ]
    }
   ],
   "source": [
    "prompt = f\"\"\"Do we have some mentions about Microsoft technologies?\n",
    "Text: {video_transcript}\n",
    "\"\"\"\n",
    "\n",
    "print(azure_openai(prompt))"
   ]
  },
  {
   "cell_type": "code",
   "execution_count": 32,
   "id": "b10c4c46",
   "metadata": {},
   "outputs": [
    {
     "name": "stdout",
     "output_type": "stream",
     "text": [
      "Azure AI Studio is a full lifecycle tool for developers to build, customize, train, evaluate and deploy the latest next-generation models responsibly with just a few clicks. It provides a model catalog that works with popular models from Azure Open AI Service, Hugging Face, and other open source models. It features Prompt Flow, which can combine relevant data from the organization to create a detailed prompt for better results, and uses popular open source tools such as Lang Chain and Semantic Kernel to do so. It is designed to support AI principles with Azure AI content safety, and to make it easier for developers to test and evaluate AI deployments for safety.\n"
     ]
    }
   ],
   "source": [
    "prompt = f\"\"\"Can you explain what is Azure AI Studio?\n",
    "Text: {video_transcript}\n",
    "\"\"\"\n",
    "\n",
    "print(azure_openai(prompt))"
   ]
  },
  {
   "cell_type": "code",
   "execution_count": null,
   "id": "6f03442b",
   "metadata": {},
   "outputs": [],
   "source": []
  }
 ],
 "metadata": {
  "kernelspec": {
   "display_name": "Python 3.10 - SDK v2",
   "language": "python",
   "name": "python310-sdkv2"
  },
  "language_info": {
   "codemirror_mode": {
    "name": "ipython",
    "version": 3
   },
   "file_extension": ".py",
   "mimetype": "text/x-python",
   "name": "python",
   "nbconvert_exporter": "python",
   "pygments_lexer": "ipython3",
   "version": "3.10.10"
  }
 },
 "nbformat": 4,
 "nbformat_minor": 5
}
