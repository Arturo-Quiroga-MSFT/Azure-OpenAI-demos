{
 "cells": [
  {
   "cell_type": "markdown",
   "id": "6b37f834",
   "metadata": {},
   "source": [
    "# Email summarization with Langchain Map Reduce and Azure Open AI"
   ]
  },
  {
   "cell_type": "code",
   "execution_count": 4,
   "id": "ddbfea7d",
   "metadata": {},
   "outputs": [],
   "source": [
    "import extract_msg\n",
    "import glob\n",
    "import openai\n",
    "import os\n",
    "import matplotlib.pyplot as plt\n",
    "import pandas as pd\n",
    "import re\n",
    "import sys\n",
    "import textwrap\n",
    "import tiktoken\n",
    "\n",
    "from datetime import datetime\n",
    "from dotenv import load_dotenv\n",
    "from langchain import OpenAI, LLMChain\n",
    "from langchain.chains.summarize import load_summarize_chain\n",
    "from langchain.docstore.document import Document\n",
    "from langchain.text_splitter import RecursiveCharacterTextSplitter"
   ]
  },
  {
   "cell_type": "code",
   "execution_count": 5,
   "id": "20758856",
   "metadata": {},
   "outputs": [
    {
     "data": {
      "text/plain": [
       "'3.10.10 (main, Mar 21 2023, 18:45:11) [GCC 11.2.0]'"
      ]
     },
     "execution_count": 5,
     "metadata": {},
     "output_type": "execute_result"
    }
   ],
   "source": [
    "sys.version"
   ]
  },
  {
   "cell_type": "code",
   "execution_count": 6,
   "id": "628c3e82",
   "metadata": {},
   "outputs": [
    {
     "name": "stdout",
     "output_type": "stream",
     "text": [
      "Open AI version: 0.28.1\n"
     ]
    }
   ],
   "source": [
    "load_dotenv(\"azure.env\")\n",
    "\n",
    "# Azure Open AI\n",
    "openai.api_type: str = \"azure\"\n",
    "openai.api_key = os.getenv(\"OPENAI_API_KEY\")\n",
    "openai.api_base = os.getenv(\"OPENAI_API_BASE\")\n",
    "openai.api_version = os.getenv(\"OPENAI_API_VERSION\")\n",
    "\n",
    "print(\"Open AI version:\", openai.__version__)"
   ]
  },
  {
   "cell_type": "markdown",
   "id": "00c0a4fe",
   "metadata": {},
   "source": [
    "## Fields extractions from emails"
   ]
  },
  {
   "cell_type": "code",
   "execution_count": 7,
   "id": "fe23b53b",
   "metadata": {},
   "outputs": [],
   "source": [
    "EMAILS_DIR = \"emails\""
   ]
  },
  {
   "cell_type": "code",
   "execution_count": 8,
   "id": "3421213c",
   "metadata": {},
   "outputs": [
    {
     "name": "stdout",
     "output_type": "stream",
     "text": [
      "total 3.7M\r\n",
      "-rwxrwxrwx 1 root root 942K Oct 26 13:01 'EXTERNAL Build a Chatbot That Learns and Remembers A Simple Guide Using MemGPT  Javier Calderon Jr.msg'\r\n",
      "-rwxrwxrwx 1 root root 319K Nov  7 12:57 'EXTERNAL Join Runway PepsiCo SoftServe and AWS for computer vision best practices.msg'\r\n",
      "-rwxrwxrwx 1 root root 223K Oct 25 13:57 'EXTERNAL Save the date - BUILD with Mapbox Nov. 16th.msg'\r\n",
      "-rwxrwxrwx 1 root root 1.2M Oct 25 13:07 \"EXTERNE Actualité de l'intelligence artificielle au 131023.msg\"\r\n",
      "-rwxrwxrwx 1 root root 493K Nov  7 12:57 \"EXTERNE IFS s'offre Falkonry - TPG investit dans Denodo - Nouveau patron Cyber NTT  France - iPhone 12 retiré du marché - Fuite de données chez Airbus - ....msg\"\r\n",
      "-rwxrwxrwx 1 root root 583K Nov  7 12:57 'Integrating Strategy and Financial Planning.msg'\r\n"
     ]
    }
   ],
   "source": [
    "!ls $EMAILS_DIR -lh"
   ]
  },
  {
   "cell_type": "code",
   "execution_count": 9,
   "id": "dc5264a3",
   "metadata": {},
   "outputs": [],
   "source": [
    "def extract_infos_from_msg(msg_file):\n",
    "    \"\"\"\n",
    "    Extract informations from a .msg email file\n",
    "    \"\"\"\n",
    "    msg = extract_msg.Message(msg_file)\n",
    "\n",
    "    sender = msg.sender\n",
    "    recipient = msg.to\n",
    "\n",
    "    date_msg = msg.date\n",
    "    date_format = \"%a, %d %b %Y %H:%M:%S %z\"\n",
    "    date_sent = datetime.strptime(date_msg, date_format)\n",
    "    date = date_sent.date()\n",
    "    time = date_sent.time()\n",
    "    subject = msg.subject\n",
    "    content = msg.body.split(\" \", 10)\n",
    "    content = \" \".join(content)\n",
    "\n",
    "    data = [[date_msg, date, time, msg_file, sender, recipient, subject, content]]\n",
    "\n",
    "    return data"
   ]
  },
  {
   "cell_type": "code",
   "execution_count": 10,
   "id": "f80288da",
   "metadata": {},
   "outputs": [],
   "source": [
    "def get_stats_text(text):\n",
    "    \"\"\"\n",
    "    Get length and tokens from a prompt\n",
    "    \"\"\"\n",
    "    length_text = len(text)\n",
    "    num_tokens = len(encoding.encode(text))\n",
    "    print(f\"Text length = {length_text}\\nNumber of tokens = {num_tokens}\")\n",
    "\n",
    "    return length_text, num_tokens"
   ]
  },
  {
   "cell_type": "code",
   "execution_count": 14,
   "id": "ad318194",
   "metadata": {},
   "outputs": [],
   "source": [
    "encoding = tiktoken.encoding_for_model(\"gpt-3.5-turbo\")\n",
    "llm = OpenAI(engine=\"text-davinci-003\", temperature=0.7)"
   ]
  },
  {
   "cell_type": "code",
   "execution_count": 12,
   "id": "b244a9a8",
   "metadata": {},
   "outputs": [],
   "source": [
    "def get_summary(text):\n",
    "    \"\"\"\n",
    "    Get summary of a text with langchain map reduce\n",
    "    \"\"\"\n",
    "    text_splitter = RecursiveCharacterTextSplitter(\n",
    "        chunk_size=4000, chunk_overlap=0, separators=[\" \", \",\", \"\\n\"]\n",
    "    )\n",
    "    texts = text_splitter.split_text(text)\n",
    "    docs = [Document(page_content=t) for t in texts[:4]]\n",
    "    chain = load_summarize_chain(llm, chain_type=\"map_reduce\")\n",
    "    output_summary = chain.run(docs)\n",
    "    summary = textwrap.fill(output_summary, width=100)\n",
    "\n",
    "    return summary"
   ]
  },
  {
   "cell_type": "code",
   "execution_count": 13,
   "id": "aa17f959",
   "metadata": {},
   "outputs": [],
   "source": [
    "columns = [\n",
    "    \"Datetime\",\n",
    "    \"Date\",\n",
    "    \"Time\",\n",
    "    \"Filename\",\n",
    "    \"Sender\",\n",
    "    \"Recipient\",\n",
    "    \"Subject\",\n",
    "    \"Content\",\n",
    "]"
   ]
  },
  {
   "cell_type": "code",
   "execution_count": 15,
   "id": "105ed947",
   "metadata": {},
   "outputs": [
    {
     "data": {
      "text/plain": [
       "['emails/EXTERNAL Build a Chatbot That Learns and Remembers A Simple Guide Using MemGPT  Javier Calderon Jr.msg',\n",
       " 'emails/EXTERNAL Join Runway PepsiCo SoftServe and AWS for computer vision best practices.msg',\n",
       " 'emails/EXTERNAL Save the date - BUILD with Mapbox Nov. 16th.msg',\n",
       " \"emails/EXTERNE Actualité de l'intelligence artificielle au 131023.msg\",\n",
       " \"emails/EXTERNE IFS s'offre Falkonry - TPG investit dans Denodo - Nouveau patron Cyber NTT  France - iPhone 12 retiré du marché - Fuite de données chez Airbus - ....msg\",\n",
       " 'emails/Integrating Strategy and Financial Planning.msg']"
      ]
     },
     "execution_count": 15,
     "metadata": {},
     "output_type": "execute_result"
    }
   ],
   "source": [
    "msg_list = glob.glob(os.path.join(EMAILS_DIR, \"*.msg\"))\n",
    "msg_list"
   ]
  },
  {
   "cell_type": "code",
   "execution_count": 16,
   "id": "88b2604a",
   "metadata": {},
   "outputs": [
    {
     "name": "stdout",
     "output_type": "stream",
     "text": [
      "Processing emails/EXTERNAL Build a Chatbot That Learns and Remembers A Simple Guide Using MemGPT  Javier Calderon Jr.msg\n",
      "Processing emails/EXTERNAL Join Runway PepsiCo SoftServe and AWS for computer vision best practices.msg\n",
      "Processing emails/EXTERNAL Save the date - BUILD with Mapbox Nov. 16th.msg\n",
      "Processing emails/EXTERNE Actualité de l'intelligence artificielle au 131023.msg\n",
      "Processing emails/EXTERNE IFS s'offre Falkonry - TPG investit dans Denodo - Nouveau patron Cyber NTT  France - iPhone 12 retiré du marché - Fuite de données chez Airbus - ....msg\n",
      "Processing emails/Integrating Strategy and Financial Planning.msg\n"
     ]
    }
   ],
   "source": [
    "for idx in range(len(msg_list)):\n",
    "    email_filename = msg_list[idx]\n",
    "    print(\"Processing\", email_filename)\n",
    "    data = extract_infos_from_msg(email_filename)\n",
    "\n",
    "    if idx == 0:\n",
    "        df = pd.DataFrame(data, columns=columns)\n",
    "    else:\n",
    "        new_df = pd.DataFrame(data, columns=columns)\n",
    "        df = pd.concat([df, new_df], ignore_index=True)"
   ]
  },
  {
   "cell_type": "code",
   "execution_count": 17,
   "id": "2ecb5fd9",
   "metadata": {},
   "outputs": [
    {
     "data": {
      "text/html": [
       "<div>\n",
       "<style scoped>\n",
       "    .dataframe tbody tr th:only-of-type {\n",
       "        vertical-align: middle;\n",
       "    }\n",
       "\n",
       "    .dataframe tbody tr th {\n",
       "        vertical-align: top;\n",
       "    }\n",
       "\n",
       "    .dataframe thead th {\n",
       "        text-align: right;\n",
       "    }\n",
       "</style>\n",
       "<table border=\"1\" class=\"dataframe\">\n",
       "  <thead>\n",
       "    <tr style=\"text-align: right;\">\n",
       "      <th></th>\n",
       "      <th>Datetime</th>\n",
       "      <th>Date</th>\n",
       "      <th>Time</th>\n",
       "      <th>Filename</th>\n",
       "      <th>Sender</th>\n",
       "      <th>Recipient</th>\n",
       "      <th>Subject</th>\n",
       "      <th>Content</th>\n",
       "    </tr>\n",
       "  </thead>\n",
       "  <tbody>\n",
       "    <tr>\n",
       "      <th>0</th>\n",
       "      <td>Thu, 26 Oct 2023 05:10:00 +0000</td>\n",
       "      <td>2023-10-26</td>\n",
       "      <td>05:10:00</td>\n",
       "      <td>emails/EXTERNAL Build a Chatbot That Learns an...</td>\n",
       "      <td>Medium Daily Digest &lt;noreply@medium.com&gt;</td>\n",
       "      <td>seretkow@microsoft.com</td>\n",
       "      <td>[EXTERNAL] Build a Chatbot That Learns and Rem...</td>\n",
       "      <td>&lt;https://medium.com/_/stat?event=email.opened...</td>\n",
       "    </tr>\n",
       "    <tr>\n",
       "      <th>1</th>\n",
       "      <td>Fri, 15 Sep 2023 09:16:04 +0000</td>\n",
       "      <td>2023-09-15</td>\n",
       "      <td>09:16:04</td>\n",
       "      <td>emails/EXTERNAL Join Runway PepsiCo SoftServe ...</td>\n",
       "      <td>NVIDIA &lt;news@nvidia.com&gt;</td>\n",
       "      <td>seretkow@microsoft.com</td>\n",
       "      <td>[EXTERNAL] Join Runway, PepsiCo, SoftServe, an...</td>\n",
       "      <td>Learn from the best in the field with our excl...</td>\n",
       "    </tr>\n",
       "    <tr>\n",
       "      <th>2</th>\n",
       "      <td>Fri, 13 Oct 2023 15:12:14 +0000</td>\n",
       "      <td>2023-10-13</td>\n",
       "      <td>15:12:14</td>\n",
       "      <td>emails/EXTERNAL Save the date - BUILD with Map...</td>\n",
       "      <td>Mapbox &lt;hello@mapbox.com&gt;</td>\n",
       "      <td>seretkow@microsoft.com</td>\n",
       "      <td>[EXTERNAL] Save the date - BUILD with Mapbox N...</td>\n",
       "      <td>\\tVous ne recevez pas souvent de courriers de ...</td>\n",
       "    </tr>\n",
       "    <tr>\n",
       "      <th>3</th>\n",
       "      <td>Fri, 13 Oct 2023 13:02:43 +0000</td>\n",
       "      <td>2023-10-13</td>\n",
       "      <td>13:02:43</td>\n",
       "      <td>emails/EXTERNE Actualité de l'intelligence art...</td>\n",
       "      <td>=?utf-8?Q?Actu=20IA?= &lt;contact@actuia.com&gt;</td>\n",
       "      <td>=?utf-8?Q?Serge?= &lt;serge.retkowsky@microsoft.com&gt;</td>\n",
       "      <td>[EXTERNE] Actualité de l'intelligence artifici...</td>\n",
       "      <td>\\t\\r\\n &lt;https://gallery.mailchimp.com/3c109347...</td>\n",
       "    </tr>\n",
       "    <tr>\n",
       "      <th>4</th>\n",
       "      <td>Thu, 14 Sep 2023 14:22:11 +0000</td>\n",
       "      <td>2023-09-14</td>\n",
       "      <td>14:22:11</td>\n",
       "      <td>emails/EXTERNE IFS s'offre Falkonry - TPG inve...</td>\n",
       "      <td>L'Informaticien &lt;newsletter@linformaticien.com&gt;</td>\n",
       "      <td>Serge Retkowsky &lt;serge.retkowsky@microsoft.com&gt;</td>\n",
       "      <td>[EXTERNE] IFS s'offre Falkonry - TPG investit ...</td>\n",
       "      <td>\\t\\r\\nSi cette lettre ne s'affiche pas correct...</td>\n",
       "    </tr>\n",
       "    <tr>\n",
       "      <th>5</th>\n",
       "      <td>Mon, 06 Nov 2023 08:57:27 +0000</td>\n",
       "      <td>2023-11-06</td>\n",
       "      <td>08:57:27</td>\n",
       "      <td>emails/Integrating Strategy and Financial Plan...</td>\n",
       "      <td>Marcel Bila via LinkedIn &lt;newsletters-noreply@...</td>\n",
       "      <td>Serge Retkowsky &lt;seretkow@microsoft.com&gt;</td>\n",
       "      <td>Integrating Strategy and Financial Planning</td>\n",
       "      <td>Welcome back to all my subscribers and thank y...</td>\n",
       "    </tr>\n",
       "  </tbody>\n",
       "</table>\n",
       "</div>"
      ],
      "text/plain": [
       "                          Datetime        Date      Time   \n",
       "0  Thu, 26 Oct 2023 05:10:00 +0000  2023-10-26  05:10:00  \\\n",
       "1  Fri, 15 Sep 2023 09:16:04 +0000  2023-09-15  09:16:04   \n",
       "2  Fri, 13 Oct 2023 15:12:14 +0000  2023-10-13  15:12:14   \n",
       "3  Fri, 13 Oct 2023 13:02:43 +0000  2023-10-13  13:02:43   \n",
       "4  Thu, 14 Sep 2023 14:22:11 +0000  2023-09-14  14:22:11   \n",
       "5  Mon, 06 Nov 2023 08:57:27 +0000  2023-11-06  08:57:27   \n",
       "\n",
       "                                            Filename   \n",
       "0  emails/EXTERNAL Build a Chatbot That Learns an...  \\\n",
       "1  emails/EXTERNAL Join Runway PepsiCo SoftServe ...   \n",
       "2  emails/EXTERNAL Save the date - BUILD with Map...   \n",
       "3  emails/EXTERNE Actualité de l'intelligence art...   \n",
       "4  emails/EXTERNE IFS s'offre Falkonry - TPG inve...   \n",
       "5  emails/Integrating Strategy and Financial Plan...   \n",
       "\n",
       "                                              Sender   \n",
       "0           Medium Daily Digest <noreply@medium.com>  \\\n",
       "1                           NVIDIA <news@nvidia.com>   \n",
       "2                          Mapbox <hello@mapbox.com>   \n",
       "3         =?utf-8?Q?Actu=20IA?= <contact@actuia.com>   \n",
       "4    L'Informaticien <newsletter@linformaticien.com>   \n",
       "5  Marcel Bila via LinkedIn <newsletters-noreply@...   \n",
       "\n",
       "                                           Recipient   \n",
       "0                             seretkow@microsoft.com  \\\n",
       "1                             seretkow@microsoft.com   \n",
       "2                             seretkow@microsoft.com   \n",
       "3  =?utf-8?Q?Serge?= <serge.retkowsky@microsoft.com>   \n",
       "4    Serge Retkowsky <serge.retkowsky@microsoft.com>   \n",
       "5           Serge Retkowsky <seretkow@microsoft.com>   \n",
       "\n",
       "                                             Subject   \n",
       "0  [EXTERNAL] Build a Chatbot That Learns and Rem...  \\\n",
       "1  [EXTERNAL] Join Runway, PepsiCo, SoftServe, an...   \n",
       "2  [EXTERNAL] Save the date - BUILD with Mapbox N...   \n",
       "3  [EXTERNE] Actualité de l'intelligence artifici...   \n",
       "4  [EXTERNE] IFS s'offre Falkonry - TPG investit ...   \n",
       "5        Integrating Strategy and Financial Planning   \n",
       "\n",
       "                                             Content  \n",
       "0   <https://medium.com/_/stat?event=email.opened...  \n",
       "1  Learn from the best in the field with our excl...  \n",
       "2  \\tVous ne recevez pas souvent de courriers de ...  \n",
       "3  \\t\\r\\n <https://gallery.mailchimp.com/3c109347...  \n",
       "4  \\t\\r\\nSi cette lettre ne s'affiche pas correct...  \n",
       "5  Welcome back to all my subscribers and thank y...  "
      ]
     },
     "execution_count": 17,
     "metadata": {},
     "output_type": "execute_result"
    }
   ],
   "source": [
    "df"
   ]
  },
  {
   "cell_type": "markdown",
   "id": "425b6389",
   "metadata": {},
   "source": [
    "## Testing"
   ]
  },
  {
   "cell_type": "code",
   "execution_count": 18,
   "id": "d8d801ec",
   "metadata": {},
   "outputs": [],
   "source": [
    "sample = \"At Microsoft, we're committed to the advancement of AI driven by principles that put people first. Generative models such as the ones available in Azure OpenAI have significant potential benefits, but without careful design and thoughtful mitigations, such models have the potential to generate incorrect or even harmful content. Microsoft has made significant investments to help guard against abuse and unintended harm, which includes requiring applicants to show well-defined use cases, incorporating Microsoft’s principles for responsible AI use, building content filters to support customers, and providing responsible AI implementation guidance to onboarded customers.\""
   ]
  },
  {
   "cell_type": "code",
   "execution_count": 19,
   "id": "4db77a51",
   "metadata": {},
   "outputs": [
    {
     "name": "stdout",
     "output_type": "stream",
     "text": [
      "Text length = 674\n",
      "Number of tokens = 110\n"
     ]
    },
    {
     "data": {
      "text/plain": [
       "(674, 110)"
      ]
     },
     "execution_count": 19,
     "metadata": {},
     "output_type": "execute_result"
    }
   ],
   "source": [
    "get_stats_text(sample)"
   ]
  },
  {
   "cell_type": "code",
   "execution_count": 20,
   "id": "41ec0bc7",
   "metadata": {},
   "outputs": [
    {
     "name": "stdout",
     "output_type": "stream",
     "text": [
      " Microsoft is committed to using Artificial Intelligence (AI) in a safe and responsible way, and is\n",
      "investing in measures such as customer use cases, responsible AI principles, content filters, and\n",
      "implementation guidance to ensure that no incorrect or dangerous content is produced.\n"
     ]
    }
   ],
   "source": [
    "print(get_summary(sample))"
   ]
  },
  {
   "cell_type": "markdown",
   "id": "ebab39e3",
   "metadata": {},
   "source": [
    "## Running the email summary for all the emails content from the dataframe"
   ]
  },
  {
   "cell_type": "code",
   "execution_count": 21,
   "id": "335cd4ba",
   "metadata": {},
   "outputs": [
    {
     "name": "stdout",
     "output_type": "stream",
     "text": [
      "Processing all the emails...\n",
      "\n",
      "1 Processing emails/EXTERNAL Build a Chatbot That Learns and Remembers A Simple Guide Using MemGPT  Javier Calderon Jr.msg\n",
      "Text length = 50951\n",
      "Number of tokens = 26769\n",
      "\n",
      "2 Processing emails/EXTERNAL Join Runway PepsiCo SoftServe and AWS for computer vision best practices.msg\n",
      "Text length = 12256\n",
      "Number of tokens = 6688\n",
      "\n",
      "3 Processing emails/EXTERNAL Save the date - BUILD with Mapbox Nov. 16th.msg\n",
      "Text length = 6003\n",
      "Number of tokens = 3289\n",
      "\n",
      "4 Processing emails/EXTERNE Actualité de l'intelligence artificielle au 131023.msg\n",
      "Text length = 55188\n",
      "Number of tokens = 27765\n",
      "\n",
      "5 Processing emails/EXTERNE IFS s'offre Falkonry - TPG investit dans Denodo - Nouveau patron Cyber NTT  France - iPhone 12 retiré du marché - Fuite de données chez Airbus - ....msg\n",
      "Text length = 21952\n",
      "Number of tokens = 11054\n",
      "\n",
      "6 Processing emails/Integrating Strategy and Financial Planning.msg\n",
      "Text length = 22066\n",
      "Number of tokens = 8634\n",
      "\n",
      "\n",
      "Done\n"
     ]
    }
   ],
   "source": [
    "print(\"Processing all the emails...\\n\")\n",
    "\n",
    "for idx in range(df.shape[0]):\n",
    "    print(idx + 1, \"Processing\", df.loc[idx, \"Filename\"])\n",
    "    df.loc[idx, \"summary\"] = get_summary(df.loc[idx, \"Content\"])\n",
    "    df.loc[idx, \"length\"], df.loc[idx, \"nb_tokens\"] = get_stats_text(\n",
    "        df.loc[idx, \"Content\"]\n",
    "    )\n",
    "    print()\n",
    "\n",
    "print(\"\\nDone\")"
   ]
  },
  {
   "cell_type": "code",
   "execution_count": 22,
   "id": "e9b74651",
   "metadata": {},
   "outputs": [
    {
     "data": {
      "text/html": [
       "<div>\n",
       "<style scoped>\n",
       "    .dataframe tbody tr th:only-of-type {\n",
       "        vertical-align: middle;\n",
       "    }\n",
       "\n",
       "    .dataframe tbody tr th {\n",
       "        vertical-align: top;\n",
       "    }\n",
       "\n",
       "    .dataframe thead th {\n",
       "        text-align: right;\n",
       "    }\n",
       "</style>\n",
       "<table border=\"1\" class=\"dataframe\">\n",
       "  <thead>\n",
       "    <tr style=\"text-align: right;\">\n",
       "      <th></th>\n",
       "      <th>Datetime</th>\n",
       "      <th>Date</th>\n",
       "      <th>Time</th>\n",
       "      <th>Filename</th>\n",
       "      <th>Sender</th>\n",
       "      <th>Recipient</th>\n",
       "      <th>Subject</th>\n",
       "      <th>Content</th>\n",
       "      <th>summary</th>\n",
       "      <th>length</th>\n",
       "      <th>nb_tokens</th>\n",
       "    </tr>\n",
       "  </thead>\n",
       "  <tbody>\n",
       "    <tr>\n",
       "      <th>0</th>\n",
       "      <td>Thu, 26 Oct 2023 05:10:00 +0000</td>\n",
       "      <td>2023-10-26</td>\n",
       "      <td>05:10:00</td>\n",
       "      <td>emails/EXTERNAL Build a Chatbot That Learns an...</td>\n",
       "      <td>Medium Daily Digest &lt;noreply@medium.com&gt;</td>\n",
       "      <td>seretkow@microsoft.com</td>\n",
       "      <td>[EXTERNAL] Build a Chatbot That Learns and Rem...</td>\n",
       "      <td>&lt;https://medium.com/_/stat?event=email.opened...</td>\n",
       "      <td>This article provides a guide for building se...</td>\n",
       "      <td>50951.0</td>\n",
       "      <td>26769.0</td>\n",
       "    </tr>\n",
       "    <tr>\n",
       "      <th>1</th>\n",
       "      <td>Fri, 15 Sep 2023 09:16:04 +0000</td>\n",
       "      <td>2023-09-15</td>\n",
       "      <td>09:16:04</td>\n",
       "      <td>emails/EXTERNAL Join Runway PepsiCo SoftServe ...</td>\n",
       "      <td>NVIDIA &lt;news@nvidia.com&gt;</td>\n",
       "      <td>seretkow@microsoft.com</td>\n",
       "      <td>[EXTERNAL] Join Runway, PepsiCo, SoftServe, an...</td>\n",
       "      <td>Learn from the best in the field with our excl...</td>\n",
       "      <td>NVIDIA is hosting a free computer vision spea...</td>\n",
       "      <td>12256.0</td>\n",
       "      <td>6688.0</td>\n",
       "    </tr>\n",
       "    <tr>\n",
       "      <th>2</th>\n",
       "      <td>Fri, 13 Oct 2023 15:12:14 +0000</td>\n",
       "      <td>2023-10-13</td>\n",
       "      <td>15:12:14</td>\n",
       "      <td>emails/EXTERNAL Save the date - BUILD with Map...</td>\n",
       "      <td>Mapbox &lt;hello@mapbox.com&gt;</td>\n",
       "      <td>seretkow@microsoft.com</td>\n",
       "      <td>[EXTERNAL] Save the date - BUILD with Mapbox N...</td>\n",
       "      <td>\\tVous ne recevez pas souvent de courriers de ...</td>\n",
       "      <td>Mapbox is hosting their second annual BUILD e...</td>\n",
       "      <td>6003.0</td>\n",
       "      <td>3289.0</td>\n",
       "    </tr>\n",
       "    <tr>\n",
       "      <th>3</th>\n",
       "      <td>Fri, 13 Oct 2023 13:02:43 +0000</td>\n",
       "      <td>2023-10-13</td>\n",
       "      <td>13:02:43</td>\n",
       "      <td>emails/EXTERNE Actualité de l'intelligence art...</td>\n",
       "      <td>=?utf-8?Q?Actu=20IA?= &lt;contact@actuia.com&gt;</td>\n",
       "      <td>=?utf-8?Q?Serge?= &lt;serge.retkowsky@microsoft.com&gt;</td>\n",
       "      <td>[EXTERNE] Actualité de l'intelligence artifici...</td>\n",
       "      <td>\\t\\r\\n &lt;https://gallery.mailchimp.com/3c109347...</td>\n",
       "      <td>Une étude menée par Bain &amp; Company et UiPath ...</td>\n",
       "      <td>55188.0</td>\n",
       "      <td>27765.0</td>\n",
       "    </tr>\n",
       "    <tr>\n",
       "      <th>4</th>\n",
       "      <td>Thu, 14 Sep 2023 14:22:11 +0000</td>\n",
       "      <td>2023-09-14</td>\n",
       "      <td>14:22:11</td>\n",
       "      <td>emails/EXTERNE IFS s'offre Falkonry - TPG inve...</td>\n",
       "      <td>L'Informaticien &lt;newsletter@linformaticien.com&gt;</td>\n",
       "      <td>Serge Retkowsky &lt;serge.retkowsky@microsoft.com&gt;</td>\n",
       "      <td>[EXTERNE] IFS s'offre Falkonry - TPG investit ...</td>\n",
       "      <td>\\t\\r\\nSi cette lettre ne s'affiche pas correct...</td>\n",
       "      <td>NTT France a annoncé Amaury Ortega comme leur...</td>\n",
       "      <td>21952.0</td>\n",
       "      <td>11054.0</td>\n",
       "    </tr>\n",
       "    <tr>\n",
       "      <th>5</th>\n",
       "      <td>Mon, 06 Nov 2023 08:57:27 +0000</td>\n",
       "      <td>2023-11-06</td>\n",
       "      <td>08:57:27</td>\n",
       "      <td>emails/Integrating Strategy and Financial Plan...</td>\n",
       "      <td>Marcel Bila via LinkedIn &lt;newsletters-noreply@...</td>\n",
       "      <td>Serge Retkowsky &lt;seretkow@microsoft.com&gt;</td>\n",
       "      <td>Integrating Strategy and Financial Planning</td>\n",
       "      <td>Welcome back to all my subscribers and thank y...</td>\n",
       "      <td>Marcel Bila's LinkedIn newsletter discusses h...</td>\n",
       "      <td>22066.0</td>\n",
       "      <td>8634.0</td>\n",
       "    </tr>\n",
       "  </tbody>\n",
       "</table>\n",
       "</div>"
      ],
      "text/plain": [
       "                          Datetime        Date      Time   \n",
       "0  Thu, 26 Oct 2023 05:10:00 +0000  2023-10-26  05:10:00  \\\n",
       "1  Fri, 15 Sep 2023 09:16:04 +0000  2023-09-15  09:16:04   \n",
       "2  Fri, 13 Oct 2023 15:12:14 +0000  2023-10-13  15:12:14   \n",
       "3  Fri, 13 Oct 2023 13:02:43 +0000  2023-10-13  13:02:43   \n",
       "4  Thu, 14 Sep 2023 14:22:11 +0000  2023-09-14  14:22:11   \n",
       "5  Mon, 06 Nov 2023 08:57:27 +0000  2023-11-06  08:57:27   \n",
       "\n",
       "                                            Filename   \n",
       "0  emails/EXTERNAL Build a Chatbot That Learns an...  \\\n",
       "1  emails/EXTERNAL Join Runway PepsiCo SoftServe ...   \n",
       "2  emails/EXTERNAL Save the date - BUILD with Map...   \n",
       "3  emails/EXTERNE Actualité de l'intelligence art...   \n",
       "4  emails/EXTERNE IFS s'offre Falkonry - TPG inve...   \n",
       "5  emails/Integrating Strategy and Financial Plan...   \n",
       "\n",
       "                                              Sender   \n",
       "0           Medium Daily Digest <noreply@medium.com>  \\\n",
       "1                           NVIDIA <news@nvidia.com>   \n",
       "2                          Mapbox <hello@mapbox.com>   \n",
       "3         =?utf-8?Q?Actu=20IA?= <contact@actuia.com>   \n",
       "4    L'Informaticien <newsletter@linformaticien.com>   \n",
       "5  Marcel Bila via LinkedIn <newsletters-noreply@...   \n",
       "\n",
       "                                           Recipient   \n",
       "0                             seretkow@microsoft.com  \\\n",
       "1                             seretkow@microsoft.com   \n",
       "2                             seretkow@microsoft.com   \n",
       "3  =?utf-8?Q?Serge?= <serge.retkowsky@microsoft.com>   \n",
       "4    Serge Retkowsky <serge.retkowsky@microsoft.com>   \n",
       "5           Serge Retkowsky <seretkow@microsoft.com>   \n",
       "\n",
       "                                             Subject   \n",
       "0  [EXTERNAL] Build a Chatbot That Learns and Rem...  \\\n",
       "1  [EXTERNAL] Join Runway, PepsiCo, SoftServe, an...   \n",
       "2  [EXTERNAL] Save the date - BUILD with Mapbox N...   \n",
       "3  [EXTERNE] Actualité de l'intelligence artifici...   \n",
       "4  [EXTERNE] IFS s'offre Falkonry - TPG investit ...   \n",
       "5        Integrating Strategy and Financial Planning   \n",
       "\n",
       "                                             Content   \n",
       "0   <https://medium.com/_/stat?event=email.opened...  \\\n",
       "1  Learn from the best in the field with our excl...   \n",
       "2  \\tVous ne recevez pas souvent de courriers de ...   \n",
       "3  \\t\\r\\n <https://gallery.mailchimp.com/3c109347...   \n",
       "4  \\t\\r\\nSi cette lettre ne s'affiche pas correct...   \n",
       "5  Welcome back to all my subscribers and thank y...   \n",
       "\n",
       "                                             summary   length  nb_tokens  \n",
       "0   This article provides a guide for building se...  50951.0    26769.0  \n",
       "1   NVIDIA is hosting a free computer vision spea...  12256.0     6688.0  \n",
       "2   Mapbox is hosting their second annual BUILD e...   6003.0     3289.0  \n",
       "3   Une étude menée par Bain & Company et UiPath ...  55188.0    27765.0  \n",
       "4   NTT France a annoncé Amaury Ortega comme leur...  21952.0    11054.0  \n",
       "5   Marcel Bila's LinkedIn newsletter discusses h...  22066.0     8634.0  "
      ]
     },
     "execution_count": 22,
     "metadata": {},
     "output_type": "execute_result"
    }
   ],
   "source": [
    "df"
   ]
  },
  {
   "cell_type": "code",
   "execution_count": 23,
   "id": "d55d36b3",
   "metadata": {},
   "outputs": [
    {
     "name": "stdout",
     "output_type": "stream",
     "text": [
      "\u001b[1;31;32mEmail title: emails/EXTERNAL Build a Chatbot That Learns and Remembers A Simple Guide Using MemGPT  Javier Calderon Jr.msg\n",
      "\u001b[1;31;34mEmail summary:  This article provides a guide for building self-learning chatbots using MemGPT, and discusses the\n",
      "AI Bill of Rights and OpenAI Embeddings, FAISS vector DB, and other technological approaches to\n",
      "revolutionize information extraction from text files. It also explains how to build a local chatbot\n",
      "with Llama2 and LangChain, and how to use Streamlit and GPT-4 to prototype a web app for suggesting\n",
      "personalized early-years activities. \n",
      "\n",
      "\u001b[1;31;32mEmail title: emails/EXTERNAL Join Runway PepsiCo SoftServe and AWS for computer vision best practices.msg\n",
      "\u001b[1;31;34mEmail summary:  NVIDIA is hosting a free computer vision speaker series with experts from PepsiCo, Runway,\n",
      "SoftServe, and AWS to discuss the deployment of NVIDIA CV SDKs in various industries, including\n",
      "healthcare, retail, robotics, and media & entertainment. The webinar will take place on Wednesdays\n",
      "from October 25th to November 15th, 2023 from 8:00-8:45am PT. NVIDIA has provided a privacy policy\n",
      "link, preferences manager link, unsubscribe link, contact link, and online viewer link. The\n",
      "company's address is located in Courbevoie, France and all rights are reserved © 2023. \n",
      "\n",
      "\u001b[1;31;32mEmail title: emails/EXTERNAL Save the date - BUILD with Mapbox Nov. 16th.msg\n",
      "\u001b[1;31;34mEmail summary:  Mapbox is hosting their second annual BUILD event on November 16th. During the event, attendees can\n",
      "learn about two new Mapbox products, get insight into the future of location technology and trends\n",
      "in the industry, have tours and demos of Mapbox products, and ask questions to Mapbox engineers.\n",
      "Registration is now open. \n",
      "\n",
      "\u001b[1;31;32mEmail title: emails/EXTERNE Actualité de l'intelligence artificielle au 131023.msg\n",
      "\u001b[1;31;34mEmail summary:  Une étude menée par Bain & Company et UiPath explore les impacts positifs de l'IA et de\n",
      "l'automatisation à grande échelle. OpenAI explore l'option de fabriquer des puces d'IA pour ses\n",
      "projets. La gendarmerie nationale a organisé son premier colloque européen sur l'IA. Adobe MAX 2023\n",
      "s'est penché sur l'IA générative et Google a lancé des cours gratuits sur l'intelligence\n",
      "artificielle générative. \n",
      "\n",
      "\u001b[1;31;32mEmail title: emails/EXTERNE IFS s'offre Falkonry - TPG investit dans Denodo - Nouveau patron Cyber NTT  France - iPhone 12 retiré du marché - Fuite de données chez Airbus - ....msg\n",
      "\u001b[1;31;34mEmail summary:  NTT France a annoncé Amaury Ortega comme leur nouveau chef de la cybersécurité, l’iPhone 12 a été\n",
      "retiré du marché français en raison des limites réglementaires de débit d'absorption spécifique,\n",
      "Airbus a été victime d'une fuite de données commerciales et les casinos et hôtels MGM ont été\n",
      "paralysés par une cyberattaque. Enfabrica a levé 125 millions de dollars pour produire sa solution\n",
      "d'accélération de circulation et Exclusive Networks a acquis un concurrent espagnol pour accélérer\n",
      "son développement en Europe du sud. Akerva est devenu partenaire des candidats à l'obtention du\n",
      "SecNumCloud. \n",
      "\n",
      "\u001b[1;31;32mEmail title: emails/Integrating Strategy and Financial Planning.msg\n",
      "\u001b[1;31;34mEmail summary:  Marcel Bila's LinkedIn newsletter discusses how Corporate Performance Management (CPM), Data\n",
      "Analytics and Financial Planning & Analysis (FP&A) can be used to align a company's strategic goals\n",
      "and financial plans. He explains the importance of this alignment for decision-making, resource\n",
      "allocation, risk mitigation, and better chances of success. He provides strategies for integration\n",
      "such as cross-functional teams, KPIs, and scenario planning. He also invites readers to share their\n",
      "strategies and continue the conversation. \n",
      "\n"
     ]
    }
   ],
   "source": [
    "for idx in range(df.shape[0]):\n",
    "    print(\"\\033[1;31;32mEmail title:\", df.loc[idx, \"Filename\"])\n",
    "    print(\"\\033[1;31;34mEmail summary:\", df.loc[idx, \"summary\"], \"\\n\")"
   ]
  },
  {
   "cell_type": "code",
   "execution_count": 24,
   "id": "3243978c",
   "metadata": {},
   "outputs": [
    {
     "data": {
      "image/png": "[encoded data removed]",
      "text/plain": [
       "<Figure size 1500x700 with 1 Axes>"
      ]
     },
     "metadata": {},
     "output_type": "display_data"
    }
   ],
   "source": [
    "plt.figure(figsize=(15, 7))\n",
    "plt.plot(df[\"nb_tokens\"], marker=\"o\", linestyle=\"-\")\n",
    "plt.xlabel(\"email\")\n",
    "plt.ylabel(\"Nb tokens\")\n",
    "plt.title(\"Tokens distribution\")\n",
    "plt.grid(True)\n",
    "plt.show()"
   ]
  },
  {
   "cell_type": "code",
   "execution_count": 25,
   "id": "b44cb55f",
   "metadata": {},
   "outputs": [
    {
     "name": "stdout",
     "output_type": "stream",
     "text": [
      "-rwxrwxrwx 1 root root 33K Nov  9 10:34 myemails.xlsx\r\n"
     ]
    }
   ],
   "source": [
    "excel_file = \"myemails.xlsx\"\n",
    "df.to_excel(excel_file, sheet_name='emails')\n",
    "\n",
    "!ls $excel_file -lh"
   ]
  },
  {
   "cell_type": "code",
   "execution_count": null,
   "id": "2b63ee4c",
   "metadata": {},
   "outputs": [],
   "source": []
  },
  {
   "cell_type": "code",
   "execution_count": null,
   "id": "f39e5c56",
   "metadata": {},
   "outputs": [],
   "source": []
  }
 ],
 "metadata": {
  "kernelspec": {
   "display_name": "Python 3.10 - SDK v2",
   "language": "python",
   "name": "python310-sdkv2"
  },
  "language_info": {
   "codemirror_mode": {
    "name": "ipython",
    "version": 3
   },
   "file_extension": ".py",
   "mimetype": "text/x-python",
   "name": "python",
   "nbconvert_exporter": "python",
   "pygments_lexer": "ipython3",
   "version": "3.10.10"
  }
 },
 "nbformat": 4,
 "nbformat_minor": 5
}
