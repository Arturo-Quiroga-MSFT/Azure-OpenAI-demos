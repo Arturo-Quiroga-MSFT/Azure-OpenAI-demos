{
 "cells": [
  {
   "cell_type": "markdown",
   "id": "b47c7e94",
   "metadata": {},
   "source": [
    "# RAG application with Azure Open AI & Azure Cognitive Search\n",
    "## Resume analysis usecase - 02 Embeddings and indexing\n",
    "\n",
    "### Objective\n",
    "Let's build an application that will analyse **resume PDF documents using a RAG application.**\n",
    "\n",
    "<img src=\"https://github.com/retkowsky/images/blob/master/HR.jpg?raw=true\">\n",
    "\n",
    "**Retrieval-Augmented Generation (RAG)** can exhibit variability in its implementation, but at a fundamental level, employing RAG within an AI-driven application involves the following sequential steps:\n",
    "\n",
    "- The user submits a query or question.\n",
    "- The system initiates a search for pertinent documents that hold the potential to address the user's query. These documents are often comprised of proprietary data and are maintained within a document index.\n",
    "- The system formulates an instruction set for the Language Model (LLM) that encompasses the user's input, the identified relevant documents, and directives on how to utilize these documents to respond to the user's query effectively.\n",
    "- The system transmits this comprehensive prompt to the Language Model.\n",
    "- The Language Model processes the prompt and generates a response to the user's question, drawing upon the context provided. This response constitutes the output of our system.\n",
    "\n",
    "### Steps\n",
    "- Uploading PDF documents into an Azure Cognitive Search Index\n",
    "- Use of some Azure Cognitive Search queries to get some answers\n",
    "- Use a GPT model to analyse the answer (summmary, keywords generation)\n",
    "- Get the text from the document and the reference to validate the proposed answer\n",
    "- Chatbot experience using Azure Open AI to ask questions and get results provided by AI with references\n",
    "\n",
    "### Process\n",
    "<img src=\"https://github.com/retkowsky/images/blob/master/rag.png?raw=true\" width=800>"
   ]
  },
  {
   "cell_type": "code",
   "execution_count": 1,
   "id": "e74c6097",
   "metadata": {},
   "outputs": [],
   "source": [
    "#%pip install azure-search-documents==11.4.0b8"
   ]
  },
  {
   "cell_type": "code",
   "execution_count": 2,
   "id": "3868f95d",
   "metadata": {},
   "outputs": [],
   "source": [
    "#%pip install openai==0.28.1"
   ]
  },
  {
   "cell_type": "code",
   "execution_count": 3,
   "id": "f2418c4f",
   "metadata": {},
   "outputs": [],
   "source": [
    "import datetime\n",
    "import gradio as gr\n",
    "import langchain\n",
    "import matplotlib.pyplot as plt\n",
    "import openai\n",
    "import os\n",
    "import pandas as pd\n",
    "import random\n",
    "import sys\n",
    "import time\n",
    "\n",
    "from azure_rag import (\n",
    "    get_storage_info,\n",
    "    get_stats_from_pdf_file,\n",
    "    delete_index,\n",
    "    index_status,\n",
    "    index_stats,\n",
    "    ask_gpt,\n",
    "    openai_text_embeddings,\n",
    "    upload_docs,\n",
    "    similarity_comparison,\n",
    ")\n",
    "from dotenv import load_dotenv\n",
    "from IPython.display import FileLink\n",
    "from langchain.embeddings.openai import OpenAIEmbeddings\n",
    "from langchain.vectorstores.azuresearch import AzureSearch"
   ]
  },
  {
   "cell_type": "code",
   "execution_count": 4,
   "id": "74f9e788",
   "metadata": {},
   "outputs": [
    {
     "name": "stdout",
     "output_type": "stream",
     "text": [
      "Today: 16-Nov-2023 11:20:59\n"
     ]
    }
   ],
   "source": [
    "print(f\"Today: {datetime.datetime.today().strftime('%d-%b-%Y %H:%M:%S')}\")"
   ]
  },
  {
   "cell_type": "code",
   "execution_count": 5,
   "id": "fef2b905",
   "metadata": {},
   "outputs": [
    {
     "name": "stdout",
     "output_type": "stream",
     "text": [
      "Total storage: 126.8 GB\n",
      "- Used: 115.9 GB    91.43%\n",
      "- Free: 10.8 GB     8.55%\n"
     ]
    }
   ],
   "source": [
    "get_storage_info()"
   ]
  },
  {
   "cell_type": "code",
   "execution_count": 6,
   "id": "899cc911",
   "metadata": {},
   "outputs": [
    {
     "name": "stdout",
     "output_type": "stream",
     "text": [
      "Python version: 3.10.10 (main, Mar 21 2023, 18:45:11) [GCC 11.2.0]\n",
      "OpenAI version: 0.28.1\n",
      "Langchain version: 0.0.300\n"
     ]
    }
   ],
   "source": [
    "print(f\"Python version: {sys.version}\")\n",
    "print(f\"OpenAI version: {openai.__version__}\")\n",
    "print(f\"Langchain version: {langchain.__version__}\")"
   ]
  },
  {
   "cell_type": "markdown",
   "id": "e85352de",
   "metadata": {},
   "source": [
    "## 1. Settings"
   ]
  },
  {
   "cell_type": "code",
   "execution_count": 7,
   "id": "9e78ac6a",
   "metadata": {},
   "outputs": [],
   "source": [
    "load_dotenv(\"azure.env\")\n",
    "\n",
    "# Azure Open AI\n",
    "openai.api_type: str = \"azure\"\n",
    "openai.api_key = os.getenv(\"OPENAI_API_KEY\")\n",
    "openai.api_base = os.getenv(\"OPENAI_API_BASE\")\n",
    "openai.api_version = os.getenv(\"OPENAI_API_VERSION\")\n",
    "\n",
    "# Azure Cognitive Search\n",
    "azure_cs_endpoint = os.getenv(\"AZURE_COGNITIVE_SEARCH_ENDPOINT\")\n",
    "azure_cs_key = os.getenv(\"AZURE_COGNITIVE_SEARCH_API_KEY\")"
   ]
  },
  {
   "cell_type": "code",
   "execution_count": 8,
   "id": "54d08bd9",
   "metadata": {},
   "outputs": [],
   "source": [
    "# Azure Open AI models (Should be deployed on your Azure OpenAI studio)\n",
    "embed_model: str = \"text-embedding-ada-002\"  # Embedding model\n",
    "gptmodel: str = \"gpt-35-turbo-16k\"  # GPT Model\n",
    "\n",
    "# Azure Cognitive search index\n",
    "index_name: str = \"resume-rag-demo\""
   ]
  },
  {
   "cell_type": "code",
   "execution_count": 9,
   "id": "125ff821",
   "metadata": {},
   "outputs": [
    {
     "name": "stdout",
     "output_type": "stream",
     "text": [
      "Embedding model: text-embedding-ada-002\n",
      "Azure Open AI model: gpt-35-turbo-16k\n",
      "We will create the Azure Cognitive Search index: resume-rag-demo\n"
     ]
    }
   ],
   "source": [
    "print(f\"Embedding model: {embed_model}\\nAzure Open AI model: {gptmodel}\")\n",
    "print(f\"We will create the Azure Cognitive Search index: {index_name}\")"
   ]
  },
  {
   "cell_type": "markdown",
   "id": "2e36bdf4",
   "metadata": {},
   "source": [
    "## 2. PDF documents"
   ]
  },
  {
   "cell_type": "code",
   "execution_count": 10,
   "id": "5ee87a98",
   "metadata": {},
   "outputs": [],
   "source": [
    "PDF_DIR = \"cv\""
   ]
  },
  {
   "cell_type": "code",
   "execution_count": 11,
   "id": "6a2d025d",
   "metadata": {},
   "outputs": [],
   "source": [
    "def count_pdf_files_per_dir(top_directory):\n",
    "    \"\"\"\n",
    "    Count PDF files from a dir including sub directories\n",
    "    \"\"\"\n",
    "    pdf_results = {}\n",
    "    total_pdf = 0\n",
    "\n",
    "    for root, dirs, files in os.walk(top_directory):\n",
    "        if \".ipynb_checkpoints\" in dirs:\n",
    "            dirs.remove(\".ipynb_checkpoints\")\n",
    "        pdf_count = sum(1 for file in files if file.lower().endswith(\".pdf\"))\n",
    "        pdf_results[root] = pdf_count\n",
    "        total_pdf += pdf_count\n",
    "\n",
    "    return pdf_results, total_pdf"
   ]
  },
  {
   "cell_type": "code",
   "execution_count": 12,
   "id": "8cdd7db6",
   "metadata": {},
   "outputs": [
    {
     "name": "stdout",
     "output_type": "stream",
     "text": [
      "Dir: cv | Total number of PDF files = 0\n",
      "Dir: cv/BUSINESS-DEVELOPMENT | Total number of PDF files = 113\n",
      "Dir: cv/CONSULTANT | Total number of PDF files = 115\n",
      "Dir: cv/DESIGNER | Total number of PDF files = 107\n",
      "Dir: cv/DIGITAL-MEDIA | Total number of PDF files = 96\n",
      "Dir: cv/ENGINEERING | Total number of PDF files = 118\n",
      "Dir: cv/INFORMATION-TECHNOLOGY | Total number of PDF files = 120\n",
      "Dir: cv/SALES | Total number of PDF files = 116\n",
      "\n",
      "Total of PDF files = 785\n"
     ]
    }
   ],
   "source": [
    "pdf_results, total_pdf = count_pdf_files_per_dir(PDF_DIR)\n",
    "\n",
    "for directory, pdf_count in pdf_results.items():\n",
    "    print(f\"Dir: {directory} | Total number of PDF files = {pdf_count}\")\n",
    "\n",
    "print(f\"\\nTotal of PDF files = {total_pdf}\")"
   ]
  },
  {
   "cell_type": "code",
   "execution_count": 13,
   "id": "7f1e8812",
   "metadata": {},
   "outputs": [],
   "source": [
    "def get_pdf_filenames(directory):\n",
    "    \"\"\"\n",
    "    Get PDF files list\n",
    "    \"\"\"\n",
    "    pdf_files = []\n",
    "    for root, dirs, files in os.walk(directory):\n",
    "        for file in files:\n",
    "            if file.lower().endswith(\".pdf\"):\n",
    "                pdf_files.append(os.path.join(root, file))\n",
    "\n",
    "    return pdf_files"
   ]
  },
  {
   "cell_type": "code",
   "execution_count": 14,
   "id": "cff30455",
   "metadata": {},
   "outputs": [
    {
     "data": {
      "text/plain": [
       "['cv/BUSINESS-DEVELOPMENT/10228751.pdf',\n",
       " 'cv/BUSINESS-DEVELOPMENT/10235211.pdf',\n",
       " 'cv/BUSINESS-DEVELOPMENT/10289113.pdf',\n",
       " 'cv/BUSINESS-DEVELOPMENT/10501991.pdf',\n",
       " 'cv/BUSINESS-DEVELOPMENT/10541358.pdf',\n",
       " 'cv/BUSINESS-DEVELOPMENT/10704573.pdf',\n",
       " 'cv/BUSINESS-DEVELOPMENT/11088337.pdf',\n",
       " 'cv/BUSINESS-DEVELOPMENT/11289482.pdf',\n",
       " 'cv/BUSINESS-DEVELOPMENT/11551946.pdf',\n",
       " 'cv/BUSINESS-DEVELOPMENT/12059198.pdf']"
      ]
     },
     "execution_count": 14,
     "metadata": {},
     "output_type": "execute_result"
    }
   ],
   "source": [
    "pdf_files = get_pdf_filenames(PDF_DIR)\n",
    "pdf_files[:10]"
   ]
  },
  {
   "cell_type": "code",
   "execution_count": 15,
   "id": "bb6d8916",
   "metadata": {},
   "outputs": [
    {
     "name": "stdout",
     "output_type": "stream",
     "text": [
      "Total number of CV PDF files = 785\n"
     ]
    }
   ],
   "source": [
    "print(f\"Total number of CV PDF files = {len(pdf_files)}\")"
   ]
  },
  {
   "cell_type": "markdown",
   "id": "466d6eff",
   "metadata": {},
   "source": [
    "## 3. Loading the PDF documents"
   ]
  },
  {
   "cell_type": "markdown",
   "id": "df6799f2",
   "metadata": {},
   "source": [
    "We will chunk our PDF documents, do the embeddings and save the content into Azure Cognitive Search"
   ]
  },
  {
   "cell_type": "code",
   "execution_count": 16,
   "id": "da1d4410",
   "metadata": {},
   "outputs": [
    {
     "data": {
      "text/plain": [
       "'text-embedding-ada-002'"
      ]
     },
     "execution_count": 16,
     "metadata": {},
     "output_type": "execute_result"
    }
   ],
   "source": [
    "embed_model"
   ]
  },
  {
   "cell_type": "code",
   "execution_count": 18,
   "id": "4c463b57",
   "metadata": {},
   "outputs": [],
   "source": [
    "# Embeddings engine\n",
    "embeddings: OpenAIEmbeddings = OpenAIEmbeddings(engine=embed_model)"
   ]
  },
  {
   "cell_type": "code",
   "execution_count": 19,
   "id": "dca2ac72",
   "metadata": {},
   "outputs": [],
   "source": [
    "# Azure Cognitive Search as the vector store\n",
    "vector_store: AzureSearch = AzureSearch(\n",
    "    azure_search_endpoint=azure_cs_endpoint,\n",
    "    azure_search_key=azure_cs_key,\n",
    "    index_name=index_name,\n",
    "    embedding_function=embeddings.embed_query,\n",
    ")"
   ]
  },
  {
   "cell_type": "code",
   "execution_count": 20,
   "id": "641c876e",
   "metadata": {},
   "outputs": [
    {
     "data": {
      "text/plain": [
       "<langchain.vectorstores.azuresearch.AzureSearch at 0x7f13017a7fd0>"
      ]
     },
     "execution_count": 20,
     "metadata": {},
     "output_type": "execute_result"
    }
   ],
   "source": [
    "vector_store"
   ]
  },
  {
   "cell_type": "markdown",
   "id": "4fa34ab7",
   "metadata": {},
   "source": [
    "### Testing the Azure GPT model"
   ]
  },
  {
   "cell_type": "code",
   "execution_count": 21,
   "id": "68d5327d",
   "metadata": {},
   "outputs": [
    {
     "name": "stdout",
     "output_type": "stream",
     "text": [
      "Hi! How can I assist you today? [{'role': 'user', 'content': 'Hello'}]\n"
     ]
    }
   ],
   "source": [
    "messages_history = []\n",
    "messages_history = ask_gpt(\"Hello\", messages_history, gptmodel)"
   ]
  },
  {
   "cell_type": "code",
   "execution_count": 22,
   "id": "638560fa",
   "metadata": {},
   "outputs": [
    {
     "name": "stdout",
     "output_type": "stream",
     "text": [
      "As a language model AI, I can help with a wide range of tasks such as:\n",
      "\n",
      "1. Answering questions\n",
      "2. Providing information on various topics\n",
      "3. Assisting with language-related tasks like proofreading, generating creative writing pieces, suggesting synonyms, etc.\n",
      "4. Offering general advice or recommendations\n",
      "5. Engaging in friendly conversation or small talk\n",
      "6. Playing word games or participating in quizzes\n",
      "7. Translating text\n",
      "8. Calculating equations or solving math problems\n",
      "9. Assisting with research tasks\n",
      "10. Providing brief explanations or summaries of complex subjects\n",
      "\n",
      "Please note that I am an AI and my responses are generated based on patterns and data rather than personal experience or opinions. [{'role': 'user', 'content': 'Hello'}, {'role': 'user', 'content': 'What can you do?'}]\n"
     ]
    }
   ],
   "source": [
    "messages_history = ask_gpt(\"What can you do?\", messages_history, gptmodel)"
   ]
  },
  {
   "cell_type": "markdown",
   "id": "995eadec",
   "metadata": {},
   "source": [
    "### Testing the embedded model"
   ]
  },
  {
   "cell_type": "code",
   "execution_count": 23,
   "id": "cc95764b",
   "metadata": {},
   "outputs": [],
   "source": [
    "prompt1 = \"James Bond\"\n",
    "prompt2 = \"Ian Fleming\"\n",
    "prompt3 = \"Paris\""
   ]
  },
  {
   "cell_type": "code",
   "execution_count": 24,
   "id": "d9d0c724",
   "metadata": {},
   "outputs": [],
   "source": [
    "emb1 = openai_text_embeddings(prompt1, embed_model)\n",
    "emb2 = openai_text_embeddings(prompt2, embed_model)\n",
    "emb3 = openai_text_embeddings(prompt3, embed_model)"
   ]
  },
  {
   "cell_type": "code",
   "execution_count": 25,
   "id": "85f2cb05",
   "metadata": {},
   "outputs": [
    {
     "data": {
      "text/plain": [
       "[-0.02183147519826889,\n",
       " -0.01227128691971302,\n",
       " -0.004935755394399166,\n",
       " -0.027629852294921875,\n",
       " -0.0020576457027345896,\n",
       " 0.012037795037031174,\n",
       " -0.025748947635293007,\n",
       " -0.013737095519900322,\n",
       " -0.025256019085645676,\n",
       " -0.020871564745903015]"
      ]
     },
     "execution_count": 25,
     "metadata": {},
     "output_type": "execute_result"
    }
   ],
   "source": [
    "emb1[:10]"
   ]
  },
  {
   "cell_type": "code",
   "execution_count": 26,
   "id": "e54d7240",
   "metadata": {},
   "outputs": [
    {
     "name": "stdout",
     "output_type": "stream",
     "text": [
      "Vector embeddings size = 1536\n"
     ]
    }
   ],
   "source": [
    "print(f\"Vector embeddings size = {len(emb1)}\")"
   ]
  },
  {
   "cell_type": "code",
   "execution_count": 27,
   "id": "b7b299b1",
   "metadata": {},
   "outputs": [
    {
     "name": "stdout",
     "output_type": "stream",
     "text": [
      "Similarity between: James Bond and James Bond\n",
      "❤️ \u001b[1;31;34mIDENTICAL text (cosine similarity = 1.0)\n"
     ]
    }
   ],
   "source": [
    "print(\"Similarity between:\", prompt1, \"and\", prompt1)\n",
    "similarity_comparison(emb1, emb1)"
   ]
  },
  {
   "cell_type": "code",
   "execution_count": 28,
   "id": "792461ee",
   "metadata": {},
   "outputs": [
    {
     "name": "stdout",
     "output_type": "stream",
     "text": [
      "Similarity between: James Bond and Ian Fleming\n",
      "👍 \u001b[1;31;32mSIMILAR SEMANTIC text (cosine similarity = 0.861230557365285)\n"
     ]
    }
   ],
   "source": [
    "print(\"Similarity between:\", prompt1, \"and\", prompt2)\n",
    "similarity_comparison(emb1, emb2)"
   ]
  },
  {
   "cell_type": "code",
   "execution_count": 29,
   "id": "43b7805a",
   "metadata": {},
   "outputs": [
    {
     "name": "stdout",
     "output_type": "stream",
     "text": [
      "Similarity between: James Bond and Paris\n",
      "🔥 \u001b[1;31;91mDIFFERENT text (cosine similarity = 0.78536572662115)\n"
     ]
    }
   ],
   "source": [
    "print(\"Similarity between:\", prompt1, \"and\", prompt3)\n",
    "similarity_comparison(emb1, emb3)"
   ]
  },
  {
   "cell_type": "code",
   "execution_count": 30,
   "id": "446894d1",
   "metadata": {},
   "outputs": [
    {
     "name": "stdout",
     "output_type": "stream",
     "text": [
      "Similarity between: Ian Fleming and Paris\n",
      "🔥 \u001b[1;31;91mDIFFERENT text (cosine similarity = 0.762085241681582)\n"
     ]
    }
   ],
   "source": [
    "print(\"Similarity between:\", prompt2, \"and\", prompt3)\n",
    "similarity_comparison(emb2, emb3)"
   ]
  },
  {
   "cell_type": "markdown",
   "id": "28db2ba6",
   "metadata": {},
   "source": [
    "### Documents statistics"
   ]
  },
  {
   "cell_type": "code",
   "execution_count": 31,
   "id": "54f101b5",
   "metadata": {},
   "outputs": [
    {
     "name": "stdout",
     "output_type": "stream",
     "text": [
      "-rwxrwxrwx 1 root root 23K Aug  8  2021 cv/ENGINEERING/28923650.pdf\n",
      "\n",
      "- Number of pages = 3\n",
      "- Number of paragraphs = 140\n",
      "- Number of words = 773\n",
      "- Number of characters = 5751\n",
      "- Number of tokens = 1204\n"
     ]
    },
    {
     "data": {
      "text/html": [
       "<a href='cv/ENGINEERING/28923650.pdf' target='_blank'>cv/ENGINEERING/28923650.pdf</a><br>"
      ],
      "text/plain": [
       "/mnt/batch/tasks/shared/LS_root/mounts/clusters/standardd14sr/code/Users/seretkow/RAG - Resume analysis usecase/cv/ENGINEERING/28923650.pdf"
      ]
     },
     "execution_count": 31,
     "metadata": {},
     "output_type": "execute_result"
    }
   ],
   "source": [
    "# Let's take a random document\n",
    "random_pdf = random.choice(pdf_files)\n",
    "!ls $random_pdf -lh\n",
    "# Getting stats\n",
    "print()\n",
    "get_stats_from_pdf_file(random_pdf)\n",
    "# Document link\n",
    "pdf_link = FileLink(path=random_pdf)\n",
    "pdf_link"
   ]
  },
  {
   "cell_type": "code",
   "execution_count": 32,
   "id": "45bae990",
   "metadata": {},
   "outputs": [
    {
     "name": "stdout",
     "output_type": "stream",
     "text": [
      "-rwxrwxrwx 1 root root 23K Aug  8  2021 cv/CONSULTANT/18227306.pdf\n",
      "\n",
      "- Number of pages = 3\n",
      "- Number of paragraphs = 155\n",
      "- Number of words = 753\n",
      "- Number of characters = 5691\n",
      "- Number of tokens = 1123\n"
     ]
    },
    {
     "data": {
      "text/html": [
       "<a href='cv/CONSULTANT/18227306.pdf' target='_blank'>cv/CONSULTANT/18227306.pdf</a><br>"
      ],
      "text/plain": [
       "/mnt/batch/tasks/shared/LS_root/mounts/clusters/standardd14sr/code/Users/seretkow/RAG - Resume analysis usecase/cv/CONSULTANT/18227306.pdf"
      ]
     },
     "execution_count": 32,
     "metadata": {},
     "output_type": "execute_result"
    }
   ],
   "source": [
    "# Let's take a random document\n",
    "random_pdf = random.choice(pdf_files)\n",
    "!ls $random_pdf -lh\n",
    "# Getting stats\n",
    "print()\n",
    "get_stats_from_pdf_file(random_pdf)\n",
    "# Document link\n",
    "pdf_link = FileLink(path=random_pdf)\n",
    "pdf_link"
   ]
  },
  {
   "cell_type": "code",
   "execution_count": 33,
   "id": "37844342",
   "metadata": {},
   "outputs": [],
   "source": [
    "df_data = []\n",
    "\n",
    "for i in range(len(pdf_files)):\n",
    "    file_path, nb_pages, nb_paragraphs, nb_words, nb_characters, nb_tokens = get_stats_from_pdf_file(pdf_files[i],\n",
    "                                                                                                     disp=False,)\n",
    "    df_data.append([file_path, nb_pages, nb_paragraphs, nb_words, nb_characters, nb_tokens])\n",
    "\n",
    "df = pd.DataFrame(\n",
    "    df_data,\n",
    "    columns=[\"file_path\", \"nb_pages\", \"nb_paragraphs\", \"nb_words\", \"nb_characters\", \"nb_tokens\"]\n",
    ")\n",
    "df['role'] = df['file_path'].str.split('/').str[1]  # Get role value"
   ]
  },
  {
   "cell_type": "code",
   "execution_count": 34,
   "id": "d062f6ad",
   "metadata": {},
   "outputs": [
    {
     "data": {
      "text/html": [
       "<div>\n",
       "<style scoped>\n",
       "    .dataframe tbody tr th:only-of-type {\n",
       "        vertical-align: middle;\n",
       "    }\n",
       "\n",
       "    .dataframe tbody tr th {\n",
       "        vertical-align: top;\n",
       "    }\n",
       "\n",
       "    .dataframe thead th {\n",
       "        text-align: right;\n",
       "    }\n",
       "</style>\n",
       "<table border=\"1\" class=\"dataframe\">\n",
       "  <thead>\n",
       "    <tr style=\"text-align: right;\">\n",
       "      <th></th>\n",
       "      <th>file_path</th>\n",
       "      <th>nb_pages</th>\n",
       "      <th>nb_paragraphs</th>\n",
       "      <th>nb_words</th>\n",
       "      <th>nb_characters</th>\n",
       "      <th>nb_tokens</th>\n",
       "      <th>role</th>\n",
       "    </tr>\n",
       "  </thead>\n",
       "  <tbody>\n",
       "    <tr>\n",
       "      <th>0</th>\n",
       "      <td>cv/BUSINESS-DEVELOPMENT/10228751.pdf</td>\n",
       "      <td>2</td>\n",
       "      <td>133</td>\n",
       "      <td>635</td>\n",
       "      <td>4909</td>\n",
       "      <td>935</td>\n",
       "      <td>BUSINESS-DEVELOPMENT</td>\n",
       "    </tr>\n",
       "    <tr>\n",
       "      <th>1</th>\n",
       "      <td>cv/BUSINESS-DEVELOPMENT/10235211.pdf</td>\n",
       "      <td>3</td>\n",
       "      <td>217</td>\n",
       "      <td>1206</td>\n",
       "      <td>8495</td>\n",
       "      <td>1720</td>\n",
       "      <td>BUSINESS-DEVELOPMENT</td>\n",
       "    </tr>\n",
       "    <tr>\n",
       "      <th>2</th>\n",
       "      <td>cv/BUSINESS-DEVELOPMENT/10289113.pdf</td>\n",
       "      <td>3</td>\n",
       "      <td>114</td>\n",
       "      <td>811</td>\n",
       "      <td>5658</td>\n",
       "      <td>1118</td>\n",
       "      <td>BUSINESS-DEVELOPMENT</td>\n",
       "    </tr>\n",
       "    <tr>\n",
       "      <th>3</th>\n",
       "      <td>cv/BUSINESS-DEVELOPMENT/10501991.pdf</td>\n",
       "      <td>3</td>\n",
       "      <td>267</td>\n",
       "      <td>1083</td>\n",
       "      <td>7854</td>\n",
       "      <td>1680</td>\n",
       "      <td>BUSINESS-DEVELOPMENT</td>\n",
       "    </tr>\n",
       "    <tr>\n",
       "      <th>4</th>\n",
       "      <td>cv/BUSINESS-DEVELOPMENT/10541358.pdf</td>\n",
       "      <td>3</td>\n",
       "      <td>129</td>\n",
       "      <td>824</td>\n",
       "      <td>6271</td>\n",
       "      <td>1161</td>\n",
       "      <td>BUSINESS-DEVELOPMENT</td>\n",
       "    </tr>\n",
       "    <tr>\n",
       "      <th>...</th>\n",
       "      <td>...</td>\n",
       "      <td>...</td>\n",
       "      <td>...</td>\n",
       "      <td>...</td>\n",
       "      <td>...</td>\n",
       "      <td>...</td>\n",
       "      <td>...</td>\n",
       "    </tr>\n",
       "    <tr>\n",
       "      <th>780</th>\n",
       "      <td>cv/SALES/87118391.pdf</td>\n",
       "      <td>2</td>\n",
       "      <td>161</td>\n",
       "      <td>672</td>\n",
       "      <td>5256</td>\n",
       "      <td>971</td>\n",
       "      <td>SALES</td>\n",
       "    </tr>\n",
       "    <tr>\n",
       "      <th>781</th>\n",
       "      <td>cv/SALES/90682785.pdf</td>\n",
       "      <td>1</td>\n",
       "      <td>59</td>\n",
       "      <td>222</td>\n",
       "      <td>1517</td>\n",
       "      <td>339</td>\n",
       "      <td>SALES</td>\n",
       "    </tr>\n",
       "    <tr>\n",
       "      <th>782</th>\n",
       "      <td>cv/SALES/92200491.pdf</td>\n",
       "      <td>2</td>\n",
       "      <td>160</td>\n",
       "      <td>812</td>\n",
       "      <td>5687</td>\n",
       "      <td>1135</td>\n",
       "      <td>SALES</td>\n",
       "    </tr>\n",
       "    <tr>\n",
       "      <th>783</th>\n",
       "      <td>cv/SALES/98108571.pdf</td>\n",
       "      <td>1</td>\n",
       "      <td>67</td>\n",
       "      <td>169</td>\n",
       "      <td>1085</td>\n",
       "      <td>264</td>\n",
       "      <td>SALES</td>\n",
       "    </tr>\n",
       "    <tr>\n",
       "      <th>784</th>\n",
       "      <td>cv/SALES/98509238.pdf</td>\n",
       "      <td>2</td>\n",
       "      <td>203</td>\n",
       "      <td>778</td>\n",
       "      <td>5480</td>\n",
       "      <td>1153</td>\n",
       "      <td>SALES</td>\n",
       "    </tr>\n",
       "  </tbody>\n",
       "</table>\n",
       "<p>785 rows × 7 columns</p>\n",
       "</div>"
      ],
      "text/plain": [
       "                                file_path  nb_pages  nb_paragraphs  nb_words   \n",
       "0    cv/BUSINESS-DEVELOPMENT/10228751.pdf         2            133       635  \\\n",
       "1    cv/BUSINESS-DEVELOPMENT/10235211.pdf         3            217      1206   \n",
       "2    cv/BUSINESS-DEVELOPMENT/10289113.pdf         3            114       811   \n",
       "3    cv/BUSINESS-DEVELOPMENT/10501991.pdf         3            267      1083   \n",
       "4    cv/BUSINESS-DEVELOPMENT/10541358.pdf         3            129       824   \n",
       "..                                    ...       ...            ...       ...   \n",
       "780                 cv/SALES/87118391.pdf         2            161       672   \n",
       "781                 cv/SALES/90682785.pdf         1             59       222   \n",
       "782                 cv/SALES/92200491.pdf         2            160       812   \n",
       "783                 cv/SALES/98108571.pdf         1             67       169   \n",
       "784                 cv/SALES/98509238.pdf         2            203       778   \n",
       "\n",
       "     nb_characters  nb_tokens                  role  \n",
       "0             4909        935  BUSINESS-DEVELOPMENT  \n",
       "1             8495       1720  BUSINESS-DEVELOPMENT  \n",
       "2             5658       1118  BUSINESS-DEVELOPMENT  \n",
       "3             7854       1680  BUSINESS-DEVELOPMENT  \n",
       "4             6271       1161  BUSINESS-DEVELOPMENT  \n",
       "..             ...        ...                   ...  \n",
       "780           5256        971                 SALES  \n",
       "781           1517        339                 SALES  \n",
       "782           5687       1135                 SALES  \n",
       "783           1085        264                 SALES  \n",
       "784           5480       1153                 SALES  \n",
       "\n",
       "[785 rows x 7 columns]"
      ]
     },
     "execution_count": 34,
     "metadata": {},
     "output_type": "execute_result"
    }
   ],
   "source": [
    "df"
   ]
  },
  {
   "cell_type": "code",
   "execution_count": 35,
   "id": "7b0f24d1",
   "metadata": {},
   "outputs": [
    {
     "data": {
      "text/plain": [
       "role\n",
       "INFORMATION-TECHNOLOGY    120\n",
       "ENGINEERING               118\n",
       "SALES                     116\n",
       "CONSULTANT                115\n",
       "BUSINESS-DEVELOPMENT      113\n",
       "DESIGNER                  107\n",
       "DIGITAL-MEDIA              96\n",
       "Name: count, dtype: int64"
      ]
     },
     "execution_count": 35,
     "metadata": {},
     "output_type": "execute_result"
    }
   ],
   "source": [
    "df['role'].value_counts(sort=True)"
   ]
  },
  {
   "cell_type": "code",
   "execution_count": 36,
   "id": "88bf5899",
   "metadata": {},
   "outputs": [
    {
     "data": {
      "image/png": "[encoded data removed]",
      "text/plain": [
       "<Figure size 800x500 with 1 Axes>"
      ]
     },
     "metadata": {},
     "output_type": "display_data"
    }
   ],
   "source": [
    "plt.figure(figsize=(8, 5))\n",
    "df['role'].value_counts(sort=True).plot.barh(color='green')\n",
    "plt.show()"
   ]
  },
  {
   "cell_type": "code",
   "execution_count": 37,
   "id": "ce623a5a",
   "metadata": {},
   "outputs": [
    {
     "data": {
      "text/html": [
       "<div>\n",
       "<style scoped>\n",
       "    .dataframe tbody tr th:only-of-type {\n",
       "        vertical-align: middle;\n",
       "    }\n",
       "\n",
       "    .dataframe tbody tr th {\n",
       "        vertical-align: top;\n",
       "    }\n",
       "\n",
       "    .dataframe thead th {\n",
       "        text-align: right;\n",
       "    }\n",
       "</style>\n",
       "<table border=\"1\" class=\"dataframe\">\n",
       "  <thead>\n",
       "    <tr style=\"text-align: right;\">\n",
       "      <th></th>\n",
       "      <th>nb_pages</th>\n",
       "      <th>nb_paragraphs</th>\n",
       "      <th>nb_words</th>\n",
       "      <th>nb_characters</th>\n",
       "      <th>nb_tokens</th>\n",
       "    </tr>\n",
       "  </thead>\n",
       "  <tbody>\n",
       "    <tr>\n",
       "      <th>count</th>\n",
       "      <td>785.000000</td>\n",
       "      <td>785.000000</td>\n",
       "      <td>785.000000</td>\n",
       "      <td>785.00000</td>\n",
       "      <td>785.000000</td>\n",
       "    </tr>\n",
       "    <tr>\n",
       "      <th>mean</th>\n",
       "      <td>2.596178</td>\n",
       "      <td>165.587261</td>\n",
       "      <td>822.335032</td>\n",
       "      <td>6099.06879</td>\n",
       "      <td>1229.335032</td>\n",
       "    </tr>\n",
       "    <tr>\n",
       "      <th>std</th>\n",
       "      <td>1.112882</td>\n",
       "      <td>69.632291</td>\n",
       "      <td>375.891890</td>\n",
       "      <td>2762.75628</td>\n",
       "      <td>552.107050</td>\n",
       "    </tr>\n",
       "    <tr>\n",
       "      <th>min</th>\n",
       "      <td>0.000000</td>\n",
       "      <td>1.000000</td>\n",
       "      <td>0.000000</td>\n",
       "      <td>0.00000</td>\n",
       "      <td>0.000000</td>\n",
       "    </tr>\n",
       "    <tr>\n",
       "      <th>25%</th>\n",
       "      <td>2.000000</td>\n",
       "      <td>123.000000</td>\n",
       "      <td>650.000000</td>\n",
       "      <td>4901.00000</td>\n",
       "      <td>966.000000</td>\n",
       "    </tr>\n",
       "    <tr>\n",
       "      <th>50%</th>\n",
       "      <td>3.000000</td>\n",
       "      <td>154.000000</td>\n",
       "      <td>781.000000</td>\n",
       "      <td>5827.00000</td>\n",
       "      <td>1166.000000</td>\n",
       "    </tr>\n",
       "    <tr>\n",
       "      <th>75%</th>\n",
       "      <td>3.000000</td>\n",
       "      <td>193.000000</td>\n",
       "      <td>967.000000</td>\n",
       "      <td>7168.00000</td>\n",
       "      <td>1448.000000</td>\n",
       "    </tr>\n",
       "    <tr>\n",
       "      <th>max</th>\n",
       "      <td>11.000000</td>\n",
       "      <td>1028.000000</td>\n",
       "      <td>3384.000000</td>\n",
       "      <td>24653.00000</td>\n",
       "      <td>5145.000000</td>\n",
       "    </tr>\n",
       "  </tbody>\n",
       "</table>\n",
       "</div>"
      ],
      "text/plain": [
       "         nb_pages  nb_paragraphs     nb_words  nb_characters    nb_tokens\n",
       "count  785.000000     785.000000   785.000000      785.00000   785.000000\n",
       "mean     2.596178     165.587261   822.335032     6099.06879  1229.335032\n",
       "std      1.112882      69.632291   375.891890     2762.75628   552.107050\n",
       "min      0.000000       1.000000     0.000000        0.00000     0.000000\n",
       "25%      2.000000     123.000000   650.000000     4901.00000   966.000000\n",
       "50%      3.000000     154.000000   781.000000     5827.00000  1166.000000\n",
       "75%      3.000000     193.000000   967.000000     7168.00000  1448.000000\n",
       "max     11.000000    1028.000000  3384.000000    24653.00000  5145.000000"
      ]
     },
     "execution_count": 37,
     "metadata": {},
     "output_type": "execute_result"
    }
   ],
   "source": [
    "df.describe()"
   ]
  },
  {
   "cell_type": "markdown",
   "id": "66b3eb78",
   "metadata": {},
   "source": [
    "### Processing the PDF docs"
   ]
  },
  {
   "cell_type": "code",
   "execution_count": 38,
   "id": "03ef6566",
   "metadata": {},
   "outputs": [
    {
     "name": "stdout",
     "output_type": "stream",
     "text": [
      "Uploading the CV documents into the Azure Cognitive Search index...\n",
      "\n",
      "Number of PDF processed files = 1 / 785\n",
      "Number of PDF processed files = 26 / 785\n",
      "Number of PDF processed files = 51 / 785\n",
      "Number of PDF processed files = 76 / 785\n",
      "Number of PDF processed files = 101 / 785\n",
      "Number of PDF processed files = 126 / 785\n",
      "Number of PDF processed files = 151 / 785\n",
      "Number of PDF processed files = 176 / 785\n",
      "Number of PDF processed files = 201 / 785\n",
      "Number of PDF processed files = 226 / 785\n",
      "Number of PDF processed files = 251 / 785\n",
      "Number of PDF processed files = 276 / 785\n",
      "Number of PDF processed files = 301 / 785\n",
      "Number of PDF processed files = 326 / 785\n",
      "Number of PDF processed files = 351 / 785\n",
      "Number of PDF processed files = 376 / 785\n",
      "Number of PDF processed files = 401 / 785\n",
      "Number of PDF processed files = 426 / 785\n",
      "Number of PDF processed files = 451 / 785\n",
      "Number of PDF processed files = 476 / 785\n",
      "Number of PDF processed files = 501 / 785\n",
      "Number of PDF processed files = 526 / 785\n",
      "Number of PDF processed files = 551 / 785\n",
      "Number of PDF processed files = 576 / 785\n",
      "Number of PDF processed files = 601 / 785\n",
      "Number of PDF processed files = 626 / 785\n",
      "Number of PDF processed files = 651 / 785\n",
      "Number of PDF processed files = 676 / 785\n",
      "Number of PDF processed files = 701 / 785\n",
      "Number of PDF processed files = 726 / 785\n",
      "Number of PDF processed files = 751 / 785\n",
      "Number of PDF processed files = 776 / 785\n",
      "\n",
      "Done. Total number of processed files = 785\n",
      "Elapsed time: 00:09:20.389673\n"
     ]
    }
   ],
   "source": [
    "start = time.time()\n",
    "print(\"Uploading the CV documents into the Azure Cognitive Search index...\\n\")\n",
    "\n",
    "for idx in range(len(pdf_files)):\n",
    "    # Chunking and loading the chunks documents into the Azure Cognitive Search index\n",
    "    upload_docs(pdf_files[idx], vector_store)\n",
    "    # Display some prints every each 50 documents processed\n",
    "    if idx % 25 == 1:\n",
    "        print(f\"Number of PDF processed files = {idx} / {len(pdf_files)}\")\n",
    "        time.sleep(5)\n",
    "\n",
    "elapsed = time.time() - start\n",
    "print(f\"\\nDone. Total number of processed files = {len(pdf_files)}\")\n",
    "print(\n",
    "    \"Elapsed time: \"\n",
    "    + time.strftime(\n",
    "        \"%H:%M:%S.{}\".format(str(elapsed % 1)[2:])[:15], time.gmtime(elapsed)\n",
    "    )\n",
    ")"
   ]
  },
  {
   "cell_type": "markdown",
   "id": "76fa4bfd",
   "metadata": {},
   "source": [
    "## 4. Azure Cognitive Search index status"
   ]
  },
  {
   "cell_type": "markdown",
   "id": "14d357cd",
   "metadata": {},
   "source": [
    "Our index is available and ready to use"
   ]
  },
  {
   "cell_type": "code",
   "execution_count": 39,
   "id": "b0e995b6",
   "metadata": {},
   "outputs": [
    {
     "name": "stdout",
     "output_type": "stream",
     "text": [
      "Azure Cognitive Search index = resume-rag-demo\n"
     ]
    }
   ],
   "source": [
    "print(f\"Azure Cognitive Search index = {index_name}\")"
   ]
  },
  {
   "cell_type": "code",
   "execution_count": 40,
   "id": "b845abec",
   "metadata": {},
   "outputs": [
    {
     "name": "stdout",
     "output_type": "stream",
     "text": [
      "Azure Cognitive Search Index: resume-rag-demo \n",
      "\n",
      "{\n",
      "     \"@odata.context\": \"https://azurecogsearcheastussr.search.windows.net/$metadata#indexes/$entity\",\n",
      "     \"@odata.etag\": \"\\\"0x8DBE6962627FA4D\\\"\",\n",
      "     \"name\": \"resume-rag-demo\",\n",
      "     \"defaultScoringProfile\": null,\n",
      "     \"fields\": [\n",
      "          {\n",
      "               \"name\": \"id\",\n",
      "               \"type\": \"Edm.String\",\n",
      "               \"searchable\": false,\n",
      "               \"filterable\": true,\n",
      "               \"retrievable\": true,\n",
      "               \"sortable\": false,\n",
      "               \"facetable\": false,\n",
      "               \"key\": true,\n",
      "               \"indexAnalyzer\": null,\n",
      "               \"searchAnalyzer\": null,\n",
      "               \"analyzer\": null,\n",
      "               \"normalizer\": null,\n",
      "               \"synonymMaps\": []\n",
      "          },\n",
      "          {\n",
      "               \"name\": \"content\",\n",
      "               \"type\": \"Edm.String\",\n",
      "               \"searchable\": true,\n",
      "               \"filterable\": false,\n",
      "               \"retrievable\": true,\n",
      "               \"sortable\": false,\n",
      "               \"facetable\": false,\n",
      "               \"key\": false,\n",
      "               \"indexAnalyzer\": null,\n",
      "               \"searchAnalyzer\": null,\n",
      "               \"analyzer\": null,\n",
      "               \"normalizer\": null,\n",
      "               \"synonymMaps\": []\n",
      "          },\n",
      "          {\n",
      "               \"name\": \"content_vector\",\n",
      "               \"type\": \"Collection(Edm.Single)\",\n",
      "               \"searchable\": true,\n",
      "               \"filterable\": false,\n",
      "               \"retrievable\": true,\n",
      "               \"sortable\": false,\n",
      "               \"facetable\": false,\n",
      "               \"key\": false,\n",
      "               \"indexAnalyzer\": null,\n",
      "               \"searchAnalyzer\": null,\n",
      "               \"analyzer\": null,\n",
      "               \"normalizer\": null,\n",
      "               \"synonymMaps\": []\n",
      "          },\n",
      "          {\n",
      "               \"name\": \"metadata\",\n",
      "               \"type\": \"Edm.String\",\n",
      "               \"searchable\": true,\n",
      "               \"filterable\": false,\n",
      "               \"retrievable\": true,\n",
      "               \"sortable\": false,\n",
      "               \"facetable\": false,\n",
      "               \"key\": false,\n",
      "               \"indexAnalyzer\": null,\n",
      "               \"searchAnalyzer\": null,\n",
      "               \"analyzer\": null,\n",
      "               \"normalizer\": null,\n",
      "               \"synonymMaps\": []\n",
      "          }\n",
      "     ],\n",
      "     \"scoringProfiles\": [],\n",
      "     \"corsOptions\": null,\n",
      "     \"suggesters\": [],\n",
      "     \"analyzers\": [],\n",
      "     \"normalizers\": [],\n",
      "     \"tokenizers\": [],\n",
      "     \"tokenFilters\": [],\n",
      "     \"charFilters\": [],\n",
      "     \"encryptionKey\": null,\n",
      "     \"similarity\": {\n",
      "          \"@odata.type\": \"#Microsoft.Azure.Search.BM25Similarity\",\n",
      "          \"k1\": null,\n",
      "          \"b\": null\n",
      "     },\n",
      "     \"semantic\": null\n",
      "}\n"
     ]
    }
   ],
   "source": [
    "index_status(index_name, azure_cs_endpoint, azure_cs_key)"
   ]
  },
  {
   "cell_type": "code",
   "execution_count": 41,
   "id": "391bd333",
   "metadata": {},
   "outputs": [
    {
     "name": "stdout",
     "output_type": "stream",
     "text": [
      "Azure Cognitive Search index status for: resume-rag-demo \n",
      "\n",
      "{\n",
      "  \"@odata.context\": \"https://azurecogsearcheastussr.search.windows.net/$metadata#Microsoft.Azure.Search.V2021_04_30_Preview.IndexStatistics\",\n",
      "  \"documentCount\": 1441,\n",
      "  \"storageSize\": 44310293\n",
      "}\n"
     ]
    }
   ],
   "source": [
    "document_count, storage_size = index_stats(index_name, azure_cs_endpoint, azure_cs_key)"
   ]
  },
  {
   "cell_type": "code",
   "execution_count": 42,
   "id": "a6dbc599",
   "metadata": {},
   "outputs": [
    {
     "name": "stdout",
     "output_type": "stream",
     "text": [
      "Number of documents in the index = 1441\n",
      "Size of the index = 42.26 MB\n"
     ]
    }
   ],
   "source": [
    "print(f\"Number of documents in the index = {document_count}\")\n",
    "print(f\"Size of the index = {round(storage_size / (1024 * 1024), 2)} MB\")"
   ]
  },
  {
   "cell_type": "markdown",
   "id": "7906e2c3",
   "metadata": {},
   "source": [
    "> Go the next notebook"
   ]
  },
  {
   "cell_type": "code",
   "execution_count": null,
   "id": "83615df1",
   "metadata": {},
   "outputs": [],
   "source": []
  }
 ],
 "metadata": {
  "kernelspec": {
   "display_name": "Python 3.10 - SDK v2",
   "language": "python",
   "name": "python310-sdkv2"
  },
  "language_info": {
   "codemirror_mode": {
    "name": "ipython",
    "version": 3
   },
   "file_extension": ".py",
   "mimetype": "text/x-python",
   "name": "python",
   "nbconvert_exporter": "python",
   "pygments_lexer": "ipython3",
   "version": "3.10.10"
  }
 },
 "nbformat": 4,
 "nbformat_minor": 5
}
