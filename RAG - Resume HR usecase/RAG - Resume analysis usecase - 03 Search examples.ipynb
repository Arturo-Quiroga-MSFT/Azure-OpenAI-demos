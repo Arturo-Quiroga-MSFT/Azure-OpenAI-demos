{
 "cells": [
  {
   "cell_type": "markdown",
   "id": "b47c7e94",
   "metadata": {},
   "source": [
    "# RAG application with Azure Open AI & Azure Cognitive Search\n",
    "## Resume analysis usecase - 03 Search examples\n",
    "\n",
    "### Objective\n",
    "Let's build an application that will analyse **resume PDF documents using a RAG application.**\n",
    "\n",
    "<img src=\"https://github.com/retkowsky/images/blob/master/HR.jpg?raw=true\">\n",
    "\n",
    "**Retrieval-Augmented Generation (RAG)** can exhibit variability in its implementation, but at a fundamental level, employing RAG within an AI-driven application involves the following sequential steps:\n",
    "\n",
    "- The user submits a query or question.\n",
    "- The system initiates a search for pertinent documents that hold the potential to address the user's query. These documents are often comprised of proprietary data and are maintained within a document index.\n",
    "- The system formulates an instruction set for the Language Model (LLM) that encompasses the user's input, the identified relevant documents, and directives on how to utilize these documents to respond to the user's query effectively.\n",
    "- The system transmits this comprehensive prompt to the Language Model.\n",
    "- The Language Model processes the prompt and generates a response to the user's question, drawing upon the context provided. This response constitutes the output of our system.\n",
    "\n",
    "### Steps\n",
    "- Uploading PDF documents into an Azure Cognitive Search Index\n",
    "- Use of some Azure Cognitive Search queries to get some answers\n",
    "- Use a GPT model to analyse the answer (summmary, keywords generation)\n",
    "- Get the text from the document and the reference to validate the proposed answer\n",
    "- Chatbot experience using Azure Open AI to ask questions and get results provided by AI with references\n",
    "\n",
    "### Process\n",
    "<img src=\"https://github.com/retkowsky/images/blob/master/rag.png?raw=true\" width=800>"
   ]
  },
  {
   "cell_type": "code",
   "execution_count": 1,
   "id": "f2418c4f",
   "metadata": {},
   "outputs": [],
   "source": [
    "import datetime\n",
    "import gradio as gr\n",
    "import langchain\n",
    "import openai\n",
    "import os\n",
    "import sys\n",
    "import time\n",
    "\n",
    "from azure_rag import (\n",
    "    delete_index,\n",
    "    ask_gpt,\n",
    "    index_status,\n",
    "    index_stats,\n",
    "    openai_text_embeddings,\n",
    "    upload_docs,\n",
    "    similarity_comparison,\n",
    "    azure_openai,\n",
    "    ask_your_own_data,\n",
    ")\n",
    "from dotenv import load_dotenv\n",
    "from langchain.embeddings.openai import OpenAIEmbeddings\n",
    "from langchain.vectorstores.azuresearch import AzureSearch"
   ]
  },
  {
   "cell_type": "code",
   "execution_count": 2,
   "id": "74f9e788",
   "metadata": {},
   "outputs": [
    {
     "name": "stdout",
     "output_type": "stream",
     "text": [
      "Today: 16-Nov-2023 11:47:57\n"
     ]
    }
   ],
   "source": [
    "print(f\"Today: {datetime.datetime.today().strftime('%d-%b-%Y %H:%M:%S')}\")"
   ]
  },
  {
   "cell_type": "code",
   "execution_count": 3,
   "id": "899cc911",
   "metadata": {},
   "outputs": [
    {
     "name": "stdout",
     "output_type": "stream",
     "text": [
      "Python version: 3.10.10 (main, Mar 21 2023, 18:45:11) [GCC 11.2.0]\n",
      "OpenAI version: 0.28.1\n",
      "Langchain version: 0.0.300\n"
     ]
    }
   ],
   "source": [
    "print(f\"Python version: {sys.version}\")\n",
    "print(f\"OpenAI version: {openai.__version__}\")\n",
    "print(f\"Langchain version: {langchain.__version__}\")"
   ]
  },
  {
   "cell_type": "markdown",
   "id": "e85352de",
   "metadata": {},
   "source": [
    "## 1. Settings"
   ]
  },
  {
   "cell_type": "code",
   "execution_count": 4,
   "id": "9e78ac6a",
   "metadata": {},
   "outputs": [],
   "source": [
    "load_dotenv(\"azure.env\")\n",
    "\n",
    "# Azure Open AI\n",
    "openai.api_type: str = \"azure\"\n",
    "openai.api_key = os.getenv(\"OPENAI_API_KEY\")\n",
    "openai.api_base = os.getenv(\"OPENAI_API_BASE\")\n",
    "openai.api_version = os.getenv(\"OPENAI_API_VERSION\")\n",
    "\n",
    "# Azure Cognitive Search\n",
    "azure_cs_endpoint = os.getenv(\"AZURE_COGNITIVE_SEARCH_ENDPOINT\")\n",
    "azure_cs_key = os.getenv(\"AZURE_COGNITIVE_SEARCH_API_KEY\")"
   ]
  },
  {
   "cell_type": "code",
   "execution_count": 5,
   "id": "54d08bd9",
   "metadata": {},
   "outputs": [],
   "source": [
    "# Azure Open AI models (Should be deployed on your Azure OpenAI studio)\n",
    "embed_model: str = \"text-embedding-ada-002\"  # Embedding model\n",
    "gptmodel: str = \"gpt-35-turbo-16k\"  # GPT Model\n",
    "\n",
    "# Azure Cognitive search index\n",
    "index_name: str = \"resume-rag-demo\""
   ]
  },
  {
   "cell_type": "code",
   "execution_count": 6,
   "id": "125ff821",
   "metadata": {},
   "outputs": [
    {
     "name": "stdout",
     "output_type": "stream",
     "text": [
      "Embedding model: text-embedding-ada-002\n",
      "Azure Open AI model: gpt-35-turbo-16k\n",
      "We will use the Azure Cognitive Search index: resume-rag-demo\n"
     ]
    }
   ],
   "source": [
    "print(f\"Embedding model: {embed_model}\\nAzure Open AI model: {gptmodel}\")\n",
    "print(f\"We will use the Azure Cognitive Search index: {index_name}\")"
   ]
  },
  {
   "cell_type": "markdown",
   "id": "76fa4bfd",
   "metadata": {},
   "source": [
    "## 2. Azure Cognitive Search index status"
   ]
  },
  {
   "cell_type": "markdown",
   "id": "14d357cd",
   "metadata": {},
   "source": [
    "Our index is available and ready to use"
   ]
  },
  {
   "cell_type": "code",
   "execution_count": 7,
   "id": "b0e995b6",
   "metadata": {},
   "outputs": [
    {
     "name": "stdout",
     "output_type": "stream",
     "text": [
      "Azure Cognitive Search index = resume-rag-demo\n"
     ]
    }
   ],
   "source": [
    "print(f\"Azure Cognitive Search index = {index_name}\")"
   ]
  },
  {
   "cell_type": "code",
   "execution_count": 8,
   "id": "b845abec",
   "metadata": {},
   "outputs": [
    {
     "name": "stdout",
     "output_type": "stream",
     "text": [
      "Azure Cognitive Search Index: resume-rag-demo \n",
      "\n",
      "{\n",
      "     \"@odata.context\": \"https://azurecogsearcheastussr.search.windows.net/$metadata#indexes/$entity\",\n",
      "     \"@odata.etag\": \"\\\"0x8DBE6962627FA4D\\\"\",\n",
      "     \"name\": \"resume-rag-demo\",\n",
      "     \"defaultScoringProfile\": null,\n",
      "     \"fields\": [\n",
      "          {\n",
      "               \"name\": \"id\",\n",
      "               \"type\": \"Edm.String\",\n",
      "               \"searchable\": false,\n",
      "               \"filterable\": true,\n",
      "               \"retrievable\": true,\n",
      "               \"sortable\": false,\n",
      "               \"facetable\": false,\n",
      "               \"key\": true,\n",
      "               \"indexAnalyzer\": null,\n",
      "               \"searchAnalyzer\": null,\n",
      "               \"analyzer\": null,\n",
      "               \"normalizer\": null,\n",
      "               \"synonymMaps\": []\n",
      "          },\n",
      "          {\n",
      "               \"name\": \"content\",\n",
      "               \"type\": \"Edm.String\",\n",
      "               \"searchable\": true,\n",
      "               \"filterable\": false,\n",
      "               \"retrievable\": true,\n",
      "               \"sortable\": false,\n",
      "               \"facetable\": false,\n",
      "               \"key\": false,\n",
      "               \"indexAnalyzer\": null,\n",
      "               \"searchAnalyzer\": null,\n",
      "               \"analyzer\": null,\n",
      "               \"normalizer\": null,\n",
      "               \"synonymMaps\": []\n",
      "          },\n",
      "          {\n",
      "               \"name\": \"content_vector\",\n",
      "               \"type\": \"Collection(Edm.Single)\",\n",
      "               \"searchable\": true,\n",
      "               \"filterable\": false,\n",
      "               \"retrievable\": true,\n",
      "               \"sortable\": false,\n",
      "               \"facetable\": false,\n",
      "               \"key\": false,\n",
      "               \"indexAnalyzer\": null,\n",
      "               \"searchAnalyzer\": null,\n",
      "               \"analyzer\": null,\n",
      "               \"normalizer\": null,\n",
      "               \"synonymMaps\": []\n",
      "          },\n",
      "          {\n",
      "               \"name\": \"metadata\",\n",
      "               \"type\": \"Edm.String\",\n",
      "               \"searchable\": true,\n",
      "               \"filterable\": false,\n",
      "               \"retrievable\": true,\n",
      "               \"sortable\": false,\n",
      "               \"facetable\": false,\n",
      "               \"key\": false,\n",
      "               \"indexAnalyzer\": null,\n",
      "               \"searchAnalyzer\": null,\n",
      "               \"analyzer\": null,\n",
      "               \"normalizer\": null,\n",
      "               \"synonymMaps\": []\n",
      "          }\n",
      "     ],\n",
      "     \"scoringProfiles\": [],\n",
      "     \"corsOptions\": null,\n",
      "     \"suggesters\": [],\n",
      "     \"analyzers\": [],\n",
      "     \"normalizers\": [],\n",
      "     \"tokenizers\": [],\n",
      "     \"tokenFilters\": [],\n",
      "     \"charFilters\": [],\n",
      "     \"encryptionKey\": null,\n",
      "     \"similarity\": {\n",
      "          \"@odata.type\": \"#Microsoft.Azure.Search.BM25Similarity\",\n",
      "          \"k1\": null,\n",
      "          \"b\": null\n",
      "     },\n",
      "     \"semantic\": null\n",
      "}\n"
     ]
    }
   ],
   "source": [
    "index_status(index_name, azure_cs_endpoint, azure_cs_key)"
   ]
  },
  {
   "cell_type": "code",
   "execution_count": 9,
   "id": "391bd333",
   "metadata": {},
   "outputs": [
    {
     "name": "stdout",
     "output_type": "stream",
     "text": [
      "Azure Cognitive Search index status for: resume-rag-demo \n",
      "\n",
      "{\n",
      "  \"@odata.context\": \"https://azurecogsearcheastussr.search.windows.net/$metadata#Microsoft.Azure.Search.V2021_04_30_Preview.IndexStatistics\",\n",
      "  \"documentCount\": 1509,\n",
      "  \"storageSize\": 46394403\n",
      "}\n"
     ]
    }
   ],
   "source": [
    "document_count, storage_size = index_stats(index_name, azure_cs_endpoint, azure_cs_key)"
   ]
  },
  {
   "cell_type": "code",
   "execution_count": 10,
   "id": "a6dbc599",
   "metadata": {},
   "outputs": [
    {
     "name": "stdout",
     "output_type": "stream",
     "text": [
      "Number of documents in the index = 1509\n",
      "Size of the index = 44.25 MB\n"
     ]
    }
   ],
   "source": [
    "print(f\"Number of documents in the index = {document_count}\")\n",
    "print(f\"Size of the index = {round(storage_size / (1024 * 1024), 2)} MB\")"
   ]
  },
  {
   "cell_type": "markdown",
   "id": "b35ee313",
   "metadata": {},
   "source": [
    "## 3. Search with Azure Open AI"
   ]
  },
  {
   "cell_type": "markdown",
   "id": "2d9c59de",
   "metadata": {},
   "source": [
    "### Testing"
   ]
  },
  {
   "cell_type": "code",
   "execution_count": 11,
   "id": "a4dee649",
   "metadata": {},
   "outputs": [
    {
     "data": {
      "application/javascript": [
       "OutputArea.auto_scroll_threshold = 9999\n"
      ],
      "text/plain": [
       "<IPython.core.display.Javascript object>"
      ]
     },
     "metadata": {},
     "output_type": "display_data"
    }
   ],
   "source": [
    "%%javascript Python\n",
    "OutputArea.auto_scroll_threshold = 9999"
   ]
  },
  {
   "cell_type": "markdown",
   "id": "a95c07c5",
   "metadata": {},
   "source": [
    "This is to maximize the display output"
   ]
  },
  {
   "cell_type": "markdown",
   "id": "07767f87",
   "metadata": {},
   "source": [
    "We can do some quick tests"
   ]
  },
  {
   "cell_type": "code",
   "execution_count": 12,
   "id": "28b57c05",
   "metadata": {},
   "outputs": [
    {
     "name": "stdout",
     "output_type": "stream",
     "text": [
      "Azure OpenAI model to use: gpt-35-turbo-16k\n"
     ]
    }
   ],
   "source": [
    "print(f\"Azure OpenAI model to use: {gptmodel}\")"
   ]
  },
  {
   "cell_type": "code",
   "execution_count": 13,
   "id": "e7bd4b6b",
   "metadata": {},
   "outputs": [
    {
     "name": "stdout",
     "output_type": "stream",
     "text": [
      "I'm sorry, I don't have access to real-time information.\n"
     ]
    }
   ],
   "source": [
    "print(azure_openai(\"What time is it?\", gptmodel))"
   ]
  },
  {
   "cell_type": "code",
   "execution_count": 14,
   "id": "bb47eeea",
   "metadata": {},
   "outputs": [
    {
     "name": "stdout",
     "output_type": "stream",
     "text": [
      "I am a human resources expert.\n"
     ]
    }
   ],
   "source": [
    "print(azure_openai(\"Who are you?\", gptmodel))"
   ]
  },
  {
   "cell_type": "code",
   "execution_count": 15,
   "id": "528042c9",
   "metadata": {},
   "outputs": [
    {
     "name": "stdout",
     "output_type": "stream",
     "text": [
      "Je suis un expert en ressources humaines.\n"
     ]
    }
   ],
   "source": [
    "print(azure_openai(\"Qui es-tu?\", gptmodel))"
   ]
  },
  {
   "cell_type": "code",
   "execution_count": 16,
   "id": "d2f71887",
   "metadata": {},
   "outputs": [
    {
     "name": "stdout",
     "output_type": "stream",
     "text": [
      "I can provide you with a summary of a resume, including key points, details, products/technologies mentioned, skills, companies/organizations worked for, schools/universities attended, and any other valuable information about the profile.\n"
     ]
    }
   ],
   "source": [
    "print(azure_openai(\"What can you do for me?\", gptmodel))"
   ]
  },
  {
   "cell_type": "markdown",
   "id": "ff96cb8c",
   "metadata": {},
   "source": [
    "### Ask your own data "
   ]
  },
  {
   "cell_type": "markdown",
   "id": "e1e4f05c",
   "metadata": {},
   "source": [
    "We can ask any questions related with the documents we have processed. You can ask in any language."
   ]
  },
  {
   "cell_type": "code",
   "execution_count": 19,
   "id": "57dda59b",
   "metadata": {},
   "outputs": [],
   "source": [
    "# Embeddings engine\n",
    "embeddings: OpenAIEmbeddings = OpenAIEmbeddings(engine=embed_model)"
   ]
  },
  {
   "cell_type": "code",
   "execution_count": 20,
   "id": "fd20fcb9",
   "metadata": {},
   "outputs": [],
   "source": [
    "# Azure Cognitive Search as the vector store\n",
    "vector_store: AzureSearch = AzureSearch(\n",
    "    azure_search_endpoint=azure_cs_endpoint,\n",
    "    azure_search_key=azure_cs_key,\n",
    "    index_name=index_name,\n",
    "    embedding_function=embeddings.embed_query,\n",
    ")"
   ]
  },
  {
   "cell_type": "code",
   "execution_count": 21,
   "id": "84fef16c",
   "metadata": {},
   "outputs": [
    {
     "name": "stdout",
     "output_type": "stream",
     "text": [
      "Profile 1:\n",
      "\n",
      "\u001b[1;31;34m1. Established Designer with a reputation for exquisitely designed collections, maximizing company profits and surpassing margin goals.\n",
      "2. Experienced Designer with a strong track record of designing multiple lines for international and domestic departments, leading research and development of seasonal trends, and providing leadership in preparation of skus for line reviews and meetings with buyers. Also skilled in critical thinking, time management, adaptability, social perceptiveness, attention to detail, and innovation.\n",
      "3. Products or technologies mentioned in the resume: PLM (Product Lifecycle Management)\n",
      "4. Skills mentioned in the resume: Critical thinking, time management, communication, adaptability, social perceptiveness, attention to detail, innovation.\n",
      "5. Companies or organizations where this profile has worked: CompanyName.\n",
      "6. Schools or universities mentioned in the resume: The Fashion Institute of Design and Merchandising.\n",
      "7. Other valuable aspects of this profile: Certified OZ PRINCIPLE Leader, National Young Leader of America, Les Miller Outstanding Leadership/Scholarship Award.\n",
      "\n",
      "\u001b[1;31;35m⚠️This summary is generated by an AI (Azure Open AI). Examine and use carefully.\n",
      "\n",
      "\u001b[1;31;91m➡️Resume 1: cv/DESIGNER/68240723.pdf Page: 1 with confidence = 0.8571029\n"
     ]
    },
    {
     "data": {
      "text/html": [
       "<a href='cv/DESIGNER/68240723.pdf' target='_blank'>cv/DESIGNER/68240723.pdf</a><br>"
      ],
      "text/plain": [
       "/mnt/batch/tasks/shared/LS_root/mounts/clusters/standardd14sr/code/Users/seretkow/RAG - Resume analysis usecase/cv/DESIGNER/68240723.pdf"
      ]
     },
     "metadata": {},
     "output_type": "display_data"
    },
    {
     "name": "stdout",
     "output_type": "stream",
     "text": [
      "\n",
      "Profile 2:\n",
      "\n",
      "\u001b[1;31;34m1. Successful Design Consultant with over 26 years of experience in managing large-scale interior and exterior projects for residential homes, exhibiting sophisticated taste and a unique design style.\n",
      "2. This Interior Designer has 26 years of experience in managing interior and exterior projects for residential homes, with a focus on low to high-end properties. They have a can-do attitude and valuable design insight gained from past creations. They excel in concept development, space planning, color and material application, and interior architectural detailing. They are proficient with furniture systems and have a strong leadership ability. They have successfully managed and supervised large-scale remodeling projects and have worked with Dr. Vettese for over 18 years. They have also introduced sustainable homes to third world countries and have experience in off-the-grid home construction. They have a degree in Arts from Roosevelt University and strong skills in budgets, color, content, clients, direction, graphic design, interior design, presentations, space planning, specification, and vision.\n",
      "3. No specific products or technologies mentioned in the resume.\n",
      "4. Skills mentioned in the resume include concept development, space planning, color and material application, strong leadership, product specifications, interior architectural detailing, proficient with furniture systems, budgets, color, content, clients, direction, graphic design, interior design, presentations, space planning, specification, and vision.\n",
      "5. Companies or organizations mentioned in the resume include Interior Designer Company, Dr. Vettese, and International Representative Company.\n",
      "6. Schools or universities mentioned in the resume include Roosevelt University and Calvin Coolidge High School.\n",
      "7. This profile is valuable due to their extensive experience in interior design, their ability to manage large-scale projects, their unique design style, and their expertise in concept development, space planning, and color and material application. They also have experience in sustainable home construction and have successfully introduced this concept to third world countries.\n",
      "\n",
      "\u001b[1;31;35m⚠️This summary is generated by an AI (Azure Open AI). Examine and use carefully.\n",
      "\n",
      "\u001b[1;31;91m➡️Resume 2: cv/DESIGNER/13518263.pdf Page: 1 with confidence = 0.8512175\n"
     ]
    },
    {
     "data": {
      "text/html": [
       "<a href='cv/DESIGNER/13518263.pdf' target='_blank'>cv/DESIGNER/13518263.pdf</a><br>"
      ],
      "text/plain": [
       "/mnt/batch/tasks/shared/LS_root/mounts/clusters/standardd14sr/code/Users/seretkow/RAG - Resume analysis usecase/cv/DESIGNER/13518263.pdf"
      ]
     },
     "metadata": {},
     "output_type": "display_data"
    },
    {
     "name": "stdout",
     "output_type": "stream",
     "text": [
      "\n",
      "Profile 3:\n",
      "\n",
      "\u001b[1;31;34m1. This designer has experience in jewelry collection design for brides shows and is seeking a company that supports teamwork and utilizes employee abilities.\n",
      "2. This designer has excellent teamworking skills, planning and organizing events, creativity in working, time management skills, and the ability to work under pressure. They also have experience in communicating and building relationships with people of varying backgrounds. They are computer literate and have fluency in MS Office and the World Wide Web. They have a Bachelor of Fine Arts in Visual Communication from American University in Dubai.\n",
      "3. Products or technologies mentioned in the resume: MS Office (Word, Excel, PowerPoint, Access), World Wide Web (web search).\n",
      "4. Skills mentioned in the resume: teamworking, planning and organizing events, creativity, time management, communication, leadership, computer literacy, typing skills.\n",
      "5. Companies or organizations where this profile has worked: CompanyName (not specified further).\n",
      "6. Schools or universities mentioned in the resume: American University in Dubai, Al-Ma'arifa Private School, Rosary School.\n",
      "7. Other valuable qualities mentioned in the resume: experience in designing jewelry collections for brides shows, fluency in multiple languages (English, Arabic), and interests in painting, sports, fine dining, and reading.\n",
      "\n",
      "\u001b[1;31;35m⚠️This summary is generated by an AI (Azure Open AI). Examine and use carefully.\n",
      "\n",
      "\u001b[1;31;91m➡️Resume 3: cv/DESIGNER/76010167.pdf Page: 1 with confidence = 0.84620875\n"
     ]
    },
    {
     "data": {
      "text/html": [
       "<a href='cv/DESIGNER/76010167.pdf' target='_blank'>cv/DESIGNER/76010167.pdf</a><br>"
      ],
      "text/plain": [
       "/mnt/batch/tasks/shared/LS_root/mounts/clusters/standardd14sr/code/Users/seretkow/RAG - Resume analysis usecase/cv/DESIGNER/76010167.pdf"
      ]
     },
     "metadata": {},
     "output_type": "display_data"
    },
    {
     "name": "stdout",
     "output_type": "stream",
     "text": [
      "\n"
     ]
    }
   ],
   "source": [
    "query = \"Do we have some designer profiles with some great international experiences\"\n",
    "\n",
    "ask_your_own_data(query, vector_store, gptmodel, topn=3)"
   ]
  },
  {
   "cell_type": "code",
   "execution_count": 22,
   "id": "44fb5428",
   "metadata": {},
   "outputs": [
    {
     "name": "stdout",
     "output_type": "stream",
     "text": [
      "Profile 1:\n",
      "\n",
      "\u001b[1;31;34m1. A business development, sales, and account management professional with 15+ years of experience working with a range of clients from SMB to national brands.\n",
      "2. This candidate has a strong track record in cultivating innovative business concepts, creating value, and developing relationships that drive revenues and secure deals. They are skilled in B2B sales, negotiation, marketing promotions, sponsorship sales, and lead generation. They are also an effective communicator, experienced in collaborating with senior leadership teams and presenting to key stakeholders.\n",
      "3. Products or technologies mentioned in the resume: Dell, GEMS, Access, Excel, Outlook, PowerPoint, Publisher, Word.\n",
      "4. Skills mentioned in the resume: business development, cold-calling, consulting, content creation, client relations, marketing, market research, negotiation, networking, organizational skills, sales, strategy, teaching, web content.\n",
      "5. Companies or organizations where this profile has worked: Not mentioned in the resume.\n",
      "6. Schools or universities mentioned in the resume: Not mentioned in the resume.\n",
      "7. This profile is valuable due to their extensive experience in business development, sales, and account management, as well as their ability to cultivate innovative business concepts and develop strong relationships. They also have a strong skill set in B2B sales, negotiation, and marketing, making them a valuable asset for driving revenues and exceeding business goals.\n",
      "\n",
      "\u001b[1;31;35m⚠️This summary is generated by an AI (Azure Open AI). Examine and use carefully.\n",
      "\n",
      "\u001b[1;31;91m➡️Resume 1: cv/BUSINESS-DEVELOPMENT/20357858.pdf Page: 2 with confidence = 0.8709417\n"
     ]
    },
    {
     "data": {
      "text/html": [
       "<a href='cv/BUSINESS-DEVELOPMENT/20357858.pdf' target='_blank'>cv/BUSINESS-DEVELOPMENT/20357858.pdf</a><br>"
      ],
      "text/plain": [
       "/mnt/batch/tasks/shared/LS_root/mounts/clusters/standardd14sr/code/Users/seretkow/RAG - Resume analysis usecase/cv/BUSINESS-DEVELOPMENT/20357858.pdf"
      ]
     },
     "metadata": {},
     "output_type": "display_data"
    },
    {
     "name": "stdout",
     "output_type": "stream",
     "text": [
      "\n",
      "Profile 2:\n",
      "\n",
      "\u001b[1;31;34m1. Results-driven and highly skilled Account Manager and Sales Leader with 10+ years of experience developing and executing plans that cover all aspects of the sales cycle.\n",
      "2. This profile is a Director of Business Development with a proven track record in strategic account development, relationship selling, and strong deal closing. They have successfully increased annual sales by 67% and territory penetration by 25%. They have managed a portfolio of accounts totaling $10,500,000 in annual sales and $32,000,000 in total contract value. They have also generated a pipeline of over $150,000,000 in net new opportunities in 12 months. They have experience in the public sector industry, securing contracts for enterprise government software, SaaS, IaaS, and Managed Service solutions. They have also served as a Deputy Secretary of State, where they were accountable for the day-to-day operations of multiple divisions and implemented a new Statewide Voter Registration software solution. Additionally, they have experience in mortgage lending and financial analysis.\n",
      "3. Products or technologies mentioned in the resume: enterprise government software, Software as a Service (SaaS), Infrastructure as a Service (IaaS), Managed Services, Voice over Internet Protocol (VoIP), hardware, telephony.\n",
      "4. Skills mentioned in the resume: strategic account development, interpersonal skills, team building expertise, proven sales track record, relationship selling, strong deal closer, skilled multi-tasker, analytical problem solver.\n",
      "5. Companies or organizations where this profile has worked: not mentioned in the resume.\n",
      "6. Schools or universities mentioned in the resume: not mentioned in the resume.\n",
      "7. This profile is valuable due to their extensive experience in business development, sales, and account management. They have a proven track record of achieving sales goals, developing effective strategies, and building strong relationships with customers. They also have experience in the public sector and have successfully implemented new software solutions.\n",
      "\n",
      "\u001b[1;31;35m⚠️This summary is generated by an AI (Azure Open AI). Examine and use carefully.\n",
      "\n",
      "\u001b[1;31;91m➡️Resume 2: cv/BUSINESS-DEVELOPMENT/10704573.pdf Page: 1 with confidence = 0.8676427\n"
     ]
    },
    {
     "data": {
      "text/html": [
       "<a href='cv/BUSINESS-DEVELOPMENT/10704573.pdf' target='_blank'>cv/BUSINESS-DEVELOPMENT/10704573.pdf</a><br>"
      ],
      "text/plain": [
       "/mnt/batch/tasks/shared/LS_root/mounts/clusters/standardd14sr/code/Users/seretkow/RAG - Resume analysis usecase/cv/BUSINESS-DEVELOPMENT/10704573.pdf"
      ]
     },
     "metadata": {},
     "output_type": "display_data"
    },
    {
     "name": "stdout",
     "output_type": "stream",
     "text": [
      "\n",
      "Profile 3:\n",
      "\n",
      "\u001b[1;31;34m1. Experienced Business Development Manager with a strong track record in sales and marketing, strategic planning, and team leadership.\n",
      "2. Accomplished Business Development Manager with over 20 years of experience in sales and marketing, successfully improving sales and growing the customer base. Skilled in strategic planning, program management, and effective communication. Proven ability to build relationships with key decision-makers and identify valuable business opportunities.\n",
      "3. Products or technologies mentioned in the resume: chip assembly equipment, design management and collaboration software, precious and non-precious metals puttering targets and evaporation materials.\n",
      "4. Skills mentioned in the resume: key decision-making, marketing, verbal and written communication, strategic planning, networking, relationship building and management, conflict resolution, goal setting and performance, new business development, territory management, account management and development, product and service sales.\n",
      "5. Companies or organizations where this profile has worked: Skyworks, Finisar, Broadcom, Macom, On Semi, Microchip, GCS, Northrop Grumman, NXP, Cypress.\n",
      "6. Schools or universities mentioned in the resume: None mentioned.\n",
      "7. This profile is valuable due to the extensive experience in business development, sales, and marketing, as well as the ability to effectively manage multiple territories, develop strategic plans, and build strong relationships with customers.\n",
      "\n",
      "\u001b[1;31;35m⚠️This summary is generated by an AI (Azure Open AI). Examine and use carefully.\n",
      "\n",
      "\u001b[1;31;91m➡️Resume 3: cv/BUSINESS-DEVELOPMENT/37521676.pdf Page: 1 with confidence = 0.86159545\n"
     ]
    },
    {
     "data": {
      "text/html": [
       "<a href='cv/BUSINESS-DEVELOPMENT/37521676.pdf' target='_blank'>cv/BUSINESS-DEVELOPMENT/37521676.pdf</a><br>"
      ],
      "text/plain": [
       "/mnt/batch/tasks/shared/LS_root/mounts/clusters/standardd14sr/code/Users/seretkow/RAG - Resume analysis usecase/cv/BUSINESS-DEVELOPMENT/37521676.pdf"
      ]
     },
     "metadata": {},
     "output_type": "display_data"
    },
    {
     "name": "stdout",
     "output_type": "stream",
     "text": [
      "\n"
     ]
    }
   ],
   "source": [
    "query = (\n",
    "    \"I need some business development profiles with more than 10 years of experience\"\n",
    ")\n",
    "\n",
    "ask_your_own_data(query, vector_store, gptmodel, topn=3)"
   ]
  },
  {
   "cell_type": "code",
   "execution_count": 23,
   "id": "aa74f6ad",
   "metadata": {},
   "outputs": [
    {
     "name": "stdout",
     "output_type": "stream",
     "text": [
      "Profile 1:\n",
      "\n",
      "\u001b[1;31;34m1. Senior Sales Assistant/Sales Support with experience in monitoring ads, providing high-quality customer service, and managing office operations.\n",
      "2. Experienced Senior Sales Assistant/Sales Support with a track record of accurately monitoring and evaluating ads, providing exceptional customer service, and effectively solving customer challenges. Skilled in maintaining inventory, managing office operations, and creating presentations. \n",
      "3. No specific products or technologies mentioned in the resume.\n",
      "4. Skills mentioned in the resume include attention to detail, customer service, database management, inventory management, office operations, presentations, quality control, sales, and phone handling.\n",
      "5. The resume does not mention any specific company names or organizations.\n",
      "6. The resume mentions Northwood High School as the educational background.\n",
      "7. This profile is valuable due to the extensive experience in sales support and customer service, as well as the ability to effectively manage office operations and provide attention to detail.\n",
      "\n",
      "\u001b[1;31;35m⚠️This summary is generated by an AI (Azure Open AI). Examine and use carefully.\n",
      "\n",
      "\u001b[1;31;91m➡️Resume 1: cv/SALES/15273850.pdf Page: 1 with confidence = 0.8508304\n"
     ]
    },
    {
     "data": {
      "text/html": [
       "<a href='cv/SALES/15273850.pdf' target='_blank'>cv/SALES/15273850.pdf</a><br>"
      ],
      "text/plain": [
       "/mnt/batch/tasks/shared/LS_root/mounts/clusters/standardd14sr/code/Users/seretkow/RAG - Resume analysis usecase/cv/SALES/15273850.pdf"
      ]
     },
     "metadata": {},
     "output_type": "display_data"
    },
    {
     "name": "stdout",
     "output_type": "stream",
     "text": [
      "\n",
      "Profile 2:\n",
      "\n",
      "\u001b[1;31;34m1. Senior Account Manager with experience in selling E-commerce and Data Management Software and PVD materials to Fortune 500 semiconductor customers.\n",
      "2. Experienced Senior Account Manager with a track record of success in selling E-commerce and Data Management Software as well as PVD materials to semiconductor industry. Grew Northwest territory from $300K/yr to $5 million/yr in 3 1/2 years. Certified in sales techniques and coaching. Skilled in team leadership, strategic planning, and relationship building.\n",
      "3. E-commerce and Data Management Software, PVD materials, ERP systems (SAP, Oracle, Baan, JDEdwards)\n",
      "4. Key decision making, team leadership, marketing, verbal and written communication, strategic planning, networking, relationship building and management, conflict resolution, goals and performance, new business development, territory management, account management, product and service sales.\n",
      "5. Ariba (partnered with), LSI, Micron, STMicro, Philips, Hyundai, Motorola, Conexant, Solectron, APlus, Flextronics, Skyworks, IRC.\n",
      "6. Institute of Professional Excellence in Coaching, University of Tulsa.\n",
      "7. Certified in sales techniques and coaching, experienced in growing territories and achieving sales targets, skilled in team leadership and strategic planning, strong networking and relationship building abilities.\n",
      "\n",
      "\u001b[1;31;35m⚠️This summary is generated by an AI (Azure Open AI). Examine and use carefully.\n",
      "\n",
      "\u001b[1;31;91m➡️Resume 2: cv/BUSINESS-DEVELOPMENT/37521676.pdf Page: 2 with confidence = 0.8457192\n"
     ]
    },
    {
     "data": {
      "text/html": [
       "<a href='cv/BUSINESS-DEVELOPMENT/37521676.pdf' target='_blank'>cv/BUSINESS-DEVELOPMENT/37521676.pdf</a><br>"
      ],
      "text/plain": [
       "/mnt/batch/tasks/shared/LS_root/mounts/clusters/standardd14sr/code/Users/seretkow/RAG - Resume analysis usecase/cv/BUSINESS-DEVELOPMENT/37521676.pdf"
      ]
     },
     "metadata": {},
     "output_type": "display_data"
    },
    {
     "name": "stdout",
     "output_type": "stream",
     "text": [
      "\n",
      "Profile 3:\n",
      "\n",
      "\u001b[1;31;34m1. This profile has experience in sales and customer retention, with a focus on building networking sites to increase profitability.\n",
      "2. The candidate has led sales calls and set goals for sales and customer retention. They have experience in various industries such as hospitality, logistics, healthcare, retail, and contractors. They have a strong track record of exceeding sales goals and maintaining high retention rates. They have also received awards for their performance and have experience in mortgage lending. They have a strong skill set in customer targeting, contract negotiations, prospecting, internet marketing, and leadership. They have a degree in Arts and Science.\n",
      "3. Products or technologies mentioned in the resume include SaaS (Software as a Service) and websites.\n",
      "4. Skills mentioned in the resume include customer targeting, contract negotiations, prospecting, internet marketing, leadership, conflict resolution techniques, hiring, training and supervision, operations management, market research, and employee recruiting.\n",
      "5. Companies or organizations where this profile has worked include Comcast Business, Networx Systems, and Wellstar Health System.\n",
      "6. Schools or universities mentioned in the resume include Enterprise State Junior College and Troy University.\n",
      "7. This profile is valuable due to their strong sales and customer retention skills, experience in various industries, track record of exceeding goals, and their ability to build relationships with clients. They also have experience in mortgage lending and a strong work ethic.\n",
      "\n",
      "\u001b[1;31;35m⚠️This summary is generated by an AI (Azure Open AI). Examine and use carefully.\n",
      "\n",
      "\u001b[1;31;91m➡️Resume 3: cv/BUSINESS-DEVELOPMENT/18293620.pdf Page: 2 with confidence = 0.8455297\n"
     ]
    },
    {
     "data": {
      "text/html": [
       "<a href='cv/BUSINESS-DEVELOPMENT/18293620.pdf' target='_blank'>cv/BUSINESS-DEVELOPMENT/18293620.pdf</a><br>"
      ],
      "text/plain": [
       "/mnt/batch/tasks/shared/LS_root/mounts/clusters/standardd14sr/code/Users/seretkow/RAG - Resume analysis usecase/cv/BUSINESS-DEVELOPMENT/18293620.pdf"
      ]
     },
     "metadata": {},
     "output_type": "display_data"
    },
    {
     "name": "stdout",
     "output_type": "stream",
     "text": [
      "\n"
     ]
    }
   ],
   "source": [
    "query = \"Do we have some senior sales profiles?\"\n",
    "\n",
    "ask_your_own_data(query, vector_store, gptmodel, topn=3)"
   ]
  },
  {
   "cell_type": "code",
   "execution_count": 24,
   "id": "5938ca3b",
   "metadata": {},
   "outputs": [
    {
     "name": "stdout",
     "output_type": "stream",
     "text": [
      "Profile 1:\n",
      "\n",
      "\u001b[1;31;34m1. The candidate has skills in Microsoft Word, Excel, Access, SQL Server, VBA, and VisualStudio.\n",
      "2. The candidate is proficient in using Microsoft Office applications such as Word, Excel, and Access. They also have experience with SQL Server, VBA programming, and VisualStudio.\n",
      "3. Microsoft Word, Excel, Access, SQL Server, VBA, VisualStudio.\n",
      "4. Microsoft Word, Excel, Access, SQL Server, VBA, VisualStudio.\n",
      "5. No information provided in the resume.\n",
      "6. No information provided in the resume.\n",
      "7. The candidate's proficiency in Microsoft Office applications and programming languages such as VBA and VisualStudio make them valuable for tasks involving data analysis, database management, and software development.\n",
      "\n",
      "\u001b[1;31;35m⚠️This summary is generated by an AI (Azure Open AI). Examine and use carefully.\n",
      "\n",
      "\u001b[1;31;91m➡️Resume 1: cv/INFORMATION-TECHNOLOGY/20001721.pdf Page: 2 with confidence = 0.8610725\n"
     ]
    },
    {
     "data": {
      "text/html": [
       "<a href='cv/INFORMATION-TECHNOLOGY/20001721.pdf' target='_blank'>cv/INFORMATION-TECHNOLOGY/20001721.pdf</a><br>"
      ],
      "text/plain": [
       "/mnt/batch/tasks/shared/LS_root/mounts/clusters/standardd14sr/code/Users/seretkow/RAG - Resume analysis usecase/cv/INFORMATION-TECHNOLOGY/20001721.pdf"
      ]
     },
     "metadata": {},
     "output_type": "display_data"
    },
    {
     "name": "stdout",
     "output_type": "stream",
     "text": [
      "\n",
      "Profile 2:\n",
      "\n",
      "\u001b[1;31;34m1. The resume mentions experience with FACET, HEAT, SQL Server 2005, Cognos, ER/Studio, Mini-tab, Oracle, SAS, SharePoint Foundation 2007/2010, SPSS, and pcAnywhere.\n",
      "2. The candidate has advanced user skills in Microsoft Office suite including Excel, Word, One Note, Outlook, Power Point, Project, SharePoint, and Visio.\n",
      "3. Products or technologies mentioned in the resume include FACET, HEAT, SQL Server 2005, Cognos, ER/Studio, Mini-tab, Oracle, SAS, SharePoint Foundation 2007/2010, SPSS, and pcAnywhere.\n",
      "4. Skills mentioned in the resume include advanced user skills in Microsoft Office suite including Excel, Word, One Note, Outlook, Power Point, Project, SharePoint, and Visio.\n",
      "5. The resume does not mention any specific company names or organizations where the candidate has worked.\n",
      "6. The resume does not mention any specific schools or universities.\n",
      "7. The candidate's advanced user skills in Microsoft Office suite and experience with various software packages make them valuable for roles that require proficiency in these tools.\n",
      "\n",
      "\u001b[1;31;35m⚠️This summary is generated by an AI (Azure Open AI). Examine and use carefully.\n",
      "\n",
      "\u001b[1;31;91m➡️Resume 2: cv/ENGINEERING/32081266.pdf Page: 3 with confidence = 0.84880626\n"
     ]
    },
    {
     "data": {
      "text/html": [
       "<a href='cv/ENGINEERING/32081266.pdf' target='_blank'>cv/ENGINEERING/32081266.pdf</a><br>"
      ],
      "text/plain": [
       "/mnt/batch/tasks/shared/LS_root/mounts/clusters/standardd14sr/code/Users/seretkow/RAG - Resume analysis usecase/cv/ENGINEERING/32081266.pdf"
      ]
     },
     "metadata": {},
     "output_type": "display_data"
    },
    {
     "name": "stdout",
     "output_type": "stream",
     "text": [
      "\n",
      "Profile 3:\n",
      "\n",
      "\u001b[1;31;34m1. College graduate with a strong work ethic and focus on details, seeking an entry-level position as an insurance claims adjuster.\n",
      "2. College graduate with a proven record of success in all endeavors, interested in insurance claims work. Experienced in creating SQL queries, stored procedures, and tables to extract data. Skilled in analyzing data to create executive team dashboards and daily visualizations. Proficient in utilizing Excel pivot tables and conducting data reviews to ensure data quality. Experienced in providing technical support and basic development for computer applications and programs. Developed and enhanced WebI reports and universes through Business Objects. Collaborated with team members and clients to gather HR/payroll report requirements.\n",
      "3. SQL Server 2005, SQL Server 2008, SQL Server 2008R2, VM-Ware, ODBC, SQL, PL/SQL, Access, MS Office Suite, MS Visio, Oracle 10g, Oracle 11g, SAP Business Objects BI Suite, PeopleSoft, ADP, cView, SQL Server Studio, EmpCenter, CQCS, DNA, DNA-sme, IMC, eSoms, Internet Explorer, Netscape Navigator, Chrome, Firefox, JAVA, ASP.NET, HTML, MS Windows Professional/Enterprise/XP/7/8, NT, Novell NetWare, RPGMetadata, SAS, CeridianEncore, SSRS, SSAS, SSIS, ETL, Teradata, CrystalReports, ServiceNow, SharePoint, Cyberquery, Oracle Discoverer, MicroStrategy 9.3.1, Business Objects WebI, Tableau 9.0.1, ERWIN, HP ALMQC, MS VisualSourceSafe, TOAD.\n",
      "4. Unix, SQL Server, SQL, PL/SQL, Access, MS Office Suite, MS Visio, Oracle, SAP Business Objects BI Suite, PeopleSoft, ADP, cView, Internet Explorer, Netscape Navigator, Chrome, Firefox, JAVA, ASP.NET, HTML, MS Windows, NT, Novell NetWare, RPGMetadata, SAS, CeridianEncore, SSRS, SSAS, SSIS, ETL, Teradata, CrystalReports, ServiceNow, SharePoint, Cyberquery, Oracle Discoverer, MicroStrategy, Business Objects WebI, Tableau, ERWIN, HP ALMQC, MS VisualSourceSafe, TOAD.\n",
      "5. CompanyName (Consultant), CompanyName (Database Analyst), CompanyName (Senior Business Intelligence Analyst), CompanyName (Reporting Analyst), CompanyName (Business Analyst).\n",
      "6. N/A\n",
      "7. Strong work ethic, proven record of success, experience in creating SQL queries and analyzing data, proficiency in various software and technologies, experience in providing technical support and development for computer applications, experience in report development and data analysis.\n",
      "\n",
      "\u001b[1;31;35m⚠️This summary is generated by an AI (Azure Open AI). Examine and use carefully.\n",
      "\n",
      "\u001b[1;31;91m➡️Resume 3: cv/CONSULTANT/30863060.pdf Page: 1 with confidence = 0.8403014\n"
     ]
    },
    {
     "data": {
      "text/html": [
       "<a href='cv/CONSULTANT/30863060.pdf' target='_blank'>cv/CONSULTANT/30863060.pdf</a><br>"
      ],
      "text/plain": [
       "/mnt/batch/tasks/shared/LS_root/mounts/clusters/standardd14sr/code/Users/seretkow/RAG - Resume analysis usecase/cv/CONSULTANT/30863060.pdf"
      ]
     },
     "metadata": {},
     "output_type": "display_data"
    },
    {
     "name": "stdout",
     "output_type": "stream",
     "text": [
      "\n"
     ]
    }
   ],
   "source": [
    "query = \"Show me some candidates with deep expertise in SQL Server\"\n",
    "\n",
    "ask_your_own_data(query, vector_store, gptmodel, topn=3)"
   ]
  },
  {
   "cell_type": "code",
   "execution_count": 25,
   "id": "24e6b717",
   "metadata": {},
   "outputs": [
    {
     "name": "stdout",
     "output_type": "stream",
     "text": [
      "Profile 1:\n",
      "\n",
      "\u001b[1;31;34m1. The candidate has skills in Adobe, Agile, SCRUM, analytical skills, social media, SEO, SEM, PR, pricing, product marketing, product testing, optimization, promotions, and writing proposals.\n",
      "2. The candidate is proficient in Adobe software and has experience in Agile and SCRUM methodologies. They possess strong analytical skills and are knowledgeable in social media, SEO, SEM, and PR. They have expertise in pricing, product marketing, and product testing, with a focus on optimization and promotions. Additionally, they have experience in writing proposals.\n",
      "3. Adobe, Agile, SCRUM, social media, SEO, SEM, PR\n",
      "4. Analytical skills, pricing, product marketing, product testing, optimization, promotions, writing proposals\n",
      "5. No specific companies or organizations mentioned in the resume\n",
      "6. No specific schools or universities mentioned in the resume\n",
      "7. The candidate's skills in Adobe, Agile, SCRUM, and various marketing and analytical areas make them valuable for roles in digital marketing, product management, or project management. Their experience in writing proposals also indicates strong communication and persuasive abilities.\n",
      "\n",
      "\u001b[1;31;35m⚠️This summary is generated by an AI (Azure Open AI). Examine and use carefully.\n",
      "\n",
      "\u001b[1;31;91m➡️Resume 1: cv/CONSULTANT/29770086.pdf Page: 3 with confidence = 0.8623532\n"
     ]
    },
    {
     "data": {
      "text/html": [
       "<a href='cv/CONSULTANT/29770086.pdf' target='_blank'>cv/CONSULTANT/29770086.pdf</a><br>"
      ],
      "text/plain": [
       "/mnt/batch/tasks/shared/LS_root/mounts/clusters/standardd14sr/code/Users/seretkow/RAG - Resume analysis usecase/cv/CONSULTANT/29770086.pdf"
      ]
     },
     "metadata": {},
     "output_type": "display_data"
    },
    {
     "name": "stdout",
     "output_type": "stream",
     "text": [
      "\n",
      "Profile 2:\n",
      "\n",
      "\u001b[1;31;34m1. This profile has experience in conducting functional and physical configuration audits to meet CMMI standards.\n",
      "2. The candidate has worked as a Business Analyst and Scrum Master from October 2014 to March 2019. They facilitated requirements meetings and grooming sessions with the development team and clients to identify desired features and functionality. They also facilitated daily scrums, sprint reviews, sprint retrospectives, and sprint planning with the project team. They captured and translated requirements to the development team using Jira, Confluence, and during daily scrums. Additionally, they tested the application across different platforms to ensure proper implementation of requirements.\n",
      "3. No specific products or technologies are mentioned in the resume.\n",
      "4. The skills mentioned in the resume include functional and physical configuration audits, business analysis, Scrum Master, requirements gathering, Jira, Confluence, and testing.\n",
      "5. The company name or organization where the candidate worked is not mentioned in the resume.\n",
      "6. The schools or universities mentioned in the resume are American University and Clemson University.\n",
      "7. The candidate's fluency in Spanish is an additional valuable skill mentioned in the resume.\n",
      "\n",
      "\u001b[1;31;35m⚠️This summary is generated by an AI (Azure Open AI). Examine and use carefully.\n",
      "\n",
      "\u001b[1;31;91m➡️Resume 2: cv/INFORMATION-TECHNOLOGY/28697203.pdf Page: 2 with confidence = 0.8397719\n"
     ]
    },
    {
     "data": {
      "text/html": [
       "<a href='cv/INFORMATION-TECHNOLOGY/28697203.pdf' target='_blank'>cv/INFORMATION-TECHNOLOGY/28697203.pdf</a><br>"
      ],
      "text/plain": [
       "/mnt/batch/tasks/shared/LS_root/mounts/clusters/standardd14sr/code/Users/seretkow/RAG - Resume analysis usecase/cv/INFORMATION-TECHNOLOGY/28697203.pdf"
      ]
     },
     "metadata": {},
     "output_type": "display_data"
    },
    {
     "name": "stdout",
     "output_type": "stream",
     "text": [
      "\n",
      "Profile 3:\n",
      "\n",
      "\u001b[1;31;34m1. The resume highlights skills in architecture, business process, consulting, contracts, client management, design and construction, engineering support, estimating, project management, research, and scheduling.\n",
      "2. The candidate has experience in architecture and design, with a focus on business process improvement and consulting. They have worked on various projects involving client management, contracts, and engineering support. They are skilled in estimating project costs and managing project schedules. They have also conducted research and developed proposals for clients. Additionally, they have experience in the retail industry and have worked on projects related to office design and construction.\n",
      "3. The resume does not mention any specific products or technologies.\n",
      "4. The skills mentioned in the resume include architecture, business process, consulting, contracts, client management, design and construction, engineering support, estimating, project management, research, and scheduling.\n",
      "5. The resume does not mention any specific company names or organizations.\n",
      "6. The resume does not mention any specific schools or universities.\n",
      "7. The candidate's skills in architecture, business process improvement, and consulting make them valuable in roles that require project management, client management, and design and construction expertise. Their experience in the retail industry and proficiency in research and proposal development also add value to their profile.\n",
      "\n",
      "\u001b[1;31;35m⚠️This summary is generated by an AI (Azure Open AI). Examine and use carefully.\n",
      "\n",
      "\u001b[1;31;91m➡️Resume 3: cv/CONSULTANT/30083884.pdf Page: 2 with confidence = 0.839242\n"
     ]
    },
    {
     "data": {
      "text/html": [
       "<a href='cv/CONSULTANT/30083884.pdf' target='_blank'>cv/CONSULTANT/30083884.pdf</a><br>"
      ],
      "text/plain": [
       "/mnt/batch/tasks/shared/LS_root/mounts/clusters/standardd14sr/code/Users/seretkow/RAG - Resume analysis usecase/cv/CONSULTANT/30083884.pdf"
      ]
     },
     "metadata": {},
     "output_type": "display_data"
    },
    {
     "name": "stdout",
     "output_type": "stream",
     "text": [
      "\n"
     ]
    }
   ],
   "source": [
    "query = \"Display some candidates with SCRUM skills\"\n",
    "\n",
    "ask_your_own_data(query, vector_store, gptmodel, topn=3)"
   ]
  },
  {
   "cell_type": "code",
   "execution_count": 26,
   "id": "74d99337",
   "metadata": {},
   "outputs": [
    {
     "name": "stdout",
     "output_type": "stream",
     "text": [
      "Profile 1:\n",
      "\n",
      "\u001b[1;31;34m1. Public Relations intern with over 5 years of experience working for leading agencies such as Weber Shadwick, GolinHarris, and Latina PR, with strong experience in tech, B2B, social impact, and consumer products.\n",
      "2. Public Relations intern with more than 5 years of experience working for leading agencies such as Weber Shadwick, GolinHarris, and Latina PR. Has a strong track record in tech, B2B, social impact, and consumer products. Experienced in working across multiple cross-office teams based in different continents. Proficient in Salesforce, Adobe Package (InDesign, Illustrator, Photoshop), MS Office, and cloud-based calendars. Has a diverse multicultural background with dual citizenship in America and Brazil, and has been educated in the San Francisco Bay Area and Switzerland.\n",
      "3. Hootsuite, Sprout, TrackMaven\n",
      "4. Salesforce, Adobe Package (InDesign, Illustrator, Photoshop), MS Office (Word, Excel, PowerPoint, Keynote), Cloud-based calendars\n",
      "5. Weber Shadwick, GolinHarris, Latina PR, UN GlobalCompact\n",
      "6. University of San Francisco, American School of Recife, IMG Academy, The American School of Leysin\n",
      "7. This profile is valuable due to the extensive experience working for leading PR agencies, the ability to work across different teams and continents, proficiency in various software and tools, and the diverse multicultural background.\n",
      "\n",
      "\u001b[1;31;35m⚠️This summary is generated by an AI (Azure Open AI). Examine and use carefully.\n",
      "\n",
      "\u001b[1;31;91m➡️Resume 1: cv/DIGITAL-MEDIA/31162167.pdf Page: 1 with confidence = 0.8468228\n"
     ]
    },
    {
     "data": {
      "text/html": [
       "<a href='cv/DIGITAL-MEDIA/31162167.pdf' target='_blank'>cv/DIGITAL-MEDIA/31162167.pdf</a><br>"
      ],
      "text/plain": [
       "/mnt/batch/tasks/shared/LS_root/mounts/clusters/standardd14sr/code/Users/seretkow/RAG - Resume analysis usecase/cv/DIGITAL-MEDIA/31162167.pdf"
      ]
     },
     "metadata": {},
     "output_type": "display_data"
    },
    {
     "name": "stdout",
     "output_type": "stream",
     "text": [
      "\n",
      "Profile 2:\n",
      "\n",
      "\u001b[1;31;34m1. Marketing Executive with strong presentation, communication, and team management skills, seeking a high-level position in a professional corporate environment.\n",
      "2. Marketing Executive with expertise in Hubspot/SEO, Marketo, Google Analytics/PPC, Wordpress, Salesforce.com, and project management. Accomplishments include implementing SCRUM methodology resulting in a 15% increase in productivity, creating metrics-based reporting for marketing and sales teams, spearheading a new-hire program to increase retention, and initiating a geo-local landing page PPC strategy resulting in a 35% lift in conversion. Experience includes roles as a Consultant, VP of Marketing, Director of Marketing, and CEO/Client Success Officer.\n",
      "3. Hubspot, SEO, Marketo, Google Analytics, PPC, Wordpress, Salesforce.com\n",
      "4. Project Management, Human Resources, Operations Management, Staff Development\n",
      "5. CompanyName, City, State (Consultant Jan 2015 to Jan 2016), CompanyName, City, State (VP of Marketing Oct 2012 to Jan 2015), CompanyName, City, State (Director of Marketing Jun 2011 to Sep 2012), CompanyName, City, State (CEO/Client Success Officer Jul 2006 to May 2011)\n",
      "6. No schools or universities mentioned in the resume.\n",
      "7. This profile is valuable due to the extensive experience in marketing, project management, and team leadership. The accomplishments listed demonstrate a track record of driving results and implementing successful strategies. The profile also highlights skills in SEO, PPC, and various marketing tools and technologies.\n",
      "\n",
      "\u001b[1;31;35m⚠️This summary is generated by an AI (Azure Open AI). Examine and use carefully.\n",
      "\n",
      "\u001b[1;31;91m➡️Resume 2: cv/CONSULTANT/29770086.pdf Page: 1 with confidence = 0.845914\n"
     ]
    },
    {
     "data": {
      "text/html": [
       "<a href='cv/CONSULTANT/29770086.pdf' target='_blank'>cv/CONSULTANT/29770086.pdf</a><br>"
      ],
      "text/plain": [
       "/mnt/batch/tasks/shared/LS_root/mounts/clusters/standardd14sr/code/Users/seretkow/RAG - Resume analysis usecase/cv/CONSULTANT/29770086.pdf"
      ]
     },
     "metadata": {},
     "output_type": "display_data"
    },
    {
     "name": "stdout",
     "output_type": "stream",
     "text": [
      "\n",
      "Profile 3:\n",
      "\n",
      "\u001b[1;31;34m1. Social media manager with experience in marketing and public relations, strong communication skills, and proficiency in computer office programs.\n",
      "2. Experienced social media manager with a background in marketing and public relations. Highly organized and able to multi-task. Strong communicator with the ability to speak and write well. Proficient in computer office programs. Skilled in developing and nurturing relationships with clients and team members. Works well under pressure and is an effective problem solver. Experience includes managing social media profiles, creating strategic plans for social media posts, and assisting with office duties.\n",
      "3. Microsoft programs, Facebook, Twitter, Instagram, Constant Contact\n",
      "4. Communication, organization, multitasking, problem-solving, social media management\n",
      "5. CompanyName\n",
      "6. University of Louisiana at Lafayette\n",
      "7. This profile is valuable due to the candidate's experience in social media management, marketing, and public relations. They have strong communication skills and are proficient in computer office programs. They also have experience in managing relationships with clients and team members.\n",
      "\n",
      "\u001b[1;31;35m⚠️This summary is generated by an AI (Azure Open AI). Examine and use carefully.\n",
      "\n",
      "\u001b[1;31;91m➡️Resume 3: cv/DIGITAL-MEDIA/11270462.pdf Page: 1 with confidence = 0.8445636\n"
     ]
    },
    {
     "data": {
      "text/html": [
       "<a href='cv/DIGITAL-MEDIA/11270462.pdf' target='_blank'>cv/DIGITAL-MEDIA/11270462.pdf</a><br>"
      ],
      "text/plain": [
       "/mnt/batch/tasks/shared/LS_root/mounts/clusters/standardd14sr/code/Users/seretkow/RAG - Resume analysis usecase/cv/DIGITAL-MEDIA/11270462.pdf"
      ]
     },
     "metadata": {},
     "output_type": "display_data"
    },
    {
     "name": "stdout",
     "output_type": "stream",
     "text": [
      "\n"
     ]
    }
   ],
   "source": [
    "query = \"Display some profiles who has experience in PR campaigns\"\n",
    "\n",
    "ask_your_own_data(query, vector_store, gptmodel, topn=3)"
   ]
  },
  {
   "cell_type": "code",
   "execution_count": 27,
   "id": "f5993ed5",
   "metadata": {},
   "outputs": [
    {
     "name": "stdout",
     "output_type": "stream",
     "text": [
      "Profile 1:\n",
      "\n",
      "\u001b[1;31;34m1. A highly skilled Senior Software Executive with expertise in strategic planning, product development, and agile software development.\n",
      "2. Over the past 15 years, this candidate has reported directly to C-level executives and Board members, successfully bridging the gap between business and engineering. They have implemented strategic plans, aligned engineering teams to business goals, and reorganized and transitioned teams to become smooth running agile groups. They have managed the entire software development process and employees, including QA, project management, technical support, and on and offshore teams. They have also successfully onboarded engineers and technology from acquired companies. They have managed globally distributed teams and have been an early adopter of critical trends in methodologies and practices.\n",
      "3. Java, Amazon AWS, Hibernate, PHP, EC2, Elastic Search, C++, JSMVC, JUnit, C, HTML, Selenium, CanJS, CSS, Aurora, PL/SQL, Bootstrap, Jenkins, Oracle, Python, Phabricator, My/SQL, AJAX, GitHub, JavaScript, Camel, Jira, REST and SOAP services, MongoDB, Perl.\n",
      "4. Agile software development, strategic planning, project management, QA, technical support, Java, C++, HTML, CSS, JavaScript, Python, Oracle, MySQL, REST and SOAP services, Jenkins, GitHub.\n",
      "5. CompanyName (current), CompanyName (2012-2014), CompanyName (2010-2012), CompanyName (2001-2010), CompanyName (2000-2001).\n",
      "6. No schools or universities mentioned in the resume.\n",
      "7. This candidate has a strong track record of successfully implementing strategic plans, aligning engineering teams to business goals, and improving software development processes. They have experience managing globally distributed teams and have a deep understanding of agile software development methodologies. They are skilled in various technologies and have a proven ability to drive revenue growth and increase profitability.\n",
      "\n",
      "\u001b[1;31;35m⚠️This summary is generated by an AI (Azure Open AI). Examine and use carefully.\n",
      "\n",
      "\u001b[1;31;91m➡️Resume 1: cv/ENGINEERING/10624813.pdf Page: 1 with confidence = 0.8701273\n"
     ]
    },
    {
     "data": {
      "text/html": [
       "<a href='cv/ENGINEERING/10624813.pdf' target='_blank'>cv/ENGINEERING/10624813.pdf</a><br>"
      ],
      "text/plain": [
       "/mnt/batch/tasks/shared/LS_root/mounts/clusters/standardd14sr/code/Users/seretkow/RAG - Resume analysis usecase/cv/ENGINEERING/10624813.pdf"
      ]
     },
     "metadata": {},
     "output_type": "display_data"
    },
    {
     "name": "stdout",
     "output_type": "stream",
     "text": [
      "\n",
      "Profile 2:\n",
      "\n",
      "\u001b[1;31;34m1. Director of Information Technology with experience in C#, Oracle SQL, SharePoint, ASP.NET, PL/SQL, and project management.\n",
      "2. Experienced Director of Information Technology with a strong background in C#, Oracle SQL, SharePoint, and ASP.NET. Skilled in database design and administration, application development, team leadership, and IT strategy. Successfully led projects and provided business analysis to enhance workflows. Proficient in software development methodologies and project management. Previous experience includes roles as a Team Leader and Chief Information Officer, where I provided network and application support for large organizations.\n",
      "3. C#, Oracle SQL, SharePoint, ASP.NET, PL/SQL, SQL Server, SQL*Plus, TFS, SharePoint Designer, IIS, ADO.NET, Microsoft SQL Server, XML, Tableau, DSCI.\n",
      "4. C#, Oracle SQL, SharePoint, ASP.NET, PL/SQL, SQL Server, SQL*Plus, TFS, SharePoint Designer, Database Design, Database Administration, Data Management, Team Leadership, IIS, PL/SQL, ADO.NET, Tactical Planning, Application Development, Web Applications, IT Strategy, Microsoft SQL Server, Software Development, Agile Methodologies, Requirements Analysis, SDLC, XML, Software Project Management, Project Management, Analysis, Business Intelligence, Leadership.\n",
      "5. CompanyName, MSBA, Santander Banking Services, Department of Mental Retardation, Department of Developmental Services, Department of Youth Services.\n",
      "6. No schools or universities mentioned in the resume.\n",
      "7. This profile is valuable due to the extensive experience in information technology, including skills in programming languages, database management, application development, and project management. The profile also demonstrates leadership abilities and a track record of successfully implementing technology solutions to support organizational goals.\n",
      "\n",
      "\u001b[1;31;35m⚠️This summary is generated by an AI (Azure Open AI). Examine and use carefully.\n",
      "\n",
      "\u001b[1;31;91m➡️Resume 2: cv/INFORMATION-TECHNOLOGY/13385306.pdf Page: 1 with confidence = 0.8532575\n"
     ]
    },
    {
     "data": {
      "text/html": [
       "<a href='cv/INFORMATION-TECHNOLOGY/13385306.pdf' target='_blank'>cv/INFORMATION-TECHNOLOGY/13385306.pdf</a><br>"
      ],
      "text/plain": [
       "/mnt/batch/tasks/shared/LS_root/mounts/clusters/standardd14sr/code/Users/seretkow/RAG - Resume analysis usecase/cv/INFORMATION-TECHNOLOGY/13385306.pdf"
      ]
     },
     "metadata": {},
     "output_type": "display_data"
    },
    {
     "name": "stdout",
     "output_type": "stream",
     "text": [
      "\n",
      "Profile 3:\n",
      "\n",
      "\u001b[1;31;34m1. Highly accomplished Director of Information Technology with 20+ years of experience in software development, infrastructure design, and strategic planning.\n",
      "2. Experienced IT executive with a track record of success in managing software development and infrastructure projects, overseeing daily operations, and aligning efforts with clients and corporate needs. Skilled in change management, collaboration, and mentoring. Accomplishments include system conversion, standardization of software and hardware infrastructure, and implementation of ERP and telecom systems.\n",
      "3. Products or technologies mentioned in the resume: Windows 7, Office 2010, IP hybrid telecom system, legacy servers, virtualization.\n",
      "4. Skills mentioned in the resume: Innovative leadership, change management, infrastructure design, strategic planning, technology development, collaboration and liaison, P&L oversight, organizational development, mentoring and coaching.\n",
      "5. Companies or organizations where this profile has worked: CompanyName.\n",
      "6. Schools or universities mentioned in the resume: Not mentioned.\n",
      "7. This profile is valuable due to the extensive experience in IT project management, software development, and infrastructure design. The accomplishments mentioned demonstrate the ability to successfully implement and optimize IT systems to align with business objectives and improve efficiency.\n",
      "\n",
      "\u001b[1;31;35m⚠️This summary is generated by an AI (Azure Open AI). Examine and use carefully.\n",
      "\n",
      "\u001b[1;31;91m➡️Resume 3: cv/INFORMATION-TECHNOLOGY/28672970.pdf Page: 1 with confidence = 0.85186523\n"
     ]
    },
    {
     "data": {
      "text/html": [
       "<a href='cv/INFORMATION-TECHNOLOGY/28672970.pdf' target='_blank'>cv/INFORMATION-TECHNOLOGY/28672970.pdf</a><br>"
      ],
      "text/plain": [
       "/mnt/batch/tasks/shared/LS_root/mounts/clusters/standardd14sr/code/Users/seretkow/RAG - Resume analysis usecase/cv/INFORMATION-TECHNOLOGY/28672970.pdf"
      ]
     },
     "metadata": {},
     "output_type": "display_data"
    },
    {
     "name": "stdout",
     "output_type": "stream",
     "text": [
      "\n"
     ]
    }
   ],
   "source": [
    "query = \"Any director of software development?\"\n",
    "\n",
    "ask_your_own_data(query, vector_store, gptmodel, topn=3)"
   ]
  },
  {
   "cell_type": "code",
   "execution_count": 28,
   "id": "2dec74a6",
   "metadata": {},
   "outputs": [
    {
     "name": "stdout",
     "output_type": "stream",
     "text": [
      "Profile 1:\n",
      "\n",
      "\u001b[1;31;34m1. Highly creative Graphic Designer with over ten years of experience in print packaging design, advertising, marketing, and brand development.\n",
      "2. Experienced Graphic Designer proficient in Adobe Creative Suite, Esko Automation Engine Print Workflow Management System, Microsoft Office Suite, commercial printing processes, digital photography, project tracking and collaboration software, troubleshooting hardware/software issues, and network management. Currently working as a Digital Premedia Specialist, responsible for developing press-ready files in a commercial printing environment, conducting preflight checks on customer files, guiding customer press check tours, collaborating with press room staff to improve deliverables and reduce waste, and maintaining digital asset and artwork database.\n",
      "3. Adobe Creative Suite (Photoshop, Illustrator, InDesign, Dreamweaver, Fireworks & Flash, Acrobat & Distiller), Esko Automation Engine Print Workflow Management System, Microsoft Office Suite, SAP, Lotus Notes, SharePoint.\n",
      "4. Graphic design, print packaging design, advertising, marketing, brand development, pre-press file preparation, digital photography, image manipulation, color correction, project tracking, collaboration, document control, troubleshooting, network management.\n",
      "5. DIGITAL PREMEDIA SPECIALIST Company, TRANSLATION & LOCALIZATION SPECIALIST Company, Solo Cup Company.\n",
      "6. Not mentioned in the resume.\n",
      "7. This profile is valuable due to the extensive experience in graphic design, print packaging design, and brand development. The proficiency in various software and technologies used in the industry, as well as the ability to troubleshoot hardware/software issues and manage networks, make this profile versatile and adaptable. Additionally, the experience in collaborating with press room staff, improving deliverables, and reducing waste demonstrates a commitment to quality and cost-effectiveness.\n",
      "\n",
      "\u001b[1;31;35m⚠️This summary is generated by an AI (Azure Open AI). Examine and use carefully.\n",
      "\n",
      "\u001b[1;31;91m➡️Resume 1: cv/DIGITAL-MEDIA/27921561.pdf Page: 1 with confidence = 0.88799125\n"
     ]
    },
    {
     "data": {
      "text/html": [
       "<a href='cv/DIGITAL-MEDIA/27921561.pdf' target='_blank'>cv/DIGITAL-MEDIA/27921561.pdf</a><br>"
      ],
      "text/plain": [
       "/mnt/batch/tasks/shared/LS_root/mounts/clusters/standardd14sr/code/Users/seretkow/RAG - Resume analysis usecase/cv/DIGITAL-MEDIA/27921561.pdf"
      ]
     },
     "metadata": {},
     "output_type": "display_data"
    },
    {
     "name": "stdout",
     "output_type": "stream",
     "text": [
      "\n",
      "Profile 2:\n",
      "\n",
      "\u001b[1;31;34m1. A hardworking, focused and determined artist with experience in graphic design and multimedia design.\n",
      "2. This candidate has experience as a graphic designer, working on branding, logo design, and promotional materials for various companies. They have also worked as a freelance graphic designer, creating graphics for pamphlets, banners, and web graphics. They have a Bachelor's degree in Digital Art & Design.\n",
      "3. Adobe Photoshop, Adobe After Effects, Adobe Illustrator, Adobe InDesign, Adobe Premiere, Adobe Dreamweaver, Sketchbook Pro, Intermediate Html Coding, Microsoft Word, Windows, Troubleshooting, Calculator, printer, fax machine, Microsoft PowerPoint.\n",
      "4. Graphic design, branding, logo design, poster design, flyer design, digital design.\n",
      "5. CompanyName, City, State (multiple companies).\n",
      "6. Towson University, City, State, United States, Digital Art & Design Community College of Baltimore County, City, State, United States.\n",
      "7. This candidate has won a design competition and has experience working with various clients and companies as a graphic designer. They have a strong technical skill set in Adobe software and have a Bachelor's degree in Digital Art & Design.\n",
      "\n",
      "\u001b[1;31;35m⚠️This summary is generated by an AI (Azure Open AI). Examine and use carefully.\n",
      "\n",
      "\u001b[1;31;91m➡️Resume 2: cv/DESIGNER/29147100.pdf Page: 1 with confidence = 0.8720277\n"
     ]
    },
    {
     "data": {
      "text/html": [
       "<a href='cv/DESIGNER/29147100.pdf' target='_blank'>cv/DESIGNER/29147100.pdf</a><br>"
      ],
      "text/plain": [
       "/mnt/batch/tasks/shared/LS_root/mounts/clusters/standardd14sr/code/Users/seretkow/RAG - Resume analysis usecase/cv/DESIGNER/29147100.pdf"
      ]
     },
     "metadata": {},
     "output_type": "display_data"
    },
    {
     "name": "stdout",
     "output_type": "stream",
     "text": [
      "\n",
      "Profile 3:\n",
      "\n",
      "\u001b[1;31;34m1. Marketing specialist and graphic designer with expertise in graphic design, corporate marketing communications, project and event management, and print production management.\n",
      "2. Accomplished marketing professional with a proven track record in graphic design, corporate marketing communications, and project management. Recognized for multitasking abilities, attention to detail, and high quality standards. Experienced in managing corporate brand strategy, designing marketing communications, and coordinating events. Skilled in Adobe Creative Suites, Microsoft Office programs, and print production management. Seeking a creative position to utilize creative abilities and business acumen.\n",
      "3. Adobe Photoshop, Illustrator, and InDesign, Microsoft Office programs (Powerpoint, Word, Excel)\n",
      "4. Art Direction, Corporate Brand Strategy, Graphic Design, Corporate Marketing Communications, Creative Print and Digital Content Development, Event/Trade Show Management, Print Production Management, Project Management\n",
      "5. CompanyName, WirtgenGroup\n",
      "6. No schools or universities mentioned in the resume\n",
      "7. This profile is valuable due to the extensive experience in marketing and graphic design, as well as the ability to manage multiple tasks and meet client needs efficiently. The candidate has a strong attention to detail, sets high quality standards, and has built and maintained honest and loyal relationships. Additionally, the candidate has experience in managing corporate brand strategy, coordinating events, and implementing online systems for marketing and training.\n",
      "\n",
      "\u001b[1;31;35m⚠️This summary is generated by an AI (Azure Open AI). Examine and use carefully.\n",
      "\n",
      "\u001b[1;31;91m➡️Resume 3: cv/DESIGNER/15425154.pdf Page: 1 with confidence = 0.8695864\n"
     ]
    },
    {
     "data": {
      "text/html": [
       "<a href='cv/DESIGNER/15425154.pdf' target='_blank'>cv/DESIGNER/15425154.pdf</a><br>"
      ],
      "text/plain": [
       "/mnt/batch/tasks/shared/LS_root/mounts/clusters/standardd14sr/code/Users/seretkow/RAG - Resume analysis usecase/cv/DESIGNER/15425154.pdf"
      ]
     },
     "metadata": {},
     "output_type": "display_data"
    },
    {
     "name": "stdout",
     "output_type": "stream",
     "text": [
      "\n"
     ]
    }
   ],
   "source": [
    "query = \"Any specialist in digital media, Adobe Creative?\"\n",
    "\n",
    "ask_your_own_data(query, vector_store, gptmodel, topn=3)"
   ]
  },
  {
   "cell_type": "markdown",
   "id": "809f5d4d",
   "metadata": {},
   "source": [
    "## 4. Gradio webapp"
   ]
  },
  {
   "cell_type": "markdown",
   "id": "f0a4e095",
   "metadata": {},
   "source": [
    "Let's build a quick webapp with gradio to test our RAG application"
   ]
  },
  {
   "cell_type": "code",
   "execution_count": 29,
   "id": "59d27073",
   "metadata": {},
   "outputs": [],
   "source": [
    "def cv_rag_function(query):\n",
    "    \"\"\"\n",
    "    RAG function with Azure Cognitive Search and Azure Open AI\n",
    "    Input: query\n",
    "    Output: result list with the results for a gradio webapp\n",
    "    \"\"\"\n",
    "    # Calling Azure Cognitive Search\n",
    "    results = vector_store.similarity_search_with_relevance_scores(\n",
    "        query=query,\n",
    "        k=5,\n",
    "        score_threshold=0.5,\n",
    "    )\n",
    "\n",
    "    msg = \"\\n\\n[Note] This summary is generated by an AI (Azure Open AI). Examine and use carefully.\"\n",
    "\n",
    "    for idx in range(3):\n",
    "        # Lists declaration\n",
    "        results_list = []\n",
    "        source_list = []\n",
    "        confidence_list = []\n",
    "        \n",
    "        # Output generation\n",
    "        for idx in range(3):\n",
    "            # Get Azure Cognitive Search result\n",
    "            reference = results[idx][0]\n",
    "            ref = reference.__dict__\n",
    "            ref = ref[\"page_content\"]\n",
    "            answer = azure_openai(ref, gptmodel) + msg\n",
    "\n",
    "            # Get source information\n",
    "            source = reference.metadata\n",
    "            doc_source = source[\"source\"]\n",
    "            # Get page\n",
    "            page_source = source[\"page\"] + 1\n",
    "            # Get full source reference\n",
    "            source_ref = f\"Source: {doc_source} Page: {page_source}\"\n",
    "            source_list.append(source_ref)\n",
    "            # Get confidence\n",
    "            confidence = results[idx][1]\n",
    "            confidence_list.append(confidence)\n",
    "\n",
    "            # Adding all the results into a single list\n",
    "            results_list.append(answer)\n",
    "            results_list.append(source_list[idx])\n",
    "            results_list.append(confidence_list[idx])\n",
    "            \n",
    "    return results_list"
   ]
  },
  {
   "cell_type": "markdown",
   "id": "b39148b0",
   "metadata": {},
   "source": [
    "### Webapp function definition"
   ]
  },
  {
   "cell_type": "code",
   "execution_count": 34,
   "id": "92b40a59",
   "metadata": {},
   "outputs": [],
   "source": [
    "image_url = \"https://github.com/retkowsky/images/blob/master/HR.jpg?raw=true\"\n",
    "image = \"<center> <img src= {} width=500px></center>\".format(image_url)\n",
    "header = \"RAG application with Azure Open AI & Azure Cognitive Search (Resume analysis example)\"\n",
    "\n",
    "questions = [\n",
    "    \"Do we have some designer profiles with some great international experiences\",\n",
    "    \"I need some business development profiles with more than 10 years of experience\",\n",
    "    \"Do we have some senior sales profiles?\",\n",
    "    \"Show me some candidates with deep expertise in SQL Server\",\n",
    "    \"Display some candidates with SCRUM skills\",\n",
    "    \"Display some profiles who has experience in PR campaigns\",\n",
    "    \"Any director of software development?\",\n",
    "    \"Any specialist in digital media, Adobe Creative?\",\n",
    "]\n",
    "\n",
    "inputs = gr.Text(type=\"text\", label=\"Question:\", lines=5, max_lines=10)\n",
    "\n",
    "outputs = [\n",
    "    gr.Text(label=\"Candidate 1 - Azure Open AI summary\"),\n",
    "    gr.Text(label=\"Resume source\"),\n",
    "    gr.Text(label=\"Confidence\"),\n",
    "    gr.Text(label=\"Candidate 2 - Azure Open AI summary\"),\n",
    "    gr.Text(label=\"Resume source\"),\n",
    "    gr.Text(label=\"Confidence\"),\n",
    "    gr.Text(label=\"Candidate 3 - Azure Open AI summary\"),\n",
    "    gr.Text(label=\"Resume source\"),\n",
    "    gr.Text(label=\"Confidence\"),\n",
    "]\n",
    "\n",
    "theme = \"freddyaboulton/test-blue\"\n",
    "# https://huggingface.co/spaces/gradio/theme-gallery\n",
    "\n",
    "cv_rag_webapp = gr.Interface(\n",
    "    fn=cv_rag_function,\n",
    "    inputs=inputs,\n",
    "    outputs=outputs,\n",
    "    description=image,\n",
    "    title=header,\n",
    "    examples=questions,\n",
    "    theme=theme,\n",
    ")"
   ]
  },
  {
   "cell_type": "markdown",
   "id": "e07c190c",
   "metadata": {},
   "source": [
    "### Running the webapp"
   ]
  },
  {
   "cell_type": "code",
   "execution_count": 35,
   "id": "18b1cc2b",
   "metadata": {},
   "outputs": [
    {
     "name": "stdout",
     "output_type": "stream",
     "text": [
      "Running on local URL:  http://127.0.0.1:7861\n",
      "Running on public URL: https://88315a9b520b52e239.gradio.live\n",
      "\n",
      "This share link expires in 72 hours. For free permanent hosting and GPU upgrades (NEW!), check out Spaces: https://huggingface.co/spaces\n"
     ]
    },
    {
     "data": {
      "text/html": [
       "<div><iframe src=\"https://88315a9b520b52e239.gradio.live\" width=\"100%\" height=\"500\" allow=\"autoplay; camera; microphone; clipboard-read; clipboard-write;\" frameborder=\"0\" allowfullscreen></iframe></div>"
      ],
      "text/plain": [
       "<IPython.core.display.HTML object>"
      ]
     },
     "metadata": {},
     "output_type": "display_data"
    },
    {
     "data": {
      "text/plain": []
     },
     "execution_count": 35,
     "metadata": {},
     "output_type": "execute_result"
    }
   ],
   "source": [
    "cv_rag_webapp.launch(share=True)"
   ]
  },
  {
   "cell_type": "markdown",
   "id": "c49768d7",
   "metadata": {},
   "source": [
    "## 5. Post Processing"
   ]
  },
  {
   "cell_type": "markdown",
   "id": "e24d0d9e",
   "metadata": {},
   "source": [
    "We can delete our index if needed"
   ]
  },
  {
   "cell_type": "code",
   "execution_count": 32,
   "id": "b0808b60",
   "metadata": {},
   "outputs": [
    {
     "name": "stdout",
     "output_type": "stream",
     "text": [
      "Azure Cognitive Search Index: resume-rag-demo \n",
      "\n",
      "{\n",
      "     \"@odata.context\": \"https://azurecogsearcheastussr.search.windows.net/$metadata#indexes/$entity\",\n",
      "     \"@odata.etag\": \"\\\"0x8DBE6962627FA4D\\\"\",\n",
      "     \"name\": \"resume-rag-demo\",\n",
      "     \"defaultScoringProfile\": null,\n",
      "     \"fields\": [\n",
      "          {\n",
      "               \"name\": \"id\",\n",
      "               \"type\": \"Edm.String\",\n",
      "               \"searchable\": false,\n",
      "               \"filterable\": true,\n",
      "               \"retrievable\": true,\n",
      "               \"sortable\": false,\n",
      "               \"facetable\": false,\n",
      "               \"key\": true,\n",
      "               \"indexAnalyzer\": null,\n",
      "               \"searchAnalyzer\": null,\n",
      "               \"analyzer\": null,\n",
      "               \"normalizer\": null,\n",
      "               \"synonymMaps\": []\n",
      "          },\n",
      "          {\n",
      "               \"name\": \"content\",\n",
      "               \"type\": \"Edm.String\",\n",
      "               \"searchable\": true,\n",
      "               \"filterable\": false,\n",
      "               \"retrievable\": true,\n",
      "               \"sortable\": false,\n",
      "               \"facetable\": false,\n",
      "               \"key\": false,\n",
      "               \"indexAnalyzer\": null,\n",
      "               \"searchAnalyzer\": null,\n",
      "               \"analyzer\": null,\n",
      "               \"normalizer\": null,\n",
      "               \"synonymMaps\": []\n",
      "          },\n",
      "          {\n",
      "               \"name\": \"content_vector\",\n",
      "               \"type\": \"Collection(Edm.Single)\",\n",
      "               \"searchable\": true,\n",
      "               \"filterable\": false,\n",
      "               \"retrievable\": true,\n",
      "               \"sortable\": false,\n",
      "               \"facetable\": false,\n",
      "               \"key\": false,\n",
      "               \"indexAnalyzer\": null,\n",
      "               \"searchAnalyzer\": null,\n",
      "               \"analyzer\": null,\n",
      "               \"normalizer\": null,\n",
      "               \"synonymMaps\": []\n",
      "          },\n",
      "          {\n",
      "               \"name\": \"metadata\",\n",
      "               \"type\": \"Edm.String\",\n",
      "               \"searchable\": true,\n",
      "               \"filterable\": false,\n",
      "               \"retrievable\": true,\n",
      "               \"sortable\": false,\n",
      "               \"facetable\": false,\n",
      "               \"key\": false,\n",
      "               \"indexAnalyzer\": null,\n",
      "               \"searchAnalyzer\": null,\n",
      "               \"analyzer\": null,\n",
      "               \"normalizer\": null,\n",
      "               \"synonymMaps\": []\n",
      "          }\n",
      "     ],\n",
      "     \"scoringProfiles\": [],\n",
      "     \"corsOptions\": null,\n",
      "     \"suggesters\": [],\n",
      "     \"analyzers\": [],\n",
      "     \"normalizers\": [],\n",
      "     \"tokenizers\": [],\n",
      "     \"tokenFilters\": [],\n",
      "     \"charFilters\": [],\n",
      "     \"encryptionKey\": null,\n",
      "     \"similarity\": {\n",
      "          \"@odata.type\": \"#Microsoft.Azure.Search.BM25Similarity\",\n",
      "          \"k1\": null,\n",
      "          \"b\": null\n",
      "     },\n",
      "     \"semantic\": null\n",
      "}\n"
     ]
    }
   ],
   "source": [
    "index_status(index_name, azure_cs_endpoint, azure_cs_key)"
   ]
  },
  {
   "cell_type": "code",
   "execution_count": 33,
   "id": "c5e18788",
   "metadata": {},
   "outputs": [
    {
     "name": "stdout",
     "output_type": "stream",
     "text": [
      "Azure Cognitive Search index status for: resume-rag-demo \n",
      "\n",
      "{\n",
      "  \"@odata.context\": \"https://azurecogsearcheastussr.search.windows.net/$metadata#Microsoft.Azure.Search.V2021_04_30_Preview.IndexStatistics\",\n",
      "  \"documentCount\": 1509,\n",
      "  \"storageSize\": 46394403\n",
      "}\n"
     ]
    }
   ],
   "source": [
    "document_count, storage_size = index_stats(index_name, azure_cs_endpoint, azure_cs_key)"
   ]
  },
  {
   "cell_type": "code",
   "execution_count": null,
   "id": "f7228650",
   "metadata": {},
   "outputs": [],
   "source": [
    "#delete_index(index_name, azure_cs_endpoint, azure_cs_key)"
   ]
  },
  {
   "cell_type": "markdown",
   "id": "695e1ccb",
   "metadata": {},
   "source": [
    "> End"
   ]
  },
  {
   "cell_type": "code",
   "execution_count": null,
   "id": "a8d642b6",
   "metadata": {},
   "outputs": [],
   "source": []
  }
 ],
 "metadata": {
  "kernelspec": {
   "display_name": "Python 3.10 - SDK v2",
   "language": "python",
   "name": "python310-sdkv2"
  },
  "language_info": {
   "codemirror_mode": {
    "name": "ipython",
    "version": 3
   },
   "file_extension": ".py",
   "mimetype": "text/x-python",
   "name": "python",
   "nbconvert_exporter": "python",
   "pygments_lexer": "ipython3",
   "version": "3.10.10"
  }
 },
 "nbformat": 4,
 "nbformat_minor": 5
}
