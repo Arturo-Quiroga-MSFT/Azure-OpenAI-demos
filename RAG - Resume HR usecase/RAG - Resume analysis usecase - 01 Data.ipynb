{
 "cells": [
  {
   "cell_type": "markdown",
   "id": "a9df8927",
   "metadata": {},
   "source": [
    "# RAG application with Azure Open AI & Azure Cognitive Search\n",
    "## Resume analysis usecase - 01 Data\n",
    "\n",
    "### Objective\n",
    "Let's build an application that will analyse **resume PDF documents using a RAG application.**\n",
    "\n",
    "<img src=\"https://github.com/retkowsky/images/blob/master/HR.jpg?raw=true\">\n",
    "\n",
    "**Retrieval-Augmented Generation (RAG)** can exhibit variability in its implementation, but at a fundamental level, employing RAG within an AI-driven application involves the following sequential steps:\n",
    "\n",
    "- The user submits a query or question.\n",
    "- The system initiates a search for pertinent documents that hold the potential to address the user's query. These documents are often comprised of proprietary data and are maintained within a document index.\n",
    "- The system formulates an instruction set for the Language Model (LLM) that encompasses the user's input, the identified relevant documents, and directives on how to utilize these documents to respond to the user's query effectively.\n",
    "- The system transmits this comprehensive prompt to the Language Model.\n",
    "- The Language Model processes the prompt and generates a response to the user's question, drawing upon the context provided. This response constitutes the output of our system.\n",
    "\n",
    "### Steps\n",
    "- Uploading PDF documents into an Azure Cognitive Search Index\n",
    "- Use of some Azure Cognitive Search queries to get some answers\n",
    "- Use a GPT model to analyse the answer (summmary, keywords generation)\n",
    "- Get the text from the document and the reference to validate the proposed answer\n",
    "- Chatbot experience using Azure Open AI to ask questions and get results provided by AI with references\n",
    "\n",
    "### Process\n",
    "<img src=\"https://github.com/retkowsky/images/blob/master/rag.png?raw=true\" width=800>"
   ]
  },
  {
   "cell_type": "code",
   "execution_count": 1,
   "id": "e474cea0",
   "metadata": {},
   "outputs": [],
   "source": [
    "import os"
   ]
  },
  {
   "cell_type": "markdown",
   "id": "0a1a372e",
   "metadata": {},
   "source": [
    "## Zip file"
   ]
  },
  {
   "cell_type": "code",
   "execution_count": 2,
   "id": "f325fb78",
   "metadata": {},
   "outputs": [
    {
     "name": "stdout",
     "output_type": "stream",
     "text": [
      "-rwxrwxrwx 1 root root 18M Nov 13 15:58 data/cv.zip\r\n"
     ]
    }
   ],
   "source": [
    "data_dir = \"data\"\n",
    "\n",
    "!ls $data_dir/cv.zip -lh"
   ]
  },
  {
   "cell_type": "markdown",
   "id": "1135d674",
   "metadata": {},
   "source": [
    "## Unzipping the zip file"
   ]
  },
  {
   "cell_type": "code",
   "execution_count": 3,
   "id": "4a7bf45e",
   "metadata": {},
   "outputs": [],
   "source": [
    "!unzip -q $data_dir/cv.zip"
   ]
  },
  {
   "cell_type": "markdown",
   "id": "7a8222b6",
   "metadata": {},
   "source": [
    "## CVs"
   ]
  },
  {
   "cell_type": "code",
   "execution_count": 5,
   "id": "f26213bc",
   "metadata": {},
   "outputs": [],
   "source": [
    "cv_dir = \"cv\""
   ]
  },
  {
   "cell_type": "code",
   "execution_count": 22,
   "id": "d01e6da7",
   "metadata": {},
   "outputs": [],
   "source": [
    "def count_pdf_files_per_dir(top_directory):\n",
    "    \"\"\"\n",
    "    Count PDF files from a dir including sub directories\n",
    "    \"\"\"\n",
    "    pdf_results = {}\n",
    "    total_pdf = 0\n",
    "\n",
    "    for root, dirs, files in os.walk(top_directory):\n",
    "        if \".ipynb_checkpoints\" in dirs:\n",
    "            dirs.remove(\".ipynb_checkpoints\")\n",
    "        pdf_count = sum(1 for file in files if file.lower().endswith(\".pdf\"))\n",
    "        pdf_results[root] = pdf_count\n",
    "        total_pdf += pdf_count\n",
    "\n",
    "    return pdf_results, total_pdf"
   ]
  },
  {
   "cell_type": "code",
   "execution_count": 29,
   "id": "6b9bbd32",
   "metadata": {},
   "outputs": [
    {
     "name": "stdout",
     "output_type": "stream",
     "text": [
      "Dir: cv | Total number of PDF files = 0\n",
      "Dir: cv/BUSINESS-DEVELOPMENT | Total number of PDF files = 113\n",
      "Dir: cv/CONSULTANT | Total number of PDF files = 115\n",
      "Dir: cv/DESIGNER | Total number of PDF files = 107\n",
      "Dir: cv/DIGITAL-MEDIA | Total number of PDF files = 96\n",
      "Dir: cv/ENGINEERING | Total number of PDF files = 118\n",
      "Dir: cv/INFORMATION-TECHNOLOGY | Total number of PDF files = 120\n",
      "Dir: cv/SALES | Total number of PDF files = 116\n",
      "\n",
      "Total of PDF files = 785\n"
     ]
    }
   ],
   "source": [
    "pdf_results, total_pdf = count_pdf_files_per_dir(cv_dir)\n",
    "\n",
    "for directory, pdf_count in pdf_results.items():\n",
    "    print(f\"Dir: {directory} | Total number of PDF files = {pdf_count}\")\n",
    "\n",
    "print(f\"\\nTotal of PDF files = {total_pdf}\")"
   ]
  },
  {
   "cell_type": "markdown",
   "id": "9000e6ae",
   "metadata": {},
   "source": [
    "> Go to the next notebook"
   ]
  },
  {
   "cell_type": "code",
   "execution_count": null,
   "id": "d6f7dc1c",
   "metadata": {},
   "outputs": [],
   "source": []
  }
 ],
 "metadata": {
  "kernelspec": {
   "display_name": "Python 3.10 - SDK v2",
   "language": "python",
   "name": "python310-sdkv2"
  },
  "language_info": {
   "codemirror_mode": {
    "name": "ipython",
    "version": 3
   },
   "file_extension": ".py",
   "mimetype": "text/x-python",
   "name": "python",
   "nbconvert_exporter": "python",
   "pygments_lexer": "ipython3",
   "version": "3.10.10"
  }
 },
 "nbformat": 4,
 "nbformat_minor": 5
}
