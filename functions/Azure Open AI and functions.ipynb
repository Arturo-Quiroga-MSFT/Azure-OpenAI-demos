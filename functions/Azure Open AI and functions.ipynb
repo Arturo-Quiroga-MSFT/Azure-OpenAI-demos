{
 "cells": [
  {
   "cell_type": "markdown",
   "id": "63f155aa",
   "metadata": {},
   "source": [
    "# Azure Open AI and functions"
   ]
  },
  {
   "cell_type": "code",
   "execution_count": 1,
   "id": "c4dab7a5",
   "metadata": {},
   "outputs": [],
   "source": [
    "# %pip install --upgrade openai"
   ]
  },
  {
   "cell_type": "code",
   "execution_count": 2,
   "id": "16b543c4",
   "metadata": {},
   "outputs": [],
   "source": [
    "import openai\n",
    "import json\n",
    "import os\n",
    "import pytz\n",
    "import inspect\n",
    "\n",
    "from datetime import datetime\n",
    "from dotenv import load_dotenv\n",
    "from pprint import pprint"
   ]
  },
  {
   "cell_type": "code",
   "execution_count": 3,
   "id": "3b454c07",
   "metadata": {},
   "outputs": [],
   "source": [
    "load_dotenv(\"azure.env\")\n",
    "\n",
    "openai.api_key = os.getenv(\"OPENAI_API_KEY\")\n",
    "openai.api_base = os.getenv(\"OPENAI_API_BASE\")"
   ]
  },
  {
   "cell_type": "code",
   "execution_count": 4,
   "id": "0fece3aa",
   "metadata": {},
   "outputs": [],
   "source": [
    "openai.api_version = \"2023-07-01-preview\"\n",
    "openai.api_type = \"azure\"\n",
    "deployment_name = \"gpt-35-turbo-0613\"  # Should be the 613"
   ]
  },
  {
   "cell_type": "code",
   "execution_count": 5,
   "id": "dd770796",
   "metadata": {},
   "outputs": [],
   "source": [
    "def get_today(location):\n",
    "    \"\"\"\n",
    "    Get current datetime from a location\n",
    "    \"\"\"\n",
    "    try:\n",
    "        now = datetime.now(pytz.timezone(location))\n",
    "        today = now.strftime(\"%d-%b-%Y %H:%M:%S\")\n",
    "\n",
    "        return today\n",
    "    except:\n",
    "        return \"Error\""
   ]
  },
  {
   "cell_type": "code",
   "execution_count": 6,
   "id": "b1deb987",
   "metadata": {},
   "outputs": [
    {
     "data": {
      "text/plain": [
       "'06-Sep-2023 04:39:45'"
      ]
     },
     "execution_count": 6,
     "metadata": {},
     "output_type": "execute_result"
    }
   ],
   "source": [
    "get_today(\"America/New_York\")"
   ]
  },
  {
   "cell_type": "code",
   "execution_count": 7,
   "id": "6b5a7ae4",
   "metadata": {},
   "outputs": [
    {
     "data": {
      "text/plain": [
       "'06-Sep-2023 10:39:45'"
      ]
     },
     "execution_count": 7,
     "metadata": {},
     "output_type": "execute_result"
    }
   ],
   "source": [
    "get_today(\"Europe/Paris\")"
   ]
  },
  {
   "cell_type": "code",
   "execution_count": 8,
   "id": "434779ce",
   "metadata": {},
   "outputs": [
    {
     "data": {
      "text/plain": [
       "'06-Sep-2023 09:39:46'"
      ]
     },
     "execution_count": 8,
     "metadata": {},
     "output_type": "execute_result"
    }
   ],
   "source": [
    "get_today(\"Europe/London\")"
   ]
  },
  {
   "cell_type": "code",
   "execution_count": 9,
   "id": "e6243496",
   "metadata": {},
   "outputs": [
    {
     "data": {
      "text/plain": [
       "'06-Sep-2023 17:39:46'"
      ]
     },
     "execution_count": 9,
     "metadata": {},
     "output_type": "execute_result"
    }
   ],
   "source": [
    "get_today(\"Asia/Tokyo\")"
   ]
  },
  {
   "cell_type": "code",
   "execution_count": 10,
   "id": "c85ba22e",
   "metadata": {},
   "outputs": [],
   "source": [
    "functions = [\n",
    "    {\n",
    "        \"name\": \"get_today\",\n",
    "        \"description\": \"Get the current date time in a given location\",\n",
    "        \"parameters\": {\n",
    "            \"type\": \"object\",\n",
    "            \"properties\": {\n",
    "                \"location\": {\n",
    "                    \"type\": \"string\",\n",
    "                    \"description\": \"The location name. The pytz is used to get the timezone for that location. Location names should be in a format like America/New_York, Asia/Bangkok, Europe/London\",\n",
    "                }\n",
    "            },\n",
    "            \"required\": [\"location\"],\n",
    "        },\n",
    "    },\n",
    "]\n",
    "\n",
    "available_functions = {\n",
    "    \"get_today\": get_today,\n",
    "}"
   ]
  },
  {
   "cell_type": "code",
   "execution_count": 11,
   "id": "af26abce",
   "metadata": {},
   "outputs": [
    {
     "name": "stdout",
     "output_type": "stream",
     "text": [
      "[{'description': 'Get the current date time in a given location',\n",
      "  'name': 'get_today',\n",
      "  'parameters': {'properties': {'location': {'description': 'The location '\n",
      "                                                            'name. The pytz is '\n",
      "                                                            'used to get the '\n",
      "                                                            'timezone for that '\n",
      "                                                            'location. '\n",
      "                                                            'Location names '\n",
      "                                                            'should be in a '\n",
      "                                                            'format like '\n",
      "                                                            'America/New_York, '\n",
      "                                                            'Asia/Bangkok, '\n",
      "                                                            'Europe/London',\n",
      "                                             'type': 'string'}},\n",
      "                 'required': ['location'],\n",
      "                 'type': 'object'}}]\n"
     ]
    }
   ],
   "source": [
    "pprint(functions)"
   ]
  },
  {
   "cell_type": "code",
   "execution_count": 12,
   "id": "f10dc5a7",
   "metadata": {},
   "outputs": [],
   "source": [
    "# helper method used to check if the correct arguments are provided to a function\n",
    "def check_args(function, args):\n",
    "    sig = inspect.signature(function)\n",
    "    params = sig.parameters\n",
    "\n",
    "    # Check if there are extra arguments\n",
    "    for name in args:\n",
    "        if name not in params:\n",
    "            return False\n",
    "    # Check if the required arguments are provided\n",
    "    for name, param in params.items():\n",
    "        if param.default is param.empty and name not in args:\n",
    "            return False\n",
    "\n",
    "    return True"
   ]
  },
  {
   "cell_type": "code",
   "execution_count": 13,
   "id": "f9f11106",
   "metadata": {},
   "outputs": [],
   "source": [
    "def run_conversation(messages, functions, available_functions, deployment_id):\n",
    "    # Step 1: send the conversation and available functions to GPT\n",
    "\n",
    "    response = openai.ChatCompletion.create(\n",
    "        deployment_id=deployment_id,\n",
    "        messages=messages,\n",
    "        functions=functions,\n",
    "        function_call=\"auto\",\n",
    "    )\n",
    "    response_message = response[\"choices\"][0][\"message\"]\n",
    "\n",
    "    # Step 2: check if GPT wanted to call a function\n",
    "    if response_message.get(\"function_call\"):\n",
    "        print(\"Recommended Function call:\")\n",
    "        print(response_message.get(\"function_call\"))\n",
    "        print()\n",
    "\n",
    "        # Step 3: call the function\n",
    "        # Note: the JSON response may not always be valid; be sure to handle errors\n",
    "\n",
    "        function_name = response_message[\"function_call\"][\"name\"]\n",
    "\n",
    "        # verify function exists\n",
    "        if function_name not in available_functions:\n",
    "            return \"Function \" + function_name + \" does not exist\"\n",
    "        function_to_call = available_functions[function_name]\n",
    "\n",
    "        # verify function has correct number of arguments\n",
    "        function_args = json.loads(response_message[\"function_call\"][\"arguments\"])\n",
    "        if check_args(function_to_call, function_args) is False:\n",
    "            return \"Invalid number of arguments for function: \" + function_name\n",
    "        function_response = function_to_call(**function_args)\n",
    "\n",
    "        print(\"Output of function call:\")\n",
    "        print(function_response)\n",
    "        print()\n",
    "\n",
    "        # Step 4: send the info on the function call and function response to GPT\n",
    "\n",
    "        # adding assistant response to messages\n",
    "        messages.append(\n",
    "            {\n",
    "                \"role\": response_message[\"role\"],\n",
    "                \"function_call\": {\n",
    "                    \"name\": response_message[\"function_call\"][\"name\"],\n",
    "                    \"arguments\": response_message[\"function_call\"][\"arguments\"],\n",
    "                },\n",
    "                \"content\": None,\n",
    "            }\n",
    "        )\n",
    "\n",
    "        # adding function response to messages\n",
    "        messages.append(\n",
    "            {\n",
    "                \"role\": \"function\",\n",
    "                \"name\": function_name,\n",
    "                \"content\": function_response,\n",
    "            }\n",
    "        )  # extend conversation with function response\n",
    "\n",
    "        print(\"Messages in second request:\")\n",
    "        for message in messages:\n",
    "            print(message)\n",
    "        print()\n",
    "\n",
    "        second_response = openai.ChatCompletion.create(\n",
    "            messages=messages, deployment_id=deployment_id\n",
    "        )  # get a new response from GPT where it can see the function response\n",
    "\n",
    "        return second_response"
   ]
  },
  {
   "cell_type": "markdown",
   "id": "6d464426",
   "metadata": {},
   "source": [
    "## Testing"
   ]
  },
  {
   "cell_type": "code",
   "execution_count": 14,
   "id": "f7740651",
   "metadata": {},
   "outputs": [
    {
     "name": "stdout",
     "output_type": "stream",
     "text": [
      "Recommended Function call:\n",
      "{\n",
      "  \"name\": \"get_today\",\n",
      "  \"arguments\": \"{\\n  \\\"location\\\": \\\"America/New_York\\\"\\n}\"\n",
      "}\n",
      "\n",
      "Output of function call:\n",
      "06-Sep-2023 04:40:02\n",
      "\n",
      "Messages in second request:\n",
      "{'role': 'user', 'content': 'What time is it in New York?'}\n",
      "{'role': 'assistant', 'function_call': {'name': 'get_today', 'arguments': '{\\n  \"location\": \"America/New_York\"\\n}'}, 'content': None}\n",
      "{'role': 'function', 'name': 'get_today', 'content': '06-Sep-2023 04:40:02'}\n",
      "\n",
      "{\n",
      "  \"role\": \"assistant\",\n",
      "  \"content\": \"It is currently 4:40 AM in New York. Please note that the time provided is based on the current moment and may slightly differ by the time you read this message.\"\n",
      "}\n"
     ]
    }
   ],
   "source": [
    "messages = [{\"role\": \"user\", \"content\": \"What time is it in New York?\"}]\n",
    "\n",
    "assistant_response = run_conversation(\n",
    "    messages, functions, available_functions, deployment_name\n",
    ")\n",
    "print(assistant_response[\"choices\"][0][\"message\"])"
   ]
  },
  {
   "cell_type": "code",
   "execution_count": 15,
   "id": "9488934e",
   "metadata": {},
   "outputs": [
    {
     "name": "stdout",
     "output_type": "stream",
     "text": [
      "It is currently 4:40 AM in New York. Please note that the time provided is based on the current moment and may slightly differ by the time you read this message.\n"
     ]
    }
   ],
   "source": [
    "print(assistant_response[\"choices\"][0][\"message\"][\"content\"])"
   ]
  },
  {
   "cell_type": "code",
   "execution_count": 16,
   "id": "3c948e36",
   "metadata": {},
   "outputs": [
    {
     "name": "stdout",
     "output_type": "stream",
     "text": [
      "Recommended Function call:\n",
      "{\n",
      "  \"name\": \"get_today\",\n",
      "  \"arguments\": \"{\\n  \\\"location\\\": \\\"Europe/Paris\\\"\\n}\"\n",
      "}\n",
      "\n",
      "Output of function call:\n",
      "06-Sep-2023 10:40:09\n",
      "\n",
      "Messages in second request:\n",
      "{'role': 'user', 'content': 'What the current day in Paris?'}\n",
      "{'role': 'assistant', 'function_call': {'name': 'get_today', 'arguments': '{\\n  \"location\": \"Europe/Paris\"\\n}'}, 'content': None}\n",
      "{'role': 'function', 'name': 'get_today', 'content': '06-Sep-2023 10:40:09'}\n",
      "\n",
      "{\n",
      "  \"role\": \"assistant\",\n",
      "  \"content\": \"The current day in Paris is September 6, 2023.\"\n",
      "}\n"
     ]
    }
   ],
   "source": [
    "messages = [{\"role\": \"user\", \"content\": \"What the current day in Paris?\"}]\n",
    "\n",
    "assistant_response = run_conversation(\n",
    "    messages, functions, available_functions, deployment_name\n",
    ")\n",
    "print(assistant_response[\"choices\"][0][\"message\"])"
   ]
  },
  {
   "cell_type": "code",
   "execution_count": 17,
   "id": "cbdfe082",
   "metadata": {},
   "outputs": [
    {
     "name": "stdout",
     "output_type": "stream",
     "text": [
      "The current day in Paris is September 6, 2023.\n"
     ]
    }
   ],
   "source": [
    "print(assistant_response[\"choices\"][0][\"message\"][\"content\"])"
   ]
  },
  {
   "cell_type": "code",
   "execution_count": 18,
   "id": "1fa7a553",
   "metadata": {},
   "outputs": [
    {
     "name": "stdout",
     "output_type": "stream",
     "text": [
      "Recommended Function call:\n",
      "{\n",
      "  \"name\": \"get_today\",\n",
      "  \"arguments\": \"{\\n\\\"location\\\": \\\"Europe/Paris\\\"\\n}\"\n",
      "}\n",
      "\n",
      "Output of function call:\n",
      "06-Sep-2023 10:40:11\n",
      "\n",
      "Messages in second request:\n",
      "{'role': 'user', 'content': 'What the current date and time in Paris?'}\n",
      "{'role': 'assistant', 'function_call': {'name': 'get_today', 'arguments': '{\\n\"location\": \"Europe/Paris\"\\n}'}, 'content': None}\n",
      "{'role': 'function', 'name': 'get_today', 'content': '06-Sep-2023 10:40:11'}\n",
      "\n",
      "{\n",
      "  \"role\": \"assistant\",\n",
      "  \"content\": \"The current date and time in Paris, France is September 6, 2023, 10:40 AM.\"\n",
      "}\n"
     ]
    }
   ],
   "source": [
    "messages = [{\"role\": \"user\", \"content\": \"What the current date and time in Paris?\"}]\n",
    "\n",
    "assistant_response = run_conversation(\n",
    "    messages, functions, available_functions, deployment_name\n",
    ")\n",
    "print(assistant_response[\"choices\"][0][\"message\"])"
   ]
  },
  {
   "cell_type": "code",
   "execution_count": 19,
   "id": "aae79706",
   "metadata": {},
   "outputs": [
    {
     "name": "stdout",
     "output_type": "stream",
     "text": [
      "The current date and time in Paris, France is September 6, 2023, 10:40 AM.\n"
     ]
    }
   ],
   "source": [
    "print(assistant_response[\"choices\"][0][\"message\"][\"content\"])"
   ]
  },
  {
   "cell_type": "code",
   "execution_count": 20,
   "id": "8dd8109a",
   "metadata": {},
   "outputs": [
    {
     "name": "stdout",
     "output_type": "stream",
     "text": [
      "Recommended Function call:\n",
      "{\n",
      "  \"name\": \"get_today\",\n",
      "  \"arguments\": \"{\\n  \\\"location\\\": \\\"America/New_York\\\"\\n}\"\n",
      "}\n",
      "\n",
      "Output of function call:\n",
      "06-Sep-2023 04:40:15\n",
      "\n",
      "Messages in second request:\n",
      "{'role': 'user', 'content': 'What the current date and time in NYC? Format the time with seconds'}\n",
      "{'role': 'assistant', 'function_call': {'name': 'get_today', 'arguments': '{\\n  \"location\": \"America/New_York\"\\n}'}, 'content': None}\n",
      "{'role': 'function', 'name': 'get_today', 'content': '06-Sep-2023 04:40:15'}\n",
      "\n",
      "{\n",
      "  \"role\": \"assistant\",\n",
      "  \"content\": \"The current date and time in NYC is September 6, 2023, 04:40:15 (HH:MM:SS).\"\n",
      "}\n"
     ]
    }
   ],
   "source": [
    "messages = [\n",
    "    {\n",
    "        \"role\": \"user\",\n",
    "        \"content\": \"What the current date and time in NYC? Format the time with seconds\",\n",
    "    }\n",
    "]\n",
    "\n",
    "assistant_response = run_conversation(\n",
    "    messages, functions, available_functions, deployment_name\n",
    ")\n",
    "print(assistant_response[\"choices\"][0][\"message\"])"
   ]
  },
  {
   "cell_type": "code",
   "execution_count": 21,
   "id": "3f3ee0af",
   "metadata": {},
   "outputs": [
    {
     "name": "stdout",
     "output_type": "stream",
     "text": [
      "The current date and time in NYC is September 6, 2023, 04:40:15 (HH:MM:SS).\n"
     ]
    }
   ],
   "source": [
    "print(assistant_response[\"choices\"][0][\"message\"][\"content\"])"
   ]
  },
  {
   "cell_type": "code",
   "execution_count": 24,
   "id": "36546ddb",
   "metadata": {},
   "outputs": [
    {
     "name": "stdout",
     "output_type": "stream",
     "text": [
      "Recommended Function call:\n",
      "{\n",
      "  \"name\": \"get_today\",\n",
      "  \"arguments\": \"{\\n  \\\"location\\\": \\\"Europe/Paris\\\"\\n}\"\n",
      "}\n",
      "\n",
      "Output of function call:\n",
      "06-Sep-2023 10:40:45\n",
      "\n",
      "Messages in second request:\n",
      "{'role': 'user', 'content': 'I am in Paris. I will drive for 3 hours. What is my arrival time?'}\n",
      "{'role': 'assistant', 'function_call': {'name': 'get_today', 'arguments': '{\\n  \"location\": \"Europe/Paris\"\\n}'}, 'content': None}\n",
      "{'role': 'function', 'name': 'get_today', 'content': '06-Sep-2023 10:40:45'}\n",
      "\n",
      "{\n",
      "  \"role\": \"assistant\",\n",
      "  \"content\": \"If you are in Paris and you drive for 3 hours, your arrival time would be 3 hours from now. \\n\\nConsidering the current time is 10:40 AM, your estimated arrival time would be around 1:40 PM.\"\n",
      "}\n"
     ]
    }
   ],
   "source": [
    "messages = [\n",
    "    {\n",
    "        \"role\": \"user\",\n",
    "        \"content\": \"I am in Paris. I will drive for 3 hours. What is my arrival time?\",\n",
    "    }\n",
    "]\n",
    "\n",
    "assistant_response = run_conversation(\n",
    "    messages, functions, available_functions, deployment_name\n",
    ")\n",
    "print(assistant_response[\"choices\"][0][\"message\"])"
   ]
  },
  {
   "cell_type": "code",
   "execution_count": 25,
   "id": "d2a1c9d6",
   "metadata": {},
   "outputs": [
    {
     "name": "stdout",
     "output_type": "stream",
     "text": [
      "If you are in Paris and you drive for 3 hours, your arrival time would be 3 hours from now. \n",
      "\n",
      "Considering the current time is 10:40 AM, your estimated arrival time would be around 1:40 PM.\n"
     ]
    }
   ],
   "source": [
    "print(assistant_response[\"choices\"][0][\"message\"][\"content\"])"
   ]
  },
  {
   "cell_type": "code",
   "execution_count": 26,
   "id": "eff04b5a",
   "metadata": {},
   "outputs": [
    {
     "name": "stdout",
     "output_type": "stream",
     "text": [
      "Recommended Function call:\n",
      "{\n",
      "  \"name\": \"get_today\",\n",
      "  \"arguments\": \"{\\n\\\"location\\\": \\\"Europe/Paris\\\"\\n}\"\n",
      "}\n",
      "\n",
      "Output of function call:\n",
      "06-Sep-2023 10:41:05\n",
      "\n",
      "Messages in second request:\n",
      "{'role': 'user', 'content': 'I am in Paris. What was the yesterday date?'}\n",
      "{'role': 'assistant', 'function_call': {'name': 'get_today', 'arguments': '{\\n\"location\": \"Europe/Paris\"\\n}'}, 'content': None}\n",
      "{'role': 'function', 'name': 'get_today', 'content': '06-Sep-2023 10:41:05'}\n",
      "\n",
      "{\n",
      "  \"role\": \"assistant\",\n",
      "  \"content\": \"Yesterday's date in Paris would have been September 5, 2023.\"\n",
      "}\n"
     ]
    }
   ],
   "source": [
    "messages = [{\"role\": \"user\", \"content\": \"I am in Paris. What was the yesterday date?\"}]\n",
    "\n",
    "assistant_response = run_conversation(\n",
    "    messages, functions, available_functions, deployment_name\n",
    ")\n",
    "print(assistant_response[\"choices\"][0][\"message\"])"
   ]
  },
  {
   "cell_type": "code",
   "execution_count": 27,
   "id": "c3bb69d3",
   "metadata": {},
   "outputs": [
    {
     "name": "stdout",
     "output_type": "stream",
     "text": [
      "Yesterday's date in Paris would have been September 5, 2023.\n"
     ]
    }
   ],
   "source": [
    "print(assistant_response[\"choices\"][0][\"message\"][\"content\"])"
   ]
  },
  {
   "cell_type": "code",
   "execution_count": 28,
   "id": "bec7699f",
   "metadata": {},
   "outputs": [
    {
     "name": "stdout",
     "output_type": "stream",
     "text": [
      "Recommended Function call:\n",
      "{\n",
      "  \"name\": \"get_today\",\n",
      "  \"arguments\": \"{\\n  \\\"location\\\": \\\"Europe/Paris\\\"\\n}\"\n",
      "}\n",
      "\n",
      "Output of function call:\n",
      "06-Sep-2023 10:41:47\n",
      "\n",
      "Messages in second request:\n",
      "{'role': 'user', 'content': 'I am in Paris. What is the number of days starting from the 1st of January 2023'}\n",
      "{'role': 'assistant', 'function_call': {'name': 'get_today', 'arguments': '{\\n  \"location\": \"Europe/Paris\"\\n}'}, 'content': None}\n",
      "{'role': 'function', 'name': 'get_today', 'content': '06-Sep-2023 10:41:47'}\n",
      "\n",
      "{\n",
      "  \"role\": \"assistant\",\n",
      "  \"content\": \"As of today, which is September 6, 2023, the number of days starting from January 1, 2023, would be 249 days.\"\n",
      "}\n"
     ]
    }
   ],
   "source": [
    "messages = [{\"role\": \"user\", \"content\": \"I am in Paris. What is the number of days starting from the 1st of January 2023\"}]\n",
    "\n",
    "assistant_response = run_conversation(\n",
    "    messages, functions, available_functions, deployment_name\n",
    ")\n",
    "print(assistant_response[\"choices\"][0][\"message\"])"
   ]
  },
  {
   "cell_type": "code",
   "execution_count": 29,
   "id": "aa094f78",
   "metadata": {},
   "outputs": [
    {
     "name": "stdout",
     "output_type": "stream",
     "text": [
      "As of today, which is September 6, 2023, the number of days starting from January 1, 2023, would be 249 days.\n"
     ]
    }
   ],
   "source": [
    "print(assistant_response[\"choices\"][0][\"message\"][\"content\"])"
   ]
  },
  {
   "cell_type": "code",
   "execution_count": null,
   "id": "750a0dd2",
   "metadata": {},
   "outputs": [],
   "source": []
  }
 ],
 "metadata": {
  "kernelspec": {
   "display_name": "Python 3.10 - SDK v2",
   "language": "python",
   "name": "python310-sdkv2"
  },
  "language_info": {
   "codemirror_mode": {
    "name": "ipython",
    "version": 3
   },
   "file_extension": ".py",
   "mimetype": "text/x-python",
   "name": "python",
   "nbconvert_exporter": "python",
   "pygments_lexer": "ipython3",
   "version": "3.10.10"
  }
 },
 "nbformat": 4,
 "nbformat_minor": 5
}
