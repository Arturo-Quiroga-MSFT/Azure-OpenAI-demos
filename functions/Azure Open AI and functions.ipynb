{
 "cells": [
  {
   "cell_type": "markdown",
   "id": "63f155aa",
   "metadata": {},
   "source": [
    "# Azure Open AI and functions"
   ]
  },
  {
   "cell_type": "code",
   "execution_count": 1,
   "id": "c4dab7a5",
   "metadata": {},
   "outputs": [],
   "source": [
    "# %pip install --upgrade openai"
   ]
  },
  {
   "cell_type": "code",
   "execution_count": 2,
   "id": "16b543c4",
   "metadata": {},
   "outputs": [],
   "source": [
    "import openai\n",
    "import json\n",
    "import os\n",
    "import pytz\n",
    "import inspect\n",
    "import requests\n",
    "import folium\n",
    "\n",
    "from datetime import datetime\n",
    "from dotenv import load_dotenv\n",
    "from pprint import pprint"
   ]
  },
  {
   "cell_type": "code",
   "execution_count": 3,
   "id": "3b454c07",
   "metadata": {},
   "outputs": [],
   "source": [
    "load_dotenv(\"azure.env\")\n",
    "\n",
    "openai.api_key = os.getenv(\"OPENAI_API_KEY\")\n",
    "openai.api_base = os.getenv(\"OPENAI_API_BASE\")"
   ]
  },
  {
   "cell_type": "code",
   "execution_count": 4,
   "id": "0fece3aa",
   "metadata": {},
   "outputs": [],
   "source": [
    "openai.api_version = \"2023-07-01-preview\"\n",
    "openai.api_type = \"azure\"\n",
    "deployment_name = \"gpt-35-turbo-0613\"  # Should be the 613"
   ]
  },
  {
   "cell_type": "code",
   "execution_count": 5,
   "id": "dd770796",
   "metadata": {},
   "outputs": [],
   "source": [
    "def get_today(location):\n",
    "    \"\"\"\n",
    "    Get current datetime from a location\n",
    "    \"\"\"\n",
    "    try:\n",
    "        now = datetime.now(pytz.timezone(location))\n",
    "        today = now.strftime(\"%d-%b-%Y %H:%M:%S\")\n",
    "\n",
    "        return today\n",
    "    except:\n",
    "        return \"Error\""
   ]
  },
  {
   "cell_type": "code",
   "execution_count": 6,
   "id": "b1deb987",
   "metadata": {},
   "outputs": [
    {
     "data": {
      "text/plain": [
       "'06-Sep-2023 05:49:34'"
      ]
     },
     "execution_count": 6,
     "metadata": {},
     "output_type": "execute_result"
    }
   ],
   "source": [
    "get_today(\"America/New_York\")"
   ]
  },
  {
   "cell_type": "code",
   "execution_count": 7,
   "id": "6b5a7ae4",
   "metadata": {},
   "outputs": [
    {
     "data": {
      "text/plain": [
       "'06-Sep-2023 11:49:34'"
      ]
     },
     "execution_count": 7,
     "metadata": {},
     "output_type": "execute_result"
    }
   ],
   "source": [
    "get_today(\"Europe/Paris\")"
   ]
  },
  {
   "cell_type": "code",
   "execution_count": 8,
   "id": "434779ce",
   "metadata": {},
   "outputs": [
    {
     "data": {
      "text/plain": [
       "'06-Sep-2023 10:49:34'"
      ]
     },
     "execution_count": 8,
     "metadata": {},
     "output_type": "execute_result"
    }
   ],
   "source": [
    "get_today(\"Europe/London\")"
   ]
  },
  {
   "cell_type": "code",
   "execution_count": 9,
   "id": "e6243496",
   "metadata": {},
   "outputs": [
    {
     "data": {
      "text/plain": [
       "'06-Sep-2023 18:49:34'"
      ]
     },
     "execution_count": 9,
     "metadata": {},
     "output_type": "execute_result"
    }
   ],
   "source": [
    "get_today(\"Asia/Tokyo\")"
   ]
  },
  {
   "cell_type": "code",
   "execution_count": null,
   "id": "8b53db75",
   "metadata": {},
   "outputs": [],
   "source": []
  },
  {
   "cell_type": "code",
   "execution_count": 10,
   "id": "21ecb485",
   "metadata": {},
   "outputs": [],
   "source": [
    "def get_coordinates(location):\n",
    "    \"\"\"\n",
    "    Get coordinates lattitude and longitude using an url\n",
    "    \"\"\"\n",
    "    baseurl = \"https://api-adresse.data.gouv.fr/search/\"\n",
    "    params = {\"q\": location, \"limit\": 1}\n",
    "    response = requests.get(baseurl, params=params)\n",
    "\n",
    "    if response.status_code == 200:\n",
    "        data = response.json()\n",
    "        res = data[\"features\"][0]\n",
    "        long, lat = res[\"geometry\"][\"coordinates\"]\n",
    "        return str(long) + \", \" + str(lat)\n",
    "    else:\n",
    "        print(\"Error\")"
   ]
  },
  {
   "cell_type": "code",
   "execution_count": 11,
   "id": "04133781",
   "metadata": {},
   "outputs": [
    {
     "data": {
      "text/plain": [
       "'2.347, 48.859'"
      ]
     },
     "execution_count": 11,
     "metadata": {},
     "output_type": "execute_result"
    }
   ],
   "source": [
    "get_coordinates(\"Paris\")"
   ]
  },
  {
   "cell_type": "code",
   "execution_count": 12,
   "id": "32739b2e",
   "metadata": {},
   "outputs": [
    {
     "data": {
      "text/plain": [
       "'1.192566, 45.858449'"
      ]
     },
     "execution_count": 12,
     "metadata": {},
     "output_type": "execute_result"
    }
   ],
   "source": [
    "get_coordinates(\"London\")"
   ]
  },
  {
   "cell_type": "code",
   "execution_count": 13,
   "id": "c85ba22e",
   "metadata": {},
   "outputs": [],
   "source": [
    "functions = [\n",
    "    {\n",
    "        \"name\": \"get_today\",\n",
    "        \"description\": \"Get the current date time in a given location\",\n",
    "        \"parameters\": {\n",
    "            \"type\": \"object\",\n",
    "            \"properties\": {\n",
    "                \"location\": {\n",
    "                    \"type\": \"string\",\n",
    "                    \"description\": \"The location name. The pytz is used to get the timezone for that location. Location names should be in a format like America/New_York, Asia/Bangkok, Europe/London\",\n",
    "                }\n",
    "            },\n",
    "            \"required\": [\"location\"],\n",
    "        },\n",
    "    },\n",
    "    {\n",
    "        \"name\": \"get_coordinates\",\n",
    "        \"description\": \"Get the coordinates lattitude and longitude from a location\",\n",
    "        \"parameters\": {\n",
    "            \"type\": \"object\",\n",
    "            \"properties\": {\n",
    "                \"location\": {\n",
    "                    \"type\": \"string\",\n",
    "                    \"description\": \"Get the coordinates from a location. Location names should be in a format like America/New_York, Asia/Bangkok, Europe/London\",\n",
    "                }\n",
    "            },\n",
    "            \"required\": [\"location\"],\n",
    "        },\n",
    "    },\n",
    "]\n",
    "\n",
    "\n",
    "available_functions = {\n",
    "    \"get_today\": get_today,\n",
    "    \"get_coordinates\": get_coordinates,\n",
    "}"
   ]
  },
  {
   "cell_type": "code",
   "execution_count": 14,
   "id": "af26abce",
   "metadata": {},
   "outputs": [
    {
     "name": "stdout",
     "output_type": "stream",
     "text": [
      "{'get_coordinates': <function get_coordinates at 0x7f48df417520>,\n",
      " 'get_today': <function get_today at 0x7f48a7efe050>}\n"
     ]
    }
   ],
   "source": [
    "pprint(available_functions)"
   ]
  },
  {
   "cell_type": "code",
   "execution_count": 15,
   "id": "f10dc5a7",
   "metadata": {},
   "outputs": [],
   "source": [
    "# helper method used to check if the correct arguments are provided to a function\n",
    "def check_args(function, args):\n",
    "    sig = inspect.signature(function)\n",
    "    params = sig.parameters\n",
    "\n",
    "    # Check if there are extra arguments\n",
    "    for name in args:\n",
    "        if name not in params:\n",
    "            return False\n",
    "    # Check if the required arguments are provided\n",
    "    for name, param in params.items():\n",
    "        if param.default is param.empty and name not in args:\n",
    "            return False\n",
    "\n",
    "    return True"
   ]
  },
  {
   "cell_type": "code",
   "execution_count": 16,
   "id": "f9f11106",
   "metadata": {},
   "outputs": [],
   "source": [
    "def run_conversation(messages, functions, available_functions, deployment_id):\n",
    "    # Step 1: send the conversation and available functions to GPT\n",
    "\n",
    "    response = openai.ChatCompletion.create(\n",
    "        deployment_id=deployment_id,\n",
    "        messages=messages,\n",
    "        functions=functions,\n",
    "        function_call=\"auto\",\n",
    "    )\n",
    "    response_message = response[\"choices\"][0][\"message\"]\n",
    "\n",
    "    # Step 2: check if GPT wanted to call a function\n",
    "    if response_message.get(\"function_call\"):\n",
    "        print(\"Recommended Function call:\")\n",
    "        print(response_message.get(\"function_call\"))\n",
    "        print()\n",
    "\n",
    "        # Step 3: call the function\n",
    "        # Note: the JSON response may not always be valid; be sure to handle errors\n",
    "\n",
    "        function_name = response_message[\"function_call\"][\"name\"]\n",
    "\n",
    "        # verify function exists\n",
    "        if function_name not in available_functions:\n",
    "            return \"Function \" + function_name + \" does not exist\"\n",
    "        function_to_call = available_functions[function_name]\n",
    "\n",
    "        # verify function has correct number of arguments\n",
    "        function_args = json.loads(response_message[\"function_call\"][\"arguments\"])\n",
    "        if check_args(function_to_call, function_args) is False:\n",
    "            return \"Invalid number of arguments for function: \" + function_name\n",
    "        function_response = function_to_call(**function_args)\n",
    "\n",
    "        print(\"Output of function call:\")\n",
    "        print(function_response)\n",
    "        print()\n",
    "\n",
    "        # Step 4: send the info on the function call and function response to GPT\n",
    "\n",
    "        # adding assistant response to messages\n",
    "        messages.append(\n",
    "            {\n",
    "                \"role\": response_message[\"role\"],\n",
    "                \"function_call\": {\n",
    "                    \"name\": response_message[\"function_call\"][\"name\"],\n",
    "                    \"arguments\": response_message[\"function_call\"][\"arguments\"],\n",
    "                },\n",
    "                \"content\": None,\n",
    "            }\n",
    "        )\n",
    "\n",
    "        # adding function response to messages\n",
    "        messages.append(\n",
    "            {\n",
    "                \"role\": \"function\",\n",
    "                \"name\": function_name,\n",
    "                \"content\": function_response,\n",
    "            }\n",
    "        )  # extend conversation with function response\n",
    "\n",
    "        print(\"Messages in second request:\")\n",
    "        for message in messages:\n",
    "            print(message)\n",
    "        print()\n",
    "\n",
    "        second_response = openai.ChatCompletion.create(\n",
    "            messages=messages, deployment_id=deployment_id\n",
    "        )  # get a new response from GPT where it can see the function response\n",
    "\n",
    "        return second_response"
   ]
  },
  {
   "cell_type": "markdown",
   "id": "6d464426",
   "metadata": {},
   "source": [
    "## Testing"
   ]
  },
  {
   "cell_type": "code",
   "execution_count": 17,
   "id": "f7740651",
   "metadata": {},
   "outputs": [
    {
     "name": "stdout",
     "output_type": "stream",
     "text": [
      "Recommended Function call:\n",
      "{\n",
      "  \"name\": \"get_today\",\n",
      "  \"arguments\": \"{\\n  \\\"location\\\": \\\"America/New_York\\\"\\n}\"\n",
      "}\n",
      "\n",
      "Output of function call:\n",
      "06-Sep-2023 05:49:36\n",
      "\n",
      "Messages in second request:\n",
      "{'role': 'user', 'content': 'What time is it in New York?'}\n",
      "{'role': 'assistant', 'function_call': {'name': 'get_today', 'arguments': '{\\n  \"location\": \"America/New_York\"\\n}'}, 'content': None}\n",
      "{'role': 'function', 'name': 'get_today', 'content': '06-Sep-2023 05:49:36'}\n",
      "\n",
      "{\n",
      "  \"role\": \"assistant\",\n",
      "  \"content\": \"As of now, the current time in New York is 05:49 AM.\"\n",
      "}\n"
     ]
    }
   ],
   "source": [
    "messages = [{\"role\": \"user\", \"content\": \"What time is it in New York?\"}]\n",
    "\n",
    "assistant_response = run_conversation(\n",
    "    messages, functions, available_functions, deployment_name\n",
    ")\n",
    "print(assistant_response[\"choices\"][0][\"message\"])"
   ]
  },
  {
   "cell_type": "code",
   "execution_count": 18,
   "id": "9488934e",
   "metadata": {},
   "outputs": [
    {
     "name": "stdout",
     "output_type": "stream",
     "text": [
      "As of now, the current time in New York is 05:49 AM.\n"
     ]
    }
   ],
   "source": [
    "print(assistant_response[\"choices\"][0][\"message\"][\"content\"])"
   ]
  },
  {
   "cell_type": "code",
   "execution_count": null,
   "id": "79f595e7",
   "metadata": {},
   "outputs": [],
   "source": []
  },
  {
   "cell_type": "code",
   "execution_count": 19,
   "id": "3c948e36",
   "metadata": {},
   "outputs": [
    {
     "name": "stdout",
     "output_type": "stream",
     "text": [
      "Recommended Function call:\n",
      "{\n",
      "  \"name\": \"get_today\",\n",
      "  \"arguments\": \"{\\n  \\\"location\\\": \\\"Europe/Paris\\\"\\n}\"\n",
      "}\n",
      "\n",
      "Output of function call:\n",
      "06-Sep-2023 11:49:38\n",
      "\n",
      "Messages in second request:\n",
      "{'role': 'user', 'content': 'What the current day in Paris?'}\n",
      "{'role': 'assistant', 'function_call': {'name': 'get_today', 'arguments': '{\\n  \"location\": \"Europe/Paris\"\\n}'}, 'content': None}\n",
      "{'role': 'function', 'name': 'get_today', 'content': '06-Sep-2023 11:49:38'}\n",
      "\n",
      "{\n",
      "  \"role\": \"assistant\",\n",
      "  \"content\": \"Today is September 6th, 2023 in Paris, France.\"\n",
      "}\n"
     ]
    }
   ],
   "source": [
    "messages = [{\"role\": \"user\", \"content\": \"What the current day in Paris?\"}]\n",
    "\n",
    "assistant_response = run_conversation(\n",
    "    messages, functions, available_functions, deployment_name\n",
    ")\n",
    "print(assistant_response[\"choices\"][0][\"message\"])"
   ]
  },
  {
   "cell_type": "code",
   "execution_count": 20,
   "id": "cbdfe082",
   "metadata": {},
   "outputs": [
    {
     "name": "stdout",
     "output_type": "stream",
     "text": [
      "Today is September 6th, 2023 in Paris, France.\n"
     ]
    }
   ],
   "source": [
    "print(assistant_response[\"choices\"][0][\"message\"][\"content\"])"
   ]
  },
  {
   "cell_type": "code",
   "execution_count": null,
   "id": "6219e581",
   "metadata": {},
   "outputs": [],
   "source": []
  },
  {
   "cell_type": "code",
   "execution_count": 21,
   "id": "1fa7a553",
   "metadata": {},
   "outputs": [
    {
     "name": "stdout",
     "output_type": "stream",
     "text": [
      "Recommended Function call:\n",
      "{\n",
      "  \"name\": \"get_today\",\n",
      "  \"arguments\": \"{\\n\\\"location\\\": \\\"Europe/Paris\\\"\\n}\"\n",
      "}\n",
      "\n",
      "Output of function call:\n",
      "06-Sep-2023 11:49:41\n",
      "\n",
      "Messages in second request:\n",
      "{'role': 'user', 'content': 'What the current date and time in Paris?'}\n",
      "{'role': 'assistant', 'function_call': {'name': 'get_today', 'arguments': '{\\n\"location\": \"Europe/Paris\"\\n}'}, 'content': None}\n",
      "{'role': 'function', 'name': 'get_today', 'content': '06-Sep-2023 11:49:41'}\n",
      "\n",
      "{\n",
      "  \"role\": \"assistant\",\n",
      "  \"content\": \"The current date and time in Paris is 6th September 2023, 11:49 AM.\"\n",
      "}\n"
     ]
    }
   ],
   "source": [
    "messages = [{\"role\": \"user\", \"content\": \"What the current date and time in Paris?\"}]\n",
    "\n",
    "assistant_response = run_conversation(\n",
    "    messages, functions, available_functions, deployment_name\n",
    ")\n",
    "print(assistant_response[\"choices\"][0][\"message\"])"
   ]
  },
  {
   "cell_type": "code",
   "execution_count": 22,
   "id": "aae79706",
   "metadata": {},
   "outputs": [
    {
     "name": "stdout",
     "output_type": "stream",
     "text": [
      "The current date and time in Paris is 6th September 2023, 11:49 AM.\n"
     ]
    }
   ],
   "source": [
    "print(assistant_response[\"choices\"][0][\"message\"][\"content\"])"
   ]
  },
  {
   "cell_type": "code",
   "execution_count": null,
   "id": "3bb0e6ec",
   "metadata": {},
   "outputs": [],
   "source": []
  },
  {
   "cell_type": "code",
   "execution_count": 23,
   "id": "8dd8109a",
   "metadata": {},
   "outputs": [
    {
     "name": "stdout",
     "output_type": "stream",
     "text": [
      "Recommended Function call:\n",
      "{\n",
      "  \"name\": \"get_today\",\n",
      "  \"arguments\": \"{\\n  \\\"location\\\": \\\"America/New_York\\\"\\n}\"\n",
      "}\n",
      "\n",
      "Output of function call:\n",
      "06-Sep-2023 05:49:43\n",
      "\n",
      "Messages in second request:\n",
      "{'role': 'user', 'content': 'What the current date and time in NYC? Format the time with seconds'}\n",
      "{'role': 'assistant', 'function_call': {'name': 'get_today', 'arguments': '{\\n  \"location\": \"America/New_York\"\\n}'}, 'content': None}\n",
      "{'role': 'function', 'name': 'get_today', 'content': '06-Sep-2023 05:49:43'}\n",
      "\n",
      "{\n",
      "  \"role\": \"assistant\",\n",
      "  \"content\": \"The current date and time in NYC is September 6, 2023, 05:49:43 (formatted with seconds).\"\n",
      "}\n"
     ]
    }
   ],
   "source": [
    "messages = [\n",
    "    {\n",
    "        \"role\": \"user\",\n",
    "        \"content\": \"What the current date and time in NYC? Format the time with seconds\",\n",
    "    }\n",
    "]\n",
    "\n",
    "assistant_response = run_conversation(\n",
    "    messages, functions, available_functions, deployment_name\n",
    ")\n",
    "print(assistant_response[\"choices\"][0][\"message\"])"
   ]
  },
  {
   "cell_type": "code",
   "execution_count": 24,
   "id": "3f3ee0af",
   "metadata": {},
   "outputs": [
    {
     "name": "stdout",
     "output_type": "stream",
     "text": [
      "The current date and time in NYC is September 6, 2023, 05:49:43 (formatted with seconds).\n"
     ]
    }
   ],
   "source": [
    "print(assistant_response[\"choices\"][0][\"message\"][\"content\"])"
   ]
  },
  {
   "cell_type": "code",
   "execution_count": null,
   "id": "45d7a6e6",
   "metadata": {},
   "outputs": [],
   "source": []
  },
  {
   "cell_type": "code",
   "execution_count": 25,
   "id": "36546ddb",
   "metadata": {},
   "outputs": [
    {
     "name": "stdout",
     "output_type": "stream",
     "text": [
      "Recommended Function call:\n",
      "{\n",
      "  \"name\": \"get_today\",\n",
      "  \"arguments\": \"{\\n  \\\"location\\\": \\\"Europe/Paris\\\"\\n}\"\n",
      "}\n",
      "\n",
      "Output of function call:\n",
      "06-Sep-2023 11:49:46\n",
      "\n",
      "Messages in second request:\n",
      "{'role': 'user', 'content': 'I am in Paris. I will drive for 3 hours. What is my arrival time?'}\n",
      "{'role': 'assistant', 'function_call': {'name': 'get_today', 'arguments': '{\\n  \"location\": \"Europe/Paris\"\\n}'}, 'content': None}\n",
      "{'role': 'function', 'name': 'get_today', 'content': '06-Sep-2023 11:49:46'}\n",
      "\n",
      "{\n",
      "  \"role\": \"assistant\",\n",
      "  \"content\": \"If you will be driving for 3 hours from the current time, your estimated arrival time would be approximately 3 hours from now.\"\n",
      "}\n"
     ]
    }
   ],
   "source": [
    "messages = [\n",
    "    {\n",
    "        \"role\": \"user\",\n",
    "        \"content\": \"I am in Paris. I will drive for 3 hours. What is my arrival time?\",\n",
    "    }\n",
    "]\n",
    "\n",
    "assistant_response = run_conversation(\n",
    "    messages, functions, available_functions, deployment_name\n",
    ")\n",
    "print(assistant_response[\"choices\"][0][\"message\"])"
   ]
  },
  {
   "cell_type": "code",
   "execution_count": 26,
   "id": "d2a1c9d6",
   "metadata": {},
   "outputs": [
    {
     "name": "stdout",
     "output_type": "stream",
     "text": [
      "If you will be driving for 3 hours from the current time, your estimated arrival time would be approximately 3 hours from now.\n"
     ]
    }
   ],
   "source": [
    "print(assistant_response[\"choices\"][0][\"message\"][\"content\"])"
   ]
  },
  {
   "cell_type": "code",
   "execution_count": null,
   "id": "763592eb",
   "metadata": {},
   "outputs": [],
   "source": []
  },
  {
   "cell_type": "code",
   "execution_count": 27,
   "id": "eff04b5a",
   "metadata": {},
   "outputs": [
    {
     "name": "stdout",
     "output_type": "stream",
     "text": [
      "Recommended Function call:\n",
      "{\n",
      "  \"name\": \"get_today\",\n",
      "  \"arguments\": \"{\\n  \\\"location\\\": \\\"Europe/Paris\\\"\\n}\"\n",
      "}\n",
      "\n",
      "Output of function call:\n",
      "06-Sep-2023 11:49:48\n",
      "\n",
      "Messages in second request:\n",
      "{'role': 'user', 'content': 'I am in Paris. What was the yesterday date?'}\n",
      "{'role': 'assistant', 'function_call': {'name': 'get_today', 'arguments': '{\\n  \"location\": \"Europe/Paris\"\\n}'}, 'content': None}\n",
      "{'role': 'function', 'name': 'get_today', 'content': '06-Sep-2023 11:49:48'}\n",
      "\n",
      "{\n",
      "  \"role\": \"assistant\",\n",
      "  \"content\": \"Yesterday's date in Paris was September 5, 2023.\"\n",
      "}\n"
     ]
    }
   ],
   "source": [
    "messages = [{\"role\": \"user\", \"content\": \"I am in Paris. What was the yesterday date?\"}]\n",
    "\n",
    "assistant_response = run_conversation(\n",
    "    messages, functions, available_functions, deployment_name\n",
    ")\n",
    "print(assistant_response[\"choices\"][0][\"message\"])"
   ]
  },
  {
   "cell_type": "code",
   "execution_count": 28,
   "id": "c3bb69d3",
   "metadata": {},
   "outputs": [
    {
     "name": "stdout",
     "output_type": "stream",
     "text": [
      "Yesterday's date in Paris was September 5, 2023.\n"
     ]
    }
   ],
   "source": [
    "print(assistant_response[\"choices\"][0][\"message\"][\"content\"])"
   ]
  },
  {
   "cell_type": "code",
   "execution_count": null,
   "id": "15e601ca",
   "metadata": {},
   "outputs": [],
   "source": []
  },
  {
   "cell_type": "code",
   "execution_count": 29,
   "id": "a74522a3",
   "metadata": {},
   "outputs": [
    {
     "name": "stdout",
     "output_type": "stream",
     "text": [
      "Recommended Function call:\n",
      "{\n",
      "  \"name\": \"get_today\",\n",
      "  \"arguments\": \"{\\n  \\\"location\\\": \\\"Europe/Paris\\\"\\n}\"\n",
      "}\n",
      "\n",
      "Output of function call:\n",
      "06-Sep-2023 11:49:50\n",
      "\n",
      "Messages in second request:\n",
      "{'role': 'user', 'content': 'I am in Paris. What is the number of days starting from the 1st of January 2023'}\n",
      "{'role': 'assistant', 'function_call': {'name': 'get_today', 'arguments': '{\\n  \"location\": \"Europe/Paris\"\\n}'}, 'content': None}\n",
      "{'role': 'function', 'name': 'get_today', 'content': '06-Sep-2023 11:49:50'}\n",
      "\n",
      "{\n",
      "  \"role\": \"assistant\",\n",
      "  \"content\": \"If today is September 6, 2023, and you are asking for the number of days starting from the 1st of January 2023, you can calculate it by subtracting the two dates:\\n\\nSeptember 6, 2023 - January 1, 2023 = 248 days\\n\\nTherefore, there are 248 days from the 1st of January 2023 to September 6, 2023.\"\n",
      "}\n"
     ]
    }
   ],
   "source": [
    "messages = [\n",
    "    {\n",
    "        \"role\": \"user\",\n",
    "        \"content\": \"I am in Paris. What is the number of days starting from the 1st of January 2023\",\n",
    "    }\n",
    "]\n",
    "\n",
    "assistant_response = run_conversation(\n",
    "    messages, functions, available_functions, deployment_name\n",
    ")\n",
    "print(assistant_response[\"choices\"][0][\"message\"])"
   ]
  },
  {
   "cell_type": "code",
   "execution_count": 30,
   "id": "2e2aef11",
   "metadata": {},
   "outputs": [
    {
     "name": "stdout",
     "output_type": "stream",
     "text": [
      "If today is September 6, 2023, and you are asking for the number of days starting from the 1st of January 2023, you can calculate it by subtracting the two dates:\n",
      "\n",
      "September 6, 2023 - January 1, 2023 = 248 days\n",
      "\n",
      "Therefore, there are 248 days from the 1st of January 2023 to September 6, 2023.\n"
     ]
    }
   ],
   "source": [
    "print(assistant_response[\"choices\"][0][\"message\"][\"content\"])"
   ]
  },
  {
   "cell_type": "code",
   "execution_count": 31,
   "id": "14ad6fcd",
   "metadata": {},
   "outputs": [
    {
     "name": "stdout",
     "output_type": "stream",
     "text": [
      "Recommended Function call:\n",
      "{\n",
      "  \"name\": \"get_coordinates\",\n",
      "  \"arguments\": \"{\\n\\\"location\\\": \\\"Brighton\\\"\\n}\"\n",
      "}\n",
      "\n",
      "Output of function call:\n",
      "1.517171, 50.194893\n",
      "\n",
      "Messages in second request:\n",
      "{'role': 'user', 'content': 'I am in Brighton. What is the longitude and lattitude?'}\n",
      "{'role': 'assistant', 'function_call': {'name': 'get_coordinates', 'arguments': '{\\n\"location\": \"Brighton\"\\n}'}, 'content': None}\n",
      "{'role': 'function', 'name': 'get_coordinates', 'content': '1.517171, 50.194893'}\n",
      "\n",
      "{\n",
      "  \"role\": \"assistant\",\n",
      "  \"content\": \"The latitude of Brighton is 50.194893 and the longitude is 1.517171.\"\n",
      "}\n"
     ]
    }
   ],
   "source": [
    "messages = [\n",
    "    {\n",
    "        \"role\": \"user\",\n",
    "        \"content\": \"I am in Brighton. What is the longitude and lattitude?\",\n",
    "    }\n",
    "]\n",
    "\n",
    "assistant_response = run_conversation(\n",
    "    messages, functions, available_functions, deployment_name\n",
    ")\n",
    "print(assistant_response[\"choices\"][0][\"message\"])"
   ]
  },
  {
   "cell_type": "code",
   "execution_count": 32,
   "id": "8a06b9e1",
   "metadata": {},
   "outputs": [
    {
     "name": "stdout",
     "output_type": "stream",
     "text": [
      "The latitude of Brighton is 50.194893 and the longitude is 1.517171.\n"
     ]
    }
   ],
   "source": [
    "print(assistant_response[\"choices\"][0][\"message\"][\"content\"])"
   ]
  },
  {
   "cell_type": "code",
   "execution_count": 68,
   "id": "3631fcd7",
   "metadata": {},
   "outputs": [
    {
     "name": "stdout",
     "output_type": "stream",
     "text": [
      "Recommended Function call:\n",
      "{\n",
      "  \"name\": \"get_coordinates\",\n",
      "  \"arguments\": \"{\\n  \\\"location\\\": \\\"Nice\\\"\\n}\"\n",
      "}\n",
      "\n",
      "Output of function call:\n",
      "7.250987, 43.713012\n",
      "\n",
      "Messages in second request:\n",
      "{'role': 'user', 'content': 'I am in Nice. Display the latitude and longitude'}\n",
      "{'role': 'assistant', 'function_call': {'name': 'get_coordinates', 'arguments': '{\\n  \"location\": \"Nice\"\\n}'}, 'content': None}\n",
      "{'role': 'function', 'name': 'get_coordinates', 'content': '7.250987, 43.713012'}\n",
      "\n",
      "{\n",
      "  \"role\": \"assistant\",\n",
      "  \"content\": \"The latitude of Nice is 43.713012 and the longitude is 7.250987.\"\n",
      "}\n"
     ]
    }
   ],
   "source": [
    "messages = [\n",
    "    {\n",
    "        \"role\": \"user\",\n",
    "        \"content\": \"I am in Nice. Display the latitude and longitude\",\n",
    "    }\n",
    "]\n",
    "\n",
    "assistant_response = run_conversation(\n",
    "    messages, functions, available_functions, deployment_name\n",
    ")\n",
    "print(assistant_response[\"choices\"][0][\"message\"])"
   ]
  },
  {
   "cell_type": "code",
   "execution_count": 69,
   "id": "708287c5",
   "metadata": {},
   "outputs": [],
   "source": [
    "lat = \"43.713012\"\n",
    "long = \"7.250987\""
   ]
  },
  {
   "cell_type": "code",
   "execution_count": 70,
   "id": "aba56288",
   "metadata": {},
   "outputs": [
    {
     "data": {
      "text/html": [
       "<div style=\"width:100%;\"><div style=\"position:relative;width:100%;height:0;padding-bottom:60%;\"><span style=\"color:#565656\">Make this Notebook Trusted to load map: File -> Trust Notebook</span><iframe srcdoc=\"&lt;!DOCTYPE html&gt;\n",
       "&lt;html&gt;\n",
       "&lt;head&gt;\n",
       "    \n",
       "    &lt;meta http-equiv=&quot;content-type&quot; content=&quot;text/html; charset=UTF-8&quot; /&gt;\n",
       "    \n",
       "        &lt;script&gt;\n",
       "            L_NO_TOUCH = false;\n",
       "            L_DISABLE_3D = false;\n",
       "        &lt;/script&gt;\n",
       "    \n",
       "    &lt;style&gt;html, body {width: 100%;height: 100%;margin: 0;padding: 0;}&lt;/style&gt;\n",
       "    &lt;style&gt;#map {position:absolute;top:0;bottom:0;right:0;left:0;}&lt;/style&gt;\n",
       "    &lt;script src=&quot;https://cdn.jsdelivr.net/npm/leaflet@1.9.3/dist/leaflet.js&quot;&gt;&lt;/script&gt;\n",
       "    &lt;script src=&quot;https://code.jquery.com/jquery-1.12.4.min.js&quot;&gt;&lt;/script&gt;\n",
       "    &lt;script src=&quot;https://cdn.jsdelivr.net/npm/bootstrap@5.2.2/dist/js/bootstrap.bundle.min.js&quot;&gt;&lt;/script&gt;\n",
       "    &lt;script src=&quot;https://cdnjs.cloudflare.com/ajax/libs/Leaflet.awesome-markers/2.0.2/leaflet.awesome-markers.js&quot;&gt;&lt;/script&gt;\n",
       "    &lt;link rel=&quot;stylesheet&quot; href=&quot;https://cdn.jsdelivr.net/npm/leaflet@1.9.3/dist/leaflet.css&quot;/&gt;\n",
       "    &lt;link rel=&quot;stylesheet&quot; href=&quot;https://cdn.jsdelivr.net/npm/bootstrap@5.2.2/dist/css/bootstrap.min.css&quot;/&gt;\n",
       "    &lt;link rel=&quot;stylesheet&quot; href=&quot;https://netdna.bootstrapcdn.com/bootstrap/3.0.0/css/bootstrap.min.css&quot;/&gt;\n",
       "    &lt;link rel=&quot;stylesheet&quot; href=&quot;https://cdn.jsdelivr.net/npm/@fortawesome/fontawesome-free@6.2.0/css/all.min.css&quot;/&gt;\n",
       "    &lt;link rel=&quot;stylesheet&quot; href=&quot;https://cdnjs.cloudflare.com/ajax/libs/Leaflet.awesome-markers/2.0.2/leaflet.awesome-markers.css&quot;/&gt;\n",
       "    &lt;link rel=&quot;stylesheet&quot; href=&quot;https://cdn.jsdelivr.net/gh/python-visualization/folium/folium/templates/leaflet.awesome.rotate.min.css&quot;/&gt;\n",
       "    \n",
       "            &lt;meta name=&quot;viewport&quot; content=&quot;width=device-width,\n",
       "                initial-scale=1.0, maximum-scale=1.0, user-scalable=no&quot; /&gt;\n",
       "            &lt;style&gt;\n",
       "                #map_293e2914a6e0c5fa27fa053c038a56b3 {\n",
       "                    position: relative;\n",
       "                    width: 100.0%;\n",
       "                    height: 100.0%;\n",
       "                    left: 0.0%;\n",
       "                    top: 0.0%;\n",
       "                }\n",
       "                .leaflet-container { font-size: 1rem; }\n",
       "            &lt;/style&gt;\n",
       "        \n",
       "&lt;/head&gt;\n",
       "&lt;body&gt;\n",
       "    \n",
       "    \n",
       "            &lt;div class=&quot;folium-map&quot; id=&quot;map_293e2914a6e0c5fa27fa053c038a56b3&quot; &gt;&lt;/div&gt;\n",
       "        \n",
       "&lt;/body&gt;\n",
       "&lt;script&gt;\n",
       "    \n",
       "    \n",
       "            var map_293e2914a6e0c5fa27fa053c038a56b3 = L.map(\n",
       "                &quot;map_293e2914a6e0c5fa27fa053c038a56b3&quot;,\n",
       "                {\n",
       "                    center: [43.713012, 7.250987],\n",
       "                    crs: L.CRS.EPSG3857,\n",
       "                    zoom: 12,\n",
       "                    zoomControl: true,\n",
       "                    preferCanvas: false,\n",
       "                }\n",
       "            );\n",
       "\n",
       "            \n",
       "\n",
       "        \n",
       "    \n",
       "            var tile_layer_3ba7369526d77d36041634a9f52bf109 = L.tileLayer(\n",
       "                &quot;https://{s}.tile.openstreetmap.org/{z}/{x}/{y}.png&quot;,\n",
       "                {&quot;attribution&quot;: &quot;Data by \\u0026copy; \\u003ca target=\\&quot;_blank\\&quot; href=\\&quot;http://openstreetmap.org\\&quot;\\u003eOpenStreetMap\\u003c/a\\u003e, under \\u003ca target=\\&quot;_blank\\&quot; href=\\&quot;http://www.openstreetmap.org/copyright\\&quot;\\u003eODbL\\u003c/a\\u003e.&quot;, &quot;detectRetina&quot;: false, &quot;maxNativeZoom&quot;: 18, &quot;maxZoom&quot;: 18, &quot;minZoom&quot;: 0, &quot;noWrap&quot;: false, &quot;opacity&quot;: 1, &quot;subdomains&quot;: &quot;abc&quot;, &quot;tms&quot;: false}\n",
       "            ).addTo(map_293e2914a6e0c5fa27fa053c038a56b3);\n",
       "        \n",
       "    \n",
       "            var marker_eb2948c3c41c47458b0b251952abb1ac = L.marker(\n",
       "                [43.713012, 7.250987],\n",
       "                {}\n",
       "            ).addTo(map_293e2914a6e0c5fa27fa053c038a56b3);\n",
       "        \n",
       "    \n",
       "            marker_eb2948c3c41c47458b0b251952abb1ac.bindTooltip(\n",
       "                `&lt;div&gt;\n",
       "                     Here I&#x27;m am\n",
       "                 &lt;/div&gt;`,\n",
       "                {&quot;sticky&quot;: true}\n",
       "            );\n",
       "        \n",
       "&lt;/script&gt;\n",
       "&lt;/html&gt;\" style=\"position:absolute;width:100%;height:100%;left:0;top:0;border:none !important;\" allowfullscreen webkitallowfullscreen mozallowfullscreen></iframe></div></div>"
      ],
      "text/plain": [
       "<folium.folium.Map at 0x7f48a419a590>"
      ]
     },
     "execution_count": 70,
     "metadata": {},
     "output_type": "execute_result"
    }
   ],
   "source": [
    "mymap = folium.Map(location=[lat, long], zoom_start=12)\n",
    "folium.Marker([lat, long], tooltip=\"Here I'm am\").add_to(mymap)\n",
    "\n",
    "mymap"
   ]
  },
  {
   "cell_type": "code",
   "execution_count": null,
   "id": "d755ef50",
   "metadata": {},
   "outputs": [],
   "source": []
  }
 ],
 "metadata": {
  "kernelspec": {
   "display_name": "Python 3.10 - SDK v2",
   "language": "python",
   "name": "python310-sdkv2"
  },
  "language_info": {
   "codemirror_mode": {
    "name": "ipython",
    "version": 3
   },
   "file_extension": ".py",
   "mimetype": "text/x-python",
   "name": "python",
   "nbconvert_exporter": "python",
   "pygments_lexer": "ipython3",
   "version": "3.10.10"
  }
 },
 "nbformat": 4,
 "nbformat_minor": 5
}
