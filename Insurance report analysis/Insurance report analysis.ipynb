{
 "cells": [
  {
   "cell_type": "markdown",
   "id": "20e46c2f",
   "metadata": {},
   "source": [
    "# Insurance report analysis"
   ]
  },
  {
   "cell_type": "code",
   "execution_count": 1,
   "id": "a9ed10c4",
   "metadata": {},
   "outputs": [],
   "source": [
    "import datetime\n",
    "import os\n",
    "import openai\n",
    "import sys\n",
    "\n",
    "from dotenv import load_dotenv"
   ]
  },
  {
   "cell_type": "code",
   "execution_count": 2,
   "id": "bacb98f7",
   "metadata": {},
   "outputs": [
    {
     "name": "stdout",
     "output_type": "stream",
     "text": [
      "Open AI version: 0.28.0\n"
     ]
    }
   ],
   "source": [
    "load_dotenv(\"azure.env\")\n",
    "\n",
    "# Azure Open AI\n",
    "openai.api_type: str = \"azure\"\n",
    "openai.api_key = os.getenv(\"OPENAI_API_KEY\")\n",
    "openai.api_base = os.getenv(\"OPENAI_API_BASE\")\n",
    "openai.api_version = os.getenv(\"OPENAI_API_VERSION\")\n",
    "\n",
    "print(\"Open AI version:\", openai.__version__)"
   ]
  },
  {
   "cell_type": "code",
   "execution_count": 3,
   "id": "5b992132",
   "metadata": {},
   "outputs": [
    {
     "name": "stdout",
     "output_type": "stream",
     "text": [
      "Today is: 21-Sep-2023 08:15:06\n"
     ]
    }
   ],
   "source": [
    "print('Today is:', datetime.datetime.today().strftime ('%d-%b-%Y %H:%M:%S'))"
   ]
  },
  {
   "cell_type": "code",
   "execution_count": 4,
   "id": "321252c5",
   "metadata": {},
   "outputs": [
    {
     "data": {
      "text/plain": [
       "'3.10.10 (main, Mar 21 2023, 18:45:11) [GCC 11.2.0]'"
      ]
     },
     "execution_count": 4,
     "metadata": {},
     "output_type": "execute_result"
    }
   ],
   "source": [
    "sys.version"
   ]
  },
  {
   "cell_type": "markdown",
   "id": "86fec9b1",
   "metadata": {},
   "source": [
    "## Function"
   ]
  },
  {
   "cell_type": "code",
   "execution_count": 5,
   "id": "1a4b5443",
   "metadata": {},
   "outputs": [],
   "source": [
    "model = \"text-davinci-003\""
   ]
  },
  {
   "cell_type": "code",
   "execution_count": 6,
   "id": "c2dd2175",
   "metadata": {},
   "outputs": [],
   "source": [
    "def azure_openai(prompt, temperature=0.8):\n",
    "    \"\"\"\n",
    "    Get Azure Open AI results\n",
    "    \"\"\"\n",
    "    prompt = prompt + \"\\n\" + text\n",
    "\n",
    "    results = openai.Completion.create(\n",
    "        engine=model,\n",
    "        prompt=prompt,\n",
    "        temperature=temperature,\n",
    "        max_tokens=800,\n",
    "    )\n",
    "\n",
    "    answer = results[\"choices\"][0][\"text\"].strip(\"\\n\")\n",
    "\n",
    "    return answer"
   ]
  },
  {
   "cell_type": "markdown",
   "id": "68acea4b",
   "metadata": {},
   "source": [
    "## Test"
   ]
  },
  {
   "cell_type": "code",
   "execution_count": 7,
   "id": "5d782d44",
   "metadata": {},
   "outputs": [
    {
     "name": "stdout",
     "output_type": "stream",
     "text": [
      "\n",
      "Phone conversation:\n",
      "\n",
      "Hi there I just had a car accident and wanted to report it. OK, I hope\n",
      "you're alright and in safe place to have this conversation. Yes I'm fine tank you. Can you\n",
      "please describe me what happened? I was driving on the M23 and I hit another car. Are\n",
      "you OK? Yeah, I'm just a little shaken up. That's understandable. Can you give me your full\n",
      "name? Sure it's Sarah Standl . Do you know what caused the accident? I think I might have\n",
      "hit a pothole. Ok, where did the accident take place? On the M23 near junction 10. Was\n",
      "anyone else injured? I don't think so. But I'm not sure. OK, well we'll need to do an\n",
      "investigation. Can you give me the other drivers information. Sure, his name is John\n",
      "Radley. And your insurance policy number. Ok. Give me a minute. OK, it's 546452. OK, is\n",
      "there any damage to your car? Yes, Headlights are broken, and the airbags went off. Are\n",
      "you going to be able to drive it? I don't think so. I'm going to have it towed. Well, we'll\n",
      "need to get it inspected. I'll go ahead and order you a tow van. I'll also start the claim and\n",
      "we’ll get everything sorted out. Thank you.\n",
      "\n"
     ]
    }
   ],
   "source": [
    "text = \"\"\"\n",
    "Phone conversation:\n",
    "\n",
    "Hi there I just had a car accident and wanted to report it. OK, I hope\n",
    "you're alright and in safe place to have this conversation. Yes I'm fine tank you. Can you\n",
    "please describe me what happened? I was driving on the M23 and I hit another car. Are\n",
    "you OK? Yeah, I'm just a little shaken up. That's understandable. Can you give me your full\n",
    "name? Sure it's Sarah Standl . Do you know what caused the accident? I think I might have\n",
    "hit a pothole. Ok, where did the accident take place? On the M23 near junction 10. Was\n",
    "anyone else injured? I don't think so. But I'm not sure. OK, well we'll need to do an\n",
    "investigation. Can you give me the other drivers information. Sure, his name is John\n",
    "Radley. And your insurance policy number. Ok. Give me a minute. OK, it's 546452. OK, is\n",
    "there any damage to your car? Yes, Headlights are broken, and the airbags went off. Are\n",
    "you going to be able to drive it? I don't think so. I'm going to have it towed. Well, we'll\n",
    "need to get it inspected. I'll go ahead and order you a tow van. I'll also start the claim and\n",
    "we’ll get everything sorted out. Thank you.\n",
    "\"\"\"\n",
    "\n",
    "print(text)"
   ]
  },
  {
   "cell_type": "code",
   "execution_count": 8,
   "id": "b2a50475",
   "metadata": {},
   "outputs": [
    {
     "name": "stdout",
     "output_type": "stream",
     "text": [
      "A car accident was reported on the M23 near junction 10 by Sarah Standl, who was injured but not seriously, caused by hitting a pothole, with John Radley as the other driver and resulting in broken headlights and the deployment of airbags, requiring a tow truck.\n"
     ]
    }
   ],
   "source": [
    "answer = azure_openai(\"Can you describe this file in one line?\")\n",
    "print(answer)"
   ]
  },
  {
   "cell_type": "code",
   "execution_count": 9,
   "id": "ca4e025f",
   "metadata": {},
   "outputs": [
    {
     "name": "stdout",
     "output_type": "stream",
     "text": [
      "The call reason is to report a car accident.\n"
     ]
    }
   ],
   "source": [
    "answer = azure_openai(\"What is the call reason (key: reason)?\")\n",
    "print(answer)"
   ]
  },
  {
   "cell_type": "code",
   "execution_count": 10,
   "id": "9429703e",
   "metadata": {},
   "outputs": [
    {
     "name": "stdout",
     "output_type": "stream",
     "text": [
      "Cause: Hitting a pothole.\n"
     ]
    }
   ],
   "source": [
    "answer = azure_openai(\"What is the cause of the incident (key: cause)?\")\n",
    "print(answer)"
   ]
  },
  {
   "cell_type": "code",
   "execution_count": 11,
   "id": "76865593",
   "metadata": {},
   "outputs": [
    {
     "name": "stdout",
     "output_type": "stream",
     "text": [
      "Answer: [\"Sarah Standl\", \"John Radley\"]\n"
     ]
    }
   ],
   "source": [
    "answer = azure_openai(\"Names of all drivers as an array?\")\n",
    "print(answer)"
   ]
  },
  {
   "cell_type": "code",
   "execution_count": 12,
   "id": "c910c388",
   "metadata": {},
   "outputs": [
    {
     "name": "stdout",
     "output_type": "stream",
     "text": [
      "Answer: The accident location was on the M23 near junction 10.\n"
     ]
    }
   ],
   "source": [
    "answer = azure_openai(\"What is the Accident location \")\n",
    "print(answer)"
   ]
  },
  {
   "cell_type": "code",
   "execution_count": 13,
   "id": "0bff6996",
   "metadata": {},
   "outputs": [
    {
     "name": "stdout",
     "output_type": "stream",
     "text": [
      "Car Damages:\n",
      "\n",
      "{\n",
      "  \"damages\": [\n",
      "    \"Headlights broken\",\n",
      "    \"Airbags deployed\"\n",
      "  ]\n",
      "}\n"
     ]
    }
   ],
   "source": [
    "answer = azure_openai(\"What are the car damages? Save it in a json file format.\")\n",
    "print(answer)"
   ]
  },
  {
   "cell_type": "code",
   "execution_count": 14,
   "id": "42862fbb",
   "metadata": {},
   "outputs": [
    {
     "name": "stdout",
     "output_type": "stream",
     "text": [
      "In conclusion, there were no injured people in this accident.\n"
     ]
    }
   ],
   "source": [
    "answer = azure_openai(\"What are the injured people\")\n",
    "print(answer)"
   ]
  },
  {
   "cell_type": "code",
   "execution_count": 15,
   "id": "b6bf61c7",
   "metadata": {},
   "outputs": [],
   "source": [
    "prompt = \"\"\"\n",
    "you must extract the following information from the phone conversation below:\n",
    "1.\n",
    "Call reason (key: reason)\n",
    "2.\n",
    "Cause of the incident (key: cause)\n",
    "3.\n",
    "Names of all drivers as an array (key:\n",
    "driver_names\n",
    "4.\n",
    "Insurance number (key:\n",
    "insurance_number\n",
    "5.\n",
    "Accident location (key: location)\n",
    "6.\n",
    "Car damages as an array (key: damages)\n",
    "7.\n",
    "Sentiment of the customer (key:\n",
    "customer_sentiment ) 8.Customer's condition after the\n",
    "incident (key: customer_condition\n",
    "8.\n",
    "Injured people, names as an array if any, or 'No' if no one injured (key:\n",
    "injured_persons\n",
    "9.\n",
    "Topics, very short, asked by the agent to the customer as an array (key:\n",
    "agent_questions\n",
    "10.\n",
    "A short, yet detailed summary (key: summary)\n",
    "Make sure fields 1 to 6 are answered very short,\n",
    "e.g. for location just say the location name.\n",
    "Please answer in JSON machine readable format, using the keys from above. Format the\n",
    "output as JSON object called \"results\". Pretty print the JSON and make sure that is properly\n",
    "closed at the end.\n",
    "\"\"\""
   ]
  },
  {
   "cell_type": "code",
   "execution_count": 16,
   "id": "850f8eb0",
   "metadata": {},
   "outputs": [
    {
     "name": "stdout",
     "output_type": "stream",
     "text": [
      "results: {\n",
      "  \"reason\": \"to report a car accident\",\n",
      "  \"cause\": \"hitting a pothole\",\n",
      "  \"driver_names\": [\"Sarah Standl\", \"John Radley\"],\n",
      "  \"insurance_number\": 546452,\n",
      "  \"location\": \"M23 near junction 10\",\n",
      "  \"damages\": [\"Headlights broken\", \"Airbags went off\"],\n",
      "  \"customer_sentiment\": \"shaken up\",\n",
      "  \"customer_condition\": \"not able to drive the car\",\n",
      "  \"injured_persons\": \"No\",\n",
      "  \"agent_questions\": [\"full name\", \"what caused the accident\", \"accident location\", \"other drivers information\", \"insurance policy number\", \"damage to the car\"],\n",
      "  \"summary\": \"Sarah Standl had a car accident on the M23 near junction 10, they hit a pothole and the headlights were broken and the airbags went off. Another driver, John Radley, was involved but nobody was injured. The insurance policy number was provided and Sarah won’t be able to drive the car, so a tow van was ordered. The claim process was started.\"\n",
      "  }\n"
     ]
    }
   ],
   "source": [
    "answer = azure_openai(prompt)\n",
    "print(answer)"
   ]
  },
  {
   "cell_type": "code",
   "execution_count": null,
   "id": "f846d82b",
   "metadata": {},
   "outputs": [],
   "source": []
  }
 ],
 "metadata": {
  "kernelspec": {
   "display_name": "Python 3.10 - SDK v2",
   "language": "python",
   "name": "python310-sdkv2"
  },
  "language_info": {
   "codemirror_mode": {
    "name": "ipython",
    "version": 3
   },
   "file_extension": ".py",
   "mimetype": "text/x-python",
   "name": "python",
   "nbconvert_exporter": "python",
   "pygments_lexer": "ipython3",
   "version": "3.10.10"
  }
 },
 "nbformat": 4,
 "nbformat_minor": 5
}
