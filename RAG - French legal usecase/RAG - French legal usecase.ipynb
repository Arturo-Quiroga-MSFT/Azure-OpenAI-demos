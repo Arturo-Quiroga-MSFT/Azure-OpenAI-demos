{
 "cells": [
  {
   "cell_type": "markdown",
   "id": "b47c7e94",
   "metadata": {},
   "source": [
    "# RAG application with Azure Open AI & Azure Cognitive Search\n",
    "## French legal usecase\n",
    "\n",
    "<img src=\"https://github.com/retkowsky/images/blob/master/azure_openai_logo.png?raw=true\" width=400>\n",
    "\n",
    "### Objective\n",
    "Let's build an application that will analyse **legal PDF documents using a RAG application.**\n",
    "\n",
    "**Retrieval-Augmented Generation (RAG)** can exhibit variability in its implementation, but at a fundamental level, employing RAG within an AI-driven application involves the following sequential steps:\n",
    "\n",
    "- The user submits a query or question.\n",
    "- The system initiates a search for pertinent documents that hold the potential to address the user's query. These documents are often comprised of proprietary data and are maintained within a document index.\n",
    "- The system formulates an instruction set for the Language Model (LLM) that encompasses the user's input, the identified relevant documents, and directives on how to utilize these documents to respond to the user's query effectively.\n",
    "- The system transmits this comprehensive prompt to the Language Model.\n",
    "- The Language Model processes the prompt and generates a response to the user's question, drawing upon the context provided. This response constitutes the output of our system.\n",
    "\n",
    "### Steps\n",
    "- Uploading PDF documents into an Azure Cognitive Search Index\n",
    "- Use of some Azure Cognitive Search queries to get some answers\n",
    "- Use a GPT model to analyse the answer (summmary, keywords generation)\n",
    "- Get the text from the document and the reference to validate the proposed answer\n",
    "- Chatbot experience using Azure Open AI to ask questions and get results provided by AI with references\n",
    "\n",
    "### Process\n",
    "<img src=\"https://github.com/retkowsky/images/blob/master/rag.png?raw=true\" width=800>"
   ]
  },
  {
   "cell_type": "code",
   "execution_count": 1,
   "id": "e74c6097",
   "metadata": {},
   "outputs": [],
   "source": [
    "# %pip install azure-search-documents==11.4.0b8"
   ]
  },
  {
   "cell_type": "code",
   "execution_count": 2,
   "id": "f2418c4f",
   "metadata": {},
   "outputs": [],
   "source": [
    "#import azure.cognitiveservices.speech as speechsdk\n",
    "import datetime\n",
    "import gradio as gr\n",
    "#import json\n",
    "import langchain\n",
    "import openai\n",
    "import os\n",
    "import sys\n",
    "import time\n",
    "\n",
    "from azure_rag import (\n",
    "    get_storage_info,\n",
    "    get_stats_from_pdf_file,\n",
    "    delete_index,\n",
    "    ask_gpt,\n",
    "    index_status,\n",
    "    index_stats,\n",
    "    openai_text_embeddings,\n",
    "    #chunking,\n",
    "    upload_docs,\n",
    "    similarity_comparison,\n",
    "    azure_openai,\n",
    "    ask_your_own_data,\n",
    ")\n",
    "from dotenv import load_dotenv\n",
    "from langchain.embeddings.openai import OpenAIEmbeddings\n",
    "from langchain.vectorstores.azuresearch import AzureSearch"
   ]
  },
  {
   "cell_type": "code",
   "execution_count": 3,
   "id": "74f9e788",
   "metadata": {},
   "outputs": [
    {
     "name": "stdout",
     "output_type": "stream",
     "text": [
      "Today: 31-Oct-2023 04:29:56\n"
     ]
    }
   ],
   "source": [
    "print(f\"Today: {datetime.datetime.today().strftime('%d-%b-%Y %H:%M:%S')}\")"
   ]
  },
  {
   "cell_type": "code",
   "execution_count": 4,
   "id": "fef2b905",
   "metadata": {},
   "outputs": [
    {
     "name": "stdout",
     "output_type": "stream",
     "text": [
      "Total storage: 126.8 GB\n",
      "- Used: 115.8 GB    91.37%\n",
      "- Free: 10.9 GB     8.62%\n"
     ]
    }
   ],
   "source": [
    "get_storage_info()"
   ]
  },
  {
   "cell_type": "markdown",
   "id": "e85352de",
   "metadata": {},
   "source": [
    "## 1. Settings"
   ]
  },
  {
   "cell_type": "code",
   "execution_count": 5,
   "id": "899cc911",
   "metadata": {},
   "outputs": [
    {
     "name": "stdout",
     "output_type": "stream",
     "text": [
      "Python version: 3.10.10 (main, Mar 21 2023, 18:45:11) [GCC 11.2.0]\n",
      "OpenAI version: 0.28.1\n",
      "Langchain version: 0.0.300\n"
     ]
    }
   ],
   "source": [
    "print(f\"Python version: {sys.version}\")\n",
    "print(f\"OpenAI version: {openai.__version__}\")\n",
    "print(f\"Langchain version: {langchain.__version__}\")"
   ]
  },
  {
   "cell_type": "code",
   "execution_count": 6,
   "id": "9e78ac6a",
   "metadata": {},
   "outputs": [],
   "source": [
    "load_dotenv(\"azure.env\")\n",
    "\n",
    "# Azure Open AI\n",
    "openai.api_type: str = \"azure\"\n",
    "openai.api_key = os.getenv(\"OPENAI_API_KEY\")\n",
    "openai.api_base = os.getenv(\"OPENAI_API_BASE\")\n",
    "openai.api_version = os.getenv(\"OPENAI_API_VERSION\")\n",
    "\n",
    "# Azure Cognitive Search\n",
    "azure_cs_endpoint = os.getenv(\"AZURE_COGNITIVE_SEARCH_ENDPOINT\")\n",
    "azure_cs_key = os.getenv(\"AZURE_COGNITIVE_SEARCH_API_KEY\")"
   ]
  },
  {
   "cell_type": "code",
   "execution_count": 7,
   "id": "54d08bd9",
   "metadata": {},
   "outputs": [],
   "source": [
    "# Azure Open AI models (Should be deployed on your Azure OpenAI studio)\n",
    "embed_model: str = \"text-embedding-ada-002\"  # Embedding model\n",
    "gptmodel: str = \"gpt-35-turbo-16k\"  # GPT Model\n",
    "\n",
    "# Azure Cognitive search index\n",
    "index_name: str = \"french-penal-code-rag\""
   ]
  },
  {
   "cell_type": "code",
   "execution_count": 8,
   "id": "125ff821",
   "metadata": {},
   "outputs": [
    {
     "name": "stdout",
     "output_type": "stream",
     "text": [
      "We will use text-embedding-ada-002 as the embedding model and gpt-35-turbo-16k as the Azure Open AI model\n"
     ]
    }
   ],
   "source": [
    "print(\n",
    "    f\"We will use {embed_model} as the embedding model and {gptmodel} as the Azure Open AI model\"\n",
    ")"
   ]
  },
  {
   "cell_type": "code",
   "execution_count": 9,
   "id": "492c6f5e",
   "metadata": {},
   "outputs": [
    {
     "name": "stdout",
     "output_type": "stream",
     "text": [
      "We will create the Azure Cognitive Search index: french-penal-code-rag\n"
     ]
    }
   ],
   "source": [
    "print(f\"We will create the Azure Cognitive Search index: {index_name}\")"
   ]
  },
  {
   "cell_type": "markdown",
   "id": "2e36bdf4",
   "metadata": {},
   "source": [
    "## 2. PDF documents"
   ]
  },
  {
   "cell_type": "code",
   "execution_count": 10,
   "id": "7f1e8812",
   "metadata": {},
   "outputs": [
    {
     "data": {
      "text/plain": [
       "['code_justice_penale_mineurs.pdf',\n",
       " 'code_penal.pdf',\n",
       " 'code_procedure_penale.pdf',\n",
       " 'Introduction_au_droit.pdf']"
      ]
     },
     "execution_count": 10,
     "metadata": {},
     "output_type": "execute_result"
    }
   ],
   "source": [
    "PDF_DIR = \"documents\"\n",
    "\n",
    "pdf_files = [file for file in os.listdir(PDF_DIR) if file.lower().endswith(\".pdf\")]\n",
    "pdf_files"
   ]
  },
  {
   "cell_type": "code",
   "execution_count": 11,
   "id": "bb6d8916",
   "metadata": {},
   "outputs": [
    {
     "name": "stdout",
     "output_type": "stream",
     "text": [
      "-rwxrwxrwx 1 root root 289K Oct 26 07:16 documents/Introduction_au_droit.pdf\r\n",
      "-rwxrwxrwx 1 root root 2.9M Oct 26 07:16 documents/code_justice_penale_mineurs.pdf\r\n",
      "-rwxrwxrwx 1 root root 6.0M Oct 26 07:16 documents/code_penal.pdf\r\n",
      "-rwxrwxrwx 1 root root  20M Oct 26 07:16 documents/code_procedure_penale.pdf\r\n"
     ]
    }
   ],
   "source": [
    "!ls $PDF_DIR/*.pdf -lh"
   ]
  },
  {
   "cell_type": "markdown",
   "id": "466d6eff",
   "metadata": {},
   "source": [
    "## 3. Loading the French PDF documents"
   ]
  },
  {
   "cell_type": "markdown",
   "id": "df6799f2",
   "metadata": {},
   "source": [
    "We will chunk our PDF documents, do the embeddings and save the content into Azure Cognitive Search"
   ]
  },
  {
   "cell_type": "code",
   "execution_count": 12,
   "id": "da1d4410",
   "metadata": {},
   "outputs": [
    {
     "data": {
      "text/plain": [
       "'text-embedding-ada-002'"
      ]
     },
     "execution_count": 12,
     "metadata": {},
     "output_type": "execute_result"
    }
   ],
   "source": [
    "embed_model"
   ]
  },
  {
   "cell_type": "code",
   "execution_count": 15,
   "id": "4c463b57",
   "metadata": {},
   "outputs": [],
   "source": [
    "# Embeddings engine\n",
    "embeddings: OpenAIEmbeddings = OpenAIEmbeddings(engine=embed_model)"
   ]
  },
  {
   "cell_type": "code",
   "execution_count": 14,
   "id": "dca2ac72",
   "metadata": {},
   "outputs": [],
   "source": [
    "# Azure Cognitive Search as the vector store\n",
    "vector_store: AzureSearch = AzureSearch(\n",
    "    azure_search_endpoint=azure_cs_endpoint,\n",
    "    azure_search_key=azure_cs_key,\n",
    "    index_name=index_name,\n",
    "    embedding_function=embeddings.embed_query,\n",
    ")"
   ]
  },
  {
   "cell_type": "markdown",
   "id": "4fa34ab7",
   "metadata": {},
   "source": [
    "### Testing the Azure GPT model"
   ]
  },
  {
   "cell_type": "code",
   "execution_count": 16,
   "id": "68d5327d",
   "metadata": {},
   "outputs": [
    {
     "name": "stdout",
     "output_type": "stream",
     "text": [
      "Hello! How can I assist you today? [{'role': 'user', 'content': 'Hello'}]\n"
     ]
    }
   ],
   "source": [
    "messages_history = []\n",
    "messages_history = ask_gpt(\"Hello\", messages_history, gptmodel)"
   ]
  },
  {
   "cell_type": "code",
   "execution_count": 17,
   "id": "638560fa",
   "metadata": {},
   "outputs": [
    {
     "name": "stdout",
     "output_type": "stream",
     "text": [
      "As an AI, I can do a variety of things. I can answer questions, provide information, help with tasks such as setting reminders or timers, play games, engage in conversation, offer suggestions, and much more. Is there something specific you would like assistance with? [{'role': 'user', 'content': 'Hello'}, {'role': 'user', 'content': 'What can you do?'}]\n"
     ]
    }
   ],
   "source": [
    "messages_history = ask_gpt(\"What can you do?\", messages_history, gptmodel)"
   ]
  },
  {
   "cell_type": "markdown",
   "id": "995eadec",
   "metadata": {},
   "source": [
    "### Testing the embedded model"
   ]
  },
  {
   "cell_type": "code",
   "execution_count": 18,
   "id": "cc95764b",
   "metadata": {},
   "outputs": [],
   "source": [
    "prompt1 = \"My name is James Bond\"\n",
    "prompt2 = \"Ian Fleming\"\n",
    "prompt3 = \"Azure Open AI\""
   ]
  },
  {
   "cell_type": "code",
   "execution_count": 19,
   "id": "d9d0c724",
   "metadata": {},
   "outputs": [],
   "source": [
    "emb1 = openai_text_embeddings(prompt1, embed_model)\n",
    "emb2 = openai_text_embeddings(prompt2, embed_model)\n",
    "emb3 = openai_text_embeddings(prompt3, embed_model)"
   ]
  },
  {
   "cell_type": "code",
   "execution_count": 20,
   "id": "85f2cb05",
   "metadata": {},
   "outputs": [
    {
     "data": {
      "text/plain": [
       "[-0.03617486730217934,\n",
       " -0.005520837381482124,\n",
       " -0.007070655468851328,\n",
       " -0.030174769461154938,\n",
       " 0.0020399712957441807,\n",
       " 0.029502559453248978,\n",
       " -0.016581185162067413,\n",
       " -0.010979433543980122,\n",
       " -0.024423636496067047,\n",
       " -0.006939948070794344]"
      ]
     },
     "execution_count": 20,
     "metadata": {},
     "output_type": "execute_result"
    }
   ],
   "source": [
    "emb1[:10]"
   ]
  },
  {
   "cell_type": "code",
   "execution_count": 21,
   "id": "e54d7240",
   "metadata": {},
   "outputs": [
    {
     "data": {
      "text/plain": [
       "1536"
      ]
     },
     "execution_count": 21,
     "metadata": {},
     "output_type": "execute_result"
    }
   ],
   "source": [
    "len(emb1)"
   ]
  },
  {
   "cell_type": "code",
   "execution_count": 22,
   "id": "b7b299b1",
   "metadata": {},
   "outputs": [
    {
     "name": "stdout",
     "output_type": "stream",
     "text": [
      "Similarity between: My name is James Bond and My name is James Bond\n",
      "❤️ \u001b[1;31;34mIDENTICAL text (cosine similarity = 1.0)\n"
     ]
    }
   ],
   "source": [
    "print(\"Similarity between:\", prompt1, \"and\", prompt1)\n",
    "similarity_comparison(emb1, emb1)"
   ]
  },
  {
   "cell_type": "code",
   "execution_count": 23,
   "id": "792461ee",
   "metadata": {},
   "outputs": [
    {
     "name": "stdout",
     "output_type": "stream",
     "text": [
      "Similarity between: My name is James Bond and Ian Fleming\n",
      "👍 \u001b[1;31;32mSIMILAR SEMANTIC text (cosine similarity = 0.827569536463176)\n"
     ]
    }
   ],
   "source": [
    "print(\"Similarity between:\", prompt1, \"and\", prompt2)\n",
    "similarity_comparison(emb1, emb2)"
   ]
  },
  {
   "cell_type": "code",
   "execution_count": 24,
   "id": "43b7805a",
   "metadata": {},
   "outputs": [
    {
     "name": "stdout",
     "output_type": "stream",
     "text": [
      "Similarity between: My name is James Bond and Azure Open AI\n",
      "🔥 \u001b[1;31;91mDIFFERENT text (cosine similarity = 0.719675760796164)\n"
     ]
    }
   ],
   "source": [
    "print(\"Similarity between:\", prompt1, \"and\", prompt3)\n",
    "similarity_comparison(emb1, emb3)"
   ]
  },
  {
   "cell_type": "code",
   "execution_count": 25,
   "id": "446894d1",
   "metadata": {},
   "outputs": [
    {
     "name": "stdout",
     "output_type": "stream",
     "text": [
      "Similarity between: Ian Fleming and Azure Open AI\n",
      "🔥 \u001b[1;31;91mDIFFERENT text (cosine similarity = 0.727620333588871)\n"
     ]
    }
   ],
   "source": [
    "print(\"Similarity between:\", prompt2, \"and\", prompt3)\n",
    "similarity_comparison(emb2, emb3)"
   ]
  },
  {
   "cell_type": "markdown",
   "id": "28db2ba6",
   "metadata": {},
   "source": [
    "### Processing the PDF docs"
   ]
  },
  {
   "cell_type": "code",
   "execution_count": 26,
   "id": "472f813d",
   "metadata": {},
   "outputs": [
    {
     "name": "stdout",
     "output_type": "stream",
     "text": [
      "total 29M\r\n",
      "-rwxrwxrwx 1 root root 289K Oct 26 07:16 Introduction_au_droit.pdf\r\n",
      "-rwxrwxrwx 1 root root 2.9M Oct 26 07:16 code_justice_penale_mineurs.pdf\r\n",
      "-rwxrwxrwx 1 root root 6.0M Oct 26 07:16 code_penal.pdf\r\n",
      "-rwxrwxrwx 1 root root  20M Oct 26 07:16 code_procedure_penale.pdf\r\n"
     ]
    }
   ],
   "source": [
    "!ls $PDF_DIR -lh"
   ]
  },
  {
   "cell_type": "code",
   "execution_count": 27,
   "id": "f213fb0e",
   "metadata": {},
   "outputs": [
    {
     "name": "stdout",
     "output_type": "stream",
     "text": [
      "-rwxrwxrwx 1 root root 2.9M Oct 26 07:16 documents/code_justice_penale_mineurs.pdf\n",
      "documents/code_justice_penale_mineurs.pdf:\n",
      "- Number of pages = 166\n",
      "- Number of words = 69698        \n",
      "- Number of tokens = 141485\n",
      "\n",
      "-rwxrwxrwx 1 root root 6.0M Oct 26 07:16 documents/code_penal.pdf\n",
      "documents/code_penal.pdf:\n",
      "- Number of pages = 419\n",
      "- Number of words = 180511        \n",
      "- Number of tokens = 364049\n",
      "\n",
      "-rwxrwxrwx 1 root root 20M Oct 26 07:16 documents/code_procedure_penale.pdf\n",
      "documents/code_procedure_penale.pdf:\n",
      "- Number of pages = 1683\n",
      "- Number of words = 702687        \n",
      "- Number of tokens = 1385267\n",
      "\n",
      "-rwxrwxrwx 1 root root 289K Oct 26 07:16 documents/Introduction_au_droit.pdf\n",
      "documents/Introduction_au_droit.pdf:\n",
      "- Number of pages = 144\n",
      "- Number of words = 57925        \n",
      "- Number of tokens = 102209\n",
      "\n"
     ]
    }
   ],
   "source": [
    "for i in range(len(pdf_files)):\n",
    "    # Getting stats for each file\n",
    "    filepath = os.path.join(PDF_DIR, pdf_files[i])\n",
    "    !ls $filepath -lh\n",
    "    get_stats_from_pdf_file(filepath)"
   ]
  },
  {
   "cell_type": "code",
   "execution_count": 28,
   "id": "03ef6566",
   "metadata": {},
   "outputs": [
    {
     "name": "stdout",
     "output_type": "stream",
     "text": [
      "Documents processing...\n",
      "\n",
      "Uploading file 1\n",
      "Processing the document documents/code_justice_penale_mineurs.pdf\n",
      "Chunking the document...\n",
      "Loading the embeddings into Azure Cognitive Search...\n",
      "Done\n",
      "\n",
      "Uploading file 2\n",
      "Processing the document documents/code_penal.pdf\n",
      "Chunking the document...\n",
      "Loading the embeddings into Azure Cognitive Search...\n",
      "Done\n",
      "\n",
      "Uploading file 3\n",
      "Processing the document documents/code_procedure_penale.pdf\n",
      "Chunking the document...\n",
      "Loading the embeddings into Azure Cognitive Search...\n"
     ]
    },
    {
     "name": "stderr",
     "output_type": "stream",
     "text": [
      "Retrying langchain.embeddings.openai.embed_with_retry.<locals>._embed_with_retry in 4.0 seconds as it raised RateLimitError: Requests to the Get a vector representation of a given input that can be easily consumed by machine learning models and algorithms. Operation under Azure OpenAI API version 2023-05-15 have exceeded call rate limit of your current OpenAI S0 pricing tier. Please retry after 9 seconds. Please go here: https://aka.ms/oai/quotaincrease if you would like to further increase the default rate limit..\n",
      "Retrying langchain.embeddings.openai.embed_with_retry.<locals>._embed_with_retry in 4.0 seconds as it raised RateLimitError: Requests to the Get a vector representation of a given input that can be easily consumed by machine learning models and algorithms. Operation under Azure OpenAI API version 2023-05-15 have exceeded call rate limit of your current OpenAI S0 pricing tier. Please retry after 5 seconds. Please go here: https://aka.ms/oai/quotaincrease if you would like to further increase the default rate limit..\n",
      "Retrying langchain.embeddings.openai.embed_with_retry.<locals>._embed_with_retry in 4.0 seconds as it raised RateLimitError: Requests to the Get a vector representation of a given input that can be easily consumed by machine learning models and algorithms. Operation under Azure OpenAI API version 2023-05-15 have exceeded call rate limit of your current OpenAI S0 pricing tier. Please retry after 1 second. Please go here: https://aka.ms/oai/quotaincrease if you would like to further increase the default rate limit..\n",
      "Retrying langchain.embeddings.openai.embed_with_retry.<locals>._embed_with_retry in 4.0 seconds as it raised RateLimitError: Requests to the Get a vector representation of a given input that can be easily consumed by machine learning models and algorithms. Operation under Azure OpenAI API version 2023-05-15 have exceeded call rate limit of your current OpenAI S0 pricing tier. Please retry after 5 seconds. Please go here: https://aka.ms/oai/quotaincrease if you would like to further increase the default rate limit..\n",
      "Retrying langchain.embeddings.openai.embed_with_retry.<locals>._embed_with_retry in 4.0 seconds as it raised RateLimitError: Requests to the Get a vector representation of a given input that can be easily consumed by machine learning models and algorithms. Operation under Azure OpenAI API version 2023-05-15 have exceeded call rate limit of your current OpenAI S0 pricing tier. Please retry after 1 second. Please go here: https://aka.ms/oai/quotaincrease if you would like to further increase the default rate limit..\n",
      "Retrying langchain.embeddings.openai.embed_with_retry.<locals>._embed_with_retry in 4.0 seconds as it raised RateLimitError: Requests to the Get a vector representation of a given input that can be easily consumed by machine learning models and algorithms. Operation under Azure OpenAI API version 2023-05-15 have exceeded call rate limit of your current OpenAI S0 pricing tier. Please retry after 2 seconds. Please go here: https://aka.ms/oai/quotaincrease if you would like to further increase the default rate limit..\n"
     ]
    },
    {
     "name": "stdout",
     "output_type": "stream",
     "text": [
      "Done\n",
      "\n",
      "Uploading file 4\n",
      "Processing the document documents/Introduction_au_droit.pdf\n",
      "Chunking the document...\n",
      "Loading the embeddings into Azure Cognitive Search...\n",
      "Done\n",
      "\n",
      "\n",
      "Done\n",
      "Elapsed time: 00:06:32.322322\n"
     ]
    }
   ],
   "source": [
    "start = time.time()\n",
    "print(\"Documents processing...\\n\")\n",
    "\n",
    "for i in range(len(pdf_files)):\n",
    "    print(f\"Uploading file {i + 1}\")\n",
    "    # Chunking and loading into the Azure Cognitive Search index\n",
    "    upload_docs(PDF_DIR, pdf_files[i], vector_store)\n",
    "    time.sleep(5)\n",
    "\n",
    "elapsed = time.time() - start\n",
    "print(\"\\nDone\")\n",
    "print(\n",
    "    \"Elapsed time: \"\n",
    "    + time.strftime(\n",
    "        \"%H:%M:%S.{}\".format(str(elapsed % 1)[2:])[:15], time.gmtime(elapsed)\n",
    "    )\n",
    ")"
   ]
  },
  {
   "cell_type": "markdown",
   "id": "76fa4bfd",
   "metadata": {},
   "source": [
    "## 4. Azure Cognitive Search index status"
   ]
  },
  {
   "cell_type": "markdown",
   "id": "14d357cd",
   "metadata": {},
   "source": [
    "Our index is available and ready to use"
   ]
  },
  {
   "cell_type": "code",
   "execution_count": 29,
   "id": "b0e995b6",
   "metadata": {},
   "outputs": [
    {
     "name": "stdout",
     "output_type": "stream",
     "text": [
      "Azure Cognitive Search index = french-penal-code-rag\n"
     ]
    }
   ],
   "source": [
    "print(f\"Azure Cognitive Search index = {index_name}\")"
   ]
  },
  {
   "cell_type": "code",
   "execution_count": 30,
   "id": "b845abec",
   "metadata": {},
   "outputs": [
    {
     "name": "stdout",
     "output_type": "stream",
     "text": [
      "Azure Cognitive Search Index: french-penal-code-rag \n",
      "\n",
      "{\n",
      "     \"@odata.context\": \"https://azurecogsearcheastussr.search.windows.net/$metadata#indexes/$entity\",\n",
      "     \"@odata.etag\": \"\\\"0x8DBD9CA0FE2C4C2\\\"\",\n",
      "     \"name\": \"french-penal-code-rag\",\n",
      "     \"defaultScoringProfile\": null,\n",
      "     \"fields\": [\n",
      "          {\n",
      "               \"name\": \"id\",\n",
      "               \"type\": \"Edm.String\",\n",
      "               \"searchable\": false,\n",
      "               \"filterable\": true,\n",
      "               \"retrievable\": true,\n",
      "               \"sortable\": false,\n",
      "               \"facetable\": false,\n",
      "               \"key\": true,\n",
      "               \"indexAnalyzer\": null,\n",
      "               \"searchAnalyzer\": null,\n",
      "               \"analyzer\": null,\n",
      "               \"normalizer\": null,\n",
      "               \"synonymMaps\": []\n",
      "          },\n",
      "          {\n",
      "               \"name\": \"content\",\n",
      "               \"type\": \"Edm.String\",\n",
      "               \"searchable\": true,\n",
      "               \"filterable\": false,\n",
      "               \"retrievable\": true,\n",
      "               \"sortable\": false,\n",
      "               \"facetable\": false,\n",
      "               \"key\": false,\n",
      "               \"indexAnalyzer\": null,\n",
      "               \"searchAnalyzer\": null,\n",
      "               \"analyzer\": null,\n",
      "               \"normalizer\": null,\n",
      "               \"synonymMaps\": []\n",
      "          },\n",
      "          {\n",
      "               \"name\": \"content_vector\",\n",
      "               \"type\": \"Collection(Edm.Single)\",\n",
      "               \"searchable\": true,\n",
      "               \"filterable\": false,\n",
      "               \"retrievable\": true,\n",
      "               \"sortable\": false,\n",
      "               \"facetable\": false,\n",
      "               \"key\": false,\n",
      "               \"indexAnalyzer\": null,\n",
      "               \"searchAnalyzer\": null,\n",
      "               \"analyzer\": null,\n",
      "               \"normalizer\": null,\n",
      "               \"synonymMaps\": []\n",
      "          },\n",
      "          {\n",
      "               \"name\": \"metadata\",\n",
      "               \"type\": \"Edm.String\",\n",
      "               \"searchable\": true,\n",
      "               \"filterable\": false,\n",
      "               \"retrievable\": true,\n",
      "               \"sortable\": false,\n",
      "               \"facetable\": false,\n",
      "               \"key\": false,\n",
      "               \"indexAnalyzer\": null,\n",
      "               \"searchAnalyzer\": null,\n",
      "               \"analyzer\": null,\n",
      "               \"normalizer\": null,\n",
      "               \"synonymMaps\": []\n",
      "          }\n",
      "     ],\n",
      "     \"scoringProfiles\": [],\n",
      "     \"corsOptions\": null,\n",
      "     \"suggesters\": [],\n",
      "     \"analyzers\": [],\n",
      "     \"normalizers\": [],\n",
      "     \"tokenizers\": [],\n",
      "     \"tokenFilters\": [],\n",
      "     \"charFilters\": [],\n",
      "     \"encryptionKey\": null,\n",
      "     \"similarity\": {\n",
      "          \"@odata.type\": \"#Microsoft.Azure.Search.BM25Similarity\",\n",
      "          \"k1\": null,\n",
      "          \"b\": null\n",
      "     },\n",
      "     \"semantic\": null\n",
      "}\n"
     ]
    }
   ],
   "source": [
    "index_status(index_name, azure_cs_endpoint, azure_cs_key)"
   ]
  },
  {
   "cell_type": "code",
   "execution_count": 31,
   "id": "391bd333",
   "metadata": {},
   "outputs": [
    {
     "name": "stdout",
     "output_type": "stream",
     "text": [
      "Azure Cognitive Search index status for: french-penal-code-rag \n",
      "\n",
      "{\n",
      "  \"@odata.context\": \"https://azurecogsearcheastussr.search.windows.net/$metadata#Microsoft.Azure.Search.V2021_04_30_Preview.IndexStatistics\",\n",
      "  \"documentCount\": 493,\n",
      "  \"storageSize\": 15082473\n",
      "}\n"
     ]
    }
   ],
   "source": [
    "document_count, storage_size = index_stats(index_name, azure_cs_endpoint, azure_cs_key)"
   ]
  },
  {
   "cell_type": "code",
   "execution_count": 32,
   "id": "a6dbc599",
   "metadata": {},
   "outputs": [
    {
     "name": "stdout",
     "output_type": "stream",
     "text": [
      "Number of documents in the index = 493\n",
      "Size of the index = 14.38 MB\n"
     ]
    }
   ],
   "source": [
    "print(f\"Number of documents in the index = {document_count}\")\n",
    "print(f\"Size of the index = {round(storage_size / (1024 * 1024), 2)} MB\")"
   ]
  },
  {
   "cell_type": "markdown",
   "id": "b35ee313",
   "metadata": {},
   "source": [
    "## 5. Search with Azure Open AI"
   ]
  },
  {
   "cell_type": "markdown",
   "id": "2d9c59de",
   "metadata": {},
   "source": [
    "### 5.1 Testing"
   ]
  },
  {
   "cell_type": "code",
   "execution_count": 39,
   "id": "a4dee649",
   "metadata": {},
   "outputs": [
    {
     "data": {
      "application/javascript": [
       "OutputArea.auto_scroll_threshold = 9999\n"
      ],
      "text/plain": [
       "<IPython.core.display.Javascript object>"
      ]
     },
     "metadata": {},
     "output_type": "display_data"
    }
   ],
   "source": [
    "%%javascript Python\n",
    "OutputArea.auto_scroll_threshold = 9999"
   ]
  },
  {
   "cell_type": "markdown",
   "id": "a95c07c5",
   "metadata": {},
   "source": [
    "This is to maximize the display output"
   ]
  },
  {
   "cell_type": "markdown",
   "id": "07767f87",
   "metadata": {},
   "source": [
    "We can do some quick tests"
   ]
  },
  {
   "cell_type": "code",
   "execution_count": 40,
   "id": "28b57c05",
   "metadata": {},
   "outputs": [
    {
     "name": "stdout",
     "output_type": "stream",
     "text": [
      "Azure OpenAI model to use: gpt-35-turbo-16k\n"
     ]
    }
   ],
   "source": [
    "print(f\"Azure OpenAI model to use: {gptmodel}\")"
   ]
  },
  {
   "cell_type": "code",
   "execution_count": 41,
   "id": "e7bd4b6b",
   "metadata": {},
   "outputs": [
    {
     "name": "stdout",
     "output_type": "stream",
     "text": [
      "I'm sorry, but I don't have access to real-time information.\n"
     ]
    }
   ],
   "source": [
    "print(azure_openai(\"What time is it?\", gptmodel))"
   ]
  },
  {
   "cell_type": "code",
   "execution_count": 42,
   "id": "bb47eeea",
   "metadata": {},
   "outputs": [
    {
     "name": "stdout",
     "output_type": "stream",
     "text": [
      "I am a legal expert assistant. I can help answer questions related to legal topics.\n"
     ]
    }
   ],
   "source": [
    "print(azure_openai(\"Who are you?\", gptmodel))"
   ]
  },
  {
   "cell_type": "code",
   "execution_count": 43,
   "id": "528042c9",
   "metadata": {},
   "outputs": [
    {
     "name": "stdout",
     "output_type": "stream",
     "text": [
      "Je suis un assistant expert en droit.\n"
     ]
    }
   ],
   "source": [
    "print(azure_openai(\"Qui es-tu?\", gptmodel))"
   ]
  },
  {
   "cell_type": "code",
   "execution_count": 44,
   "id": "d2f71887",
   "metadata": {},
   "outputs": [
    {
     "name": "stdout",
     "output_type": "stream",
     "text": [
      "I can assist you with legal information and provide answers to your legal questions based on the given context. I can extract and print article references, summarize the text, and extract keywords from the text. Please provide me with the specific context or question you would like assistance with.\n"
     ]
    }
   ],
   "source": [
    "print(azure_openai(\"What can you do for me?\", gptmodel))"
   ]
  },
  {
   "cell_type": "markdown",
   "id": "ff96cb8c",
   "metadata": {},
   "source": [
    "### 5.2 Ask your own data "
   ]
  },
  {
   "cell_type": "markdown",
   "id": "e1e4f05c",
   "metadata": {},
   "source": [
    "We can ask any questions related with the documents we have processed. You can ask in any language."
   ]
  },
  {
   "cell_type": "code",
   "execution_count": 52,
   "id": "24e6b717",
   "metadata": {},
   "outputs": [
    {
     "name": "stdout",
     "output_type": "stream",
     "text": [
      "\u001b[1;31;34m\n",
      "Azure Open AI results:\n",
      "\n",
      " 1. Articles: 62, 78-1, 78-2, 78-3-1, 55, 55-1\n",
      "2. Summary: The text discusses the conduct of criminal investigations and identity checks in the French legal system. It mentions the conditions and procedures for conducting investigations, including the questioning of witnesses and the drafting of reports. It also explains the rules for identity checks, including the reasons for conducting them and the rights of the individuals being checked. The text also mentions specific articles and decisions related to these topics.\n",
      "3. Keywords: conduct, criminal investigations, identity checks, witnesses, reports, questioning, rules, rights, articles, decisions.\n",
      "\u001b[1;31;35m\n",
      "[Note] This summary is generated by an AI (Azure Open AI). Examine and use carefully.\n",
      "\n",
      "\u001b[1;31;32mDocument reference 1:\n",
      "\n",
      "Partie législative - Livre Ier : De la conduite de la politique pénale, de l'exercice de l'action publique et de l'instruction - Titre II : Des enquêtes et des contrôles d'identité\r\n",
      "de risque de modification des preuves ou indices matériels, de pressions sur les témoins ou les victimes ainsi\r\n",
      "que sur leur famille ou leurs proches, ou de concertation entre les coauteurs ou complices de l'infraction.\r\n",
      "L'article 62 est applicable.\r\n",
      "L'officier de police judiciaire dresse procès-verbal de leurs déclarations. Les agents de police judiciaire\r\n",
      "désignés à l'article 20 peuvent également, sous le contrôle d'un officier de police judiciaire, entendre les\r\n",
      "personnes convoquées.\r\n",
      "Les procès-verbaux sont dressés dans les conditions prévues par les articles 61 et 62-1.\r\n",
      "Récemment au Bulletin de la Cour de Cassation\r\n",
      "> Crim., 18 septembre 2019, n° 18-84.885 (P) [ ECLI:FR:CCASS:2019:CR01573 ]\r\n",
      "service-public.fr\r\n",
      "> Audition des témoins au cours d'une enquête pénale : Audition lors de l'enquête préliminaire\r\n",
      "> Peut-on refuser une convocation par la police ou la gendarmerie ? : Obligation de se rendre à la convocation\r\n",
      "Chapitre III : Des contrôles, des vérifications et des relevés d'identité\r\n",
      "78-1 Loi n°99-291 du 15 avril 1999 - art. 15 () JORF 16 avril 1999 Legif. Plan Jp.C.Cass. Jp.Appel Jp.Admin. Juricaf\r\n",
      "L'application des règles prévues par le présent chapitre est soumise au contrôle des autorités judiciaires\r\n",
      "mentionnées aux articles 12 et 13.\r\n",
      "Toute personne se trouvant sur le territoire national doit accepter de se prêter à un contrôle d'identité effectué\r\n",
      "dans les conditions et par les autorités de police visées aux articles suivants.\r\n",
      "78-2 Décision n°2022-1025 QPC du 25 novembre 2022, v. init. Legif. Plan Jp.C.Cass. Jp.Appel Jp.Admin. Juricaf\r\n",
      "Les officiers de police judiciaire et, sur l'ordre et sous la responsabilité de ceux-ci, les agents de police judiciaire\r\n",
      "et agents de police judiciaire adjoints mentionnés aux articles 20 et 21-1° peuvent inviter à justifier, par\r\n",
      "tout moyen, de son identité toute personne à l'égard de laquelle existe une ou plusieurs raisons plausibles de\r\n",
      "soupçonner :\r\n",
      "-qu'elle a commis ou tenté de commettre une infraction ;\r\n",
      "-ou qu'elle se prépare à commettre un crime ou un délit ;\r\n",
      "-ou qu'elle est susceptible de fournir des renseignements utiles à l'enquête en cas de crime ou de délit ;\r\n",
      "-ou qu'elle a violé les obligations ou interdictions auxquelles elle est soumise dans le cadre d'un contrôle\r\n",
      "judiciaire, d'une mesure d'assignation à résidence avec surveillance électronique, d'une peine ou d'une mesure\r\n",
      "suivie par le juge de l'application des peines ;\r\n",
      "-ou qu'elle fait l'objet de recherches ordonnées par une autorité judiciaire.\r\n",
      "Sur réquisitions écrites du procureur de la République aux fins de recherche et de poursuite d'infractions qu'il\r\n",
      "précise, l'identité de toute personne peut être également contrôlée, selon les mêmes modalités, dans les lieux et\r\n",
      "pour une période de temps déterminés par ce magistrat. Le fait que le contrôle d'identité révèle des infractions\r\n",
      "autres que celles visées dans les réquisitions du procureur de la République ne constitue pas une cause de\r\n",
      "nullité des procédures incidentes.\r\n",
      "L'identité de toute personne, quel que soit son comportement, peut également être contrôlée, selon les modalités\r\n",
      "prévues au premier alinéa, pour prévenir une atteinte à l'ordre public, notamment à la sécurité des personnes\r\n",
      "ou des biens.\r\n",
      "Dans une zone comprise entre la frontière terrestre de la France avec les Etats parties à la convention signée\r\n",
      "à Schengen le 19 juin 1990 et une ligne tracée à 20 kilomètres en deçà, ainsi que dans les zones accessibles\r\n",
      "au public des ports, aéroports et gares ferroviaires ou routières ouverts au trafic international et désignés par\r\n",
      "arrêté et aux abords de ces gares, pour la prévention et la recherche des infractions liées à la criminalité\r\n",
      "transfrontalière, l'identité de toute personne peut également être contrôlée, selon les modalités prévues au\r\n",
      "premier alinéa, en vue de vérifier le respect des obligations de détention, de port et de présentation des titres et\r\n",
      "p.95 Code de procédure pénale\n",
      "\u001b[1;31;91m\n",
      "Document source 1: documents/code_procedure_penale.pdf Page: 95 with confidence = 0.84040016\n",
      "\n",
      "\u001b[1;31;32mDocument reference 2:\n",
      "\n",
      "Partie législative - Livre Ier : De la conduite de la politique pénale, de l'exercice de l'action publique et de l'instruction - Titre II : Des enquêtes et des contrôles d'identité\r\n",
      "vérification nécessaires. Il est aussitôt informé par l'officier de police judiciaire ou, sous le contrôle de celui￾ci, par un agent de police judiciaire de son droit de faire aviser le procureur de la République de la vérification\r\n",
      "dont il fait l'objet et de prévenir à tout moment sa famille ou toute personne de son choix. Si des circonstances\r\n",
      "particulières l'exigent, l'officier de police judiciaire ou, sous le contrôle de celui-ci, l'agent de police judiciaire\r\n",
      "prévient lui-même la famille ou la personne choisie.\r\n",
      "Lorsqu'il s'agit d'un mineur de dix-huit ans, le procureur de la République doit être informé dès le début de la\r\n",
      "rétention. Sauf impossibilité, le mineur doit être assisté de son représentant légal.\r\n",
      "La personne qui fait l'objet d'une vérification ne peut être retenue que pendant le temps strictement exigé par\r\n",
      "l'établissement de son identité. La rétention ne peut excéder quatre heures, ou huit heures à Mayotte, à compter\r\n",
      "du contrôle effectué en application de l'article 78-2 et le procureur de la République peut y mettre fin à tout\r\n",
      "moment.\r\n",
      "Si la personne interpellée maintient son refus de justifier de son identité ou fournit des éléments d'identité\r\n",
      "manifestement inexacts, les opérations de vérification peuvent donner lieu, après autorisation du procureur de\r\n",
      "la République ou du juge d'instruction, à la prise d'empreintes digitales ou de photographies lorsque celle-ci\r\n",
      "constitue l'unique moyen d'établir l'identité de l'intéressé.\r\n",
      "La prise d'empreintes ou de photographies doit être mentionnée et spécialement motivée dans le procès-verbal\r\n",
      "prévu ci-après.\r\n",
      "L'officier de police judiciaire mentionne, dans un procès-verbal, les motifs qui justifient le contrôle ainsi que la\r\n",
      "vérification d'identité, et les conditions dans lesquelles la personne a été présentée devant lui, informée de ses\r\n",
      "droits et mise en mesure de les exercer. Il précise le jour et l'heure à partir desquels le contrôle a été effectué,\r\n",
      "le jour et l'heure de la fin de la rétention et la durée de celle-ci.\r\n",
      "Ce procès-verbal est présenté à la signature de l'intéressé. Si ce dernier refuse de le signer, mention est faite\r\n",
      "du refus et des motifs de celui-ci.\r\n",
      "Le procès-verbal est transmis au procureur de la République, copie en ayant été remise à l'intéressé dans le\r\n",
      "cas prévu par l'alinéa suivant.\r\n",
      "Si elle n'est suivie à l'égard de la personne qui a été retenue d'aucune procédure d'enquête ou d'exécution\r\n",
      "adressée à l'autorité judiciaire, la vérification d'identité ne peut donner lieu à une mise en mémoire sur fichiers\r\n",
      "et le procès-verbal ainsi que toutes les pièces se rapportant à la vérification sont détruits dans un délai de six\r\n",
      "mois sous le contrôle du procureur de la République.\r\n",
      "Dans le cas où il y a lieu à procédure d'enquête ou d'exécution adressée à l'autorité judiciaire et assortie du\r\n",
      "maintien en garde à vue, la personne retenue doit être aussitôt informée de son droit de faire aviser le procureur\r\n",
      "de la République de la mesure dont elle fait l'objet.\r\n",
      "Les prescriptions énumérées au présent article sont imposées à peine de nullité.\r\n",
      "78-3-1 Ordonnance n°2018-1125 du 12 décembre 2018 - art. 16 Legif. Plan Jp.C.Cass. Jp.Appel Jp.Admin. Juricaf\r\n",
      "I. - Toute personne faisant l'objet d'un contrôle ou d'une vérification d'identité prévus au présent chapitre\r\n",
      "peut, lorsque ce contrôle ou cette vérification révèle qu'il existe des raisons sérieuses de penser que son\r\n",
      "comportement peut être lié à des activités à caractère terroriste, faire l'objet d'une retenue sur place ou dans\r\n",
      "le local de police où elle est conduite pour une vérification de sa situation par un officier de police judiciaire\r\n",
      "permettant de consulter les traitements automatisés de données à caractère personnel relevant de l'article 31 de\r\n",
      "la loi n° 78-17 du 6 janvier 1978 relative à l'informatique, aux fichiers et aux libertés, selon les règles propres\r\n",
      "à chacun de ces traitements et, le cas échéant, d'interroger les services à l'origine du signalement de l'intéressé\r\n",
      "ainsi que des organismes de coopération internationale en matière de police judiciaire ou des services de police\r\n",
      "étrangers.\r\n",
      "La retenue ne peut donner lieu à audition.\r\n",
      "Le procureur de la République territorialement compétent est informé dès le début de la retenue.\r\n",
      "II. - La personne retenue est immédiatement informée par l'officier de police judiciaire ou, sous le contrôle de\r\n",
      "celui-ci, par un agent de police judiciaire, dans une langue qu'elle comprend :\r\n",
      "1° Du fondement légal de son placement en retenue ;\r\n",
      "2° De la durée maximale de la mesure ;\r\n",
      "p.100 Code de procédure pénale\n",
      "\u001b[1;31;91m\n",
      "Document source 2: documents/code_procedure_penale.pdf Page: 100 with confidence = 0.83637625\n",
      "\n",
      "\u001b[1;31;32mDocument reference 3:\n",
      "\n",
      "Partie législative - Livre Ier : De la conduite de la politique pénale, de l'exercice de l'action publique et de l'instruction - Titre II : Des enquêtes et des contrôles d'identité\r\n",
      "> Crim., 11 décembre 2019, n° 19-82.457 (P) [ ECLI:FR:CCASS:2019:CR02540 ]\r\n",
      "54 LOI n°2010-768 du 9 juillet 2010 - art. 1 Legif. Plan Jp.C.Cass. Jp.Appel Jp.Admin. Juricaf\r\n",
      "En cas de crime flagrant, l'officier de police judiciaire qui en est avisé, informe immédiatement le procureur\r\n",
      "de la République, se transporte sans délai sur le lieu du crime et procède à toutes constatations utiles.\r\n",
      "Il veille à la conservation des indices susceptibles de disparaître et de tout ce qui peut servir à la manifestation\r\n",
      "de la vérité. Il saisit les armes et instruments qui ont servi à commettre le crime ou qui étaient destinés à le\r\n",
      "commettre ainsi que tout ce qui paraît avoir été le produit direct ou indirect de ce crime.\r\n",
      "Il représente les objets saisis, pour reconnaissance, aux personnes qui paraissent avoir participé au crime, si\r\n",
      "elles sont présentes.\r\n",
      "Circulaires et Instructions\r\n",
      "> Circulaire du 21 février 2012 relative à l’orientation en établissement pénitentiaire des personnes détenues\r\n",
      "> Circulaire du 9 janvier 2012 relative au récapitulatif sur la répartition des frais de fourrière et recommandations de nature à en réduire l’impact sur les frais de justice\r\n",
      "55 Loi n°92-1336 du 16 décembre 1992 - art. 11 () JORF 23 décembre 1992 en vigueur le 1er mars 1994 Legif. Plan Jp.C.Cass. Jp.Appel Jp.Admin. Juricaf\r\n",
      "Dans les lieux où un crime a été commis, il est interdit, sous peine de l'amende prévue pour les contraventions\r\n",
      "de la quatrième classe, à toute personne non habilitée, de modifier avant les premières opérations de l'enquête\r\n",
      "judiciaire l'état des lieux et d'y effectuer des prélèvements quelconques.\r\n",
      "Toutefois, exception est faite lorsque ces modifications ou ces prélèvements sont commandés par les exigences\r\n",
      "de la sécurité ou de la salubrité publique, ou par les soins à donner aux victimes.\r\n",
      "55-1 LOI n°2023-22 du 24 janvier 2023 - art. 20 Legif. Plan Jp.C.Cass. Jp.Appel Jp.Admin. Juricaf\r\n",
      "L'officier de police judiciaire peut procéder, ou faire procéder sous son contrôle, sur toute personne susceptible\r\n",
      "de fournir des renseignements sur les faits en cause ou sur toute personne à l'encontre de laquelle il existe une ou\r\n",
      "plusieurs raisons plausibles de soupçonner qu'elle a commis ou tenté de commettre l'infraction, aux opérations\r\n",
      "de prélèvements externes nécessaires à la réalisation d'examens techniques et scientifiques de comparaison\r\n",
      "avec les traces et indices prélevés pour les nécessités de l'enquête.\r\n",
      "Il procède, ou fait procéder sous son contrôle, aux opérations de relevés signalétiques et notamment de prise\r\n",
      "d'empreintes digitales, palmaires ou de photographies nécessaires à l'alimentation et à la consultation des\r\n",
      "fichiers de police selon les règles propres à chacun de ces fichiers.\r\n",
      "L'officier de police judiciaire peut également procéder, ou faire procéder sous son contrôle, aux opérations\r\n",
      "permettant l'enregistrement, la comparaison et l'identification des traces et des indices ainsi que des résultats\r\n",
      "des opérations de relevés signalétiques dans les fichiers mentionnés au deuxième alinéa, selon les règles propres\r\n",
      "à chacun de ces fichiers.\r\n",
      "Le refus, par une personne à l'encontre de laquelle il existe une ou plusieurs raisons plausibles de soupçonner\r\n",
      "qu'elle a commis ou tenté de commettre une infraction, de se soumettre aux opérations de prélèvement,\r\n",
      "mentionnées aux premier et deuxième alinéas ordonnées par l'officier de police judiciaire est puni d'un an\r\n",
      "d'emprisonnement et de 15 000 euros d'amende.\r\n",
      "Sans préjudice de l'application de l'avant-dernier alinéa, lorsque la prise d'empreintes digitales ou palmaires\r\n",
      "ou d'une photographie constitue l'unique moyen d'identifier une personne qui est entendue en application des\r\n",
      "articles 61-1 ou 62-2 pour un crime ou un délit puni d'au moins trois ans d'emprisonnement et qui refuse de\r\n",
      "justifier de son identité ou qui fournit des éléments d'identité manifestement inexacts, cette opération peut\r\n",
      "être effectuée sans le consentement de cette personne, sur autorisation écrite du procureur de la République\r\n",
      "saisi d'une demande motivée par l'officier de police judiciaire. L'officier de police judiciaire ou, sous son\r\n",
      "contrôle, un agent de police judiciaire recourt à la contrainte dans la mesure strictement nécessaire et de\r\n",
      "manière proportionnée. Il tient compte, s'il y a lieu, de la vulnérabilité de la personne. Cette opération fait\r\n",
      "l'objet d'un procès-verbal, qui mentionne les raisons pour lesquelles elle constitue l'unique moyen d'identifier\r\n",
      "p.68 Code de procédure pénale\n",
      "\u001b[1;31;91m\n",
      "Document source 3: documents/code_procedure_penale.pdf Page: 68 with confidence = 0.8312103\n",
      "\n"
     ]
    }
   ],
   "source": [
    "query = \"How about identity checks in criminal cases?\"\n",
    "\n",
    "ask_your_own_data(query, vector_store, gptmodel, topn=3)"
   ]
  },
  {
   "cell_type": "code",
   "execution_count": 46,
   "id": "3e7cdf71",
   "metadata": {},
   "outputs": [
    {
     "name": "stdout",
     "output_type": "stream",
     "text": [
      "\u001b[1;31;34m\n",
      "Azure Open AI results:\n",
      "\n",
      " 1. Articles: 435-7, 435-8, 435-9, 435-1, 435-2, 435-3, 445-1, 445-1-1, 445-2\n",
      "2. Summary: The text discusses various crimes related to corruption and influence trafficking. It outlines the penalties for individuals who engage in passive corruption and influence trafficking, such as soliciting or accepting offers, promises, gifts, or any other advantages to abuse their real or supposed influence. It also covers active corruption and influence trafficking, which involves offering or proposing offers, promises, gifts, or any other advantages to individuals in positions of authority or public service. The text specifies the penalties for these offenses, including imprisonment and fines. Additionally, it addresses corruption and influence trafficking by individuals who do not hold public office, but who exercise a leadership role or work for an organization. The penalties for these offenses are also outlined. \n",
      "3. Keywords: corruption, influence trafficking, passive corruption, active corruption, offers, promises, gifts, advantages, penalties, imprisonment, fines.\n",
      "\u001b[1;31;35m\n",
      "[Note] This summary is generated by an AI (Azure Open AI). Examine and use carefully.\n",
      "\n",
      "\u001b[1;31;32mDocument reference 1:\n",
      "\n",
      "Partie législative - Livre IV : Des crimes et délits contre la nation, l'Etat et la paix publique - Titre III : Des atteintes à l'autorité de l'Etat\r\n",
      "Pour la poursuite de la personne qui s'est rendue coupable sur le territoire français, comme complice, d'une\r\n",
      "infraction prévue aux articles 435-1 à 435-4 commise à l'étranger, la condition de constatation de l'infraction\r\n",
      "par une décision définitive de la juridiction étrangère prévue à l'article 113-5 n'est pas applicable.\r\n",
      "Section 2 : Des atteintes à l'action de la justice\r\n",
      "Sous-section 1 : De la corruption et du trafic d'influence passifs\r\n",
      "435-7 LOI n°2013-1117 du 6 décembre 2013 - art. 6 Legif. Plan Jp.C.Cass. Jp.Appel Jp.Admin. Juricaf\r\n",
      "Est puni de dix ans d'emprisonnement et d'une amende de 1 000 000 €, dont le montant peut être porté au\r\n",
      "double du produit tiré de l'infraction, le fait, par :\r\n",
      "1° Toute personne exerçant des fonctions juridictionnelles dans un Etat étranger ou au sein ou auprès d'une\r\n",
      "cour internationale ;\r\n",
      "2° Tout fonctionnaire au greffe d'une juridiction étrangère ou d'une cour internationale ;\r\n",
      "3° Tout expert nommé par une telle juridiction ou une telle cour ou par les parties ;\r\n",
      "4° Toute personne chargée d'une mission de conciliation ou de médiation par une telle juridiction ou par une\r\n",
      "telle cour ;\r\n",
      "5° Tout arbitre exerçant sa mission sous l'empire du droit d'un Etat étranger sur l'arbitrage,\r\n",
      "de solliciter ou d'agréer, sans droit, à tout moment, directement ou indirectement, des offres, des promesses,\r\n",
      "des dons, des présents ou des avantages quelconques, pour lui-même ou pour autrui, pour accomplir ou avoir\r\n",
      "accompli, pour s'abstenir ou s'être abstenu d'accomplir un acte de sa fonction ou facilité par sa fonction.\r\n",
      "435-8 LOI n°2013-1117 du 6 décembre 2013 - art. 6 Legif. Plan Jp.C.Cass. Jp.Appel Jp.Admin. Juricaf\r\n",
      "Est puni de cinq ans d'emprisonnement et d'une amende de 500 000 €, dont le montant peut être porté au double\r\n",
      "du produit tiré de l'infraction, le fait, par quiconque, de solliciter ou d'agréer, à tout moment, directement ou\r\n",
      "indirectement, des offres, des promesses, des dons, des présents ou des avantages quelconques, pour lui-même\r\n",
      "ou pour autrui, pour abuser ou avoir abusé de son influence réelle ou supposée en vue de faire obtenir toute\r\n",
      "décision ou tout avis favorable d'une personne visée à l'article 435-7, lorsqu'elle exerce ses fonctions au sein\r\n",
      "ou auprès d'une cour internationale ou lorsqu'elle est nommée par une telle cour.\r\n",
      "Sous-section 2 : De la corruption et du trafic d'influence actifs\r\n",
      "435-9 LOI n°2013-1117 du 6 décembre 2013 - art. 6 Legif. Plan Jp.C.Cass. Jp.Appel Jp.Admin. Juricaf\r\n",
      "Est puni de dix ans d'emprisonnement et d'une amende de 1 000 000 €, dont le montant peut être porté au\r\n",
      "double du produit tiré de l'infraction, le fait, par quiconque, de proposer, sans droit, à tout moment, directement\r\n",
      "ou indirectement, à :\r\n",
      "1° Toute personne exerçant des fonctions juridictionnelles dans un Etat étranger ou au sein ou auprès d'une\r\n",
      "cour internationale ;\r\n",
      "2° Tout fonctionnaire au greffe d'une juridiction étrangère ou d'une cour internationale ;\r\n",
      "3° Tout expert nommé par une telle juridiction ou une telle cour ou par les parties ;\r\n",
      "4° Toute personne chargée d'une mission de conciliation ou de médiation par une telle juridiction ou une telle\r\n",
      "cour ;\r\n",
      "p.249 Code pénal\n",
      "\u001b[1;31;91m\n",
      "Document source 1: documents/code_penal.pdf Page: 249 with confidence = 0.8704207\n",
      "\n",
      "\u001b[1;31;32mDocument reference 2:\n",
      "\n",
      "Partie législative - Livre IV : Des crimes et délits contre la nation, l'Etat et la paix publique - Titre III : Des atteintes à l'autorité de l'Etat\r\n",
      "Etats membres de l'Union européenne, des autres Etats\r\n",
      "étrangers et des autres organisations internationales publiques\r\n",
      "Section 1 : Des atteintes à l'administration publique\r\n",
      "Sous-section 1 : De la corruption et du trafic d'influence passifs\r\n",
      "435-1 LOI n°2020-1672 du 24 décembre 2020 - art. 30 (V) Legif. Plan Jp.C.Cass. Jp.Appel Jp.Admin. Juricaf\r\n",
      "Est puni de dix ans d'emprisonnement et d'une amende de 1 000 000 €, dont le montant peut être porté au double\r\n",
      "du produit tiré de l'infraction, le fait, par une personne dépositaire de l'autorité publique, chargée d'une mission\r\n",
      "de service public ou investie d'un mandat électif public dans un Etat étranger ou au sein d'une organisation\r\n",
      "internationale publique, de solliciter ou d'agréer, sans droit, à tout moment, directement ou indirectement, des\r\n",
      "offres, des promesses, des dons, des présents ou des avantages quelconques, pour elle-même ou pour autrui,\r\n",
      "pour accomplir ou avoir accompli, pour s'abstenir ou s'être abstenue d'accomplir un acte de sa fonction, de sa\r\n",
      "mission ou de son mandat ou facilité par sa fonction, sa mission ou son mandat.\r\n",
      "La peine d'amende est portée à 2 000 000 € ou, s'il excède ce montant, au double du produit de l'infraction,\r\n",
      "lorsque les infractions prévues au présent article sont commises en bande organisée.\r\n",
      "435-2 LOI n°2016-1691 du 9 décembre 2016 - art. 20 Legif. Plan Jp.C.Cass. Jp.Appel Jp.Admin. Juricaf\r\n",
      "Est puni de cinq ans d'emprisonnement et d'une amende de 500 000 €, dont le montant peut être porté au double\r\n",
      "du produit tiré de l'infraction, le fait, par quiconque, de solliciter ou d'agréer, à tout moment, directement ou\r\n",
      "indirectement, des offres, des promesses, des dons, des présents ou des avantages quelconques, pour lui-même\r\n",
      "ou pour autrui, pour abuser ou avoir abusé de son influence réelle ou supposée en vue de faire obtenir des\r\n",
      "distinctions, des emplois, des marchés ou toute autre décision favorable d'une personne dépositaire de l'autorité\r\n",
      "publique, chargée d'une mission de service public ou investie d'un mandat électif public dans un Etat étranger\r\n",
      "ou au sein d'une organisation internationale publique.\r\n",
      "Sous-section 2 : De la corruption et du trafic d'influence actifs\r\n",
      "435-3 LOI n°2020-1672 du 24 décembre 2020 - art. 30 (V) Legif. Plan Jp.C.Cass. Jp.Appel Jp.Admin. Juricaf\r\n",
      "Est puni de dix ans d'emprisonnement et d'une amende de 1 000 000 €, dont le montant peut être porté au\r\n",
      "double du produit tiré de l'infraction, le fait, par quiconque, de proposer, sans droit, à tout moment, directement\r\n",
      "ou indirectement, à une personne dépositaire de l'autorité publique, chargée d'une mission de service public ou\r\n",
      "investie d'un mandat électif public dans un Etat étranger ou au sein d'une organisation internationale publique,\r\n",
      "des offres, des promesses, des dons, des présents ou des avantages quelconques, pour elle-même ou pour autrui,\r\n",
      "pour qu'elle accomplisse ou s'abstienne d'accomplir, ou parce qu'elle a accompli ou s'est abstenue d'accomplir\r\n",
      "un acte de sa fonction, de sa mission ou de son mandat, ou facilité par sa fonction, sa mission ou son mandat.\r\n",
      "Est puni des mêmes peines le fait, par quiconque, de céder à une personne visée au premier alinéa qui sollicite,\r\n",
      "sans droit, à tout moment, directement ou indirectement, des offres, des promesses, des dons, des présents ou\r\n",
      "p.247 Code pénal\n",
      "\u001b[1;31;91m\n",
      "Document source 2: documents/code_penal.pdf Page: 247 with confidence = 0.8699937\n",
      "\n",
      "\u001b[1;31;32mDocument reference 3:\n",
      "\n",
      "Partie législative - Livre IV : Des crimes et délits contre la nation, l'Etat et la paix publique - Titre IV : Des atteintes à la confiance publique\r\n",
      "L'interdiction mentionnée au 2° de l'article 131-39 porte sur l'activité dans l'exercice ou à l'occasion de\r\n",
      "l'exercice de laquelle l'infraction a été commise.\r\n",
      "Chapitre V : De la corruption des personnes\r\n",
      "n'exerçant pas une fonction publique\r\n",
      "Section 1 : De la corruption passive et active des\r\n",
      "personnes n'exerçant pas une fonction publique\r\n",
      "445-1 LOI n°2013-1117 du 6 décembre 2013 - art. 6 Legif. Plan Jp.C.Cass. Jp.Appel Jp.Admin. Juricaf\r\n",
      "Est puni de cinq ans d'emprisonnement et d'une amende de 500 000 €, dont le montant peut être porté au double\r\n",
      "du produit tiré de l'infraction, le fait, par quiconque, de proposer, sans droit, à tout moment, directement ou\r\n",
      "indirectement, à une personne qui, sans être dépositaire de l'autorité publique, ni chargée d'une mission de\r\n",
      "service public, ni investie d'un mandat électif public exerce, dans le cadre d'une activité professionnelle ou\r\n",
      "sociale, une fonction de direction ou un travail pour une personne physique ou morale ou pour un organisme\r\n",
      "quelconque, des offres, des promesses, des dons, des présents ou des avantages quelconques, pour elle-même\r\n",
      "ou pour autrui, pour qu'elle accomplisse ou s'abstienne d'accomplir, ou parce qu'elle a accompli ou s'est\r\n",
      "abstenue d'accomplir un acte de son activité ou de sa fonction ou facilité par son activité ou sa fonction, en\r\n",
      "violation de ses obligations légales, contractuelles ou professionnelles.\r\n",
      "Est puni des mêmes peines le fait, par quiconque, de céder à une personne visée au premier alinéa qui sollicite,\r\n",
      "sans droit, à tout moment, directement ou indirectement, des offres, des promesses, des dons, des présents ou\r\n",
      "des avantages quelconques, pour elle-même ou pour autrui, pour accomplir ou avoir accompli, pour s'abstenir\r\n",
      "ou s'être abstenue d'accomplir un acte visé audit alinéa, en violation de ses obligations légales, contractuelles\r\n",
      "ou professionnelles.\r\n",
      "445-1-1 Ordonnance n°2019-1015 du 2 octobre 2019 - art. 33 Legif. Plan Jp.C.Cass. Jp.Appel Jp.Admin. Juricaf\r\n",
      "Est puni de cinq ans d'emprisonnement et d'une amende de 500 000 €, dont le montant peut être porté au double\r\n",
      "du produit tiré de l'infraction, le fait, par quiconque, de proposer, sans droit, à tout moment, directement ou\r\n",
      "indirectement, à un acteur d'une manifestation sportive ou d'une course hippique donnant lieu à des paris, des\r\n",
      "offres, des promesses, des présents, des dons ou des avantages quelconques, pour lui-même ou pour autrui, pour\r\n",
      "que cet acteur, par un acte ou une abstention, modifie le déroulement normal et équitable de cette manifestation\r\n",
      "ou de cette course ou parce que cet acteur, par un acte ou une abstention, a modifié le déroulement normal et\r\n",
      "équitable de cette manifestation ou de cette course.\r\n",
      "445-2 LOI n°2013-1117 du 6 décembre 2013 - art. 6 Legif. Plan Jp.C.Cass. Jp.Appel Jp.Admin. Juricaf\r\n",
      "Est puni de cinq ans d'emprisonnement et d'une amende de 500 000 €, dont le montant peut être porté au\r\n",
      "double du produit tiré de l'infraction, le fait, par une personne qui, sans être dépositaire de l'autorité publique,\r\n",
      "ni chargée d'une mission de service public, ni investie d'un mandat électif public exerce, dans le cadre d'une\r\n",
      "activité professionnelle ou sociale, une fonction de direction ou un travail pour une personne physique ou\r\n",
      "morale ou pour un organisme quelconque, de solliciter ou d'agréer, sans droit, à tout moment, directement\r\n",
      "ou indirectement, des offres, des promesses, des dons, des présents ou des avantages quelconques, pour elle￾même ou pour autrui, pour accomplir ou avoir accompli, pour s'abstenir ou s'être abstenue d'accomplir un acte\r\n",
      "p.262 Code pénal\n",
      "\u001b[1;31;91m\n",
      "Document source 3: documents/code_penal.pdf Page: 262 with confidence = 0.86452454\n",
      "\n"
     ]
    }
   ],
   "source": [
    "query = \"What are the French laws regarding corruption?\"\n",
    "\n",
    "ask_your_own_data(query, vector_store, gptmodel, topn=3)"
   ]
  },
  {
   "cell_type": "code",
   "execution_count": 47,
   "id": "df1ab510",
   "metadata": {},
   "outputs": [
    {
     "name": "stdout",
     "output_type": "stream",
     "text": [
      "\u001b[1;31;34m\n",
      "Azure Open AI results:\n",
      "\n",
      " 1. Articles: 311-6, 311-7, 311-8, 311-9, 311-9-1, 311-4-1, 311-4-2, 311-5, 434-35-1, 434-36, 434-37, 434-38, 434-38-1, 434-39\n",
      "2. Summary: The text discusses the penalties for theft and related offenses. It specifies the punishments for different circumstances, such as theft accompanied by violence, theft in organized gangs, theft with the use of weapons, and theft in specific locations or situations. The penalties range from imprisonment for a certain number of years to fines. The text also mentions the reduction of penalties for individuals who report or prevent the commission of theft. Additionally, it addresses offenses related to the authority of the state and the justice system, such as unauthorized entry into a prison and the removal or destruction of court-ordered posters. \n",
      "3. Keywords: theft, penalties, imprisonment, fines, violence, organized gangs, weapons, specific locations, unauthorized entry, destruction of posters\n",
      "\u001b[1;31;35m\n",
      "[Note] This summary is generated by an AI (Azure Open AI). Examine and use carefully.\n",
      "\n",
      "\u001b[1;31;32mDocument reference 1:\n",
      "\n",
      "Partie législative - Livre III : Des crimes et délits contre les biens - Titre Ier : Des appropriations frauduleuses\r\n",
      "Les peines sont portées à dix ans d'emprisonnement et à 150 000 € d'amende lorsque le vol est commis dans\r\n",
      "deux des circonstances prévues par le présent article ou lorsque le vol prévu au présent article est également\r\n",
      "commis dans l'une des circonstances prévues par l'article 311-4.\r\n",
      "Circulaires et Instructions\r\n",
      "> Circulaire du 28 juillet 2011 relative à la présentation des dispositions de droit pénal général et - de procédure pénale générale de la loi n° 2011-267 du 14 mars 2011 d’orientation et\r\n",
      "de programmation pour la performance de la sécurité intérieure\r\n",
      "311-6 Ordonnance n°2000-916 du 19 septembre 2000 - art. 3 (V) JORF 22 septembre 2000 en vigueur le 1er janvier 2002 Legif. Plan Jp.C.Cass. Jp.Appel Jp.Admin. Juricaf\r\n",
      "Le vol est puni de dix ans d'emprisonnement et de 150 000 euros d'amende lorsqu'il est précédé, accompagné\r\n",
      "ou suivi de violences sur autrui ayant entraîné une incapacité totale de travail pendant plus de huit jours.\r\n",
      "Les deux premiers alinéas de l'article 132-23 relatif à la période de sûreté sont applicables à l'infraction prévue\r\n",
      "par le présent article.\r\n",
      "311-7 Ordonnance n°2000-916 du 19 septembre 2000 - art. 3 (V) JORF 22 septembre 2000 en vigueur le 1er janvier 2002 Legif. Plan Jp.C.Cass. Jp.Appel Jp.Admin. Juricaf\r\n",
      "Le vol est puni de quinze ans de réclusion criminelle et de 150 000 euros d'amende lorsqu'il est précédé,\r\n",
      "accompagné ou suivi de violences sur autrui ayant entraîné une mutilation ou une infirmité permanente.\r\n",
      "Les deux premiers alinéas de l'article 132-23 relatif à la période de sûreté sont applicables à l'infraction prévue\r\n",
      "par le présent article.\r\n",
      "311-8 Ordonnance n°2000-916 du 19 septembre 2000 - art. 3 (V) JORF 22 septembre 2000 en vigueur le 1er janvier 2002 Legif. Plan Jp.C.Cass. Jp.Appel Jp.Admin. Juricaf\r\n",
      "Le vol est puni de vingt ans de réclusion criminelle et de 150 000 euros d'amende lorsqu'il est commis soit\r\n",
      "avec usage ou menace d'une arme, soit par une personne porteuse d'une arme soumise à autorisation ou dont\r\n",
      "le port est prohibé.\r\n",
      "Les deux premiers alinéas de l'article 132-23 relatif à la période de sûreté sont applicables à l'infraction prévue\r\n",
      "par le présent article.\r\n",
      "311-9 Ordonnance n°2000-916 du 19 septembre 2000 - art. 3 (V) JORF 22 septembre 2000 en vigueur le 1er janvier 2002 Legif. Plan Jp.C.Cass. Jp.Appel Jp.Admin. Juricaf\r\n",
      "Le vol en bande organisée est puni de quinze ans de réclusion criminelle et de 150 000 euros d'amende.\r\n",
      "Il est puni de vingt ans de réclusion criminelle et de 150 000 euros d'amende lorsqu'il est précédé, accompagné\r\n",
      "ou suivi de violences sur autrui.\r\n",
      "Il est puni de trente ans de réclusion criminelle et de 150 000 euros d'amende lorsqu'il est commis soit avec\r\n",
      "usage ou menace d'une arme, soit par une personne porteuse d'une arme soumise à autorisation ou dont le\r\n",
      "port est prohibé.\r\n",
      "Les deux premiers alinéas de l'article 132-23 relatif à la période de sûreté sont applicables aux infractions\r\n",
      "prévues par le présent article.\r\n",
      "311-9-1 Loi n°2004-204 du 9 mars 2004 - art. 12 () JORF 10 mars 2004 Legif. Plan Jp.C.Cass. Jp.Appel Jp.Admin. Juricaf\r\n",
      "Toute personne qui a tenté de commettre un vol en bande organisée prévu par l'article 311-9 est exempte de\r\n",
      "peine si, ayant averti l'autorité administrative ou judiciaire, elle a permis d'éviter la réalisation de l'infraction\r\n",
      "et d'identifier, le cas échéant, les autres auteurs ou complices.\r\n",
      "La peine privative de liberté encourue par l'auteur ou le complice d'un vol en bande organisée est réduite de\r\n",
      "moitié si, ayant averti l'autorité administrative ou judiciaire, il a permis de faire cesser l'infraction en cours\r\n",
      "p.168 Code pénal\n",
      "\u001b[1;31;91m\n",
      "Document source 1: documents/code_penal.pdf Page: 168 with confidence = 0.8772457\n",
      "\n",
      "\u001b[1;31;32mDocument reference 2:\n",
      "\n",
      "Partie législative - Livre III : Des crimes et délits contre les biens - Titre Ier : Des appropriations frauduleuses\r\n",
      "7° Lorsqu'il est commis dans un véhicule affecté au transport collectif de voyageurs ou dans un lieu destiné\r\n",
      "à l'accès à un moyen de transport collectif de voyageurs ;\r\n",
      "8° Lorsqu'il est précédé, accompagné ou suivi d'un acte de destruction, dégradation ou détérioration ;\r\n",
      "9° (Abrogé)\r\n",
      "10° Lorsqu'il est commis par une personne dissimulant volontairement en tout ou partie son visage afin de\r\n",
      "ne pas être identifiée ;\r\n",
      "11° Lorsqu'il est commis dans les établissements d'enseignement ou d'éducation ainsi que, lors des entrées ou\r\n",
      "sorties des élèves ou dans un temps très voisin de celles-ci, aux abords de ces établissements ;\r\n",
      "12° Lorsqu'il est destiné à alimenter le commerce illégal d'animaux.\r\n",
      "Les peines sont portées à sept ans d'emprisonnement et à 100 000 euros d'amende lorsque le vol est commis\r\n",
      "dans deux des circonstances prévues par le présent article. Elles sont portées à dix ans d'emprisonnement et à\r\n",
      "150 000 euros d'amende lorsque le vol est commis dans trois de ces circonstances.\r\n",
      "Circulaires et Instructions\r\n",
      "> Circulaire du 28 juillet 2011 relative à la présentation des dispositions de droit pénal général et - de procédure pénale générale de la loi n° 2011-267 du 14 mars 2011 d’orientation et\r\n",
      "de programmation pour la performance de la sécurité intérieure\r\n",
      "311-4-1 Loi n°2002-1138 du 9 septembre 2002 - art. 26 () JORF 10 septembre 2002 Legif. Plan Jp.C.Cass. Jp.Appel Jp.Admin. Juricaf\r\n",
      "Le vol est puni de sept ans d'emprisonnement et de 100 000 euros d'amende lorsqu'il est commis par un majeur\r\n",
      "avec l'aide d'un ou plusieurs mineurs, agissant comme auteurs ou complices.\r\n",
      "Les peines sont portées à dix ans d'emprisonnement et 150 000 euros d'amende lorsque le majeur est aidé d'un\r\n",
      "ou plusieurs mineurs âgés de moins de treize ans.\r\n",
      "311-4-2 LOI n°2008-696 du 15 juillet 2008 - art. 34 Legif. Plan Jp.C.Cass. Jp.Appel Jp.Admin. Juricaf\r\n",
      "Le vol est puni de sept ans d'emprisonnement et de 100 000 € d'amende lorsqu'il porte sur :\r\n",
      "1° Un objet mobilier classé ou inscrit en application des dispositions du code du patrimoine ou un document\r\n",
      "d'archives privées classé en application des dispositions du même code ;\r\n",
      "2° Une découverte archéologique faite au cours de fouilles ou fortuitement ;\r\n",
      "3° Un bien culturel qui relève du domaine public mobilier ou qui est exposé, conservé ou déposé, même de\r\n",
      "façon temporaire, soit dans un musée de France, une bibliothèque, une médiathèque ou un service d'archives,\r\n",
      "soit dans un lieu dépendant d'une personne publique ou d'une personne privée assurant une mission d'intérêt\r\n",
      "général, soit dans un édifice affecté au culte.\r\n",
      "Les peines sont portées à dix ans d'emprisonnement et 150 000 € d'amende lorsque l'infraction prévue au\r\n",
      "présent article est commise avec l'une des circonstances prévues à l'article 311-4.\r\n",
      "Les peines d'amende mentionnées au présent article peuvent être élevées jusqu'à la moitié de la valeur du bien\r\n",
      "volé.\r\n",
      "311-5 LOI n°2011-267 du 14 mars 2011 - art. 47 Legif. Plan Jp.C.Cass. Jp.Appel Jp.Admin. Juricaf\r\n",
      "Le vol est puni de sept ans d'emprisonnement et de 100 000 € d'amende :\r\n",
      "1° Lorsqu'il est précédé, accompagné ou suivi de violence sur autrui ayant entraîné une incapacité totale de\r\n",
      "travail pendant huit jours au plus ;\r\n",
      "2° Lorsqu'il est facilité par l'état d'une personne dont la particulière vulnérabilité, due à son âge, à une maladie,\r\n",
      "à une infirmité, à une déficience physique ou psychique ou à un état de grossesse, est apparente ou connue\r\n",
      "de son auteur ;\r\n",
      "3° Lorsqu'il est commis dans un local d'habitation ou dans un lieu utilisé ou destiné à l'entrepôt de fonds,\r\n",
      "valeurs, marchandises ou matériels, en pénétrant dans les lieux par ruse, effraction ou escalade.\r\n",
      "p.167 Code pénal\n",
      "\u001b[1;31;91m\n",
      "Document source 2: documents/code_penal.pdf Page: 167 with confidence = 0.8674448\n",
      "\n",
      "\u001b[1;31;32mDocument reference 3:\n",
      "\n",
      "Partie législative - Livre IV : Des crimes et délits contre la nation, l'Etat et la paix publique - Titre III : Des atteintes à l'autorité de l'Etat\r\n",
      "La peine est portée à trois ans d'emprisonnement et à 45 000 euros d'amende si le coupable est chargé de la\r\n",
      "surveillance de détenus ou s'il est habilité par ses fonctions à pénétrer dans un établissement pénitentiaire ou\r\n",
      "à approcher, à quelque titre que ce soit, des détenus.\r\n",
      "434-35-1 Loi n°2003-239 du 18 mars 2003 - art. 73 Legif. Plan Jp.C.Cass. Jp.Appel Jp.Admin. Juricaf\r\n",
      "Est puni d'un an d'emprisonnement et de 15 000 euros d'amende le fait de pénétrer dans un établissement\r\n",
      "pénitentiaire ou d'en escalader l'enceinte sans y être habilité en vertu de dispositions législatives ou\r\n",
      "réglementaires ou y avoir été autorisé par les autorités compétentes.\r\n",
      "434-36 Loi 92-686 1992-07-22 Legif. Plan Jp.C.Cass. Jp.Appel Jp.Admin. Juricaf\r\n",
      "La tentative des délits prévus au présent paragraphe est punie des mêmes peines.\r\n",
      "434-37 Loi 92-686 1992-07-22 Legif. Plan Jp.C.Cass. Jp.Appel Jp.Admin. Juricaf\r\n",
      "Toute personne qui a tenté de commettre, en qualité d'auteur ou de complice, l'une des infractions prévues au\r\n",
      "présent paragraphe, sera exempte de peine si, ayant averti l'autorité judiciaire ou l'administration pénitentiaire,\r\n",
      "elle a permis d'éviter que l'évasion ne se réalise.\r\n",
      "Paragraphe 3 : Des autres atteintes à l'autorité de la justice pénale\r\n",
      "434-38 Ordonnance n°2000-916 du 19 septembre 2000 - art. 3 (V) JORF 22 septembre 2000 en vigueur le 1er janvier 2002 Legif. Plan Jp.C.Cass. Jp.Appel Jp.Admin. Juricaf\r\n",
      "Le fait, par un interdit de séjour, de paraître dans un lieu qui lui est interdit est puni de deux ans\r\n",
      "d'emprisonnement et de 30 000 euros d'amende.\r\n",
      "Est puni des mêmes peines le fait pour l'interdit de séjour de se soustraire aux mesures de surveillance prescrites\r\n",
      "par le juge.\r\n",
      "434-38-1 LOI n° 2019-290 du 10 avril 2019 - art. 7 Legif. Plan Jp.C.Cass. Jp.Appel Jp.Admin. Juricaf\r\n",
      "Le fait, pour une personne condamnée à une peine d'interdiction de participer à des manifestations sur la\r\n",
      "voie publique, de participer à une manifestation en méconnaissance de cette interdiction est puni d'un an\r\n",
      "d'emprisonnement et de 15 000 € d'amende.\r\n",
      "Circulaires et Instructions\r\n",
      "> Circulaire du 12 avril 2019 relative à la présentation des dispositions de droit pénal et de procédure pénale de la loi n°2019-290 du 10 avril 2019 visant à renforcer et garantir le\r\n",
      "maintien de l'ordre public lors des manifestations\r\n",
      "434-39 Ordonnance n°2000-916 du 19 septembre 2000 - art. 3 (V) JORF 22 septembre 2000 en vigueur le 1er janvier 2002 Legif. Plan Jp.C.Cass. Jp.Appel Jp.Admin. Juricaf\r\n",
      "Dans le cas où un jugement a ordonné, à titre de peine, l'affichage de la décision de condamnation, le fait\r\n",
      "de supprimer, dissimuler ou lacérer totalement ou partiellement des affiches apposées est puni de six mois\r\n",
      "d'emprisonnement et de 7 500 euros d'amende.\r\n",
      "p.243 Code pénal\n",
      "\u001b[1;31;91m\n",
      "Document source 3: documents/code_penal.pdf Page: 243 with confidence = 0.8636688\n",
      "\n"
     ]
    }
   ],
   "source": [
    "query = \"Quelle est la peine encourue pour un vol ?\"\n",
    "\n",
    "ask_your_own_data(query, vector_store, gptmodel, topn=3)"
   ]
  },
  {
   "cell_type": "code",
   "execution_count": 48,
   "id": "64ed773c",
   "metadata": {},
   "outputs": [
    {
     "name": "stdout",
     "output_type": "stream",
     "text": [
      "\u001b[1;31;34m\n",
      "Azure Open AI results:\n",
      "\n",
      " 1. Articles: 33 Loi 57-1426 1957-12-31, 34 LOI n° 2014-1170 du 13 octobre 2014, 35 LOI n°2013-669 du 25 juillet 2013, 36 Loi n°2004-204 du 9 mars 2004, 37 Loi n°2004-204 du 9 mars 2004, 39 Ordonnance n°2019-964 du 18 septembre 2019, 39-1 LOI n°2013-669 du 25 juillet 2013, 39-2 Ordonnance n°2019-964 du 18 septembre 2019, 39-3 LOI n°2016-731 du 3 juin 2016, 39-4 LOI n°2019-222 du 23 mars 2019, 40 Loi n°2004-204 du 9 mars 2004, 40-1 LOI n°2016-1691 du 9 décembre 2016\n",
      "2. Summary: This text is part of the French Code of Criminal Procedure and specifically focuses on the roles and responsibilities of the prosecutor general and the prosecutor of the Republic. The prosecutor general represents the public ministry before the court of appeal and other courts. They ensure the application of criminal law and coordinate the actions of the prosecutors of the Republic. They also provide reports on the implementation of criminal policy. The prosecutor of the Republic represents the public ministry before the trial court and is responsible for receiving complaints, initiating prosecutions, and directing the police investigation. They also contribute to the prevention of criminal offenses and coordinate activities related to crime prevention. \n",
      "3. Keywords: prosecutor general, prosecutor of the Republic, criminal law, court of appeal, public ministry, criminal policy, complaints, prosecutions, police investigation, prevention of offenses, crime prevention.\n",
      "\u001b[1;31;35m\n",
      "[Note] This summary is generated by an AI (Azure Open AI). Examine and use carefully.\n",
      "\n",
      "\u001b[1;31;32mDocument reference 1:\n",
      "\n",
      "Partie législative - Livre Ier : De la conduite de la politique pénale, de l'exercice de l'action publique et de l'instruction\r\n",
      "- Titre Ier : Des autorités chargées de la conduite de la politique pénale, de l'action publique et de l'instruction\r\n",
      "Il assure l'exécution des décisions de justice.\r\n",
      "33 Loi 57-1426 1957-12-31 Legif. Plan Jp.C.Cass. Jp.Appel Jp.Admin. Juricaf\r\n",
      "Il est tenu de prendre des réquisitions écrites conformes aux instructions qui lui sont données dans les conditions\r\n",
      "prévues aux articles 36,37 et 44. Il développe librement les observations orales qu'il croit convenables au bien\r\n",
      "de la justice.\r\n",
      "Section 2 : Des attributions du procureur général près la cour d'appel\r\n",
      "34 LOI n° 2014-1170 du 13 octobre 2014 - art. 73 Legif. Plan Jp.C.Cass. Jp.Appel Jp.Admin. Juricaf\r\n",
      "Le procureur général représente en personne ou par ses substituts le ministère public auprès de la cour d'appel et\r\n",
      "auprès de la cour d'assises instituée au siège de la cour d'appel. Il peut, dans les mêmes conditions, représenter\r\n",
      "le ministère public auprès des autres cours d'assises du ressort de la cour d'appel.\r\n",
      "35 LOI n°2013-669 du 25 juillet 2013 - art. 4 Legif. Plan Jp.C.Cass. Jp.Appel Jp.Admin. Juricaf\r\n",
      "Le procureur général veille à l'application de la loi pénale dans toute l'étendue du ressort de la cour d'appel et\r\n",
      "au bon fonctionnement des parquets de son ressort.\r\n",
      "Il anime et coordonne l'action des procureurs de la République, tant en matière de prévention que de répression\r\n",
      "des infractions à la loi pénale. Il précise et, le cas échéant, adapte les instructions générales du ministre de\r\n",
      "la justice au contexte propre au ressort. Il procède à l'évaluation de leur application par les procureurs de la\r\n",
      "République.\r\n",
      "Outre les rapports particuliers qu'il établit soit d'initiative, soit sur demande du ministre de la justice, le\r\n",
      "procureur général adresse à ce dernier un rapport annuel de politique pénale sur l'application de la loi et des\r\n",
      "instructions générales ainsi qu'un rapport annuel sur l'activité et la gestion des parquets de son ressort.\r\n",
      "Il informe, au moins une fois par an, l'assemblée des magistrats du siège et du parquet des conditions de mise\r\n",
      "en œuvre, dans le ressort, de la politique pénale et des instructions générales adressées à cette fin par le ministre\r\n",
      "de la justice en application du deuxième alinéa de l'article 30.\r\n",
      "Le procureur général a, dans l'exercice de ses fonctions, le droit de requérir directement la force publique.\r\n",
      "Circulaires et Instructions\r\n",
      "p.49 Code de procédure pénale\n",
      "\u001b[1;31;91m\n",
      "Document source 1: documents/code_procedure_penale.pdf Page: 49 with confidence = 0.8798707\n",
      "\n",
      "\u001b[1;31;32mDocument reference 2:\n",
      "\n",
      "Partie législative - Livre Ier : De la conduite de la politique pénale, de l'exercice de l'action publique et de l'instruction\r\n",
      "- Titre Ier : Des autorités chargées de la conduite de la politique pénale, de l'action publique et de l'instruction\r\n",
      "> Circulaire du 28 septembre 2017 relative à l’organisation de la reprise des missions d’extractions judiciaires par le ministère de la justice\r\n",
      "36 Loi n°2004-204 du 9 mars 2004 - art. 65 () JORF 10 mars 2004 Legif. Plan Jp.C.Cass. Jp.Appel Jp.Admin. Juricaf\r\n",
      "Le procureur général peut enjoindre aux procureurs de la République, par instructions écrites et versées au\r\n",
      "dossier de la procédure, d'engager ou de faire engager des poursuites ou de saisir la juridiction compétente de\r\n",
      "telles réquisitions écrites que le procureur général juge opportunes.\r\n",
      "37 Loi n°2004-204 du 9 mars 2004 - art. 66 () JORF 10 mars 2004 Legif. Plan Jp.C.Cass. Jp.Appel Jp.Admin. Juricaf\r\n",
      "Le procureur général a autorité sur tous les officiers du ministère public du ressort de la cour d'appel.\r\n",
      "38 Loi 57-1426 1957-12-31 Legif. Plan Jp.C.Cass. Jp.Appel Jp.Admin. Juricaf\r\n",
      "Les officiers et agents de police judiciaire sont placés sous la surveillance du procureur général. Il peut les\r\n",
      "charger de recueillir tous renseignements qu'il estime utiles à une bonne administration de la justice.\r\n",
      "Section 3 : Des attributions du procureur de la République\r\n",
      "39 Ordonnance n°2019-964 du 18 septembre 2019 - art. 35 (VD) Legif. Plan Jp.C.Cass. Jp.Appel Jp.Admin. Juricaf\r\n",
      "Le procureur de la République représente en personne ou par ses substituts le ministère public près le tribunal\r\n",
      "judiciaire.\r\n",
      "Il représente également en personne ou par ses substituts le ministère public auprès de la cour d'assises instituée\r\n",
      "au siège du tribunal.\r\n",
      "Il représente de même, en personne ou par ses substituts, le ministère public auprès du tribunal de police dans\r\n",
      "les conditions fixées par l'article 45 du présent code.\r\n",
      "39-1 LOI n°2013-669 du 25 juillet 2013 - art. 5 Legif. Plan Jp.C.Cass. Jp.Appel Jp.Admin. Juricaf\r\n",
      "En tenant compte du contexte propre à son ressort, le procureur de la République met en œuvre la politique\r\n",
      "pénale définie par les instructions générales du ministre de la justice, précisées et, le cas échéant, adaptées\r\n",
      "par le procureur général.\r\n",
      "Outre les rapports particuliers qu'il établit soit d'initiative, soit sur demande du procureur général, le procureur\r\n",
      "de la République adresse à ce dernier un rapport annuel de politique pénale sur l'application de la loi et des\r\n",
      "instructions générales ainsi qu'un rapport annuel sur l'activité et la gestion de son parquet.\r\n",
      "Il informe, au moins une fois par an, l'assemblée des magistrats du siège et du parquet des conditions de mise\r\n",
      "en œuvre, dans le ressort, de la politique pénale et des instructions générales adressées à cette fin par le ministre\r\n",
      "de la justice en application du deuxième alinéa de l'article 30.\r\n",
      "39-2 Ordonnance n°2019-964 du 18 septembre 2019 - art. 35 (VD) Legif. Plan Jp.C.Cass. Jp.Appel Jp.Admin. Juricaf\r\n",
      "Dans le cadre de ses attributions en matière d'alternative aux poursuites, de mise en mouvement et d'exercice\r\n",
      "de l'action publique, de direction de la police judiciaire, de contrôle d'identité et d'exécution des peines, le\r\n",
      "procureur de la République veille à la prévention des infractions à la loi pénale.\r\n",
      "A cette fin, il anime et coordonne dans le ressort du tribunal judiciaire la politique de prévention de la\r\n",
      "délinquance dans sa composante judiciaire, conformément aux orientations nationales de cette politique\r\n",
      "déterminées par l'Etat, telles que précisées par le procureur général en application de l'article 35.\r\n",
      "p.50 Code de procédure pénale\n",
      "\u001b[1;31;91m\n",
      "Document source 2: documents/code_procedure_penale.pdf Page: 50 with confidence = 0.8749095\n",
      "\n",
      "\u001b[1;31;32mDocument reference 3:\n",
      "\n",
      "Partie législative - Livre Ier : De la conduite de la politique pénale, de l'exercice de l'action publique et de l'instruction\r\n",
      "- Titre Ier : Des autorités chargées de la conduite de la politique pénale, de l'action publique et de l'instruction\r\n",
      "Il est également consulté par le représentant de l'Etat dans le département avant que ce dernier n'arrête le plan\r\n",
      "de prévention de la délinquance.\r\n",
      "39-3 LOI n°2016-731 du 3 juin 2016 - art. 54 Legif. Plan Jp.C.Cass. Jp.Appel Jp.Admin. Juricaf\r\n",
      "Dans le cadre de ses attributions de direction de la police judiciaire, le procureur de la République peut adresser\r\n",
      "des instructions générales ou particulières aux enquêteurs. Il contrôle la légalité des moyens mis en œuvre\r\n",
      "par ces derniers, la proportionnalité des actes d'investigation au regard de la nature et de la gravité des faits,\r\n",
      "l'orientation donnée à l'enquête ainsi que la qualité de celle-ci.\r\n",
      "Il veille à ce que les investigations tendent à la manifestation de la vérité et qu'elles soient accomplies à charge\r\n",
      "et à décharge, dans le respect des droits de la victime, du plaignant et de la personne suspectée.\r\n",
      "Récemment au Bulletin de la Cour de Cassation\r\n",
      "> Crim., 30 mars 2021, n° 20-85.556 (P) [ ECLI:FR:CCASS:2021:CR00392 ]\r\n",
      "39-4 LOI n°2019-222 du 23 mars 2019 - art. 95 Legif. Plan Jp.C.Cass. Jp.Appel Jp.Admin. Juricaf\r\n",
      "Quand un département compte plusieurs tribunaux judiciaires, le procureur général peut désigner l'un des\r\n",
      "procureurs de la République de ce département pour représenter, sous son autorité, l'ensemble des parquets\r\n",
      "dans le cadre de leurs relations avec les autorités administratives du département, notamment pour l'application\r\n",
      "du dernier alinéa de l'article 39-2, et pour assurer la coordination des activités s'y rapportant. Ce procureur tient\r\n",
      "les autres procureurs informés de ses diligences et rend compte au procureur général.\r\n",
      "40 Loi n°2004-204 du 9 mars 2004 - art. 74 () JORF 10 mars 2004 Legif. Plan Jp.C.Cass. Jp.Appel Jp.Admin. Juricaf\r\n",
      "Le procureur de la République reçoit les plaintes et les dénonciations et apprécie la suite à leur donner\r\n",
      "conformément aux dispositions de l'article 40-1.\r\n",
      "Toute autorité constituée, tout officier public ou fonctionnaire qui, dans l'exercice de ses fonctions, acquiert la\r\n",
      "connaissance d'un crime ou d'un délit est tenu d'en donner avis sans délai au procureur de la République et de\r\n",
      "transmettre à ce magistrat tous les renseignements, procès-verbaux et actes qui y sont relatifs.\r\n",
      "service-public.fr\r\n",
      "> Harcèlement et violences scolaires - Provocation au suicide : Obligation de dénonciation au procureur\r\n",
      "Circulaires et Instructions\r\n",
      "> Circulaire interministérielle du 25 janvier 2016 relative à la mobilisation des services - de l’Etat auprès des conseils départementaux concernant les mineurs privés temporairement -\r\n",
      "ou définitivement de la protection de leur famille et les personnes se présentant comme tels\r\n",
      "> Circulaire du 19 juillet 2018 relative à la procédure de signalement des alertes émises par les agents publics dans le cadre des articles 6 à 15 de la loi n°2016-1691 du 9 décembre\r\n",
      "2016 relative à la transparence, à la lutte contre la corruption et à la modernisation de la vie économique, et aux garanties et protections qui leur sont accordées dans la fonction\r\n",
      "publique\r\n",
      "> Circulaire du 24 septembre 2013 relative aux relations entre les parquets et les ordres des professions en lien avec la santé publique\r\n",
      "> CIRCULAIRE N° 2594/DEF/CAB relative au contrôleur général des lieux de privation de liberté.\r\n",
      "40-1 LOI n°2016-1691 du 9 décembre 2016 - art. 22 Legif. Plan Jp.C.Cass. Jp.Appel Jp.Admin. Juricaf\r\n",
      "Lorsqu'il estime que les faits qui ont été portés à sa connaissance en application des dispositions de l'article 40\r\n",
      "constituent une infraction commise par une personne dont l'identité et le domicile sont connus et pour laquelle\r\n",
      "aucune disposition légale ne fait obstacle à la mise en mouvement de l'action publique, le procureur de la\r\n",
      "République territorialement compétent décide s'il est opportun :\r\n",
      "1° Soit d'engager des poursuites ;\r\n",
      "2° Soit de mettre en oeuvre une procédure alternative aux poursuites en application des dispositions des articles\r\n",
      "41-1,41-1-2 ou 41-2 ;\r\n",
      "p.51 Code de procédure pénale\n",
      "\u001b[1;31;91m\n",
      "Document source 3: documents/code_procedure_penale.pdf Page: 51 with confidence = 0.87348235\n",
      "\n"
     ]
    }
   ],
   "source": [
    "query = \"Quelles sont les missions du procureur général ?\"\n",
    "\n",
    "ask_your_own_data(query, vector_store, gptmodel, topn=3)"
   ]
  },
  {
   "cell_type": "code",
   "execution_count": 49,
   "id": "968c1e48",
   "metadata": {},
   "outputs": [
    {
     "name": "stdout",
     "output_type": "stream",
     "text": [
      "\u001b[1;31;34m\n",
      "Azure Open AI results:\n",
      "\n",
      " 1. Articles: 223-15-2, 223-15-3, 223-15-4\n",
      "2. Summary: The text discusses the punishment for fraudulent abuse of ignorance or weakness. It states that anyone who fraudulently takes advantage of the ignorance or vulnerability of a minor or a person with particular vulnerability due to age, illness, disability, pregnancy, or psychological or physical subjection can be sentenced to three years in prison and a fine of 375,000 euros. The punishment is increased to five years in prison and a fine of 750,000 euros if the offense is committed by the leader of a group that maintains psychological or physical subjection. If the offense is committed by members of an organized group, the punishment is increased to seven years in prison and a fine of one million euros. The text also mentions additional penalties such as the prohibition of certain rights, the closure of establishments used to commit the offense, confiscation of relevant objects, and the prohibition of certain activities.\n",
      "3. Keywords: fraudulent abuse, ignorance, weakness, vulnerability, minor, psychological subjection, physical subjection, punishment, imprisonment, fine, leader, organized group, additional penalties.\n",
      "\u001b[1;31;35m\n",
      "[Note] This summary is generated by an AI (Azure Open AI). Examine and use carefully.\n",
      "\n",
      "\u001b[1;31;32mDocument reference 1:\n",
      "\n",
      "Partie législative - Livre II : Des crimes et délits contre les personnes - Titre II : Des atteintes à la personne humaine\r\n",
      "2° Les peines mentionnées aux 2° à 9° de l'article 131-39 ;\r\n",
      "3° La peine mentionnée au 1° de l'article 131-39 pour l'infraction prévue au deuxième alinéa de l'article 223-13.\r\n",
      "L'interdiction mentionnée au 2° de l'article 131-39 porte sur l'activité dans l'exercice ou à l'occasion de\r\n",
      "l'exercice de laquelle l'infraction a été commise.\r\n",
      "Section 6 bis : De l'abus frauduleux de l'état d'ignorance ou de faiblesse\r\n",
      "223-15-2 LOI n°2023-22 du 24 janvier 2023 - art. 16 Legif. Plan Jp.C.Cass. Jp.Appel Jp.Admin. Juricaf\r\n",
      "Est puni de trois ans d'emprisonnement et de 375 000 euros d'amende l'abus frauduleux de l'état d'ignorance\r\n",
      "ou de la situation de faiblesse soit d'un mineur, soit d'une personne dont la particulière vulnérabilité, due à\r\n",
      "son âge, à une maladie, à une infirmité, à une déficience physique ou psychique ou à un état de grossesse, est\r\n",
      "apparente ou connue de son auteur, soit d'une personne en état de sujétion psychologique ou physique résultant\r\n",
      "de l'exercice de pressions graves ou réitérées ou de techniques propres à altérer son jugement, pour conduire\r\n",
      "ce mineur ou cette personne à un acte ou à une abstention qui lui sont gravement préjudiciables.\r\n",
      "Lorsque l'infraction est commise par le dirigeant de fait ou de droit d'un groupement qui poursuit des activités\r\n",
      "ayant pour but ou pour effet de créer, de maintenir ou d'exploiter la sujétion psychologique ou physique des\r\n",
      "personnes qui participent à ces activités, les peines sont portées à cinq ans d'emprisonnement et à 750 000\r\n",
      "euros d'amende.\r\n",
      "Lorsque l'infraction est commise en bande organisée par les membres d'un groupement qui poursuit des\r\n",
      "activités ayant pour but ou pour effet de créer, de maintenir ou d'exploiter la sujétion psychologique ou physique\r\n",
      "des personnes qui participent à ces activités, les peines sont portées à sept ans d'emprisonnement et à un million\r\n",
      "d'euros d'amende.\r\n",
      "223-15-3 LOI n°2009-1437 du 24 novembre 2009 - art. 50 Legif. Plan Jp.C.Cass. Jp.Appel Jp.Admin. Juricaf\r\n",
      "Les personnes physiques coupables du délit prévu à la présente section encourent également les peines\r\n",
      "complémentaires suivantes :\r\n",
      "1° L'interdiction des droits civiques, civils et de famille, suivant les modalités prévues par l'article 131-26 ;\r\n",
      "2° L'interdiction, suivant les modalités prévues par l'article 131-27, d'exercer une fonction publique ou\r\n",
      "d'exercer l'activité professionnelle ou sociale dans l'exercice ou à l'occasion de l'exercice de laquelle\r\n",
      "l'infraction a été commise, pour une durée de cinq ans au plus, ainsi que l'activité de prestataire de formation\r\n",
      "professionnelle continue au sens de l'article L. 6313-1 du code du travail, pour la même durée ;\r\n",
      "3° La fermeture, pour une durée de cinq ans au plus, des établissements ou de l'un ou de plusieurs des\r\n",
      "établissements de l'entreprise ayant servi à commettre les faits incriminés ;\r\n",
      "4° La confiscation de la chose qui a servi ou était destinée à commettre l'infraction ou de la chose qui en est\r\n",
      "le produit, à l'exception des objets susceptibles de restitution ;\r\n",
      "5° L'interdiction de séjour, suivant les modalités prévues par l'article 131-31 ;\r\n",
      "6° L'interdiction, pour une durée de cinq ans au plus, d'émettre des chèques autres que ceux qui permettent le\r\n",
      "retrait de fonds par le tireur auprès du tiré ou ceux qui sont certifiés ;\r\n",
      "7° L'affichage ou la diffusion de la décision prononcée, dans les conditions prévues par l'article 131-35.\r\n",
      "223-15-4 LOI n°2009-526 du 12 mai 2009 - art. 124 Legif. Plan Jp.C.Cass. Jp.Appel Jp.Admin. Juricaf\r\n",
      "Les personnes morales déclarées responsables pénalement, dans les conditions prévues par l'article 121-2, des\r\n",
      "infractions définies à la présente section encourent, outre l'amende suivant les modalités prévues par l'article\r\n",
      "131-38, les peines prévues par l'article 131-39.\r\n",
      "p.120 Code pénal\n",
      "\u001b[1;31;91m\n",
      "Document source 1: documents/code_penal.pdf Page: 120 with confidence = 0.85303813\n",
      "\n"
     ]
    }
   ],
   "source": [
    "query = \"¿Qué es el artículo 131-39 del Código Penal?\"\n",
    "\n",
    "ask_your_own_data(query, vector_store, gptmodel, topn=1)"
   ]
  },
  {
   "cell_type": "code",
   "execution_count": 50,
   "id": "0959d4d0",
   "metadata": {},
   "outputs": [
    {
     "name": "stdout",
     "output_type": "stream",
     "text": [
      "\u001b[1;31;34m\n",
      "Azure Open AI results:\n",
      "\n",
      " 1. Articles: 413-3, 413-4, 413-5, 413-6, 413-7\n",
      "2. Summary: The text refers to the punishment for actions that aim to harm national defense. It states that obstructing the movement of military personnel or equipment, provoking disobedience among military personnel, participating in activities to demoralize the army, unlawfully entering military premises, and impeding the normal functioning of public or private services related to national defense are all punishable offenses. The penalties for these offenses range from one year imprisonment and a fine of 15,000 euros to five years imprisonment and a fine of 75,000 euros.\n",
      "3. Keywords: defense nationale (national defense), mouvement de personnel (movement of personnel), matériel militaire (military equipment), désobéissance (disobedience), démoralisation de l'armée (demoralization of the army), s'introduire frauduleusement (unlawfully entering), fonctionnement normal des services (normal functioning of services), locaux et terrains clos (closed premises and grounds).\n",
      "\u001b[1;31;35m\n",
      "[Note] This summary is generated by an AI (Azure Open AI). Examine and use carefully.\n",
      "\n",
      "\u001b[1;31;32mDocument reference 1:\n",
      "\n",
      "Partie législative - Livre IV : Des crimes et délits contre la nation, l'Etat et la paix publique - Titre Ier : Des atteintes aux intérêts fondamentaux de la nation\r\n",
      "Est puni des mêmes peines le fait, en vue de nuire à la défense nationale, d'entraver le mouvement de personnel\r\n",
      "ou de matériel militaire.\r\n",
      "413-3 Ordonnance n°2000-916 du 19 septembre 2000 - art. 3 (V) JORF 22 septembre 2000 en vigueur le 1er janvier 2002 Legif. Plan Jp.C.Cass. Jp.Appel Jp.Admin. Juricaf\r\n",
      "Le fait, en vue de nuire à la défense nationale, de provoquer à la désobéissance par quelque moyen que ce soit\r\n",
      "des militaires ou des assujettis affectés à toute forme du service national est puni de cinq ans d'emprisonnement\r\n",
      "et de 75 000 euros d'amende.\r\n",
      "Lorsque la provocation est commise par la voie de la presse écrite ou audiovisuelle, les dispositions\r\n",
      "particulières des lois qui régissent ces matières sont applicables en ce qui concerne la détermination des\r\n",
      "personnes responsables.\r\n",
      "413-4 Ordonnance n°2000-916 du 19 septembre 2000 - art. 3 (V) JORF 22 septembre 2000 en vigueur le 1er janvier 2002 Legif. Plan Jp.C.Cass. Jp.Appel Jp.Admin. Juricaf\r\n",
      "Le fait de participer à une entreprise de démoralisation de l'armée en vue de nuire à la défense nationale est\r\n",
      "puni de cinq ans d'emprisonnement et de 75 000 euros d'amende.\r\n",
      "Lorsque l'infraction est commise par la voie de la presse écrite ou audiovisuelle, les dispositions particulières\r\n",
      "des lois qui régissent ces matières sont applicables en ce qui concerne la détermination des personnes\r\n",
      "responsables.\r\n",
      "413-5 LOI n°2013-1168 du 18 décembre 2013 - art. 51 Legif. Plan Jp.C.Cass. Jp.Appel Jp.Admin. Juricaf\r\n",
      "Le fait, sans autorisation des autorités compétentes, de s'introduire frauduleusement sur un terrain, dans un\r\n",
      "port, dans une construction ou dans un engin ou appareil quelconque affecté à l'autorité militaire ou placé sous\r\n",
      "son contrôle est puni d'un an d'emprisonnement et de 15 000 euros d'amende.\r\n",
      "413-6 Ordonnance n°2000-916 du 19 septembre 2000 - art. 3 (V) JORF 22 septembre 2000 en vigueur le 1er janvier 2002 Legif. Plan Jp.C.Cass. Jp.Appel Jp.Admin. Juricaf\r\n",
      "Le fait, en vue de nuire à la défense nationale, d'entraver le fonctionnement normal des services, établissements\r\n",
      "ou entreprises, publics ou privés, intéressant la défense nationale, est puni de trois ans d'emprisonnement et\r\n",
      "de 45 000 euros d'amende.\r\n",
      "413-7 Ordonnance n°2000-916 du 19 septembre 2000 - art. 3 (V) JORF 22 septembre 2000 en vigueur le 1er janvier 2002 Legif. Plan Jp.C.Cass. Jp.Appel Jp.Admin. Juricaf\r\n",
      "Est puni de six mois d'emprisonnement et de 7 500 euros d'amende le fait, dans les services, établissements ou\r\n",
      "entreprises, publics ou privés, intéressant la défense nationale, de s'introduire, sans autorisation, à l'intérieur\r\n",
      "des locaux et terrains clos dans lesquels la libre circulation est interdite et qui sont délimités pour assurer la\r\n",
      "protection des installations, du matériel ou du secret des recherches, études ou fabrications.\r\n",
      "p.202 Code pénal\n",
      "\u001b[1;31;91m\n",
      "Document source 1: documents/code_penal.pdf Page: 202 with confidence = 0.84631\n",
      "\n"
     ]
    }
   ],
   "source": [
    "query = \"What is a crime against the nation?\"\n",
    "\n",
    "ask_your_own_data(query, vector_store, gptmodel, topn=1)"
   ]
  },
  {
   "cell_type": "code",
   "execution_count": 51,
   "id": "fc6513c5",
   "metadata": {},
   "outputs": [
    {
     "name": "stdout",
     "output_type": "stream",
     "text": [
      "\u001b[1;31;34m\n",
      "Azure Open AI results:\n",
      "\n",
      " 1. Articles: 441-5, 441-6, 441-7, 441-8\n",
      "2. Summary: The text discusses various provisions related to false documents and fraud in the context of public administration. It mentions the penalties for committing forgery or using false documents by a public official or someone acting in a public service capacity. It also mentions the penalties for fraudulently providing a document issued by a public administration, as well as the penalties for obtaining or attempting to obtain benefits through false declarations. Additionally, it mentions the penalties for establishing or using false certificates or attestations. Finally, it mentions the penalties for using someone else's identity or documents to enter or stay in France illegally or to obtain undeserved benefits. \n",
      "3. Keywords: peines (penalties), réclusion criminelle (criminal imprisonment), amende (fine), faux (forgery), usage de faux (use of false documents), personne dépositaire de l'autorité publique (person holding public authority), mission de service public (public service mission), administration publique (public administration), document délivré (issued document), identité (identity), qualité (status), autorisation (authorization), infraction (offense), fausse déclaration (false declaration), déclaration incomplète (incomplete declaration), organisme de protection sociale (social protection organization), allocation (allowance), prestation (benefit), avantage indu (undue advantage), attestation (certificate), certificat (certificate), faits matériellement inexacts (materially false facts), falsifier (falsify), usage (use), préjudice (damage), Trésor public (public treasury), patrimoine (heritage), titre de séjour (residence permit), protection contre l'éloignement (protection against removal), document d'identité (identity document), titre de séjour (residence permit), document provisoire (provisional document), code de l'entrée et du séjour des étrangers et du droit d'asile (code of entry and residence of foreigners and asylum law), consentement (consent), territoire français (French territory), avantage (benefit), € (euros), amende (fine), Code pénal (penal code).\n",
      "\u001b[1;31;35m\n",
      "[Note] This summary is generated by an AI (Azure Open AI). Examine and use carefully.\n",
      "\n",
      "\u001b[1;31;32mDocument reference 1:\n",
      "\n",
      "Partie législative - Livre IV : Des crimes et délits contre la nation, l'Etat et la paix publique - Titre IV : Des atteintes à la confiance publique\r\n",
      "Les peines sont portées à quinze ans de réclusion criminelle et à 225 000 euros d'amende lorsque le faux ou\r\n",
      "l'usage de faux est commis par une personne dépositaire de l'autorité publique ou chargée d'une mission de\r\n",
      "service public agissant dans l'exercice de ses fonctions ou de sa mission.\r\n",
      "441-5 Ordonnance n°2000-916 du 19 septembre 2000 - art. 3 (V) JORF 22 septembre 2000 en vigueur le 1er janvier 2002 Legif. Plan Jp.C.Cass. Jp.Appel Jp.Admin. Juricaf\r\n",
      "Le fait de procurer frauduleusement à autrui un document délivré par une administration publique aux\r\n",
      "fins de constater un droit, une identité ou une qualité ou d'accorder une autorisation est puni de cinq ans\r\n",
      "d'emprisonnement et de 75 000 euros d'amende.\r\n",
      "Les peines sont portées à sept ans d'emprisonnement et à 100 000 euros d'amende lorsque l'infraction est\r\n",
      "commise :\r\n",
      "1° Soit par une personne dépositaire de l'autorité publique ou chargée d'une mission de service public agissant\r\n",
      "dans l'exercice de ses fonctions ;\r\n",
      "2° Soit de manière habituelle ;\r\n",
      "3° Soit dans le dessein de faciliter la commission d'un crime ou de procurer l'impunité à son auteur.\r\n",
      "441-6 LOI n°2013-1203 du 23 décembre 2013 - art. 86 Legif. Plan Jp.C.Cass. Jp.Appel Jp.Admin. Juricaf\r\n",
      "Le fait de se faire délivrer indûment par une administration publique ou par un organisme chargé d'une mission\r\n",
      "de service public, par quelque moyen frauduleux que ce soit, un document destiné à constater un droit, une\r\n",
      "identité ou une qualité ou à accorder une autorisation est puni de deux ans d'emprisonnement et de 30 000\r\n",
      "euros d'amende.\r\n",
      "Est puni des mêmes peines le fait de fournir sciemment une fausse déclaration ou une déclaration incomplète\r\n",
      "en vue d'obtenir ou de tenter d'obtenir, de faire obtenir ou de tenter de faire obtenir d'une personne publique,\r\n",
      "d'un organisme de protection sociale ou d'un organisme chargé d'une mission de service public une allocation,\r\n",
      "une prestation, un paiement ou un avantage indu.\r\n",
      "441-7 LOI n°2018-778 du 10 septembre 2018 - art. 39 Legif. Plan Jp.C.Cass. Jp.Appel Jp.Admin. Juricaf\r\n",
      "Indépendamment des cas prévus au présent chapitre, est puni d'un an d'emprisonnement et de 15 000 euros\r\n",
      "d'amende le fait :\r\n",
      "1° D'établir une attestation ou un certificat faisant état de faits matériellement inexacts ;\r\n",
      "2° De falsifier une attestation ou un certificat originairement sincère ;\r\n",
      "3° De faire usage d'une attestation ou d'un certificat inexact ou falsifié.\r\n",
      "Les peines sont portées à trois ans d'emprisonnement et à 45 000 euros d'amende lorsque l'infraction est\r\n",
      "commise soit en vue de porter préjudice au Trésor public ou au patrimoine d'autrui, soit en vue d'obtenir un\r\n",
      "titre de séjour ou le bénéfice d'une protection contre l'éloignement.\r\n",
      "service-public.fr\r\n",
      "> Audition des témoins au cours d'une enquête pénale : Peines encourues pour fausses attestations\r\n",
      "> Procès civil : comment apporter un témoignage ? : Fausse attestation\r\n",
      "> Quels sont les modes de preuve dans un procès civil ? : Faux\r\n",
      "441-8 Ordonnance n°2020-1733 du 16 décembre 2020 - art. 10 Legif. Plan Jp.C.Cass. Jp.Appel Jp.Admin. Juricaf\r\n",
      "Le fait d'utiliser un document d'identité ou de voyage, un titre de séjour ou tout document provisoire mentionné\r\n",
      "à l'article L. 431-3 du code de l'entrée et du séjour des étrangers et du droit d'asile appartenant à un tiers, avec\r\n",
      "ou sans son consentement, aux fins d'entrer, de circuler ou de se maintenir sur le territoire français ou d'obtenir\r\n",
      "indûment un titre, une qualité, un statut ou un avantage est puni de cinq ans d'emprisonnement et de 75 000\r\n",
      "€ d'amende.\r\n",
      "p.254 Code pénal\n",
      "\u001b[1;31;91m\n",
      "Document source 1: documents/code_penal.pdf Page: 254 with confidence = 0.8540964\n",
      "\n"
     ]
    }
   ],
   "source": [
    "query = \"What are the penalties for forgery?\"\n",
    "\n",
    "ask_your_own_data(query, vector_store, gptmodel, topn=1)"
   ]
  },
  {
   "cell_type": "markdown",
   "id": "809f5d4d",
   "metadata": {},
   "source": [
    "## 6. Gradio webapp"
   ]
  },
  {
   "cell_type": "markdown",
   "id": "f0a4e095",
   "metadata": {},
   "source": [
    "Let's build a quick webapp with gradio to test our RAG application"
   ]
  },
  {
   "cell_type": "code",
   "execution_count": 53,
   "id": "59d27073",
   "metadata": {},
   "outputs": [],
   "source": [
    "def legal_rag_function(query):\n",
    "    \"\"\"\n",
    "    RAG function with Azure Cognitive Search and Azure Open AI\n",
    "    Input: query\n",
    "    Output: result list with the results for a gradio webapp\n",
    "    \"\"\"\n",
    "    # Warning message\n",
    "    msg = \"\\n\\n[Note] This summary is generated by an AI (powered by Azure Open AI). Examine and use carefully.\"\n",
    "    \n",
    "    # Calling Azure Cognitive Search\n",
    "    results = vector_store.similarity_search_with_relevance_scores(\n",
    "        query=query,\n",
    "        k=5,\n",
    "        score_threshold=0.5,\n",
    "    )\n",
    "\n",
    "    fulltext_list = []\n",
    "\n",
    "    for idx in range(5):\n",
    "        reference = results[idx][0].__dict__[\"page_content\"]\n",
    "        fulltext_list.append(reference)\n",
    "\n",
    "    # Get the AOAI summary\n",
    "    fulltext = \"\".join(fulltext_list)\n",
    "    answer = azure_openai(fulltext, gptmodel)\n",
    "    \n",
    "    # Lists declaration\n",
    "    results_list = []\n",
    "    source_list = []\n",
    "    confidence_list = []\n",
    "\n",
    "    # Output generation\n",
    "    for i in range(5):\n",
    "        # Get Azure Cognitive Search result\n",
    "        reference = results[i][0]\n",
    "        ref = reference.__dict__\n",
    "        ref = ref[\"page_content\"]\n",
    "\n",
    "        # Get source information\n",
    "        source = reference.metadata\n",
    "        doc_source = source[\"source\"]\n",
    "        page_source = source[\"page\"]\n",
    "        confidence = results[i][1]\n",
    "\n",
    "        source_ref = f\"Source: {doc_source} Page: {page_source}\"\n",
    "        source_list.append(source_ref)\n",
    "        confidence_list.append(confidence)\n",
    "\n",
    "        # Adding all the results into a single list\n",
    "        results_list.append(ref)\n",
    "        results_list.append(source_list[i])\n",
    "        results_list.append(confidence_list[i])\n",
    "\n",
    "    results_list.insert(0, answer + msg)  # Insert the answer on the top of the list\n",
    "\n",
    "    return results_list"
   ]
  },
  {
   "cell_type": "markdown",
   "id": "b39148b0",
   "metadata": {},
   "source": [
    "### Webapp function definition"
   ]
  },
  {
   "cell_type": "code",
   "execution_count": 54,
   "id": "92b40a59",
   "metadata": {},
   "outputs": [],
   "source": [
    "image_url = \"https://github.com/retkowsky/images/blob/master/legal.jpg?raw=true\"\n",
    "image = \"<center> <img src= {} width=200px></center>\".format(image_url)\n",
    "header = \"RAG application with Azure Open AI & Azure Cognitive Search (French penal code example)\"\n",
    "\n",
    "samples = [\n",
    "    \"How about identity checks in France?\",\n",
    "    \"What is the definition of a crime against humanity?\",\n",
    "    \"What are the penalties for fraud?\",\n",
    "    \"Article 131-39 of the penal code\",\n",
    "    \"Quid des frais de justice ?\",\n",
    "    \"Quelles sont les missions du procureur général ?\",\n",
    "]\n",
    "\n",
    "inputs = gr.Text(type=\"text\", label=\"Question:\", lines=5, max_lines=10)\n",
    "\n",
    "outputs = [\n",
    "    gr.Text(label=\"Azure Open AI summary\"),\n",
    "    gr.Text(label=\"1. Reference\"),\n",
    "    gr.Text(label=\"1. Document source\"),\n",
    "    gr.Number(label=\"1. Confidence\"),\n",
    "    gr.Text(label=\"2. Reference\"),\n",
    "    gr.Text(label=\"2. Document source\"),\n",
    "    gr.Number(label=\"2. Confidence\"),\n",
    "    gr.Text(label=\"3. Reference\"),\n",
    "    gr.Text(label=\"3. Document source\"),\n",
    "    gr.Number(label=\"3. Confidence\"),\n",
    "    gr.Text(label=\"4. Reference\"),\n",
    "    gr.Text(label=\"4. Document source\"),\n",
    "    gr.Number(label=\"4. Confidence\"),\n",
    "    gr.Text(label=\"5. Reference\"),\n",
    "    gr.Text(label=\"5. Document source\"),\n",
    "    gr.Number(label=\"5. Confidence\"),\n",
    "]\n",
    "\n",
    "theme = \"freddyaboulton/test-blue\"\n",
    "# https://huggingface.co/spaces/gradio/theme-gallery\n",
    "\n",
    "legal_rag_webapp = gr.Interface(\n",
    "    fn=legal_rag_function,\n",
    "    inputs=inputs,\n",
    "    outputs=outputs,\n",
    "    description=image,\n",
    "    title=header,\n",
    "    examples=samples,\n",
    "    theme=theme,\n",
    ")"
   ]
  },
  {
   "cell_type": "markdown",
   "id": "e07c190c",
   "metadata": {},
   "source": [
    "### Running the webapp"
   ]
  },
  {
   "cell_type": "code",
   "execution_count": 55,
   "id": "18b1cc2b",
   "metadata": {},
   "outputs": [
    {
     "name": "stdout",
     "output_type": "stream",
     "text": [
      "Running on local URL:  http://127.0.0.1:7860\n",
      "Running on public URL: https://0503e311e6cfe8fc44.gradio.live\n",
      "\n",
      "This share link expires in 72 hours. For free permanent hosting and GPU upgrades (NEW!), check out Spaces: https://huggingface.co/spaces\n"
     ]
    },
    {
     "data": {
      "text/html": [
       "<div><iframe src=\"https://0503e311e6cfe8fc44.gradio.live\" width=\"100%\" height=\"500\" allow=\"autoplay; camera; microphone; clipboard-read; clipboard-write;\" frameborder=\"0\" allowfullscreen></iframe></div>"
      ],
      "text/plain": [
       "<IPython.core.display.HTML object>"
      ]
     },
     "metadata": {},
     "output_type": "display_data"
    },
    {
     "data": {
      "text/plain": []
     },
     "execution_count": 55,
     "metadata": {},
     "output_type": "execute_result"
    }
   ],
   "source": [
    "legal_rag_webapp.launch(share=True)"
   ]
  },
  {
   "cell_type": "markdown",
   "id": "c49768d7",
   "metadata": {},
   "source": [
    "## 7. Post Processing"
   ]
  },
  {
   "cell_type": "markdown",
   "id": "e24d0d9e",
   "metadata": {},
   "source": [
    "We can delete our index if needed"
   ]
  },
  {
   "cell_type": "code",
   "execution_count": 56,
   "id": "b0808b60",
   "metadata": {},
   "outputs": [
    {
     "name": "stdout",
     "output_type": "stream",
     "text": [
      "Azure Cognitive Search Index: french-penal-code-rag \n",
      "\n",
      "{\n",
      "     \"@odata.context\": \"https://azurecogsearcheastussr.search.windows.net/$metadata#indexes/$entity\",\n",
      "     \"@odata.etag\": \"\\\"0x8DBD9CA0FE2C4C2\\\"\",\n",
      "     \"name\": \"french-penal-code-rag\",\n",
      "     \"defaultScoringProfile\": null,\n",
      "     \"fields\": [\n",
      "          {\n",
      "               \"name\": \"id\",\n",
      "               \"type\": \"Edm.String\",\n",
      "               \"searchable\": false,\n",
      "               \"filterable\": true,\n",
      "               \"retrievable\": true,\n",
      "               \"sortable\": false,\n",
      "               \"facetable\": false,\n",
      "               \"key\": true,\n",
      "               \"indexAnalyzer\": null,\n",
      "               \"searchAnalyzer\": null,\n",
      "               \"analyzer\": null,\n",
      "               \"normalizer\": null,\n",
      "               \"synonymMaps\": []\n",
      "          },\n",
      "          {\n",
      "               \"name\": \"content\",\n",
      "               \"type\": \"Edm.String\",\n",
      "               \"searchable\": true,\n",
      "               \"filterable\": false,\n",
      "               \"retrievable\": true,\n",
      "               \"sortable\": false,\n",
      "               \"facetable\": false,\n",
      "               \"key\": false,\n",
      "               \"indexAnalyzer\": null,\n",
      "               \"searchAnalyzer\": null,\n",
      "               \"analyzer\": null,\n",
      "               \"normalizer\": null,\n",
      "               \"synonymMaps\": []\n",
      "          },\n",
      "          {\n",
      "               \"name\": \"content_vector\",\n",
      "               \"type\": \"Collection(Edm.Single)\",\n",
      "               \"searchable\": true,\n",
      "               \"filterable\": false,\n",
      "               \"retrievable\": true,\n",
      "               \"sortable\": false,\n",
      "               \"facetable\": false,\n",
      "               \"key\": false,\n",
      "               \"indexAnalyzer\": null,\n",
      "               \"searchAnalyzer\": null,\n",
      "               \"analyzer\": null,\n",
      "               \"normalizer\": null,\n",
      "               \"synonymMaps\": []\n",
      "          },\n",
      "          {\n",
      "               \"name\": \"metadata\",\n",
      "               \"type\": \"Edm.String\",\n",
      "               \"searchable\": true,\n",
      "               \"filterable\": false,\n",
      "               \"retrievable\": true,\n",
      "               \"sortable\": false,\n",
      "               \"facetable\": false,\n",
      "               \"key\": false,\n",
      "               \"indexAnalyzer\": null,\n",
      "               \"searchAnalyzer\": null,\n",
      "               \"analyzer\": null,\n",
      "               \"normalizer\": null,\n",
      "               \"synonymMaps\": []\n",
      "          }\n",
      "     ],\n",
      "     \"scoringProfiles\": [],\n",
      "     \"corsOptions\": null,\n",
      "     \"suggesters\": [],\n",
      "     \"analyzers\": [],\n",
      "     \"normalizers\": [],\n",
      "     \"tokenizers\": [],\n",
      "     \"tokenFilters\": [],\n",
      "     \"charFilters\": [],\n",
      "     \"encryptionKey\": null,\n",
      "     \"similarity\": {\n",
      "          \"@odata.type\": \"#Microsoft.Azure.Search.BM25Similarity\",\n",
      "          \"k1\": null,\n",
      "          \"b\": null\n",
      "     },\n",
      "     \"semantic\": null\n",
      "}\n"
     ]
    }
   ],
   "source": [
    "index_status(index_name, azure_cs_endpoint, azure_cs_key)"
   ]
  },
  {
   "cell_type": "code",
   "execution_count": 57,
   "id": "f7228650",
   "metadata": {},
   "outputs": [
    {
     "name": "stdout",
     "output_type": "stream",
     "text": [
      "Deleting the Azure Cognitive Search index: french-penal-code-rag\n",
      "Done. Elapsed time: 0.69 secs\n"
     ]
    }
   ],
   "source": [
    "delete_index(index_name, azure_cs_endpoint, azure_cs_key)"
   ]
  },
  {
   "cell_type": "code",
   "execution_count": 58,
   "id": "66f6a932",
   "metadata": {},
   "outputs": [
    {
     "name": "stdout",
     "output_type": "stream",
     "text": [
      "Azure Cognitive Search Index: french-penal-code-rag \n",
      "\n",
      "{\n",
      "     \"error\": {\n",
      "          \"code\": \"\",\n",
      "          \"message\": \"No index with the name 'french-penal-code-rag' was found in the service 'azurecogsearcheastussr'.\"\n",
      "     }\n",
      "}\n"
     ]
    }
   ],
   "source": [
    "index_status(index_name, azure_cs_endpoint, azure_cs_key)"
   ]
  },
  {
   "cell_type": "markdown",
   "id": "695e1ccb",
   "metadata": {},
   "source": [
    "> End of notebook"
   ]
  },
  {
   "cell_type": "code",
   "execution_count": null,
   "id": "9b4fb133",
   "metadata": {},
   "outputs": [],
   "source": []
  }
 ],
 "metadata": {
  "kernelspec": {
   "display_name": "Python 3.10 - SDK v2",
   "language": "python",
   "name": "python310-sdkv2"
  },
  "language_info": {
   "codemirror_mode": {
    "name": "ipython",
    "version": 3
   },
   "file_extension": ".py",
   "mimetype": "text/x-python",
   "name": "python",
   "nbconvert_exporter": "python",
   "pygments_lexer": "ipython3",
   "version": "3.10.10"
  }
 },
 "nbformat": 4,
 "nbformat_minor": 5
}
