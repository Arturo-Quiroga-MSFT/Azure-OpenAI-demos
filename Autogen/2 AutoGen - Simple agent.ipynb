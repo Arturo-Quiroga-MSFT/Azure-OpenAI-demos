{
 "cells": [
  {
   "cell_type": "markdown",
   "id": "f7494adb",
   "metadata": {},
   "source": [
    "# 2 AutoGen - Simple agent\n",
    "\n",
    "AutoGen is a framework that enables the development of LLM applications using multiple agents that can converse with each other to solve tasks. AutoGen agents are customizable, conversable, and seamlessly allow human participation. They can operate in various modes that employ combinations of LLMs, human inputs, and tools.\n",
    "\n",
    "17/06/2024\n",
    "\n",
    "<img src=\"https://raw.githubusercontent.com/retkowsky/images/master/autogenlogo.jpg\">\n",
    "\n",
    "> Documentation: https://microsoft.github.io/autogen/"
   ]
  },
  {
   "cell_type": "code",
   "execution_count": 1,
   "id": "ae354716",
   "metadata": {},
   "outputs": [],
   "source": [
    "import autogen\n",
    "import openai\n",
    "import os\n",
    "import sys\n",
    "\n",
    "from autogen import AssistantAgent, UserProxyAgent\n",
    "from PIL import Image"
   ]
  },
  {
   "cell_type": "code",
   "execution_count": 2,
   "id": "65d4a3dd",
   "metadata": {},
   "outputs": [
    {
     "data": {
      "text/plain": [
       "'3.10.11 (main, May 16 2023, 00:28:57) [GCC 11.2.0]'"
      ]
     },
     "execution_count": 2,
     "metadata": {},
     "output_type": "execute_result"
    }
   ],
   "source": [
    "sys.version"
   ]
  },
  {
   "cell_type": "code",
   "execution_count": 3,
   "id": "6de3e3e2",
   "metadata": {},
   "outputs": [],
   "source": [
    "def check_openai_version():\n",
    "    \"\"\"\n",
    "    Check Azure Open AI version\n",
    "    \"\"\"\n",
    "    installed_version = openai.__version__\n",
    "\n",
    "    try:\n",
    "        version_number = float(installed_version[:3])\n",
    "    except ValueError:\n",
    "        print(\"Invalid OpenAI version format\")\n",
    "        return\n",
    "\n",
    "    print(f\"Installed OpenAI version: {installed_version}\")\n",
    "\n",
    "    if version_number < 1.0:\n",
    "        print(\"[Warning] You should upgrade OpenAI to have version >= 1.0.0\")\n",
    "        print(\"To upgrade, run: %pip install openai --upgrade\")\n",
    "    else:\n",
    "        print(f\"[OK] OpenAI version {installed_version} is >= 1.0.0\")"
   ]
  },
  {
   "cell_type": "code",
   "execution_count": 4,
   "id": "c9740af2",
   "metadata": {},
   "outputs": [
    {
     "name": "stdout",
     "output_type": "stream",
     "text": [
      "Installed OpenAI version: 1.30.5\n",
      "[OK] OpenAI version 1.30.5 is >= 1.0.0\n"
     ]
    }
   ],
   "source": [
    "check_openai_version()"
   ]
  },
  {
   "cell_type": "code",
   "execution_count": 5,
   "id": "68d9c87d",
   "metadata": {},
   "outputs": [],
   "source": [
    "config_list = autogen.config_list_from_json(\n",
    "    \"OAI_CONFIG_LIST\",\n",
    "    #filter_dict={\"tags\": [\"gpt-4\"]},  # comment out to get all\n",
    ")\n",
    "# When using a single openai endpoint, you can use the following:\n",
    "# config_list = [{\"model\": \"gpt-4\", \"api_key\": os.getenv(\"OPENAI_API_KEY\")}]"
   ]
  },
  {
   "cell_type": "code",
   "execution_count": 6,
   "id": "4e65f696",
   "metadata": {},
   "outputs": [],
   "source": [
    "WORK_DIR = \"workdir\"\n",
    "\n",
    "os.makedirs(WORK_DIR, exist_ok=True)"
   ]
  },
  {
   "cell_type": "markdown",
   "id": "065158ed",
   "metadata": {},
   "source": [
    "## 1. Agent"
   ]
  },
  {
   "cell_type": "code",
   "execution_count": 7,
   "id": "1a0c0934",
   "metadata": {},
   "outputs": [],
   "source": [
    "assistant = AssistantAgent(\n",
    "    name=\"assistant\",\n",
    "    llm_config={\n",
    "        \"cache_seed\": None,  # seed for caching and reproducibility\n",
    "        \"config_list\": config_list,  # a list of OpenAI API configurations\n",
    "        \"temperature\": 0.,  # temperature for sampling\n",
    "    },\n",
    ")"
   ]
  },
  {
   "cell_type": "code",
   "execution_count": 8,
   "id": "f19a1c72",
   "metadata": {},
   "outputs": [],
   "source": [
    "def is_termination_msg(data):\n",
    "    has_content = \"content\" in data and data[\"content\"] is not None\n",
    "    return has_content and \"TERMINATE\" in data[\"content\"]"
   ]
  },
  {
   "cell_type": "code",
   "execution_count": 9,
   "id": "2fe34b4d",
   "metadata": {},
   "outputs": [],
   "source": [
    "user_proxy = UserProxyAgent(\n",
    "    name=\"user_proxy\",\n",
    "    human_input_mode=\"NEVER\",\n",
    "    max_consecutive_auto_reply=10,\n",
    "    is_termination_msg=is_termination_msg,\n",
    "    code_execution_config={\"work_dir\": WORK_DIR},\n",
    ")"
   ]
  },
  {
   "cell_type": "code",
   "execution_count": 10,
   "id": "c6e80987",
   "metadata": {},
   "outputs": [
    {
     "data": {
      "text/plain": [
       "<autogen.agentchat.assistant_agent.AssistantAgent at 0x7f1a4c7f7b50>"
      ]
     },
     "execution_count": 10,
     "metadata": {},
     "output_type": "execute_result"
    }
   ],
   "source": [
    "assistant"
   ]
  },
  {
   "cell_type": "code",
   "execution_count": 11,
   "id": "5bbfed5b",
   "metadata": {},
   "outputs": [
    {
     "data": {
      "text/plain": [
       "<autogen.agentchat.user_proxy_agent.UserProxyAgent at 0x7f1a4c7f7790>"
      ]
     },
     "execution_count": 11,
     "metadata": {},
     "output_type": "execute_result"
    }
   ],
   "source": [
    "user_proxy"
   ]
  },
  {
   "cell_type": "markdown",
   "id": "0e04f2b4",
   "metadata": {},
   "source": [
    "## 2. Examples"
   ]
  },
  {
   "cell_type": "code",
   "execution_count": 12,
   "id": "785d3a15",
   "metadata": {},
   "outputs": [
    {
     "name": "stdout",
     "output_type": "stream",
     "text": [
      "user_proxy (to assistant):\n",
      "\n",
      "What is the current year? Compare the year-to-date gain for MICROSOFT and SALESFORCE\n",
      "\n",
      "--------------------------------------------------------------------------------\n",
      "assistant (to user_proxy):\n",
      "\n",
      "To get the current year, we can use Python's datetime module. Here is the Python code to get the current year:\n",
      "\n",
      "```python\n",
      "import datetime\n",
      "\n",
      "current_year = datetime.datetime.now().year\n",
      "print(\"Current Year: \", current_year)\n",
      "```\n",
      "\n",
      "To compare the year-to-date (YTD) gain for MICROSOFT and SALESFORCE, we need to fetch the stock data for these companies. We can use the `yfinance` library in Python to fetch this data. \n",
      "\n",
      "Please note that you need to install the `yfinance` library if it's not already installed. You can install it using pip:\n",
      "\n",
      "```shell\n",
      "pip install yfinance\n",
      "```\n",
      "\n",
      "After installing `yfinance`, you can use the following Python code to fetch the YTD gain for MICROSOFT (MSFT) and SALESFORCE (CRM):\n",
      "\n",
      "```python\n",
      "import yfinance as yf\n",
      "from datetime import datetime\n",
      "\n",
      "# Get the current year\n",
      "current_year = datetime.now().year\n",
      "\n",
      "# Get the data for the stock MSFT\n",
      "msft = yf.Ticker(\"MSFT\")\n",
      "# Get the historical data for this year\n",
      "msft_data = msft.history(start=str(current_year)+'-01-01', end=str(current_year)+'-12-31')\n",
      "\n",
      "# Calculate the YTD gain for MSFT\n",
      "msft_ytd_gain = (msft_data['Close'][-1] - msft_data['Close'][0]) / msft_data['Close'][0] * 100\n",
      "\n",
      "# Get the data for the stock CRM\n",
      "crm = yf.Ticker(\"CRM\")\n",
      "# Get the historical data for this year\n",
      "crm_data = crm.history(start=str(current_year)+'-01-01', end=str(current_year)+'-12-31')\n",
      "\n",
      "# Calculate the YTD gain for CRM\n",
      "crm_ytd_gain = (crm_data['Close'][-1] - crm_data['Close'][0]) / crm_data['Close'][0] * 100\n",
      "\n",
      "print(\"YTD gain for MICROSOFT (MSFT): \", msft_ytd_gain)\n",
      "print(\"YTD gain for SALESFORCE (CRM): \", crm_ytd_gain)\n",
      "```\n",
      "\n",
      "This code fetches the historical data for MICROSOFT and SALESFORCE for the current year, calculates the YTD gain for each, and prints the results. The YTD gain is calculated as the percentage change in the closing price from the first trading day of the year to the most recent trading day.\n",
      "\n",
      "--------------------------------------------------------------------------------\n",
      "\n",
      ">>>>>>>> EXECUTING CODE BLOCK 0 (inferred language is python)...\n",
      "\n",
      ">>>>>>>> EXECUTING CODE BLOCK 1 (inferred language is shell)...\n",
      "\n",
      ">>>>>>>> EXECUTING CODE BLOCK 2 (inferred language is python)...\n",
      "user_proxy (to assistant):\n",
      "\n",
      "exitcode: 0 (execution succeeded)\n",
      "Code output: \n",
      "Current Year:  2024\n",
      "\n",
      "Collecting yfinance\n",
      "  Downloading yfinance-0.2.40-py2.py3-none-any.whl.metadata (11 kB)\n",
      "Collecting pandas>=1.3.0 (from yfinance)\n",
      "  Downloading pandas-2.2.2-cp312-cp312-manylinux_2_17_x86_64.manylinux2014_x86_64.whl.metadata (19 kB)\n",
      "Collecting numpy>=1.16.5 (from yfinance)\n",
      "  Downloading numpy-2.0.0-cp312-cp312-manylinux_2_17_x86_64.manylinux2014_x86_64.whl.metadata (60 kB)\n",
      "     ━━━━━━━━━━━━━━━━━━━━━━━━━━━━━━━━━━━━━━━━ 60.9/60.9 kB 2.8 MB/s eta 0:00:00\n",
      "Collecting requests>=2.31 (from yfinance)\n",
      "  Downloading requests-2.32.3-py3-none-any.whl.metadata (4.6 kB)\n",
      "Collecting multitasking>=0.0.7 (from yfinance)\n",
      "  Downloading multitasking-0.0.11-py3-none-any.whl.metadata (5.5 kB)\n",
      "Collecting lxml>=4.9.1 (from yfinance)\n",
      "  Downloading lxml-5.2.2-cp312-cp312-manylinux_2_28_x86_64.whl.metadata (3.4 kB)\n",
      "Collecting platformdirs>=2.0.0 (from yfinance)\n",
      "  Downloading platformdirs-4.2.2-py3-none-any.whl.metadata (11 kB)\n",
      "Collecting pytz>=2022.5 (from yfinance)\n",
      "  Downloading pytz-2024.1-py2.py3-none-any.whl.metadata (22 kB)\n",
      "Collecting frozendict>=2.3.4 (from yfinance)\n",
      "  Downloading frozendict-2.4.4-py312-none-any.whl.metadata (23 kB)\n",
      "Collecting peewee>=3.16.2 (from yfinance)\n",
      "  Downloading peewee-3.17.5.tar.gz (3.0 MB)\n",
      "     ━━━━━━━━━━━━━━━━━━━━━━━━━━━━━━━━━━━━━━━━ 3.0/3.0 MB 42.9 MB/s eta 0:00:00\n",
      "  Installing build dependencies: started\n",
      "  Installing build dependencies: finished with status 'done'\n",
      "  Getting requirements to build wheel: started\n",
      "  Getting requirements to build wheel: finished with status 'done'\n",
      "  Preparing metadata (pyproject.toml): started\n",
      "  Preparing metadata (pyproject.toml): finished with status 'done'\n",
      "Collecting beautifulsoup4>=4.11.1 (from yfinance)\n",
      "  Downloading beautifulsoup4-4.12.3-py3-none-any.whl.metadata (3.8 kB)\n",
      "Collecting html5lib>=1.1 (from yfinance)\n",
      "  Downloading html5lib-1.1-py2.py3-none-any.whl.metadata (16 kB)\n",
      "Collecting soupsieve>1.2 (from beautifulsoup4>=4.11.1->yfinance)\n",
      "  Downloading soupsieve-2.5-py3-none-any.whl.metadata (4.7 kB)\n",
      "Collecting six>=1.9 (from html5lib>=1.1->yfinance)\n",
      "  Downloading six-1.16.0-py2.py3-none-any.whl.metadata (1.8 kB)\n",
      "Collecting webencodings (from html5lib>=1.1->yfinance)\n",
      "  Downloading webencodings-0.5.1-py2.py3-none-any.whl.metadata (2.1 kB)\n",
      "Collecting python-dateutil>=2.8.2 (from pandas>=1.3.0->yfinance)\n",
      "  Downloading python_dateutil-2.9.0.post0-py2.py3-none-any.whl.metadata (8.4 kB)\n",
      "Collecting tzdata>=2022.7 (from pandas>=1.3.0->yfinance)\n",
      "  Downloading tzdata-2024.1-py2.py3-none-any.whl.metadata (1.4 kB)\n",
      "Collecting charset-normalizer<4,>=2 (from requests>=2.31->yfinance)\n",
      "  Downloading charset_normalizer-3.3.2-cp312-cp312-manylinux_2_17_x86_64.manylinux2014_x86_64.whl.metadata (33 kB)\n",
      "Collecting idna<4,>=2.5 (from requests>=2.31->yfinance)\n",
      "  Downloading idna-3.7-py3-none-any.whl.metadata (9.9 kB)\n",
      "Collecting urllib3<3,>=1.21.1 (from requests>=2.31->yfinance)\n",
      "  Downloading urllib3-2.2.1-py3-none-any.whl.metadata (6.4 kB)\n",
      "Collecting certifi>=2017.4.17 (from requests>=2.31->yfinance)\n",
      "  Downloading certifi-2024.6.2-py3-none-any.whl.metadata (2.2 kB)\n",
      "Downloading yfinance-0.2.40-py2.py3-none-any.whl (73 kB)\n",
      "   ━━━━━━━━━━━━━━━━━━━━━━━━━━━━━━━━━━━━━━━━ 73.5/73.5 kB 3.7 MB/s eta 0:00:00\n",
      "Downloading beautifulsoup4-4.12.3-py3-none-any.whl (147 kB)\n",
      "   ━━━━━━━━━━━━━━━━━━━━━━━━━━━━━━━━━━━━━━━━ 147.9/147.9 kB 12.3 MB/s eta 0:00:00\n",
      "Downloading frozendict-2.4.4-py312-none-any.whl (16 kB)\n",
      "Downloading html5lib-1.1-py2.py3-none-any.whl (112 kB)\n",
      "   ━━━━━━━━━━━━━━━━━━━━━━━━━━━━━━━━━━━━━━━━ 112.2/112.2 kB 8.8 MB/s eta 0:00:00\n",
      "Downloading lxml-5.2.2-cp312-cp312-manylinux_2_28_x86_64.whl (4.9 MB)\n",
      "   ━━━━━━━━━━━━━━━━━━━━━━━━━━━━━━━━━━━━━━━━ 4.9/4.9 MB 53.4 MB/s eta 0:00:00\n",
      "Downloading multitasking-0.0.11-py3-none-any.whl (8.5 kB)\n",
      "Downloading numpy-2.0.0-cp312-cp312-manylinux_2_17_x86_64.manylinux2014_x86_64.whl (19.0 MB)\n",
      "   ━━━━━━━━━━━━━━━━━━━━━━━━━━━━━━━━━━━━━━━━ 19.0/19.0 MB 60.3 MB/s eta 0:00:00\n",
      "Downloading pandas-2.2.2-cp312-cp312-manylinux_2_17_x86_64.manylinux2014_x86_64.whl (12.7 MB)\n",
      "   ━━━━━━━━━━━━━━━━━━━━━━━━━━━━━━━━━━━━━━━━ 12.7/12.7 MB 58.9 MB/s eta 0:00:00\n",
      "Downloading platformdirs-4.2.2-py3-none-any.whl (18 kB)\n",
      "Downloading pytz-2024.1-py2.py3-none-any.whl (505 kB)\n",
      "   ━━━━━━━━━━━━━━━━━━━━━━━━━━━━━━━━━━━━━━━━ 505.5/505.5 kB 27.2 MB/s eta 0:00:00\n",
      "Downloading requests-2.32.3-py3-none-any.whl (64 kB)\n",
      "   ━━━━━━━━━━━━━━━━━━━━━━━━━━━━━━━━━━━━━━━━ 64.9/64.9 kB 4.1 MB/s eta 0:00:00\n",
      "Downloading certifi-2024.6.2-py3-none-any.whl (164 kB)\n",
      "   ━━━━━━━━━━━━━━━━━━━━━━━━━━━━━━━━━━━━━━━━ 164.4/164.4 kB 11.2 MB/s eta 0:00:00\n",
      "Downloading charset_normalizer-3.3.2-cp312-cp312-manylinux_2_17_x86_64.manylinux2014_x86_64.whl (141 kB)\n",
      "   ━━━━━━━━━━━━━━━━━━━━━━━━━━━━━━━━━━━━━━━━ 141.9/141.9 kB 9.3 MB/s eta 0:00:00\n",
      "Downloading idna-3.7-py3-none-any.whl (66 kB)\n",
      "   ━━━━━━━━━━━━━━━━━━━━━━━━━━━━━━━━━━━━━━━━ 66.8/66.8 kB 4.4 MB/s eta 0:00:00\n",
      "Downloading python_dateutil-2.9.0.post0-py2.py3-none-any.whl (229 kB)\n",
      "   ━━━━━━━━━━━━━━━━━━━━━━━━━━━━━━━━━━━━━━━━ 229.9/229.9 kB 15.1 MB/s eta 0:00:00\n",
      "Downloading six-1.16.0-py2.py3-none-any.whl (11 kB)\n",
      "Downloading soupsieve-2.5-py3-none-any.whl (36 kB)\n",
      "Downloading tzdata-2024.1-py2.py3-none-any.whl (345 kB)\n",
      "   ━━━━━━━━━━━━━━━━━━━━━━━━━━━━━━━━━━━━━━━━ 345.4/345.4 kB 14.2 MB/s eta 0:00:00\n",
      "Downloading urllib3-2.2.1-py3-none-any.whl (121 kB)\n",
      "   ━━━━━━━━━━━━━━━━━━━━━━━━━━━━━━━━━━━━━━━━ 121.1/121.1 kB 9.2 MB/s eta 0:00:00\n",
      "Downloading webencodings-0.5.1-py2.py3-none-any.whl (11 kB)\n",
      "Building wheels for collected packages: peewee\n",
      "  Building wheel for peewee (pyproject.toml): started\n",
      "  Building wheel for peewee (pyproject.toml): finished with status 'done'\n",
      "  Created wheel for peewee: filename=peewee-3.17.5-py3-none-any.whl size=138635 sha256=78230656567465395c517a074030a7d976f014e2f20cb4deeb18a4366027ee0b\n",
      "  Stored in directory: /root/.cache/pip/wheels/df/29/bd/2c860b403d4964724adb889d7e1451b2f3e2942603a199279d\n",
      "Successfully built peewee\n",
      "Installing collected packages: webencodings, pytz, peewee, multitasking, urllib3, tzdata, soupsieve, six, platformdirs, numpy, lxml, idna, frozendict, charset-normalizer, certifi, requests, python-dateutil, html5lib, beautifulsoup4, pandas, yfinance\n",
      "Successfully installed beautifulsoup4-4.12.3 certifi-2024.6.2 charset-normalizer-3.3.2 frozendict-2.4.4 html5lib-1.1 idna-3.7 lxml-5.2.2 multitasking-0.0.11 numpy-2.0.0 pandas-2.2.2 peewee-3.17.5 platformdirs-4.2.2 python-dateutil-2.9.0.post0 pytz-2024.1 requests-2.32.3 six-1.16.0 soupsieve-2.5 tzdata-2024.1 urllib3-2.2.1 webencodings-0.5.1 yfinance-0.2.40\n",
      "WARNING: Running pip as the 'root' user can result in broken permissions and conflicting behaviour with the system package manager. It is recommended to use a virtual environment instead: https://pip.pypa.io/warnings/venv\n",
      "\n",
      "/workspace/tmp_code_97cd6a1b30df9732b96f060330131ab8.py:13: FutureWarning: Series.__getitem__ treating keys as positions is deprecated. In a future version, integer keys will always be treated as labels (consistent with DataFrame behavior). To access a value by position, use `ser.iloc[pos]`\n",
      "  msft_ytd_gain = (msft_data['Close'][-1] - msft_data['Close'][0]) / msft_data['Close'][0] * 100\n",
      "/workspace/tmp_code_97cd6a1b30df9732b96f060330131ab8.py:21: FutureWarning: Series.__getitem__ treating keys as positions is deprecated. In a future version, integer keys will always be treated as labels (consistent with DataFrame behavior). To access a value by position, use `ser.iloc[pos]`\n",
      "  crm_ytd_gain = (crm_data['Close'][-1] - crm_data['Close'][0]) / crm_data['Close'][0] * 100\n",
      "YTD gain for MICROSOFT (MSFT):  19.769241111704638\n",
      "YTD gain for SALESFORCE (CRM):  -9.326134027303294\n",
      "\n"
     ]
    },
    {
     "name": "stdout",
     "output_type": "stream",
     "text": [
      "\n",
      "--------------------------------------------------------------------------------\n",
      "assistant (to user_proxy):\n",
      "\n",
      "The current year is 2024. \n",
      "\n",
      "The Year-to-Date (YTD) gain for MICROSOFT (MSFT) is approximately 19.77%. This means that the value of MICROSOFT stock has increased by this percentage since the start of the year.\n",
      "\n",
      "On the other hand, the YTD gain for SALESFORCE (CRM) is approximately -9.33%. This means that the value of SALESFORCE stock has decreased by this percentage since the start of the year.\n",
      "\n",
      "Please note that these values are based on the closing prices of the stocks and can vary slightly depending on the exact time of the calculation.\n",
      "\n",
      "TERMINATE\n",
      "\n",
      "--------------------------------------------------------------------------------\n"
     ]
    },
    {
     "data": {
      "text/plain": [
       "ChatResult(chat_id=None, chat_history=[{'content': 'What is the current year? Compare the year-to-date gain for MICROSOFT and SALESFORCE', 'role': 'assistant'}, {'content': 'To get the current year, we can use Python\\'s datetime module. Here is the Python code to get the current year:\\n\\n```python\\nimport datetime\\n\\ncurrent_year = datetime.datetime.now().year\\nprint(\"Current Year: \", current_year)\\n```\\n\\nTo compare the year-to-date (YTD) gain for MICROSOFT and SALESFORCE, we need to fetch the stock data for these companies. We can use the `yfinance` library in Python to fetch this data. \\n\\nPlease note that you need to install the `yfinance` library if it\\'s not already installed. You can install it using pip:\\n\\n```shell\\npip install yfinance\\n```\\n\\nAfter installing `yfinance`, you can use the following Python code to fetch the YTD gain for MICROSOFT (MSFT) and SALESFORCE (CRM):\\n\\n```python\\nimport yfinance as yf\\nfrom datetime import datetime\\n\\n# Get the current year\\ncurrent_year = datetime.now().year\\n\\n# Get the data for the stock MSFT\\nmsft = yf.Ticker(\"MSFT\")\\n# Get the historical data for this year\\nmsft_data = msft.history(start=str(current_year)+\\'-01-01\\', end=str(current_year)+\\'-12-31\\')\\n\\n# Calculate the YTD gain for MSFT\\nmsft_ytd_gain = (msft_data[\\'Close\\'][-1] - msft_data[\\'Close\\'][0]) / msft_data[\\'Close\\'][0] * 100\\n\\n# Get the data for the stock CRM\\ncrm = yf.Ticker(\"CRM\")\\n# Get the historical data for this year\\ncrm_data = crm.history(start=str(current_year)+\\'-01-01\\', end=str(current_year)+\\'-12-31\\')\\n\\n# Calculate the YTD gain for CRM\\ncrm_ytd_gain = (crm_data[\\'Close\\'][-1] - crm_data[\\'Close\\'][0]) / crm_data[\\'Close\\'][0] * 100\\n\\nprint(\"YTD gain for MICROSOFT (MSFT): \", msft_ytd_gain)\\nprint(\"YTD gain for SALESFORCE (CRM): \", crm_ytd_gain)\\n```\\n\\nThis code fetches the historical data for MICROSOFT and SALESFORCE for the current year, calculates the YTD gain for each, and prints the results. The YTD gain is calculated as the percentage change in the closing price from the first trading day of the year to the most recent trading day.', 'role': 'user'}, {'content': \"exitcode: 0 (execution succeeded)\\nCode output: \\nCurrent Year:  2024\\n\\nCollecting yfinance\\n  Downloading yfinance-0.2.40-py2.py3-none-any.whl.metadata (11 kB)\\nCollecting pandas>=1.3.0 (from yfinance)\\n  Downloading pandas-2.2.2-cp312-cp312-manylinux_2_17_x86_64.manylinux2014_x86_64.whl.metadata (19 kB)\\nCollecting numpy>=1.16.5 (from yfinance)\\n  Downloading numpy-2.0.0-cp312-cp312-manylinux_2_17_x86_64.manylinux2014_x86_64.whl.metadata (60 kB)\\n     ━━━━━━━━━━━━━━━━━━━━━━━━━━━━━━━━━━━━━━━━ 60.9/60.9 kB 2.8 MB/s eta 0:00:00\\nCollecting requests>=2.31 (from yfinance)\\n  Downloading requests-2.32.3-py3-none-any.whl.metadata (4.6 kB)\\nCollecting multitasking>=0.0.7 (from yfinance)\\n  Downloading multitasking-0.0.11-py3-none-any.whl.metadata (5.5 kB)\\nCollecting lxml>=4.9.1 (from yfinance)\\n  Downloading lxml-5.2.2-cp312-cp312-manylinux_2_28_x86_64.whl.metadata (3.4 kB)\\nCollecting platformdirs>=2.0.0 (from yfinance)\\n  Downloading platformdirs-4.2.2-py3-none-any.whl.metadata (11 kB)\\nCollecting pytz>=2022.5 (from yfinance)\\n  Downloading pytz-2024.1-py2.py3-none-any.whl.metadata (22 kB)\\nCollecting frozendict>=2.3.4 (from yfinance)\\n  Downloading frozendict-2.4.4-py312-none-any.whl.metadata (23 kB)\\nCollecting peewee>=3.16.2 (from yfinance)\\n  Downloading peewee-3.17.5.tar.gz (3.0 MB)\\n     ━━━━━━━━━━━━━━━━━━━━━━━━━━━━━━━━━━━━━━━━ 3.0/3.0 MB 42.9 MB/s eta 0:00:00\\n  Installing build dependencies: started\\n  Installing build dependencies: finished with status 'done'\\n  Getting requirements to build wheel: started\\n  Getting requirements to build wheel: finished with status 'done'\\n  Preparing metadata (pyproject.toml): started\\n  Preparing metadata (pyproject.toml): finished with status 'done'\\nCollecting beautifulsoup4>=4.11.1 (from yfinance)\\n  Downloading beautifulsoup4-4.12.3-py3-none-any.whl.metadata (3.8 kB)\\nCollecting html5lib>=1.1 (from yfinance)\\n  Downloading html5lib-1.1-py2.py3-none-any.whl.metadata (16 kB)\\nCollecting soupsieve>1.2 (from beautifulsoup4>=4.11.1->yfinance)\\n  Downloading soupsieve-2.5-py3-none-any.whl.metadata (4.7 kB)\\nCollecting six>=1.9 (from html5lib>=1.1->yfinance)\\n  Downloading six-1.16.0-py2.py3-none-any.whl.metadata (1.8 kB)\\nCollecting webencodings (from html5lib>=1.1->yfinance)\\n  Downloading webencodings-0.5.1-py2.py3-none-any.whl.metadata (2.1 kB)\\nCollecting python-dateutil>=2.8.2 (from pandas>=1.3.0->yfinance)\\n  Downloading python_dateutil-2.9.0.post0-py2.py3-none-any.whl.metadata (8.4 kB)\\nCollecting tzdata>=2022.7 (from pandas>=1.3.0->yfinance)\\n  Downloading tzdata-2024.1-py2.py3-none-any.whl.metadata (1.4 kB)\\nCollecting charset-normalizer<4,>=2 (from requests>=2.31->yfinance)\\n  Downloading charset_normalizer-3.3.2-cp312-cp312-manylinux_2_17_x86_64.manylinux2014_x86_64.whl.metadata (33 kB)\\nCollecting idna<4,>=2.5 (from requests>=2.31->yfinance)\\n  Downloading idna-3.7-py3-none-any.whl.metadata (9.9 kB)\\nCollecting urllib3<3,>=1.21.1 (from requests>=2.31->yfinance)\\n  Downloading urllib3-2.2.1-py3-none-any.whl.metadata (6.4 kB)\\nCollecting certifi>=2017.4.17 (from requests>=2.31->yfinance)\\n  Downloading certifi-2024.6.2-py3-none-any.whl.metadata (2.2 kB)\\nDownloading yfinance-0.2.40-py2.py3-none-any.whl (73 kB)\\n   ━━━━━━━━━━━━━━━━━━━━━━━━━━━━━━━━━━━━━━━━ 73.5/73.5 kB 3.7 MB/s eta 0:00:00\\nDownloading beautifulsoup4-4.12.3-py3-none-any.whl (147 kB)\\n   ━━━━━━━━━━━━━━━━━━━━━━━━━━━━━━━━━━━━━━━━ 147.9/147.9 kB 12.3 MB/s eta 0:00:00\\nDownloading frozendict-2.4.4-py312-none-any.whl (16 kB)\\nDownloading html5lib-1.1-py2.py3-none-any.whl (112 kB)\\n   ━━━━━━━━━━━━━━━━━━━━━━━━━━━━━━━━━━━━━━━━ 112.2/112.2 kB 8.8 MB/s eta 0:00:00\\nDownloading lxml-5.2.2-cp312-cp312-manylinux_2_28_x86_64.whl (4.9 MB)\\n   ━━━━━━━━━━━━━━━━━━━━━━━━━━━━━━━━━━━━━━━━ 4.9/4.9 MB 53.4 MB/s eta 0:00:00\\nDownloading multitasking-0.0.11-py3-none-any.whl (8.5 kB)\\nDownloading numpy-2.0.0-cp312-cp312-manylinux_2_17_x86_64.manylinux2014_x86_64.whl (19.0 MB)\\n   ━━━━━━━━━━━━━━━━━━━━━━━━━━━━━━━━━━━━━━━━ 19.0/19.0 MB 60.3 MB/s eta 0:00:00\\nDownloading pandas-2.2.2-cp312-cp312-manylinux_2_17_x86_64.manylinux2014_x86_64.whl (12.7 MB)\\n   ━━━━━━━━━━━━━━━━━━━━━━━━━━━━━━━━━━━━━━━━ 12.7/12.7 MB 58.9 MB/s eta 0:00:00\\nDownloading platformdirs-4.2.2-py3-none-any.whl (18 kB)\\nDownloading pytz-2024.1-py2.py3-none-any.whl (505 kB)\\n   ━━━━━━━━━━━━━━━━━━━━━━━━━━━━━━━━━━━━━━━━ 505.5/505.5 kB 27.2 MB/s eta 0:00:00\\nDownloading requests-2.32.3-py3-none-any.whl (64 kB)\\n   ━━━━━━━━━━━━━━━━━━━━━━━━━━━━━━━━━━━━━━━━ 64.9/64.9 kB 4.1 MB/s eta 0:00:00\\nDownloading certifi-2024.6.2-py3-none-any.whl (164 kB)\\n   ━━━━━━━━━━━━━━━━━━━━━━━━━━━━━━━━━━━━━━━━ 164.4/164.4 kB 11.2 MB/s eta 0:00:00\\nDownloading charset_normalizer-3.3.2-cp312-cp312-manylinux_2_17_x86_64.manylinux2014_x86_64.whl (141 kB)\\n   ━━━━━━━━━━━━━━━━━━━━━━━━━━━━━━━━━━━━━━━━ 141.9/141.9 kB 9.3 MB/s eta 0:00:00\\nDownloading idna-3.7-py3-none-any.whl (66 kB)\\n   ━━━━━━━━━━━━━━━━━━━━━━━━━━━━━━━━━━━━━━━━ 66.8/66.8 kB 4.4 MB/s eta 0:00:00\\nDownloading python_dateutil-2.9.0.post0-py2.py3-none-any.whl (229 kB)\\n   ━━━━━━━━━━━━━━━━━━━━━━━━━━━━━━━━━━━━━━━━ 229.9/229.9 kB 15.1 MB/s eta 0:00:00\\nDownloading six-1.16.0-py2.py3-none-any.whl (11 kB)\\nDownloading soupsieve-2.5-py3-none-any.whl (36 kB)\\nDownloading tzdata-2024.1-py2.py3-none-any.whl (345 kB)\\n   ━━━━━━━━━━━━━━━━━━━━━━━━━━━━━━━━━━━━━━━━ 345.4/345.4 kB 14.2 MB/s eta 0:00:00\\nDownloading urllib3-2.2.1-py3-none-any.whl (121 kB)\\n   ━━━━━━━━━━━━━━━━━━━━━━━━━━━━━━━━━━━━━━━━ 121.1/121.1 kB 9.2 MB/s eta 0:00:00\\nDownloading webencodings-0.5.1-py2.py3-none-any.whl (11 kB)\\nBuilding wheels for collected packages: peewee\\n  Building wheel for peewee (pyproject.toml): started\\n  Building wheel for peewee (pyproject.toml): finished with status 'done'\\n  Created wheel for peewee: filename=peewee-3.17.5-py3-none-any.whl size=138635 sha256=78230656567465395c517a074030a7d976f014e2f20cb4deeb18a4366027ee0b\\n  Stored in directory: /root/.cache/pip/wheels/df/29/bd/2c860b403d4964724adb889d7e1451b2f3e2942603a199279d\\nSuccessfully built peewee\\nInstalling collected packages: webencodings, pytz, peewee, multitasking, urllib3, tzdata, soupsieve, six, platformdirs, numpy, lxml, idna, frozendict, charset-normalizer, certifi, requests, python-dateutil, html5lib, beautifulsoup4, pandas, yfinance\\nSuccessfully installed beautifulsoup4-4.12.3 certifi-2024.6.2 charset-normalizer-3.3.2 frozendict-2.4.4 html5lib-1.1 idna-3.7 lxml-5.2.2 multitasking-0.0.11 numpy-2.0.0 pandas-2.2.2 peewee-3.17.5 platformdirs-4.2.2 python-dateutil-2.9.0.post0 pytz-2024.1 requests-2.32.3 six-1.16.0 soupsieve-2.5 tzdata-2024.1 urllib3-2.2.1 webencodings-0.5.1 yfinance-0.2.40\\nWARNING: Running pip as the 'root' user can result in broken permissions and conflicting behaviour with the system package manager. It is recommended to use a virtual environment instead: https://pip.pypa.io/warnings/venv\\n\\n/workspace/tmp_code_97cd6a1b30df9732b96f060330131ab8.py:13: FutureWarning: Series.__getitem__ treating keys as positions is deprecated. In a future version, integer keys will always be treated as labels (consistent with DataFrame behavior). To access a value by position, use `ser.iloc[pos]`\\n  msft_ytd_gain = (msft_data['Close'][-1] - msft_data['Close'][0]) / msft_data['Close'][0] * 100\\n/workspace/tmp_code_97cd6a1b30df9732b96f060330131ab8.py:21: FutureWarning: Series.__getitem__ treating keys as positions is deprecated. In a future version, integer keys will always be treated as labels (consistent with DataFrame behavior). To access a value by position, use `ser.iloc[pos]`\\n  crm_ytd_gain = (crm_data['Close'][-1] - crm_data['Close'][0]) / crm_data['Close'][0] * 100\\nYTD gain for MICROSOFT (MSFT):  19.769241111704638\\nYTD gain for SALESFORCE (CRM):  -9.326134027303294\\n\", 'role': 'assistant'}, {'content': 'The current year is 2024. \\n\\nThe Year-to-Date (YTD) gain for MICROSOFT (MSFT) is approximately 19.77%. This means that the value of MICROSOFT stock has increased by this percentage since the start of the year.\\n\\nOn the other hand, the YTD gain for SALESFORCE (CRM) is approximately -9.33%. This means that the value of SALESFORCE stock has decreased by this percentage since the start of the year.\\n\\nPlease note that these values are based on the closing prices of the stocks and can vary slightly depending on the exact time of the calculation.\\n\\nTERMINATE', 'role': 'user'}], summary='The current year is 2024. \\n\\nThe Year-to-Date (YTD) gain for MICROSOFT (MSFT) is approximately 19.77%. This means that the value of MICROSOFT stock has increased by this percentage since the start of the year.\\n\\nOn the other hand, the YTD gain for SALESFORCE (CRM) is approximately -9.33%. This means that the value of SALESFORCE stock has decreased by this percentage since the start of the year.\\n\\nPlease note that these values are based on the closing prices of the stocks and can vary slightly depending on the exact time of the calculation.\\n\\n', cost={'usage_including_cached_inference': {'total_cost': 0.17243999999999998, 'gpt-4': {'cost': 0.17243999999999998, 'prompt_tokens': 4476, 'completion_tokens': 636, 'total_tokens': 5112}}, 'usage_excluding_cached_inference': {'total_cost': 0.17243999999999998, 'gpt-4': {'cost': 0.17243999999999998, 'prompt_tokens': 4476, 'completion_tokens': 636, 'total_tokens': 5112}}}, human_input=[])"
      ]
     },
     "execution_count": 12,
     "metadata": {},
     "output_type": "execute_result"
    }
   ],
   "source": [
    "user_proxy.initiate_chat(\n",
    "    assistant,\n",
    "    message=\n",
    "    \"What is the current year? Compare the year-to-date gain for MICROSOFT and SALESFORCE\",\n",
    ")"
   ]
  },
  {
   "cell_type": "markdown",
   "id": "9b99aead",
   "metadata": {},
   "source": [
    "### Another example"
   ]
  },
  {
   "cell_type": "code",
   "execution_count": 13,
   "id": "24491108",
   "metadata": {},
   "outputs": [
    {
     "name": "stdout",
     "output_type": "stream",
     "text": [
      "user_proxy (to assistant):\n",
      "\n",
      "Plot a chart of their price change YTD and save the plot into msft_salesforce.png.Choose the green color for Microsoft and blue for SalesForce.\n",
      "\n",
      "--------------------------------------------------------------------------------\n",
      "assistant (to user_proxy):\n",
      "\n",
      "To plot a chart of the price change YTD for Microsoft and Salesforce, we can use the matplotlib library in Python. Here is the Python code to create the plot and save it as 'msft_salesforce.png':\n",
      "\n",
      "```python\n",
      "import matplotlib.pyplot as plt\n",
      "\n",
      "# Plot the closing price of MSFT\n",
      "plt.plot(msft_data['Close'], color='green', label='Microsoft')\n",
      "\n",
      "# Plot the closing price of CRM\n",
      "plt.plot(crm_data['Close'], color='blue', label='Salesforce')\n",
      "\n",
      "# Add labels and title\n",
      "plt.xlabel('Date')\n",
      "plt.ylabel('Closing Price')\n",
      "plt.title('Microsoft vs Salesforce YTD Price Change')\n",
      "\n",
      "# Add a legend\n",
      "plt.legend()\n",
      "\n",
      "# Save the plot as a PNG file\n",
      "plt.savefig('msft_salesforce.png')\n",
      "\n",
      "# Display the plot\n",
      "plt.show()\n",
      "```\n",
      "\n",
      "This code creates a line plot of the closing prices of Microsoft and Salesforce stocks for the current year. The Microsoft line is in green and the Salesforce line is in blue. The plot is saved as 'msft_salesforce.png' in the current directory.\n",
      "\n",
      "--------------------------------------------------------------------------------\n",
      "\n",
      ">>>>>>>> EXECUTING CODE BLOCK 0 (inferred language is python)...\n",
      "user_proxy (to assistant):\n",
      "\n",
      "exitcode: 1 (execution failed)\n",
      "Code output: \n",
      "Traceback (most recent call last):\n",
      "  File \"\", line 1, in <module>\n",
      "    import matplotlib.pyplot as plt\n",
      "ModuleNotFoundError: No module named 'matplotlib'\n",
      "\n",
      "\n",
      "--------------------------------------------------------------------------------\n",
      "assistant (to user_proxy):\n",
      "\n",
      "It seems like the 'matplotlib' library is not installed in your Python environment. You can install it using pip:\n",
      "\n",
      "```shell\n",
      "pip install matplotlib\n",
      "```\n",
      "\n",
      "After installing 'matplotlib', you can use the following Python code to create the plot and save it as 'msft_salesforce.png':\n",
      "\n",
      "```python\n",
      "import matplotlib.pyplot as plt\n",
      "\n",
      "# Plot the closing price of MSFT\n",
      "plt.plot(msft_data['Close'], color='green', label='Microsoft')\n",
      "\n",
      "# Plot the closing price of CRM\n",
      "plt.plot(crm_data['Close'], color='blue', label='Salesforce')\n",
      "\n",
      "# Add labels and title\n",
      "plt.xlabel('Date')\n",
      "plt.ylabel('Closing Price')\n",
      "plt.title('Microsoft vs Salesforce YTD Price Change')\n",
      "\n",
      "# Add a legend\n",
      "plt.legend()\n",
      "\n",
      "# Save the plot as a PNG file\n",
      "plt.savefig('msft_salesforce.png')\n",
      "\n",
      "# Display the plot\n",
      "plt.show()\n",
      "```\n",
      "\n",
      "This code creates a line plot of the closing prices of Microsoft and Salesforce stocks for the current year. The Microsoft line is in green and the Salesforce line is in blue. The plot is saved as 'msft_salesforce.png' in the current directory.\n",
      "\n",
      "--------------------------------------------------------------------------------\n",
      "\n",
      ">>>>>>>> EXECUTING CODE BLOCK 0 (inferred language is shell)...\n",
      "\n",
      ">>>>>>>> EXECUTING CODE BLOCK 1 (inferred language is python)...\n",
      "user_proxy (to assistant):\n",
      "\n",
      "exitcode: 1 (execution failed)\n",
      "Code output: \n",
      "Collecting matplotlib\n",
      "  Downloading matplotlib-3.9.0-cp312-cp312-manylinux_2_17_x86_64.manylinux2014_x86_64.whl.metadata (11 kB)\n",
      "Collecting contourpy>=1.0.1 (from matplotlib)\n",
      "  Downloading contourpy-1.2.1-cp312-cp312-manylinux_2_17_x86_64.manylinux2014_x86_64.whl.metadata (5.8 kB)\n",
      "Collecting cycler>=0.10 (from matplotlib)\n",
      "  Downloading cycler-0.12.1-py3-none-any.whl.metadata (3.8 kB)\n",
      "Collecting fonttools>=4.22.0 (from matplotlib)\n",
      "  Downloading fonttools-4.53.0-cp312-cp312-manylinux_2_5_x86_64.manylinux1_x86_64.manylinux_2_17_x86_64.manylinux2014_x86_64.whl.metadata (162 kB)\n",
      "     ━━━━━━━━━━━━━━━━━━━━━━━━━━━━━━━━━━━━━━━ 162.2/162.2 kB 2.7 MB/s eta 0:00:00\n",
      "Collecting kiwisolver>=1.3.1 (from matplotlib)\n",
      "  Downloading kiwisolver-1.4.5-cp312-cp312-manylinux_2_17_x86_64.manylinux2014_x86_64.whl.metadata (6.4 kB)\n",
      "Requirement already satisfied: numpy>=1.23 in /usr/local/lib/python3.12/site-packages (from matplotlib) (2.0.0)\n",
      "Collecting packaging>=20.0 (from matplotlib)\n",
      "  Downloading packaging-24.1-py3-none-any.whl.metadata (3.2 kB)\n",
      "Collecting pillow>=8 (from matplotlib)\n",
      "  Downloading pillow-10.3.0-cp312-cp312-manylinux_2_28_x86_64.whl.metadata (9.2 kB)\n",
      "Collecting pyparsing>=2.3.1 (from matplotlib)\n",
      "  Downloading pyparsing-3.1.2-py3-none-any.whl.metadata (5.1 kB)\n",
      "Requirement already satisfied: python-dateutil>=2.7 in /usr/local/lib/python3.12/site-packages (from matplotlib) (2.9.0.post0)\n",
      "Requirement already satisfied: six>=1.5 in /usr/local/lib/python3.12/site-packages (from python-dateutil>=2.7->matplotlib) (1.16.0)\n",
      "Downloading matplotlib-3.9.0-cp312-cp312-manylinux_2_17_x86_64.manylinux2014_x86_64.whl (8.3 MB)\n",
      "   ━━━━━━━━━━━━━━━━━━━━━━━━━━━━━━━━━━━━━━━━ 8.3/8.3 MB 45.7 MB/s eta 0:00:00\n",
      "Downloading contourpy-1.2.1-cp312-cp312-manylinux_2_17_x86_64.manylinux2014_x86_64.whl (309 kB)\n",
      "   ━━━━━━━━━━━━━━━━━━━━━━━━━━━━━━━━━━━━━━━━ 309.2/309.2 kB 2.9 MB/s eta 0:00:00\n",
      "Downloading cycler-0.12.1-py3-none-any.whl (8.3 kB)\n",
      "Downloading fonttools-4.53.0-cp312-cp312-manylinux_2_5_x86_64.manylinux1_x86_64.manylinux_2_17_x86_64.manylinux2014_x86_64.whl (4.9 MB)\n",
      "   ━━━━━━━━━━━━━━━━━━━━━━━━━━━━━━━━━━━━━━━━ 4.9/4.9 MB 81.5 MB/s eta 0:00:00\n",
      "Downloading kiwisolver-1.4.5-cp312-cp312-manylinux_2_17_x86_64.manylinux2014_x86_64.whl (1.5 MB)\n",
      "   ━━━━━━━━━━━━━━━━━━━━━━━━━━━━━━━━━━━━━━━━ 1.5/1.5 MB 52.8 MB/s eta 0:00:00\n",
      "Downloading packaging-24.1-py3-none-any.whl (53 kB)\n",
      "   ━━━━━━━━━━━━━━━━━━━━━━━━━━━━━━━━━━━━━━━━ 54.0/54.0 kB 4.2 MB/s eta 0:00:00\n",
      "Downloading pillow-10.3.0-cp312-cp312-manylinux_2_28_x86_64.whl (4.5 MB)\n",
      "   ━━━━━━━━━━━━━━━━━━━━━━━━━━━━━━━━━━━━━━━━ 4.5/4.5 MB 78.4 MB/s eta 0:00:00\n",
      "Downloading pyparsing-3.1.2-py3-none-any.whl (103 kB)\n",
      "   ━━━━━━━━━━━━━━━━━━━━━━━━━━━━━━━━━━━━━━━━ 103.2/103.2 kB 5.9 MB/s eta 0:00:00\n",
      "Installing collected packages: pyparsing, pillow, packaging, kiwisolver, fonttools, cycler, contourpy, matplotlib\n",
      "Successfully installed contourpy-1.2.1 cycler-0.12.1 fonttools-4.53.0 kiwisolver-1.4.5 matplotlib-3.9.0 packaging-24.1 pillow-10.3.0 pyparsing-3.1.2\n",
      "WARNING: Running pip as the 'root' user can result in broken permissions and conflicting behaviour with the system package manager. It is recommended to use a virtual environment instead: https://pip.pypa.io/warnings/venv\n",
      "\n",
      "Traceback (most recent call last):\n",
      "  File \"\", line 4, in <module>\n",
      "    plt.plot(msft_data['Close'], color='green', label='Microsoft')\n",
      "             ^^^^^^^^^\n",
      "NameError: name 'msft_data' is not defined\n",
      "\n",
      "\n",
      "--------------------------------------------------------------------------------\n",
      "assistant (to user_proxy):\n",
      "\n",
      "I apologize for the confusion. The error occurred because the data for Microsoft and Salesforce was not fetched in the same code block as the plotting code. Let's fetch the data again and plot it in the same code block:\n",
      "\n",
      "```python\n",
      "import yfinance as yf\n",
      "from datetime import datetime\n",
      "import matplotlib.pyplot as plt\n",
      "\n",
      "# Get the current year\n",
      "current_year = datetime.now().year\n",
      "\n",
      "# Get the data for the stock MSFT\n",
      "msft = yf.Ticker(\"MSFT\")\n",
      "# Get the historical data for this year\n",
      "msft_data = msft.history(start=str(current_year)+'-01-01', end=str(current_year)+'-12-31')\n",
      "\n",
      "# Get the data for the stock CRM\n",
      "crm = yf.Ticker(\"CRM\")\n",
      "# Get the historical data for this year\n",
      "crm_data = crm.history(start=str(current_year)+'-01-01', end=str(current_year)+'-12-31')\n",
      "\n",
      "# Plot the closing price of MSFT\n",
      "plt.plot(msft_data['Close'], color='green', label='Microsoft')\n",
      "\n",
      "# Plot the closing price of CRM\n",
      "plt.plot(crm_data['Close'], color='blue', label='Salesforce')\n",
      "\n",
      "# Add labels and title\n",
      "plt.xlabel('Date')\n",
      "plt.ylabel('Closing Price')\n",
      "plt.title('Microsoft vs Salesforce YTD Price Change')\n",
      "\n",
      "# Add a legend\n",
      "plt.legend()\n",
      "\n",
      "# Save the plot as a PNG file\n",
      "plt.savefig('msft_salesforce.png')\n",
      "\n",
      "# Display the plot\n",
      "plt.show()\n",
      "```\n",
      "\n",
      "This code fetches the historical data for Microsoft and Salesforce for the current year, creates a line plot of the closing prices, and saves the plot as 'msft_salesforce.png' in the current directory. The Microsoft line is in green and the Salesforce line is in blue.\n",
      "\n",
      "--------------------------------------------------------------------------------\n",
      "\n",
      ">>>>>>>> EXECUTING CODE BLOCK 0 (inferred language is python)...\n",
      "user_proxy (to assistant):\n",
      "\n",
      "exitcode: 0 (execution succeeded)\n",
      "Code output: \n",
      "\n"
     ]
    },
    {
     "name": "stdout",
     "output_type": "stream",
     "text": [
      "\n",
      "--------------------------------------------------------------------------------\n",
      "assistant (to user_proxy):\n",
      "\n",
      "Great! The code executed successfully and the plot has been saved as 'msft_salesforce.png' in the current directory. The plot shows the Year-to-Date (YTD) price change for Microsoft (in green) and Salesforce (in blue). \n",
      "\n",
      "Please check the current directory for the 'msft_salesforce.png' file to view the plot.\n",
      "\n",
      "TERMINATE\n",
      "\n",
      "--------------------------------------------------------------------------------\n"
     ]
    }
   ],
   "source": [
    "user_proxy.send(\n",
    "    recipient=assistant,\n",
    "    message=\n",
    "    \"Plot a chart of their price change YTD and save the plot into msft_salesforce.png.\\\n",
    "Choose the green color for Microsoft and blue for SalesForce.\",\n",
    ")"
   ]
  },
  {
   "cell_type": "code",
   "execution_count": 14,
   "id": "44af89f7",
   "metadata": {},
   "outputs": [
    {
     "data": {
      "image/png": "[encoded data removed]",
      "text/plain": [
       "<PIL.PngImagePlugin.PngImageFile image mode=RGBA size=640x480>"
      ]
     },
     "execution_count": 14,
     "metadata": {},
     "output_type": "execute_result"
    }
   ],
   "source": [
    "img = Image.open(os.path.join(WORK_DIR, 'msft_salesforce.png'))\n",
    "img"
   ]
  },
  {
   "cell_type": "code",
   "execution_count": 15,
   "id": "2e0a10bd",
   "metadata": {},
   "outputs": [
    {
     "name": "stdout",
     "output_type": "stream",
     "text": [
      "-rwxrwxrwx 1 root root 41K Jun 17 10:22 workdir/msft_salesforce.png\r\n"
     ]
    }
   ],
   "source": [
    "!ls $WORK_DIR/*.* -lh"
   ]
  },
  {
   "cell_type": "markdown",
   "id": "86a6df01",
   "metadata": {},
   "source": [
    "### Another example"
   ]
  },
  {
   "cell_type": "code",
   "execution_count": 16,
   "id": "d0224660",
   "metadata": {},
   "outputs": [
    {
     "name": "stdout",
     "output_type": "stream",
     "text": [
      "user_proxy (to assistant):\n",
      "\n",
      "Add a 10 days moving average plot for these two time series and save it to msft_salesforce_ma.png. The moving average line for Microsoft should be in lime and the one for Salesforce should be in cyan color.\n",
      "\n",
      "--------------------------------------------------------------------------------\n",
      "assistant (to user_proxy):\n",
      "\n",
      "To add a 10 days moving average plot for these two time series, we can use the `rolling` function provided by pandas. Here is the Python code to create the plot and save it as 'msft_salesforce_ma.png':\n",
      "\n",
      "```python\n",
      "# Calculate 10 days moving average for MSFT\n",
      "msft_data['MA'] = msft_data['Close'].rolling(window=10).mean()\n",
      "\n",
      "# Calculate 10 days moving average for CRM\n",
      "crm_data['MA'] = crm_data['Close'].rolling(window=10).mean()\n",
      "\n",
      "# Plot the closing price of MSFT\n",
      "plt.plot(msft_data['Close'], color='green', label='Microsoft')\n",
      "\n",
      "# Plot the closing price of CRM\n",
      "plt.plot(crm_data['Close'], color='blue', label='Salesforce')\n",
      "\n",
      "# Plot the 10 days moving average of MSFT\n",
      "plt.plot(msft_data['MA'], color='lime', label='Microsoft 10 Days MA')\n",
      "\n",
      "# Plot the 10 days moving average of CRM\n",
      "plt.plot(crm_data['MA'], color='cyan', label='Salesforce 10 Days MA')\n",
      "\n",
      "# Add labels and title\n",
      "plt.xlabel('Date')\n",
      "plt.ylabel('Closing Price')\n",
      "plt.title('Microsoft vs Salesforce YTD Price Change with 10 Days Moving Average')\n",
      "\n",
      "# Add a legend\n",
      "plt.legend()\n",
      "\n",
      "# Save the plot as a PNG file\n",
      "plt.savefig('msft_salesforce_ma.png')\n",
      "\n",
      "# Display the plot\n",
      "plt.show()\n",
      "```\n",
      "\n",
      "This code calculates the 10 days moving average for the closing prices of Microsoft and Salesforce stocks, creates a line plot of the closing prices and the moving averages, and saves the plot as 'msft_salesforce_ma.png' in the current directory. The Microsoft line is in green, the Salesforce line is in blue, the Microsoft moving average line is in lime, and the Salesforce moving average line is in cyan.\n",
      "\n",
      "--------------------------------------------------------------------------------\n",
      "\n",
      ">>>>>>>> EXECUTING CODE BLOCK 0 (inferred language is python)...\n",
      "user_proxy (to assistant):\n",
      "\n",
      "exitcode: 1 (execution failed)\n",
      "Code output: \n",
      "Traceback (most recent call last):\n",
      "  File \"\", line 2, in <module>\n",
      "    msft_data['MA'] = msft_data['Close'].rolling(window=10).mean()\n",
      "                      ^^^^^^^^^\n",
      "NameError: name 'msft_data' is not defined\n",
      "\n",
      "\n",
      "--------------------------------------------------------------------------------\n",
      "assistant (to user_proxy):\n",
      "\n",
      "I apologize for the confusion. The error occurred because the data for Microsoft and Salesforce was not fetched in the same code block as the plotting code. Let's fetch the data again and plot it in the same code block:\n",
      "\n",
      "```python\n",
      "import yfinance as yf\n",
      "from datetime import datetime\n",
      "import matplotlib.pyplot as plt\n",
      "\n",
      "# Get the current year\n",
      "current_year = datetime.now().year\n",
      "\n",
      "# Get the data for the stock MSFT\n",
      "msft = yf.Ticker(\"MSFT\")\n",
      "# Get the historical data for this year\n",
      "msft_data = msft.history(start=str(current_year)+'-01-01', end=str(current_year)+'-12-31')\n",
      "\n",
      "# Get the data for the stock CRM\n",
      "crm = yf.Ticker(\"CRM\")\n",
      "# Get the historical data for this year\n",
      "crm_data = crm.history(start=str(current_year)+'-01-01', end=str(current_year)+'-12-31')\n",
      "\n",
      "# Calculate 10 days moving average for MSFT\n",
      "msft_data['MA'] = msft_data['Close'].rolling(window=10).mean()\n",
      "\n",
      "# Calculate 10 days moving average for CRM\n",
      "crm_data['MA'] = crm_data['Close'].rolling(window=10).mean()\n",
      "\n",
      "# Plot the closing price of MSFT\n",
      "plt.plot(msft_data['Close'], color='green', label='Microsoft')\n",
      "\n",
      "# Plot the closing price of CRM\n",
      "plt.plot(crm_data['Close'], color='blue', label='Salesforce')\n",
      "\n",
      "# Plot the 10 days moving average of MSFT\n",
      "plt.plot(msft_data['MA'], color='lime', label='Microsoft 10 Days MA')\n",
      "\n",
      "# Plot the 10 days moving average of CRM\n",
      "plt.plot(crm_data['MA'], color='cyan', label='Salesforce 10 Days MA')\n",
      "\n",
      "# Add labels and title\n",
      "plt.xlabel('Date')\n",
      "plt.ylabel('Closing Price')\n",
      "plt.title('Microsoft vs Salesforce YTD Price Change with 10 Days Moving Average')\n",
      "\n",
      "# Add a legend\n",
      "plt.legend()\n",
      "\n",
      "# Save the plot as a PNG file\n",
      "plt.savefig('msft_salesforce_ma.png')\n",
      "\n",
      "# Display the plot\n",
      "plt.show()\n",
      "```\n",
      "\n",
      "This code fetches the historical data for Microsoft and Salesforce for the current year, calculates the 10 days moving average for the closing prices, creates a line plot of the closing prices and the moving averages, and saves the plot as 'msft_salesforce_ma.png' in the current directory. The Microsoft line is in green, the Salesforce line is in blue, the Microsoft moving average line is in lime, and the Salesforce moving average line is in cyan.\n",
      "\n",
      "--------------------------------------------------------------------------------\n",
      "\n",
      ">>>>>>>> EXECUTING CODE BLOCK 0 (inferred language is python)...\n",
      "user_proxy (to assistant):\n",
      "\n",
      "exitcode: 0 (execution succeeded)\n",
      "Code output: \n",
      "\n",
      "\n",
      "--------------------------------------------------------------------------------\n",
      "assistant (to user_proxy):\n",
      "\n",
      "Great! The code executed successfully and the plot with the 10 days moving average has been saved as 'msft_salesforce_ma.png' in the current directory. The plot shows the Year-to-Date (YTD) price change for Microsoft (in green) and Salesforce (in blue), along with their 10 days moving averages (Microsoft in lime and Salesforce in cyan).\n",
      "\n",
      "Please check the current directory for the 'msft_salesforce_ma.png' file to view the plot.\n",
      "\n",
      "TERMINATE\n",
      "\n",
      "--------------------------------------------------------------------------------\n"
     ]
    }
   ],
   "source": [
    "user_proxy.send(\n",
    "    recipient=assistant,\n",
    "    message=\n",
    "    \"Add a 10 days moving average plot for these two time series and save it to msft_salesforce_ma.png. \\\n",
    "The moving average line for Microsoft should be in lime and the one for Salesforce should be in cyan color.\",\n",
    ")"
   ]
  },
  {
   "cell_type": "code",
   "execution_count": 17,
   "id": "60113417",
   "metadata": {},
   "outputs": [
    {
     "data": {
      "image/png": "[encoded data removed]",
      "text/plain": [
       "<PIL.PngImagePlugin.PngImageFile image mode=RGBA size=640x480>"
      ]
     },
     "execution_count": 17,
     "metadata": {},
     "output_type": "execute_result"
    }
   ],
   "source": [
    "img = Image.open(os.path.join(WORK_DIR, 'msft_salesforce_ma.png'))\n",
    "img"
   ]
  },
  {
   "cell_type": "code",
   "execution_count": 18,
   "id": "22278579",
   "metadata": {},
   "outputs": [
    {
     "name": "stdout",
     "output_type": "stream",
     "text": [
      "-rwxrwxrwx 1 root root 5.3K Jun 17 10:24 workdir/meta_tesla.csv\r\n",
      "-rwxrwxrwx 1 root root  33K Jun 17 10:24 workdir/meta_tesla.png\r\n",
      "-rwxrwxrwx 1 root root  41K Jun 17 10:22 workdir/msft_salesforce.png\r\n",
      "-rwxrwxrwx 1 root root  57K Jun 17 10:24 workdir/msft_salesforce_ma.png\r\n"
     ]
    }
   ],
   "source": [
    "!ls $WORK_DIR/*.* -lh"
   ]
  },
  {
   "cell_type": "code",
   "execution_count": null,
   "id": "b9e7da70",
   "metadata": {},
   "outputs": [],
   "source": []
  }
 ],
 "metadata": {
  "kernelspec": {
   "display_name": "Python 3.10 - SDK v2",
   "language": "python",
   "name": "python310-sdkv2"
  },
  "language_info": {
   "codemirror_mode": {
    "name": "ipython",
    "version": 3
   },
   "file_extension": ".py",
   "mimetype": "text/x-python",
   "name": "python",
   "nbconvert_exporter": "python",
   "pygments_lexer": "ipython3",
   "version": "3.10.11"
  }
 },
 "nbformat": 4,
 "nbformat_minor": 5
}
