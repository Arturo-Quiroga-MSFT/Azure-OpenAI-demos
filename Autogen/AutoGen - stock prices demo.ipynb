{
 "cells": [
  {
   "cell_type": "markdown",
   "id": "ea5492b6",
   "metadata": {},
   "source": [
    "# AutoGen - Stocks Prices demo"
   ]
  },
  {
   "cell_type": "markdown",
   "id": "4d7a6f96",
   "metadata": {},
   "source": [
    "AutoGen is a framework that enables the development of LLM applications using multiple agents that can converse with each other to solve tasks. AutoGen agents are customizable, conversable, and seamlessly allow human participation. They can operate in various modes that employ combinations of LLMs, human inputs, and tools.\n",
    "\n",
    "<img src=\"https://github.com/microsoft/autogen/blob/main/website/static/img/autogen_agentchat.png?raw=true\">\n",
    "\n",
    "> https://github.com/microsoft/autogen"
   ]
  },
  {
   "cell_type": "code",
   "execution_count": 1,
   "id": "34497cde",
   "metadata": {},
   "outputs": [],
   "source": [
    "# %pip install yfinance"
   ]
  },
  {
   "cell_type": "code",
   "execution_count": 2,
   "id": "10fb1f3b",
   "metadata": {},
   "outputs": [],
   "source": [
    "import autogen\n",
    "import datetime\n",
    "import openai\n",
    "import os\n",
    "import pandas as pd\n",
    "import requests\n",
    "import yfinance as yf\n",
    "import sys\n",
    "\n",
    "from autogen import AssistantAgent, UserProxyAgent\n",
    "from dotenv import load_dotenv"
   ]
  },
  {
   "cell_type": "code",
   "execution_count": 3,
   "id": "3250b122",
   "metadata": {},
   "outputs": [
    {
     "data": {
      "text/plain": [
       "'3.10.10 (main, Mar 21 2023, 18:45:11) [GCC 11.2.0]'"
      ]
     },
     "execution_count": 3,
     "metadata": {},
     "output_type": "execute_result"
    }
   ],
   "source": [
    "sys.version"
   ]
  },
  {
   "cell_type": "code",
   "execution_count": 4,
   "id": "845998c1",
   "metadata": {},
   "outputs": [
    {
     "name": "stdout",
     "output_type": "stream",
     "text": [
      "Today is 09-Nov-2023 09:43:46\n"
     ]
    }
   ],
   "source": [
    "print(f\"Today is {datetime.datetime.today().strftime('%d-%b-%Y %H:%M:%S')}\")"
   ]
  },
  {
   "cell_type": "markdown",
   "id": "51103393",
   "metadata": {},
   "source": [
    "## Configuration"
   ]
  },
  {
   "cell_type": "code",
   "execution_count": 5,
   "id": "cba2fb4f",
   "metadata": {},
   "outputs": [
    {
     "name": "stdout",
     "output_type": "stream",
     "text": [
      "Open AI version: 0.28.1\n"
     ]
    }
   ],
   "source": [
    "load_dotenv(\"azure.env\")\n",
    "\n",
    "# Azure Open AI\n",
    "openai.api_type: str = \"azure\"\n",
    "openai.api_key = os.getenv(\"OPENAI_API_KEY\")\n",
    "openai.api_base = os.getenv(\"OPENAI_API_BASE\")\n",
    "openai.api_version = os.getenv(\"OPENAI_API_VERSION\")\n",
    "\n",
    "print(\"Open AI version:\", openai.__version__)"
   ]
  },
  {
   "cell_type": "code",
   "execution_count": 6,
   "id": "5c573640",
   "metadata": {},
   "outputs": [
    {
     "name": "stdout",
     "output_type": "stream",
     "text": [
      "-rwxrwxrwx 1 root root 242 Oct 25 11:19 OAI_CONFIG_LIST\r\n"
     ]
    }
   ],
   "source": [
    "!ls OAI_CONFIG_LIST -lh"
   ]
  },
  {
   "cell_type": "code",
   "execution_count": 7,
   "id": "c7b42432",
   "metadata": {},
   "outputs": [],
   "source": [
    "config_list = autogen.config_list_from_json(\n",
    "    \"OAI_CONFIG_LIST\",\n",
    "    filter_dict={\n",
    "        \"model\": [\n",
    "            \"gpt-4\",\n",
    "            \"gpt-4-0314\",\n",
    "            \"gpt4\",\n",
    "            \"gpt-4-32k\",\n",
    "            \"gpt-4-32k-0314\",\n",
    "            \"gpt-4-32k-v0314\",\n",
    "        ],\n",
    "    },\n",
    ")"
   ]
  },
  {
   "cell_type": "code",
   "execution_count": 8,
   "id": "cdf15092",
   "metadata": {},
   "outputs": [
    {
     "name": "stdout",
     "output_type": "stream",
     "text": [
      "You have this required model: gpt-4-32k\n"
     ]
    }
   ],
   "source": [
    "print(\"You have this required model:\", config_list[0][\"model\"])"
   ]
  },
  {
   "cell_type": "markdown",
   "id": "17d7963a",
   "metadata": {},
   "source": [
    "## Functions"
   ]
  },
  {
   "cell_type": "code",
   "execution_count": 9,
   "id": "9d732d1c",
   "metadata": {},
   "outputs": [],
   "source": [
    "def is_termination_msg(data):\n",
    "    \"\"\"\n",
    "    Check TERMINATE message\n",
    "    \"\"\"\n",
    "    has_content = \"content\" in data and data[\"content\"] is not None\n",
    "\n",
    "    return has_content and \"TERMINATE\" in data[\"content\"]"
   ]
  },
  {
   "cell_type": "code",
   "execution_count": 10,
   "id": "5cda195c",
   "metadata": {},
   "outputs": [],
   "source": [
    "def get_prices_for_symbol(symbol: str, days: int) -> pd.DataFrame:\n",
    "    \"\"\"\n",
    "    Get dataframe from stocks prices\n",
    "    \"\"\"\n",
    "    end_date = pd.Timestamp.now()\n",
    "    start_date = end_date - pd.DateOffset(days=days)\n",
    "    df = yf.download(symbol, start=start_date, end=end_date)\n",
    "\n",
    "    df.reset_index(inplace=True)\n",
    "    df = df[[\"Date\", \"Open\", \"High\", \"Low\", \"Close\", \"Volume\"]]\n",
    "\n",
    "    return df"
   ]
  },
  {
   "cell_type": "code",
   "execution_count": 11,
   "id": "83ad1e63",
   "metadata": {},
   "outputs": [],
   "source": [
    "def get_prices(days: int, symbol: str) -> str:\n",
    "    \"\"\"\n",
    "    Get prices\n",
    "    \"\"\"\n",
    "    symbol_df = get_prices_for_symbol(symbol, days)\n",
    "\n",
    "    symbol_txt = symbol_df.to_string(index=None)\n",
    "    return f\"\"\"\n",
    "    \n",
    "{symbol_txt}\n",
    "    \"\"\".strip()"
   ]
  },
  {
   "cell_type": "code",
   "execution_count": 12,
   "id": "661b0160",
   "metadata": {},
   "outputs": [],
   "source": [
    "llm_config = {\n",
    "    \"config_list\": config_list,\n",
    "    \"use_cache\": False,\n",
    "    \"temperature\": 0,\n",
    "    \"request_timeout\": 120,\n",
    "    \"functions\": [\n",
    "        {\n",
    "            \"name\": \"get_prices\",\n",
    "            \"description\": \"Get daily stock prices\",\n",
    "            \"parameters\": {\n",
    "                \"type\": \"object\",\n",
    "                \"properties\": {\n",
    "                    \"days\": {\"type\": \"integer\", \"description\": \"days\"},\n",
    "                    \"symbol\": {\"type\": \"string\", \"description\": \"symbol\"},\n",
    "                },\n",
    "                \"required\": [\"days\", \"symbol\"],\n",
    "            },\n",
    "        }\n",
    "    ],\n",
    "}"
   ]
  },
  {
   "cell_type": "markdown",
   "id": "4e5f29d2",
   "metadata": {},
   "source": [
    "## Agents"
   ]
  },
  {
   "cell_type": "code",
   "execution_count": 13,
   "id": "9fed138f",
   "metadata": {},
   "outputs": [],
   "source": [
    "analyst_msg = f\"\"\"\n",
    "Financial Analyst: You are a Senior Financial Analyst responsible for a stock price indicator.\n",
    "\n",
    "Follow the plan:\n",
    "1. Obtain stock price data from the engineer.\n",
    "2. Analyze the stock price data, provide financial comments, and pass it to the Python designer for chart creation.\n",
    "3. Upon receiving the code from the Python designer along with the complete dataset, if it's not provided, kindly \n",
    "request the Python designer to provide the missing data.\n",
    "4. Please include the closing prices only for the python chart.\n",
    "\n",
    "Upon successful completion of the plan, add \"TERMINATE\" to conclude the message.\n",
    "\"\"\"\n",
    "\n",
    "\n",
    "analyst = AssistantAgent(\n",
    "    name=\"analyst_person\",\n",
    "    system_message=analyst_msg,\n",
    "    llm_config=llm_config,\n",
    "    is_termination_msg=is_termination_msg,\n",
    "    code_execution_config=False,\n",
    ")"
   ]
  },
  {
   "cell_type": "code",
   "execution_count": 14,
   "id": "958d9d6c",
   "metadata": {},
   "outputs": [
    {
     "data": {
      "text/plain": [
       "<autogen.agentchat.assistant_agent.AssistantAgent at 0x7fd79aff0670>"
      ]
     },
     "execution_count": 14,
     "metadata": {},
     "output_type": "execute_result"
    }
   ],
   "source": [
    "analyst"
   ]
  },
  {
   "cell_type": "code",
   "execution_count": 15,
   "id": "2cb52484",
   "metadata": {},
   "outputs": [],
   "source": [
    "engineer_msg = f\"\"\"\n",
    "Engineer. You are a Senior Software Engineer that executes the get_prices functions as requested by the Financial Analyst.\n",
    "\"\"\"\n",
    "\n",
    "\n",
    "engineer = AssistantAgent(\n",
    "    name=\"engineer_person\",\n",
    "    system_message=engineer_msg,\n",
    "    llm_config=llm_config,\n",
    "    function_map={\"get_prices\": get_prices},\n",
    "    code_execution_config=False,\n",
    ")"
   ]
  },
  {
   "cell_type": "code",
   "execution_count": 16,
   "id": "880a0626",
   "metadata": {},
   "outputs": [
    {
     "data": {
      "text/plain": [
       "<autogen.agentchat.assistant_agent.AssistantAgent at 0x7fd79b019720>"
      ]
     },
     "execution_count": 16,
     "metadata": {},
     "output_type": "execute_result"
    }
   ],
   "source": [
    "engineer"
   ]
  },
  {
   "cell_type": "code",
   "execution_count": 17,
   "id": "3e45e955",
   "metadata": {},
   "outputs": [],
   "source": [
    "python_expert_msg = f\"\"\"\n",
    "Python Expert: You are a Senior Python developper with a specialization in creating charts using the\n",
    "seaborn python library. Your job is to develop a stock chart using the closed stock price data supplied\n",
    "by the Senior Financial Analyst.\n",
    "\n",
    "Your responsibility involves:\n",
    "1. Generating comprehensive code, including the actual COMPLETE data, for the Senior Analyst to successfully run the chart.\n",
    "2. Ensuring that the code is prepared for immediate execution, WITHOUT ANY PLACEHOLDERS TEXT or missing data.\n",
    "3. Guaranteeing the seamless integration of the received stock closed price data into the code.\n",
    "4. Structuring the code for execution and utilizing the seaborn library to present the stock chart.\n",
    "\"\"\"\n",
    "\n",
    "\n",
    "pythonexpert = AssistantAgent(\n",
    "    name=\"python_expert_person\",\n",
    "    system_message=python_expert_msg,\n",
    "    code_execution_config=False,  # set to True or image name like \"python:3\" to use docker\n",
    "    llm_config=llm_config,\n",
    ")"
   ]
  },
  {
   "cell_type": "code",
   "execution_count": 18,
   "id": "a6a6c788",
   "metadata": {},
   "outputs": [
    {
     "data": {
      "text/plain": [
       "<autogen.agentchat.assistant_agent.AssistantAgent at 0x7fd75536f7c0>"
      ]
     },
     "execution_count": 18,
     "metadata": {},
     "output_type": "execute_result"
    }
   ],
   "source": [
    "pythonexpert"
   ]
  },
  {
   "cell_type": "code",
   "execution_count": 19,
   "id": "66357082",
   "metadata": {},
   "outputs": [],
   "source": [
    "user_proxy = UserProxyAgent(\n",
    "    name=\"admin\",\n",
    "    system_message=\"\"\"\n",
    "    Human Admin: Let's engage with the analyst to have a discussion about the stock price report. \n",
    "    Please ensure that the final report is shared with me for approval before it's finalized.\n",
    "    \"\"\",\n",
    "    code_execution_config=False,\n",
    "    human_input_mode=\"NEVER\",\n",
    "    is_termination_msg=is_termination_msg,\n",
    ")"
   ]
  },
  {
   "cell_type": "code",
   "execution_count": 20,
   "id": "2e5905eb",
   "metadata": {},
   "outputs": [
    {
     "data": {
      "text/plain": [
       "<autogen.agentchat.user_proxy_agent.UserProxyAgent at 0x7fd79aff2d40>"
      ]
     },
     "execution_count": 20,
     "metadata": {},
     "output_type": "execute_result"
    }
   ],
   "source": [
    "user_proxy"
   ]
  },
  {
   "cell_type": "code",
   "execution_count": 21,
   "id": "9b12da71",
   "metadata": {},
   "outputs": [],
   "source": [
    "groupchat = autogen.GroupChat(\n",
    "    agents=[user_proxy, analyst, pythonexpert, engineer], messages=[], max_round=20\n",
    ")\n",
    "\n",
    "manager = autogen.GroupChatManager(groupchat=groupchat, llm_config=llm_config)"
   ]
  },
  {
   "cell_type": "code",
   "execution_count": 22,
   "id": "5bb63e90",
   "metadata": {},
   "outputs": [
    {
     "data": {
      "text/plain": [
       "GroupChat(agents=[<autogen.agentchat.user_proxy_agent.UserProxyAgent object at 0x7fd79aff2d40>, <autogen.agentchat.assistant_agent.AssistantAgent object at 0x7fd79aff0670>, <autogen.agentchat.assistant_agent.AssistantAgent object at 0x7fd75536f7c0>, <autogen.agentchat.assistant_agent.AssistantAgent object at 0x7fd79b019720>], messages=[], max_round=20, admin_name='Admin', func_call_filter=True)"
      ]
     },
     "execution_count": 22,
     "metadata": {},
     "output_type": "execute_result"
    }
   ],
   "source": [
    "groupchat"
   ]
  },
  {
   "cell_type": "code",
   "execution_count": 23,
   "id": "293d67e1",
   "metadata": {},
   "outputs": [
    {
     "data": {
      "text/plain": [
       "<autogen.agentchat.groupchat.GroupChatManager at 0x7fd75536f490>"
      ]
     },
     "execution_count": 23,
     "metadata": {},
     "output_type": "execute_result"
    }
   ],
   "source": [
    "manager"
   ]
  },
  {
   "cell_type": "markdown",
   "id": "c5e59a71",
   "metadata": {},
   "source": [
    "## Example 1"
   ]
  },
  {
   "cell_type": "code",
   "execution_count": 24,
   "id": "d1353f45",
   "metadata": {},
   "outputs": [
    {
     "data": {
      "application/javascript": [
       "OutputArea.auto_scroll_threshold = 9999\n"
      ],
      "text/plain": [
       "<IPython.core.display.Javascript object>"
      ]
     },
     "metadata": {},
     "output_type": "display_data"
    }
   ],
   "source": [
    "%%javascript Python \n",
    "OutputArea.auto_scroll_threshold = 9999"
   ]
  },
  {
   "cell_type": "code",
   "execution_count": 25,
   "id": "cd6efcbb",
   "metadata": {},
   "outputs": [
    {
     "name": "stdout",
     "output_type": "stream",
     "text": [
      "\u001b[33madmin\u001b[0m (to chat_manager):\n",
      "\n",
      "\n",
      "Analyze the stock prices for the MICROSOFT company for the last 15 days and generate a chart.\n",
      "\n",
      "\n",
      "--------------------------------------------------------------------------------\n",
      "\u001b[33manalyst_person\u001b[0m (to chat_manager):\n",
      "\n",
      "\u001b[32m***** Suggested function Call: get_prices *****\u001b[0m\n",
      "Arguments: \n",
      "\n",
      "{\n",
      "  \"days\": 15,\n",
      "  \"symbol\": \"MSFT\"\n",
      "}\n",
      "\u001b[32m***********************************************\u001b[0m\n",
      "\n",
      "--------------------------------------------------------------------------------\n",
      "\u001b[35m\n",
      ">>>>>>>> EXECUTING FUNCTION get_prices...\u001b[0m\n",
      "[*********************100%%**********************]  1 of 1 completed\n",
      "\u001b[33mengineer_person\u001b[0m (to chat_manager):\n",
      "\n",
      "\u001b[32m***** Response from calling function \"get_prices\" *****\u001b[0m\n",
      "Date       Open       High        Low      Close    Volume\n",
      "2023-10-25 345.019989 346.200012 337.619995 340.670013  55053800\n",
      "2023-10-26 340.540009 341.630005 326.940002 327.890015  37828500\n",
      "2023-10-27 330.429993 336.720001 328.399994 329.809998  29856500\n",
      "2023-10-30 333.410004 339.450012 331.829987 337.309998  22828100\n",
      "2023-10-31 338.850006 339.000000 334.690002 338.109985  20265300\n",
      "2023-11-01 339.790009 347.420013 339.649994 346.070007  28158800\n",
      "2023-11-02 347.239990 348.829987 344.769989 348.320007  24348100\n",
      "2023-11-03 349.630005 354.390015 347.329987 352.799988  23624000\n",
      "2023-11-06 353.450012 357.540009 353.350006 356.529999  23828300\n",
      "2023-11-07 359.399994 362.459991 357.630005 360.529999  25833900\n",
      "2023-11-08 361.679993 363.869995 360.549988 363.200012  26747900\n",
      "\u001b[32m*******************************************************\u001b[0m\n",
      "\n",
      "--------------------------------------------------------------------------------\n",
      "\u001b[33manalyst_person\u001b[0m (to chat_manager):\n",
      "\n",
      "The stock price data for Microsoft (MSFT) for the last 15 days is as follows:\n",
      "\n",
      "- On 2023-10-25, the stock opened at 345.019989 and closed at 340.670013.\n",
      "- On 2023-10-26, the stock opened at 340.540009 and closed at 327.890015.\n",
      "- On 2023-10-27, the stock opened at 330.429993 and closed at 329.809998.\n",
      "- On 2023-10-30, the stock opened at 333.410004 and closed at 337.309998.\n",
      "- On 2023-10-31, the stock opened at 338.850006 and closed at 338.109985.\n",
      "- On 2023-11-01, the stock opened at 339.790009 and closed at 346.070007.\n",
      "- On 2023-11-02, the stock opened at 347.239990 and closed at 348.320007.\n",
      "- On 2023-11-03, the stock opened at 349.630005 and closed at 352.799988.\n",
      "- On 2023-11-06, the stock opened at 353.450012 and closed at 356.529999.\n",
      "- On 2023-11-07, the stock opened at 359.399994 and closed at 360.529999.\n",
      "- On 2023-11-08, the stock opened at 361.679993 and closed at 363.200012.\n",
      "\n",
      "The closing prices show a general upward trend over the period, with a significant drop on 2023-10-26. The highest closing price was on 2023-11-08 at 363.200012, and the lowest closing price was on 2023-10-26 at 327.890015.\n",
      "\n",
      "I will now pass this data to the Python designer to create a chart. Please ensure to include only the closing prices in the chart.\n",
      "\n",
      "--------------------------------------------------------------------------------\n",
      "\u001b[33mpython_expert_person\u001b[0m (to chat_manager):\n",
      "\n",
      "Sure, I will create a line chart using seaborn to visualize the closing prices of Microsoft (MSFT) stock over the last 15 days. Here is the Python code:\n",
      "\n",
      "```python\n",
      "# Import necessary libraries\n",
      "import pandas as pd\n",
      "import seaborn as sns\n",
      "import matplotlib.pyplot as plt\n",
      "\n",
      "# Create a dataframe with the stock data\n",
      "data = {\n",
      "    'Date': ['2023-10-25', '2023-10-26', '2023-10-27', '2023-10-30', '2023-10-31', '2023-11-01', '2023-11-02', '2023-11-03', '2023-11-06', '2023-11-07', '2023-11-08'],\n",
      "    'Close': [340.670013, 327.890015, 329.809998, 337.309998, 338.109985, 346.070007, 348.320007, 352.799988, 356.529999, 360.529999, 363.200012]\n",
      "}\n",
      "\n",
      "df = pd.DataFrame(data)\n",
      "\n",
      "# Convert the 'Date' column to datetime format\n",
      "df['Date'] = pd.to_datetime(df['Date'])\n",
      "\n",
      "# Set the style of seaborn plot\n",
      "sns.set(style=\"whitegrid\")\n",
      "\n",
      "# Create a line plot\n",
      "plt.figure(figsize=(10, 6))\n",
      "sns.lineplot(x=\"Date\", y=\"Close\", data=df)\n",
      "\n",
      "# Set the title and labels of the plot\n",
      "plt.title('Microsoft (MSFT) Stock Closing Prices Over Last 15 Days')\n",
      "plt.xlabel('Date')\n",
      "plt.ylabel('Closing Price')\n",
      "\n",
      "# Display the plot\n",
      "plt.show()\n",
      "```\n",
      "\n",
      "This code creates a line chart that shows the closing prices of Microsoft (MSFT) stock over the last 15 days. The x-axis represents the date, and the y-axis represents the closing price. The line in the chart represents the trend of the closing prices over time.\n",
      "\n",
      "--------------------------------------------------------------------------------\n",
      "\u001b[33madmin\u001b[0m (to chat_manager):\n",
      "\n",
      "\n",
      "\n",
      "--------------------------------------------------------------------------------\n",
      "\u001b[33manalyst_person\u001b[0m (to chat_manager):\n",
      "\n",
      "Thank you for providing the Python code for the chart. The line chart will provide a clear visual representation of the closing prices of Microsoft (MSFT) stock over the last 15 days. This will help in understanding the trend and making informed decisions.\n",
      "\n",
      "TERMINATE\n",
      "\n",
      "--------------------------------------------------------------------------------\n"
     ]
    }
   ],
   "source": [
    "message = f\"\"\"\n",
    "Analyze the stock prices for the MICROSOFT company for the last 15 days and generate a chart.\n",
    "\"\"\"\n",
    "\n",
    "user_proxy.initiate_chat(manager, clear_history=True, message=message)"
   ]
  },
  {
   "cell_type": "code",
   "execution_count": 26,
   "id": "79f073f8",
   "metadata": {},
   "outputs": [
    {
     "data": {
      "image/png": "[encoded data removed]",
      "text/plain": [
       "<Figure size 1000x600 with 1 Axes>"
      ]
     },
     "metadata": {},
     "output_type": "display_data"
    }
   ],
   "source": [
    "# Import necessary libraries\n",
    "import pandas as pd\n",
    "import seaborn as sns\n",
    "import matplotlib.pyplot as plt\n",
    "\n",
    "# Create a dataframe with the stock data\n",
    "data = {\n",
    "    'Date': ['2023-10-25', '2023-10-26', '2023-10-27', '2023-10-30', '2023-10-31', '2023-11-01', '2023-11-02', '2023-11-03', '2023-11-06', '2023-11-07', '2023-11-08'],\n",
    "    'Close': [340.670013, 327.890015, 329.809998, 337.309998, 338.109985, 346.070007, 348.320007, 352.799988, 356.529999, 360.529999, 363.200012]\n",
    "}\n",
    "\n",
    "df = pd.DataFrame(data)\n",
    "\n",
    "# Convert the 'Date' column to datetime format\n",
    "df['Date'] = pd.to_datetime(df['Date'])\n",
    "\n",
    "# Set the style of seaborn plot\n",
    "sns.set(style=\"whitegrid\")\n",
    "\n",
    "# Create a line plot\n",
    "plt.figure(figsize=(10, 6))\n",
    "sns.lineplot(x=\"Date\", y=\"Close\", data=df)\n",
    "\n",
    "# Set the title and labels of the plot\n",
    "plt.title('Microsoft (MSFT) Stock Closing Prices Over Last 15 Days')\n",
    "plt.xlabel('Date')\n",
    "plt.ylabel('Closing Price')\n",
    "\n",
    "# Display the plot\n",
    "plt.show()"
   ]
  },
  {
   "cell_type": "markdown",
   "id": "8f31b67a",
   "metadata": {},
   "source": [
    "## Example 2"
   ]
  },
  {
   "cell_type": "code",
   "execution_count": 27,
   "id": "7fd6b75e",
   "metadata": {},
   "outputs": [
    {
     "name": "stdout",
     "output_type": "stream",
     "text": [
      "\u001b[33madmin\u001b[0m (to chat_manager):\n",
      "\n",
      "\n",
      "Analyze the stock prices for the MICROSOFT company for the last 6 months and generate a chart.\n",
      "\n",
      "\n",
      "--------------------------------------------------------------------------------\n",
      "\u001b[33manalyst_person\u001b[0m (to chat_manager):\n",
      "\n",
      "\u001b[32m***** Suggested function Call: get_prices *****\u001b[0m\n",
      "Arguments: \n",
      "\n",
      "{\n",
      "  \"days\": 180,\n",
      "  \"symbol\": \"MSFT\"\n",
      "}\n",
      "\u001b[32m***********************************************\u001b[0m\n",
      "\n",
      "--------------------------------------------------------------------------------\n",
      "\u001b[35m\n",
      ">>>>>>>> EXECUTING FUNCTION get_prices...\u001b[0m\n",
      "[*********************100%%**********************]  1 of 1 completed\n",
      "\u001b[33mengineer_person\u001b[0m (to chat_manager):\n",
      "\n",
      "\u001b[32m***** Response from calling function \"get_prices\" *****\u001b[0m\n",
      "Date       Open       High        Low      Close    Volume\n",
      "2023-05-15 309.100006 309.899994 307.589996 309.459991  16336500\n",
      "2023-05-16 309.829987 313.709991 309.829987 311.739990  26730300\n",
      "2023-05-17 312.290009 314.429993 310.739990 314.000000  24315000\n",
      "2023-05-18 314.529999 319.040009 313.720001 318.519989  27276000\n",
      "2023-05-19 316.739990 318.750000 316.369995 318.339996  27529500\n",
      "2023-05-22 318.600006 322.589996 318.010010 321.179993  24115700\n",
      "2023-05-23 320.029999 322.720001 315.250000 315.260010  30797200\n",
      "2023-05-24 314.730011 316.500000 312.609985 313.850006  23384900\n",
      "2023-05-25 323.239990 326.899994 320.000000 325.920013  43301700\n",
      "2023-05-26 324.019989 333.399994 323.880005 332.890015  36630600\n",
      "2023-05-30 335.230011 335.739990 330.519989 331.209991  29503100\n",
      "2023-05-31 332.290009 335.940002 327.329987 328.390015  45950600\n",
      "2023-06-01 325.929993 333.529999 324.720001 332.579987  26773900\n",
      "2023-06-02 334.250000 337.500000 332.549988 335.399994  25864000\n",
      "2023-06-05 335.220001 338.559998 334.660004 335.940002  21307100\n",
      "2023-06-06 335.329987 335.369995 332.170013 333.679993  20396200\n",
      "2023-06-07 331.649994 334.489990 322.500000 323.380005  40717100\n",
      "2023-06-08 323.940002 326.640015 323.350006 325.260010  23277700\n",
      "2023-06-09 324.989990 329.989990 324.410004 326.790009  22514900\n",
      "2023-06-12 328.579987 332.100006 325.160004 331.850006  24260300\n",
      "2023-06-13 334.470001 336.980011 330.390015 334.290009  22951300\n",
      "2023-06-14 334.339996 339.040009 332.809998 337.339996  26003800\n",
      "2023-06-15 337.480011 349.839996 337.200012 348.100006  38899100\n",
      "2023-06-16 351.320007 351.470001 341.950012 342.329987  46533600\n",
      "2023-06-20 339.309998 342.079987 335.859985 338.049988  26375400\n",
      "2023-06-21 336.369995 337.730011 332.070007 333.559998  25117800\n",
      "2023-06-22 334.119995 340.119995 333.339996 339.709991  23556800\n",
      "2023-06-23 334.359985 337.959991 333.450012 335.019989  23084700\n",
      "2023-06-26 333.720001 336.109985 328.489990 328.600006  21520600\n",
      "2023-06-27 331.859985 336.149994 329.299988 334.570007  24354100\n",
      "2023-06-28 334.660004 337.980011 333.809998 335.850006  20259500\n",
      "2023-06-29 334.709991 336.109985 332.619995 335.049988  16997000\n",
      "2023-06-30 337.750000 342.730011 337.200012 340.540009  26823800\n",
      "2023-07-03 339.190002 340.899994 336.570007 337.989990  12508700\n",
      "2023-07-05 335.089996 341.649994 334.730011 338.149994  18172400\n",
      "2023-07-06 337.299988 342.989990 335.500000 341.269989  28161200\n",
      "2023-07-07 339.320007 341.790009 337.000000 337.220001  21185300\n",
      "2023-07-10 334.600006 335.230011 327.589996 331.829987  32791400\n",
      "2023-07-11 331.059998 332.859985 327.000000 332.470001  26698200\n",
      "2023-07-12 336.600006 341.649994 335.670013 337.200012  29995300\n",
      "2023-07-13 339.559998 343.739990 339.019989 342.660004  20567200\n",
      "2023-07-14 347.589996 351.429993 344.309998 345.239990  28302200\n",
      "2023-07-17 345.679993 346.989990 342.200012 345.730011  20363900\n",
      "2023-07-18 345.829987 366.779999 342.170013 359.489990  64872700\n",
      "2023-07-19 361.750000 362.459991 352.440002 355.079987  39732900\n",
      "2023-07-20 353.570007 357.970001 345.369995 346.869995  33778400\n",
      "2023-07-21 349.149994 350.299988 339.829987 343.769989  69368900\n",
      "2023-07-24 345.850006 346.920013 342.309998 345.109985  26678100\n",
      "2023-07-25 347.109985 351.890015 345.070007 350.980011  41637700\n",
      "2023-07-26 341.440002 344.670013 333.109985 337.769989  58383700\n",
      "2023-07-27 340.480011 341.329987 329.049988 330.720001  39635300\n",
      "2023-07-28 333.670013 340.010010 333.170013 338.369995  28484900\n",
      "2023-07-31 336.920013 337.700012 333.359985 335.920013  25446000\n",
      "2023-08-01 335.190002 338.540009 333.700012 336.339996  18311900\n",
      "2023-08-02 333.630005 333.630005 326.359985 327.500000  27761300\n",
      "2023-08-03 326.000000 329.880005 325.950012 326.660004  18253700\n",
      "2023-08-04 331.880005 335.140015 327.239990 327.779999  23727700\n",
      "2023-08-07 328.369995 331.109985 327.519989 330.109985  17741500\n",
      "2023-08-08 326.959991 328.750000 323.000000 326.049988  22327600\n",
      "2023-08-09 326.470001 327.109985 321.049988 322.230011  22373300\n",
      "2023-08-10 326.019989 328.260010 321.179993 322.929993  20113700\n",
      "2023-08-11 320.260010 322.410004 319.209991 321.010010  24342600\n",
      "2023-08-14 321.390015 324.059998 320.079987 324.040009  18836100\n",
      "2023-08-15 323.000000 325.089996 320.899994 321.859985  16966300\n",
      "2023-08-16 320.799988 324.420013 319.799988 320.399994  20698900\n",
      "2023-08-17 320.540009 321.869995 316.209991 316.880005  21257200\n",
      "2023-08-18 314.489990 318.380005 311.549988 316.480011  24744800\n",
      "2023-08-21 317.929993 322.769989 317.040009 321.880005  24040000\n",
      "2023-08-22 325.500000 326.079987 321.459991 322.459991  16102000\n",
      "2023-08-23 323.820007 329.200012 323.459991 327.000000  21166400\n",
      "2023-08-24 332.850006 332.980011 319.959991 319.970001  23281400\n",
      "2023-08-25 321.470001 325.359985 318.799988 322.980011  21684100\n",
      "2023-08-28 325.660004 326.149994 321.720001 323.700012  14808500\n",
      "2023-08-29 321.880005 328.980011 321.880005 328.410004  19284600\n",
      "2023-08-30 328.670013 329.809998 326.450012 328.790009  15222100\n",
      "2023-08-31 329.200012 330.910004 326.779999 327.760010  26411000\n",
      "2023-09-01 331.309998 331.989990 326.779999 328.660004  14931200\n",
      "2023-09-05 329.000000 334.850006 328.660004 333.549988  18553900\n",
      "2023-09-06 333.380005 334.459991 330.179993 332.880005  17535800\n",
      "2023-09-07 331.290009 333.079987 329.029999 329.910004  18381000\n",
      "2023-09-08 330.089996 336.160004 329.459991 334.269989  19530100\n",
      "2023-09-11 337.239990 338.420013 335.429993 337.940002  16583300\n",
      "2023-09-12 335.820007 336.790009 331.480011 331.769989  17565500\n",
      "2023-09-13 331.309998 336.850006 331.170013 336.059998  16544400\n",
      "2023-09-14 339.149994 340.859985 336.570007 338.700012  20267000\n",
      "2023-09-15 336.920013 337.399994 329.649994 330.220001  37666900\n",
      "2023-09-18 327.799988 330.399994 326.359985 329.059998  16834200\n",
      "2023-09-19 326.170013 329.390015 324.510010 328.649994  16505900\n",
      "2023-09-20 329.510010 329.589996 320.510010 320.769989  21436500\n",
      "2023-09-21 319.260010 325.350006 315.000000 319.529999  35529500\n",
      "2023-09-22 321.320007 321.450012 316.149994 317.010010  21447900\n",
      "2023-09-25 316.589996 317.670013 315.000000 317.540009  17836000\n",
      "2023-09-26 315.130005 315.880005 310.019989 312.140015  26297600\n",
      "2023-09-27 312.299988 314.299988 309.690002 312.790009  19410100\n",
      "2023-09-28 310.989990 315.480011 309.450012 313.640015  19683600\n",
      "2023-09-29 317.750000 319.470001 314.980011 315.750000  24140300\n",
      "2023-10-02 316.279999 321.890015 315.179993 321.799988  20570000\n",
      "2023-10-03 320.829987 321.390015 311.209991 313.390015  21033500\n",
      "2023-10-04 314.029999 320.040009 314.000000 318.959991  20720100\n",
      "2023-10-05 319.089996 319.980011 314.899994 319.359985  16965600\n",
      "2023-10-06 316.549988 329.190002 316.299988 327.260010  25645500\n",
      "2023-10-09 324.750000 330.299988 323.179993 329.820007  19891200\n",
      "2023-10-10 330.959991 331.100006 327.670013 328.390015  20557100\n",
      "2023-10-11 331.209991 332.820007 329.140015 332.420013  20063200\n",
      "2023-10-12 330.570007 333.630005 328.720001 331.160004  19313100\n",
      "2023-10-13 332.380005 333.829987 326.359985 327.730011  21072400\n",
      "2023-10-16 331.049988 336.140015 330.600006 332.640015  22158000\n",
      "2023-10-17 329.589996 333.459991 327.410004 332.059998  18338500\n",
      "2023-10-18 332.489990 335.589996 328.299988 330.109985  23153600\n",
      "2023-10-19 332.149994 336.880005 330.910004 331.320007  25052100\n",
      "2023-10-20 331.720001 331.920013 325.450012 326.670013  25012600\n",
      "2023-10-23 325.470001 332.730011 324.390015 329.320007  24374700\n",
      "2023-10-24 331.299988 331.839996 327.600006 330.529999  31153600\n",
      "2023-10-25 345.019989 346.200012 337.619995 340.670013  55053800\n",
      "2023-10-26 340.540009 341.630005 326.940002 327.890015  37828500\n",
      "2023-10-27 330.429993 336.720001 328.399994 329.809998  29856500\n",
      "2023-10-30 333.410004 339.450012 331.829987 337.309998  22828100\n",
      "2023-10-31 338.850006 339.000000 334.690002 338.109985  20265300\n",
      "2023-11-01 339.790009 347.420013 339.649994 346.070007  28158800\n",
      "2023-11-02 347.239990 348.829987 344.769989 348.320007  24348100\n",
      "2023-11-03 349.630005 354.390015 347.329987 352.799988  23624000\n",
      "2023-11-06 353.450012 357.540009 353.350006 356.529999  23828300\n",
      "2023-11-07 359.399994 362.459991 357.630005 360.529999  25833900\n",
      "2023-11-08 361.679993 363.869995 360.549988 363.200012  26747900\n",
      "\u001b[32m*******************************************************\u001b[0m\n",
      "\n",
      "--------------------------------------------------------------------------------\n",
      "\u001b[33manalyst_person\u001b[0m (to chat_manager):\n",
      "\n",
      "The stock price data for Microsoft (MSFT) for the last 6 months is as follows:\n",
      "\n",
      "- The stock price has generally been on an upward trend, with some fluctuations.\n",
      "- The lowest closing price over the last 6 months was on 2023-08-22 at 322.459991.\n",
      "- The highest closing price over the last 6 months was on 2023-11-08 at 363.200012.\n",
      "- The stock experienced a significant increase in price on 2023-07-18, with the closing price jumping from 345.730011 the previous day to 359.489990.\n",
      "- The stock experienced a significant decrease in price on 2023-07-20, with the closing price dropping from 355.079987 the previous day to 346.869995.\n",
      "\n",
      "I will now pass this data to the Python designer to create a chart. Please ensure to include only the closing prices in the chart.\n",
      "\n",
      "--------------------------------------------------------------------------------\n",
      "\u001b[33mpython_expert_person\u001b[0m (to chat_manager):\n",
      "\n",
      "Sure, I will create a line chart using seaborn to visualize the closing prices of Microsoft (MSFT) stock over the last 6 months. Here is the Python code:\n",
      "\n",
      "```python\n",
      "# Import necessary libraries\n",
      "import pandas as pd\n",
      "import seaborn as sns\n",
      "import matplotlib.pyplot as plt\n",
      "\n",
      "# Create a dataframe with the stock data\n",
      "data = {\n",
      "    'Date': pd.date_range(start='2023-05-15', periods=180),\n",
      "    'Close': [309.459991, 311.739990, 314.000000, 318.519989, 318.339996, 321.179993, 315.260010, 313.850006, 325.920013, 332.890015, 331.209991, 328.390015, 332.579987, 335.399994, 335.940002, 333.679993, 323.380005, 325.260010, 326.790009, 331.850006, 334.290009, 337.339996, 348.100006, 342.329987, 338.049988, 333.559998, 339.709991, 335.019989, 328.600006, 334.570007, 335.850006, 335.049988, 340.540009, 337.989990, 338.149994, 341.269989, 337.220001, 331.829987, 332.470001, 337.200012, 342.660004, 345.239990, 345.730011, 359.489990, 355.079987, 346.869995, 343.769989, 345.109985, 350.980011, 337.769989, 330.720001, 338.369995, 335.920013, 336.339996, 327.500000, 326.660004, 327.779999, 330.109985, 326.049988, 322.230011, 322.929993, 321.010010, 324.040009, 321.859985, 320.399994, 316.880005, 316.480011, 321.880005, 322.459991, 327.000000, 319.970001, 322.980011, 323.700012, 328.410004, 328.790009, 327.760010, 328.660004, 333.549988, 332.880005, 329.910004, 334.269989, 337.940002, 331.769989, 336.059998, 338.700012, 330.220001, 329.059998, 328.649994, 320.769989, 319.529999, 317.010010, 317.540009, 312.140015, 312.790009, 313.640015, 315.750000, 321.799988, 313.390015, 318.959991, 319.359985, 327.260010, 329.820007, 328.390015, 332.420013, 331.160004, 327.730011, 332.640015, 332.059998, 330.109985, 331.320007, 326.670013, 329.320007, 330.529999, 340.670013, 327.890015, 329.809998, 337.309998, 338.109985, 346.070007, 348.320007, 352.799988, 356.529999, 360.529999, 363.200012]\n",
      "}\n",
      "\n",
      "df = pd.DataFrame(data)\n",
      "\n",
      "# Set the style of seaborn plot\n",
      "sns.set(style=\"whitegrid\")\n",
      "\n",
      "# Create a line plot\n",
      "plt.figure(figsize=(10, 6))\n",
      "sns.lineplot(x=\"Date\", y=\"Close\", data=df)\n",
      "\n",
      "# Set the title and labels of the plot\n",
      "plt.title('Microsoft (MSFT) Stock Closing Prices Over Last 6 Months')\n",
      "plt.xlabel('Date')\n",
      "plt.ylabel('Closing Price')\n",
      "\n",
      "# Display the plot\n",
      "plt.show()\n",
      "```\n",
      "\n",
      "This code creates a line chart that shows the closing prices of Microsoft (MSFT) stock over the last 6 months. The x-axis represents the date, and the y-axis represents the closing price. The line in the chart represents the trend of the closing prices over time.\n",
      "\n",
      "--------------------------------------------------------------------------------\n",
      "\u001b[33madmin\u001b[0m (to chat_manager):\n",
      "\n",
      "\n",
      "\n",
      "--------------------------------------------------------------------------------\n",
      "\u001b[33manalyst_person\u001b[0m (to chat_manager):\n",
      "\n",
      "Thank you for providing the Python code for the chart. The line chart will provide a clear visual representation of the closing prices of Microsoft (MSFT) stock over the last 6 months. This will help in understanding the trend and making informed decisions.\n",
      "\n",
      "TERMINATE\n",
      "\n",
      "--------------------------------------------------------------------------------\n"
     ]
    }
   ],
   "source": [
    "message = f\"\"\"\n",
    "Analyze the stock prices for the MICROSOFT company for the last 6 months and generate a chart.\n",
    "\"\"\"\n",
    "\n",
    "user_proxy.initiate_chat(manager, clear_history=True, message=message)"
   ]
  },
  {
   "cell_type": "code",
   "execution_count": 40,
   "id": "f527bbf7",
   "metadata": {},
   "outputs": [
    {
     "data": {
      "image/png": "[encoded data removed]",
      "text/plain": [
       "<Figure size 1000x600 with 1 Axes>"
      ]
     },
     "metadata": {},
     "output_type": "display_data"
    }
   ],
   "source": [
    "# Import necessary libraries\n",
    "import pandas as pd\n",
    "import seaborn as sns\n",
    "import matplotlib.pyplot as plt\n",
    "\n",
    "# Create a dataframe with the stock data\n",
    "data = {\n",
    "    'Date': pd.date_range(start='2023-05-15', periods=124),\n",
    "    'Close': [309.459991, 311.739990, 314.000000, 318.519989, 318.339996, 321.179993, 315.260010, 313.850006, 325.920013, 332.890015, 331.209991, 328.390015, 332.579987, 335.399994, 335.940002, 333.679993, 323.380005, 325.260010, 326.790009, 331.850006, 334.290009, 337.339996, 348.100006, 342.329987, 338.049988, 333.559998, 339.709991, 335.019989, 328.600006, 334.570007, 335.850006, 335.049988, 340.540009, 337.989990, 338.149994, 341.269989, 337.220001, 331.829987, 332.470001, 337.200012, 342.660004, 345.239990, 345.730011, 359.489990, 355.079987, 346.869995, 343.769989, 345.109985, 350.980011, 337.769989, 330.720001, 338.369995, 335.920013, 336.339996, 327.500000, 326.660004, 327.779999, 330.109985, 326.049988, 322.230011, 322.929993, 321.010010, 324.040009, 321.859985, 320.399994, 316.880005, 316.480011, 321.880005, 322.459991, 327.000000, 319.970001, 322.980011, 323.700012, 328.410004, 328.790009, 327.760010, 328.660004, 333.549988, 332.880005, 329.910004, 334.269989, 337.940002, 331.769989, 336.059998, 338.700012, 330.220001, 329.059998, 328.649994, 320.769989, 319.529999, 317.010010, 317.540009, 312.140015, 312.790009, 313.640015, 315.750000, 321.799988, 313.390015, 318.959991, 319.359985, 327.260010, 329.820007, 328.390015, 332.420013, 331.160004, 327.730011, 332.640015, 332.059998, 330.109985, 331.320007, 326.670013, 329.320007, 330.529999, 340.670013, 327.890015, 329.809998, 337.309998, 338.109985, 346.070007, 348.320007, 352.799988, 356.529999, 360.529999, 363.200012]\n",
    "}\n",
    "\n",
    "df = pd.DataFrame(data)\n",
    "\n",
    "# Set the style of seaborn plot\n",
    "sns.set(style=\"whitegrid\")\n",
    "\n",
    "# Create a line plot\n",
    "plt.figure(figsize=(10, 6))\n",
    "sns.lineplot(x=\"Date\", y=\"Close\", data=df)\n",
    "\n",
    "# Set the title and labels of the plot\n",
    "plt.title('Microsoft (MSFT) Stock Closing Prices Over Last 6 Months')\n",
    "plt.xlabel('Date')\n",
    "plt.ylabel('Closing Price')\n",
    "\n",
    "# Display the plot\n",
    "plt.show()"
   ]
  },
  {
   "cell_type": "markdown",
   "id": "efaca633",
   "metadata": {},
   "source": [
    "## Example 3"
   ]
  },
  {
   "cell_type": "code",
   "execution_count": 30,
   "id": "0b0f378d",
   "metadata": {},
   "outputs": [
    {
     "name": "stdout",
     "output_type": "stream",
     "text": [
      "\u001b[33madmin\u001b[0m (to chat_manager):\n",
      "\n",
      "\n",
      "Analyze the stock prices for the APPLE company for the last 20 days and generate a chart.\n",
      "\n",
      "\n",
      "--------------------------------------------------------------------------------\n",
      "\u001b[33manalyst_person\u001b[0m (to chat_manager):\n",
      "\n",
      "\u001b[32m***** Suggested function Call: get_prices *****\u001b[0m\n",
      "Arguments: \n",
      "\n",
      "{\n",
      "  \"days\": 20,\n",
      "  \"symbol\": \"AAPL\"\n",
      "}\n",
      "\u001b[32m***********************************************\u001b[0m\n",
      "\n",
      "--------------------------------------------------------------------------------\n",
      "\u001b[35m\n",
      ">>>>>>>> EXECUTING FUNCTION get_prices...\u001b[0m\n",
      "[*********************100%%**********************]  1 of 1 completed\n",
      "\u001b[33mengineer_person\u001b[0m (to chat_manager):\n",
      "\n",
      "\u001b[32m***** Response from calling function \"get_prices\" *****\u001b[0m\n",
      "Date       Open       High        Low      Close    Volume\n",
      "2023-10-20 175.309998 175.419998 172.639999 172.880005  64189300\n",
      "2023-10-23 170.910004 174.009995 169.929993 173.000000  55980100\n",
      "2023-10-24 173.050003 173.669998 171.449997 173.440002  43816600\n",
      "2023-10-25 171.880005 173.059998 170.649994 171.100006  57157000\n",
      "2023-10-26 170.369995 171.380005 165.669998 166.889999  70625300\n",
      "2023-10-27 166.910004 168.960007 166.830002 168.220001  58499100\n",
      "2023-10-30 169.020004 171.169998 168.869995 170.289993  51131000\n",
      "2023-10-31 169.350006 170.899994 167.899994 170.770004  44846000\n",
      "2023-11-01 171.000000 174.229996 170.119995 173.970001  56934900\n",
      "2023-11-02 175.520004 177.779999 175.460007 177.570007  77334800\n",
      "2023-11-03 174.240005 176.820007 173.350006 176.649994  79763700\n",
      "2023-11-06 176.380005 179.429993 176.210007 179.229996  63841300\n",
      "2023-11-07 179.179993 182.440002 178.970001 181.820007  70530000\n",
      "2023-11-08 182.350006 183.449997 181.589996 182.889999  49287300\n",
      "\u001b[32m*******************************************************\u001b[0m\n",
      "\n",
      "--------------------------------------------------------------------------------\n",
      "\u001b[33manalyst_person\u001b[0m (to chat_manager):\n",
      "\n",
      "The stock price data for Apple (AAPL) for the last 20 days is as follows:\n",
      "\n",
      "- On 2023-10-20, the stock opened at 175.309998 and closed at 172.880005.\n",
      "- On 2023-10-23, the stock opened at 170.910004 and closed at 173.000000.\n",
      "- On 2023-10-24, the stock opened at 173.050003 and closed at 173.440002.\n",
      "- On 2023-10-25, the stock opened at 171.880005 and closed at 171.100006.\n",
      "- On 2023-10-26, the stock opened at 170.369995 and closed at 166.889999.\n",
      "- On 2023-10-27, the stock opened at 166.910004 and closed at 168.220001.\n",
      "- On 2023-10-30, the stock opened at 169.020004 and closed at 170.289993.\n",
      "- On 2023-10-31, the stock opened at 169.350006 and closed at 170.770004.\n",
      "- On 2023-11-01, the stock opened at 171.000000 and closed at 173.970001.\n",
      "- On 2023-11-02, the stock opened at 175.520004 and closed at 177.570007.\n",
      "- On 2023-11-03, the stock opened at 174.240005 and closed at 176.649994.\n",
      "- On 2023-11-06, the stock opened at 176.380005 and closed at 179.229996.\n",
      "- On 2023-11-07, the stock opened at 179.179993 and closed at 181.820007.\n",
      "- On 2023-11-08, the stock opened at 182.350006 and closed at 182.889999.\n",
      "\n",
      "The closing prices show a general upward trend over the period, with a significant drop on 2023-10-26. The highest closing price was on 2023-11-08 at 182.889999, and the lowest closing price was on 2023-10-26 at 166.889999.\n",
      "\n",
      "I will now pass this data to the Python designer to create a chart. Please ensure to include only the closing prices in the chart.\n",
      "\n",
      "--------------------------------------------------------------------------------\n",
      "\u001b[33mpython_expert_person\u001b[0m (to chat_manager):\n",
      "\n",
      "Sure, I will create a line chart using seaborn to visualize the closing prices of Apple (AAPL) stock over the last 20 days. Here is the Python code:\n",
      "\n",
      "```python\n",
      "# Import necessary libraries\n",
      "import pandas as pd\n",
      "import seaborn as sns\n",
      "import matplotlib.pyplot as plt\n",
      "\n",
      "# Create a dataframe with the stock data\n",
      "data = {\n",
      "    'Date': ['2023-10-20', '2023-10-23', '2023-10-24', '2023-10-25', '2023-10-26', '2023-10-27', '2023-10-30', '2023-10-31', '2023-11-01', '2023-11-02', '2023-11-03', '2023-11-06', '2023-11-07', '2023-11-08'],\n",
      "    'Close': [172.880005, 173.000000, 173.440002, 171.100006, 166.889999, 168.220001, 170.289993, 170.770004, 173.970001, 177.570007, 176.649994, 179.229996, 181.820007, 182.889999]\n",
      "}\n",
      "\n",
      "df = pd.DataFrame(data)\n",
      "\n",
      "# Convert the 'Date' column to datetime format\n",
      "df['Date'] = pd.to_datetime(df['Date'])\n",
      "\n",
      "# Set the style of seaborn plot\n",
      "sns.set(style=\"whitegrid\")\n",
      "\n",
      "# Create a line plot\n",
      "plt.figure(figsize=(10, 6))\n",
      "sns.lineplot(x=\"Date\", y=\"Close\", data=df)\n",
      "\n",
      "# Set the title and labels of the plot\n",
      "plt.title('Apple (AAPL) Stock Closing Prices Over Last 20 Days')\n",
      "plt.xlabel('Date')\n",
      "plt.ylabel('Closing Price')\n",
      "\n",
      "# Display the plot\n",
      "plt.show()\n",
      "```\n",
      "\n",
      "This code creates a line chart that shows the closing prices of Apple (AAPL) stock over the last 20 days. The x-axis represents the date, and the y-axis represents the closing price. The line in the chart represents the trend of the closing prices over time.\n",
      "\n",
      "--------------------------------------------------------------------------------\n",
      "\u001b[33madmin\u001b[0m (to chat_manager):\n",
      "\n",
      "\n",
      "\n",
      "--------------------------------------------------------------------------------\n",
      "\u001b[33manalyst_person\u001b[0m (to chat_manager):\n",
      "\n",
      "Thank you for providing the Python code for the chart. The line chart will provide a clear visual representation of the closing prices of Apple (AAPL) stock over the last 20 days. This will help in understanding the trend and making informed decisions.\n",
      "\n",
      "TERMINATE\n",
      "\n",
      "--------------------------------------------------------------------------------\n"
     ]
    }
   ],
   "source": [
    "message = f\"\"\"\n",
    "Analyze the stock prices for the APPLE company for the last 20 days and generate a chart.\n",
    "\"\"\"\n",
    "\n",
    "user_proxy.initiate_chat(manager, clear_history=True, message=message)"
   ]
  },
  {
   "cell_type": "code",
   "execution_count": 31,
   "id": "f935468a",
   "metadata": {},
   "outputs": [
    {
     "data": {
      "image/png": "[encoded data removed]",
      "text/plain": [
       "<Figure size 1000x600 with 1 Axes>"
      ]
     },
     "metadata": {},
     "output_type": "display_data"
    }
   ],
   "source": [
    "# Import necessary libraries\n",
    "import pandas as pd\n",
    "import seaborn as sns\n",
    "import matplotlib.pyplot as plt\n",
    "\n",
    "# Create a dataframe with the stock data\n",
    "data = {\n",
    "    'Date': ['2023-10-20', '2023-10-23', '2023-10-24', '2023-10-25', '2023-10-26', '2023-10-27', '2023-10-30', '2023-10-31', '2023-11-01', '2023-11-02', '2023-11-03', '2023-11-06', '2023-11-07', '2023-11-08'],\n",
    "    'Close': [172.880005, 173.000000, 173.440002, 171.100006, 166.889999, 168.220001, 170.289993, 170.770004, 173.970001, 177.570007, 176.649994, 179.229996, 181.820007, 182.889999]\n",
    "}\n",
    "\n",
    "df = pd.DataFrame(data)\n",
    "\n",
    "# Convert the 'Date' column to datetime format\n",
    "df['Date'] = pd.to_datetime(df['Date'])\n",
    "\n",
    "# Set the style of seaborn plot\n",
    "sns.set(style=\"whitegrid\")\n",
    "\n",
    "# Create a line plot\n",
    "plt.figure(figsize=(10, 6))\n",
    "sns.lineplot(x=\"Date\", y=\"Close\", data=df)\n",
    "\n",
    "# Set the title and labels of the plot\n",
    "plt.title('Apple (AAPL) Stock Closing Prices Over Last 20 Days')\n",
    "plt.xlabel('Date')\n",
    "plt.ylabel('Closing Price')\n",
    "\n",
    "# Display the plot\n",
    "plt.show()"
   ]
  },
  {
   "cell_type": "code",
   "execution_count": null,
   "id": "e35db97e",
   "metadata": {},
   "outputs": [],
   "source": []
  }
 ],
 "metadata": {
  "kernelspec": {
   "display_name": "Python 3.10 - SDK v2",
   "language": "python",
   "name": "python310-sdkv2"
  },
  "language_info": {
   "codemirror_mode": {
    "name": "ipython",
    "version": 3
   },
   "file_extension": ".py",
   "mimetype": "text/x-python",
   "name": "python",
   "nbconvert_exporter": "python",
   "pygments_lexer": "ipython3",
   "version": "3.10.10"
  }
 },
 "nbformat": 4,
 "nbformat_minor": 5
}
