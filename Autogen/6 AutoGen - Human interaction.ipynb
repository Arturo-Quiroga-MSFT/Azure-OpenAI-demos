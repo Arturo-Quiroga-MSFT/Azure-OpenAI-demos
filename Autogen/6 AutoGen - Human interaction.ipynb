{
 "cells": [
  {
   "cell_type": "markdown",
   "id": "c1749c2e",
   "metadata": {},
   "source": [
    "# 6 AutoGen - Human interaction\n",
    "\n",
    "AutoGen is a framework that enables the development of LLM applications using multiple agents that can converse with each other to solve tasks. AutoGen agents are customizable, conversable, and seamlessly allow human participation. They can operate in various modes that employ combinations of LLMs, human inputs, and tools.\n",
    "\n",
    "17/06/2024\n",
    "\n",
    "<img src=\"https://raw.githubusercontent.com/retkowsky/images/master/autogenlogo.jpg\">\n",
    "\n",
    "> Documentation: https://microsoft.github.io/autogen/"
   ]
  },
  {
   "cell_type": "code",
   "execution_count": 1,
   "id": "97bc2c9d",
   "metadata": {},
   "outputs": [],
   "source": [
    "import autogen\n",
    "import json\n",
    "import openai\n",
    "import os\n",
    "import sys\n",
    "\n",
    "from autogen import config_list_from_json"
   ]
  },
  {
   "cell_type": "code",
   "execution_count": 2,
   "id": "e3c7ccc6",
   "metadata": {},
   "outputs": [
    {
     "data": {
      "text/plain": [
       "'3.10.11 (main, May 16 2023, 00:28:57) [GCC 11.2.0]'"
      ]
     },
     "execution_count": 2,
     "metadata": {},
     "output_type": "execute_result"
    }
   ],
   "source": [
    "sys.version"
   ]
  },
  {
   "cell_type": "code",
   "execution_count": 3,
   "id": "f8a5a8a0",
   "metadata": {},
   "outputs": [],
   "source": [
    "config_list = autogen.config_list_from_json(\n",
    "    \"OAI_CONFIG_LIST\",\n",
    "    #filter_dict={\"tags\": [\"gpt-4\"]},  # comment out to get all\n",
    ")\n",
    "# When using a single openai endpoint, you can use the following:\n",
    "# config_list = [{\"model\": \"gpt-4\", \"api_key\": os.getenv(\"OPENAI_API_KEY\")}]"
   ]
  },
  {
   "cell_type": "code",
   "execution_count": 4,
   "id": "7448db1d",
   "metadata": {},
   "outputs": [],
   "source": [
    "WORK_DIR = \"workdir\"\n",
    "\n",
    "os.makedirs(WORK_DIR, exist_ok=True)"
   ]
  },
  {
   "cell_type": "markdown",
   "id": "0e8635eb",
   "metadata": {},
   "source": [
    "## 1. Agent"
   ]
  },
  {
   "cell_type": "code",
   "execution_count": 5,
   "id": "643c7008",
   "metadata": {},
   "outputs": [],
   "source": [
    "config_list = config_list_from_json(env_or_file=\"OAI_CONFIG_LIST\")"
   ]
  },
  {
   "cell_type": "code",
   "execution_count": 6,
   "id": "61cf8243",
   "metadata": {},
   "outputs": [],
   "source": [
    "# create an AssistantAgent instance named \"assistant\"\n",
    "assistant = autogen.AssistantAgent(\n",
    "    name=\"assistant\",\n",
    "    llm_config={\n",
    "        \"cache_seed\": None,\n",
    "        \"config_list\": config_list,\n",
    "    },\n",
    ")"
   ]
  },
  {
   "cell_type": "code",
   "execution_count": 7,
   "id": "1e9a1ff0",
   "metadata": {},
   "outputs": [],
   "source": [
    "# create a UserProxyAgent instance named \"user_proxy\"\n",
    "user_proxy = autogen.UserProxyAgent(\n",
    "    name=\"user_proxy\",\n",
    "    human_input_mode=\"ALWAYS\",\n",
    "    is_termination_msg=lambda x: x.get(\"content\", \"\").rstrip().endswith(\n",
    "        \"TERMINATE\"),\n",
    "    code_execution_config={\n",
    "        \"use_docker\": False\n",
    "    },  # Please set use_docker=True if docker is available to run the generated code.\n",
    ")"
   ]
  },
  {
   "cell_type": "code",
   "execution_count": 8,
   "id": "0831074d",
   "metadata": {},
   "outputs": [],
   "source": [
    "problem_to_solve = \"\"\"\n",
    "I want to resize all my jpeg images from the directory MYIMAGES to (640,640) pixels.\n",
    "Show me the python code.\n",
    "\"\"\""
   ]
  },
  {
   "cell_type": "code",
   "execution_count": 9,
   "id": "3d33e29b",
   "metadata": {},
   "outputs": [
    {
     "name": "stdout",
     "output_type": "stream",
     "text": [
      "user_proxy (to assistant):\n",
      "\n",
      "\n",
      "I want to resize all my jpeg images from the directory MYIMAGES to (640,640) pixels.\n",
      "Show me the python code.\n",
      "\n",
      "\n",
      "--------------------------------------------------------------------------------\n",
      "assistant (to user_proxy):\n",
      "\n",
      "Sure, you can use Pillow, a Python Imaging Library to accomplish your task. \n",
      "\n",
      "Here's the code:\n",
      "\n",
      "```python\n",
      "# filename: resize_images.py\n",
      "\n",
      "import os\n",
      "from PIL import Image\n",
      "\n",
      "def resize_images():\n",
      "    directory = 'MYIMAGES'\n",
      "    for filename in os.listdir(directory):\n",
      "        if filename.endswith(\".jpeg\") or filename.endswith(\".jpg\"): \n",
      "            img_path = os.path.join(directory, filename)\n",
      "            img = Image.open(img_path)\n",
      "            img = img.resize((640, 640))\n",
      "            img.save(img_path)\n",
      "\n",
      "resize_images()\n",
      "```\n",
      "\n",
      "Steps to Execute:\n",
      "1. Copy the code into a python file `resize_images.py`.\n",
      "2. Replace `'MYIMAGES'` with your image directory path if it is different.\n",
      "3. Run the python file.\n",
      "\n",
      "This code will resize all images in the given directory to 640x640 pixels. Please do back up your images before running this code as this will replace all your original images.\n",
      "\n",
      "--------------------------------------------------------------------------------\n",
      "Provide feedback to assistant. Press enter to skip and use auto-reply, or type 'exit' to end the conversation: Use OpenCV\n",
      "user_proxy (to assistant):\n",
      "\n",
      "Use OpenCV\n",
      "\n",
      "--------------------------------------------------------------------------------\n",
      "assistant (to user_proxy):\n",
      "\n",
      "All right, using OpenCV to resize images makes perfect sense too. Here is the updated Python code using OpenCV:\n",
      "\n",
      "```python\n",
      "# filename: resize_images.py\n",
      "\n",
      "import os\n",
      "import cv2\n",
      "\n",
      "def resize_images():\n",
      "    directory = 'MYIMAGES'\n",
      "    for filename in os.listdir(directory):\n",
      "        if filename.endswith(\".jpeg\") or filename.endswith(\".jpg\"): \n",
      "            img_path = os.path.join(directory, filename)\n",
      "            img = cv2.imread(img_path)\n",
      "            img = cv2.resize(img, (640, 640))\n",
      "            cv2.imwrite(img_path, img)\n",
      "\n",
      "resize_images()\n",
      "```\n",
      "\n",
      "Steps to Execute:\n",
      "1. Copy the code into a python file `resize_images.py`.\n",
      "2. Replace `'MYIMAGES'` with your image directory path if it is different.\n",
      "3. Run the python file.\n",
      "\n",
      "This code will resize all images in the given directory to 640x640 pixels. Please back up your images before running this code as this will replace all the original images.\n",
      "\n",
      "--------------------------------------------------------------------------------\n",
      "Provide feedback to assistant. Press enter to skip and use auto-reply, or type 'exit' to end the conversation: Do not use OpenCV or PIL. Use something else.\n",
      "user_proxy (to assistant):\n",
      "\n",
      "Do not use OpenCV or PIL. Use something else.\n",
      "\n",
      "--------------------------------------------------------------------------------\n",
      "assistant (to user_proxy):\n",
      "\n",
      "Okay, since you don't want to use PIL or OpenCV, you can use the imageio library in Python with scipy. This is a bit unconventional but it should work for your case. \n",
      "\n",
      "Here is an example code:\n",
      "\n",
      "```python\n",
      "# filename: resize_images.py\n",
      "\n",
      "import os\n",
      "import imageio\n",
      "from scipy import misc\n",
      "\n",
      "def resize_images():\n",
      "    directory = 'MYIMAGES'\n",
      "    for filename in os.listdir(directory):\n",
      "        if filename.endswith(\".jpeg\") or filename.endswith(\".jpg\"): \n",
      "            img_path = os.path.join(directory, filename)\n",
      "            img = imageio.imread(img_path)\n",
      "            img_resized = misc.imresize(img, (640, 640))\n",
      "            imageio.imsave(img_path, img_resized)\n",
      "\n",
      "resize_images()\n",
      "```\n",
      "\n",
      "Steps to Execute:\n",
      "1. Copy the code into a python file named `resize_images.py`.\n",
      "2. Replace `'MYIMAGES'` with your image directory path if it is different.\n",
      "3. Run the python file.\n",
      "\n",
      "This code will resize all images in the given directory to 640x640 pixels. The `misc.imresize()` function from the `scipy` library is used for resizing. \n",
      "\n",
      "Please back up your images before running this code as this will replace all the original images. Also, make sure you have scipy and imageio installed in your environment. You can install these packages by running `pip install scipy imageio` in your command prompt or terminal.\n",
      "\n",
      "Please confirm after executing the code.\n",
      "\n",
      "--------------------------------------------------------------------------------\n",
      "Provide feedback to assistant. Press enter to skip and use auto-reply, or type 'exit' to end the conversation: exit\n"
     ]
    },
    {
     "data": {
      "text/plain": [
       "ChatResult(chat_id=None, chat_history=[{'content': '\\nI want to resize all my jpeg images from the directory MYIMAGES to (640,640) pixels.\\nShow me the python code.\\n', 'role': 'assistant'}, {'content': 'Sure, you can use Pillow, a Python Imaging Library to accomplish your task. \\n\\nHere\\'s the code:\\n\\n```python\\n# filename: resize_images.py\\n\\nimport os\\nfrom PIL import Image\\n\\ndef resize_images():\\n    directory = \\'MYIMAGES\\'\\n    for filename in os.listdir(directory):\\n        if filename.endswith(\".jpeg\") or filename.endswith(\".jpg\"): \\n            img_path = os.path.join(directory, filename)\\n            img = Image.open(img_path)\\n            img = img.resize((640, 640))\\n            img.save(img_path)\\n\\nresize_images()\\n```\\n\\nSteps to Execute:\\n1. Copy the code into a python file `resize_images.py`.\\n2. Replace `\\'MYIMAGES\\'` with your image directory path if it is different.\\n3. Run the python file.\\n\\nThis code will resize all images in the given directory to 640x640 pixels. Please do back up your images before running this code as this will replace all your original images.', 'role': 'user'}, {'content': 'Use OpenCV', 'role': 'assistant'}, {'content': 'All right, using OpenCV to resize images makes perfect sense too. Here is the updated Python code using OpenCV:\\n\\n```python\\n# filename: resize_images.py\\n\\nimport os\\nimport cv2\\n\\ndef resize_images():\\n    directory = \\'MYIMAGES\\'\\n    for filename in os.listdir(directory):\\n        if filename.endswith(\".jpeg\") or filename.endswith(\".jpg\"): \\n            img_path = os.path.join(directory, filename)\\n            img = cv2.imread(img_path)\\n            img = cv2.resize(img, (640, 640))\\n            cv2.imwrite(img_path, img)\\n\\nresize_images()\\n```\\n\\nSteps to Execute:\\n1. Copy the code into a python file `resize_images.py`.\\n2. Replace `\\'MYIMAGES\\'` with your image directory path if it is different.\\n3. Run the python file.\\n\\nThis code will resize all images in the given directory to 640x640 pixels. Please back up your images before running this code as this will replace all the original images.', 'role': 'user'}, {'content': 'Do not use OpenCV or PIL. Use something else.', 'role': 'assistant'}, {'content': 'Okay, since you don\\'t want to use PIL or OpenCV, you can use the imageio library in Python with scipy. This is a bit unconventional but it should work for your case. \\n\\nHere is an example code:\\n\\n```python\\n# filename: resize_images.py\\n\\nimport os\\nimport imageio\\nfrom scipy import misc\\n\\ndef resize_images():\\n    directory = \\'MYIMAGES\\'\\n    for filename in os.listdir(directory):\\n        if filename.endswith(\".jpeg\") or filename.endswith(\".jpg\"): \\n            img_path = os.path.join(directory, filename)\\n            img = imageio.imread(img_path)\\n            img_resized = misc.imresize(img, (640, 640))\\n            imageio.imsave(img_path, img_resized)\\n\\nresize_images()\\n```\\n\\nSteps to Execute:\\n1. Copy the code into a python file named `resize_images.py`.\\n2. Replace `\\'MYIMAGES\\'` with your image directory path if it is different.\\n3. Run the python file.\\n\\nThis code will resize all images in the given directory to 640x640 pixels. The `misc.imresize()` function from the `scipy` library is used for resizing. \\n\\nPlease back up your images before running this code as this will replace all the original images. Also, make sure you have scipy and imageio installed in your environment. You can install these packages by running `pip install scipy imageio` in your command prompt or terminal.\\n\\nPlease confirm after executing the code.', 'role': 'user'}], summary='Okay, since you don\\'t want to use PIL or OpenCV, you can use the imageio library in Python with scipy. This is a bit unconventional but it should work for your case. \\n\\nHere is an example code:\\n\\n```python\\n# filename: resize_images.py\\n\\nimport os\\nimport imageio\\nfrom scipy import misc\\n\\ndef resize_images():\\n    directory = \\'MYIMAGES\\'\\n    for filename in os.listdir(directory):\\n        if filename.endswith(\".jpeg\") or filename.endswith(\".jpg\"): \\n            img_path = os.path.join(directory, filename)\\n            img = imageio.imread(img_path)\\n            img_resized = misc.imresize(img, (640, 640))\\n            imageio.imsave(img_path, img_resized)\\n\\nresize_images()\\n```\\n\\nSteps to Execute:\\n1. Copy the code into a python file named `resize_images.py`.\\n2. Replace `\\'MYIMAGES\\'` with your image directory path if it is different.\\n3. Run the python file.\\n\\nThis code will resize all images in the given directory to 640x640 pixels. The `misc.imresize()` function from the `scipy` library is used for resizing. \\n\\nPlease back up your images before running this code as this will replace all the original images. Also, make sure you have scipy and imageio installed in your environment. You can install these packages by running `pip install scipy imageio` in your command prompt or terminal.\\n\\nPlease confirm after executing the code.', cost={'usage_including_cached_inference': {'total_cost': 0.10586999999999999, 'gpt-4': {'cost': 0.10586999999999999, 'prompt_tokens': 2137, 'completion_tokens': 696, 'total_tokens': 2833}}, 'usage_excluding_cached_inference': {'total_cost': 0.10586999999999999, 'gpt-4': {'cost': 0.10586999999999999, 'prompt_tokens': 2137, 'completion_tokens': 696, 'total_tokens': 2833}}}, human_input=['Use OpenCV', 'Do not use OpenCV or PIL. Use something else.', 'exit'])"
      ]
     },
     "execution_count": 9,
     "metadata": {},
     "output_type": "execute_result"
    }
   ],
   "source": [
    "# the assistant receives a message from the user, which contains the task description\n",
    "user_proxy.initiate_chat(assistant, message=problem_to_solve)"
   ]
  },
  {
   "cell_type": "markdown",
   "id": "c38dab25",
   "metadata": {},
   "source": [
    "> You can interact and say for example to use another library like OpenCV"
   ]
  },
  {
   "cell_type": "code",
   "execution_count": 10,
   "id": "d664edf8",
   "metadata": {},
   "outputs": [
    {
     "name": "stdout",
     "output_type": "stream",
     "text": [
      "[{'content': '\\nI want to resize all my jpeg images from the directory MYIMAGES to (640,640) pixels.\\nShow me the python code.\\n', 'role': 'assistant'}, {'content': 'Sure, you can use Pillow, a Python Imaging Library to accomplish your task. \\n\\nHere\\'s the code:\\n\\n```python\\n# filename: resize_images.py\\n\\nimport os\\nfrom PIL import Image\\n\\ndef resize_images():\\n    directory = \\'MYIMAGES\\'\\n    for filename in os.listdir(directory):\\n        if filename.endswith(\".jpeg\") or filename.endswith(\".jpg\"): \\n            img_path = os.path.join(directory, filename)\\n            img = Image.open(img_path)\\n            img = img.resize((640, 640))\\n            img.save(img_path)\\n\\nresize_images()\\n```\\n\\nSteps to Execute:\\n1. Copy the code into a python file `resize_images.py`.\\n2. Replace `\\'MYIMAGES\\'` with your image directory path if it is different.\\n3. Run the python file.\\n\\nThis code will resize all images in the given directory to 640x640 pixels. Please do back up your images before running this code as this will replace all your original images.', 'role': 'user'}, {'content': 'Use OpenCV', 'role': 'assistant'}, {'content': 'All right, using OpenCV to resize images makes perfect sense too. Here is the updated Python code using OpenCV:\\n\\n```python\\n# filename: resize_images.py\\n\\nimport os\\nimport cv2\\n\\ndef resize_images():\\n    directory = \\'MYIMAGES\\'\\n    for filename in os.listdir(directory):\\n        if filename.endswith(\".jpeg\") or filename.endswith(\".jpg\"): \\n            img_path = os.path.join(directory, filename)\\n            img = cv2.imread(img_path)\\n            img = cv2.resize(img, (640, 640))\\n            cv2.imwrite(img_path, img)\\n\\nresize_images()\\n```\\n\\nSteps to Execute:\\n1. Copy the code into a python file `resize_images.py`.\\n2. Replace `\\'MYIMAGES\\'` with your image directory path if it is different.\\n3. Run the python file.\\n\\nThis code will resize all images in the given directory to 640x640 pixels. Please back up your images before running this code as this will replace all the original images.', 'role': 'user'}, {'content': 'Do not use OpenCV or PIL. Use something else.', 'role': 'assistant'}, {'content': 'Okay, since you don\\'t want to use PIL or OpenCV, you can use the imageio library in Python with scipy. This is a bit unconventional but it should work for your case. \\n\\nHere is an example code:\\n\\n```python\\n# filename: resize_images.py\\n\\nimport os\\nimport imageio\\nfrom scipy import misc\\n\\ndef resize_images():\\n    directory = \\'MYIMAGES\\'\\n    for filename in os.listdir(directory):\\n        if filename.endswith(\".jpeg\") or filename.endswith(\".jpg\"): \\n            img_path = os.path.join(directory, filename)\\n            img = imageio.imread(img_path)\\n            img_resized = misc.imresize(img, (640, 640))\\n            imageio.imsave(img_path, img_resized)\\n\\nresize_images()\\n```\\n\\nSteps to Execute:\\n1. Copy the code into a python file named `resize_images.py`.\\n2. Replace `\\'MYIMAGES\\'` with your image directory path if it is different.\\n3. Run the python file.\\n\\nThis code will resize all images in the given directory to 640x640 pixels. The `misc.imresize()` function from the `scipy` library is used for resizing. \\n\\nPlease back up your images before running this code as this will replace all the original images. Also, make sure you have scipy and imageio installed in your environment. You can install these packages by running `pip install scipy imageio` in your command prompt or terminal.\\n\\nPlease confirm after executing the code.', 'role': 'user'}]\n"
     ]
    }
   ],
   "source": [
    "print(user_proxy.chat_messages[assistant])"
   ]
  },
  {
   "cell_type": "code",
   "execution_count": 11,
   "id": "8354c2e6",
   "metadata": {},
   "outputs": [],
   "source": [
    "outputfile = os.path.join(WORK_DIR, \"human_interaction.json\")\n",
    "\n",
    "json.dump(user_proxy.chat_messages[assistant], open(outputfile, \"w\"), indent=6)"
   ]
  },
  {
   "cell_type": "code",
   "execution_count": 12,
   "id": "c6911347",
   "metadata": {},
   "outputs": [
    {
     "name": "stdout",
     "output_type": "stream",
     "text": [
      "\u001b[1;31;34m\n",
      "[\n",
      "      {\n",
      "            \"content\": \"\\nI want to resize all my jpeg images from the directory MYIMAGES to (640,640) pixels.\\nShow me the python code.\\n\",\n",
      "            \"role\": \"assistant\"\n",
      "      },\n",
      "      {\n",
      "            \"content\": \"Sure, you can use Pillow, a Python Imaging Library to accomplish your task. \\n\\nHere's the code:\\n\\n```python\\n# filename: resize_images.py\\n\\nimport os\\nfrom PIL import Image\\n\\ndef resize_images():\\n    directory = 'MYIMAGES'\\n    for filename in os.listdir(directory):\\n        if filename.endswith(\\\".jpeg\\\") or filename.endswith(\\\".jpg\\\"): \\n            img_path = os.path.join(directory, filename)\\n            img = Image.open(img_path)\\n            img = img.resize((640, 640))\\n            img.save(img_path)\\n\\nresize_images()\\n```\\n\\nSteps to Execute:\\n1. Copy the code into a python file `resize_images.py`.\\n2. Replace `'MYIMAGES'` with your image directory path if it is different.\\n3. Run the python file.\\n\\nThis code will resize all images in the given directory to 640x640 pixels. Please do back up your images before running this code as this will replace all your original images.\",\n",
      "            \"role\": \"user\"\n",
      "      },\n",
      "      {\n",
      "            \"content\": \"Use OpenCV\",\n",
      "            \"role\": \"assistant\"\n",
      "      },\n",
      "      {\n",
      "            \"content\": \"All right, using OpenCV to resize images makes perfect sense too. Here is the updated Python code using OpenCV:\\n\\n```python\\n# filename: resize_images.py\\n\\nimport os\\nimport cv2\\n\\ndef resize_images():\\n    directory = 'MYIMAGES'\\n    for filename in os.listdir(directory):\\n        if filename.endswith(\\\".jpeg\\\") or filename.endswith(\\\".jpg\\\"): \\n            img_path = os.path.join(directory, filename)\\n            img = cv2.imread(img_path)\\n            img = cv2.resize(img, (640, 640))\\n            cv2.imwrite(img_path, img)\\n\\nresize_images()\\n```\\n\\nSteps to Execute:\\n1. Copy the code into a python file `resize_images.py`.\\n2. Replace `'MYIMAGES'` with your image directory path if it is different.\\n3. Run the python file.\\n\\nThis code will resize all images in the given directory to 640x640 pixels. Please back up your images before running this code as this will replace all the original images.\",\n",
      "            \"role\": \"user\"\n",
      "      },\n",
      "      {\n",
      "            \"content\": \"Do not use OpenCV or PIL. Use something else.\",\n",
      "            \"role\": \"assistant\"\n",
      "      },\n",
      "      {\n",
      "            \"content\": \"Okay, since you don't want to use PIL or OpenCV, you can use the imageio library in Python with scipy. This is a bit unconventional but it should work for your case. \\n\\nHere is an example code:\\n\\n```python\\n# filename: resize_images.py\\n\\nimport os\\nimport imageio\\nfrom scipy import misc\\n\\ndef resize_images():\\n    directory = 'MYIMAGES'\\n    for filename in os.listdir(directory):\\n        if filename.endswith(\\\".jpeg\\\") or filename.endswith(\\\".jpg\\\"): \\n            img_path = os.path.join(directory, filename)\\n            img = imageio.imread(img_path)\\n            img_resized = misc.imresize(img, (640, 640))\\n            imageio.imsave(img_path, img_resized)\\n\\nresize_images()\\n```\\n\\nSteps to Execute:\\n1. Copy the code into a python file named `resize_images.py`.\\n2. Replace `'MYIMAGES'` with your image directory path if it is different.\\n3. Run the python file.\\n\\nThis code will resize all images in the given directory to 640x640 pixels. The `misc.imresize()` function from the `scipy` library is used for resizing. \\n\\nPlease back up your images before running this code as this will replace all the original images. Also, make sure you have scipy and imageio installed in your environment. You can install these packages by running `pip install scipy imageio` in your command prompt or terminal.\\n\\nPlease confirm after executing the code.\",\n",
      "            \"role\": \"user\"\n",
      "      }\n",
      "]\n"
     ]
    }
   ],
   "source": [
    "print(\"\\033[1;31;34m\")\n",
    "with open(outputfile, \"r\") as f:\n",
    "    print(f.read())"
   ]
  },
  {
   "cell_type": "code",
   "execution_count": 13,
   "id": "7b3c9241",
   "metadata": {},
   "outputs": [
    {
     "name": "stdout",
     "output_type": "stream",
     "text": [
      "-rwxrwxrwx 1 root root 3787 Jun 19 08:49 workdir/human_interaction.json\r\n"
     ]
    }
   ],
   "source": [
    "!ls $WORK_DIR/*.json -lt"
   ]
  },
  {
   "cell_type": "code",
   "execution_count": null,
   "id": "4627574a",
   "metadata": {},
   "outputs": [],
   "source": []
  }
 ],
 "metadata": {
  "kernelspec": {
   "display_name": "Python 3.10 - SDK v2",
   "language": "python",
   "name": "python310-sdkv2"
  },
  "language_info": {
   "codemirror_mode": {
    "name": "ipython",
    "version": 3
   },
   "file_extension": ".py",
   "mimetype": "text/x-python",
   "name": "python",
   "nbconvert_exporter": "python",
   "pygments_lexer": "ipython3",
   "version": "3.10.11"
  }
 },
 "nbformat": 4,
 "nbformat_minor": 5
}
