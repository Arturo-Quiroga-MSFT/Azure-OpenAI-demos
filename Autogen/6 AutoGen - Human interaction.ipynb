{
 "cells": [
  {
   "cell_type": "markdown",
   "id": "c1749c2e",
   "metadata": {},
   "source": [
    "# 6 AutoGen - Human interaction\n",
    "\n",
    "AutoGen is a framework that enables the development of LLM applications using multiple agents that can converse with each other to solve tasks. AutoGen agents are customizable, conversable, and seamlessly allow human participation. They can operate in various modes that employ combinations of LLMs, human inputs, and tools.\n",
    "\n",
    "31/05/2024\n",
    "\n",
    "<img src=\"https://raw.githubusercontent.com/retkowsky/images/master/autogenlogo.jpg\">\n",
    "\n",
    "> Documentation: https://microsoft.github.io/autogen/"
   ]
  },
  {
   "cell_type": "code",
   "execution_count": 1,
   "id": "97bc2c9d",
   "metadata": {},
   "outputs": [],
   "source": [
    "import autogen\n",
    "import json\n",
    "import openai\n",
    "import os\n",
    "import sys\n",
    "\n",
    "from autogen import config_list_from_json"
   ]
  },
  {
   "cell_type": "code",
   "execution_count": 2,
   "id": "e3c7ccc6",
   "metadata": {},
   "outputs": [
    {
     "data": {
      "text/plain": [
       "'3.10.11 (main, May 16 2023, 00:28:57) [GCC 11.2.0]'"
      ]
     },
     "execution_count": 2,
     "metadata": {},
     "output_type": "execute_result"
    }
   ],
   "source": [
    "sys.version"
   ]
  },
  {
   "cell_type": "code",
   "execution_count": 3,
   "id": "f4aebec8",
   "metadata": {},
   "outputs": [],
   "source": [
    "def check_openai_version():\n",
    "    \"\"\"\n",
    "    Check Azure Open AI version\n",
    "    \"\"\"\n",
    "    installed_version = openai.__version__\n",
    "\n",
    "    try:\n",
    "        version_number = float(installed_version[:3])\n",
    "    except ValueError:\n",
    "        print(\"Invalid OpenAI version format\")\n",
    "        return\n",
    "\n",
    "    print(f\"Installed OpenAI version: {installed_version}\")\n",
    "\n",
    "    if version_number < 1.0:\n",
    "        print(\"[Warning] You should upgrade OpenAI to have version >= 1.0.0\")\n",
    "        print(\"To upgrade, run: %pip install openai --upgrade\")\n",
    "    else:\n",
    "        print(f\"[OK] OpenAI version {installed_version} is >= 1.0.0\")"
   ]
  },
  {
   "cell_type": "code",
   "execution_count": 4,
   "id": "3b044299",
   "metadata": {},
   "outputs": [
    {
     "name": "stdout",
     "output_type": "stream",
     "text": [
      "Installed OpenAI version: 1.30.5\n",
      "[OK] OpenAI version 1.30.5 is >= 1.0.0\n"
     ]
    }
   ],
   "source": [
    "check_openai_version()"
   ]
  },
  {
   "cell_type": "code",
   "execution_count": 5,
   "id": "f8a5a8a0",
   "metadata": {},
   "outputs": [],
   "source": [
    "config_list = autogen.config_list_from_json(\n",
    "    \"OAI_CONFIG_LIST\",\n",
    "    #filter_dict={\"tags\": [\"gpt-4\"]},  # comment out to get all\n",
    ")\n",
    "# When using a single openai endpoint, you can use the following:\n",
    "# config_list = [{\"model\": \"gpt-4\", \"api_key\": os.getenv(\"OPENAI_API_KEY\")}]"
   ]
  },
  {
   "cell_type": "code",
   "execution_count": 6,
   "id": "7448db1d",
   "metadata": {},
   "outputs": [],
   "source": [
    "WORK_DIR = \"workdir\"\n",
    "\n",
    "os.makedirs(WORK_DIR, exist_ok=True)"
   ]
  },
  {
   "cell_type": "markdown",
   "id": "0e8635eb",
   "metadata": {},
   "source": [
    "## 1. Agent"
   ]
  },
  {
   "cell_type": "code",
   "execution_count": 7,
   "id": "643c7008",
   "metadata": {},
   "outputs": [],
   "source": [
    "config_list = config_list_from_json(env_or_file=\"OAI_CONFIG_LIST\")"
   ]
  },
  {
   "cell_type": "code",
   "execution_count": 8,
   "id": "1e9a1ff0",
   "metadata": {},
   "outputs": [],
   "source": [
    "# create an AssistantAgent instance named \"assistant\"\n",
    "assistant = autogen.AssistantAgent(\n",
    "    name=\"assistant\",\n",
    "    llm_config={\n",
    "        \"cache_seed\": None,\n",
    "        \"config_list\": config_list,\n",
    "    },\n",
    ")\n",
    "\n",
    "# create a UserProxyAgent instance named \"user_proxy\"\n",
    "user_proxy = autogen.UserProxyAgent(\n",
    "    name=\"user_proxy\",\n",
    "    human_input_mode=\"ALWAYS\",\n",
    "    is_termination_msg=lambda x: x.get(\"content\", \"\").rstrip().endswith(\"TERMINATE\"),\n",
    "    code_execution_config={\n",
    "        \"use_docker\": False\n",
    "    },  # Please set use_docker=True if docker is available to run the generated code.\n",
    ")"
   ]
  },
  {
   "cell_type": "code",
   "execution_count": 9,
   "id": "9d29cf87",
   "metadata": {},
   "outputs": [
    {
     "name": "stdout",
     "output_type": "stream",
     "text": [
      "user_proxy (to assistant):\n",
      "\n",
      "\n",
      "Find $a + b + c$, given that $x+y \\neq -1$ and\n",
      "\\begin{align}\n",
      "\tax + by + c & = x + 7,\\\n",
      "\ta + bx + cy & = 2x + 6y,\\\n",
      "\tay + b + cx & = 4x + y.\n",
      "\\end{align}.\n",
      "\n",
      "\n",
      "--------------------------------------------------------------------------------\n",
      "assistant (to user_proxy):\n",
      "\n",
      "This set of equations are non-homogeneous linear equations. We can approach this problem using linear algebra. \n",
      "\n",
      "First, we can simplify the three given equations to a standard form \n",
      "\n",
      "ax + by + cz = k; where k represents the constant on the right side of the equation.\n",
      "\n",
      "The equations then become: \n",
      "\n",
      "1. ax + by + cz = x+7 \n",
      "2. bx + cy + az = 2x+6y \n",
      "3. cx + ay + bz = 4x+y \n",
      "\n",
      "Taking the constants from the right side of the equation to the left side when necessary, we get:\n",
      "\n",
      "1. (a - 1)x + by + cz = 7 \n",
      "2. bx + (c - 6)y + az = 2x \n",
      "3. cx + ay + (b - 1)z = 4x \n",
      "\n",
      "Each equation should be equal to zero for further convenience:\n",
      "\n",
      "1. (a - 1)x + by + cz - 7 = 0 \n",
      "2. bx + (c - 6)y + az - 2x = 0 \n",
      "3. cx + ay + (b - 1)z - 4x = 0 \n",
      "\n",
      "Let's then solve it in Python using sympy library that allows to perform symbolic computation.\n",
      "\n",
      "Please, execute the following python code block. \n",
      "\n",
      "```python\n",
      "from sympy import symbols, Eq, solve\n",
      "\n",
      "# define symbols\n",
      "a, b, c, x, y, z = symbols('a b c x y z')\n",
      "\n",
      "# provide the equations\n",
      "equations = (Eq((a - 1)*x + b*y + c*z, 7),\n",
      "             Eq(b*x + (c - 6)*y + a*z, 2*x),\n",
      "             Eq(c*x + a*y + (b - 1)*z, 4*x))\n",
      "\n",
      "# solve the system of equations\n",
      "solution = solve(equations, (a, b, c))\n",
      "\n",
      "# print the solution\n",
      "print('The solutions are: ', solution)\n",
      "```\n",
      "\n",
      "This piece of code defines the system of equations as described above. The 'solve()' function then finds a, b, c that satisfy all the three equations.\n",
      "\n",
      "The result will be a list of tuples. Each tuple contains the values of a, b, c that solve the equations for a possible value of x, y, z. We will choose a solution that satisfies the condition x+y ≠ -1. \n",
      "\n",
      "Once we get the values for a, b, and c, we can solve for a+b+c. \n",
      "\n",
      "Please execute the python code block to proceed with the task.\n",
      "\n",
      "--------------------------------------------------------------------------------\n",
      "Provide feedback to assistant. Press enter to skip and use auto-reply, or type 'exit' to end the conversation: use another library\n",
      "user_proxy (to assistant):\n",
      "\n",
      "use another library\n",
      "\n",
      "--------------------------------------------------------------------------------\n",
      "assistant (to user_proxy):\n",
      "\n",
      "Understood. Let's use numpy and scipy which are also very efficient Python libraries for performing such operations. Here is how you can solve it with numpy and scipy:\n",
      "\n",
      "Please execute the following python code:\n",
      "\n",
      "```python\n",
      "import numpy as np\n",
      "from scipy.linalg import solve\n",
      "\n",
      "# coefficients matrix\n",
      "A = np.array([[1, 0, 0, -1],\n",
      "              [0, 1, -6, 0],\n",
      "              [0, 0, 1, -1]])\n",
      "\n",
      "# constants vector\n",
      "b = np.array([7, 2, 4])\n",
      "\n",
      "# solve the system of equations\n",
      "x = solve(A, b)\n",
      "\n",
      "a = x[0] + 1\n",
      "b = x[1] + 1\n",
      "c = x[2] + 6\n",
      "\n",
      "sum_abc = a + b + c\n",
      "\n",
      "print(\"The values are:\")\n",
      "print(\"a = \", a)\n",
      "print(\"b = \", b)\n",
      "print(\"c = \", c)\n",
      "print(\"Sum of a, b, c = \", sum_abc)\n",
      "```\n",
      "\n",
      "This Python script represents each equation in a matrix form (Ax=b) and uses scipy's solve function to solve for x, y, z. The result 'x' is a vector of a, b, and c with the constants added back in.\n",
      "\n",
      "Please execute the python code block to proceed with the task.\n",
      "\n",
      "--------------------------------------------------------------------------------\n",
      "Provide feedback to assistant. Press enter to skip and use auto-reply, or type 'exit' to end the conversation: exit\n"
     ]
    },
    {
     "data": {
      "text/plain": [
       "ChatResult(chat_id=None, chat_history=[{'content': '\\nFind $a + b + c$, given that $x+y \\\\neq -1$ and\\n\\\\begin{align}\\n\\tax + by + c & = x + 7,\\\\\\n\\ta + bx + cy & = 2x + 6y,\\\\\\n\\tay + b + cx & = 4x + y.\\n\\\\end{align}.\\n', 'role': 'assistant'}, {'content': \"This set of equations are non-homogeneous linear equations. We can approach this problem using linear algebra. \\n\\nFirst, we can simplify the three given equations to a standard form \\n\\nax + by + cz = k; where k represents the constant on the right side of the equation.\\n\\nThe equations then become: \\n\\n1. ax + by + cz = x+7 \\n2. bx + cy + az = 2x+6y \\n3. cx + ay + bz = 4x+y \\n\\nTaking the constants from the right side of the equation to the left side when necessary, we get:\\n\\n1. (a - 1)x + by + cz = 7 \\n2. bx + (c - 6)y + az = 2x \\n3. cx + ay + (b - 1)z = 4x \\n\\nEach equation should be equal to zero for further convenience:\\n\\n1. (a - 1)x + by + cz - 7 = 0 \\n2. bx + (c - 6)y + az - 2x = 0 \\n3. cx + ay + (b - 1)z - 4x = 0 \\n\\nLet's then solve it in Python using sympy library that allows to perform symbolic computation.\\n\\nPlease, execute the following python code block. \\n\\n```python\\nfrom sympy import symbols, Eq, solve\\n\\n# define symbols\\na, b, c, x, y, z = symbols('a b c x y z')\\n\\n# provide the equations\\nequations = (Eq((a - 1)*x + b*y + c*z, 7),\\n             Eq(b*x + (c - 6)*y + a*z, 2*x),\\n             Eq(c*x + a*y + (b - 1)*z, 4*x))\\n\\n# solve the system of equations\\nsolution = solve(equations, (a, b, c))\\n\\n# print the solution\\nprint('The solutions are: ', solution)\\n```\\n\\nThis piece of code defines the system of equations as described above. The 'solve()' function then finds a, b, c that satisfy all the three equations.\\n\\nThe result will be a list of tuples. Each tuple contains the values of a, b, c that solve the equations for a possible value of x, y, z. We will choose a solution that satisfies the condition x+y ≠ -1. \\n\\nOnce we get the values for a, b, and c, we can solve for a+b+c. \\n\\nPlease execute the python code block to proceed with the task.\", 'role': 'user'}, {'content': 'use another library', 'role': 'assistant'}, {'content': 'Understood. Let\\'s use numpy and scipy which are also very efficient Python libraries for performing such operations. Here is how you can solve it with numpy and scipy:\\n\\nPlease execute the following python code:\\n\\n```python\\nimport numpy as np\\nfrom scipy.linalg import solve\\n\\n# coefficients matrix\\nA = np.array([[1, 0, 0, -1],\\n              [0, 1, -6, 0],\\n              [0, 0, 1, -1]])\\n\\n# constants vector\\nb = np.array([7, 2, 4])\\n\\n# solve the system of equations\\nx = solve(A, b)\\n\\na = x[0] + 1\\nb = x[1] + 1\\nc = x[2] + 6\\n\\nsum_abc = a + b + c\\n\\nprint(\"The values are:\")\\nprint(\"a = \", a)\\nprint(\"b = \", b)\\nprint(\"c = \", c)\\nprint(\"Sum of a, b, c = \", sum_abc)\\n```\\n\\nThis Python script represents each equation in a matrix form (Ax=b) and uses scipy\\'s solve function to solve for x, y, z. The result \\'x\\' is a vector of a, b, and c with the constants added back in.\\n\\nPlease execute the python code block to proceed with the task.', 'role': 'user'}], summary='Understood. Let\\'s use numpy and scipy which are also very efficient Python libraries for performing such operations. Here is how you can solve it with numpy and scipy:\\n\\nPlease execute the following python code:\\n\\n```python\\nimport numpy as np\\nfrom scipy.linalg import solve\\n\\n# coefficients matrix\\nA = np.array([[1, 0, 0, -1],\\n              [0, 1, -6, 0],\\n              [0, 0, 1, -1]])\\n\\n# constants vector\\nb = np.array([7, 2, 4])\\n\\n# solve the system of equations\\nx = solve(A, b)\\n\\na = x[0] + 1\\nb = x[1] + 1\\nc = x[2] + 6\\n\\nsum_abc = a + b + c\\n\\nprint(\"The values are:\")\\nprint(\"a = \", a)\\nprint(\"b = \", b)\\nprint(\"c = \", c)\\nprint(\"Sum of a, b, c = \", sum_abc)\\n```\\n\\nThis Python script represents each equation in a matrix form (Ax=b) and uses scipy\\'s solve function to solve for x, y, z. The result \\'x\\' is a vector of a, b, and c with the constants added back in.\\n\\nPlease execute the python code block to proceed with the task.', cost={'usage_including_cached_inference': {'total_cost': 0.09759, 'gpt-4': {'cost': 0.09759, 'prompt_tokens': 1633, 'completion_tokens': 810, 'total_tokens': 2443}}, 'usage_excluding_cached_inference': {'total_cost': 0.09759, 'gpt-4': {'cost': 0.09759, 'prompt_tokens': 1633, 'completion_tokens': 810, 'total_tokens': 2443}}}, human_input=['use another library', 'exit'])"
      ]
     },
     "execution_count": 9,
     "metadata": {},
     "output_type": "execute_result"
    }
   ],
   "source": [
    "math_problem_to_solve = \"\"\"\n",
    "Find $a + b + c$, given that $x+y \\\\neq -1$ and\n",
    "\\\\begin{align}\n",
    "\tax + by + c & = x + 7,\\\\\n",
    "\ta + bx + cy & = 2x + 6y,\\\\\n",
    "\tay + b + cx & = 4x + y.\n",
    "\\\\end{align}.\n",
    "\"\"\"\n",
    "\n",
    "# the assistant receives a message from the user, which contains the task description\n",
    "user_proxy.initiate_chat(assistant, message=math_problem_to_solve)"
   ]
  },
  {
   "cell_type": "markdown",
   "id": "c38dab25",
   "metadata": {},
   "source": [
    "> Now you can interact and say for example to use another library"
   ]
  },
  {
   "cell_type": "code",
   "execution_count": 10,
   "id": "d664edf8",
   "metadata": {},
   "outputs": [
    {
     "name": "stdout",
     "output_type": "stream",
     "text": [
      "[{'content': '\\nFind $a + b + c$, given that $x+y \\\\neq -1$ and\\n\\\\begin{align}\\n\\tax + by + c & = x + 7,\\\\\\n\\ta + bx + cy & = 2x + 6y,\\\\\\n\\tay + b + cx & = 4x + y.\\n\\\\end{align}.\\n', 'role': 'assistant'}, {'content': \"This set of equations are non-homogeneous linear equations. We can approach this problem using linear algebra. \\n\\nFirst, we can simplify the three given equations to a standard form \\n\\nax + by + cz = k; where k represents the constant on the right side of the equation.\\n\\nThe equations then become: \\n\\n1. ax + by + cz = x+7 \\n2. bx + cy + az = 2x+6y \\n3. cx + ay + bz = 4x+y \\n\\nTaking the constants from the right side of the equation to the left side when necessary, we get:\\n\\n1. (a - 1)x + by + cz = 7 \\n2. bx + (c - 6)y + az = 2x \\n3. cx + ay + (b - 1)z = 4x \\n\\nEach equation should be equal to zero for further convenience:\\n\\n1. (a - 1)x + by + cz - 7 = 0 \\n2. bx + (c - 6)y + az - 2x = 0 \\n3. cx + ay + (b - 1)z - 4x = 0 \\n\\nLet's then solve it in Python using sympy library that allows to perform symbolic computation.\\n\\nPlease, execute the following python code block. \\n\\n```python\\nfrom sympy import symbols, Eq, solve\\n\\n# define symbols\\na, b, c, x, y, z = symbols('a b c x y z')\\n\\n# provide the equations\\nequations = (Eq((a - 1)*x + b*y + c*z, 7),\\n             Eq(b*x + (c - 6)*y + a*z, 2*x),\\n             Eq(c*x + a*y + (b - 1)*z, 4*x))\\n\\n# solve the system of equations\\nsolution = solve(equations, (a, b, c))\\n\\n# print the solution\\nprint('The solutions are: ', solution)\\n```\\n\\nThis piece of code defines the system of equations as described above. The 'solve()' function then finds a, b, c that satisfy all the three equations.\\n\\nThe result will be a list of tuples. Each tuple contains the values of a, b, c that solve the equations for a possible value of x, y, z. We will choose a solution that satisfies the condition x+y ≠ -1. \\n\\nOnce we get the values for a, b, and c, we can solve for a+b+c. \\n\\nPlease execute the python code block to proceed with the task.\", 'role': 'user'}, {'content': 'use another library', 'role': 'assistant'}, {'content': 'Understood. Let\\'s use numpy and scipy which are also very efficient Python libraries for performing such operations. Here is how you can solve it with numpy and scipy:\\n\\nPlease execute the following python code:\\n\\n```python\\nimport numpy as np\\nfrom scipy.linalg import solve\\n\\n# coefficients matrix\\nA = np.array([[1, 0, 0, -1],\\n              [0, 1, -6, 0],\\n              [0, 0, 1, -1]])\\n\\n# constants vector\\nb = np.array([7, 2, 4])\\n\\n# solve the system of equations\\nx = solve(A, b)\\n\\na = x[0] + 1\\nb = x[1] + 1\\nc = x[2] + 6\\n\\nsum_abc = a + b + c\\n\\nprint(\"The values are:\")\\nprint(\"a = \", a)\\nprint(\"b = \", b)\\nprint(\"c = \", c)\\nprint(\"Sum of a, b, c = \", sum_abc)\\n```\\n\\nThis Python script represents each equation in a matrix form (Ax=b) and uses scipy\\'s solve function to solve for x, y, z. The result \\'x\\' is a vector of a, b, and c with the constants added back in.\\n\\nPlease execute the python code block to proceed with the task.', 'role': 'user'}]\n"
     ]
    }
   ],
   "source": [
    "print(user_proxy.chat_messages[assistant])"
   ]
  },
  {
   "cell_type": "code",
   "execution_count": 11,
   "id": "8354c2e6",
   "metadata": {},
   "outputs": [],
   "source": [
    "outputfile = os.path.join(WORK_DIR, \"human_interaction.json\")\n",
    "\n",
    "json.dump(user_proxy.chat_messages[assistant], open(outputfile, \"w\"), indent=6)"
   ]
  },
  {
   "cell_type": "code",
   "execution_count": 12,
   "id": "c6911347",
   "metadata": {},
   "outputs": [
    {
     "name": "stdout",
     "output_type": "stream",
     "text": [
      "[\n",
      "      {\n",
      "            \"content\": \"\\nFind $a + b + c$, given that $x+y \\\\neq -1$ and\\n\\\\begin{align}\\n\\tax + by + c & = x + 7,\\\\\\n\\ta + bx + cy & = 2x + 6y,\\\\\\n\\tay + b + cx & = 4x + y.\\n\\\\end{align}.\\n\",\n",
      "            \"role\": \"assistant\"\n",
      "      },\n",
      "      {\n",
      "            \"content\": \"This set of equations are non-homogeneous linear equations. We can approach this problem using linear algebra. \\n\\nFirst, we can simplify the three given equations to a standard form \\n\\nax + by + cz = k; where k represents the constant on the right side of the equation.\\n\\nThe equations then become: \\n\\n1. ax + by + cz = x+7 \\n2. bx + cy + az = 2x+6y \\n3. cx + ay + bz = 4x+y \\n\\nTaking the constants from the right side of the equation to the left side when necessary, we get:\\n\\n1. (a - 1)x + by + cz = 7 \\n2. bx + (c - 6)y + az = 2x \\n3. cx + ay + (b - 1)z = 4x \\n\\nEach equation should be equal to zero for further convenience:\\n\\n1. (a - 1)x + by + cz - 7 = 0 \\n2. bx + (c - 6)y + az - 2x = 0 \\n3. cx + ay + (b - 1)z - 4x = 0 \\n\\nLet's then solve it in Python using sympy library that allows to perform symbolic computation.\\n\\nPlease, execute the following python code block. \\n\\n```python\\nfrom sympy import symbols, Eq, solve\\n\\n# define symbols\\na, b, c, x, y, z = symbols('a b c x y z')\\n\\n# provide the equations\\nequations = (Eq((a - 1)*x + b*y + c*z, 7),\\n             Eq(b*x + (c - 6)*y + a*z, 2*x),\\n             Eq(c*x + a*y + (b - 1)*z, 4*x))\\n\\n# solve the system of equations\\nsolution = solve(equations, (a, b, c))\\n\\n# print the solution\\nprint('The solutions are: ', solution)\\n```\\n\\nThis piece of code defines the system of equations as described above. The 'solve()' function then finds a, b, c that satisfy all the three equations.\\n\\nThe result will be a list of tuples. Each tuple contains the values of a, b, c that solve the equations for a possible value of x, y, z. We will choose a solution that satisfies the condition x+y \\u2260 -1. \\n\\nOnce we get the values for a, b, and c, we can solve for a+b+c. \\n\\nPlease execute the python code block to proceed with the task.\",\n",
      "            \"role\": \"user\"\n",
      "      },\n",
      "      {\n",
      "            \"content\": \"use another library\",\n",
      "            \"role\": \"assistant\"\n",
      "      },\n",
      "      {\n",
      "            \"content\": \"Understood. Let's use numpy and scipy which are also very efficient Python libraries for performing such operations. Here is how you can solve it with numpy and scipy:\\n\\nPlease execute the following python code:\\n\\n```python\\nimport numpy as np\\nfrom scipy.linalg import solve\\n\\n# coefficients matrix\\nA = np.array([[1, 0, 0, -1],\\n              [0, 1, -6, 0],\\n              [0, 0, 1, -1]])\\n\\n# constants vector\\nb = np.array([7, 2, 4])\\n\\n# solve the system of equations\\nx = solve(A, b)\\n\\na = x[0] + 1\\nb = x[1] + 1\\nc = x[2] + 6\\n\\nsum_abc = a + b + c\\n\\nprint(\\\"The values are:\\\")\\nprint(\\\"a = \\\", a)\\nprint(\\\"b = \\\", b)\\nprint(\\\"c = \\\", c)\\nprint(\\\"Sum of a, b, c = \\\", sum_abc)\\n```\\n\\nThis Python script represents each equation in a matrix form (Ax=b) and uses scipy's solve function to solve for x, y, z. The result 'x' is a vector of a, b, and c with the constants added back in.\\n\\nPlease execute the python code block to proceed with the task.\",\n",
      "            \"role\": \"user\"\n",
      "      }\n",
      "]\n"
     ]
    }
   ],
   "source": [
    "with open(outputfile, \"r\") as f:\n",
    "    print(f.read())"
   ]
  },
  {
   "cell_type": "code",
   "execution_count": 13,
   "id": "7b3c9241",
   "metadata": {},
   "outputs": [
    {
     "name": "stdout",
     "output_type": "stream",
     "text": [
      "-rwxrwxrwx 1 root root 3247 Jun  4 15:16 workdir/human_interaction.json\r\n"
     ]
    }
   ],
   "source": [
    "!ls $WORK_DIR/*.json -lt"
   ]
  },
  {
   "cell_type": "code",
   "execution_count": null,
   "id": "4627574a",
   "metadata": {},
   "outputs": [],
   "source": []
  }
 ],
 "metadata": {
  "kernelspec": {
   "display_name": "Python 3.10 - SDK v2",
   "language": "python",
   "name": "python310-sdkv2"
  },
  "language_info": {
   "codemirror_mode": {
    "name": "ipython",
    "version": 3
   },
   "file_extension": ".py",
   "mimetype": "text/x-python",
   "name": "python",
   "nbconvert_exporter": "python",
   "pygments_lexer": "ipython3",
   "version": "3.10.11"
  }
 },
 "nbformat": 4,
 "nbformat_minor": 5
}
