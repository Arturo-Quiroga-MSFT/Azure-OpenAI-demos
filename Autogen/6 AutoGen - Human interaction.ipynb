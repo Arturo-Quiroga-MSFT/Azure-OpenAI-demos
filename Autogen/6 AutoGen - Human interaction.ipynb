{
 "cells": [
  {
   "cell_type": "markdown",
   "id": "c1749c2e",
   "metadata": {},
   "source": [
    "# 6 AutoGen - Human interaction\n",
    "\n",
    "AutoGen is a framework that enables the development of LLM applications using multiple agents that can converse with each other to solve tasks. AutoGen agents are customizable, conversable, and seamlessly allow human participation. They can operate in various modes that employ combinations of LLMs, human inputs, and tools.\n",
    "\n",
    "17/06/2024\n",
    "\n",
    "<img src=\"https://raw.githubusercontent.com/retkowsky/images/master/autogenlogo.jpg\">\n",
    "\n",
    "> Documentation: https://microsoft.github.io/autogen/"
   ]
  },
  {
   "cell_type": "code",
   "execution_count": 1,
   "id": "97bc2c9d",
   "metadata": {},
   "outputs": [],
   "source": [
    "import autogen\n",
    "import json\n",
    "import openai\n",
    "import os\n",
    "import sys\n",
    "\n",
    "from autogen import config_list_from_json"
   ]
  },
  {
   "cell_type": "code",
   "execution_count": 2,
   "id": "e3c7ccc6",
   "metadata": {},
   "outputs": [
    {
     "data": {
      "text/plain": [
       "'3.10.11 (main, May 16 2023, 00:28:57) [GCC 11.2.0]'"
      ]
     },
     "execution_count": 2,
     "metadata": {},
     "output_type": "execute_result"
    }
   ],
   "source": [
    "sys.version"
   ]
  },
  {
   "cell_type": "code",
   "execution_count": 3,
   "id": "f4aebec8",
   "metadata": {},
   "outputs": [],
   "source": [
    "def check_openai_version():\n",
    "    \"\"\"\n",
    "    Check Azure Open AI version\n",
    "    \"\"\"\n",
    "    installed_version = openai.__version__\n",
    "\n",
    "    try:\n",
    "        version_number = float(installed_version[:3])\n",
    "    except ValueError:\n",
    "        print(\"Invalid OpenAI version format\")\n",
    "        return\n",
    "\n",
    "    print(f\"Installed OpenAI version: {installed_version}\")\n",
    "\n",
    "    if version_number < 1.0:\n",
    "        print(\"[Warning] You should upgrade OpenAI to have version >= 1.0.0\")\n",
    "        print(\"To upgrade, run: %pip install openai --upgrade\")\n",
    "    else:\n",
    "        print(f\"[OK] OpenAI version {installed_version} is >= 1.0.0\")"
   ]
  },
  {
   "cell_type": "code",
   "execution_count": 4,
   "id": "3b044299",
   "metadata": {},
   "outputs": [
    {
     "name": "stdout",
     "output_type": "stream",
     "text": [
      "Installed OpenAI version: 1.30.5\n",
      "[OK] OpenAI version 1.30.5 is >= 1.0.0\n"
     ]
    }
   ],
   "source": [
    "check_openai_version()"
   ]
  },
  {
   "cell_type": "code",
   "execution_count": 5,
   "id": "f8a5a8a0",
   "metadata": {},
   "outputs": [],
   "source": [
    "config_list = autogen.config_list_from_json(\n",
    "    \"OAI_CONFIG_LIST\",\n",
    "    #filter_dict={\"tags\": [\"gpt-4\"]},  # comment out to get all\n",
    ")\n",
    "# When using a single openai endpoint, you can use the following:\n",
    "# config_list = [{\"model\": \"gpt-4\", \"api_key\": os.getenv(\"OPENAI_API_KEY\")}]"
   ]
  },
  {
   "cell_type": "code",
   "execution_count": 6,
   "id": "7448db1d",
   "metadata": {},
   "outputs": [],
   "source": [
    "WORK_DIR = \"workdir\"\n",
    "\n",
    "os.makedirs(WORK_DIR, exist_ok=True)"
   ]
  },
  {
   "cell_type": "markdown",
   "id": "0e8635eb",
   "metadata": {},
   "source": [
    "## 1. Agent"
   ]
  },
  {
   "cell_type": "code",
   "execution_count": 7,
   "id": "643c7008",
   "metadata": {},
   "outputs": [],
   "source": [
    "config_list = config_list_from_json(env_or_file=\"OAI_CONFIG_LIST\")"
   ]
  },
  {
   "cell_type": "code",
   "execution_count": 8,
   "id": "61cf8243",
   "metadata": {},
   "outputs": [],
   "source": [
    "# create an AssistantAgent instance named \"assistant\"\n",
    "assistant = autogen.AssistantAgent(\n",
    "    name=\"assistant\",\n",
    "    llm_config={\n",
    "        \"cache_seed\": None,\n",
    "        \"config_list\": config_list,\n",
    "    },\n",
    ")"
   ]
  },
  {
   "cell_type": "code",
   "execution_count": 9,
   "id": "1e9a1ff0",
   "metadata": {},
   "outputs": [],
   "source": [
    "# create a UserProxyAgent instance named \"user_proxy\"\n",
    "user_proxy = autogen.UserProxyAgent(\n",
    "    name=\"user_proxy\",\n",
    "    human_input_mode=\"ALWAYS\",\n",
    "    is_termination_msg=lambda x: x.get(\"content\", \"\").rstrip().endswith(\n",
    "        \"TERMINATE\"),\n",
    "    code_execution_config={\n",
    "        \"use_docker\": False\n",
    "    },  # Please set use_docker=True if docker is available to run the generated code.\n",
    ")"
   ]
  },
  {
   "cell_type": "code",
   "execution_count": 10,
   "id": "0831074d",
   "metadata": {},
   "outputs": [],
   "source": [
    "problem_to_solve = \"\"\"\n",
    "I want to resize all my jpeg images from the directory MYIMAGES to (640,640) pixels.\n",
    "Show me the python code.\n",
    "\"\"\""
   ]
  },
  {
   "cell_type": "code",
   "execution_count": 11,
   "id": "3d33e29b",
   "metadata": {},
   "outputs": [
    {
     "name": "stdout",
     "output_type": "stream",
     "text": [
      "user_proxy (to assistant):\n",
      "\n",
      "\n",
      "I want to resize all my jpeg images from the directory MYIMAGES to (640,640) pixels.\n",
      "Show me the python code.\n",
      "\n",
      "\n",
      "--------------------------------------------------------------------------------\n",
      "assistant (to user_proxy):\n",
      "\n",
      "Sure, we can achieve this using the Pillow library in Python. Pillow provides the `Image` module for manipulating images. Here is a Python script that will resize all jpeg images in the given directory to (640,640) pixels.\n",
      "\n",
      "In the script below, we are iterating through each file in the MYIMAGES directory, opening it, resizing it and then saving it back to the directory. \n",
      "\n",
      "Please ensure that Pillow library is installed in your system. If not, you can install using pip.\n",
      "\n",
      "```shell\n",
      "pip install pillow\n",
      "```\n",
      "\n",
      "Here is the complete python script you need to run.\n",
      "\n",
      "```python\n",
      "# filename: image_resizer.py\n",
      "\n",
      "import os\n",
      "from PIL import Image\n",
      "\n",
      "IMAGE_DIRECTORY = 'MYIMAGES'\n",
      "WIDTH, HEIGHT = 640, 640\n",
      "\n",
      "def resize_image(image_path):\n",
      "    with Image.open(image_path) as img:\n",
      "        img = img.resize((WIDTH, HEIGHT))\n",
      "        img.save(image_path)\n",
      "\n",
      "def resize_images_in_directory(directory):\n",
      "    for filename in os.listdir(directory):\n",
      "        if filename.lower().endswith('.jpg') or filename.lower().endswith('.jpeg'):\n",
      "            resize_image(os.path.join(directory, filename))\n",
      "\n",
      "resize_images_in_directory(IMAGE_DIRECTORY)\n",
      "```\n",
      "\n",
      "You can run this script in either of the following way:\n",
      "- Open a terminal or command prompt, navigate to the directory where the script is saved and execute `python image_resizer.py`.\n",
      "- Open the script in an editor that supports python code execution (like PyCharm, Jupyter notebook, etc.) and run it from there.\n",
      "\n",
      "Please replace 'MYIMAGES' with the actual directory name if it's different. This script will replace your original images. If you want to keep the original images, you should modify the script to save the resized images to a different location.\n",
      "\n",
      "Make sure you have the necessary permissions to read and write files in the specified directory. If your script can't access the directory or files due to permission issues, you may need to adjust the file or directory permissions.\n",
      "\n",
      "--------------------------------------------------------------------------------\n",
      "Provide feedback to assistant. Press enter to skip and use auto-reply, or type 'exit' to end the conversation: Do not use PIL. Use OpenCV\n",
      "user_proxy (to assistant):\n",
      "\n",
      "Do not use PIL. Use OpenCV\n",
      "\n",
      "--------------------------------------------------------------------------------\n",
      "assistant (to user_proxy):\n",
      "\n",
      "I understand. Here's a Python script using OpenCV to resize images. You can install OpenCV using pip if it isn't installed already:\n",
      "\n",
      "```shell\n",
      "pip install opencv-python\n",
      "```\n",
      "\n",
      "Now, here’s the Python code that resizes all the jpeg images present in 'MYIMAGES' directory to 640x640 pixels.\n",
      "\n",
      "```python\n",
      "# filename: image_resizer.py\n",
      "\n",
      "import cv2\n",
      "import os\n",
      "import glob\n",
      "\n",
      "# the directory with images\n",
      "image_directory = 'MYIMAGES'\n",
      "\n",
      "# Desired dimension\n",
      "width, height = 640, 640\n",
      "\n",
      "# getting the image paths\n",
      "image_files = glob.glob(os.path.join(image_directory,'*.jpg')) + glob.glob(os.path.join(image_directory,'*.jpeg'))\n",
      "\n",
      "for file in image_files:\n",
      "    img = cv2.imread(file)\n",
      "\n",
      "    # resize the image\n",
      "    resized_img = cv2.resize(img, (width, height))\n",
      "\n",
      "    # write the resized image back to the file\n",
      "    cv2.imwrite(file, resized_img)\n",
      "```\n",
      "\n",
      "To execute the script:\n",
      "\n",
      "1. Save the script in a file called image_resizer.py.\n",
      "2. Open a terminal or command prompt, navigate to the directory where the script is saved, and run the script using `python image_resizer.py`.\n",
      "\n",
      "This script also replaces your original images with the resized ones. Make sure you have the necessary permissions to read and write files in the specified directory.\n",
      "\n",
      "--------------------------------------------------------------------------------\n",
      "Provide feedback to assistant. Press enter to skip and use auto-reply, or type 'exit' to end the conversation: Do not use PIL or OpenCV. Use something else\n",
      "user_proxy (to assistant):\n",
      "\n",
      "Do not use PIL or OpenCV. Use something else\n",
      "\n",
      "--------------------------------------------------------------------------------\n",
      "assistant (to user_proxy):\n",
      "\n",
      "Sure, we can use the `imageio` and `scikit-image` libraries in Python. \n",
      "\n",
      "Here's the Python script to resize the images. Install the necessary packages using pip first:\n",
      "```shell\n",
      "pip install imageio scikit-image\n",
      "```\n",
      "\n",
      "Now, here's the python code.\n",
      "\n",
      "```python\n",
      "# filename: image_resizer.py\n",
      "\n",
      "import os\n",
      "import glob\n",
      "from skimage import io\n",
      "from skimage.transform import resize\n",
      "\n",
      "# the directory with images\n",
      "image_directory = 'MYIMAGES'\n",
      "\n",
      "# Desired dimension\n",
      "width, height = 640, 640\n",
      "\n",
      "# getting the image paths\n",
      "image_files = glob.glob(os.path.join(image_directory,'*.jpg')) + glob.glob(os.path.join(image_directory,'*.jpeg'))\n",
      "\n",
      "for file in image_files:\n",
      "    img = io.imread(file)\n",
      "\n",
      "    # resize the image\n",
      "    resized_img = resize(img, (width, height))\n",
      "\n",
      "    # write the resized image back to the file\n",
      "    io.imsave(file, (resized_img * 255).astype('uint8')) # multiply by 255 to make it ready for jpeg compression\n",
      "\n",
      "```\n",
      "\n",
      "To execute the script:\n",
      "\n",
      "1. Save the script in a file called image_resizer.py.\n",
      "2. Open a terminal or command prompt, navigate to the directory where the script is saved, and run the script using `python image_resizer.py`.\n",
      "\n",
      "Make sure you have the necessary permissions to work with the files in the specified directory. This script will replace original images with resized ones. If you want to keep originals, please modify the script to save the resized images to a different location.\n",
      "\n",
      "--------------------------------------------------------------------------------\n",
      "Provide feedback to assistant. Press enter to skip and use auto-reply, or type 'exit' to end the conversation: exit\n"
     ]
    },
    {
     "data": {
      "text/plain": [
       "ChatResult(chat_id=None, chat_history=[{'content': '\\nI want to resize all my jpeg images from the directory MYIMAGES to (640,640) pixels.\\nShow me the python code.\\n', 'role': 'assistant'}, {'content': \"Sure, we can achieve this using the Pillow library in Python. Pillow provides the `Image` module for manipulating images. Here is a Python script that will resize all jpeg images in the given directory to (640,640) pixels.\\n\\nIn the script below, we are iterating through each file in the MYIMAGES directory, opening it, resizing it and then saving it back to the directory. \\n\\nPlease ensure that Pillow library is installed in your system. If not, you can install using pip.\\n\\n```shell\\npip install pillow\\n```\\n\\nHere is the complete python script you need to run.\\n\\n```python\\n# filename: image_resizer.py\\n\\nimport os\\nfrom PIL import Image\\n\\nIMAGE_DIRECTORY = 'MYIMAGES'\\nWIDTH, HEIGHT = 640, 640\\n\\ndef resize_image(image_path):\\n    with Image.open(image_path) as img:\\n        img = img.resize((WIDTH, HEIGHT))\\n        img.save(image_path)\\n\\ndef resize_images_in_directory(directory):\\n    for filename in os.listdir(directory):\\n        if filename.lower().endswith('.jpg') or filename.lower().endswith('.jpeg'):\\n            resize_image(os.path.join(directory, filename))\\n\\nresize_images_in_directory(IMAGE_DIRECTORY)\\n```\\n\\nYou can run this script in either of the following way:\\n- Open a terminal or command prompt, navigate to the directory where the script is saved and execute `python image_resizer.py`.\\n- Open the script in an editor that supports python code execution (like PyCharm, Jupyter notebook, etc.) and run it from there.\\n\\nPlease replace 'MYIMAGES' with the actual directory name if it's different. This script will replace your original images. If you want to keep the original images, you should modify the script to save the resized images to a different location.\\n\\nMake sure you have the necessary permissions to read and write files in the specified directory. If your script can't access the directory or files due to permission issues, you may need to adjust the file or directory permissions.\", 'role': 'user'}, {'content': 'Do not use PIL. Use OpenCV', 'role': 'assistant'}, {'content': \"I understand. Here's a Python script using OpenCV to resize images. You can install OpenCV using pip if it isn't installed already:\\n\\n```shell\\npip install opencv-python\\n```\\n\\nNow, here’s the Python code that resizes all the jpeg images present in 'MYIMAGES' directory to 640x640 pixels.\\n\\n```python\\n# filename: image_resizer.py\\n\\nimport cv2\\nimport os\\nimport glob\\n\\n# the directory with images\\nimage_directory = 'MYIMAGES'\\n\\n# Desired dimension\\nwidth, height = 640, 640\\n\\n# getting the image paths\\nimage_files = glob.glob(os.path.join(image_directory,'*.jpg')) + glob.glob(os.path.join(image_directory,'*.jpeg'))\\n\\nfor file in image_files:\\n    img = cv2.imread(file)\\n\\n    # resize the image\\n    resized_img = cv2.resize(img, (width, height))\\n\\n    # write the resized image back to the file\\n    cv2.imwrite(file, resized_img)\\n```\\n\\nTo execute the script:\\n\\n1. Save the script in a file called image_resizer.py.\\n2. Open a terminal or command prompt, navigate to the directory where the script is saved, and run the script using `python image_resizer.py`.\\n\\nThis script also replaces your original images with the resized ones. Make sure you have the necessary permissions to read and write files in the specified directory.\", 'role': 'user'}, {'content': 'Do not use PIL or OpenCV. Use something else', 'role': 'assistant'}, {'content': \"Sure, we can use the `imageio` and `scikit-image` libraries in Python. \\n\\nHere's the Python script to resize the images. Install the necessary packages using pip first:\\n```shell\\npip install imageio scikit-image\\n```\\n\\nNow, here's the python code.\\n\\n```python\\n# filename: image_resizer.py\\n\\nimport os\\nimport glob\\nfrom skimage import io\\nfrom skimage.transform import resize\\n\\n# the directory with images\\nimage_directory = 'MYIMAGES'\\n\\n# Desired dimension\\nwidth, height = 640, 640\\n\\n# getting the image paths\\nimage_files = glob.glob(os.path.join(image_directory,'*.jpg')) + glob.glob(os.path.join(image_directory,'*.jpeg'))\\n\\nfor file in image_files:\\n    img = io.imread(file)\\n\\n    # resize the image\\n    resized_img = resize(img, (width, height))\\n\\n    # write the resized image back to the file\\n    io.imsave(file, (resized_img * 255).astype('uint8')) # multiply by 255 to make it ready for jpeg compression\\n\\n```\\n\\nTo execute the script:\\n\\n1. Save the script in a file called image_resizer.py.\\n2. Open a terminal or command prompt, navigate to the directory where the script is saved, and run the script using `python image_resizer.py`.\\n\\nMake sure you have the necessary permissions to work with the files in the specified directory. This script will replace original images with resized ones. If you want to keep originals, please modify the script to save the resized images to a different location.\", 'role': 'user'}], summary=\"Sure, we can use the `imageio` and `scikit-image` libraries in Python. \\n\\nHere's the Python script to resize the images. Install the necessary packages using pip first:\\n```shell\\npip install imageio scikit-image\\n```\\n\\nNow, here's the python code.\\n\\n```python\\n# filename: image_resizer.py\\n\\nimport os\\nimport glob\\nfrom skimage import io\\nfrom skimage.transform import resize\\n\\n# the directory with images\\nimage_directory = 'MYIMAGES'\\n\\n# Desired dimension\\nwidth, height = 640, 640\\n\\n# getting the image paths\\nimage_files = glob.glob(os.path.join(image_directory,'*.jpg')) + glob.glob(os.path.join(image_directory,'*.jpeg'))\\n\\nfor file in image_files:\\n    img = io.imread(file)\\n\\n    # resize the image\\n    resized_img = resize(img, (width, height))\\n\\n    # write the resized image back to the file\\n    io.imsave(file, (resized_img * 255).astype('uint8')) # multiply by 255 to make it ready for jpeg compression\\n\\n```\\n\\nTo execute the script:\\n\\n1. Save the script in a file called image_resizer.py.\\n2. Open a terminal or command prompt, navigate to the directory where the script is saved, and run the script using `python image_resizer.py`.\\n\\nMake sure you have the necessary permissions to work with the files in the specified directory. This script will replace original images with resized ones. If you want to keep originals, please modify the script to save the resized images to a different location.\", cost={'usage_including_cached_inference': {'total_cost': 0.14001, 'gpt-4': {'cost': 0.14001, 'prompt_tokens': 2645, 'completion_tokens': 1011, 'total_tokens': 3656}}, 'usage_excluding_cached_inference': {'total_cost': 0.14001, 'gpt-4': {'cost': 0.14001, 'prompt_tokens': 2645, 'completion_tokens': 1011, 'total_tokens': 3656}}}, human_input=['Do not use PIL. Use OpenCV', 'Do not use PIL or OpenCV. Use something else', 'exit'])"
      ]
     },
     "execution_count": 11,
     "metadata": {},
     "output_type": "execute_result"
    }
   ],
   "source": [
    "# the assistant receives a message from the user, which contains the task description\n",
    "user_proxy.initiate_chat(assistant, message=problem_to_solve)"
   ]
  },
  {
   "cell_type": "markdown",
   "id": "c38dab25",
   "metadata": {},
   "source": [
    "> You can interact and say for example to use another library like OpenCV"
   ]
  },
  {
   "cell_type": "code",
   "execution_count": 12,
   "id": "d664edf8",
   "metadata": {},
   "outputs": [
    {
     "name": "stdout",
     "output_type": "stream",
     "text": [
      "[{'content': '\\nI want to resize all my jpeg images from the directory MYIMAGES to (640,640) pixels.\\nShow me the python code.\\n', 'role': 'assistant'}, {'content': \"Sure, we can achieve this using the Pillow library in Python. Pillow provides the `Image` module for manipulating images. Here is a Python script that will resize all jpeg images in the given directory to (640,640) pixels.\\n\\nIn the script below, we are iterating through each file in the MYIMAGES directory, opening it, resizing it and then saving it back to the directory. \\n\\nPlease ensure that Pillow library is installed in your system. If not, you can install using pip.\\n\\n```shell\\npip install pillow\\n```\\n\\nHere is the complete python script you need to run.\\n\\n```python\\n# filename: image_resizer.py\\n\\nimport os\\nfrom PIL import Image\\n\\nIMAGE_DIRECTORY = 'MYIMAGES'\\nWIDTH, HEIGHT = 640, 640\\n\\ndef resize_image(image_path):\\n    with Image.open(image_path) as img:\\n        img = img.resize((WIDTH, HEIGHT))\\n        img.save(image_path)\\n\\ndef resize_images_in_directory(directory):\\n    for filename in os.listdir(directory):\\n        if filename.lower().endswith('.jpg') or filename.lower().endswith('.jpeg'):\\n            resize_image(os.path.join(directory, filename))\\n\\nresize_images_in_directory(IMAGE_DIRECTORY)\\n```\\n\\nYou can run this script in either of the following way:\\n- Open a terminal or command prompt, navigate to the directory where the script is saved and execute `python image_resizer.py`.\\n- Open the script in an editor that supports python code execution (like PyCharm, Jupyter notebook, etc.) and run it from there.\\n\\nPlease replace 'MYIMAGES' with the actual directory name if it's different. This script will replace your original images. If you want to keep the original images, you should modify the script to save the resized images to a different location.\\n\\nMake sure you have the necessary permissions to read and write files in the specified directory. If your script can't access the directory or files due to permission issues, you may need to adjust the file or directory permissions.\", 'role': 'user'}, {'content': 'Do not use PIL. Use OpenCV', 'role': 'assistant'}, {'content': \"I understand. Here's a Python script using OpenCV to resize images. You can install OpenCV using pip if it isn't installed already:\\n\\n```shell\\npip install opencv-python\\n```\\n\\nNow, here’s the Python code that resizes all the jpeg images present in 'MYIMAGES' directory to 640x640 pixels.\\n\\n```python\\n# filename: image_resizer.py\\n\\nimport cv2\\nimport os\\nimport glob\\n\\n# the directory with images\\nimage_directory = 'MYIMAGES'\\n\\n# Desired dimension\\nwidth, height = 640, 640\\n\\n# getting the image paths\\nimage_files = glob.glob(os.path.join(image_directory,'*.jpg')) + glob.glob(os.path.join(image_directory,'*.jpeg'))\\n\\nfor file in image_files:\\n    img = cv2.imread(file)\\n\\n    # resize the image\\n    resized_img = cv2.resize(img, (width, height))\\n\\n    # write the resized image back to the file\\n    cv2.imwrite(file, resized_img)\\n```\\n\\nTo execute the script:\\n\\n1. Save the script in a file called image_resizer.py.\\n2. Open a terminal or command prompt, navigate to the directory where the script is saved, and run the script using `python image_resizer.py`.\\n\\nThis script also replaces your original images with the resized ones. Make sure you have the necessary permissions to read and write files in the specified directory.\", 'role': 'user'}, {'content': 'Do not use PIL or OpenCV. Use something else', 'role': 'assistant'}, {'content': \"Sure, we can use the `imageio` and `scikit-image` libraries in Python. \\n\\nHere's the Python script to resize the images. Install the necessary packages using pip first:\\n```shell\\npip install imageio scikit-image\\n```\\n\\nNow, here's the python code.\\n\\n```python\\n# filename: image_resizer.py\\n\\nimport os\\nimport glob\\nfrom skimage import io\\nfrom skimage.transform import resize\\n\\n# the directory with images\\nimage_directory = 'MYIMAGES'\\n\\n# Desired dimension\\nwidth, height = 640, 640\\n\\n# getting the image paths\\nimage_files = glob.glob(os.path.join(image_directory,'*.jpg')) + glob.glob(os.path.join(image_directory,'*.jpeg'))\\n\\nfor file in image_files:\\n    img = io.imread(file)\\n\\n    # resize the image\\n    resized_img = resize(img, (width, height))\\n\\n    # write the resized image back to the file\\n    io.imsave(file, (resized_img * 255).astype('uint8')) # multiply by 255 to make it ready for jpeg compression\\n\\n```\\n\\nTo execute the script:\\n\\n1. Save the script in a file called image_resizer.py.\\n2. Open a terminal or command prompt, navigate to the directory where the script is saved, and run the script using `python image_resizer.py`.\\n\\nMake sure you have the necessary permissions to work with the files in the specified directory. This script will replace original images with resized ones. If you want to keep originals, please modify the script to save the resized images to a different location.\", 'role': 'user'}]\n"
     ]
    }
   ],
   "source": [
    "print(user_proxy.chat_messages[assistant])"
   ]
  },
  {
   "cell_type": "code",
   "execution_count": 13,
   "id": "8354c2e6",
   "metadata": {},
   "outputs": [],
   "source": [
    "outputfile = os.path.join(WORK_DIR, \"human_interaction.json\")\n",
    "\n",
    "json.dump(user_proxy.chat_messages[assistant], open(outputfile, \"w\"), indent=6)"
   ]
  },
  {
   "cell_type": "code",
   "execution_count": 14,
   "id": "c6911347",
   "metadata": {},
   "outputs": [
    {
     "name": "stdout",
     "output_type": "stream",
     "text": [
      "\u001b[1;31;34m\n",
      "[\n",
      "      {\n",
      "            \"content\": \"\\nI want to resize all my jpeg images from the directory MYIMAGES to (640,640) pixels.\\nShow me the python code.\\n\",\n",
      "            \"role\": \"assistant\"\n",
      "      },\n",
      "      {\n",
      "            \"content\": \"Sure, we can achieve this using the Pillow library in Python. Pillow provides the `Image` module for manipulating images. Here is a Python script that will resize all jpeg images in the given directory to (640,640) pixels.\\n\\nIn the script below, we are iterating through each file in the MYIMAGES directory, opening it, resizing it and then saving it back to the directory. \\n\\nPlease ensure that Pillow library is installed in your system. If not, you can install using pip.\\n\\n```shell\\npip install pillow\\n```\\n\\nHere is the complete python script you need to run.\\n\\n```python\\n# filename: image_resizer.py\\n\\nimport os\\nfrom PIL import Image\\n\\nIMAGE_DIRECTORY = 'MYIMAGES'\\nWIDTH, HEIGHT = 640, 640\\n\\ndef resize_image(image_path):\\n    with Image.open(image_path) as img:\\n        img = img.resize((WIDTH, HEIGHT))\\n        img.save(image_path)\\n\\ndef resize_images_in_directory(directory):\\n    for filename in os.listdir(directory):\\n        if filename.lower().endswith('.jpg') or filename.lower().endswith('.jpeg'):\\n            resize_image(os.path.join(directory, filename))\\n\\nresize_images_in_directory(IMAGE_DIRECTORY)\\n```\\n\\nYou can run this script in either of the following way:\\n- Open a terminal or command prompt, navigate to the directory where the script is saved and execute `python image_resizer.py`.\\n- Open the script in an editor that supports python code execution (like PyCharm, Jupyter notebook, etc.) and run it from there.\\n\\nPlease replace 'MYIMAGES' with the actual directory name if it's different. This script will replace your original images. If you want to keep the original images, you should modify the script to save the resized images to a different location.\\n\\nMake sure you have the necessary permissions to read and write files in the specified directory. If your script can't access the directory or files due to permission issues, you may need to adjust the file or directory permissions.\",\n",
      "            \"role\": \"user\"\n",
      "      },\n",
      "      {\n",
      "            \"content\": \"Do not use PIL. Use OpenCV\",\n",
      "            \"role\": \"assistant\"\n",
      "      },\n",
      "      {\n",
      "            \"content\": \"I understand. Here's a Python script using OpenCV to resize images. You can install OpenCV using pip if it isn't installed already:\\n\\n```shell\\npip install opencv-python\\n```\\n\\nNow, here\\u2019s the Python code that resizes all the jpeg images present in 'MYIMAGES' directory to 640x640 pixels.\\n\\n```python\\n# filename: image_resizer.py\\n\\nimport cv2\\nimport os\\nimport glob\\n\\n# the directory with images\\nimage_directory = 'MYIMAGES'\\n\\n# Desired dimension\\nwidth, height = 640, 640\\n\\n# getting the image paths\\nimage_files = glob.glob(os.path.join(image_directory,'*.jpg')) + glob.glob(os.path.join(image_directory,'*.jpeg'))\\n\\nfor file in image_files:\\n    img = cv2.imread(file)\\n\\n    # resize the image\\n    resized_img = cv2.resize(img, (width, height))\\n\\n    # write the resized image back to the file\\n    cv2.imwrite(file, resized_img)\\n```\\n\\nTo execute the script:\\n\\n1. Save the script in a file called image_resizer.py.\\n2. Open a terminal or command prompt, navigate to the directory where the script is saved, and run the script using `python image_resizer.py`.\\n\\nThis script also replaces your original images with the resized ones. Make sure you have the necessary permissions to read and write files in the specified directory.\",\n",
      "            \"role\": \"user\"\n",
      "      },\n",
      "      {\n",
      "            \"content\": \"Do not use PIL or OpenCV. Use something else\",\n",
      "            \"role\": \"assistant\"\n",
      "      },\n",
      "      {\n",
      "            \"content\": \"Sure, we can use the `imageio` and `scikit-image` libraries in Python. \\n\\nHere's the Python script to resize the images. Install the necessary packages using pip first:\\n```shell\\npip install imageio scikit-image\\n```\\n\\nNow, here's the python code.\\n\\n```python\\n# filename: image_resizer.py\\n\\nimport os\\nimport glob\\nfrom skimage import io\\nfrom skimage.transform import resize\\n\\n# the directory with images\\nimage_directory = 'MYIMAGES'\\n\\n# Desired dimension\\nwidth, height = 640, 640\\n\\n# getting the image paths\\nimage_files = glob.glob(os.path.join(image_directory,'*.jpg')) + glob.glob(os.path.join(image_directory,'*.jpeg'))\\n\\nfor file in image_files:\\n    img = io.imread(file)\\n\\n    # resize the image\\n    resized_img = resize(img, (width, height))\\n\\n    # write the resized image back to the file\\n    io.imsave(file, (resized_img * 255).astype('uint8')) # multiply by 255 to make it ready for jpeg compression\\n\\n```\\n\\nTo execute the script:\\n\\n1. Save the script in a file called image_resizer.py.\\n2. Open a terminal or command prompt, navigate to the directory where the script is saved, and run the script using `python image_resizer.py`.\\n\\nMake sure you have the necessary permissions to work with the files in the specified directory. This script will replace original images with resized ones. If you want to keep originals, please modify the script to save the resized images to a different location.\",\n",
      "            \"role\": \"user\"\n",
      "      }\n",
      "]\n"
     ]
    }
   ],
   "source": [
    "print(\"\\033[1;31;34m\")\n",
    "with open(outputfile, \"r\") as f:\n",
    "    print(f.read())"
   ]
  },
  {
   "cell_type": "code",
   "execution_count": 15,
   "id": "7b3c9241",
   "metadata": {},
   "outputs": [
    {
     "name": "stdout",
     "output_type": "stream",
     "text": [
      "-rwxrwxrwx 1 root root 5251 Jun 17 09:08 workdir/human_interaction.json\r\n"
     ]
    }
   ],
   "source": [
    "!ls $WORK_DIR/*.json -lt"
   ]
  },
  {
   "cell_type": "code",
   "execution_count": null,
   "id": "4627574a",
   "metadata": {},
   "outputs": [],
   "source": []
  }
 ],
 "metadata": {
  "kernelspec": {
   "display_name": "Python 3.10 - SDK v2",
   "language": "python",
   "name": "python310-sdkv2"
  },
  "language_info": {
   "codemirror_mode": {
    "name": "ipython",
    "version": 3
   },
   "file_extension": ".py",
   "mimetype": "text/x-python",
   "name": "python",
   "nbconvert_exporter": "python",
   "pygments_lexer": "ipython3",
   "version": "3.10.11"
  }
 },
 "nbformat": 4,
 "nbformat_minor": 5
}
