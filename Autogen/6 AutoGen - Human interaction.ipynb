{
 "cells": [
  {
   "cell_type": "markdown",
   "id": "c1749c2e",
   "metadata": {},
   "source": [
    "# 6 AutoGen - Human interaction\n",
    "\n",
    "AutoGen is a framework that enables the development of LLM applications using multiple agents that can converse with each other to solve tasks. AutoGen agents are customizable, conversable, and seamlessly allow human participation. They can operate in various modes that employ combinations of LLMs, human inputs, and tools.\n",
    "\n",
    "17/06/2024\n",
    "\n",
    "<img src=\"https://raw.githubusercontent.com/retkowsky/images/master/autogenlogo.jpg\">\n",
    "\n",
    "> Documentation: https://microsoft.github.io/autogen/"
   ]
  },
  {
   "cell_type": "code",
   "execution_count": 1,
   "id": "97bc2c9d",
   "metadata": {},
   "outputs": [],
   "source": [
    "import autogen\n",
    "import json\n",
    "import openai\n",
    "import os\n",
    "import sys\n",
    "\n",
    "from autogen import config_list_from_json"
   ]
  },
  {
   "cell_type": "code",
   "execution_count": 2,
   "id": "e3c7ccc6",
   "metadata": {},
   "outputs": [
    {
     "data": {
      "text/plain": [
       "'3.10.11 (main, May 16 2023, 00:28:57) [GCC 11.2.0]'"
      ]
     },
     "execution_count": 2,
     "metadata": {},
     "output_type": "execute_result"
    }
   ],
   "source": [
    "sys.version"
   ]
  },
  {
   "cell_type": "code",
   "execution_count": 3,
   "id": "f4aebec8",
   "metadata": {},
   "outputs": [],
   "source": [
    "def check_openai_version():\n",
    "    \"\"\"\n",
    "    Check Azure Open AI version\n",
    "    \"\"\"\n",
    "    installed_version = openai.__version__\n",
    "\n",
    "    try:\n",
    "        version_number = float(installed_version[:3])\n",
    "    except ValueError:\n",
    "        print(\"Invalid OpenAI version format\")\n",
    "        return\n",
    "\n",
    "    print(f\"Installed OpenAI version: {installed_version}\")\n",
    "\n",
    "    if version_number < 1.0:\n",
    "        print(\"[Warning] You should upgrade OpenAI to have version >= 1.0.0\")\n",
    "        print(\"To upgrade, run: %pip install openai --upgrade\")\n",
    "    else:\n",
    "        print(f\"[OK] OpenAI version {installed_version} is >= 1.0.0\")"
   ]
  },
  {
   "cell_type": "code",
   "execution_count": 4,
   "id": "3b044299",
   "metadata": {},
   "outputs": [
    {
     "name": "stdout",
     "output_type": "stream",
     "text": [
      "Installed OpenAI version: 1.30.5\n",
      "[OK] OpenAI version 1.30.5 is >= 1.0.0\n"
     ]
    }
   ],
   "source": [
    "check_openai_version()"
   ]
  },
  {
   "cell_type": "code",
   "execution_count": 5,
   "id": "f8a5a8a0",
   "metadata": {},
   "outputs": [],
   "source": [
    "config_list = autogen.config_list_from_json(\n",
    "    \"OAI_CONFIG_LIST\",\n",
    "    #filter_dict={\"tags\": [\"gpt-4\"]},  # comment out to get all\n",
    ")\n",
    "# When using a single openai endpoint, you can use the following:\n",
    "# config_list = [{\"model\": \"gpt-4\", \"api_key\": os.getenv(\"OPENAI_API_KEY\")}]"
   ]
  },
  {
   "cell_type": "code",
   "execution_count": 6,
   "id": "7448db1d",
   "metadata": {},
   "outputs": [],
   "source": [
    "WORK_DIR = \"workdir\"\n",
    "\n",
    "os.makedirs(WORK_DIR, exist_ok=True)"
   ]
  },
  {
   "cell_type": "markdown",
   "id": "0e8635eb",
   "metadata": {},
   "source": [
    "## 1. Agent"
   ]
  },
  {
   "cell_type": "code",
   "execution_count": 7,
   "id": "643c7008",
   "metadata": {},
   "outputs": [],
   "source": [
    "config_list = config_list_from_json(env_or_file=\"OAI_CONFIG_LIST\")"
   ]
  },
  {
   "cell_type": "code",
   "execution_count": 8,
   "id": "61cf8243",
   "metadata": {},
   "outputs": [],
   "source": [
    "# create an AssistantAgent instance named \"assistant\"\n",
    "assistant = autogen.AssistantAgent(\n",
    "    name=\"assistant\",\n",
    "    llm_config={\n",
    "        \"cache_seed\": None,\n",
    "        \"config_list\": config_list,\n",
    "    },\n",
    ")"
   ]
  },
  {
   "cell_type": "code",
   "execution_count": 9,
   "id": "1e9a1ff0",
   "metadata": {},
   "outputs": [],
   "source": [
    "# create a UserProxyAgent instance named \"user_proxy\"\n",
    "user_proxy = autogen.UserProxyAgent(\n",
    "    name=\"user_proxy\",\n",
    "    human_input_mode=\"ALWAYS\",\n",
    "    is_termination_msg=lambda x: x.get(\"content\", \"\").rstrip().endswith(\n",
    "        \"TERMINATE\"),\n",
    "    code_execution_config={\n",
    "        \"use_docker\": False\n",
    "    },  # Please set use_docker=True if docker is available to run the generated code.\n",
    ")"
   ]
  },
  {
   "cell_type": "code",
   "execution_count": 10,
   "id": "0831074d",
   "metadata": {},
   "outputs": [],
   "source": [
    "problem_to_solve = \"\"\"\n",
    "I want to resize all my jpeg images from the directory MYIMAGES to (640,640) pixels.\n",
    "Show me the python code.\n",
    "\"\"\""
   ]
  },
  {
   "cell_type": "code",
   "execution_count": 11,
   "id": "3d33e29b",
   "metadata": {},
   "outputs": [
    {
     "name": "stdout",
     "output_type": "stream",
     "text": [
      "user_proxy (to assistant):\n",
      "\n",
      "\n",
      "I want to resize all my jpeg images from the directory MYIMAGES to (640,640) pixels.\n",
      "Show me the python code.\n",
      "\n",
      "\n",
      "--------------------------------------------------------------------------------\n",
      "assistant (to user_proxy):\n",
      "\n",
      "Sure. Here's a Python script that uses the Pillow library to resize images. If the \"Pillow\" library is not installed, you may need to install it using pip:\n",
      "\n",
      "```python\n",
      "# filename: resize_images.py\n",
      "from PIL import Image\n",
      "import os\n",
      "\n",
      "image_directory = 'MYIMAGES'\n",
      "size = (640, 640)\n",
      "\n",
      "def resize_image(image_path, size):\n",
      "    img = Image.open(image_path)\n",
      "    img_resized = img.resize(size)\n",
      "    img_resized.save(image_path)\n",
      "\n",
      "for filename in os.listdir(image_directory):\n",
      "    if filename.endswith('.jpeg') or filename.endswith('.jpg'):\n",
      "        image_path = os.path.join(image_directory, filename)\n",
      "        resize_image(image_path, size)\n",
      "```\n",
      "\n",
      "To run this script, open a terminal, navigate to the directory where you saved the script, and run the following command:\n",
      "\n",
      "```shell\n",
      "python3 resize_images.py\n",
      "```\n",
      "\n",
      "Please replace \"MYIMAGES\" in the \"image_directory\" variable with the path to your image directory if it's not in the same directory as the script. Alternatively, if your images directory is in the same location as the script, just replace \"MYIMAGES\" with the name of your images directory.\n",
      "\n",
      "This script resizes all JPEG images in the specified directory to 640x640 pixels.\n",
      "\n",
      "Please note that this script overwrites the original images. If you want to keep the original images, you need to modify the script to save the resized images to a different directory or with different filenames.\n",
      "\n",
      "--------------------------------------------------------------------------------\n",
      "Provide feedback to assistant. Press enter to skip and use auto-reply, or type 'exit' to end the conversation: Do not use PIL. I want to use OpenCV\n",
      "user_proxy (to assistant):\n",
      "\n",
      "Do not use PIL. I want to use OpenCV\n",
      "\n",
      "--------------------------------------------------------------------------------\n",
      "assistant (to user_proxy):\n",
      "\n",
      "Sure, OpenCV can be used for this task. Here's the Python script using the OpenCV and glob libraries. The script will iterate over all JPEG files in the directory and resize them:\n",
      "\n",
      "```python\n",
      "# filename: resize_images.py\n",
      "import cv2\n",
      "import glob\n",
      "import os\n",
      "\n",
      "image_directory = 'MYIMAGES'\n",
      "size = (640, 640)\n",
      "\n",
      "def resize_image(image_path, size):\n",
      "    img = cv2.imread(image_path)\n",
      "    img_resized = cv2.resize(img, size)\n",
      "    cv2.imwrite(image_path, img_resized)\n",
      "\n",
      "for filename in glob.glob(os.path.join(image_directory, '*.jpeg')):\n",
      "    resize_image(filename, size)\n",
      "\n",
      "for filename in glob.glob(os.path.join(image_directory, '*.jpg')):\n",
      "    resize_image(filename, size)\n",
      "```\n",
      "\n",
      "To run this script, open a terminal, navigate to the directory where you saved the script, and run the following command:\n",
      "\n",
      "```shell\n",
      "python3 resize_images.py\n",
      "```\n",
      "\n",
      "This script resizes all JPEG images in the specified directory to 640x640 pixels.\n",
      "\n",
      "Please note that this script overwrites the original images. If you want to keep the original images, you need to modify the script to either save the resized images to another directory or save them with different filenames.\n",
      "\n",
      "--------------------------------------------------------------------------------\n",
      "Provide feedback to assistant. Press enter to skip and use auto-reply, or type 'exit' to end the conversation: Do not use PIL or OpenCV. Use something else.\n",
      "user_proxy (to assistant):\n",
      "\n",
      "Do not use PIL or OpenCV. Use something else.\n",
      "\n",
      "--------------------------------------------------------------------------------\n",
      "assistant (to user_proxy):\n",
      "\n",
      "Okay, in that case let's use imageio and numpy libraries from Python. Make sure you have both these libraries installed. If not you can install these using pip:\n",
      "\n",
      "```sh\n",
      "pip install numpy imageio\n",
      "```\n",
      "\n",
      "Here's the Python script to resize the images:\n",
      "\n",
      "```python\n",
      "# filename: resize_images.py\n",
      "import imageio\n",
      "import numpy as np\n",
      "import glob\n",
      "import os\n",
      "from skimage.transform import resize\n",
      "\n",
      "image_directory = 'MYIMAGES'\n",
      "dest_size = (640, 640)\n",
      "\n",
      "def resize_image(image_path, size):\n",
      "    img = imageio.imread(image_path)\n",
      "    img_resized = resize(img, size)\n",
      "    imageio.imsave(image_path, np.uint8(img_resized*255))\n",
      "\n",
      "for filename in glob.glob(os.path.join(image_directory, '*.jpeg')):\n",
      "    resize_image(filename, dest_size)\n",
      "\n",
      "for filename in glob.glob(os.path.join(image_directory, '*.jpg')):\n",
      "    resize_image(filename, dest_size)\n",
      "```\n",
      "\n",
      "To run this script, save it into a file named resize_images.py, navigate to the directory where you saved the script and run the command:\n",
      "\n",
      "```sh\n",
      "python3 resize_images.py\n",
      "```\n",
      "\n",
      "This script-will resize all JPEG images in the mentioned directory to 640x640 pixels.\n",
      "\n",
      "Please note this script overwrites the original images. If you want to keep the original images, you need to modify the script to either save the resized images to a different folder or under different file names.\n",
      "\n",
      "--------------------------------------------------------------------------------\n",
      "Provide feedback to assistant. Press enter to skip and use auto-reply, or type 'exit' to end the conversation: exit\n"
     ]
    },
    {
     "data": {
      "text/plain": [
       "ChatResult(chat_id=None, chat_history=[{'content': '\\nI want to resize all my jpeg images from the directory MYIMAGES to (640,640) pixels.\\nShow me the python code.\\n', 'role': 'assistant'}, {'content': 'Sure. Here\\'s a Python script that uses the Pillow library to resize images. If the \"Pillow\" library is not installed, you may need to install it using pip:\\n\\n```python\\n# filename: resize_images.py\\nfrom PIL import Image\\nimport os\\n\\nimage_directory = \\'MYIMAGES\\'\\nsize = (640, 640)\\n\\ndef resize_image(image_path, size):\\n    img = Image.open(image_path)\\n    img_resized = img.resize(size)\\n    img_resized.save(image_path)\\n\\nfor filename in os.listdir(image_directory):\\n    if filename.endswith(\\'.jpeg\\') or filename.endswith(\\'.jpg\\'):\\n        image_path = os.path.join(image_directory, filename)\\n        resize_image(image_path, size)\\n```\\n\\nTo run this script, open a terminal, navigate to the directory where you saved the script, and run the following command:\\n\\n```shell\\npython3 resize_images.py\\n```\\n\\nPlease replace \"MYIMAGES\" in the \"image_directory\" variable with the path to your image directory if it\\'s not in the same directory as the script. Alternatively, if your images directory is in the same location as the script, just replace \"MYIMAGES\" with the name of your images directory.\\n\\nThis script resizes all JPEG images in the specified directory to 640x640 pixels.\\n\\nPlease note that this script overwrites the original images. If you want to keep the original images, you need to modify the script to save the resized images to a different directory or with different filenames.', 'role': 'user'}, {'content': 'Do not use PIL. I want to use OpenCV', 'role': 'assistant'}, {'content': \"Sure, OpenCV can be used for this task. Here's the Python script using the OpenCV and glob libraries. The script will iterate over all JPEG files in the directory and resize them:\\n\\n```python\\n# filename: resize_images.py\\nimport cv2\\nimport glob\\nimport os\\n\\nimage_directory = 'MYIMAGES'\\nsize = (640, 640)\\n\\ndef resize_image(image_path, size):\\n    img = cv2.imread(image_path)\\n    img_resized = cv2.resize(img, size)\\n    cv2.imwrite(image_path, img_resized)\\n\\nfor filename in glob.glob(os.path.join(image_directory, '*.jpeg')):\\n    resize_image(filename, size)\\n\\nfor filename in glob.glob(os.path.join(image_directory, '*.jpg')):\\n    resize_image(filename, size)\\n```\\n\\nTo run this script, open a terminal, navigate to the directory where you saved the script, and run the following command:\\n\\n```shell\\npython3 resize_images.py\\n```\\n\\nThis script resizes all JPEG images in the specified directory to 640x640 pixels.\\n\\nPlease note that this script overwrites the original images. If you want to keep the original images, you need to modify the script to either save the resized images to another directory or save them with different filenames.\", 'role': 'user'}, {'content': 'Do not use PIL or OpenCV. Use something else.', 'role': 'assistant'}, {'content': \"Okay, in that case let's use imageio and numpy libraries from Python. Make sure you have both these libraries installed. If not you can install these using pip:\\n\\n```sh\\npip install numpy imageio\\n```\\n\\nHere's the Python script to resize the images:\\n\\n```python\\n# filename: resize_images.py\\nimport imageio\\nimport numpy as np\\nimport glob\\nimport os\\nfrom skimage.transform import resize\\n\\nimage_directory = 'MYIMAGES'\\ndest_size = (640, 640)\\n\\ndef resize_image(image_path, size):\\n    img = imageio.imread(image_path)\\n    img_resized = resize(img, size)\\n    imageio.imsave(image_path, np.uint8(img_resized*255))\\n\\nfor filename in glob.glob(os.path.join(image_directory, '*.jpeg')):\\n    resize_image(filename, dest_size)\\n\\nfor filename in glob.glob(os.path.join(image_directory, '*.jpg')):\\n    resize_image(filename, dest_size)\\n```\\n\\nTo run this script, save it into a file named resize_images.py, navigate to the directory where you saved the script and run the command:\\n\\n```sh\\npython3 resize_images.py\\n```\\n\\nThis script-will resize all JPEG images in the mentioned directory to 640x640 pixels.\\n\\nPlease note this script overwrites the original images. If you want to keep the original images, you need to modify the script to either save the resized images to a different folder or under different file names.\", 'role': 'user'}], summary=\"Okay, in that case let's use imageio and numpy libraries from Python. Make sure you have both these libraries installed. If not you can install these using pip:\\n\\n```sh\\npip install numpy imageio\\n```\\n\\nHere's the Python script to resize the images:\\n\\n```python\\n# filename: resize_images.py\\nimport imageio\\nimport numpy as np\\nimport glob\\nimport os\\nfrom skimage.transform import resize\\n\\nimage_directory = 'MYIMAGES'\\ndest_size = (640, 640)\\n\\ndef resize_image(image_path, size):\\n    img = imageio.imread(image_path)\\n    img_resized = resize(img, size)\\n    imageio.imsave(image_path, np.uint8(img_resized*255))\\n\\nfor filename in glob.glob(os.path.join(image_directory, '*.jpeg')):\\n    resize_image(filename, dest_size)\\n\\nfor filename in glob.glob(os.path.join(image_directory, '*.jpg')):\\n    resize_image(filename, dest_size)\\n```\\n\\nTo run this script, save it into a file named resize_images.py, navigate to the directory where you saved the script and run the command:\\n\\n```sh\\npython3 resize_images.py\\n```\\n\\nThis script-will resize all JPEG images in the mentioned directory to 640x640 pixels.\\n\\nPlease note this script overwrites the original images. If you want to keep the original images, you need to modify the script to either save the resized images to a different folder or under different file names.\", cost={'usage_including_cached_inference': {'total_cost': 0.12378, 'gpt-4': {'cost': 0.12378, 'prompt_tokens': 2422, 'completion_tokens': 852, 'total_tokens': 3274}}, 'usage_excluding_cached_inference': {'total_cost': 0.12378, 'gpt-4': {'cost': 0.12378, 'prompt_tokens': 2422, 'completion_tokens': 852, 'total_tokens': 3274}}}, human_input=['Do not use PIL. I want to use OpenCV', 'Do not use PIL or OpenCV. Use something else.', 'exit'])"
      ]
     },
     "execution_count": 11,
     "metadata": {},
     "output_type": "execute_result"
    }
   ],
   "source": [
    "# the assistant receives a message from the user, which contains the task description\n",
    "user_proxy.initiate_chat(assistant, message=problem_to_solve)"
   ]
  },
  {
   "cell_type": "markdown",
   "id": "c38dab25",
   "metadata": {},
   "source": [
    "> You can interact and say for example to use another library like OpenCV"
   ]
  },
  {
   "cell_type": "code",
   "execution_count": 12,
   "id": "d664edf8",
   "metadata": {},
   "outputs": [
    {
     "name": "stdout",
     "output_type": "stream",
     "text": [
      "[{'content': '\\nI want to resize all my jpeg images from the directory MYIMAGES to (640,640) pixels.\\nShow me the python code.\\n', 'role': 'assistant'}, {'content': 'Sure. Here\\'s a Python script that uses the Pillow library to resize images. If the \"Pillow\" library is not installed, you may need to install it using pip:\\n\\n```python\\n# filename: resize_images.py\\nfrom PIL import Image\\nimport os\\n\\nimage_directory = \\'MYIMAGES\\'\\nsize = (640, 640)\\n\\ndef resize_image(image_path, size):\\n    img = Image.open(image_path)\\n    img_resized = img.resize(size)\\n    img_resized.save(image_path)\\n\\nfor filename in os.listdir(image_directory):\\n    if filename.endswith(\\'.jpeg\\') or filename.endswith(\\'.jpg\\'):\\n        image_path = os.path.join(image_directory, filename)\\n        resize_image(image_path, size)\\n```\\n\\nTo run this script, open a terminal, navigate to the directory where you saved the script, and run the following command:\\n\\n```shell\\npython3 resize_images.py\\n```\\n\\nPlease replace \"MYIMAGES\" in the \"image_directory\" variable with the path to your image directory if it\\'s not in the same directory as the script. Alternatively, if your images directory is in the same location as the script, just replace \"MYIMAGES\" with the name of your images directory.\\n\\nThis script resizes all JPEG images in the specified directory to 640x640 pixels.\\n\\nPlease note that this script overwrites the original images. If you want to keep the original images, you need to modify the script to save the resized images to a different directory or with different filenames.', 'role': 'user'}, {'content': 'Do not use PIL. I want to use OpenCV', 'role': 'assistant'}, {'content': \"Sure, OpenCV can be used for this task. Here's the Python script using the OpenCV and glob libraries. The script will iterate over all JPEG files in the directory and resize them:\\n\\n```python\\n# filename: resize_images.py\\nimport cv2\\nimport glob\\nimport os\\n\\nimage_directory = 'MYIMAGES'\\nsize = (640, 640)\\n\\ndef resize_image(image_path, size):\\n    img = cv2.imread(image_path)\\n    img_resized = cv2.resize(img, size)\\n    cv2.imwrite(image_path, img_resized)\\n\\nfor filename in glob.glob(os.path.join(image_directory, '*.jpeg')):\\n    resize_image(filename, size)\\n\\nfor filename in glob.glob(os.path.join(image_directory, '*.jpg')):\\n    resize_image(filename, size)\\n```\\n\\nTo run this script, open a terminal, navigate to the directory where you saved the script, and run the following command:\\n\\n```shell\\npython3 resize_images.py\\n```\\n\\nThis script resizes all JPEG images in the specified directory to 640x640 pixels.\\n\\nPlease note that this script overwrites the original images. If you want to keep the original images, you need to modify the script to either save the resized images to another directory or save them with different filenames.\", 'role': 'user'}, {'content': 'Do not use PIL or OpenCV. Use something else.', 'role': 'assistant'}, {'content': \"Okay, in that case let's use imageio and numpy libraries from Python. Make sure you have both these libraries installed. If not you can install these using pip:\\n\\n```sh\\npip install numpy imageio\\n```\\n\\nHere's the Python script to resize the images:\\n\\n```python\\n# filename: resize_images.py\\nimport imageio\\nimport numpy as np\\nimport glob\\nimport os\\nfrom skimage.transform import resize\\n\\nimage_directory = 'MYIMAGES'\\ndest_size = (640, 640)\\n\\ndef resize_image(image_path, size):\\n    img = imageio.imread(image_path)\\n    img_resized = resize(img, size)\\n    imageio.imsave(image_path, np.uint8(img_resized*255))\\n\\nfor filename in glob.glob(os.path.join(image_directory, '*.jpeg')):\\n    resize_image(filename, dest_size)\\n\\nfor filename in glob.glob(os.path.join(image_directory, '*.jpg')):\\n    resize_image(filename, dest_size)\\n```\\n\\nTo run this script, save it into a file named resize_images.py, navigate to the directory where you saved the script and run the command:\\n\\n```sh\\npython3 resize_images.py\\n```\\n\\nThis script-will resize all JPEG images in the mentioned directory to 640x640 pixels.\\n\\nPlease note this script overwrites the original images. If you want to keep the original images, you need to modify the script to either save the resized images to a different folder or under different file names.\", 'role': 'user'}]\n"
     ]
    }
   ],
   "source": [
    "print(user_proxy.chat_messages[assistant])"
   ]
  },
  {
   "cell_type": "code",
   "execution_count": 13,
   "id": "8354c2e6",
   "metadata": {},
   "outputs": [],
   "source": [
    "outputfile = os.path.join(WORK_DIR, \"human_interaction.json\")\n",
    "\n",
    "json.dump(user_proxy.chat_messages[assistant], open(outputfile, \"w\"), indent=6)"
   ]
  },
  {
   "cell_type": "code",
   "execution_count": 14,
   "id": "c6911347",
   "metadata": {},
   "outputs": [
    {
     "name": "stdout",
     "output_type": "stream",
     "text": [
      "\u001b[1;31;34m\n",
      "[\n",
      "      {\n",
      "            \"content\": \"\\nI want to resize all my jpeg images from the directory MYIMAGES to (640,640) pixels.\\nShow me the python code.\\n\",\n",
      "            \"role\": \"assistant\"\n",
      "      },\n",
      "      {\n",
      "            \"content\": \"Sure. Here's a Python script that uses the Pillow library to resize images. If the \\\"Pillow\\\" library is not installed, you may need to install it using pip:\\n\\n```python\\n# filename: resize_images.py\\nfrom PIL import Image\\nimport os\\n\\nimage_directory = 'MYIMAGES'\\nsize = (640, 640)\\n\\ndef resize_image(image_path, size):\\n    img = Image.open(image_path)\\n    img_resized = img.resize(size)\\n    img_resized.save(image_path)\\n\\nfor filename in os.listdir(image_directory):\\n    if filename.endswith('.jpeg') or filename.endswith('.jpg'):\\n        image_path = os.path.join(image_directory, filename)\\n        resize_image(image_path, size)\\n```\\n\\nTo run this script, open a terminal, navigate to the directory where you saved the script, and run the following command:\\n\\n```shell\\npython3 resize_images.py\\n```\\n\\nPlease replace \\\"MYIMAGES\\\" in the \\\"image_directory\\\" variable with the path to your image directory if it's not in the same directory as the script. Alternatively, if your images directory is in the same location as the script, just replace \\\"MYIMAGES\\\" with the name of your images directory.\\n\\nThis script resizes all JPEG images in the specified directory to 640x640 pixels.\\n\\nPlease note that this script overwrites the original images. If you want to keep the original images, you need to modify the script to save the resized images to a different directory or with different filenames.\",\n",
      "            \"role\": \"user\"\n",
      "      },\n",
      "      {\n",
      "            \"content\": \"Do not use PIL. I want to use OpenCV\",\n",
      "            \"role\": \"assistant\"\n",
      "      },\n",
      "      {\n",
      "            \"content\": \"Sure, OpenCV can be used for this task. Here's the Python script using the OpenCV and glob libraries. The script will iterate over all JPEG files in the directory and resize them:\\n\\n```python\\n# filename: resize_images.py\\nimport cv2\\nimport glob\\nimport os\\n\\nimage_directory = 'MYIMAGES'\\nsize = (640, 640)\\n\\ndef resize_image(image_path, size):\\n    img = cv2.imread(image_path)\\n    img_resized = cv2.resize(img, size)\\n    cv2.imwrite(image_path, img_resized)\\n\\nfor filename in glob.glob(os.path.join(image_directory, '*.jpeg')):\\n    resize_image(filename, size)\\n\\nfor filename in glob.glob(os.path.join(image_directory, '*.jpg')):\\n    resize_image(filename, size)\\n```\\n\\nTo run this script, open a terminal, navigate to the directory where you saved the script, and run the following command:\\n\\n```shell\\npython3 resize_images.py\\n```\\n\\nThis script resizes all JPEG images in the specified directory to 640x640 pixels.\\n\\nPlease note that this script overwrites the original images. If you want to keep the original images, you need to modify the script to either save the resized images to another directory or save them with different filenames.\",\n",
      "            \"role\": \"user\"\n",
      "      },\n",
      "      {\n",
      "            \"content\": \"Do not use PIL or OpenCV. Use something else.\",\n",
      "            \"role\": \"assistant\"\n",
      "      },\n",
      "      {\n",
      "            \"content\": \"Okay, in that case let's use imageio and numpy libraries from Python. Make sure you have both these libraries installed. If not you can install these using pip:\\n\\n```sh\\npip install numpy imageio\\n```\\n\\nHere's the Python script to resize the images:\\n\\n```python\\n# filename: resize_images.py\\nimport imageio\\nimport numpy as np\\nimport glob\\nimport os\\nfrom skimage.transform import resize\\n\\nimage_directory = 'MYIMAGES'\\ndest_size = (640, 640)\\n\\ndef resize_image(image_path, size):\\n    img = imageio.imread(image_path)\\n    img_resized = resize(img, size)\\n    imageio.imsave(image_path, np.uint8(img_resized*255))\\n\\nfor filename in glob.glob(os.path.join(image_directory, '*.jpeg')):\\n    resize_image(filename, dest_size)\\n\\nfor filename in glob.glob(os.path.join(image_directory, '*.jpg')):\\n    resize_image(filename, dest_size)\\n```\\n\\nTo run this script, save it into a file named resize_images.py, navigate to the directory where you saved the script and run the command:\\n\\n```sh\\npython3 resize_images.py\\n```\\n\\nThis script-will resize all JPEG images in the mentioned directory to 640x640 pixels.\\n\\nPlease note this script overwrites the original images. If you want to keep the original images, you need to modify the script to either save the resized images to a different folder or under different file names.\",\n",
      "            \"role\": \"user\"\n",
      "      }\n",
      "]\n"
     ]
    }
   ],
   "source": [
    "print(\"\\033[1;31;34m\")\n",
    "with open(outputfile, \"r\") as f:\n",
    "    print(f.read())"
   ]
  },
  {
   "cell_type": "code",
   "execution_count": 15,
   "id": "7b3c9241",
   "metadata": {},
   "outputs": [
    {
     "name": "stdout",
     "output_type": "stream",
     "text": [
      "-rwxrwxrwx 1 root root 4547 Jun 17 10:28 workdir/human_interaction.json\r\n"
     ]
    }
   ],
   "source": [
    "!ls $WORK_DIR/*.json -lt"
   ]
  },
  {
   "cell_type": "code",
   "execution_count": null,
   "id": "4627574a",
   "metadata": {},
   "outputs": [],
   "source": []
  }
 ],
 "metadata": {
  "kernelspec": {
   "display_name": "Python 3.10 - SDK v2",
   "language": "python",
   "name": "python310-sdkv2"
  },
  "language_info": {
   "codemirror_mode": {
    "name": "ipython",
    "version": 3
   },
   "file_extension": ".py",
   "mimetype": "text/x-python",
   "name": "python",
   "nbconvert_exporter": "python",
   "pygments_lexer": "ipython3",
   "version": "3.10.11"
  }
 },
 "nbformat": 4,
 "nbformat_minor": 5
}
