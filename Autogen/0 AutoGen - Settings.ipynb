{
 "cells": [
  {
   "cell_type": "markdown",
   "id": "b10f8d73",
   "metadata": {},
   "source": [
    "# 0 AutoGen - Settings\n",
    "\n",
    "AutoGen is a framework that enables the development of LLM applications using multiple agents that can converse with each other to solve tasks. AutoGen agents are customizable, conversable, and seamlessly allow human participation. They can operate in various modes that employ combinations of LLMs, human inputs, and tools.\n",
    "\n",
    "31/05/2024\n",
    "\n",
    "<img src=\"https://raw.githubusercontent.com/retkowsky/images/master/autogenlogo.jpg\">\n",
    "\n",
    "> Documentation: https://microsoft.github.io/autogen/"
   ]
  },
  {
   "cell_type": "markdown",
   "id": "68e09c27",
   "metadata": {},
   "source": [
    "https://microsoft.github.io/autogen/docs/Getting-Started"
   ]
  },
  {
   "cell_type": "markdown",
   "id": "a5799aa5",
   "metadata": {},
   "source": [
    "## 1. Installation"
   ]
  },
  {
   "cell_type": "code",
   "execution_count": 1,
   "id": "4093a264",
   "metadata": {},
   "outputs": [],
   "source": [
    "#%pip install openai"
   ]
  },
  {
   "cell_type": "code",
   "execution_count": 2,
   "id": "1b8ac537",
   "metadata": {},
   "outputs": [],
   "source": [
    "#%pip install pyautogen"
   ]
  },
  {
   "cell_type": "markdown",
   "id": "e8b91c3a",
   "metadata": {},
   "source": [
    "https://pypi.org/project/pyautogen/#description"
   ]
  },
  {
   "cell_type": "markdown",
   "id": "07e8c781",
   "metadata": {},
   "source": [
    "## 2. Checking version"
   ]
  },
  {
   "cell_type": "code",
   "execution_count": 10,
   "id": "6bcec75c",
   "metadata": {},
   "outputs": [],
   "source": [
    "import autogen\n",
    "import datetime\n",
    "import json\n",
    "import openai\n",
    "import sys"
   ]
  },
  {
   "cell_type": "code",
   "execution_count": 4,
   "id": "bc56fc54",
   "metadata": {},
   "outputs": [
    {
     "name": "stdout",
     "output_type": "stream",
     "text": [
      "Today is: 17-Jun-2024\n"
     ]
    }
   ],
   "source": [
    "print(f\"Today is: {str(datetime.datetime.today().strftime('%d-%b-%Y'))}\")"
   ]
  },
  {
   "cell_type": "code",
   "execution_count": 5,
   "id": "eaf118ff",
   "metadata": {},
   "outputs": [
    {
     "name": "stdout",
     "output_type": "stream",
     "text": [
      "Python version = 3.10.11 (main, May 16 2023, 00:28:57) [GCC 11.2.0]\n"
     ]
    }
   ],
   "source": [
    "# Python 3.10.11\n",
    "print(f\"Python version = {sys.version}\")"
   ]
  },
  {
   "cell_type": "code",
   "execution_count": 6,
   "id": "c9a92036",
   "metadata": {},
   "outputs": [],
   "source": [
    "def check_openai_version():\n",
    "    \"\"\"\n",
    "    Check Azure Open AI version\n",
    "    \"\"\"\n",
    "    installed_version = openai.__version__\n",
    "\n",
    "    try:\n",
    "        version_number = float(installed_version[:3])\n",
    "    except ValueError:\n",
    "        print(\"Invalid OpenAI version format\")\n",
    "        return\n",
    "\n",
    "    print(f\"Installed OpenAI version = {installed_version}\")\n",
    "\n",
    "    if version_number < 1.0:\n",
    "        print(\"[Warning] You should upgrade OpenAI to have version >= 1.0.0\")\n",
    "        print(\"To upgrade, run: %pip install openai --upgrade\")\n",
    "    else:\n",
    "        print(f\"[OK] OpenAI version {installed_version} is >= 1.0.0\")"
   ]
  },
  {
   "cell_type": "code",
   "execution_count": 7,
   "id": "c04da5bd",
   "metadata": {},
   "outputs": [
    {
     "name": "stdout",
     "output_type": "stream",
     "text": [
      "Installed OpenAI version = 1.30.5\n",
      "[OK] OpenAI version 1.30.5 is >= 1.0.0\n"
     ]
    }
   ],
   "source": [
    "# OpenAI version is 1.30.5\n",
    "check_openai_version()"
   ]
  },
  {
   "cell_type": "code",
   "execution_count": 8,
   "id": "95d75508",
   "metadata": {},
   "outputs": [
    {
     "name": "stdout",
     "output_type": "stream",
     "text": [
      "AutoGen version = 0.2.27\n"
     ]
    }
   ],
   "source": [
    "# AutoGen version is 0.2.27\n",
    "print(f\"AutoGen version = {autogen.__version__}\")"
   ]
  },
  {
   "cell_type": "markdown",
   "id": "cc984b22",
   "metadata": {},
   "source": [
    "## 3. Working directory to create"
   ]
  },
  {
   "cell_type": "code",
   "execution_count": 9,
   "id": "1d9cdfaf",
   "metadata": {},
   "outputs": [],
   "source": [
    "WORK_DIR = \"workdir\"\n",
    "\n",
    "os.makedirs(WORK_DIR, exist_ok=True)"
   ]
  },
  {
   "cell_type": "markdown",
   "id": "c3f74fec",
   "metadata": {},
   "source": [
    "## 4. Azure Env file"
   ]
  },
  {
   "cell_type": "code",
   "execution_count": 10,
   "id": "e4e69765",
   "metadata": {},
   "outputs": [
    {
     "name": "stdout",
     "output_type": "stream",
     "text": [
      "-rwxrwxrwx 1 root root 823 Jun 17 08:32 azure.env\r\n"
     ]
    }
   ],
   "source": [
    "!ls azure.env -lh"
   ]
  },
  {
   "cell_type": "markdown",
   "id": "4d3d5b58",
   "metadata": {},
   "source": [
    "> Update the autogen.env file with your credentials"
   ]
  },
  {
   "cell_type": "markdown",
   "id": "f0507562",
   "metadata": {},
   "source": [
    "## 5. OAI_CONFIG_LIST\n",
    "\n",
    "Replace the api key and endpoint with your values"
   ]
  },
  {
   "cell_type": "code",
   "execution_count": 25,
   "id": "a73b687e",
   "metadata": {},
   "outputs": [],
   "source": [
    "config_list = [\n",
    "    {\n",
    "        \"model\": \"gpt-4\",\n",
    "        \"api_key\": \"\",\n",
    "        \"azure_endpoint\": \"\",\n",
    "        \"api_type\": \"azure\",\n",
    "        \"api_version\": \"2024-02-15-preview\"\n",
    "    },\n",
    "    {\n",
    "        \"model\": \"gpt-4o\",\n",
    "        \"api_key\": \"\",\n",
    "        \"azure_endpoint\": \"\",\n",
    "        \"api_type\": \"azure\",\n",
    "        \"api_version\": \"2024-02-15-preview\"\n",
    "    }\n",
    "]"
   ]
  },
  {
   "cell_type": "code",
   "execution_count": 26,
   "id": "c4d70b82",
   "metadata": {},
   "outputs": [
    {
     "name": "stdout",
     "output_type": "stream",
     "text": [
      "[OK] Autogen config list has been written to: OAI_CONFIG_LIST\n",
      "\n",
      "-rwxrwxrwx 1 root root 491 Jun 17 13:45 OAI_CONFIG_LIST\r\n"
     ]
    }
   ],
   "source": [
    "file_path = 'OAI_CONFIG_LIST'\n",
    "\n",
    "try:\n",
    "    with open(file_path, 'w') as file:\n",
    "        json.dump(config_list, file, indent=4)\n",
    "    print(f\"[OK] Autogen config list has been written to: {file_path}\\n\")\n",
    "    !ls OAI_CONFIG_LIST -lh\n",
    "    \n",
    "except:\n",
    "    print(\"[ERROR]\")"
   ]
  },
  {
   "cell_type": "code",
   "execution_count": null,
   "id": "a8455146",
   "metadata": {},
   "outputs": [],
   "source": []
  }
 ],
 "metadata": {
  "kernelspec": {
   "display_name": "Python 3.10 - SDK v2",
   "language": "python",
   "name": "python310-sdkv2"
  },
  "language_info": {
   "codemirror_mode": {
    "name": "ipython",
    "version": 3
   },
   "file_extension": ".py",
   "mimetype": "text/x-python",
   "name": "python",
   "nbconvert_exporter": "python",
   "pygments_lexer": "ipython3",
   "version": "3.10.11"
  }
 },
 "nbformat": 4,
 "nbformat_minor": 5
}
