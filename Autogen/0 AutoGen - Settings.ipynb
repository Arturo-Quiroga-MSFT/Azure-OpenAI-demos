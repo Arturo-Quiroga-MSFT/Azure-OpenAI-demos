{
 "cells": [
  {
   "cell_type": "markdown",
   "id": "b10f8d73",
   "metadata": {},
   "source": [
    "# 0 AutoGen - Settings\n",
    "\n",
    "AutoGen is a framework that enables the development of LLM applications using multiple agents that can converse with each other to solve tasks. AutoGen agents are customizable, conversable, and seamlessly allow human participation. They can operate in various modes that employ combinations of LLMs, human inputs, and tools.\n",
    "\n",
    "31/05/2024\n",
    "\n",
    "<img src=\"https://raw.githubusercontent.com/retkowsky/images/master/autogenlogo.jpg\">\n",
    "\n",
    "> Documentation: https://microsoft.github.io/autogen/"
   ]
  },
  {
   "cell_type": "markdown",
   "id": "68e09c27",
   "metadata": {},
   "source": [
    "https://microsoft.github.io/autogen/docs/Getting-Started"
   ]
  },
  {
   "cell_type": "markdown",
   "id": "a5799aa5",
   "metadata": {},
   "source": [
    "## 1. Installation"
   ]
  },
  {
   "cell_type": "code",
   "execution_count": 1,
   "id": "4093a264",
   "metadata": {},
   "outputs": [],
   "source": [
    "#%pip install openai"
   ]
  },
  {
   "cell_type": "code",
   "execution_count": 2,
   "id": "1b8ac537",
   "metadata": {},
   "outputs": [],
   "source": [
    "#%pip install pyautogen"
   ]
  },
  {
   "cell_type": "markdown",
   "id": "e8b91c3a",
   "metadata": {},
   "source": [
    "https://pypi.org/project/pyautogen/#description"
   ]
  },
  {
   "cell_type": "markdown",
   "id": "07e8c781",
   "metadata": {},
   "source": [
    "## 2. Checking version"
   ]
  },
  {
   "cell_type": "code",
   "execution_count": 3,
   "id": "6bcec75c",
   "metadata": {},
   "outputs": [],
   "source": [
    "import autogen\n",
    "import datetime\n",
    "import openai\n",
    "import sys"
   ]
  },
  {
   "cell_type": "code",
   "execution_count": 4,
   "id": "bc56fc54",
   "metadata": {},
   "outputs": [
    {
     "name": "stdout",
     "output_type": "stream",
     "text": [
      "Today is: 04-Jun-2024\n"
     ]
    }
   ],
   "source": [
    "print(f\"Today is: {str(datetime.datetime.today().strftime('%d-%b-%Y'))}\")"
   ]
  },
  {
   "cell_type": "code",
   "execution_count": 5,
   "id": "eaf118ff",
   "metadata": {},
   "outputs": [
    {
     "name": "stdout",
     "output_type": "stream",
     "text": [
      "Python version = 3.10.11 (main, May 16 2023, 00:28:57) [GCC 11.2.0]\n"
     ]
    }
   ],
   "source": [
    "# Python 3.10.11\n",
    "print(f\"Python version = {sys.version}\")"
   ]
  },
  {
   "cell_type": "code",
   "execution_count": 6,
   "id": "c9a92036",
   "metadata": {},
   "outputs": [],
   "source": [
    "def check_openai_version():\n",
    "    \"\"\"\n",
    "    Check Azure Open AI version\n",
    "    \"\"\"\n",
    "    installed_version = openai.__version__\n",
    "\n",
    "    try:\n",
    "        version_number = float(installed_version[:3])\n",
    "    except ValueError:\n",
    "        print(\"Invalid OpenAI version format\")\n",
    "        return\n",
    "\n",
    "    print(f\"Installed OpenAI version = {installed_version}\")\n",
    "\n",
    "    if version_number < 1.0:\n",
    "        print(\"[Warning] You should upgrade OpenAI to have version >= 1.0.0\")\n",
    "        print(\"To upgrade, run: %pip install openai --upgrade\")\n",
    "    else:\n",
    "        print(f\"[OK] OpenAI version {installed_version} is >= 1.0.0\")"
   ]
  },
  {
   "cell_type": "code",
   "execution_count": 7,
   "id": "c04da5bd",
   "metadata": {},
   "outputs": [
    {
     "name": "stdout",
     "output_type": "stream",
     "text": [
      "Installed OpenAI version = 1.30.5\n",
      "[OK] OpenAI version 1.30.5 is >= 1.0.0\n"
     ]
    }
   ],
   "source": [
    "# OpenAI version is 1.30.5\n",
    "check_openai_version()"
   ]
  },
  {
   "cell_type": "code",
   "execution_count": 8,
   "id": "95d75508",
   "metadata": {},
   "outputs": [
    {
     "name": "stdout",
     "output_type": "stream",
     "text": [
      "AutoGen version = 0.2.27\n"
     ]
    }
   ],
   "source": [
    "# AutoGen version is 0.2.27\n",
    "print(f\"AutoGen version = {autogen.__version__}\")"
   ]
  },
  {
   "cell_type": "markdown",
   "id": "cc984b22",
   "metadata": {},
   "source": [
    "## 3. Working directory to create"
   ]
  },
  {
   "cell_type": "code",
   "execution_count": 9,
   "id": "1d9cdfaf",
   "metadata": {},
   "outputs": [],
   "source": [
    "WORK_DIR = \"workdir\"\n",
    "\n",
    "os.makedirs(WORK_DIR, exist_ok=True)"
   ]
  },
  {
   "cell_type": "markdown",
   "id": "27169c1c",
   "metadata": {},
   "source": [
    "## 4. Content"
   ]
  },
  {
   "cell_type": "code",
   "execution_count": 10,
   "id": "f2606460",
   "metadata": {},
   "outputs": [
    {
     "name": "stdout",
     "output_type": "stream",
     "text": [
      "total 3.4M\r\n",
      "-rwxrwxrwx 1 root root 7.6K Jun  3 15:40 '0 AutoGen - Settings.ipynb'\r\n",
      "-rwxrwxrwx 1 root root  24K Jun  3 14:17 '1 AutoGen - Introduction.ipynb'\r\n",
      "-rwxrwxrwx 1 root root 252K Jun  3 14:17 '2 AutoGen - Simple agent.ipynb'\r\n",
      "-rwxrwxrwx 1 root root 171K Jun  3 14:17 '3 AutoGen - Stocks example.ipynb'\r\n",
      "-rwxrwxrwx 1 root root 968K Jun  3 15:28 '4 AutoGen - Multi agent image generation.ipynb'\r\n",
      "-rwxrwxrwx 1 root root 140K Jun  3 14:17 '5 AutoGen - Enabling LLM-powered agents to cooperate.ipynb'\r\n",
      "-rwxrwxrwx 1 root root  23K Jun  3 15:29 '6 AutoGen - Human interaction.ipynb'\r\n",
      "-rwxrwxrwx 1 root root 1.7M Jun  3 15:29 '7 AutoGen - GPT-4 Turbo Vision.ipynb'\r\n",
      "-rwxrwxrwx 1 root root 1.7K Jun  3 15:39 '8 AutoGen - Chatbot.ipynb'\r\n",
      "-rwxrwxrwx 1 root root  502 May 31 14:46  OAI_CONFIG_LIST\r\n",
      "-rwxrwxrwx 1 root root  804 May 31 14:46  azure.env\r\n",
      "-rwxrwxrwx 1 root root 162K Jun  3 15:25  image.jpg\r\n",
      "drwxrwxrwx 2 root root    0 Jun  4 14:11  workdir\r\n"
     ]
    }
   ],
   "source": [
    "!ls -lh"
   ]
  },
  {
   "cell_type": "markdown",
   "id": "c3f74fec",
   "metadata": {},
   "source": [
    "## 5. Azure Env file"
   ]
  },
  {
   "cell_type": "code",
   "execution_count": 11,
   "id": "e4e69765",
   "metadata": {},
   "outputs": [
    {
     "name": "stdout",
     "output_type": "stream",
     "text": [
      "ls: cannot access 'autogen.env': No such file or directory\r\n"
     ]
    }
   ],
   "source": [
    "!ls autogen.env -lh"
   ]
  },
  {
   "cell_type": "markdown",
   "id": "4d3d5b58",
   "metadata": {},
   "source": [
    "> Update the autogen.env file with your credentials"
   ]
  },
  {
   "cell_type": "markdown",
   "id": "f0507562",
   "metadata": {},
   "source": [
    "## 6. OAI_CONFIG_LIST"
   ]
  },
  {
   "cell_type": "code",
   "execution_count": 12,
   "id": "b3c5712d",
   "metadata": {},
   "outputs": [
    {
     "name": "stdout",
     "output_type": "stream",
     "text": [
      "-rwxrwxrwx 1 root root 502 May 31 14:46 OAI_CONFIG_LIST\r\n"
     ]
    }
   ],
   "source": [
    "!ls OAI_CONFIG_LIST -lh"
   ]
  },
  {
   "cell_type": "markdown",
   "id": "00b7b5e9",
   "metadata": {},
   "source": [
    "> Update the OAI_CONFIG_LIST file with your credentials"
   ]
  },
  {
   "cell_type": "code",
   "execution_count": null,
   "id": "a8455146",
   "metadata": {},
   "outputs": [],
   "source": []
  }
 ],
 "metadata": {
  "kernelspec": {
   "display_name": "Python 3.10 - SDK v2",
   "language": "python",
   "name": "python310-sdkv2"
  },
  "language_info": {
   "codemirror_mode": {
    "name": "ipython",
    "version": 3
   },
   "file_extension": ".py",
   "mimetype": "text/x-python",
   "name": "python",
   "nbconvert_exporter": "python",
   "pygments_lexer": "ipython3",
   "version": "3.10.11"
  }
 },
 "nbformat": 4,
 "nbformat_minor": 5
}
