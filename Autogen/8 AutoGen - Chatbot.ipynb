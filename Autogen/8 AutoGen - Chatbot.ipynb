{
 "cells": [
  {
   "cell_type": "markdown",
   "id": "5f8916a5",
   "metadata": {},
   "source": [
    "# 8 AutoGen - Chatbot\n",
    "\n",
    "AutoGen is a framework that enables the development of LLM applications using multiple agents that can converse with each other to solve tasks. AutoGen agents are customizable, conversable, and seamlessly allow human participation. They can operate in various modes that employ combinations of LLMs, human inputs, and tools.\n",
    "\n",
    "17/06/2024\n",
    "\n",
    "<img src=\"https://raw.githubusercontent.com/retkowsky/images/master/autogenlogo.jpg\">\n",
    "\n",
    "> Documentation: https://microsoft.github.io/autogen/"
   ]
  },
  {
   "cell_type": "markdown",
   "id": "d62255e3",
   "metadata": {},
   "source": [
    "## 1.Chatbot example demo\n",
    "Webapp: https://huggingface.co/spaces/thinkall/autogen-human-input-demo"
   ]
  },
  {
   "cell_type": "markdown",
   "id": "0e166bd5",
   "metadata": {},
   "source": [
    "## 2. Chatbot example python code\n",
    "Source: https://github.com/thinkall/autogen-demos"
   ]
  },
  {
   "cell_type": "code",
   "execution_count": null,
   "id": "a3bc8d91",
   "metadata": {},
   "outputs": [],
   "source": []
  }
 ],
 "metadata": {
  "kernelspec": {
   "display_name": "Python 3.10 - SDK v2",
   "language": "python",
   "name": "python310-sdkv2"
  },
  "language_info": {
   "codemirror_mode": {
    "name": "ipython",
    "version": 3
   },
   "file_extension": ".py",
   "mimetype": "text/x-python",
   "name": "python",
   "nbconvert_exporter": "python",
   "pygments_lexer": "ipython3",
   "version": "3.10.11"
  }
 },
 "nbformat": 4,
 "nbformat_minor": 5
}
