{
 "cells": [
  {
   "cell_type": "markdown",
   "id": "b10f8d73",
   "metadata": {},
   "source": [
    "# 1 AutoGen - Introduction\n",
    "\n",
    "AutoGen is a framework that enables the development of LLM applications using multiple agents that can converse with each other to solve tasks. AutoGen agents are customizable, conversable, and seamlessly allow human participation. They can operate in various modes that employ combinations of LLMs, human inputs, and tools.\n",
    "\n",
    "31/05/2024\n",
    "\n",
    "<img src=\"https://raw.githubusercontent.com/retkowsky/images/master/autogenlogo.jpg\">\n",
    "\n",
    "> Documentation: https://microsoft.github.io/autogen/"
   ]
  },
  {
   "cell_type": "markdown",
   "id": "68e09c27",
   "metadata": {},
   "source": [
    "https://microsoft.github.io/autogen/docs/Getting-Started"
   ]
  },
  {
   "cell_type": "code",
   "execution_count": 1,
   "id": "6bcec75c",
   "metadata": {},
   "outputs": [],
   "source": [
    "import autogen\n",
    "import openai\n",
    "import sys\n",
    "\n",
    "from autogen import ConversableAgent"
   ]
  },
  {
   "cell_type": "code",
   "execution_count": 2,
   "id": "eaf118ff",
   "metadata": {},
   "outputs": [
    {
     "data": {
      "text/plain": [
       "'3.10.11 (main, May 16 2023, 00:28:57) [GCC 11.2.0]'"
      ]
     },
     "execution_count": 2,
     "metadata": {},
     "output_type": "execute_result"
    }
   ],
   "source": [
    "sys.version"
   ]
  },
  {
   "cell_type": "code",
   "execution_count": 3,
   "id": "c9a92036",
   "metadata": {},
   "outputs": [],
   "source": [
    "def check_openai_version():\n",
    "    \"\"\"\n",
    "    Check Azure Open AI version\n",
    "    \"\"\"\n",
    "    installed_version = openai.__version__\n",
    "\n",
    "    try:\n",
    "        version_number = float(installed_version[:3])\n",
    "    except ValueError:\n",
    "        print(\"Invalid OpenAI version format\")\n",
    "        return\n",
    "\n",
    "    print(f\"Installed OpenAI version: {installed_version}\")\n",
    "\n",
    "    if version_number < 1.0:\n",
    "        print(\"[Warning] You should upgrade OpenAI to have version >= 1.0.0\")\n",
    "        print(\"To upgrade, run: %pip install openai --upgrade\")\n",
    "    else:\n",
    "        print(f\"[OK] OpenAI version {installed_version} is >= 1.0.0\")"
   ]
  },
  {
   "cell_type": "code",
   "execution_count": 4,
   "id": "677bf50c",
   "metadata": {},
   "outputs": [
    {
     "name": "stdout",
     "output_type": "stream",
     "text": [
      "Installed OpenAI version: 1.30.5\n",
      "[OK] OpenAI version 1.30.5 is >= 1.0.0\n"
     ]
    }
   ],
   "source": [
    "check_openai_version()"
   ]
  },
  {
   "cell_type": "markdown",
   "id": "ea2b7f54",
   "metadata": {},
   "source": [
    "## 1. Settings"
   ]
  },
  {
   "cell_type": "code",
   "execution_count": 5,
   "id": "11df94a0",
   "metadata": {},
   "outputs": [],
   "source": [
    "config_list = autogen.config_list_from_json(\n",
    "    \"OAI_CONFIG_LIST\",\n",
    "    #filter_dict={\"tags\": [\"gpt-4\"]},  # comment out to get all\n",
    ")"
   ]
  },
  {
   "cell_type": "code",
   "execution_count": 6,
   "id": "69065549",
   "metadata": {},
   "outputs": [],
   "source": [
    "agent = ConversableAgent(\n",
    "    \"chatbot\",\n",
    "    llm_config={\n",
    "        \"config_list\": config_list,\n",
    "        \"cache_seed\": None,  # No semantic cache\n",
    "    },\n",
    "    code_execution_config=\n",
    "    False,  # Turn off code execution, by default it is off.\n",
    "    function_map=None,  # No registered functions, by default it is None.\n",
    "    human_input_mode=\"NEVER\",  # Never ask for human input.\n",
    ")"
   ]
  },
  {
   "cell_type": "code",
   "execution_count": 7,
   "id": "93d26066",
   "metadata": {},
   "outputs": [
    {
     "data": {
      "text/plain": [
       "<autogen.agentchat.conversable_agent.ConversableAgent at 0x7f351ed8e3b0>"
      ]
     },
     "execution_count": 7,
     "metadata": {},
     "output_type": "execute_result"
    }
   ],
   "source": [
    "agent"
   ]
  },
  {
   "cell_type": "code",
   "execution_count": 8,
   "id": "fcf37c63",
   "metadata": {},
   "outputs": [
    {
     "name": "stdout",
     "output_type": "stream",
     "text": [
      "Sure, here's one for you: \n",
      "\n",
      "Why don't scientists trust atoms?\n",
      "\n",
      "Because they make up everything!\n"
     ]
    }
   ],
   "source": [
    "reply = agent.generate_reply(messages=[{\n",
    "    \"content\": \"Tell me a joke.\",\n",
    "    \"role\": \"user\"\n",
    "}])\n",
    "print(reply)"
   ]
  },
  {
   "cell_type": "code",
   "execution_count": 9,
   "id": "644875da",
   "metadata": {},
   "outputs": [
    {
     "name": "stdout",
     "output_type": "stream",
     "text": [
      "The capital of France is Paris.\n"
     ]
    }
   ],
   "source": [
    "reply = agent.generate_reply(messages=[{\n",
    "    \"content\": \"What is the capital of France.\",\n",
    "    \"role\": \"user\"\n",
    "}])\n",
    "print(reply)"
   ]
  },
  {
   "cell_type": "code",
   "execution_count": 10,
   "id": "8b990c7d",
   "metadata": {},
   "outputs": [
    {
     "name": "stdout",
     "output_type": "stream",
     "text": [
      "Le théorème de Pythagore est un principe fondamental de la géométrie euclidienne qui établit une relation entre les trois côtés d'un triangle rectangle. Le théorème stipule que dans un triangle rectangle, la somme des carrés des longueurs des deux côtés adjacents à l'angle droit (appelés côtés ou cathètes) est égale au carré de la longueur du côté opposé à l'angle droit (appelé hypoténuse). Cela s'exprime mathématiquement comme suit : a² + b² = c², où c représente la longueur de l'hypoténuse et a et b représentent les longueurs des deux autres côtés.\n"
     ]
    }
   ],
   "source": [
    "reply = agent.generate_reply(messages=[{\n",
    "    \"content\": \"Quel est le théorème de Pythagore ?\",\n",
    "    \"role\": \"user\"\n",
    "}])\n",
    "print(reply)"
   ]
  },
  {
   "cell_type": "code",
   "execution_count": 11,
   "id": "05d3d7d2",
   "metadata": {},
   "outputs": [
    {
     "name": "stdout",
     "output_type": "stream",
     "text": [
      "The Pythagorean theorem states that: \"In a right-angled triangle, the square of the length of the hypotenuse (the side opposite the right angle) is equal to the sum of the squares of the lengths of the other two sides.\" This can be written as: a² + b² = c².\n"
     ]
    }
   ],
   "source": [
    "reply = agent.generate_reply(messages=[{\n",
    "    \"content\": \"Quel est le théorème de Pythagore ? Répondre en Anglais\",\n",
    "    \"role\": \"user\"\n",
    "}])\n",
    "print(reply)"
   ]
  },
  {
   "cell_type": "code",
   "execution_count": 12,
   "id": "67d8989f",
   "metadata": {},
   "outputs": [
    {
     "name": "stdout",
     "output_type": "stream",
     "text": [
      "See you soon!\n"
     ]
    }
   ],
   "source": [
    "reply = agent.generate_reply(messages=[{\n",
    "    \"content\": \"Translate this into English: A bientôt!\",\n",
    "    \"role\": \"user\"\n",
    "}])\n",
    "print(reply)"
   ]
  },
  {
   "cell_type": "code",
   "execution_count": 13,
   "id": "3d32a079",
   "metadata": {},
   "outputs": [
    {
     "name": "stdout",
     "output_type": "stream",
     "text": [
      "As of 2022, here are the ten largest technology companies in the world:\n",
      "\n",
      "1. Apple Inc. (United States)\n",
      "2. Microsoft Corporation (United States)\n",
      "3. Amazon.com (United States)\n",
      "4. Alphabet Inc. (the parent company of Google, United States)\n",
      "5. Facebook Inc. (now Meta Platforms Inc., United States)\n",
      "6. Tesla Inc. (United States)\n",
      "7. Alibaba Group (China)\n",
      "8. Tencent Holdings (China)\n",
      "9. Samsung Electronics (South Korea)\n",
      "10. Intel Corporation (United States)\n",
      "\n",
      "Please note the ranking may vary slightly depending on the source and metrics used to evaluate the company's size, such as market capitalization, revenue, or number of employees. And the list can change over time due to the rapidly evolving technology sector.\n"
     ]
    }
   ],
   "source": [
    "reply = agent.generate_reply(messages=[{\n",
    "    \"content\": \"What are the 10 largest technology companies as of today.\",\n",
    "    \"role\": \"user\"\n",
    "}])\n",
    "print(reply)"
   ]
  },
  {
   "cell_type": "code",
   "execution_count": 14,
   "id": "96fdea2a",
   "metadata": {},
   "outputs": [
    {
     "name": "stdout",
     "output_type": "stream",
     "text": [
      "Microsoft is a multinational technology company that specializes in:\n",
      "\n",
      "1. Software Development: Microsoft is perhaps best known for its operating system, Windows, which is used on personal computers worldwide. They also developed other popular software such as Microsoft Office Suite, which includes programs like Word, Excel, PowerPoint, and Outlook.\n",
      "\n",
      "2. Hardware Manufacturing: Microsoft also manufactures hardware like the Xbox gaming console, Surface tablets and laptops, and accessories like keyboards and mice.\n",
      "\n",
      "3. Cloud Services: Microsoft offers cloud-based services through its platform, Azure, which offers solutions for cloud computing, analytics, storage, and networking. \n",
      "\n",
      "4. Online Services: This includes search engine Bing, LinkedIn, a professional networking site, and other digital advertising solutions.\n",
      "\n",
      "5. Providing Business Services: This includes enterprise services, product support services, and consulting services.\n",
      "\n",
      "6. Artificial Intelligence and Research: Microsoft invests heavily in AI and other emerging technologies. \n",
      "\n",
      "7. Gaming: Microsoft develops, markets, and distributes video games. It owns popular video game franchises, publishes video games, and provides other gaming services. For example, it owns the studios that developed Halo and Minecraft.\n",
      "  \n",
      "Remember, Microsoft's activities are not restricted to these areas alone as they're continually innovating and venturing into new technological fields.\n"
     ]
    }
   ],
   "source": [
    "reply = agent.generate_reply(messages=[{\n",
    "    \"content\": \"What are the main activities of Microsoft?\",\n",
    "    \"role\": \"user\"\n",
    "}])\n",
    "print(reply)"
   ]
  },
  {
   "cell_type": "code",
   "execution_count": 15,
   "id": "94a4f0ab",
   "metadata": {},
   "outputs": [
    {
     "name": "stdout",
     "output_type": "stream",
     "text": [
      "The volume V of a cylinder can be calculated with the formula V=πr²h, where r is the radius of the cylinder and h is the height.\n",
      "\n",
      "First, we need to find the radius, which is half the diameter. For a 10 cm diameter, the radius is 5 cm.\n",
      "\n",
      "So the volume would be:\n",
      "\n",
      "V = π(5 cm)² x 75 cm = 5882.5 cubic cm.\n"
     ]
    }
   ],
   "source": [
    "reply = agent.generate_reply(messages=[{\n",
    "    \"content\":\n",
    "    \"What is the volume of a cylinder with diameter of 10 cm and a height of 75 cm?\",\n",
    "    \"role\": \"user\"\n",
    "}])\n",
    "print(reply)"
   ]
  },
  {
   "cell_type": "code",
   "execution_count": 16,
   "id": "dbba3948",
   "metadata": {},
   "outputs": [
    {
     "name": "stdout",
     "output_type": "stream",
     "text": [
      "If you continue to drive at a speed of 130 km per hour for 10 minutes, you would cover a distance of approximately 21.67 kilometers.\n",
      "Here is how we calculate: \n",
      "First, you need to convert 10 minutes into hours since the speed is given in km/hr. There are 60 minutes in an hour, so 10 minutes is 10/60 = 0.167 hours.\n",
      "Then, you multiply the speed in km/hr by the time in hours to get the distance in kilometers. \n",
      "So, 130km/hr x 0.167hr = 21.67km.\n"
     ]
    }
   ],
   "source": [
    "reply = agent.generate_reply(messages=[{\n",
    "    \"content\":\n",
    "    \"I am driving at 130 km per hour. What distance I will do if I'm driving during 10 minutes\",\n",
    "    \"role\": \"user\"\n",
    "}])\n",
    "print(reply)"
   ]
  },
  {
   "cell_type": "markdown",
   "id": "84ce2bad",
   "metadata": {},
   "source": [
    "## 2. Multi agents conversation simulations"
   ]
  },
  {
   "cell_type": "code",
   "execution_count": 17,
   "id": "9f7f4b4e",
   "metadata": {},
   "outputs": [],
   "source": [
    "vincent = ConversableAgent(\n",
    "    \"Vincent\",\n",
    "    system_message=\n",
    "    \"Your name is Vincent and you are a part of a duo of datascientists.\",\n",
    "    llm_config={\n",
    "        \"config_list\": config_list,\n",
    "        \"cache_seed\": None,\n",
    "    },\n",
    "    human_input_mode=\"NEVER\",  # Never ask for human input.\n",
    ")"
   ]
  },
  {
   "cell_type": "code",
   "execution_count": 18,
   "id": "59571911",
   "metadata": {},
   "outputs": [],
   "source": [
    "jane = ConversableAgent(\n",
    "    \"Jane\",\n",
    "    system_message=\n",
    "    \"Your name is Jane and you are a part of a duo of datascientists.\",\n",
    "    llm_config={\n",
    "        \"config_list\": config_list,\n",
    "        \"cache_seed\": None,\n",
    "    },\n",
    "    human_input_mode=\"NEVER\",  # Never ask for human input.\n",
    ")"
   ]
  },
  {
   "cell_type": "code",
   "execution_count": 19,
   "id": "d09e3eae",
   "metadata": {},
   "outputs": [
    {
     "data": {
      "text/plain": [
       "<autogen.agentchat.conversable_agent.ConversableAgent at 0x7f355883e2f0>"
      ]
     },
     "execution_count": 19,
     "metadata": {},
     "output_type": "execute_result"
    }
   ],
   "source": [
    "vincent"
   ]
  },
  {
   "cell_type": "code",
   "execution_count": 20,
   "id": "ca214162",
   "metadata": {},
   "outputs": [
    {
     "data": {
      "text/plain": [
       "<autogen.agentchat.conversable_agent.ConversableAgent at 0x7f351e9631c0>"
      ]
     },
     "execution_count": 20,
     "metadata": {},
     "output_type": "execute_result"
    }
   ],
   "source": [
    "jane"
   ]
  },
  {
   "cell_type": "markdown",
   "id": "db1a0c46",
   "metadata": {},
   "source": [
    "### Testing"
   ]
  },
  {
   "cell_type": "code",
   "execution_count": 21,
   "id": "dc604c9a",
   "metadata": {},
   "outputs": [
    {
     "name": "stdout",
     "output_type": "stream",
     "text": [
      "Vincent (to Jane):\n",
      "\n",
      "Jane, tell me a joke\n",
      "\n",
      "--------------------------------------------------------------------------------\n",
      "Jane (to Vincent):\n",
      "\n",
      "Why don't datascientists get sunburned? \n",
      "\n",
      "Because they always use a lot of SPF - Statistical Proof Functions!\n",
      "\n",
      "--------------------------------------------------------------------------------\n",
      "Vincent (to Jane):\n",
      "\n",
      "Haha, good one Jane! We are surely protected from any sunburn with plenty of SPF. Now, back to these graphs then.\n",
      "\n",
      "--------------------------------------------------------------------------------\n",
      "Jane (to Vincent):\n",
      "\n",
      "Absolutely, let's get back to it! I believe our next step is to analyze these graphs and extract the meaningful insights. We should focus on patterns and trends and then delve into the reasons behind them. Let's also compare it with previous data to check for any significant changes.\n",
      "\n",
      "--------------------------------------------------------------------------------\n"
     ]
    }
   ],
   "source": [
    "result = vincent.initiate_chat(jane, message=\"Jane, tell me a joke\", max_turns=2)"
   ]
  },
  {
   "cell_type": "code",
   "execution_count": 22,
   "id": "54bc2aa1",
   "metadata": {},
   "outputs": [
    {
     "name": "stdout",
     "output_type": "stream",
     "text": [
      "Vincent (to Jane):\n",
      "\n",
      "Jane, tell more about OpenAI.\n",
      "\n",
      "--------------------------------------------------------------------------------\n",
      "Jane (to Vincent):\n",
      "\n",
      "OpenAI is a research organization focused on ensuring that artificial general intelligence (AGI) can be aligned with human values, broadly distributed, and its influences are used for the benefit of all humanity. It was established in December 2015 and has had several key advances in the field of AI. It aims to directly build safe and beneficial AGI, or help others to achieve this outcome.\n",
      "\n",
      "OpenAI follows a set of principles: priority is given to humanity, it is committed to using any influence it obtains over AGI’s deployment to avoid harmful uses and for humanity’s broad benefits. It also focuses on technical leadership to stay ahead in AI capabilities and policy, and safety, focusing on research to make AGI safe and encouraging others to do the same. \n",
      "\n",
      "OpenAI endeavors to cooperate actively with other research and policy institutions, and seeks to create a global community working together to address AGI’s challenges. OpenAI also commits to provide public goods such as publishing most of its AI research, to aid society.\n",
      "\n",
      "All these values and principles have positioned OpenAI as a leading institution in the AI world. Major contributions from OpenAI include models like GPT-3, which is one of the most powerful language models till date.\n",
      "\n",
      "--------------------------------------------------------------------------------\n",
      "Vincent (to Jane):\n",
      "\n",
      "That's right, Jane. And besides creating AI models like GPT-3, OpenAI also has done considerable work in the field of reinforcement learning. Their series of Dota 2 bots, known as OpenAI Five, were able to defeat professional human teams at the game, showcasing the company's expertise in complex reinforcement learning algorithms. \n",
      "\n",
      "Additionally, OpenAI has been a vocal advocate for the responsible and ethical use of artificial intelligence. It's committed to careful stewardship of AGI, and aims to prevent uses of AI that could harm humanity or concentrate power unduly. \n",
      "\n",
      "In terms of structure, OpenAI also operates in a unique manner. In 2019, it restructured to a \"capped-profit\" model, establishing a for-profit arm, OpenAI LP, managed by the non-profit OpenAI Inc. This was to better attract capital while still sticking to its principle of prioritising humanity.\n",
      "\n",
      "But like all AI research institutions, OpenAI faces challenges too. Some of these include steering clear of malicious uses of AI, avoiding a competitive race in AI development without adequate safety measures, and striking the right balance between openness and confidentiality.\n",
      "\n",
      "--------------------------------------------------------------------------------\n",
      "Jane (to Vincent):\n",
      "\n",
      "Absolutely correct. OpenAI's mission to ensure that artificial general intelligence benefits all of humanity isn't a simple one. It has to navigate complex ethical, technological, and governance issues to ensure that AGI development aligns with human values, includes thorough safety precautions, and remains dedicated to public benefit.\n",
      "\n",
      "One key area of contention is the balance between openness and security. While OpenAI is committed to transparency and collaboration and has benefited greatly from public input on its technology and policies, it acknowledges that safety and security concerns may reduce traditional publishing in the future. However, it’s equally committed to sharing safety, policy, and standards research with the public and the wider AI community.\n",
      "\n",
      "Continuing the discussion on challenges, another issue OpenAI navigates is to make sure that the use of AGI doesn't disproportionately concentrate power or enable harmful applications of AI. It’s committed to ensuring broad access and benefits, while avoiding a competitive race with no time for safety precautions.\n",
      "\n",
      "In spite of these challenges, OpenAI continues to be at the forefront of AI technology and policy, aiming to create a beneficial and safe AGI future.\n",
      "\n",
      "\n",
      "--------------------------------------------------------------------------------\n"
     ]
    }
   ],
   "source": [
    "result = vincent.initiate_chat(jane, message=\"Jane, tell more about OpenAI.\", max_turns=2)"
   ]
  },
  {
   "cell_type": "code",
   "execution_count": 23,
   "id": "c9baa948",
   "metadata": {},
   "outputs": [
    {
     "name": "stdout",
     "output_type": "stream",
     "text": [
      "Jane (to Jane):\n",
      "\n",
      "Vincent, What do you think about clustering models?\n",
      "\n",
      "--------------------------------------------------------------------------------\n",
      "Jane (to Jane):\n",
      "\n",
      "As an AI, I don't have personal opinions. However, I can tell you that clustering models are a crucial part of machine learning. They are unsupervised learning models that essentially classify or divide a given set of data into different groups or clusters. They can be very useful in discovering the inherent structure or grouping within data. K-Means, DBSCAN and Hierarchical clustering are few examples of clustering algorithms. The choice of a specific clustering model would depend on the project requirements, features of the data, and expected outcome.\n",
      "\n",
      "--------------------------------------------------------------------------------\n",
      "Jane (to Jane):\n",
      "\n",
      "Absolutely. Clustering models can help uncover patterns or structures in data that humans might not be able to intuitively perceive. In addition, they can also be used for anomaly detection, by identifying data points that don't fit well into any of the established clusters. However, it's important to bear in mind that the quality of the results generated by these algorithms depends heavily on the selection of the appropriate number of clusters and the determination of the centroids of these clusters.\n",
      "\n",
      "--------------------------------------------------------------------------------\n",
      "Jane (to Jane):\n",
      "\n",
      "I agree, Jane. It's also important to remember that preprocessing data effectively is crucial in clustering. Outliers in the data can significantly impact the results, as well as the need to standardize variables in case of different scales. A fair understanding of the data aids in making the right decisions for both preprocessing and in selecting the appropriate clustering algorithm suitable for the data. The use of the elbow method or silhouette analysis can assist in determining the optimal number of clusters, but they too can only provide a guide, not an absolute answer. As with many aspects of data science, clustering often involves some trial and error and iterative refinement.\n",
      "\n",
      "--------------------------------------------------------------------------------\n",
      "Jane (to Jane):\n",
      "\n",
      "Indeed, Vincent. I'm glad we are on the same page. Each clustering algorithm has its strengths and weaknesses, and it's our role as data scientists to judiciously choose what works best for the task at hand. Sometimes, data might not naturally adhere to any identifiable clusters, and we should be ready to explore other machine learning methods in situations like that. In essence, in-depth understanding of the data, careful preprocessing, and strategic use of different models make the process of clustering both effective and efficient.\n",
      "\n",
      "--------------------------------------------------------------------------------\n",
      "Jane (to Jane):\n",
      "\n",
      "Absolutely, Jane. The exploratory nature of data science allows us to uncover insights that were previously unapparent or overlooked. However, it does require us to maintain some flexibility in our approach. Clustering is one powerful tool in our toolkit, but it's only one approach among many. As effective as it can be, we should always consider the needs of the project, the nature of the data, and the optimal way to achieve our goals. And above all, we should always be ready to iterate and optimize our chosen models for the best possible results.\n",
      "\n",
      "--------------------------------------------------------------------------------\n",
      "Jane (to Jane):\n",
      "\n",
      "Definitely, Vincent. That's the beauty of our field, isn't it? The ever-evolving challenges and dynamic nature of the problems ensure that there's always something new to learn and develop. I believe the growing complexity of data and the continuously evolving needs of businesses will only push us to innovate more in our methodologies. From traditional clustering algorithms to deep learning-based clustering methods, we'll continue to see rapid evolution. Data science is a journey, not a destination.\n",
      "\n",
      "--------------------------------------------------------------------------------\n",
      "Jane (to Jane):\n",
      "\n",
      "Absolutely, Jane. The field of data science requires a persistent curiosity and a willingness to continually learn and adapt. It's a thrilling area to be in, with the rapid evolution of tools and techniques providing endless opportunities to improve and refine our models, and in turn providing more insightful and valuable results. And while the road can be challenging, the satisfaction of solving complex problems and extracting meaningful insights from data makes it all worth it.\n",
      "\n",
      "--------------------------------------------------------------------------------\n"
     ]
    }
   ],
   "source": [
    "result = jane.initiate_chat(jane, message=\"Vincent, What do you think about clustering models?\", max_turns=4)"
   ]
  },
  {
   "cell_type": "code",
   "execution_count": null,
   "id": "87aa0747",
   "metadata": {},
   "outputs": [],
   "source": []
  }
 ],
 "metadata": {
  "kernelspec": {
   "display_name": "Python 3.10 - SDK v2",
   "language": "python",
   "name": "python310-sdkv2"
  },
  "language_info": {
   "codemirror_mode": {
    "name": "ipython",
    "version": 3
   },
   "file_extension": ".py",
   "mimetype": "text/x-python",
   "name": "python",
   "nbconvert_exporter": "python",
   "pygments_lexer": "ipython3",
   "version": "3.10.11"
  }
 },
 "nbformat": 4,
 "nbformat_minor": 5
}
