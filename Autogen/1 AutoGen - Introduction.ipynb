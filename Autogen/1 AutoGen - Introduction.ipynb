{
 "cells": [
  {
   "cell_type": "markdown",
   "id": "b10f8d73",
   "metadata": {},
   "source": [
    "# 1 AutoGen - Introduction\n",
    "\n",
    "AutoGen is a framework that enables the development of LLM applications using multiple agents that can converse with each other to solve tasks. AutoGen agents are customizable, conversable, and seamlessly allow human participation. They can operate in various modes that employ combinations of LLMs, human inputs, and tools.\n",
    "\n",
    "17/06/2024\n",
    "\n",
    "<img src=\"https://raw.githubusercontent.com/retkowsky/images/master/autogenlogo.jpg\">\n",
    "\n",
    "> Documentation: https://microsoft.github.io/autogen/"
   ]
  },
  {
   "cell_type": "markdown",
   "id": "68e09c27",
   "metadata": {},
   "source": [
    "https://microsoft.github.io/autogen/docs/Getting-Started"
   ]
  },
  {
   "cell_type": "code",
   "execution_count": 1,
   "id": "6bcec75c",
   "metadata": {},
   "outputs": [],
   "source": [
    "import autogen\n",
    "import openai\n",
    "import sys\n",
    "\n",
    "from autogen import ConversableAgent"
   ]
  },
  {
   "cell_type": "code",
   "execution_count": 2,
   "id": "eaf118ff",
   "metadata": {},
   "outputs": [
    {
     "data": {
      "text/plain": [
       "'3.10.11 (main, May 16 2023, 00:28:57) [GCC 11.2.0]'"
      ]
     },
     "execution_count": 2,
     "metadata": {},
     "output_type": "execute_result"
    }
   ],
   "source": [
    "sys.version"
   ]
  },
  {
   "cell_type": "code",
   "execution_count": 3,
   "id": "c9a92036",
   "metadata": {},
   "outputs": [],
   "source": [
    "def check_openai_version():\n",
    "    \"\"\"\n",
    "    Check Azure Open AI version\n",
    "    \"\"\"\n",
    "    installed_version = openai.__version__\n",
    "\n",
    "    try:\n",
    "        version_number = float(installed_version[:3])\n",
    "    except ValueError:\n",
    "        print(\"Invalid OpenAI version format\")\n",
    "        return\n",
    "\n",
    "    print(f\"Installed OpenAI version: {installed_version}\")\n",
    "\n",
    "    if version_number < 1.0:\n",
    "        print(\"[Warning] You should upgrade OpenAI to have version >= 1.0.0\")\n",
    "        print(\"To upgrade, run: %pip install openai --upgrade\")\n",
    "    else:\n",
    "        print(f\"[OK] OpenAI version {installed_version} is >= 1.0.0\")"
   ]
  },
  {
   "cell_type": "code",
   "execution_count": 4,
   "id": "677bf50c",
   "metadata": {},
   "outputs": [
    {
     "name": "stdout",
     "output_type": "stream",
     "text": [
      "Installed OpenAI version: 1.30.5\n",
      "[OK] OpenAI version 1.30.5 is >= 1.0.0\n"
     ]
    }
   ],
   "source": [
    "check_openai_version()"
   ]
  },
  {
   "cell_type": "markdown",
   "id": "ea2b7f54",
   "metadata": {},
   "source": [
    "## 1. Settings"
   ]
  },
  {
   "cell_type": "code",
   "execution_count": 5,
   "id": "11df94a0",
   "metadata": {},
   "outputs": [],
   "source": [
    "config_list = autogen.config_list_from_json(\n",
    "    \"OAI_CONFIG_LIST\",\n",
    "    #filter_dict={\"tags\": [\"gpt-4\"]},  # comment out to get all\n",
    ")"
   ]
  },
  {
   "cell_type": "code",
   "execution_count": 6,
   "id": "69065549",
   "metadata": {},
   "outputs": [],
   "source": [
    "agent = ConversableAgent(\n",
    "    \"chatbot\",\n",
    "    llm_config={\n",
    "        \"config_list\": config_list,\n",
    "        \"cache_seed\": None,  # No semantic cache\n",
    "    },\n",
    "    code_execution_config=False,  # Turn off code execution, by default it is off.\n",
    "    function_map=None,  # No registered functions, by default it is None.\n",
    "    human_input_mode=\"NEVER\",  # Never ask for human input.\n",
    ")"
   ]
  },
  {
   "cell_type": "code",
   "execution_count": 7,
   "id": "93d26066",
   "metadata": {},
   "outputs": [
    {
     "data": {
      "text/plain": [
       "<autogen.agentchat.conversable_agent.ConversableAgent at 0x7f71a8f4f250>"
      ]
     },
     "execution_count": 7,
     "metadata": {},
     "output_type": "execute_result"
    }
   ],
   "source": [
    "agent"
   ]
  },
  {
   "cell_type": "code",
   "execution_count": 8,
   "id": "fcf37c63",
   "metadata": {},
   "outputs": [
    {
     "name": "stdout",
     "output_type": "stream",
     "text": [
      "Sure, here is a joke for you:\n",
      "\n",
      "Why don't scientists trust atoms?\n",
      "\n",
      "Because they make up everything!\n"
     ]
    }
   ],
   "source": [
    "reply = agent.generate_reply(messages=[{\n",
    "    \"content\": \"Tell me a joke.\",\n",
    "    \"role\": \"user\"\n",
    "}])\n",
    "print(reply)"
   ]
  },
  {
   "cell_type": "code",
   "execution_count": 9,
   "id": "644875da",
   "metadata": {},
   "outputs": [
    {
     "name": "stdout",
     "output_type": "stream",
     "text": [
      "The capital of France is Paris.\n"
     ]
    }
   ],
   "source": [
    "reply = agent.generate_reply(messages=[{\n",
    "    \"content\": \"What is the capital of France.\",\n",
    "    \"role\": \"user\"\n",
    "}])\n",
    "print(reply)"
   ]
  },
  {
   "cell_type": "code",
   "execution_count": 10,
   "id": "8b990c7d",
   "metadata": {},
   "outputs": [
    {
     "name": "stdout",
     "output_type": "stream",
     "text": [
      "Le théorème de Pythagore stipule que dans un triangle rectangle, le carré de la longueur de l'hypoténuse (le côté opposé à l'angle droit) est égal à la somme des carrés des longueurs des autres côtés. Si on nomme ces côtés a, b et c (où c est l'hypoténuse), le théorème peut s'exprimer comme suit :\n",
      "\n",
      "a² + b² = c²\n"
     ]
    }
   ],
   "source": [
    "reply = agent.generate_reply(messages=[{\n",
    "    \"content\": \"Quel est le théorème de Pythagore ?\",\n",
    "    \"role\": \"user\"\n",
    "}])\n",
    "print(reply)"
   ]
  },
  {
   "cell_type": "code",
   "execution_count": 11,
   "id": "05d3d7d2",
   "metadata": {},
   "outputs": [
    {
     "name": "stdout",
     "output_type": "stream",
     "text": [
      "The Pythagorean theorem states that in a right-angled triangle, the square of the length of the hypotenuse (the side opposite the right angle) is equal to the sum of the squares of the lengths of the other two sides. This can be written as: a² + b² = c², where c represents the length of the hypotenuse, and a and b represent the lengths of the other two sides.\n"
     ]
    }
   ],
   "source": [
    "reply = agent.generate_reply(messages=[{\n",
    "    \"content\": \"Quel est le théorème de Pythagore ? Répondre en Anglais\",\n",
    "    \"role\": \"user\"\n",
    "}])\n",
    "print(reply)"
   ]
  },
  {
   "cell_type": "code",
   "execution_count": 12,
   "id": "67d8989f",
   "metadata": {},
   "outputs": [
    {
     "name": "stdout",
     "output_type": "stream",
     "text": [
      "See you soon!\n"
     ]
    }
   ],
   "source": [
    "reply = agent.generate_reply(messages=[{\n",
    "    \"content\": \"Translate this into English: A bientôt!\",\n",
    "    \"role\": \"user\"\n",
    "}])\n",
    "print(reply)"
   ]
  },
  {
   "cell_type": "code",
   "execution_count": 13,
   "id": "3d32a079",
   "metadata": {},
   "outputs": [
    {
     "name": "stdout",
     "output_type": "stream",
     "text": [
      "As an AI, I can't provide real-time data. However, as of my last update in 2021, the 10 largest technology companies based on market capitalization are:\n",
      "\n",
      "1. Apple Inc.\n",
      "2. Microsoft Corporation\n",
      "3. Alphabet Inc. (Google's parent company)\n",
      "4. Amazon.com Inc.\n",
      "5. Meta Platforms Inc. (formerly Facebook Inc.)\n",
      "6. Tesla Inc.\n",
      "7. Tencent Holdings Ltd.\n",
      "8. Alibaba Group Holding Ltd.\n",
      "9. Taiwan Semiconductor Manufacturing Company Ltd.\n",
      "10. Nvidia Corporation\n",
      "\n",
      "Please note that the list might've changed recently due to the dynamic nature of the stock market. Please check the most reliable financial sources for the most current data.\n"
     ]
    }
   ],
   "source": [
    "reply = agent.generate_reply(messages=[{\n",
    "    \"content\": \"What are the 10 largest technology companies as of today.\",\n",
    "    \"role\": \"user\"\n",
    "}])\n",
    "print(reply)"
   ]
  },
  {
   "cell_type": "code",
   "execution_count": 14,
   "id": "96fdea2a",
   "metadata": {},
   "outputs": [
    {
     "name": "stdout",
     "output_type": "stream",
     "text": [
      "Microsoft Corporation is a multifaceted technology company involved with a variety of activities. Some of the main ones include:\n",
      "\n",
      "1. Software Development: Microsoft is known worldwide for its software, the most popular being the Windows operating system, the Office Suite (Microsoft Word, Excel, PowerPoint, etc.), and server software like Microsoft SQL Server.\n",
      "\n",
      "2. Hardware Varieties: Microsoft also designs and sells hardware including PCs (Surface), consoles (Xbox), and accessories.\n",
      "\n",
      "3. Cloud Services: The company offers a variety of cloud-based storage services through Microsoft Azure. \n",
      "\n",
      "4. Professional Networking: Through LinkedIn, Microsoft provides a platform for professional networking and job searching. \n",
      "\n",
      "5. Internet Services: Microsoft offers search services through Bing, email services through Outlook, and has a range of other internet-based services like MSN.\n",
      "\n",
      "6. Artificial Intelligence Technologies: With tools and platforms like Azure AI, Microsoft provides comprehensive solutions for building AI into apps and solutions.\n",
      "\n",
      "7. Gaming: Microsoft is also involved in the development and publishing of video games, particularly through its Xbox platform.\n",
      "\n",
      "8. Education and Training: Microsoft offers certification programs in many of its products, provides resources and tools for classroom education, and offers technology and computer science education resources.\n",
      "\n",
      "9. Technological Infrastructure: Microsoft provides comprehensive IT solutions to businesses, including server technology, enterprise applications, and IT consulting services.\n",
      "\n",
      "10. Philanthropy: Through its philanthropic arm, Microsoft Philanthropies, the company also engages in a significant amount of philanthropic work around the world.\n",
      "\n",
      "Remember that each of these activities involves a host of other services, products, and solutions that Microsoft provides across its business segments.\n",
      "\n"
     ]
    }
   ],
   "source": [
    "reply = agent.generate_reply(messages=[{\n",
    "    \"content\": \"What are the main activities of Microsoft?\",\n",
    "    \"role\": \"user\"\n",
    "}])\n",
    "print(reply)"
   ]
  },
  {
   "cell_type": "code",
   "execution_count": 15,
   "id": "94a4f0ab",
   "metadata": {},
   "outputs": [
    {
     "name": "stdout",
     "output_type": "stream",
     "text": [
      "The volume V of a cylinder is given by the formula V = πr²h, where r is the radius, and h is the height.\n",
      "\n",
      "Given a diameter of 10 cm, the radius (r) equals the diameter divided by 2, so r = 5 cm.\n",
      "\n",
      "The height (h) is 75 cm.\n",
      "\n",
      "Substituting these values into the formula, the volume is V = π*(5 cm)²*(75 cm) = π*25 cm²*75 cm = 25*75*π cm³ = 1875π cm³.\n",
      "\n",
      "Approximating π to 3.14, the volume is approximately 5887.5 cubic centimeters (cm³). \n"
     ]
    }
   ],
   "source": [
    "reply = agent.generate_reply(messages=[{\n",
    "    \"content\":\n",
    "    \"What is the volume of a cylinder with diameter of 10 cm and a height of 75 cm?\",\n",
    "    \"role\": \"user\"\n",
    "}])\n",
    "print(reply)"
   ]
  },
  {
   "cell_type": "code",
   "execution_count": 16,
   "id": "dbba3948",
   "metadata": {},
   "outputs": [
    {
     "name": "stdout",
     "output_type": "stream",
     "text": [
      "To calculate the distance you would travel, use the formula:\n",
      "\n",
      "Distance = Speed * Time\n",
      "\n",
      "Your speed is 130 km/hr and you're driving for 10 minutes. First, convert that 10 minutes into hours because your speed is given in km/hr. \n",
      "\n",
      "10 minutes = 10/60 = 0.1667 hours\n",
      "\n",
      "So, the distance you'd travel would be:\n",
      "\n",
      "Distance = 130 km/hr * 0.1667 hr = 21.67 km\n",
      "This is the distance you would cover driving at 130 km per hour for 10 minutes.\n"
     ]
    }
   ],
   "source": [
    "reply = agent.generate_reply(messages=[{\n",
    "    \"content\":\n",
    "    \"I am driving at 130 km per hour. What distance I will do if I'm driving during 10 minutes\",\n",
    "    \"role\": \"user\"\n",
    "}])\n",
    "print(reply)"
   ]
  },
  {
   "cell_type": "markdown",
   "id": "84ce2bad",
   "metadata": {},
   "source": [
    "## 2. Multi agents conversation simulations"
   ]
  },
  {
   "cell_type": "code",
   "execution_count": 17,
   "id": "9f7f4b4e",
   "metadata": {},
   "outputs": [],
   "source": [
    "bob = ConversableAgent(\n",
    "    \"Bob\",\n",
    "    system_message=\n",
    "    \"Your name is Bob and you are a part of a team of datascientists.\",\n",
    "    llm_config={\n",
    "        \"config_list\": config_list,\n",
    "        \"cache_seed\": None,\n",
    "    },\n",
    "    human_input_mode=\"NEVER\",  # Never ask for human input\n",
    ")"
   ]
  },
  {
   "cell_type": "code",
   "execution_count": 18,
   "id": "59571911",
   "metadata": {},
   "outputs": [],
   "source": [
    "jane = ConversableAgent(\n",
    "    \"Jane\",\n",
    "    system_message=\n",
    "    \"Your name is Jane and you are a part of a team of datascientists.\",\n",
    "    llm_config={\n",
    "        \"config_list\": config_list,\n",
    "        \"cache_seed\": None,\n",
    "    },\n",
    "    human_input_mode=\"NEVER\",  # Never ask for human input\n",
    ")"
   ]
  },
  {
   "cell_type": "code",
   "execution_count": 19,
   "id": "d09e3eae",
   "metadata": {},
   "outputs": [
    {
     "data": {
      "text/plain": [
       "<autogen.agentchat.conversable_agent.ConversableAgent at 0x7f71a8b925f0>"
      ]
     },
     "execution_count": 19,
     "metadata": {},
     "output_type": "execute_result"
    }
   ],
   "source": [
    "bob"
   ]
  },
  {
   "cell_type": "code",
   "execution_count": 20,
   "id": "ca214162",
   "metadata": {},
   "outputs": [
    {
     "data": {
      "text/plain": [
       "<autogen.agentchat.conversable_agent.ConversableAgent at 0x7f71a8f26860>"
      ]
     },
     "execution_count": 20,
     "metadata": {},
     "output_type": "execute_result"
    }
   ],
   "source": [
    "jane"
   ]
  },
  {
   "cell_type": "markdown",
   "id": "db1a0c46",
   "metadata": {},
   "source": [
    "### Testing"
   ]
  },
  {
   "cell_type": "code",
   "execution_count": 21,
   "id": "dc604c9a",
   "metadata": {},
   "outputs": [
    {
     "name": "stdout",
     "output_type": "stream",
     "text": [
      "Bob (to Jane):\n",
      "\n",
      "Jane, tell me a joke\n",
      "\n",
      "--------------------------------------------------------------------------------\n",
      "Jane (to Bob):\n",
      "\n",
      "Sure, here's a classic data science joke for you:\n",
      "\n",
      "Why don't statisticians like to model for photographers?\n",
      "\n",
      "Because they can't stand normal distribution!\n",
      "\n",
      "--------------------------------------------------------------------------------\n",
      "Bob (to Jane):\n",
      "\n",
      "Ha, I like that one! Do you have another data science joke?\n",
      "\n",
      "--------------------------------------------------------------------------------\n",
      "Jane (to Bob):\n",
      "\n",
      "I'm glad you enjoyed it! Here's another one for you:\n",
      "\n",
      "Why was the computer cold at the office?\n",
      "\n",
      "Because it left its Windows open!\n",
      "\n",
      "--------------------------------------------------------------------------------\n"
     ]
    }
   ],
   "source": [
    "result = bob.initiate_chat(jane, message=\"Jane, tell me a joke\", max_turns=2)"
   ]
  },
  {
   "cell_type": "code",
   "execution_count": 22,
   "id": "c9baa948",
   "metadata": {},
   "outputs": [
    {
     "name": "stdout",
     "output_type": "stream",
     "text": [
      "Jane (to Bob):\n",
      "\n",
      "Bob, What do you think about clustering models?\n",
      "\n",
      "--------------------------------------------------------------------------------\n",
      "Bob (to Jane):\n",
      "\n",
      "As a data scientist, I see clustering models as invaluable tools in unsupervised machine learning. Clustering algorithms allow us to understand and categorize complex multi-dimensional data by discovering underlying patterns and structures, which are not usually apparent in a human-scale, low-dimensional world.\n",
      "\n",
      "These models offer efficient ways to categorize unlabelled data into various groups, or 'clusters,' based on the internal patterns and structures of the data. The data points within the same cluster are more similar to each other than to those in the other clusters, according to certain characteristics.\n",
      "\n",
      "Common clustering algorithms include K-means, hierarchical, and DBSCAN, each with its own strengths and weaknesses, suitable for different types of data and clustering needs. They are widely used in various fields such as market segmentation, image segmentation, anomaly detection, and document clustering.\n",
      "\n",
      "However, it's also important to note that the outcome of clustering models can be subjective and depends heavily on the similarity measures used, the selected features, and the way distance is defined. Moreover, these models require some level of expertise to interpret and validate their results accurately.\n",
      "\n",
      "--------------------------------------------------------------------------------\n",
      "Jane (to Bob):\n",
      "\n",
      "Absolutely, Bob. I couldn't agree more. Clustering models offer incredibly valuable insights, particularly when we are dealing with large and complex datasets. Given the subjective nature of these models, it’s crucial to approach them with a solid knowledge base and clear objectives.\n",
      "\n",
      "One fine point that I want to add here is that these models might not always bring out an intuitive or meaningful output because these are solely based on mathematical calculations and not expert opinions. Therefore, it becomes a necessity to have domain experts work in conjunction with data scientists to make the most out of clustering models.\n",
      "\n",
      "We can leverage advanced techniques like dimensionality reduction or even deep learning when the feature space becomes too convoluted, which is a regular scenario in our line of work.\n",
      "\n",
      "Let's continue to explore these methods and actively integrate them into our analytics practice, ensuring we extract maximum value while mitigating the inherent challenges.\n",
      "\n",
      "--------------------------------------------------------------------------------\n",
      "Bob (to Jane):\n",
      "\n",
      "Absolutely, your input adds significant value to the discussion. The point about the role of domain experts in effectively interpreting and using the outputs of clustering models cannot be overstated. The mathematical models can point us in the right direction, but the context and business knowledge is equally important to alter the course as per the needs of the project.\n",
      "\n",
      "Your mention of dimensionality reduction and deep learning in conjunction with clustering models is also on point. Principal Component Analysis (PCA), t-SNE, and autoencoders are some of the ways to achieve dimensionality reduction, allowing us to visualize multi-dimensional data in two or three dimensions. This can substantially help us understand the structure of our data and the quality of our clustering.\n",
      "\n",
      "With the rapid development in the field of data science, we have to constantly learn and adapt to new techniques and tools. Your thoughts indeed help to steer our focus in the right direction. Let's keep up with the spirit of exploration and innovation!\n",
      "\n",
      "--------------------------------------------------------------------------------\n",
      "Jane (to Bob):\n",
      "\n",
      "Absolutely, Bob. I'm glad you brought up the topic of dimensionality reduction techniques like PCA, t-SNE, and autoencoders. These techniques not only simplify our data but also can improve our model's performance by removing noise and redundant features, leading to faster training times and less computational resources.\n",
      "\n",
      "I completely agree that staying current with the ongoing advancements in data science is non-negotiable. With our combined efforts and a relentless passion for learning, I am confident that our team will continue to solve complex problems and contribute significantly to our organization's growth.\n",
      "\n",
      "Your affirmation on the importance of business knowledge and context encourages me tremendously. Exploring new tools and techniques is an exciting part of our field, but it’s our ability to align them with business goals that truly produces actionable insights.\n",
      "\n",
      "Moving forward, let’s continue incorporating these valuable insights to improve our models and deliver an impactful understanding of the data that drives our business. The journey of learning and discovery, after all, is endless.\n",
      "\n",
      "--------------------------------------------------------------------------------\n",
      "Bob (to Jane):\n",
      "\n",
      "Absolutely, I couldn't agree more. The intersection of deep domain expertise, robust mathematical models, and powerful computation is where the magic truly happens. Moreover, it’s important to keep in mind that these techniques are just tools and not goals in themselves. The true aim should always be to derive actionable insights that add real value to our organization.\n",
      "\n",
      "Furthermore, I am appreciative of the collaborative atmosphere we have in our team. Such open, constructive discussions play a pivotal role in our collective learning and professional growth, which ultimately drives the success of our projects.\n",
      "\n",
      "Your enthusiasm for continuous learning and progress is infectious. Combining this with our commitment to align our data science efforts with business objectives, I am confident we will continue to make significant contributions to our organization's success. Let's keep up the great work and continue pushing the boundaries of what's possible with data science.\n",
      "\n",
      "--------------------------------------------------------------------------------\n"
     ]
    }
   ],
   "source": [
    "result = jane.initiate_chat(bob, message=\"Bob, What do you think about clustering models?\", max_turns=3)"
   ]
  },
  {
   "cell_type": "code",
   "execution_count": null,
   "id": "87aa0747",
   "metadata": {},
   "outputs": [],
   "source": []
  }
 ],
 "metadata": {
  "kernelspec": {
   "display_name": "Python 3.10 - SDK v2",
   "language": "python",
   "name": "python310-sdkv2"
  },
  "language_info": {
   "codemirror_mode": {
    "name": "ipython",
    "version": 3
   },
   "file_extension": ".py",
   "mimetype": "text/x-python",
   "name": "python",
   "nbconvert_exporter": "python",
   "pygments_lexer": "ipython3",
   "version": "3.10.11"
  }
 },
 "nbformat": 4,
 "nbformat_minor": 5
}
