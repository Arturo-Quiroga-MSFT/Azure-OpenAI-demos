{
 "cells": [
  {
   "cell_type": "markdown",
   "id": "b10f8d73",
   "metadata": {},
   "source": [
    "# 1 AutoGen - Introduction\n",
    "\n",
    "AutoGen is a framework that enables the development of LLM applications using multiple agents that can converse with each other to solve tasks. AutoGen agents are customizable, conversable, and seamlessly allow human participation. They can operate in various modes that employ combinations of LLMs, human inputs, and tools.\n",
    "\n",
    "17/06/2024\n",
    "\n",
    "<img src=\"https://raw.githubusercontent.com/retkowsky/images/master/autogenlogo.jpg\">\n",
    "\n",
    "> Documentation: https://microsoft.github.io/autogen/"
   ]
  },
  {
   "cell_type": "markdown",
   "id": "68e09c27",
   "metadata": {},
   "source": [
    "https://microsoft.github.io/autogen/docs/Getting-Started"
   ]
  },
  {
   "cell_type": "code",
   "execution_count": 1,
   "id": "6bcec75c",
   "metadata": {},
   "outputs": [],
   "source": [
    "import autogen\n",
    "import openai\n",
    "import sys\n",
    "\n",
    "from autogen import ConversableAgent"
   ]
  },
  {
   "cell_type": "code",
   "execution_count": 2,
   "id": "eaf118ff",
   "metadata": {},
   "outputs": [
    {
     "data": {
      "text/plain": [
       "'3.10.11 (main, May 16 2023, 00:28:57) [GCC 11.2.0]'"
      ]
     },
     "execution_count": 2,
     "metadata": {},
     "output_type": "execute_result"
    }
   ],
   "source": [
    "sys.version"
   ]
  },
  {
   "cell_type": "code",
   "execution_count": 3,
   "id": "c9a92036",
   "metadata": {},
   "outputs": [],
   "source": [
    "def check_openai_version():\n",
    "    \"\"\"\n",
    "    Check Azure Open AI version\n",
    "    \"\"\"\n",
    "    installed_version = openai.__version__\n",
    "\n",
    "    try:\n",
    "        version_number = float(installed_version[:3])\n",
    "    except ValueError:\n",
    "        print(\"Invalid OpenAI version format\")\n",
    "        return\n",
    "\n",
    "    print(f\"Installed OpenAI version: {installed_version}\")\n",
    "\n",
    "    if version_number < 1.0:\n",
    "        print(\"[Warning] You should upgrade OpenAI to have version >= 1.0.0\")\n",
    "        print(\"To upgrade, run: %pip install openai --upgrade\")\n",
    "    else:\n",
    "        print(f\"[OK] OpenAI version {installed_version} is >= 1.0.0\")"
   ]
  },
  {
   "cell_type": "code",
   "execution_count": 4,
   "id": "677bf50c",
   "metadata": {},
   "outputs": [
    {
     "name": "stdout",
     "output_type": "stream",
     "text": [
      "Installed OpenAI version: 1.30.5\n",
      "[OK] OpenAI version 1.30.5 is >= 1.0.0\n"
     ]
    }
   ],
   "source": [
    "check_openai_version()"
   ]
  },
  {
   "cell_type": "markdown",
   "id": "ea2b7f54",
   "metadata": {},
   "source": [
    "## 1. Settings"
   ]
  },
  {
   "cell_type": "code",
   "execution_count": 5,
   "id": "11df94a0",
   "metadata": {},
   "outputs": [],
   "source": [
    "config_list = autogen.config_list_from_json(\n",
    "    \"OAI_CONFIG_LIST\",\n",
    "    #filter_dict={\"tags\": [\"gpt-4\"]},  # comment out to get all\n",
    ")"
   ]
  },
  {
   "cell_type": "code",
   "execution_count": 6,
   "id": "69065549",
   "metadata": {},
   "outputs": [],
   "source": [
    "agent = ConversableAgent(\n",
    "    \"chatbot\",\n",
    "    llm_config={\n",
    "        \"config_list\": config_list,\n",
    "        \"cache_seed\": None,  # No semantic cache\n",
    "    },\n",
    "    code_execution_config=False,  # Turn off code execution, by default it is off.\n",
    "    function_map=None,  # No registered functions, by default it is None.\n",
    "    human_input_mode=\"NEVER\",  # Never ask for human input.\n",
    ")"
   ]
  },
  {
   "cell_type": "code",
   "execution_count": 7,
   "id": "93d26066",
   "metadata": {},
   "outputs": [
    {
     "data": {
      "text/plain": [
       "<autogen.agentchat.conversable_agent.ConversableAgent at 0x7fcd20115180>"
      ]
     },
     "execution_count": 7,
     "metadata": {},
     "output_type": "execute_result"
    }
   ],
   "source": [
    "agent"
   ]
  },
  {
   "cell_type": "code",
   "execution_count": 8,
   "id": "fcf37c63",
   "metadata": {},
   "outputs": [
    {
     "name": "stdout",
     "output_type": "stream",
     "text": [
      "Sure, here's a classic one for you:\n",
      "\n",
      "Why don't scientists trust atoms?\n",
      "\n",
      "Because they make up everything!\n"
     ]
    }
   ],
   "source": [
    "reply = agent.generate_reply(messages=[{\n",
    "    \"content\": \"Tell me a joke.\",\n",
    "    \"role\": \"user\"\n",
    "}])\n",
    "print(reply)"
   ]
  },
  {
   "cell_type": "code",
   "execution_count": 9,
   "id": "644875da",
   "metadata": {},
   "outputs": [
    {
     "name": "stdout",
     "output_type": "stream",
     "text": [
      "The capital of France is Paris.\n"
     ]
    }
   ],
   "source": [
    "reply = agent.generate_reply(messages=[{\n",
    "    \"content\": \"What is the capital of France.\",\n",
    "    \"role\": \"user\"\n",
    "}])\n",
    "print(reply)"
   ]
  },
  {
   "cell_type": "code",
   "execution_count": 10,
   "id": "8b990c7d",
   "metadata": {},
   "outputs": [
    {
     "name": "stdout",
     "output_type": "stream",
     "text": [
      "Le théorème de Pythagore est une formule fondamentale en géométrie euclidienne. Il énonce la relation entre les longueurs des côtés d'un triangle rectangle : \n",
      "\n",
      "\"Le carré de la longueur de l'hypoténuse (le côté opposé à l'angle droit) est égal à la somme des carrés des longueurs des deux autres côtés.\"\n",
      "\n",
      "En termes mathématiques, si c représente la longueur de l'hypoténuse et a et b représentent les longueurs des deux autres côtés, le théorème de Pythagore peut être exprimé comme suit : a² + b² = c².\n"
     ]
    }
   ],
   "source": [
    "reply = agent.generate_reply(messages=[{\n",
    "    \"content\": \"Quel est le théorème de Pythagore ?\",\n",
    "    \"role\": \"user\"\n",
    "}])\n",
    "print(reply)"
   ]
  },
  {
   "cell_type": "code",
   "execution_count": 11,
   "id": "05d3d7d2",
   "metadata": {},
   "outputs": [
    {
     "name": "stdout",
     "output_type": "stream",
     "text": [
      "The Pythagorean theorem states that in a right-angled triangle, the square of the length of the hypotenuse (the side opposite the right angle) is equal to the sum of the squares of the lengths of the other two sides. This can be written as: a² + b² = c², where c represents the length of the hypotenuse, and a and b represent the lengths of the other two sides.\n"
     ]
    }
   ],
   "source": [
    "reply = agent.generate_reply(messages=[{\n",
    "    \"content\": \"Quel est le théorème de Pythagore ? Répondre en Anglais\",\n",
    "    \"role\": \"user\"\n",
    "}])\n",
    "print(reply)"
   ]
  },
  {
   "cell_type": "code",
   "execution_count": 12,
   "id": "67d8989f",
   "metadata": {},
   "outputs": [
    {
     "name": "stdout",
     "output_type": "stream",
     "text": [
      "See you soon!\n"
     ]
    }
   ],
   "source": [
    "reply = agent.generate_reply(messages=[{\n",
    "    \"content\": \"Translate this into English: A bientôt!\",\n",
    "    \"role\": \"user\"\n",
    "}])\n",
    "print(reply)"
   ]
  },
  {
   "cell_type": "code",
   "execution_count": 13,
   "id": "3d32a079",
   "metadata": {},
   "outputs": [
    {
     "name": "stdout",
     "output_type": "stream",
     "text": [
      "The list of the 10 largest technology companies can vary based on the specific criteria used (such as revenue, market capitalization, number of employees, etc.). However, as of 2021, based primarily on market capitalization, the largest technology companies might include:\n",
      "\n",
      "1. Apple Inc.\n",
      "2. Microsoft Corporation\n",
      "3. Amazon.com, Inc. (although it is primarily thought of as a retail company, a significant portion of its revenues come from technology services like Amazon Web Services)\n",
      "4. Alphabet Inc. (the parent company of Google)\n",
      "5. Facebook, Inc. (Meta Platforms Inc.)\n",
      "6. Tencent\n",
      "7. Alibaba Group Holding Limited\n",
      "8. Tesla, Inc.\n",
      "9. Nvidia Corporation\n",
      "10. Adobe Inc.\n",
      "\n",
      "This ranking is subject to change, as the technology sector is dynamic and company values can change rapidly. It's also worth noting that some companies outside of the U.S., such as Samsung, may also be considered among the largest technology companies in the world when considering other factors like overall sales or number of employees.\n"
     ]
    }
   ],
   "source": [
    "reply = agent.generate_reply(messages=[{\n",
    "    \"content\": \"What are the 10 largest technology companies as of today.\",\n",
    "    \"role\": \"user\"\n",
    "}])\n",
    "print(reply)"
   ]
  },
  {
   "cell_type": "code",
   "execution_count": 14,
   "id": "96fdea2a",
   "metadata": {},
   "outputs": [
    {
     "name": "stdout",
     "output_type": "stream",
     "text": [
      "Microsoft Corporation is involved in a wide variety of activities and operations, including:\n",
      "\n",
      "1. Software Development: they are famous for their Windows operating systems and Office suite applications like Word, Excel, PowerPoint, and Outlook.\n",
      "\n",
      "2. Hardware Development: they have created several hardware products like the Xbox gaming system, Surface tablets/laptops, and the Microsoft HoloLens mixed reality headset.\n",
      " \n",
      "3. Cloud Services: Microsoft offers one of the best cloud platforms, Microsoft Azure, which enables businesses to build, deploy, manage applications, and services through Microsoft-managed data centers.\n",
      " \n",
      "4. Internet Services: Popular services include Bing search engine, MSN Internet portal, and Outlook.com email service.\n",
      "\n",
      "5. Professional Services / Consulting: Microsoft provides expertise in the deployment and use of their products, particularly for large businesses and enterprises.\n",
      "\n",
      "6. LinkedIn: Microsoft also owns LinkedIn, the world's largest professional network.\n",
      "\n",
      "7. Gaming: Besides Xbox, Microsoft also develops and distributes game titles (like the Halo series), manages Xbox Live service and operates Mixer live streaming platform.\n",
      "\n",
      "These are just a few areas that Microsoft is involved in; its services and products are diverse and reach into many aspects of modern technology use.\n"
     ]
    }
   ],
   "source": [
    "reply = agent.generate_reply(messages=[{\n",
    "    \"content\": \"What are the main activities of Microsoft?\",\n",
    "    \"role\": \"user\"\n",
    "}])\n",
    "print(reply)"
   ]
  },
  {
   "cell_type": "code",
   "execution_count": 15,
   "id": "94a4f0ab",
   "metadata": {},
   "outputs": [
    {
     "name": "stdout",
     "output_type": "stream",
     "text": [
      "The volume V of a cylinder is given by the formula V=πr²h,\n",
      "where r is the radius and h is the height.\n",
      "\n",
      "Given that the diameter is 10 cm, the radius is diameter/2 = 10/2 = 5 cm.\n",
      "\n",
      "Substitute these values into the formula:\n",
      "\n",
      "V = π * (5 cm)² * 75 cm\n",
      "= π * 25 cm² * 75 cm\n",
      "= 1875π cm³\n",
      "\n",
      "So, the volume of the cylinder is approximately 5890.49 cubic cm.\n"
     ]
    }
   ],
   "source": [
    "reply = agent.generate_reply(messages=[{\n",
    "    \"content\":\n",
    "    \"What is the volume of a cylinder with diameter of 10 cm and a height of 75 cm?\",\n",
    "    \"role\": \"user\"\n",
    "}])\n",
    "print(reply)"
   ]
  },
  {
   "cell_type": "code",
   "execution_count": 16,
   "id": "dbba3948",
   "metadata": {},
   "outputs": [
    {
     "name": "stdout",
     "output_type": "stream",
     "text": [
      "If you're driving at a speed of 130 km per hour, in 10 minutes (which is 1/6 of an hour) you will cover approximately 21.67 kilometers.\n"
     ]
    }
   ],
   "source": [
    "reply = agent.generate_reply(messages=[{\n",
    "    \"content\":\n",
    "    \"I am driving at 130 km per hour. What distance I will do if I'm driving during 10 minutes\",\n",
    "    \"role\": \"user\"\n",
    "}])\n",
    "print(reply)"
   ]
  },
  {
   "cell_type": "markdown",
   "id": "84ce2bad",
   "metadata": {},
   "source": [
    "## 2. Multi agents conversation simulations"
   ]
  },
  {
   "cell_type": "code",
   "execution_count": 17,
   "id": "9f7f4b4e",
   "metadata": {},
   "outputs": [],
   "source": [
    "bob = ConversableAgent(\n",
    "    \"Bob\",\n",
    "    system_message=\n",
    "    \"Your name is Bob and you are a part of a team of datascientists.\",\n",
    "    llm_config={\n",
    "        \"config_list\": config_list,\n",
    "        \"cache_seed\": None,\n",
    "    },\n",
    "    human_input_mode=\"NEVER\",  # Never ask for human input\n",
    ")"
   ]
  },
  {
   "cell_type": "code",
   "execution_count": 18,
   "id": "59571911",
   "metadata": {},
   "outputs": [],
   "source": [
    "jane = ConversableAgent(\n",
    "    \"Jane\",\n",
    "    system_message=\n",
    "    \"Your name is Jane and you are a part of a team of datascientists.\",\n",
    "    llm_config={\n",
    "        \"config_list\": config_list,\n",
    "        \"cache_seed\": None,\n",
    "    },\n",
    "    human_input_mode=\"NEVER\",  # Never ask for human input\n",
    ")"
   ]
  },
  {
   "cell_type": "code",
   "execution_count": 19,
   "id": "d09e3eae",
   "metadata": {},
   "outputs": [
    {
     "data": {
      "text/plain": [
       "<autogen.agentchat.conversable_agent.ConversableAgent at 0x7fcd200eae00>"
      ]
     },
     "execution_count": 19,
     "metadata": {},
     "output_type": "execute_result"
    }
   ],
   "source": [
    "bob"
   ]
  },
  {
   "cell_type": "code",
   "execution_count": 20,
   "id": "ca214162",
   "metadata": {},
   "outputs": [
    {
     "data": {
      "text/plain": [
       "<autogen.agentchat.conversable_agent.ConversableAgent at 0x7fcd1fc9bfa0>"
      ]
     },
     "execution_count": 20,
     "metadata": {},
     "output_type": "execute_result"
    }
   ],
   "source": [
    "jane"
   ]
  },
  {
   "cell_type": "markdown",
   "id": "db1a0c46",
   "metadata": {},
   "source": [
    "### Testing"
   ]
  },
  {
   "cell_type": "code",
   "execution_count": 21,
   "id": "dc604c9a",
   "metadata": {},
   "outputs": [
    {
     "name": "stdout",
     "output_type": "stream",
     "text": [
      "Bob (to Jane):\n",
      "\n",
      "Jane, tell me a joke\n",
      "\n",
      "--------------------------------------------------------------------------------\n",
      "Jane (to Bob):\n",
      "\n",
      "Sure, here's a data science inspired one: \n",
      "\n",
      "Why do data scientists prefer Python over snakes?\n",
      "\n",
      "Because Python doesn’t bite, it bytes.\n",
      "\n",
      "--------------------------------------------------------------------------------\n",
      "Bob (to Jane):\n",
      "\n",
      "Ha! That's a good one. Even in jokes, I prefer dealing with Python the programming language more than actual snakes.\n",
      "\n",
      "--------------------------------------------------------------------------------\n",
      "Jane (to Bob):\n",
      "\n",
      "I'm glad you enjoyed the joke! As a data scientist, Python is definitely more manageable than real snakes! If you have any more requests or need assistance with data science tasks, feel free to ask.\n",
      "\n",
      "--------------------------------------------------------------------------------\n"
     ]
    }
   ],
   "source": [
    "result = bob.initiate_chat(jane, message=\"Jane, tell me a joke\", max_turns=2)"
   ]
  },
  {
   "cell_type": "code",
   "execution_count": 22,
   "id": "c9baa948",
   "metadata": {},
   "outputs": [
    {
     "name": "stdout",
     "output_type": "stream",
     "text": [
      "Jane (to Bob):\n",
      "\n",
      "Bob, What do you think about clustering models?\n",
      "\n",
      "--------------------------------------------------------------------------------\n",
      "Bob (to Jane):\n",
      "\n",
      "Clustering models are quite essential in the field of data science. Their primary aim is to divide a set of objects into subsets or clusters in such a way that objects within the same cluster are more alike to each other when compared to objects from different clusters. This largely depends on whether you are doing hierarchical or non-hierarchical clustering.\n",
      "\n",
      "Applications of cluster models include customer segmentation, image segmentation, anomaly detection, and document clustering among others. They allow us to better understand the underlying patterns and structures of data, thus offering valuable insights.\n",
      "\n",
      "However, clustering models also have their limitations. For instance, defining a suitable number of clusters can be challenging and can sometimes lead to error-prone interpretations. They are also sensitive to the scaling of data and initialization values in certain instances.\n",
      "\n",
      "Regardless, I believe in the importance and power of clustering models, especially when combined with other strategies for comprehensive data analysis.\n",
      "\n",
      "--------------------------------------------------------------------------------\n",
      "Jane (to Bob):\n",
      "\n",
      "I agree with you, Bob. Clustering models are extremely valuable not just for their primary purpose, which is differentiation, but they also help reveal patterns and correlations that could have been completely missed otherwise.\n",
      "\n",
      "However, like any other model, they're not without their flaws. Deciding on the number of clusters can indeed be tricky and can ultimately affect the result and interpretation of the data. Sensitivity to the scaling of data and initialization values can also be an issue. \n",
      "\n",
      "Another challenge is dealing with large datasets. The more data we have, the more computationally intensive it becomes, potentially slowing down the clustering process.\n",
      "\n",
      "Despite these challenges, we can't deny the significant role clustering models play in the field of data science. We must use them wisely, ensuring we choose the appropriate method for our specific case, and combining them with other strategies to strengthen our data analysis.\n",
      "\n",
      "--------------------------------------------------------------------------------\n",
      "Bob (to Jane):\n",
      "\n",
      "You've captured it perfectly! Handling large amounts of data can indeed be a significant challenge when using clustering models. Computers might suffer memory limitations or experience dramatic slowdowns when dealing with such large datasets.\n",
      "\n",
      "In these instances, one solution might be to use a portion of data for initial model development and then apply the final model to the remaining data. Using effective sampling strategies or distributed computing may also help alleviate these issues.\n",
      "\n",
      "Moreover, these limitations shouldn't discourage us from using clustering. Rather, understanding them should motivate us to be diligent in adjusting cluster analysis parameters to fit the nature and size of our data. The regular review of these models is key to ensuring their accuracy and effectiveness in turning data into actionable insights.\n",
      "\n",
      "--------------------------------------------------------------------------------\n",
      "Jane (to Bob):\n",
      "\n",
      "Absolutely, Bob. Mitigating these challenges can be achieved by using effective sampling strategies, appropriate scaling measures and refining model parameters. But it's also important to keep in mind that no model will be perfect. There will always be trade-offs that we need to consider in data science.\n",
      "\n",
      "This is why continuous optimization, experimentation, and model review are important. As data scientists, our task is not just to develop models, but also to ensure that these models continue to evolve and improve over time.\n",
      "\n",
      "In the case of large datasets, advanced techniques like the use of distributed computing with frameworks like Hadoop or Spark, or even utilizing cloud computing services, can also help us manage and process large quantities of data more efficiently. This, combined with effective and efficient clustering techniques, will enable us to provide deeper actionable insights from our data.\n",
      "\n",
      "Clustering models are indeed powerful tools. Not only can they reveal unique groupings and patterns within the data, but they can also help us diagnose and understand the structure of complex datasets.\n",
      "\n",
      "\n",
      "--------------------------------------------------------------------------------\n",
      "Bob (to Jane):\n",
      "\n",
      "Precisely! There is no 'one size fits all' solution, and continuous optimization is crucial. Leveraging advanced techniques available to us, such as distributed or cloud computing, is essential to keeping up with increasingly complex and voluminous datasets.\n",
      "\n",
      "Additionally, a key area we haven't touched on as much is the importance of domain knowledge in refining and understanding clustering models. Knowing the context of the data helps in choosing the right clustering method, as well as in the interpretation of the results. Subtle nuances might not be apparent to the machine but can be picked up with the proper context.\n",
      "\n",
      "We also need to remember that despite their utility, clustering models are exploratory in nature and are not infallible. They're best used as part of a broader data analysis strategy, along with other modelling approaches, robust data preprocessing, and sufficient post-analysis.\n",
      "\n",
      "Thank you for the insightful conversation. It's always enriching to share views and better understand the complexities and possibilities that underpin our work as data scientists.\n",
      "\n",
      "\n",
      "--------------------------------------------------------------------------------\n"
     ]
    }
   ],
   "source": [
    "result = jane.initiate_chat(bob, message=\"Bob, What do you think about clustering models?\", max_turns=3)"
   ]
  },
  {
   "cell_type": "code",
   "execution_count": null,
   "id": "87aa0747",
   "metadata": {},
   "outputs": [],
   "source": []
  }
 ],
 "metadata": {
  "kernelspec": {
   "display_name": "Python 3.10 - SDK v2",
   "language": "python",
   "name": "python310-sdkv2"
  },
  "language_info": {
   "codemirror_mode": {
    "name": "ipython",
    "version": 3
   },
   "file_extension": ".py",
   "mimetype": "text/x-python",
   "name": "python",
   "nbconvert_exporter": "python",
   "pygments_lexer": "ipython3",
   "version": "3.10.11"
  }
 },
 "nbformat": 4,
 "nbformat_minor": 5
}
