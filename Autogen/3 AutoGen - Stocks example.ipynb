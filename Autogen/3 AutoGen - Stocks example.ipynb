{
 "cells": [
  {
   "cell_type": "markdown",
   "metadata": {},
   "source": [
    "# 3 Autogen - Stocks examples\n",
    "\n",
    "AutoGen is a framework that enables the development of LLM applications using multiple agents that can converse with each other to solve tasks. AutoGen agents are customizable, conversable, and seamlessly allow human participation. They can operate in various modes that employ combinations of LLMs, human inputs, and tools.\n",
    "\n",
    "31/05/2024\n",
    "\n",
    "<img src=\"https://raw.githubusercontent.com/retkowsky/images/master/autogenlogo.jpg\">\n",
    "\n",
    "> Documentation: https://microsoft.github.io/autogen/"
   ]
  },
  {
   "cell_type": "code",
   "execution_count": 1,
   "metadata": {},
   "outputs": [],
   "source": [
    "import autogen\n",
    "import openai\n",
    "import os\n",
    "import sys\n",
    "\n",
    "from autogen.coding import LocalCommandLineCodeExecutor\n",
    "from PIL import Image"
   ]
  },
  {
   "cell_type": "code",
   "execution_count": 2,
   "metadata": {},
   "outputs": [
    {
     "data": {
      "text/plain": [
       "'3.10.11 (main, May 16 2023, 00:28:57) [GCC 11.2.0]'"
      ]
     },
     "execution_count": 2,
     "metadata": {},
     "output_type": "execute_result"
    }
   ],
   "source": [
    "sys.version"
   ]
  },
  {
   "cell_type": "code",
   "execution_count": 3,
   "metadata": {},
   "outputs": [],
   "source": [
    "def check_openai_version():\n",
    "    \"\"\"\n",
    "    Check Azure Open AI version\n",
    "    \"\"\"\n",
    "    installed_version = openai.__version__\n",
    "\n",
    "    try:\n",
    "        version_number = float(installed_version[:3])\n",
    "    except ValueError:\n",
    "        print(\"Invalid OpenAI version format\")\n",
    "        return\n",
    "\n",
    "    print(f\"Installed OpenAI version: {installed_version}\")\n",
    "\n",
    "    if version_number < 1.0:\n",
    "        print(\"[Warning] You should upgrade OpenAI to have version >= 1.0.0\")\n",
    "        print(\"To upgrade, run: %pip install openai --upgrade\")\n",
    "    else:\n",
    "        print(f\"[OK] OpenAI version {installed_version} is >= 1.0.0\")"
   ]
  },
  {
   "cell_type": "code",
   "execution_count": 4,
   "metadata": {},
   "outputs": [
    {
     "name": "stdout",
     "output_type": "stream",
     "text": [
      "Installed OpenAI version: 1.30.5\n",
      "[OK] OpenAI version 1.30.5 is >= 1.0.0\n"
     ]
    }
   ],
   "source": [
    "check_openai_version()"
   ]
  },
  {
   "cell_type": "markdown",
   "metadata": {},
   "source": [
    "## 1. Settings"
   ]
  },
  {
   "cell_type": "code",
   "execution_count": 5,
   "metadata": {},
   "outputs": [],
   "source": [
    "WORK_DIR = \"workdir\"\n",
    "\n",
    "os.makedirs(WORK_DIR, exist_ok=True)"
   ]
  },
  {
   "cell_type": "code",
   "execution_count": 6,
   "metadata": {},
   "outputs": [],
   "source": [
    "config_list = autogen.config_list_from_json(\n",
    "    \"OAI_CONFIG_LIST\",\n",
    "    #filter_dict={\"tags\": [\"gpt-4\"]},  # comment out to get all\n",
    ")\n",
    "# When using a single openai endpoint, you can use the following:\n",
    "# config_list = [{\"model\": \"gpt-4\", \"api_key\": os.getenv(\"OPENAI_API_KEY\")}]"
   ]
  },
  {
   "cell_type": "markdown",
   "metadata": {},
   "source": [
    "## 2. Agents"
   ]
  },
  {
   "cell_type": "code",
   "execution_count": 7,
   "metadata": {},
   "outputs": [],
   "source": [
    "# create an AssistantAgent named \"assistant\"\n",
    "assistant = autogen.AssistantAgent(\n",
    "    name=\"assistant\",\n",
    "    llm_config={\n",
    "        \"cache_seed\": None,\n",
    "        \"config_list\": config_list,\n",
    "        \"temperature\": 0,\n",
    "    },\n",
    ")"
   ]
  },
  {
   "cell_type": "code",
   "execution_count": 8,
   "metadata": {},
   "outputs": [],
   "source": [
    "# create a UserProxyAgent instance named \"user_proxy\"\n",
    "user_proxy = autogen.UserProxyAgent(\n",
    "    name=\"user_proxy\",\n",
    "    human_input_mode=\"NEVER\",\n",
    "    max_consecutive_auto_reply=10,\n",
    "    is_termination_msg=lambda x: x.get(\"content\", \"\").rstrip().endswith(\n",
    "        \"TERMINATE\"),\n",
    "    code_execution_config={\n",
    "        # the executor to run the generated code\n",
    "        \"executor\": LocalCommandLineCodeExecutor(work_dir=WORK_DIR),\n",
    "    },\n",
    ")"
   ]
  },
  {
   "cell_type": "code",
   "execution_count": 9,
   "metadata": {},
   "outputs": [
    {
     "data": {
      "text/plain": [
       "<autogen.agentchat.assistant_agent.AssistantAgent at 0x7f9dc4147430>"
      ]
     },
     "execution_count": 9,
     "metadata": {},
     "output_type": "execute_result"
    }
   ],
   "source": [
    "assistant"
   ]
  },
  {
   "cell_type": "code",
   "execution_count": 10,
   "metadata": {},
   "outputs": [
    {
     "data": {
      "text/plain": [
       "<autogen.agentchat.user_proxy_agent.UserProxyAgent at 0x7f9dc41474c0>"
      ]
     },
     "execution_count": 10,
     "metadata": {},
     "output_type": "execute_result"
    }
   ],
   "source": [
    "user_proxy"
   ]
  },
  {
   "cell_type": "markdown",
   "metadata": {},
   "source": [
    "## 3. Examples"
   ]
  },
  {
   "cell_type": "code",
   "execution_count": 11,
   "metadata": {},
   "outputs": [
    {
     "name": "stdout",
     "output_type": "stream",
     "text": [
      "user_proxy (to assistant):\n",
      "\n",
      "What is the current date today? Compare the year-to-date gain for META and TESLA.\n",
      "\n",
      "--------------------------------------------------------------------------------\n",
      "assistant (to user_proxy):\n",
      "\n",
      "To get the current date, we can use Python's built-in datetime module. Here is the Python code to get the current date:\n",
      "\n",
      "```python\n",
      "import datetime\n",
      "\n",
      "# Get the current date\n",
      "current_date = datetime.datetime.now()\n",
      "\n",
      "print(\"Today's date is:\", current_date.strftime(\"%Y-%m-%d\"))\n",
      "```\n",
      "\n",
      "To compare the year-to-date (YTD) gain for META (Facebook) and TESLA, we need to fetch the stock prices at the start of the year and the current stock prices. We can use the yfinance module in Python to fetch this data. \n",
      "\n",
      "Here is the Python code to fetch the YTD gain for META and TESLA:\n",
      "\n",
      "```python\n",
      "import yfinance as yf\n",
      "from datetime import datetime\n",
      "\n",
      "# Get the current year\n",
      "current_year = datetime.now().year\n",
      "\n",
      "# Get the stock data for the start of the year and now\n",
      "meta_data = yf.download('FB', start=f'{current_year}-01-01', end=datetime.now().strftime('%Y-%m-%d'))\n",
      "tesla_data = yf.download('TSLA', start=f'{current_year}-01-01', end=datetime.now().strftime('%Y-%m-%d'))\n",
      "\n",
      "# Calculate the YTD gain for META and TESLA\n",
      "meta_ytd_gain = ((meta_data['Close'][-1] - meta_data['Close'][0]) / meta_data['Close'][0]) * 100\n",
      "tesla_ytd_gain = ((tesla_data['Close'][-1] - tesla_data['Close'][0]) / tesla_data['Close'][0]) * 100\n",
      "\n",
      "print(f'META YTD Gain: {meta_ytd_gain}%')\n",
      "print(f'TESLA YTD Gain: {tesla_ytd_gain}%')\n",
      "```\n",
      "\n",
      "Please note that you need to have the yfinance module installed. If it's not installed, you can install it using pip:\n",
      "\n",
      "```shell\n",
      "pip install yfinance\n",
      "```\n",
      "\n",
      "Please run the above Python code to get the YTD gain for META and TESLA.\n",
      "\n",
      "--------------------------------------------------------------------------------\n",
      "\n",
      ">>>>>>>> EXECUTING 3 CODE BLOCKS (inferred languages are [python, python, shell])...\n",
      "user_proxy (to assistant):\n",
      "\n",
      "exitcode: 1 (execution failed)\n",
      "Code output: Today's date is: 2024-06-04\n",
      "\n",
      "[*********************100%%**********************]  1 of 1 completed\n",
      "\n",
      "1 Failed download:\n",
      "['FB']: Exception('%ticker%: No timezone found, symbol may be delisted')\n",
      "\n",
      "[*********************100%%**********************]  1 of 1 completed\n",
      "Traceback (most recent call last):\n",
      "  File \"/mnt/batch/tasks/shared/LS_root/mounts/clusters/seretkow9/code/Users/seretkow/Multi-Agents/workdir/tmp_code_da987fcb8b08490203239ea9637bd889.py\", line 12, in <module>\n",
      "    meta_ytd_gain = ((meta_data['Close'][-1] - meta_data['Close'][0]) / meta_data['Close'][0]) * 100\n",
      "  File \"/anaconda/envs/azureml_py38/lib/python3.8/site-packages/pandas/core/series.py\", line 1004, in __getitem__\n",
      "    return self._values[key]\n",
      "IndexError: index -1 is out of bounds for axis 0 with size 0\n",
      "\n",
      "\n",
      "--------------------------------------------------------------------------------\n",
      "assistant (to user_proxy):\n",
      "\n",
      "I apologize for the error. It seems that the ticker symbol for Meta Platforms (formerly Facebook) has changed from 'FB' to 'META'. Let's correct the ticker symbol and try again.\n",
      "\n",
      "Here is the corrected Python code:\n",
      "\n",
      "```python\n",
      "import yfinance as yf\n",
      "from datetime import datetime\n",
      "\n",
      "# Get the current year\n",
      "current_year = datetime.now().year\n",
      "\n",
      "# Get the stock data for the start of the year and now\n",
      "meta_data = yf.download('META', start=f'{current_year}-01-01', end=datetime.now().strftime('%Y-%m-%d'))\n",
      "tesla_data = yf.download('TSLA', start=f'{current_year}-01-01', end=datetime.now().strftime('%Y-%m-%d'))\n",
      "\n",
      "# Calculate the YTD gain for META and TESLA\n",
      "meta_ytd_gain = ((meta_data['Close'][-1] - meta_data['Close'][0]) / meta_data['Close'][0]) * 100\n",
      "tesla_ytd_gain = ((tesla_data['Close'][-1] - tesla_data['Close'][0]) / tesla_data['Close'][0]) * 100\n",
      "\n",
      "print(f'META YTD Gain: {meta_ytd_gain}%')\n",
      "print(f'TESLA YTD Gain: {tesla_ytd_gain}%')\n",
      "```\n",
      "\n",
      "Please run the above Python code to get the YTD gain for META and TESLA.\n",
      "\n",
      "--------------------------------------------------------------------------------\n",
      "\n",
      ">>>>>>>> EXECUTING CODE BLOCK (inferred language is python)...\n",
      "user_proxy (to assistant):\n",
      "\n",
      "exitcode: 0 (execution succeeded)\n",
      "Code output: \n",
      "[*********************100%%**********************]  1 of 1 completed\n",
      "\n",
      "[*********************100%%**********************]  1 of 1 completed\n",
      "META YTD Gain: 37.88731365387732%\n",
      "TESLA YTD Gain: -29.03550656729269%\n",
      "\n",
      "\n",
      "--------------------------------------------------------------------------------\n",
      "assistant (to user_proxy):\n",
      "\n",
      "Great! The code executed successfully. \n",
      "\n",
      "As of today's date (June 4, 2024), the year-to-date (YTD) gain for Meta Platforms (META) is approximately 37.89%, indicating that the stock price has increased by this percentage since the start of the year.\n",
      "\n",
      "On the other hand, Tesla (TSLA) has a YTD gain of approximately -29.04%, indicating that the stock price has decreased by this percentage since the start of the year.\n",
      "\n",
      "Please note that these values are subject to change as the stock market fluctuates.\n",
      "\n",
      "TERMINATE\n",
      "\n",
      "--------------------------------------------------------------------------------\n"
     ]
    }
   ],
   "source": [
    "# the assistant receives a message from the user_proxy, which contains the task description\n",
    "chat_res = user_proxy.initiate_chat(\n",
    "    assistant,\n",
    "    message=\n",
    "    \"\"\"What is the current date today? Compare the year-to-date gain for META and TESLA.\"\"\",\n",
    "    summary_method=\"reflection_with_llm\",\n",
    ")"
   ]
  },
  {
   "cell_type": "code",
   "execution_count": 12,
   "metadata": {},
   "outputs": [
    {
     "data": {
      "text/plain": [
       "ChatResult(chat_id=None, chat_history=[{'content': 'What is the current date today? Compare the year-to-date gain for META and TESLA.', 'role': 'assistant'}, {'content': 'To get the current date, we can use Python\\'s built-in datetime module. Here is the Python code to get the current date:\\n\\n```python\\nimport datetime\\n\\n# Get the current date\\ncurrent_date = datetime.datetime.now()\\n\\nprint(\"Today\\'s date is:\", current_date.strftime(\"%Y-%m-%d\"))\\n```\\n\\nTo compare the year-to-date (YTD) gain for META (Facebook) and TESLA, we need to fetch the stock prices at the start of the year and the current stock prices. We can use the yfinance module in Python to fetch this data. \\n\\nHere is the Python code to fetch the YTD gain for META and TESLA:\\n\\n```python\\nimport yfinance as yf\\nfrom datetime import datetime\\n\\n# Get the current year\\ncurrent_year = datetime.now().year\\n\\n# Get the stock data for the start of the year and now\\nmeta_data = yf.download(\\'FB\\', start=f\\'{current_year}-01-01\\', end=datetime.now().strftime(\\'%Y-%m-%d\\'))\\ntesla_data = yf.download(\\'TSLA\\', start=f\\'{current_year}-01-01\\', end=datetime.now().strftime(\\'%Y-%m-%d\\'))\\n\\n# Calculate the YTD gain for META and TESLA\\nmeta_ytd_gain = ((meta_data[\\'Close\\'][-1] - meta_data[\\'Close\\'][0]) / meta_data[\\'Close\\'][0]) * 100\\ntesla_ytd_gain = ((tesla_data[\\'Close\\'][-1] - tesla_data[\\'Close\\'][0]) / tesla_data[\\'Close\\'][0]) * 100\\n\\nprint(f\\'META YTD Gain: {meta_ytd_gain}%\\')\\nprint(f\\'TESLA YTD Gain: {tesla_ytd_gain}%\\')\\n```\\n\\nPlease note that you need to have the yfinance module installed. If it\\'s not installed, you can install it using pip:\\n\\n```shell\\npip install yfinance\\n```\\n\\nPlease run the above Python code to get the YTD gain for META and TESLA.', 'role': 'user'}, {'content': 'exitcode: 1 (execution failed)\\nCode output: Today\\'s date is: 2024-06-04\\n\\n[*********************100%%**********************]  1 of 1 completed\\n\\n1 Failed download:\\n[\\'FB\\']: Exception(\\'%ticker%: No timezone found, symbol may be delisted\\')\\n\\n[*********************100%%**********************]  1 of 1 completed\\nTraceback (most recent call last):\\n  File \"/mnt/batch/tasks/shared/LS_root/mounts/clusters/seretkow9/code/Users/seretkow/Multi-Agents/workdir/tmp_code_da987fcb8b08490203239ea9637bd889.py\", line 12, in <module>\\n    meta_ytd_gain = ((meta_data[\\'Close\\'][-1] - meta_data[\\'Close\\'][0]) / meta_data[\\'Close\\'][0]) * 100\\n  File \"/anaconda/envs/azureml_py38/lib/python3.8/site-packages/pandas/core/series.py\", line 1004, in __getitem__\\n    return self._values[key]\\nIndexError: index -1 is out of bounds for axis 0 with size 0\\n', 'role': 'assistant'}, {'content': \"I apologize for the error. It seems that the ticker symbol for Meta Platforms (formerly Facebook) has changed from 'FB' to 'META'. Let's correct the ticker symbol and try again.\\n\\nHere is the corrected Python code:\\n\\n```python\\nimport yfinance as yf\\nfrom datetime import datetime\\n\\n# Get the current year\\ncurrent_year = datetime.now().year\\n\\n# Get the stock data for the start of the year and now\\nmeta_data = yf.download('META', start=f'{current_year}-01-01', end=datetime.now().strftime('%Y-%m-%d'))\\ntesla_data = yf.download('TSLA', start=f'{current_year}-01-01', end=datetime.now().strftime('%Y-%m-%d'))\\n\\n# Calculate the YTD gain for META and TESLA\\nmeta_ytd_gain = ((meta_data['Close'][-1] - meta_data['Close'][0]) / meta_data['Close'][0]) * 100\\ntesla_ytd_gain = ((tesla_data['Close'][-1] - tesla_data['Close'][0]) / tesla_data['Close'][0]) * 100\\n\\nprint(f'META YTD Gain: {meta_ytd_gain}%')\\nprint(f'TESLA YTD Gain: {tesla_ytd_gain}%')\\n```\\n\\nPlease run the above Python code to get the YTD gain for META and TESLA.\", 'role': 'user'}, {'content': 'exitcode: 0 (execution succeeded)\\nCode output: \\n[*********************100%%**********************]  1 of 1 completed\\n\\n[*********************100%%**********************]  1 of 1 completed\\nMETA YTD Gain: 37.88731365387732%\\nTESLA YTD Gain: -29.03550656729269%\\n', 'role': 'assistant'}, {'content': \"Great! The code executed successfully. \\n\\nAs of today's date (June 4, 2024), the year-to-date (YTD) gain for Meta Platforms (META) is approximately 37.89%, indicating that the stock price has increased by this percentage since the start of the year.\\n\\nOn the other hand, Tesla (TSLA) has a YTD gain of approximately -29.04%, indicating that the stock price has decreased by this percentage since the start of the year.\\n\\nPlease note that these values are subject to change as the stock market fluctuates.\\n\\nTERMINATE\", 'role': 'user'}], summary='As of June 4, 2024, the year-to-date (YTD) gain for Meta Platforms (META) is approximately 37.89%, indicating an increase in the stock price since the start of the year. Conversely, Tesla (TSLA) has a YTD gain of approximately -29.04%, indicating a decrease in the stock price since the start of the year.', cost={'usage_including_cached_inference': {'total_cost': 0.18722999999999998, 'gpt-4': {'cost': 0.18722999999999998, 'prompt_tokens': 4417, 'completion_tokens': 912, 'total_tokens': 5329}}, 'usage_excluding_cached_inference': {'total_cost': 0.18722999999999998, 'gpt-4': {'cost': 0.18722999999999998, 'prompt_tokens': 4417, 'completion_tokens': 912, 'total_tokens': 5329}}}, human_input=[])"
      ]
     },
     "execution_count": 12,
     "metadata": {},
     "output_type": "execute_result"
    }
   ],
   "source": [
    "chat_res"
   ]
  },
  {
   "cell_type": "code",
   "execution_count": 13,
   "metadata": {},
   "outputs": [
    {
     "name": "stdout",
     "output_type": "stream",
     "text": [
      "\u001b[1;31;34m\n",
      "Chat history: [{'content': 'What is the current date today? Compare the year-to-date gain for META and TESLA.', 'role': 'assistant'}, {'content': 'To get the current date, we can use Python\\'s built-in datetime module. Here is the Python code to get the current date:\\n\\n```python\\nimport datetime\\n\\n# Get the current date\\ncurrent_date = datetime.datetime.now()\\n\\nprint(\"Today\\'s date is:\", current_date.strftime(\"%Y-%m-%d\"))\\n```\\n\\nTo compare the year-to-date (YTD) gain for META (Facebook) and TESLA, we need to fetch the stock prices at the start of the year and the current stock prices. We can use the yfinance module in Python to fetch this data. \\n\\nHere is the Python code to fetch the YTD gain for META and TESLA:\\n\\n```python\\nimport yfinance as yf\\nfrom datetime import datetime\\n\\n# Get the current year\\ncurrent_year = datetime.now().year\\n\\n# Get the stock data for the start of the year and now\\nmeta_data = yf.download(\\'FB\\', start=f\\'{current_year}-01-01\\', end=datetime.now().strftime(\\'%Y-%m-%d\\'))\\ntesla_data = yf.download(\\'TSLA\\', start=f\\'{current_year}-01-01\\', end=datetime.now().strftime(\\'%Y-%m-%d\\'))\\n\\n# Calculate the YTD gain for META and TESLA\\nmeta_ytd_gain = ((meta_data[\\'Close\\'][-1] - meta_data[\\'Close\\'][0]) / meta_data[\\'Close\\'][0]) * 100\\ntesla_ytd_gain = ((tesla_data[\\'Close\\'][-1] - tesla_data[\\'Close\\'][0]) / tesla_data[\\'Close\\'][0]) * 100\\n\\nprint(f\\'META YTD Gain: {meta_ytd_gain}%\\')\\nprint(f\\'TESLA YTD Gain: {tesla_ytd_gain}%\\')\\n```\\n\\nPlease note that you need to have the yfinance module installed. If it\\'s not installed, you can install it using pip:\\n\\n```shell\\npip install yfinance\\n```\\n\\nPlease run the above Python code to get the YTD gain for META and TESLA.', 'role': 'user'}, {'content': 'exitcode: 1 (execution failed)\\nCode output: Today\\'s date is: 2024-06-04\\n\\n[*********************100%%**********************]  1 of 1 completed\\n\\n1 Failed download:\\n[\\'FB\\']: Exception(\\'%ticker%: No timezone found, symbol may be delisted\\')\\n\\n[*********************100%%**********************]  1 of 1 completed\\nTraceback (most recent call last):\\n  File \"/mnt/batch/tasks/shared/LS_root/mounts/clusters/seretkow9/code/Users/seretkow/Multi-Agents/workdir/tmp_code_da987fcb8b08490203239ea9637bd889.py\", line 12, in <module>\\n    meta_ytd_gain = ((meta_data[\\'Close\\'][-1] - meta_data[\\'Close\\'][0]) / meta_data[\\'Close\\'][0]) * 100\\n  File \"/anaconda/envs/azureml_py38/lib/python3.8/site-packages/pandas/core/series.py\", line 1004, in __getitem__\\n    return self._values[key]\\nIndexError: index -1 is out of bounds for axis 0 with size 0\\n', 'role': 'assistant'}, {'content': \"I apologize for the error. It seems that the ticker symbol for Meta Platforms (formerly Facebook) has changed from 'FB' to 'META'. Let's correct the ticker symbol and try again.\\n\\nHere is the corrected Python code:\\n\\n```python\\nimport yfinance as yf\\nfrom datetime import datetime\\n\\n# Get the current year\\ncurrent_year = datetime.now().year\\n\\n# Get the stock data for the start of the year and now\\nmeta_data = yf.download('META', start=f'{current_year}-01-01', end=datetime.now().strftime('%Y-%m-%d'))\\ntesla_data = yf.download('TSLA', start=f'{current_year}-01-01', end=datetime.now().strftime('%Y-%m-%d'))\\n\\n# Calculate the YTD gain for META and TESLA\\nmeta_ytd_gain = ((meta_data['Close'][-1] - meta_data['Close'][0]) / meta_data['Close'][0]) * 100\\ntesla_ytd_gain = ((tesla_data['Close'][-1] - tesla_data['Close'][0]) / tesla_data['Close'][0]) * 100\\n\\nprint(f'META YTD Gain: {meta_ytd_gain}%')\\nprint(f'TESLA YTD Gain: {tesla_ytd_gain}%')\\n```\\n\\nPlease run the above Python code to get the YTD gain for META and TESLA.\", 'role': 'user'}, {'content': 'exitcode: 0 (execution succeeded)\\nCode output: \\n[*********************100%%**********************]  1 of 1 completed\\n\\n[*********************100%%**********************]  1 of 1 completed\\nMETA YTD Gain: 37.88731365387732%\\nTESLA YTD Gain: -29.03550656729269%\\n', 'role': 'assistant'}, {'content': \"Great! The code executed successfully. \\n\\nAs of today's date (June 4, 2024), the year-to-date (YTD) gain for Meta Platforms (META) is approximately 37.89%, indicating that the stock price has increased by this percentage since the start of the year.\\n\\nOn the other hand, Tesla (TSLA) has a YTD gain of approximately -29.04%, indicating that the stock price has decreased by this percentage since the start of the year.\\n\\nPlease note that these values are subject to change as the stock market fluctuates.\\n\\nTERMINATE\", 'role': 'user'}]\n"
     ]
    }
   ],
   "source": [
    "print(\"\\033[1;31;34m\")\n",
    "print(\"Chat history:\", chat_res.chat_history)"
   ]
  },
  {
   "cell_type": "code",
   "execution_count": 14,
   "metadata": {},
   "outputs": [
    {
     "name": "stdout",
     "output_type": "stream",
     "text": [
      "\u001b[1;31;34m\n",
      "Summary: As of June 4, 2024, the year-to-date (YTD) gain for Meta Platforms (META) is approximately 37.89%, indicating an increase in the stock price since the start of the year. Conversely, Tesla (TSLA) has a YTD gain of approximately -29.04%, indicating a decrease in the stock price since the start of the year.\n"
     ]
    }
   ],
   "source": [
    "print(\"\\033[1;31;34m\")\n",
    "print(\"Summary:\", chat_res.summary)"
   ]
  },
  {
   "cell_type": "code",
   "execution_count": 15,
   "metadata": {},
   "outputs": [
    {
     "name": "stdout",
     "output_type": "stream",
     "text": [
      "\u001b[1;31;34m\n",
      "Cost info: {'usage_including_cached_inference': {'total_cost': 0.18722999999999998, 'gpt-4': {'cost': 0.18722999999999998, 'prompt_tokens': 4417, 'completion_tokens': 912, 'total_tokens': 5329}}, 'usage_excluding_cached_inference': {'total_cost': 0.18722999999999998, 'gpt-4': {'cost': 0.18722999999999998, 'prompt_tokens': 4417, 'completion_tokens': 912, 'total_tokens': 5329}}}\n"
     ]
    }
   ],
   "source": [
    "print(\"\\033[1;31;34m\")\n",
    "print(\"Cost info:\", chat_res.cost)"
   ]
  },
  {
   "cell_type": "markdown",
   "metadata": {},
   "source": [
    "### Another example"
   ]
  },
  {
   "cell_type": "code",
   "execution_count": 16,
   "metadata": {},
   "outputs": [
    {
     "name": "stdout",
     "output_type": "stream",
     "text": [
      "user_proxy (to assistant):\n",
      "\n",
      "Plot a chart of their stock price change YTD.\n",
      "    Save the data to meta_tesla.csv and save the plot to meta_tesla.png.\n",
      "\n",
      "--------------------------------------------------------------------------------\n",
      "assistant (to user_proxy):\n",
      "\n",
      "To plot a chart of the stock price change YTD for META and TESLA, and to save the data and the plot, we can use the matplotlib and pandas libraries in Python. Here is the Python code to do this:\n",
      "\n",
      "```python\n",
      "# filename: plot_stock.py\n",
      "\n",
      "import yfinance as yf\n",
      "import matplotlib.pyplot as plt\n",
      "import pandas as pd\n",
      "from datetime import datetime\n",
      "\n",
      "# Get the current year\n",
      "current_year = datetime.now().year\n",
      "\n",
      "# Get the stock data for the start of the year and now\n",
      "meta_data = yf.download('META', start=f'{current_year}-01-01', end=datetime.now().strftime('%Y-%m-%d'))\n",
      "tesla_data = yf.download('TSLA', start=f'{current_year}-01-01', end=datetime.now().strftime('%Y-%m-%d'))\n",
      "\n",
      "# Save the data to a CSV file\n",
      "combined_data = pd.concat([meta_data['Close'], tesla_data['Close']], axis=1)\n",
      "combined_data.columns = ['META', 'TESLA']\n",
      "combined_data.to_csv('meta_tesla.csv')\n",
      "\n",
      "# Plot the stock price change YTD\n",
      "plt.figure(figsize=(14, 7))\n",
      "plt.plot(meta_data.index, meta_data['Close'], label='META')\n",
      "plt.plot(tesla_data.index, tesla_data['Close'], label='TESLA')\n",
      "plt.title('META vs TESLA Stock Price YTD')\n",
      "plt.xlabel('Date')\n",
      "plt.ylabel('Closing Price')\n",
      "plt.legend()\n",
      "plt.grid(True)\n",
      "plt.savefig('meta_tesla.png')\n",
      "```\n",
      "\n",
      "Please run the above Python code to plot the chart and save the data and the plot. The data will be saved in a file named 'meta_tesla.csv' and the plot will be saved as 'meta_tesla.png'.\n",
      "\n",
      "--------------------------------------------------------------------------------\n",
      "\n",
      ">>>>>>>> EXECUTING CODE BLOCK (inferred language is python)...\n",
      "user_proxy (to assistant):\n",
      "\n",
      "exitcode: 1 (execution failed)\n",
      "Code output: \n",
      "[*********************100%%**********************]  1 of 1 completed\n",
      "\n",
      "[*********************100%%**********************]  1 of 1 completed\n",
      "Traceback (most recent call last):\n",
      "  File \"/mnt/batch/tasks/shared/LS_root/mounts/clusters/seretkow9/code/Users/seretkow/Multi-Agents/workdir/plot_stock.py\", line 22, in <module>\n",
      "    plt.plot(meta_data.index, meta_data['Close'], label='META')\n",
      "  File \"/anaconda/envs/azureml_py38/lib/python3.8/site-packages/matplotlib/pyplot.py\", line 2761, in plot\n",
      "    return gca().plot(\n",
      "  File \"/anaconda/envs/azureml_py38/lib/python3.8/site-packages/matplotlib/axes/_axes.py\", line 1646, in plot\n",
      "    lines = [*self._get_lines(*args, data=data, **kwargs)]\n",
      "  File \"/anaconda/envs/azureml_py38/lib/python3.8/site-packages/matplotlib/axes/_base.py\", line 216, in __call__\n",
      "    yield from self._plot_args(this, kwargs)\n",
      "  File \"/anaconda/envs/azureml_py38/lib/python3.8/site-packages/matplotlib/axes/_base.py\", line 331, in _plot_args\n",
      "    x = _check_1d(tup[0])\n",
      "  File \"/anaconda/envs/azureml_py38/lib/python3.8/site-packages/matplotlib/cbook/__init__.py\", line 1349, in _check_1d\n",
      "    ndim = x[:, None].ndim\n",
      "  File \"/anaconda/envs/azureml_py38/lib/python3.8/site-packages/pandas/core/indexes/base.py\", line 5199, in __getitem__\n",
      "    disallow_ndim_indexing(result)\n",
      "  File \"/anaconda/envs/azureml_py38/lib/python3.8/site-packages/pandas/core/indexers/utils.py\", line 343, in disallow_ndim_indexing\n",
      "    raise ValueError(\n",
      "ValueError: Multi-dimensional indexing (e.g. `obj[:, None]`) is no longer supported. Convert to a numpy array before indexing instead.\n",
      "\n",
      "\n",
      "--------------------------------------------------------------------------------\n",
      "assistant (to user_proxy):\n",
      "\n",
      "I apologize for the error. It seems that the issue is with the way the dates are being passed to the plot function. We can convert the dates to a list before passing them to the plot function to resolve this issue. Here is the corrected Python code:\n",
      "\n",
      "```python\n",
      "# filename: plot_stock.py\n",
      "\n",
      "import yfinance as yf\n",
      "import matplotlib.pyplot as plt\n",
      "import pandas as pd\n",
      "from datetime import datetime\n",
      "\n",
      "# Get the current year\n",
      "current_year = datetime.now().year\n",
      "\n",
      "# Get the stock data for the start of the year and now\n",
      "meta_data = yf.download('META', start=f'{current_year}-01-01', end=datetime.now().strftime('%Y-%m-%d'))\n",
      "tesla_data = yf.download('TSLA', start=f'{current_year}-01-01', end=datetime.now().strftime('%Y-%m-%d'))\n",
      "\n",
      "# Save the data to a CSV file\n",
      "combined_data = pd.concat([meta_data['Close'], tesla_data['Close']], axis=1)\n",
      "combined_data.columns = ['META', 'TESLA']\n",
      "combined_data.to_csv('meta_tesla.csv')\n",
      "\n",
      "# Plot the stock price change YTD\n",
      "plt.figure(figsize=(14, 7))\n",
      "plt.plot(list(meta_data.index), meta_data['Close'], label='META')\n",
      "plt.plot(list(tesla_data.index), tesla_data['Close'], label='TESLA')\n",
      "plt.title('META vs TESLA Stock Price YTD')\n",
      "plt.xlabel('Date')\n",
      "plt.ylabel('Closing Price')\n",
      "plt.legend()\n",
      "plt.grid(True)\n",
      "plt.savefig('meta_tesla.png')\n",
      "```\n",
      "\n",
      "Please run the above Python code to plot the chart and save the data and the plot. The data will be saved in a file named 'meta_tesla.csv' and the plot will be saved as 'meta_tesla.png'.\n",
      "\n",
      "--------------------------------------------------------------------------------\n",
      "\n",
      ">>>>>>>> EXECUTING CODE BLOCK (inferred language is python)...\n",
      "user_proxy (to assistant):\n",
      "\n",
      "exitcode: 1 (execution failed)\n",
      "Code output: \n",
      "[*********************100%%**********************]  1 of 1 completed\n",
      "\n",
      "[*********************100%%**********************]  1 of 1 completed\n",
      "Traceback (most recent call last):\n",
      "  File \"/mnt/batch/tasks/shared/LS_root/mounts/clusters/seretkow9/code/Users/seretkow/Multi-Agents/workdir/plot_stock.py\", line 22, in <module>\n",
      "    plt.plot(list(meta_data.index), meta_data['Close'], label='META')\n",
      "  File \"/anaconda/envs/azureml_py38/lib/python3.8/site-packages/matplotlib/pyplot.py\", line 2761, in plot\n",
      "    return gca().plot(\n",
      "  File \"/anaconda/envs/azureml_py38/lib/python3.8/site-packages/matplotlib/axes/_axes.py\", line 1646, in plot\n",
      "    lines = [*self._get_lines(*args, data=data, **kwargs)]\n",
      "  File \"/anaconda/envs/azureml_py38/lib/python3.8/site-packages/matplotlib/axes/_base.py\", line 216, in __call__\n",
      "    yield from self._plot_args(this, kwargs)\n",
      "  File \"/anaconda/envs/azureml_py38/lib/python3.8/site-packages/matplotlib/axes/_base.py\", line 332, in _plot_args\n",
      "    y = _check_1d(tup[-1])\n",
      "  File \"/anaconda/envs/azureml_py38/lib/python3.8/site-packages/matplotlib/cbook/__init__.py\", line 1349, in _check_1d\n",
      "    ndim = x[:, None].ndim\n",
      "  File \"/anaconda/envs/azureml_py38/lib/python3.8/site-packages/pandas/core/series.py\", line 1033, in __getitem__\n",
      "    return self._get_with(key)\n",
      "  File \"/anaconda/envs/azureml_py38/lib/python3.8/site-packages/pandas/core/series.py\", line 1048, in _get_with\n",
      "    return self._get_values_tuple(key)\n",
      "  File \"/anaconda/envs/azureml_py38/lib/python3.8/site-packages/pandas/core/series.py\", line 1082, in _get_values_tuple\n",
      "    disallow_ndim_indexing(result)\n",
      "  File \"/anaconda/envs/azureml_py38/lib/python3.8/site-packages/pandas/core/indexers/utils.py\", line 343, in disallow_ndim_indexing\n",
      "    raise ValueError(\n",
      "ValueError: Multi-dimensional indexing (e.g. `obj[:, None]`) is no longer supported. Convert to a numpy array before indexing instead.\n",
      "\n",
      "\n",
      "--------------------------------------------------------------------------------\n",
      "assistant (to user_proxy):\n",
      "\n",
      "I apologize for the confusion. The error seems to be related to the version of pandas being used. Let's convert the pandas Series to numpy arrays before plotting. Here is the corrected Python code:\n",
      "\n",
      "```python\n",
      "# filename: plot_stock.py\n",
      "\n",
      "import yfinance as yf\n",
      "import matplotlib.pyplot as plt\n",
      "import pandas as pd\n",
      "from datetime import datetime\n",
      "\n",
      "# Get the current year\n",
      "current_year = datetime.now().year\n",
      "\n",
      "# Get the stock data for the start of the year and now\n",
      "meta_data = yf.download('META', start=f'{current_year}-01-01', end=datetime.now().strftime('%Y-%m-%d'))\n",
      "tesla_data = yf.download('TSLA', start=f'{current_year}-01-01', end=datetime.now().strftime('%Y-%m-%d'))\n",
      "\n",
      "# Save the data to a CSV file\n",
      "combined_data = pd.concat([meta_data['Close'], tesla_data['Close']], axis=1)\n",
      "combined_data.columns = ['META', 'TESLA']\n",
      "combined_data.to_csv('meta_tesla.csv')\n",
      "\n",
      "# Plot the stock price change YTD\n",
      "plt.figure(figsize=(14, 7))\n",
      "plt.plot(meta_data.index.to_pydatetime(), meta_data['Close'].values, label='META')\n",
      "plt.plot(tesla_data.index.to_pydatetime(), tesla_data['Close'].values, label='TESLA')\n",
      "plt.title('META vs TESLA Stock Price YTD')\n",
      "plt.xlabel('Date')\n",
      "plt.ylabel('Closing Price')\n",
      "plt.legend()\n",
      "plt.grid(True)\n",
      "plt.savefig('meta_tesla.png')\n",
      "```\n",
      "\n",
      "Please run the above Python code to plot the chart and save the data and the plot. The data will be saved in a file named 'meta_tesla.csv' and the plot will be saved as 'meta_tesla.png'.\n"
     ]
    },
    {
     "name": "stdout",
     "output_type": "stream",
     "text": [
      "\n",
      "--------------------------------------------------------------------------------\n",
      "\n",
      ">>>>>>>> EXECUTING CODE BLOCK (inferred language is python)...\n",
      "user_proxy (to assistant):\n",
      "\n",
      "exitcode: 0 (execution succeeded)\n",
      "Code output: \n",
      "[*********************100%%**********************]  1 of 1 completed\n",
      "\n",
      "[*********************100%%**********************]  1 of 1 completed\n",
      "\n",
      "\n",
      "--------------------------------------------------------------------------------\n",
      "assistant (to user_proxy):\n",
      "\n",
      "Great! The code executed successfully. \n",
      "\n",
      "The stock price data for Meta Platforms (META) and Tesla (TSLA) from the start of the year to the current date has been saved in a CSV file named 'meta_tesla.csv'. \n",
      "\n",
      "A plot comparing the stock price changes of META and TESLA year-to-date has been saved as 'meta_tesla.png'. \n",
      "\n",
      "You can now open the 'meta_tesla.csv' file to view the data and the 'meta_tesla.png' file to view the plot.\n",
      "\n",
      "TERMINATE\n",
      "\n",
      "--------------------------------------------------------------------------------\n"
     ]
    }
   ],
   "source": [
    "# followup of the previous question\n",
    "user_proxy.send(\n",
    "    recipient=assistant,\n",
    "    message=\n",
    "    \"\"\"Plot a chart of their stock price change YTD.\n",
    "    Save the data to meta_tesla.csv and save the plot to meta_tesla.png.\"\"\",\n",
    ")"
   ]
  },
  {
   "cell_type": "code",
   "execution_count": 17,
   "metadata": {},
   "outputs": [
    {
     "name": "stdout",
     "output_type": "stream",
     "text": [
      "Date,META,TESLA\n",
      "2024-01-02,346.2900085449219,248.4199981689453\n",
      "2024-01-03,344.4700012207031,238.4499969482422\n",
      "2024-01-04,347.1199951171875,237.92999267578125\n",
      "2024-01-05,351.95001220703125,237.49000549316406\n",
      "2024-01-08,358.6600036621094,240.4499969482422\n",
      "2024-01-09,357.42999267578125,234.9600067138672\n",
      "2024-01-10,370.4700012207031,233.94000244140625\n",
      "2024-01-11,369.6700134277344,227.22000122070312\n",
      "2024-01-12,374.489990234375,218.88999938964844\n",
      "2024-01-16,367.4599914550781,219.91000366210938\n",
      "2024-01-17,368.3699951171875,215.5500030517578\n",
      "2024-01-18,376.1300048828125,211.8800048828125\n",
      "2024-01-19,383.45001220703125,212.19000244140625\n",
      "2024-01-22,381.7799987792969,208.8000030517578\n",
      "2024-01-23,385.20001220703125,209.13999938964844\n",
      "2024-01-24,390.70001220703125,207.8300018310547\n",
      "2024-01-25,393.17999267578125,182.6300048828125\n",
      "2024-01-26,394.1400146484375,183.25\n",
      "2024-01-29,401.0199890136719,190.92999267578125\n",
      "2024-01-30,400.05999755859375,191.58999633789062\n",
      "2024-01-31,390.1400146484375,187.2899932861328\n",
      "2024-02-01,394.7799987792969,188.86000061035156\n",
      "2024-02-02,474.989990234375,187.91000366210938\n",
      "2024-02-05,459.4100036621094,181.05999755859375\n",
      "2024-02-06,454.7200012207031,185.10000610351562\n",
      "2024-02-07,469.5899963378906,187.5800018310547\n",
      "2024-02-08,470.0,189.55999755859375\n",
      "2024-02-09,468.1099853515625,193.57000732421875\n",
      "2024-02-12,468.8999938964844,188.1300048828125\n",
      "2024-02-13,460.1199951171875,184.02000427246094\n",
      "2024-02-14,473.2799987792969,188.7100067138672\n",
      "2024-02-15,484.0299987792969,200.4499969482422\n",
      "2024-02-16,473.32000732421875,199.9499969482422\n",
      "2024-02-20,471.75,193.75999450683594\n",
      "2024-02-21,468.0299987792969,194.77000427246094\n",
      "2024-02-22,486.1300048828125,197.41000366210938\n",
      "2024-02-23,484.0299987792969,191.97000122070312\n",
      "2024-02-26,481.739990234375,199.39999389648438\n",
      "2024-02-27,487.04998779296875,199.72999572753906\n",
      "2024-02-28,484.0199890136719,202.0399932861328\n",
      "2024-02-29,490.1300048828125,201.8800048828125\n",
      "2024-03-01,502.29998779296875,202.63999938964844\n",
      "2024-03-04,498.19000244140625,188.13999938964844\n",
      "2024-03-05,490.2200012207031,180.74000549316406\n",
      "2024-03-06,496.0899963378906,176.5399932861328\n",
      "2024-03-07,512.1900024414062,178.64999389648438\n",
      "2024-03-08,505.95001220703125,175.33999633789062\n",
      "2024-03-11,483.5899963378906,177.77000427246094\n",
      "2024-03-12,499.75,177.5399932861328\n",
      "2024-03-13,495.57000732421875,169.47999572753906\n",
      "2024-03-14,491.8299865722656,162.5\n",
      "2024-03-15,484.1000061035156,163.57000732421875\n",
      "2024-03-18,496.9800109863281,173.8000030517578\n",
      "2024-03-19,496.239990234375,171.32000732421875\n",
      "2024-03-20,505.5199890136719,175.66000366210938\n",
      "2024-03-21,507.760009765625,172.82000732421875\n",
      "2024-03-22,509.5799865722656,170.8300018310547\n",
      "2024-03-25,503.0199890136719,172.6300048828125\n",
      "2024-03-26,495.8900146484375,177.6699981689453\n",
      "2024-03-27,493.8599853515625,179.8300018310547\n",
      "2024-03-28,485.5799865722656,175.7899932861328\n",
      "2024-04-01,491.3500061035156,175.22000122070312\n",
      "2024-04-02,497.3699951171875,166.6300048828125\n",
      "2024-04-03,506.739990234375,168.3800048828125\n",
      "2024-04-04,510.9200134277344,171.11000061035156\n",
      "2024-04-05,527.3400268554688,164.89999389648438\n",
      "2024-04-08,519.25,172.97999572753906\n",
      "2024-04-09,516.9000244140625,176.8800048828125\n",
      "2024-04-10,519.8300170898438,171.75999450683594\n",
      "2024-04-11,523.1599731445312,174.60000610351562\n",
      "2024-04-12,511.8999938964844,171.0500030517578\n",
      "2024-04-15,500.2300109863281,161.47999572753906\n",
      "2024-04-16,499.760009765625,157.11000061035156\n",
      "2024-04-17,494.1700134277344,155.4499969482422\n",
      "2024-04-18,501.79998779296875,149.92999267578125\n",
      "2024-04-19,481.07000732421875,147.0500030517578\n",
      "2024-04-22,481.7300109863281,142.0500030517578\n",
      "2024-04-23,496.1000061035156,144.67999267578125\n",
      "2024-04-24,493.5,162.1300048828125\n",
      "2024-04-25,441.3800048828125,170.17999267578125\n",
      "2024-04-26,443.2900085449219,168.2899932861328\n",
      "2024-04-29,432.6199951171875,194.0500030517578\n",
      "2024-04-30,430.1700134277344,183.27999877929688\n",
      "2024-05-01,439.19000244140625,179.99000549316406\n",
      "2024-05-02,441.67999267578125,180.00999450683594\n",
      "2024-05-03,451.9599914550781,181.19000244140625\n",
      "2024-05-06,465.67999267578125,184.75999450683594\n",
      "2024-05-07,468.239990234375,177.80999755859375\n",
      "2024-05-08,472.6000061035156,174.72000122070312\n",
      "2024-05-09,475.4200134277344,171.97000122070312\n",
      "2024-05-10,476.20001220703125,168.47000122070312\n",
      "2024-05-13,468.010009765625,171.88999938964844\n",
      "2024-05-14,471.8500061035156,177.5500030517578\n",
      "2024-05-15,481.5400085449219,173.99000549316406\n",
      "2024-05-16,473.2300109863281,174.83999633789062\n",
      "2024-05-17,471.9100036621094,177.4600067138672\n",
      "2024-05-20,468.8399963378906,174.9499969482422\n",
      "2024-05-21,464.6300048828125,186.60000610351562\n",
      "2024-05-22,467.7799987792969,180.11000061035156\n",
      "2024-05-23,465.7799987792969,173.74000549316406\n",
      "2024-05-24,478.2200012207031,179.24000549316406\n",
      "2024-05-28,479.9200134277344,176.75\n",
      "2024-05-29,474.3599853515625,176.19000244140625\n",
      "2024-05-30,467.04998779296875,178.7899932861328\n",
      "2024-05-31,466.8299865722656,178.0800018310547\n",
      "2024-06-03,477.489990234375,176.2899932861328\n",
      "\n"
     ]
    }
   ],
   "source": [
    "with open(os.path.join(WORK_DIR, 'meta_tesla.csv'), 'r') as f:\n",
    "    print(f.read())"
   ]
  },
  {
   "cell_type": "code",
   "execution_count": 18,
   "metadata": {},
   "outputs": [
    {
     "data": {
      "image/png": "[encoded data removed]",
      "text/plain": [
       "<PIL.PngImagePlugin.PngImageFile image mode=RGBA size=1400x700>"
      ]
     },
     "execution_count": 18,
     "metadata": {},
     "output_type": "execute_result"
    }
   ],
   "source": [
    "img = Image.open(os.path.join(WORK_DIR, 'meta_tesla.png'))\n",
    "img"
   ]
  },
  {
   "cell_type": "code",
   "execution_count": 19,
   "metadata": {},
   "outputs": [
    {
     "name": "stdout",
     "output_type": "stream",
     "text": [
      "-rwxrwxrwx 1 root root 4.9K Jun  4 14:53 workdir/meta_tesla.csv\r\n",
      "-rwxrwxrwx 1 root root  61K Jun  4 14:53 workdir/meta_tesla.png\r\n"
     ]
    }
   ],
   "source": [
    "!ls $WORK_DIR/meta_tesla.* -lh"
   ]
  },
  {
   "cell_type": "code",
   "execution_count": 20,
   "metadata": {},
   "outputs": [
    {
     "name": "stdout",
     "output_type": "stream",
     "text": [
      "user_proxy (to assistant):\n",
      "\n",
      "Generate a financial analysis based on the stocks prices and save the results into meta_tesla.txt\n",
      "\n",
      "--------------------------------------------------------------------------------\n",
      "assistant (to user_proxy):\n",
      "\n",
      "To generate a financial analysis based on the stock prices, we can calculate some common financial metrics such as the mean, median, standard deviation, and percent change of the closing prices. We can also calculate the correlation between the two stocks. Here is the Python code to do this:\n",
      "\n",
      "```python\n",
      "# filename: financial_analysis.py\n",
      "\n",
      "import yfinance as yf\n",
      "import pandas as pd\n",
      "from datetime import datetime\n",
      "\n",
      "# Get the current year\n",
      "current_year = datetime.now().year\n",
      "\n",
      "# Get the stock data for the start of the year and now\n",
      "meta_data = yf.download('META', start=f'{current_year}-01-01', end=datetime.now().strftime('%Y-%m-%d'))\n",
      "tesla_data = yf.download('TSLA', start=f'{current_year}-01-01', end=datetime.now().strftime('%Y-%m-%d'))\n",
      "\n",
      "# Calculate financial metrics\n",
      "meta_mean = meta_data['Close'].mean()\n",
      "tesla_mean = tesla_data['Close'].mean()\n",
      "\n",
      "meta_median = meta_data['Close'].median()\n",
      "tesla_median = tesla_data['Close'].median()\n",
      "\n",
      "meta_std = meta_data['Close'].std()\n",
      "tesla_std = tesla_data['Close'].std()\n",
      "\n",
      "meta_change = (meta_data['Close'][-1] - meta_data['Close'][0]) / meta_data['Close'][0]\n",
      "tesla_change = (tesla_data['Close'][-1] - tesla_data['Close'][0]) / tesla_data['Close'][0]\n",
      "\n",
      "correlation = meta_data['Close'].corr(tesla_data['Close'])\n",
      "\n",
      "# Save the results to a text file\n",
      "with open('meta_tesla.txt', 'w') as f:\n",
      "    f.write(f'META Mean Price: {meta_mean}\\n')\n",
      "    f.write(f'TESLA Mean Price: {tesla_mean}\\n')\n",
      "    f.write(f'META Median Price: {meta_median}\\n')\n",
      "    f.write(f'TESLA Median Price: {tesla_median}\\n')\n",
      "    f.write(f'META Price Standard Deviation: {meta_std}\\n')\n",
      "    f.write(f'TESLA Price Standard Deviation: {tesla_std}\\n')\n",
      "    f.write(f'META Price Change: {meta_change}\\n')\n",
      "    f.write(f'TESLA Price Change: {tesla_change}\\n')\n",
      "    f.write(f'Correlation between META and TESLA: {correlation}\\n')\n",
      "\n",
      "print(\"Financial analysis saved to 'meta_tesla.txt'\")\n",
      "```\n",
      "\n",
      "Please run the above Python code to generate the financial analysis and save the results to 'meta_tesla.txt'.\n",
      "\n",
      "--------------------------------------------------------------------------------\n",
      "\n",
      ">>>>>>>> EXECUTING CODE BLOCK (inferred language is python)...\n",
      "user_proxy (to assistant):\n",
      "\n",
      "exitcode: 0 (execution succeeded)\n",
      "Code output: \n",
      "[*********************100%%**********************]  1 of 1 completed\n",
      "\n",
      "[*********************100%%**********************]  1 of 1 completed\n",
      "Financial analysis saved to 'meta_tesla.txt'\n",
      "\n",
      "\n",
      "--------------------------------------------------------------------------------\n",
      "assistant (to user_proxy):\n",
      "\n",
      "Great! The code executed successfully. \n",
      "\n",
      "The financial analysis based on the stock prices of Meta Platforms (META) and Tesla (TSLA) from the start of the year to the current date has been saved in a text file named 'meta_tesla.txt'. \n",
      "\n",
      "The analysis includes the mean, median, and standard deviation of the closing prices, the price change from the start of the year to the current date, and the correlation between the closing prices of the two stocks.\n",
      "\n",
      "You can now open the 'meta_tesla.txt' file to view the financial analysis.\n",
      "\n",
      "TERMINATE\n",
      "\n",
      "--------------------------------------------------------------------------------\n"
     ]
    }
   ],
   "source": [
    "user_proxy.send(\n",
    "    recipient=assistant,\n",
    "    message=\n",
    "    \"\"\"Generate a financial analysis based on the stocks prices and save the results into meta_tesla.txt\"\"\",\n",
    ")"
   ]
  },
  {
   "cell_type": "code",
   "execution_count": 21,
   "metadata": {},
   "outputs": [
    {
     "name": "stdout",
     "output_type": "stream",
     "text": [
      "-rwxrwxrwx 1 root root 381 Jun  4 14:54 workdir/meta_tesla.txt\r\n"
     ]
    }
   ],
   "source": [
    "!ls $WORK_DIR/meta_tesla.txt -lh"
   ]
  },
  {
   "cell_type": "code",
   "execution_count": null,
   "metadata": {},
   "outputs": [],
   "source": []
  }
 ],
 "metadata": {
  "colab": {
   "authorship_tag": "ABX9TyMTFqnHcNCOfGXY2H+UtzIz",
   "provenance": []
  },
  "kernelspec": {
   "display_name": "Python 3.10 - SDK v2",
   "language": "python",
   "name": "python310-sdkv2"
  },
  "language_info": {
   "codemirror_mode": {
    "name": "ipython",
    "version": 3
   },
   "file_extension": ".py",
   "mimetype": "text/x-python",
   "name": "python",
   "nbconvert_exporter": "python",
   "pygments_lexer": "ipython3",
   "version": "3.10.11"
  }
 },
 "nbformat": 4,
 "nbformat_minor": 1
}
