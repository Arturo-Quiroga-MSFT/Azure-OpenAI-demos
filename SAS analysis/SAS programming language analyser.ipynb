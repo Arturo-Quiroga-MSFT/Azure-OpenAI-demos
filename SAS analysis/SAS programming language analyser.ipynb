{
 "cells": [
  {
   "cell_type": "markdown",
   "id": "20e46c2f",
   "metadata": {},
   "source": [
    "# SAS programming language analyser"
   ]
  },
  {
   "cell_type": "code",
   "execution_count": 1,
   "id": "a9ed10c4",
   "metadata": {},
   "outputs": [],
   "source": [
    "import datetime\n",
    "import os\n",
    "import openai\n",
    "import sys\n",
    "\n",
    "from dotenv import load_dotenv"
   ]
  },
  {
   "cell_type": "code",
   "execution_count": 2,
   "id": "aaf564d8",
   "metadata": {},
   "outputs": [
    {
     "data": {
      "text/plain": [
       "'3.10.10 (main, Mar 21 2023, 18:45:11) [GCC 11.2.0]'"
      ]
     },
     "execution_count": 2,
     "metadata": {},
     "output_type": "execute_result"
    }
   ],
   "source": [
    "sys.version"
   ]
  },
  {
   "cell_type": "code",
   "execution_count": 3,
   "id": "07e781bd",
   "metadata": {},
   "outputs": [
    {
     "name": "stdout",
     "output_type": "stream",
     "text": [
      "Today is: 21-Sep-2023 08:12:44\n"
     ]
    }
   ],
   "source": [
    "print('Today is:', datetime.datetime.today().strftime ('%d-%b-%Y %H:%M:%S'))"
   ]
  },
  {
   "cell_type": "code",
   "execution_count": 4,
   "id": "bacb98f7",
   "metadata": {},
   "outputs": [
    {
     "name": "stdout",
     "output_type": "stream",
     "text": [
      "Open AI version: 0.28.0\n"
     ]
    }
   ],
   "source": [
    "load_dotenv(\"azure.env\")\n",
    "\n",
    "# Azure Open AI\n",
    "openai.api_type: str = \"azure\"\n",
    "openai.api_key = os.getenv(\"OPENAI_API_KEY\")\n",
    "openai.api_base = os.getenv(\"OPENAI_API_BASE\")\n",
    "openai.api_version = os.getenv(\"OPENAI_API_VERSION\")\n",
    "\n",
    "print(\"Open AI version:\", openai.__version__)"
   ]
  },
  {
   "cell_type": "code",
   "execution_count": 5,
   "id": "1a4b5443",
   "metadata": {},
   "outputs": [],
   "source": [
    "model = \"text-davinci-003\""
   ]
  },
  {
   "cell_type": "code",
   "execution_count": 6,
   "id": "c2dd2175",
   "metadata": {},
   "outputs": [],
   "source": [
    "def azure_openai(prompt, temperature=0.8):\n",
    "    \"\"\"\n",
    "    Get Azure Open AI results\n",
    "    \"\"\"\n",
    "    prompt = prompt + \"\\n\" + code\n",
    "\n",
    "    results = openai.Completion.create(\n",
    "        engine=model,\n",
    "        prompt=prompt,\n",
    "        temperature=temperature,\n",
    "        max_tokens=800,\n",
    "    )\n",
    "\n",
    "    answer = results[\"choices\"][0][\"text\"].strip(\"\\n\")\n",
    "\n",
    "    return answer"
   ]
  },
  {
   "cell_type": "markdown",
   "id": "45d72c3c",
   "metadata": {},
   "source": [
    "## Examples"
   ]
  },
  {
   "cell_type": "code",
   "execution_count": 7,
   "id": "5d782d44",
   "metadata": {},
   "outputs": [],
   "source": [
    "code = \"\"\"\n",
    "data work.table2;\n",
    "    input Name $ Height;\n",
    "    label Height='Height (in cm)';\n",
    "    datalines;\n",
    "Bob 185\n",
    "Melissa 168\n",
    "Susan 164\n",
    "John 178\n",
    "Patrick 191\n",
    ";\n",
    "\n",
    "run;\n",
    "\"\"\""
   ]
  },
  {
   "cell_type": "code",
   "execution_count": 8,
   "id": "35a038a1",
   "metadata": {},
   "outputs": [
    {
     "name": "stdout",
     "output_type": "stream",
     "text": [
      "\n",
      "data work.table2;\n",
      "    input Name $ Height;\n",
      "    label Height='Height (in cm)';\n",
      "    datalines;\n",
      "Bob 185\n",
      "Melissa 168\n",
      "Susan 164\n",
      "John 178\n",
      "Patrick 191\n",
      ";\n",
      "\n",
      "run;\n",
      "\n"
     ]
    }
   ],
   "source": [
    "print(code)"
   ]
  },
  {
   "cell_type": "code",
   "execution_count": 9,
   "id": "b2a50475",
   "metadata": {},
   "outputs": [
    {
     "name": "stdout",
     "output_type": "stream",
     "text": [
      "This is a SAS program that creates a data set called \"work.table2\" with two variables, \"Name\" and \"Height\", and includes five observations.\n"
     ]
    }
   ],
   "source": [
    "answer = azure_openai(\"Can you describe this file in one line?\")\n",
    "print(answer)"
   ]
  },
  {
   "cell_type": "code",
   "execution_count": 10,
   "id": "8de587c0",
   "metadata": {},
   "outputs": [
    {
     "name": "stdout",
     "output_type": "stream",
     "text": [
      "This file is a SAS program that creates a data set called 'work.table2'. The data set contains two variables: Name (character) and Height (numeric). The label statement sets the label of Height to 'Height (in cm)' so that the units are included. The datalines statement is the data that will be entered into the data set; it includes five observations of two variables, Name and Height. Finally, the run statement executes the program and creates the data set.\n"
     ]
    }
   ],
   "source": [
    "answer = azure_openai(\"Can you explain this file?\")\n",
    "print(answer)"
   ]
  },
  {
   "cell_type": "code",
   "execution_count": null,
   "id": "70339441",
   "metadata": {},
   "outputs": [],
   "source": []
  },
  {
   "cell_type": "code",
   "execution_count": 11,
   "id": "f846d82b",
   "metadata": {},
   "outputs": [],
   "source": [
    "code = \"\"\"\n",
    "proc sql;\n",
    "    create table work.left_join_proc_sql as\n",
    "    select t1.name,\n",
    "        t1.weight,\n",
    "        t2.height\n",
    "    from work.table1 t1\n",
    "        left join work.table2 t2\n",
    "        on t1.name = t2.name;\n",
    "quit;\n",
    "\"\"\""
   ]
  },
  {
   "cell_type": "code",
   "execution_count": 12,
   "id": "5be990dc",
   "metadata": {},
   "outputs": [
    {
     "name": "stdout",
     "output_type": "stream",
     "text": [
      "This code creates a table called \"left_join_proc_sql\" that combines data from two tables (\"table1\" and \"table2\") on the common column \"name\".\n"
     ]
    }
   ],
   "source": [
    "answer = azure_openai(\"Can you describe this code in one line?\")\n",
    "print(answer)"
   ]
  },
  {
   "cell_type": "code",
   "execution_count": 13,
   "id": "58fe7727",
   "metadata": {},
   "outputs": [
    {
     "name": "stdout",
     "output_type": "stream",
     "text": [
      "Answer: SAS\n"
     ]
    }
   ],
   "source": [
    "answer = azure_openai(\"What is the programming language?\")\n",
    "print(answer)"
   ]
  },
  {
   "cell_type": "code",
   "execution_count": 14,
   "id": "8bd5b5df",
   "metadata": {},
   "outputs": [
    {
     "name": "stdout",
     "output_type": "stream",
     "text": [
      "import pandas as pd\n",
      "\n",
      "df1 = pd.read_csv('table1.csv')\n",
      "df2 = pd.read_csv('table2.csv')\n",
      "\n",
      "df_left_join = df1.merge(df2, how='left', left_on='name', right_on='name')\n"
     ]
    }
   ],
   "source": [
    "answer = azure_openai(\"Can you convert it into Python?\")\n",
    "print(answer)"
   ]
  },
  {
   "cell_type": "code",
   "execution_count": 15,
   "id": "736e14aa",
   "metadata": {},
   "outputs": [
    {
     "name": "stdout",
     "output_type": "stream",
     "text": [
      "# The above code in R would be:\n",
      "\n",
      "left_join_R <- left_join(x = table1, y = table2, by = \"name\")\n"
     ]
    }
   ],
   "source": [
    "answer = azure_openai(\"Can you convert it into R?\")\n",
    "print(answer)"
   ]
  },
  {
   "cell_type": "code",
   "execution_count": 16,
   "id": "f1816541",
   "metadata": {},
   "outputs": [
    {
     "name": "stdout",
     "output_type": "stream",
     "text": [
      "DATASET DECLARE left_join_proc_sql.\n",
      "\n",
      "* Specifying the names of the variables.\n",
      "VARIABLE NAMES \n",
      "name weight height.\n",
      "\n",
      "* Specifying the data types of the variables.\n",
      "VARIABLE LEVEL\n",
      "name (A20)\n",
      "weight (F8)\n",
      "height (F8).\n",
      "\n",
      "* Assigning labels to the variables.\n",
      "VARIABLE LABELS \n",
      "name 'Name'\n",
      "weight 'Weight (kg)'\n",
      "height 'Height (m)'.\n",
      "\n",
      "* Reading the data from the original tables.\n",
      "GET DATA \n",
      "/TYPE=TXT\n",
      "/FILE='table1.txt'\n",
      "/DELIMITERS=\" \"\n",
      "/ARRANGEMENT=DELIMITED\n",
      "/FIRSTCASE=2\n",
      "/VARIABLES=\n",
      "name (A20)\n",
      "weight (F8).\n",
      "DATASET NAME table1.\n",
      "\n",
      "GET DATA \n",
      "/TYPE=TXT\n",
      "/FILE='table2.txt'\n",
      "/DELIMITERS=\" \"\n",
      "/ARRANGEMENT=DELIMITED\n",
      "/FIRSTCASE=2\n",
      "/VARIABLES=\n",
      "name (A20)\n",
      "height (F8).\n",
      "DATASET NAME table2.\n",
      "\n",
      "* Merging the two tables.\n",
      "MATCH FILES\n",
      "/FILE= *\n",
      "/BY name.\n",
      "EXECUTE.\n",
      "\n",
      "* Saving the merged data in an SPSS dataset.\n",
      "SAVE OUTFILE='left_join_proc_sql.sav'\n",
      "/KEEP name weight height.\n"
     ]
    }
   ],
   "source": [
    "answer = azure_openai(\"Can you convert it into SPSS?\")\n",
    "print(answer)"
   ]
  },
  {
   "cell_type": "code",
   "execution_count": null,
   "id": "96cb0567",
   "metadata": {},
   "outputs": [],
   "source": []
  },
  {
   "cell_type": "code",
   "execution_count": 17,
   "id": "61775882",
   "metadata": {},
   "outputs": [],
   "source": [
    "code = \"\"\"\n",
    "proc print data=work.left_join_proc_sql noobs label;\n",
    "run;\n",
    "\"\"\""
   ]
  },
  {
   "cell_type": "code",
   "execution_count": 18,
   "id": "e6c7063d",
   "metadata": {},
   "outputs": [
    {
     "name": "stdout",
     "output_type": "stream",
     "text": [
      "This is SAS syntax.\n"
     ]
    }
   ],
   "source": [
    "answer = azure_openai(\"What is the programming language?\")\n",
    "print(answer)"
   ]
  },
  {
   "cell_type": "code",
   "execution_count": 19,
   "id": "d127b786",
   "metadata": {},
   "outputs": [
    {
     "name": "stdout",
     "output_type": "stream",
     "text": [
      "This code prints a data set from the \"work.left_join_proc_sql\" table with no observations and labels.\n"
     ]
    }
   ],
   "source": [
    "answer = azure_openai(\"Can you describe this code in one line?\")\n",
    "print(answer)"
   ]
  },
  {
   "cell_type": "code",
   "execution_count": 20,
   "id": "5551899c",
   "metadata": {},
   "outputs": [
    {
     "name": "stdout",
     "output_type": "stream",
     "text": [
      "import pandas as pd\n",
      "data=pd.read_csv('work.left_join_proc_sql')\n",
      "data.info()\n",
      "data.head()\n",
      "data.columns.values\n"
     ]
    }
   ],
   "source": [
    "answer = azure_openai(\"Can you convert it into Python?\")\n",
    "print(answer)"
   ]
  },
  {
   "cell_type": "code",
   "execution_count": null,
   "id": "06489f24",
   "metadata": {},
   "outputs": [],
   "source": []
  },
  {
   "cell_type": "code",
   "execution_count": 21,
   "id": "3556e3ba",
   "metadata": {},
   "outputs": [],
   "source": [
    "code = \"\"\"\n",
    "proc ttest data=sashelp.fish (where=(Species = \"Bream\"))\n",
    "    alpha=0.05;\n",
    "    var weight;\n",
    "run;\n",
    "\"\"\""
   ]
  },
  {
   "cell_type": "code",
   "execution_count": 22,
   "id": "34da214d",
   "metadata": {},
   "outputs": [
    {
     "name": "stdout",
     "output_type": "stream",
     "text": [
      "This code is written in SAS (Statistical Analysis System) programming language.\n"
     ]
    }
   ],
   "source": [
    "answer = azure_openai(\"What is the programming language?\")\n",
    "print(answer)"
   ]
  },
  {
   "cell_type": "code",
   "execution_count": 23,
   "id": "b994893c",
   "metadata": {},
   "outputs": [
    {
     "name": "stdout",
     "output_type": "stream",
     "text": [
      "The SAS procedure used in this example is PROC TTEST.\n"
     ]
    }
   ],
   "source": [
    "answer = azure_openai(\"What is the SAS Procedure used?\")\n",
    "print(answer)"
   ]
  },
  {
   "cell_type": "code",
   "execution_count": 24,
   "id": "f4b29e0c",
   "metadata": {},
   "outputs": [
    {
     "name": "stdout",
     "output_type": "stream",
     "text": [
      "The TTEST procedure is a statistical procedure available in SAS that can be used to compare the means of two populations. It can also be used to compare the means of one population against a given constant value. In the example above, the TTEST procedure is used to compare the mean weight of Bream fish from the SAS Help Fish dataset. The argument \"alpha=0.05\" indicates that the significance level for the test is 0.05.\n"
     ]
    }
   ],
   "source": [
    "answer = azure_openai(\"What is the TTEST procedure?\")\n",
    "print(answer)"
   ]
  },
  {
   "cell_type": "code",
   "execution_count": 25,
   "id": "78d698a9",
   "metadata": {},
   "outputs": [
    {
     "name": "stdout",
     "output_type": "stream",
     "text": [
      "This code runs a t-test on the variable \"weight\" in the dataset \"sashelp.fish\" using an alpha of 0.05, with the subset being fish of species \"Bream\".\n"
     ]
    }
   ],
   "source": [
    "answer = azure_openai(\"Can you describe this code in one line?\")\n",
    "print(answer)"
   ]
  },
  {
   "cell_type": "code",
   "execution_count": 26,
   "id": "9765fd03",
   "metadata": {},
   "outputs": [
    {
     "name": "stdout",
     "output_type": "stream",
     "text": [
      "import pandas as pd\n",
      "import scipy.stats as stats\n",
      "\n",
      "# Read in the data\n",
      "df = pd.read_sas('sashelp.fish')\n",
      "\n",
      "# Filter for only Bream\n",
      "bream_df = df.loc[df['Species'] == 'Bream']\n",
      "\n",
      "# Run the t-test\n",
      "stats.ttest_1samp(bream_df['Weight'], 0, alpha=0.05)\n"
     ]
    }
   ],
   "source": [
    "answer = azure_openai(\"Can you convert it into Python?\")\n",
    "print(answer)"
   ]
  },
  {
   "cell_type": "code",
   "execution_count": null,
   "id": "0034dfbf",
   "metadata": {},
   "outputs": [],
   "source": []
  },
  {
   "cell_type": "code",
   "execution_count": 27,
   "id": "15a3836e",
   "metadata": {},
   "outputs": [],
   "source": [
    "code = \"\"\"\n",
    "proc sort data=sashelp.fish\n",
    "    out=work.fish (where=(Species in (\"Bream\" \"Parkki\"))\n",
    "    keep=Species Weight);\n",
    "    by Species;\n",
    "run;\n",
    "\"\"\""
   ]
  },
  {
   "cell_type": "code",
   "execution_count": 28,
   "id": "41d4039f",
   "metadata": {},
   "outputs": [
    {
     "name": "stdout",
     "output_type": "stream",
     "text": [
      "The SAS procedure used is PROC SORT.\n"
     ]
    }
   ],
   "source": [
    "answer = azure_openai(\"What is the SAS Procedure used?\")\n",
    "print(answer)"
   ]
  },
  {
   "cell_type": "code",
   "execution_count": 29,
   "id": "4a254b53",
   "metadata": {},
   "outputs": [
    {
     "name": "stdout",
     "output_type": "stream",
     "text": [
      "The SORT procedure is a SAS procedure that is used to sort data from a SAS dataset into an output dataset. It rearranges the order of observations in a SAS dataset and sorts them by one or more variables. The SORT procedure can be used to sort data into an existing dataset or to create a new dataset. The syntax for the SORT procedure includes the \"data\" statement, which specifies the dataset to be sorted; the \"out\" statement, which specifies the output dataset; the \"where\" statement, which specifies which observations should be selected; and the \"by\" statement, which specifies the variable or variables by which the data should be sorted.\n"
     ]
    }
   ],
   "source": [
    "answer = azure_openai(\"What is the SORT procedure?\")\n",
    "print(answer)"
   ]
  },
  {
   "cell_type": "code",
   "execution_count": 30,
   "id": "4f4381e7",
   "metadata": {},
   "outputs": [
    {
     "name": "stdout",
     "output_type": "stream",
     "text": [
      "This code sorts the SAS dataset 'sashelp.fish' and creates a new dataset 'work.fish' with only the 'Species' and 'Weight' variables for the 'Bream' and 'Parkki' species.\n"
     ]
    }
   ],
   "source": [
    "answer = azure_openai(\"Can you describe this code in one line?\")\n",
    "print(answer)"
   ]
  },
  {
   "cell_type": "code",
   "execution_count": 31,
   "id": "70be3829",
   "metadata": {},
   "outputs": [
    {
     "name": "stdout",
     "output_type": "stream",
     "text": [
      "import pandas as pd \n",
      "\n",
      "fish_data = pd.read_sas('sashelp.fish')\n",
      "\n",
      "filtered_fish_data = fish_data[fish_data['Species'].isin([\"Bream\", \"Parkki\"])][[\"Species\", \"Weight\"]]\n",
      "\n",
      "sorted_fish_data = filtered_fish_data.sort_values('Species')\n",
      "\n",
      "sorted_fish_data.to_csv('work.fish')\n"
     ]
    }
   ],
   "source": [
    "answer = azure_openai(\"Can you convert it into Python?\")\n",
    "print(answer)"
   ]
  },
  {
   "cell_type": "code",
   "execution_count": null,
   "id": "db1e22ad",
   "metadata": {},
   "outputs": [],
   "source": []
  }
 ],
 "metadata": {
  "kernelspec": {
   "display_name": "Python 3.10 - SDK v2",
   "language": "python",
   "name": "python310-sdkv2"
  },
  "language_info": {
   "codemirror_mode": {
    "name": "ipython",
    "version": 3
   },
   "file_extension": ".py",
   "mimetype": "text/x-python",
   "name": "python",
   "nbconvert_exporter": "python",
   "pygments_lexer": "ipython3",
   "version": "3.10.10"
  }
 },
 "nbformat": 4,
 "nbformat_minor": 5
}
