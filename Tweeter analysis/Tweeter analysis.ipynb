{
 "cells": [
  {
   "cell_type": "markdown",
   "id": "dcec785b",
   "metadata": {},
   "source": [
    "# Tweeter analysis\n",
    "\n",
    "> Data available from: https://www.kaggle.com/datasets/kazanova/sentiment140"
   ]
  },
  {
   "cell_type": "code",
   "execution_count": 1,
   "id": "052ec183",
   "metadata": {},
   "outputs": [],
   "source": [
    "import datetime\n",
    "import matplotlib.pyplot as plt\n",
    "import openai\n",
    "import os\n",
    "import pandas as pd\n",
    "import seaborn as sns\n",
    "import sys\n",
    "\n",
    "from dotenv import load_dotenv\n",
    "from tqdm import tqdm"
   ]
  },
  {
   "cell_type": "code",
   "execution_count": 2,
   "id": "87c6900b",
   "metadata": {},
   "outputs": [
    {
     "name": "stdout",
     "output_type": "stream",
     "text": [
      "Open AI version: 0.28.1\n"
     ]
    }
   ],
   "source": [
    "load_dotenv(\"azure.env\")\n",
    "\n",
    "# Azure Open AI\n",
    "openai.api_type: str = \"azure\"\n",
    "openai.api_key = os.getenv(\"OPENAI_API_KEY\")\n",
    "openai.api_base = os.getenv(\"OPENAI_API_BASE\")\n",
    "openai.api_version = os.getenv(\"OPENAI_API_VERSION\")\n",
    "\n",
    "print(\"Open AI version:\", openai.__version__)"
   ]
  },
  {
   "cell_type": "code",
   "execution_count": 3,
   "id": "716436c3",
   "metadata": {},
   "outputs": [
    {
     "name": "stdout",
     "output_type": "stream",
     "text": [
      "Today is: 12-Oct-2023 14:53:27\n"
     ]
    }
   ],
   "source": [
    "print(\"Today is:\", datetime.datetime.today().strftime(\"%d-%b-%Y %H:%M:%S\"))"
   ]
  },
  {
   "cell_type": "code",
   "execution_count": 4,
   "id": "0c6c498d",
   "metadata": {},
   "outputs": [
    {
     "data": {
      "text/plain": [
       "'3.10.10 (main, Mar 21 2023, 18:45:11) [GCC 11.2.0]'"
      ]
     },
     "execution_count": 4,
     "metadata": {},
     "output_type": "execute_result"
    }
   ],
   "source": [
    "sys.version"
   ]
  },
  {
   "cell_type": "markdown",
   "id": "b5583f06",
   "metadata": {},
   "source": [
    "## Dataset"
   ]
  },
  {
   "cell_type": "code",
   "execution_count": 5,
   "id": "122a6c4d",
   "metadata": {},
   "outputs": [],
   "source": [
    "nRowsRead = 300  # specify 'None' if want to read whole file\n",
    "\n",
    "column_names = [\n",
    "    \"col1\",\n",
    "    \"id\",\n",
    "    \"datetime\",\n",
    "    \"query\",\n",
    "    \"user\",\n",
    "    \"text\",\n",
    "]  # Replace with the actual column names\n",
    "\n",
    "df = pd.read_csv(\n",
    "    \"training.1600000.processed.noemoticon.csv\",\n",
    "    nrows=nRowsRead,\n",
    "    header=None,\n",
    "    names=column_names,\n",
    ")"
   ]
  },
  {
   "cell_type": "code",
   "execution_count": 6,
   "id": "caf601ae",
   "metadata": {},
   "outputs": [],
   "source": [
    "df = df.drop(\"col1\", axis=1)\n",
    "df = df.drop(\"query\", axis=1)"
   ]
  },
  {
   "cell_type": "code",
   "execution_count": 7,
   "id": "38021319",
   "metadata": {},
   "outputs": [],
   "source": [
    "df[\"date\"] = pd.to_datetime(df[\"datetime\"], format=\"mixed\")\n",
    "df = df.drop(\"datetime\", axis=1)"
   ]
  },
  {
   "cell_type": "code",
   "execution_count": 8,
   "id": "cc0e67a0",
   "metadata": {},
   "outputs": [
    {
     "data": {
      "text/html": [
       "<div>\n",
       "<style scoped>\n",
       "    .dataframe tbody tr th:only-of-type {\n",
       "        vertical-align: middle;\n",
       "    }\n",
       "\n",
       "    .dataframe tbody tr th {\n",
       "        vertical-align: top;\n",
       "    }\n",
       "\n",
       "    .dataframe thead th {\n",
       "        text-align: right;\n",
       "    }\n",
       "</style>\n",
       "<table border=\"1\" class=\"dataframe\">\n",
       "  <thead>\n",
       "    <tr style=\"text-align: right;\">\n",
       "      <th></th>\n",
       "      <th>id</th>\n",
       "      <th>user</th>\n",
       "      <th>text</th>\n",
       "      <th>date</th>\n",
       "    </tr>\n",
       "  </thead>\n",
       "  <tbody>\n",
       "    <tr>\n",
       "      <th>0</th>\n",
       "      <td>1467810369</td>\n",
       "      <td>_TheSpecialOne_</td>\n",
       "      <td>@switchfoot http://twitpic.com/2y1zl - Awww, t...</td>\n",
       "      <td>2009-04-06 22:19:45</td>\n",
       "    </tr>\n",
       "    <tr>\n",
       "      <th>1</th>\n",
       "      <td>1467810672</td>\n",
       "      <td>scotthamilton</td>\n",
       "      <td>is upset that he can't update his Facebook by ...</td>\n",
       "      <td>2009-04-06 22:19:49</td>\n",
       "    </tr>\n",
       "    <tr>\n",
       "      <th>2</th>\n",
       "      <td>1467810917</td>\n",
       "      <td>mattycus</td>\n",
       "      <td>@Kenichan I dived many times for the ball. Man...</td>\n",
       "      <td>2009-04-06 22:19:53</td>\n",
       "    </tr>\n",
       "    <tr>\n",
       "      <th>3</th>\n",
       "      <td>1467811184</td>\n",
       "      <td>ElleCTF</td>\n",
       "      <td>my whole body feels itchy and like its on fire</td>\n",
       "      <td>2009-04-06 22:19:57</td>\n",
       "    </tr>\n",
       "    <tr>\n",
       "      <th>4</th>\n",
       "      <td>1467811193</td>\n",
       "      <td>Karoli</td>\n",
       "      <td>@nationwideclass no, it's not behaving at all....</td>\n",
       "      <td>2009-04-06 22:19:57</td>\n",
       "    </tr>\n",
       "    <tr>\n",
       "      <th>...</th>\n",
       "      <td>...</td>\n",
       "      <td>...</td>\n",
       "      <td>...</td>\n",
       "      <td>...</td>\n",
       "    </tr>\n",
       "    <tr>\n",
       "      <th>295</th>\n",
       "      <td>1467889251</td>\n",
       "      <td>krissivee</td>\n",
       "      <td>@aaronrva is in the bathroom and i have to pee...</td>\n",
       "      <td>2009-04-06 22:40:24</td>\n",
       "    </tr>\n",
       "    <tr>\n",
       "      <th>296</th>\n",
       "      <td>1467889334</td>\n",
       "      <td>Angela004</td>\n",
       "      <td>@ashleyskyy but I wanted a margarita too!</td>\n",
       "      <td>2009-04-06 22:40:26</td>\n",
       "    </tr>\n",
       "    <tr>\n",
       "      <th>297</th>\n",
       "      <td>1467889574</td>\n",
       "      <td>Nrose09</td>\n",
       "      <td>@KourtneyKardash yup night workouts r the wors...</td>\n",
       "      <td>2009-04-06 22:40:30</td>\n",
       "    </tr>\n",
       "    <tr>\n",
       "      <th>298</th>\n",
       "      <td>1467889791</td>\n",
       "      <td>jennhelvering</td>\n",
       "      <td>Just called Hillsong again - they said they co...</td>\n",
       "      <td>2009-04-06 22:40:33</td>\n",
       "    </tr>\n",
       "    <tr>\n",
       "      <th>299</th>\n",
       "      <td>1467889988</td>\n",
       "      <td>FeedMeTrance</td>\n",
       "      <td>has 0g of milky bar left, and around 200ml of ...</td>\n",
       "      <td>2009-04-06 22:40:36</td>\n",
       "    </tr>\n",
       "  </tbody>\n",
       "</table>\n",
       "<p>300 rows × 4 columns</p>\n",
       "</div>"
      ],
      "text/plain": [
       "             id             user   \n",
       "0    1467810369  _TheSpecialOne_  \\\n",
       "1    1467810672    scotthamilton   \n",
       "2    1467810917         mattycus   \n",
       "3    1467811184          ElleCTF   \n",
       "4    1467811193           Karoli   \n",
       "..          ...              ...   \n",
       "295  1467889251        krissivee   \n",
       "296  1467889334        Angela004   \n",
       "297  1467889574          Nrose09   \n",
       "298  1467889791    jennhelvering   \n",
       "299  1467889988     FeedMeTrance   \n",
       "\n",
       "                                                  text                date  \n",
       "0    @switchfoot http://twitpic.com/2y1zl - Awww, t... 2009-04-06 22:19:45  \n",
       "1    is upset that he can't update his Facebook by ... 2009-04-06 22:19:49  \n",
       "2    @Kenichan I dived many times for the ball. Man... 2009-04-06 22:19:53  \n",
       "3      my whole body feels itchy and like its on fire  2009-04-06 22:19:57  \n",
       "4    @nationwideclass no, it's not behaving at all.... 2009-04-06 22:19:57  \n",
       "..                                                 ...                 ...  \n",
       "295  @aaronrva is in the bathroom and i have to pee... 2009-04-06 22:40:24  \n",
       "296         @ashleyskyy but I wanted a margarita too!  2009-04-06 22:40:26  \n",
       "297  @KourtneyKardash yup night workouts r the wors... 2009-04-06 22:40:30  \n",
       "298  Just called Hillsong again - they said they co... 2009-04-06 22:40:33  \n",
       "299  has 0g of milky bar left, and around 200ml of ... 2009-04-06 22:40:36  \n",
       "\n",
       "[300 rows x 4 columns]"
      ]
     },
     "execution_count": 8,
     "metadata": {},
     "output_type": "execute_result"
    }
   ],
   "source": [
    "df"
   ]
  },
  {
   "cell_type": "code",
   "execution_count": 9,
   "id": "f9c4624b",
   "metadata": {},
   "outputs": [],
   "source": [
    "def get_sentiment(text):\n",
    "    \"\"\"\n",
    "    Sentiment analysis with Azure Open AI\n",
    "    \"\"\"\n",
    "\n",
    "    prompt = \"\"\"Classify the sentiment of the following tweet as positive, negative, or neutral. \n",
    "    text: {}\n",
    "    sentiment: \"\"\".format(\n",
    "        text\n",
    "    )\n",
    "\n",
    "    response = openai.Completion.create(\n",
    "        engine=\"text-davinci-003\",\n",
    "        prompt=prompt,\n",
    "        max_tokens=15,\n",
    "        temperature=0,\n",
    "    )\n",
    "\n",
    "    sentiment = response[\"choices\"][0][\"text\"].replace(\" \", \"\")\n",
    "\n",
    "    return sentiment"
   ]
  },
  {
   "cell_type": "code",
   "execution_count": 10,
   "id": "4d59a167",
   "metadata": {},
   "outputs": [
    {
     "data": {
      "text/plain": [
       "'Neutral'"
      ]
     },
     "execution_count": 10,
     "metadata": {},
     "output_type": "execute_result"
    }
   ],
   "source": [
    "get_sentiment(\"Hello\")"
   ]
  },
  {
   "cell_type": "code",
   "execution_count": 11,
   "id": "04a70d79",
   "metadata": {},
   "outputs": [
    {
     "data": {
      "text/plain": [
       "'Positive'"
      ]
     },
     "execution_count": 11,
     "metadata": {},
     "output_type": "execute_result"
    }
   ],
   "source": [
    "get_sentiment(\"Azure Open AI is great\")"
   ]
  },
  {
   "cell_type": "code",
   "execution_count": 12,
   "id": "f48edb30",
   "metadata": {},
   "outputs": [
    {
     "data": {
      "text/plain": [
       "'Negative'"
      ]
     },
     "execution_count": 12,
     "metadata": {},
     "output_type": "execute_result"
    }
   ],
   "source": [
    "get_sentiment(\"I am not happy about the hotel\")"
   ]
  },
  {
   "cell_type": "markdown",
   "id": "e75a73fc",
   "metadata": {},
   "source": [
    "## Getting the sentiment on all text from the df"
   ]
  },
  {
   "cell_type": "code",
   "execution_count": 13,
   "id": "0001abca",
   "metadata": {},
   "outputs": [
    {
     "name": "stderr",
     "output_type": "stream",
     "text": [
      "100%|██████████| 300/300 [01:51<00:00,  2.69it/s]\n"
     ]
    }
   ],
   "source": [
    "tqdm.pandas()\n",
    "\n",
    "try:\n",
    "    df[\"sentiment\"] = df[\"text\"].progress_apply(get_sentiment)\n",
    "\n",
    "except:\n",
    "    pass"
   ]
  },
  {
   "cell_type": "code",
   "execution_count": 14,
   "id": "e27a2c71",
   "metadata": {},
   "outputs": [
    {
     "data": {
      "text/html": [
       "<div>\n",
       "<style scoped>\n",
       "    .dataframe tbody tr th:only-of-type {\n",
       "        vertical-align: middle;\n",
       "    }\n",
       "\n",
       "    .dataframe tbody tr th {\n",
       "        vertical-align: top;\n",
       "    }\n",
       "\n",
       "    .dataframe thead th {\n",
       "        text-align: right;\n",
       "    }\n",
       "</style>\n",
       "<table border=\"1\" class=\"dataframe\">\n",
       "  <thead>\n",
       "    <tr style=\"text-align: right;\">\n",
       "      <th></th>\n",
       "      <th>id</th>\n",
       "      <th>user</th>\n",
       "      <th>text</th>\n",
       "      <th>date</th>\n",
       "      <th>sentiment</th>\n",
       "    </tr>\n",
       "  </thead>\n",
       "  <tbody>\n",
       "    <tr>\n",
       "      <th>0</th>\n",
       "      <td>1467810369</td>\n",
       "      <td>_TheSpecialOne_</td>\n",
       "      <td>@switchfoot http://twitpic.com/2y1zl - Awww, t...</td>\n",
       "      <td>2009-04-06 22:19:45</td>\n",
       "      <td>Neutral</td>\n",
       "    </tr>\n",
       "    <tr>\n",
       "      <th>1</th>\n",
       "      <td>1467810672</td>\n",
       "      <td>scotthamilton</td>\n",
       "      <td>is upset that he can't update his Facebook by ...</td>\n",
       "      <td>2009-04-06 22:19:49</td>\n",
       "      <td>Negative</td>\n",
       "    </tr>\n",
       "    <tr>\n",
       "      <th>2</th>\n",
       "      <td>1467810917</td>\n",
       "      <td>mattycus</td>\n",
       "      <td>@Kenichan I dived many times for the ball. Man...</td>\n",
       "      <td>2009-04-06 22:19:53</td>\n",
       "      <td>Neutral</td>\n",
       "    </tr>\n",
       "    <tr>\n",
       "      <th>3</th>\n",
       "      <td>1467811184</td>\n",
       "      <td>ElleCTF</td>\n",
       "      <td>my whole body feels itchy and like its on fire</td>\n",
       "      <td>2009-04-06 22:19:57</td>\n",
       "      <td>Negative</td>\n",
       "    </tr>\n",
       "    <tr>\n",
       "      <th>4</th>\n",
       "      <td>1467811193</td>\n",
       "      <td>Karoli</td>\n",
       "      <td>@nationwideclass no, it's not behaving at all....</td>\n",
       "      <td>2009-04-06 22:19:57</td>\n",
       "      <td>Negative</td>\n",
       "    </tr>\n",
       "  </tbody>\n",
       "</table>\n",
       "</div>"
      ],
      "text/plain": [
       "           id             user   \n",
       "0  1467810369  _TheSpecialOne_  \\\n",
       "1  1467810672    scotthamilton   \n",
       "2  1467810917         mattycus   \n",
       "3  1467811184          ElleCTF   \n",
       "4  1467811193           Karoli   \n",
       "\n",
       "                                                text                date   \n",
       "0  @switchfoot http://twitpic.com/2y1zl - Awww, t... 2009-04-06 22:19:45  \\\n",
       "1  is upset that he can't update his Facebook by ... 2009-04-06 22:19:49   \n",
       "2  @Kenichan I dived many times for the ball. Man... 2009-04-06 22:19:53   \n",
       "3    my whole body feels itchy and like its on fire  2009-04-06 22:19:57   \n",
       "4  @nationwideclass no, it's not behaving at all.... 2009-04-06 22:19:57   \n",
       "\n",
       "  sentiment  \n",
       "0   Neutral  \n",
       "1  Negative  \n",
       "2   Neutral  \n",
       "3  Negative  \n",
       "4  Negative  "
      ]
     },
     "execution_count": 14,
     "metadata": {},
     "output_type": "execute_result"
    }
   ],
   "source": [
    "df.head()"
   ]
  },
  {
   "cell_type": "code",
   "execution_count": 15,
   "id": "0b824ed1",
   "metadata": {},
   "outputs": [
    {
     "data": {
      "text/plain": [
       "(300, 5)"
      ]
     },
     "execution_count": 15,
     "metadata": {},
     "output_type": "execute_result"
    }
   ],
   "source": [
    "df.shape"
   ]
  },
  {
   "cell_type": "code",
   "execution_count": 16,
   "id": "1af4fb40",
   "metadata": {},
   "outputs": [
    {
     "data": {
      "text/plain": [
       "user\n",
       "Dogbook           2\n",
       "gregcronin        2\n",
       "Artiel87          2\n",
       "AmyJade           2\n",
       "treehugger25      2\n",
       "                 ..\n",
       "wireandroses      1\n",
       "jess_higley       1\n",
       "missannabanana    1\n",
       "Zella17           1\n",
       "FeedMeTrance      1\n",
       "Name: count, Length: 291, dtype: int64"
      ]
     },
     "execution_count": 16,
     "metadata": {},
     "output_type": "execute_result"
    }
   ],
   "source": [
    "df[\"user\"].value_counts(sort=True)"
   ]
  },
  {
   "cell_type": "code",
   "execution_count": 17,
   "id": "d6ee77ec",
   "metadata": {},
   "outputs": [
    {
     "data": {
      "text/plain": [
       "<Axes: xlabel='sentiment'>"
      ]
     },
     "execution_count": 17,
     "metadata": {},
     "output_type": "execute_result"
    },
    {
     "data": {
      "image/png": "[encoded data removed]",
      "text/plain": [
       "<Figure size 640x480 with 1 Axes>"
      ]
     },
     "metadata": {},
     "output_type": "display_data"
    }
   ],
   "source": [
    "df[\"sentiment\"].value_counts(sort=True).plot.bar()"
   ]
  },
  {
   "cell_type": "code",
   "execution_count": 18,
   "id": "526dd89b",
   "metadata": {},
   "outputs": [
    {
     "name": "stdout",
     "output_type": "stream",
     "text": [
      "0  -  @iamjazzyfizzle I wish I got to watch it with you!! I miss you and @iamlilnicki  how was the premiere?!\n",
      "1  -  @LettyA ahh ive always wanted to see rent  love the soundtrack!!\n",
      "2  -  @julieebaby awe i love you too!!!! 1 am here  i miss you\n",
      "3  -  just leaving the parking lot of work! \n",
      "4  -  @katortiz  Not forever... See you soon!\n",
      "5  -  @ninjen I'm sure you're right...    I need to start working out with you and the Nikster... Or Jared at least!\n",
      "6  -  @statravelAU just got ur newsletter, those fares really are unbelievable, shame I already booked and paid for mine \n",
      "7  -  @januarycrimson Sorry, babe!!  My fam annoys me too. Thankfully, they're asleep right now. Muahaha. *evil laugh*\n",
      "8  -  wednesday my b-day! don't know what 2 do!! \n",
      "9  -  Strider is a sick little puppy  http://apps.facebook.com/dogbook/profile/view/5248435\n"
     ]
    }
   ],
   "source": [
    "positive_tweets = df[df[\"sentiment\"] == \"Positive\"]\n",
    "\n",
    "for i, pos in enumerate(positive_tweets[\"text\"][:10]):  # Limit to the first 10 items\n",
    "    print(i, \" - \", pos)"
   ]
  },
  {
   "cell_type": "code",
   "execution_count": 19,
   "id": "8c129daf",
   "metadata": {},
   "outputs": [
    {
     "name": "stdout",
     "output_type": "stream",
     "text": [
      "0  -  is upset that he can't update his Facebook by texting it... and might cry as a result  School today also. Blah!\n",
      "1  -  my whole body feels itchy and like its on fire \n",
      "2  -  @nationwideclass no, it's not behaving at all. i'm mad. why am i here? because I can't see you all over there. \n",
      "3  -  @Tatiana_K nope they didn't have it \n",
      "4  -  @caregiving I couldn't bear to watch it.  And I thought the UA loss was embarrassing . . . . .\n",
      "5  -  @smarrison i would've been the first, but i didn't have a gun.    not really though, zac snyder's just a doucheclown.\n",
      "6  -  this week is not going as i had hoped \n",
      "7  -  I hate when I have to call and wake people up \n",
      "8  -  Just going to cry myself to sleep after watching Marley and Me.  \n",
      "9  -  im sad now  Miss.Lilly\n"
     ]
    }
   ],
   "source": [
    "negative_tweets = df[df[\"sentiment\"] == \"Negative\"]\n",
    "\n",
    "for i, pos in enumerate(negative_tweets[\"text\"][:10]):  # Limit to the first 10 items\n",
    "    print(i, \" - \", pos)"
   ]
  },
  {
   "cell_type": "code",
   "execution_count": 20,
   "id": "49d2f6ea",
   "metadata": {},
   "outputs": [
    {
     "name": "stdout",
     "output_type": "stream",
     "text": [
      "0  -  @switchfoot http://twitpic.com/2y1zl - Awww, that's a bummer.  You shoulda got David Carr of Third Day to do it. ;D\n",
      "1  -  @Kenichan I dived many times for the ball. Managed to save 50%  The rest go out of bounds\n",
      "2  -  @Kwesidei not the whole crew \n",
      "3  -  Need a hug \n",
      "4  -  @LOLTrish hey  long time no see! Yes.. Rains a bit ,only a bit  LOL , I'm fine thanks , how's you ?\n",
      "5  -  @twittera que me muera ? \n",
      "6  -  spring break in plain city... it's snowing \n",
      "7  -  I just re-pierced my ears \n",
      "8  -  @octolinz16 It it counts, idk why I did either. you never talk to me anymore \n",
      "9  -  Hollis' death scene will hurt me severely to watch on film  wry is directors cut not out now?\n"
     ]
    }
   ],
   "source": [
    "neutral_tweets = df[df[\"sentiment\"] == \"Neutral\"]\n",
    "\n",
    "for i, pos in enumerate(neutral_tweets[\"text\"][:10]):  # Limit to the first 10 items\n",
    "    print(i, \" - \", pos)"
   ]
  },
  {
   "cell_type": "code",
   "execution_count": 21,
   "id": "05127609",
   "metadata": {},
   "outputs": [
    {
     "data": {
      "text/html": [
       "<div>\n",
       "<style scoped>\n",
       "    .dataframe tbody tr th:only-of-type {\n",
       "        vertical-align: middle;\n",
       "    }\n",
       "\n",
       "    .dataframe tbody tr th {\n",
       "        vertical-align: top;\n",
       "    }\n",
       "\n",
       "    .dataframe thead th {\n",
       "        text-align: right;\n",
       "    }\n",
       "</style>\n",
       "<table border=\"1\" class=\"dataframe\">\n",
       "  <thead>\n",
       "    <tr style=\"text-align: right;\">\n",
       "      <th></th>\n",
       "      <th>id</th>\n",
       "      <th>user</th>\n",
       "      <th>text</th>\n",
       "      <th>date</th>\n",
       "      <th>sentiment</th>\n",
       "      <th>positive_sent</th>\n",
       "      <th>negative_sent</th>\n",
       "      <th>neutral_sent</th>\n",
       "    </tr>\n",
       "  </thead>\n",
       "  <tbody>\n",
       "    <tr>\n",
       "      <th>0</th>\n",
       "      <td>1467810369</td>\n",
       "      <td>_TheSpecialOne_</td>\n",
       "      <td>@switchfoot http://twitpic.com/2y1zl - Awww, t...</td>\n",
       "      <td>2009-04-06 22:19:45</td>\n",
       "      <td>Neutral</td>\n",
       "      <td>0</td>\n",
       "      <td>0</td>\n",
       "      <td>1</td>\n",
       "    </tr>\n",
       "    <tr>\n",
       "      <th>1</th>\n",
       "      <td>1467810672</td>\n",
       "      <td>scotthamilton</td>\n",
       "      <td>is upset that he can't update his Facebook by ...</td>\n",
       "      <td>2009-04-06 22:19:49</td>\n",
       "      <td>Negative</td>\n",
       "      <td>0</td>\n",
       "      <td>1</td>\n",
       "      <td>1</td>\n",
       "    </tr>\n",
       "    <tr>\n",
       "      <th>2</th>\n",
       "      <td>1467810917</td>\n",
       "      <td>mattycus</td>\n",
       "      <td>@Kenichan I dived many times for the ball. Man...</td>\n",
       "      <td>2009-04-06 22:19:53</td>\n",
       "      <td>Neutral</td>\n",
       "      <td>0</td>\n",
       "      <td>1</td>\n",
       "      <td>2</td>\n",
       "    </tr>\n",
       "    <tr>\n",
       "      <th>3</th>\n",
       "      <td>1467811184</td>\n",
       "      <td>ElleCTF</td>\n",
       "      <td>my whole body feels itchy and like its on fire</td>\n",
       "      <td>2009-04-06 22:19:57</td>\n",
       "      <td>Negative</td>\n",
       "      <td>0</td>\n",
       "      <td>2</td>\n",
       "      <td>2</td>\n",
       "    </tr>\n",
       "    <tr>\n",
       "      <th>4</th>\n",
       "      <td>1467811193</td>\n",
       "      <td>Karoli</td>\n",
       "      <td>@nationwideclass no, it's not behaving at all....</td>\n",
       "      <td>2009-04-06 22:19:57</td>\n",
       "      <td>Negative</td>\n",
       "      <td>0</td>\n",
       "      <td>3</td>\n",
       "      <td>2</td>\n",
       "    </tr>\n",
       "  </tbody>\n",
       "</table>\n",
       "</div>"
      ],
      "text/plain": [
       "           id             user   \n",
       "0  1467810369  _TheSpecialOne_  \\\n",
       "1  1467810672    scotthamilton   \n",
       "2  1467810917         mattycus   \n",
       "3  1467811184          ElleCTF   \n",
       "4  1467811193           Karoli   \n",
       "\n",
       "                                                text                date   \n",
       "0  @switchfoot http://twitpic.com/2y1zl - Awww, t... 2009-04-06 22:19:45  \\\n",
       "1  is upset that he can't update his Facebook by ... 2009-04-06 22:19:49   \n",
       "2  @Kenichan I dived many times for the ball. Man... 2009-04-06 22:19:53   \n",
       "3    my whole body feels itchy and like its on fire  2009-04-06 22:19:57   \n",
       "4  @nationwideclass no, it's not behaving at all.... 2009-04-06 22:19:57   \n",
       "\n",
       "  sentiment  positive_sent  negative_sent  neutral_sent  \n",
       "0   Neutral              0              0             1  \n",
       "1  Negative              0              1             1  \n",
       "2   Neutral              0              1             2  \n",
       "3  Negative              0              2             2  \n",
       "4  Negative              0              3             2  "
      ]
     },
     "execution_count": 21,
     "metadata": {},
     "output_type": "execute_result"
    }
   ],
   "source": [
    "df[\"positive_sent\"] = (df[\"sentiment\"] == \"Positive\").cumsum()\n",
    "df[\"negative_sent\"] = (df[\"sentiment\"] == \"Negative\").cumsum()\n",
    "df[\"neutral_sent\"] = (df[\"sentiment\"] == \"Neutral\").cumsum()\n",
    "\n",
    "df.head()"
   ]
  },
  {
   "cell_type": "code",
   "execution_count": 22,
   "id": "70f47e50",
   "metadata": {},
   "outputs": [
    {
     "data": {
      "text/html": [
       "<div>\n",
       "<style scoped>\n",
       "    .dataframe tbody tr th:only-of-type {\n",
       "        vertical-align: middle;\n",
       "    }\n",
       "\n",
       "    .dataframe tbody tr th {\n",
       "        vertical-align: top;\n",
       "    }\n",
       "\n",
       "    .dataframe thead th {\n",
       "        text-align: right;\n",
       "    }\n",
       "</style>\n",
       "<table border=\"1\" class=\"dataframe\">\n",
       "  <thead>\n",
       "    <tr style=\"text-align: right;\">\n",
       "      <th></th>\n",
       "      <th>id</th>\n",
       "      <th>user</th>\n",
       "      <th>text</th>\n",
       "      <th>date</th>\n",
       "      <th>sentiment</th>\n",
       "      <th>positive_sent</th>\n",
       "      <th>negative_sent</th>\n",
       "      <th>neutral_sent</th>\n",
       "    </tr>\n",
       "  </thead>\n",
       "  <tbody>\n",
       "    <tr>\n",
       "      <th>0</th>\n",
       "      <td>1467810369</td>\n",
       "      <td>_TheSpecialOne_</td>\n",
       "      <td>@switchfoot http://twitpic.com/2y1zl - Awww, t...</td>\n",
       "      <td>2009-04-06 22:19:45</td>\n",
       "      <td>Neutral</td>\n",
       "      <td>0.0</td>\n",
       "      <td>0.000000</td>\n",
       "      <td>100.000000</td>\n",
       "    </tr>\n",
       "    <tr>\n",
       "      <th>1</th>\n",
       "      <td>1467810672</td>\n",
       "      <td>scotthamilton</td>\n",
       "      <td>is upset that he can't update his Facebook by ...</td>\n",
       "      <td>2009-04-06 22:19:49</td>\n",
       "      <td>Negative</td>\n",
       "      <td>0.0</td>\n",
       "      <td>50.000000</td>\n",
       "      <td>50.000000</td>\n",
       "    </tr>\n",
       "    <tr>\n",
       "      <th>2</th>\n",
       "      <td>1467810917</td>\n",
       "      <td>mattycus</td>\n",
       "      <td>@Kenichan I dived many times for the ball. Man...</td>\n",
       "      <td>2009-04-06 22:19:53</td>\n",
       "      <td>Neutral</td>\n",
       "      <td>0.0</td>\n",
       "      <td>33.333333</td>\n",
       "      <td>66.666667</td>\n",
       "    </tr>\n",
       "    <tr>\n",
       "      <th>3</th>\n",
       "      <td>1467811184</td>\n",
       "      <td>ElleCTF</td>\n",
       "      <td>my whole body feels itchy and like its on fire</td>\n",
       "      <td>2009-04-06 22:19:57</td>\n",
       "      <td>Negative</td>\n",
       "      <td>0.0</td>\n",
       "      <td>50.000000</td>\n",
       "      <td>50.000000</td>\n",
       "    </tr>\n",
       "    <tr>\n",
       "      <th>4</th>\n",
       "      <td>1467811193</td>\n",
       "      <td>Karoli</td>\n",
       "      <td>@nationwideclass no, it's not behaving at all....</td>\n",
       "      <td>2009-04-06 22:19:57</td>\n",
       "      <td>Negative</td>\n",
       "      <td>0.0</td>\n",
       "      <td>60.000000</td>\n",
       "      <td>40.000000</td>\n",
       "    </tr>\n",
       "  </tbody>\n",
       "</table>\n",
       "</div>"
      ],
      "text/plain": [
       "           id             user   \n",
       "0  1467810369  _TheSpecialOne_  \\\n",
       "1  1467810672    scotthamilton   \n",
       "2  1467810917         mattycus   \n",
       "3  1467811184          ElleCTF   \n",
       "4  1467811193           Karoli   \n",
       "\n",
       "                                                text                date   \n",
       "0  @switchfoot http://twitpic.com/2y1zl - Awww, t... 2009-04-06 22:19:45  \\\n",
       "1  is upset that he can't update his Facebook by ... 2009-04-06 22:19:49   \n",
       "2  @Kenichan I dived many times for the ball. Man... 2009-04-06 22:19:53   \n",
       "3    my whole body feels itchy and like its on fire  2009-04-06 22:19:57   \n",
       "4  @nationwideclass no, it's not behaving at all.... 2009-04-06 22:19:57   \n",
       "\n",
       "  sentiment  positive_sent  negative_sent  neutral_sent  \n",
       "0   Neutral            0.0       0.000000    100.000000  \n",
       "1  Negative            0.0      50.000000     50.000000  \n",
       "2   Neutral            0.0      33.333333     66.666667  \n",
       "3  Negative            0.0      50.000000     50.000000  \n",
       "4  Negative            0.0      60.000000     40.000000  "
      ]
     },
     "execution_count": 22,
     "metadata": {},
     "output_type": "execute_result"
    }
   ],
   "source": [
    "row_sum = df[[\"positive_sent\", \"negative_sent\", \"neutral_sent\"]].sum(axis=1)\n",
    "\n",
    "df[\"positive_sent\"] = df[\"positive_sent\"] / row_sum * 100\n",
    "df[\"negative_sent\"] = df[\"negative_sent\"] / row_sum * 100\n",
    "df[\"neutral_sent\"] = df[\"neutral_sent\"] / row_sum * 100\n",
    "\n",
    "df.head()"
   ]
  },
  {
   "cell_type": "code",
   "execution_count": 23,
   "id": "e3cb721b",
   "metadata": {},
   "outputs": [
    {
     "data": {
      "text/html": [
       "<div>\n",
       "<style scoped>\n",
       "    .dataframe tbody tr th:only-of-type {\n",
       "        vertical-align: middle;\n",
       "    }\n",
       "\n",
       "    .dataframe tbody tr th {\n",
       "        vertical-align: top;\n",
       "    }\n",
       "\n",
       "    .dataframe thead th {\n",
       "        text-align: right;\n",
       "    }\n",
       "</style>\n",
       "<table border=\"1\" class=\"dataframe\">\n",
       "  <thead>\n",
       "    <tr style=\"text-align: right;\">\n",
       "      <th></th>\n",
       "      <th>id</th>\n",
       "      <th>user</th>\n",
       "      <th>text</th>\n",
       "      <th>date</th>\n",
       "      <th>sentiment</th>\n",
       "      <th>positive_sent</th>\n",
       "      <th>negative_sent</th>\n",
       "      <th>neutral_sent</th>\n",
       "    </tr>\n",
       "  </thead>\n",
       "  <tbody>\n",
       "    <tr>\n",
       "      <th>9</th>\n",
       "      <td>1467812025</td>\n",
       "      <td>mimismo</td>\n",
       "      <td>@twittera que me muera ?</td>\n",
       "      <td>2009-04-06 22:20:09</td>\n",
       "      <td>Neutral</td>\n",
       "      <td>0.000000</td>\n",
       "      <td>40.000000</td>\n",
       "      <td>60.000000</td>\n",
       "    </tr>\n",
       "    <tr>\n",
       "      <th>19</th>\n",
       "      <td>1467813782</td>\n",
       "      <td>gi_gi_bee</td>\n",
       "      <td>@FakerPattyPattz Oh dear. Were you drinking ou...</td>\n",
       "      <td>2009-04-06 22:20:34</td>\n",
       "      <td>Neutral</td>\n",
       "      <td>10.000000</td>\n",
       "      <td>30.000000</td>\n",
       "      <td>60.000000</td>\n",
       "    </tr>\n",
       "    <tr>\n",
       "      <th>29</th>\n",
       "      <td>1467815753</td>\n",
       "      <td>BaptisteTheFool</td>\n",
       "      <td>Meh... Almost Lover is the exception... this t...</td>\n",
       "      <td>2009-04-06 22:21:04</td>\n",
       "      <td>Negative</td>\n",
       "      <td>6.666667</td>\n",
       "      <td>36.666667</td>\n",
       "      <td>56.666667</td>\n",
       "    </tr>\n",
       "    <tr>\n",
       "      <th>39</th>\n",
       "      <td>1467818007</td>\n",
       "      <td>Anthony_Nguyen</td>\n",
       "      <td>Bed. Class 8-12. Work 12-3. Gym 3-5 or 6. Then...</td>\n",
       "      <td>2009-04-06 22:21:39</td>\n",
       "      <td>Neutral</td>\n",
       "      <td>7.500000</td>\n",
       "      <td>32.500000</td>\n",
       "      <td>60.000000</td>\n",
       "    </tr>\n",
       "    <tr>\n",
       "      <th>49</th>\n",
       "      <td>1467820835</td>\n",
       "      <td>cyantist</td>\n",
       "      <td>@tea oh! i'm so sorry  i didn't think about th...</td>\n",
       "      <td>2009-04-06 22:22:25</td>\n",
       "      <td>Neutral</td>\n",
       "      <td>6.000000</td>\n",
       "      <td>32.000000</td>\n",
       "      <td>62.000000</td>\n",
       "    </tr>\n",
       "  </tbody>\n",
       "</table>\n",
       "</div>"
      ],
      "text/plain": [
       "            id             user   \n",
       "9   1467812025          mimismo  \\\n",
       "19  1467813782        gi_gi_bee   \n",
       "29  1467815753  BaptisteTheFool   \n",
       "39  1467818007   Anthony_Nguyen   \n",
       "49  1467820835         cyantist   \n",
       "\n",
       "                                                 text                date   \n",
       "9                           @twittera que me muera ?  2009-04-06 22:20:09  \\\n",
       "19  @FakerPattyPattz Oh dear. Were you drinking ou... 2009-04-06 22:20:34   \n",
       "29  Meh... Almost Lover is the exception... this t... 2009-04-06 22:21:04   \n",
       "39  Bed. Class 8-12. Work 12-3. Gym 3-5 or 6. Then... 2009-04-06 22:21:39   \n",
       "49  @tea oh! i'm so sorry  i didn't think about th... 2009-04-06 22:22:25   \n",
       "\n",
       "   sentiment  positive_sent  negative_sent  neutral_sent  \n",
       "9    Neutral       0.000000      40.000000     60.000000  \n",
       "19   Neutral      10.000000      30.000000     60.000000  \n",
       "29  Negative       6.666667      36.666667     56.666667  \n",
       "39   Neutral       7.500000      32.500000     60.000000  \n",
       "49   Neutral       6.000000      32.000000     62.000000  "
      ]
     },
     "execution_count": 23,
     "metadata": {},
     "output_type": "execute_result"
    }
   ],
   "source": [
    "window_size = 10\n",
    "\n",
    "time_series_df = df.iloc[window_size - 1 :: window_size]\n",
    "time_series_df.head()"
   ]
  },
  {
   "cell_type": "code",
   "execution_count": 24,
   "id": "5020ff76",
   "metadata": {},
   "outputs": [
    {
     "data": {
      "text/plain": [
       "<matplotlib.legend.Legend at 0x7fb8f3911780>"
      ]
     },
     "execution_count": 24,
     "metadata": {},
     "output_type": "execute_result"
    },
    {
     "data": {
      "image/png": "[encoded data removed]",
      "text/plain": [
       "<Figure size 1500x500 with 1 Axes>"
      ]
     },
     "metadata": {},
     "output_type": "display_data"
    }
   ],
   "source": [
    "sns.set_context(\"notebook\")\n",
    "\n",
    "time_series_df.plot(\n",
    "    y=[\"positive_sent\", \"negative_sent\", \"neutral_sent\"], kind=\"line\", figsize=(15, 5)\n",
    ").legend(loc=\"lower right\")"
   ]
  },
  {
   "cell_type": "code",
   "execution_count": null,
   "id": "91698dad",
   "metadata": {},
   "outputs": [],
   "source": []
  }
 ],
 "metadata": {
  "kernelspec": {
   "display_name": "Python 3.10 - SDK v2",
   "language": "python",
   "name": "python310-sdkv2"
  },
  "language_info": {
   "codemirror_mode": {
    "name": "ipython",
    "version": 3
   },
   "file_extension": ".py",
   "mimetype": "text/x-python",
   "name": "python",
   "nbconvert_exporter": "python",
   "pygments_lexer": "ipython3",
   "version": "3.10.10"
  }
 },
 "nbformat": 4,
 "nbformat_minor": 5
}
