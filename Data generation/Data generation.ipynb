{
 "cells": [
  {
   "cell_type": "markdown",
   "id": "8a157fb8",
   "metadata": {},
   "source": [
    "# Data generation"
   ]
  },
  {
   "cell_type": "code",
   "execution_count": 1,
   "id": "e08cdbd6",
   "metadata": {},
   "outputs": [],
   "source": [
    "import datetime\n",
    "import os\n",
    "import openai\n",
    "import sys\n",
    "\n",
    "from dotenv import load_dotenv"
   ]
  },
  {
   "cell_type": "code",
   "execution_count": 2,
   "id": "55d27ebf",
   "metadata": {},
   "outputs": [
    {
     "name": "stdout",
     "output_type": "stream",
     "text": [
      "Open AI version: 0.28.1\n"
     ]
    }
   ],
   "source": [
    "load_dotenv(\"azure.env\")\n",
    "\n",
    "# Azure Open AI\n",
    "openai.api_type: str = \"azure\"\n",
    "openai.api_key = os.getenv(\"OPENAI_API_KEY\")\n",
    "openai.api_base = os.getenv(\"OPENAI_API_BASE\")\n",
    "openai.api_version = os.getenv(\"OPENAI_API_VERSION\")\n",
    "\n",
    "print(\"Open AI version:\", openai.__version__)"
   ]
  },
  {
   "cell_type": "code",
   "execution_count": 3,
   "id": "14be4f9e",
   "metadata": {},
   "outputs": [
    {
     "data": {
      "text/plain": [
       "'3.10.10 (main, Mar 21 2023, 18:45:11) [GCC 11.2.0]'"
      ]
     },
     "execution_count": 3,
     "metadata": {},
     "output_type": "execute_result"
    }
   ],
   "source": [
    "sys.version"
   ]
  },
  {
   "cell_type": "code",
   "execution_count": 4,
   "id": "77c69ef6",
   "metadata": {},
   "outputs": [
    {
     "name": "stdout",
     "output_type": "stream",
     "text": [
      "Today is: 12-Oct-2023 14:59:01\n"
     ]
    }
   ],
   "source": [
    "print(\"Today is:\", datetime.datetime.today().strftime(\"%d-%b-%Y %H:%M:%S\"))"
   ]
  },
  {
   "cell_type": "code",
   "execution_count": 5,
   "id": "ed7bc8a5",
   "metadata": {},
   "outputs": [],
   "source": [
    "def datagen(text):\n",
    "    \"\"\"\n",
    "    Data generation with Azure Open AI\n",
    "    \"\"\"\n",
    "    response = openai.Completion.create(\n",
    "        engine=\"text-davinci-003\",\n",
    "        prompt=prompt,\n",
    "        max_tokens=4000,\n",
    "        temperature=0.7,\n",
    "    )\n",
    "\n",
    "    result = response[\"choices\"][0][\"text\"]\n",
    "\n",
    "    return result"
   ]
  },
  {
   "cell_type": "markdown",
   "id": "2741001c",
   "metadata": {},
   "source": [
    "## Testing"
   ]
  },
  {
   "cell_type": "code",
   "execution_count": 6,
   "id": "7a71338d",
   "metadata": {},
   "outputs": [
    {
     "name": "stdout",
     "output_type": "stream",
     "text": [
      "\n",
      "\n",
      "[\n",
      "    {\n",
      "        \"Movie\": \"The Godfather\",\n",
      "        \"Year\": 1972,\n",
      "        \"Director\": \"Francis Ford Coppola\"\n",
      "    },\n",
      "    {\n",
      "        \"Movie\": \"Star Wars\",\n",
      "        \"Year\": 1977,\n",
      "        \"Director\": \"George Lucas\"\n",
      "    },\n",
      "    {\n",
      "        \"Movie\": \"Jaws\",\n",
      "        \"Year\": 1975,\n",
      "        \"Director\": \"Steven Spielberg\"\n",
      "    },\n",
      "    {\n",
      "        \"Movie\": \"Rocky\",\n",
      "        \"Year\": 1976,\n",
      "        \"Director\": \"John G. Avildsen\"\n",
      "    },\n",
      "    {\n",
      "        \"Movie\": \"The Exorcist\",\n",
      "        \"Year\": 1973,\n",
      "        \"Director\": \"William Friedkin\"\n",
      "    },\n",
      "    {\n",
      "        \"Movie\": \"Taxi Driver\",\n",
      "        \"Year\": 1976,\n",
      "        \"Director\": \"Martin Scorsese\"\n",
      "    },\n",
      "    {\n",
      "        \"Movie\": \"The French Connection\",\n",
      "        \"Year\": 1971,\n",
      "        \"Director\": \"William Friedkin\"\n",
      "    },\n",
      "    {\n",
      "        \"Movie\": \"The Deer Hunter\",\n",
      "        \"Year\": 1978,\n",
      "        \"Director\": \"Michael Cimino\"\n",
      "    },\n",
      "    {\n",
      "        \"Movie\": \"Close Encounters of the Third Kind\",\n",
      "        \"Year\": 1977,\n",
      "        \"Director\": \"Steven Spielberg\"\n",
      "    },\n",
      "    {\n",
      "        \"Movie\": \"Grease\",\n",
      "        \"Year\": 1978,\n",
      "        \"Director\": \"Randal Kleiser\"\n",
      "    }\n",
      "]\n"
     ]
    }
   ],
   "source": [
    "prompt = \"Create a three-column json file of 10 top 70's USA movies along with the year of release and the director.\"\n",
    "print(datagen(prompt))"
   ]
  },
  {
   "cell_type": "code",
   "execution_count": 7,
   "id": "4628703b",
   "metadata": {},
   "outputs": [
    {
     "name": "stdout",
     "output_type": "stream",
     "text": [
      "\n",
      "\n",
      "The Piper at the Gates of Dawn (1967) - Pink Floyd\n",
      "A Saucerful of Secrets (1968) - Pink Floyd\n",
      "More (1969) - Pink Floyd\n",
      "Ummagumma (1969) - Pink Floyd\n",
      "Atom Heart Mother (1970) - Pink Floyd\n",
      "Meddle (1971) - Pink Floyd\n",
      "Obscured by Clouds (1972) - Pink Floyd\n",
      "The Dark Side of the Moon (1973) - Pink Floyd\n",
      "Wish You Were Here (1975) - Pink Floyd\n",
      "Animals (1977) - Pink Floyd\n",
      "The Wall (1979) - Pink Floyd\n",
      "The Final Cut (1983) - Pink Floyd\n",
      "A Momentary Lapse of Reason (1987) - Pink Floyd\n",
      "The Division Bell (1994) - Pink Floyd\n",
      "The Endless River (2014) - Pink Floyd\n"
     ]
    }
   ],
   "source": [
    "prompt = \"Create a text file of all pink floyd albums along with the year of release and the band.\"\n",
    "print(datagen(prompt))"
   ]
  },
  {
   "cell_type": "code",
   "execution_count": 8,
   "id": "50c08f6a",
   "metadata": {},
   "outputs": [
    {
     "name": "stdout",
     "output_type": "stream",
     "text": [
      "\n",
      "\n",
      "<?xml version=\"1.0\" encoding=\"UTF-8\" ?>\n",
      "<ledzeppelin>\n",
      "\t<albums>\n",
      "\t\t<album>\n",
      "\t\t\t<title>Led Zeppelin</title>\n",
      "\t\t\t<year>1968</year>\n",
      "\t\t</album>\n",
      "\t\t<album>\n",
      "\t\t\t<title>Led Zeppelin II</title>\n",
      "\t\t\t<year>1969</year>\n",
      "\t\t</album>\n",
      "\t\t<album>\n",
      "\t\t\t<title>Led Zeppelin III</title>\n",
      "\t\t\t<year>1970</year>\n",
      "\t\t</album>\n",
      "\t\t<album>\n",
      "\t\t\t<title>Led Zeppelin IV</title>\n",
      "\t\t\t<year>1971</year>\n",
      "\t\t</album>\n",
      "\t\t<album>\n",
      "\t\t\t<title>Houses of the Holy</title>\n",
      "\t\t\t<year>1973</year>\n",
      "\t\t</album>\n",
      "\t\t<album>\n",
      "\t\t\t<title>Physical Graffiti</title>\n",
      "\t\t\t<year>1975</year>\n",
      "\t\t</album>\n",
      "\t\t<album>\n",
      "\t\t\t<title>Presence</title>\n",
      "\t\t\t<year>1976</year>\n",
      "\t\t</album>\n",
      "\t</albums>\n",
      "</ledzeppelin>\n"
     ]
    }
   ],
   "source": [
    "prompt = \"Create a XML file of all the Led Zeppelin records made between 1968 and 1975\"\n",
    "print(datagen(prompt))"
   ]
  },
  {
   "cell_type": "code",
   "execution_count": 9,
   "id": "385e8bba",
   "metadata": {},
   "outputs": [
    {
     "name": "stdout",
     "output_type": "stream",
     "text": [
      "\n",
      "\n",
      "Carrie;1974\n",
      "'Salem's Lot;1975\n",
      "The Shining;1977\n",
      "The Stand;1978\n",
      "The Dead Zone;1979\n",
      "Firestarter;1980\n",
      "Cujo;1981\n",
      "The Dark Tower: The Gunslinger;1982\n",
      "Christine;1983\n",
      "Pet Sematary;1983\n",
      "Cycle of the Werewolf;1983\n",
      "The Talisman;1984\n",
      "It;1986\n",
      "Misery;1987\n",
      "The Tommyknockers;1987\n",
      "The Dark Half;1989\n",
      "Needful Things;1991\n",
      "Gerald's Game;1992\n",
      "Dolores Claiborne;1993\n",
      "Insomnia;1994\n",
      "Rose Madder;1995\n",
      "Desperation;1996\n",
      "The Green Mile;1996\n",
      "Bag of Bones;1998\n",
      "The Girl Who Loved Tom Gordon;1999\n",
      "Dreamcatcher;2001\n",
      "From a Buick 8;2002\n",
      "The Dark Tower VII: The Dark Tower;2004\n",
      "Cell;2006\n",
      "Lisey's Story;2006\n",
      "Duma Key;2008\n",
      "Under the Dome;2009\n",
      "11/22/63;2011\n",
      "Joyland;2013\n",
      "Doctor Sleep;2013\n",
      "Revival;2014\n",
      "Finders Keepers;2015\n",
      "Sleeping Beauties;2017\n"
     ]
    }
   ],
   "source": [
    "prompt = \"Create a ; separated file of all Stephen King books with the published year\"\n",
    "print(datagen(prompt))"
   ]
  },
  {
   "cell_type": "code",
   "execution_count": 10,
   "id": "f52d93c6",
   "metadata": {},
   "outputs": [
    {
     "name": "stdout",
     "output_type": "stream",
     "text": [
      "\n",
      "\n",
      "{\n",
      "    \"The Shining\": {\n",
      "        \"Summary\": \"Jack Torrance, a struggling writer, takes a job as the winter caretaker of the Overlook Hotel in the Colorado Rockies and moves in with his wife and son. But the family soon learns that the hotel is haunted by a violent past.\",\n",
      "    },\n",
      "    \"It\": {\n",
      "        \"Summary\": \"A group of seven outcast kids in Derry, Maine, are about to face their worst nightmare — an ancient, shape-shifting evil that emerges from the sewer every 27 years to prey on the town's children.\",\n",
      "    },\n",
      "    \"Carrie\": {\n",
      "        \"Summary\": \"Carrie White is an outcast at school and tortured by her deeply religious mother at home. But when she discovers she has telekinetic powers, she begins to use them to exact revenge on her tormentors.\",\n",
      "    },\n",
      "    \"The Stand\": {\n",
      "        \"Summary\": \"When a devastating plague wipes out most of the world's population, a group of survivors is forced to decide between good and evil as they battle for control of the remnants of civilization.\",\n",
      "    },\n",
      "    \"Salem's Lot\": {\n",
      "        \"Summary\": \"Ben Mears returns to his childhood hometown of Salem's Lot, Maine, to investigate a mysterious force that is taking over the town and turns its residents into vampires.\",\n",
      "    }\n",
      "}\n"
     ]
    }
   ],
   "source": [
    "prompt = \"Create a json file of 5 Stephen King books with a summary\"\n",
    "print(datagen(prompt))"
   ]
  },
  {
   "cell_type": "code",
   "execution_count": 11,
   "id": "4c370e7c",
   "metadata": {},
   "outputs": [
    {
     "name": "stdout",
     "output_type": "stream",
     "text": [
      "\n",
      "\n",
      "John,Smith,Male,02/04/1985,New York,USA\n",
      "Maria,Garcia,Female,12/06/1979,Los Angeles,USA\n",
      "James,Brown,Male,01/02/1980,Chicago,USA\n",
      "Jessica,Davis,Female,03/09/1990,Houston,USA\n",
      "Steven,Wilson,Male,08/05/1975,Philadelphia,USA\n",
      "Sandra,Taylor,Female,07/10/1970,Phoenix,USA\n",
      "Michael,Martin,Male,11/11/1995,San Antonio,USA\n",
      "Anna,Anderson,Female,05/03/1985,San Diego,USA\n",
      "David,Thompson,Male,04/07/1992,Dallas,USA\n",
      "Elizabeth,Robinson,Female,09/12/1988,San Jose,USA\n"
     ]
    }
   ],
   "source": [
    "prompt = \"Generate 10 lines of a csv fake file with some firstnames, lastnames, gender, date of birth, city, country\"\n",
    "print(datagen(prompt))"
   ]
  },
  {
   "cell_type": "code",
   "execution_count": null,
   "id": "0e69a10a",
   "metadata": {},
   "outputs": [],
   "source": []
  }
 ],
 "metadata": {
  "kernelspec": {
   "display_name": "Python 3.10 - SDK v2",
   "language": "python",
   "name": "python310-sdkv2"
  },
  "language_info": {
   "codemirror_mode": {
    "name": "ipython",
    "version": 3
   },
   "file_extension": ".py",
   "mimetype": "text/x-python",
   "name": "python",
   "nbconvert_exporter": "python",
   "pygments_lexer": "ipython3",
   "version": "3.10.10"
  }
 },
 "nbformat": 4,
 "nbformat_minor": 5
}
