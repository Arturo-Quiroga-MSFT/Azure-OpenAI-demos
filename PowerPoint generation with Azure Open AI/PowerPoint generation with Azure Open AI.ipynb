{
 "cells": [
  {
   "cell_type": "markdown",
   "id": "50a65c18",
   "metadata": {},
   "source": [
    "# PowerPoint generation with Azure Open AI"
   ]
  },
  {
   "cell_type": "code",
   "execution_count": 1,
   "id": "a003c008",
   "metadata": {},
   "outputs": [],
   "source": [
    "# %pip install python-pptx"
   ]
  },
  {
   "cell_type": "code",
   "execution_count": 2,
   "id": "c4cae64b",
   "metadata": {},
   "outputs": [],
   "source": [
    "import openai\n",
    "import os\n",
    "import sys\n",
    "\n",
    "from dotenv import load_dotenv\n",
    "from pptx import Presentation"
   ]
  },
  {
   "cell_type": "code",
   "execution_count": 3,
   "id": "0d149f04",
   "metadata": {},
   "outputs": [
    {
     "data": {
      "text/plain": [
       "'3.10.10 (main, Mar 21 2023, 18:45:11) [GCC 11.2.0]'"
      ]
     },
     "execution_count": 3,
     "metadata": {},
     "output_type": "execute_result"
    }
   ],
   "source": [
    "sys.version"
   ]
  },
  {
   "cell_type": "code",
   "execution_count": 4,
   "id": "e7cdf8f6",
   "metadata": {},
   "outputs": [],
   "source": [
    "load_dotenv(\"azure.env\")\n",
    "\n",
    "openai.api_type: str = \"azure\"\n",
    "openai.api_key = os.getenv(\"OPENAI_API_KEY\")\n",
    "openai.api_base = os.getenv(\"OPENAI_API_BASE\")\n",
    "openai.api_version = os.getenv(\"OPENAI_API_VERSION\")"
   ]
  },
  {
   "cell_type": "code",
   "execution_count": 5,
   "id": "f4393d1c",
   "metadata": {},
   "outputs": [
    {
     "name": "stdout",
     "output_type": "stream",
     "text": [
      "Open AI version: 0.28.0\n"
     ]
    }
   ],
   "source": [
    "print('Open AI version:', openai.__version__)"
   ]
  },
  {
   "cell_type": "code",
   "execution_count": 6,
   "id": "998780ca",
   "metadata": {},
   "outputs": [],
   "source": [
    "model = \"text-davinci-003\""
   ]
  },
  {
   "cell_type": "code",
   "execution_count": 7,
   "id": "b4a8aaca",
   "metadata": {},
   "outputs": [],
   "source": [
    "context_prompt = \"You are a PowerPoint generator. \\\n",
    "You should generate answers. Your answer should have multiple lines of text with no more of 70 words.\\\n",
    "This is the question:\""
   ]
  },
  {
   "cell_type": "code",
   "execution_count": 8,
   "id": "d6046c7c",
   "metadata": {},
   "outputs": [
    {
     "name": "stdout",
     "output_type": "stream",
     "text": [
      "AI is an acronym for Artificial Intelligence, which is a computer system designed to simulate human intelligence. It can be used to solve complex problems such as facial recognition, natural language processing, robotics, and more. AI is becoming increasingly important in many aspects of our lives, from the way we interact with technology to the way we make decisions. AI is rapidly evolving and is expected to have a major impact on our lives in the near future.\n"
     ]
    }
   ],
   "source": [
    "# For slide 2\n",
    "prompt = context_prompt + \"What is AI?\"\n",
    "\n",
    "results = openai.Completion.create(\n",
    "    engine=model,\n",
    "    prompt=prompt,\n",
    "    temperature=0.7,\n",
    "    max_tokens=800,\n",
    ")\n",
    "\n",
    "text2 = results[\"choices\"][0][\"text\"].strip(\"\\n\")\n",
    "print(text2)"
   ]
  },
  {
   "cell_type": "code",
   "execution_count": 9,
   "id": "7d341807",
   "metadata": {},
   "outputs": [
    {
     "name": "stdout",
     "output_type": "stream",
     "text": [
      "Open AI is an artificial intelligence research laboratory based in San Francisco. It is a non-profit research organization dedicated to creating advanced artificial general intelligence. Its goal is to develop strong AI that is capable of solving any problem, and to make sure that the technology is used for the benefit of humankind. Open AI works on solving a range of pressing challenges in areas such as healthcare, robotics, energy, education, and more. It also works on making sure that advancements in AI benefit everyone, rather than just those with access to the technology.\n"
     ]
    }
   ],
   "source": [
    "prompt = context_prompt + \"What is Open AI?\"\n",
    "\n",
    "results = openai.Completion.create(\n",
    "    engine=model,\n",
    "    prompt=prompt,\n",
    "    temperature=0.7,\n",
    "    max_tokens=800,\n",
    ")\n",
    "\n",
    "text3 = results[\"choices\"][0][\"text\"].strip(\"\\n\")\n",
    "print(text3)"
   ]
  },
  {
   "cell_type": "code",
   "execution_count": 10,
   "id": "cb2ed589",
   "metadata": {},
   "outputs": [
    {
     "name": "stdout",
     "output_type": "stream",
     "text": [
      "Azure Open AI is an open-source artificial intelligence platform created by Microsoft. It provides tools and services that enable developers to create, train, and deploy AI models. It offers a wide range of capabilities such as natural language processing, computer vision, speech recognition, and reinforcement learning. Azure Open AI also enables developers to easily integrate AI models into their applications. With Azure Open AI, developers can quickly create and deploy AI solutions to the cloud, allowing them to scale quickly and easily.\n"
     ]
    }
   ],
   "source": [
    "prompt = context_prompt + \"What is Azure Open AI?\"\n",
    "\n",
    "results = openai.Completion.create(\n",
    "    engine=model,\n",
    "    prompt=prompt,\n",
    "    temperature=0.7,\n",
    "    max_tokens=800,\n",
    ")\n",
    "\n",
    "text4 = results[\"choices\"][0][\"text\"].strip(\"\\n\")\n",
    "print(text4)"
   ]
  },
  {
   "cell_type": "code",
   "execution_count": 11,
   "id": "decf2ed6",
   "metadata": {},
   "outputs": [
    {
     "name": "stdout",
     "output_type": "stream",
     "text": [
      "1. Create an Azure account and sign up for the Open AI service.\n",
      "2. Select the type of AI model you want to use.\n",
      "3. Upload your data to your Azure account.\n",
      "4. Train the model on the data.\n",
      "5. Create the AI model using the Azure Open AI platform.\n",
      "6. Deploy the model to production.\n",
      "7. Monitor performance and refine the model as needed.\n"
     ]
    }
   ],
   "source": [
    "prompt = context_prompt + \"What are the steps to use Azure Open AI?\"\n",
    "\n",
    "results = openai.Completion.create(\n",
    "    engine=model,\n",
    "    prompt=prompt,\n",
    "    temperature=0.7,\n",
    "    max_tokens=800,\n",
    ")\n",
    "\n",
    "text5 = results[\"choices\"][0][\"text\"].strip(\"\\n\")\n",
    "print(text5)"
   ]
  },
  {
   "cell_type": "code",
   "execution_count": 12,
   "id": "7bf5303d",
   "metadata": {},
   "outputs": [
    {
     "name": "stdout",
     "output_type": "stream",
     "text": [
      ".\n",
      "\n",
      "1. Easy access to powerful AI services: Azure Open AI allows developers to have easy access to powerful AI services such as machine learning, natural language processing, computer vision and more.\n",
      "\n",
      "2. Scalability: Azure Open AI gives developers the ability to scale their AI models quickly and efficiently, reducing the time and cost of development.\n",
      "\n",
      "3. Cost-effective and reliable: Azure Open AI is an affordable and reliable option for developers of all experience levels, allowing them to quickly and easily develop AI models without the need for large upfront investments.\n",
      "\n",
      "4. Security and privacy: Azure Open AI provides a secure and privacy-focused platform for developers, ensuring that their data and models are safe and secure.\n"
     ]
    }
   ],
   "source": [
    "prompt = context_prompt + \"Specify the main advantages of Azure Open AI\"\n",
    "\n",
    "results = openai.Completion.create(\n",
    "    engine=model,\n",
    "    prompt=prompt,\n",
    "    temperature=0.7,\n",
    "    max_tokens=800,\n",
    ")\n",
    "\n",
    "text6 = results[\"choices\"][0][\"text\"].strip(\"\\n\")\n",
    "print(text6)"
   ]
  },
  {
   "cell_type": "code",
   "execution_count": 13,
   "id": "dd7bf521",
   "metadata": {},
   "outputs": [],
   "source": [
    "PPT_FILE = \"my_powerpoint_file.pptx\""
   ]
  },
  {
   "cell_type": "code",
   "execution_count": 14,
   "id": "01ba1481",
   "metadata": {},
   "outputs": [],
   "source": [
    "presentation = Presentation()\n",
    "\n",
    "slide1 = presentation.slides.add_slide(presentation.slide_layouts[0])\n",
    "title = slide1.shapes.title\n",
    "title.text = \"My PowerPoint\"  # Slide title\n",
    "\n",
    "slide2 = presentation.slides.add_slide(presentation.slide_layouts[1])\n",
    "content_slide2 = slide2.shapes.title\n",
    "content_slide2.text = \"What is AI?\"\n",
    "\n",
    "slide3 = presentation.slides.add_slide(presentation.slide_layouts[1])\n",
    "content_slide3 = slide3.shapes.title\n",
    "content_slide3.text = \"What is Open AI?\"\n",
    "\n",
    "slide4 = presentation.slides.add_slide(presentation.slide_layouts[1])\n",
    "content_slide4 = slide4.shapes.title\n",
    "content_slide4.text = \"What is Azure Open AI?\"\n",
    "\n",
    "slide5 = presentation.slides.add_slide(presentation.slide_layouts[1])\n",
    "content_slide5 = slide5.shapes.title\n",
    "content_slide5.text = \"How to use Azure Open AI?\"\n",
    "\n",
    "slide6 = presentation.slides.add_slide(presentation.slide_layouts[1])\n",
    "content_slide6 = slide6.shapes.title\n",
    "content_slide6.text = \"Main benefits\""
   ]
  },
  {
   "cell_type": "code",
   "execution_count": 15,
   "id": "1e003645",
   "metadata": {},
   "outputs": [],
   "source": [
    "slides = [slide1, slide2, slide3, slide4, slide5, slide6]\n",
    "content = [\"\", text2, text3, text4, text5, text6]\n",
    "\n",
    "for slide, content_text in zip(slides, content):\n",
    "    content_placeholder = slide.placeholders[1]\n",
    "    content_placeholder.text = content_text"
   ]
  },
  {
   "cell_type": "code",
   "execution_count": 16,
   "id": "8ea99520",
   "metadata": {},
   "outputs": [],
   "source": [
    "presentation.save(PPT_FILE)"
   ]
  },
  {
   "cell_type": "code",
   "execution_count": 17,
   "id": "57846538",
   "metadata": {},
   "outputs": [
    {
     "name": "stdout",
     "output_type": "stream",
     "text": [
      "-rwxrwxrwx 1 root root 34K Sep 10 17:22 my_powerpoint_file.pptx\r\n"
     ]
    }
   ],
   "source": [
    "!ls $PPT_FILE -lh"
   ]
  },
  {
   "cell_type": "code",
   "execution_count": null,
   "id": "9ea5bd8d",
   "metadata": {},
   "outputs": [],
   "source": []
  }
 ],
 "metadata": {
  "kernelspec": {
   "display_name": "Python 3.10 - SDK v2",
   "language": "python",
   "name": "python310-sdkv2"
  },
  "language_info": {
   "codemirror_mode": {
    "name": "ipython",
    "version": 3
   },
   "file_extension": ".py",
   "mimetype": "text/x-python",
   "name": "python",
   "nbconvert_exporter": "python",
   "pygments_lexer": "ipython3",
   "version": "3.10.10"
  }
 },
 "nbformat": 4,
 "nbformat_minor": 5
}
