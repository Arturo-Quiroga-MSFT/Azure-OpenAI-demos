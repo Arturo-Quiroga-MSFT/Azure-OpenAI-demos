{
 "cells": [
  {
   "cell_type": "markdown",
   "id": "e6fbc28d",
   "metadata": {},
   "source": [
    "# Video Indexer transcripts analysis with Langchain + Azure OpenAI + Azure Cognitive Search (vector store)"
   ]
  },
  {
   "cell_type": "code",
   "execution_count": 1,
   "id": "f96b1fb4",
   "metadata": {},
   "outputs": [],
   "source": [
    "import os\n",
    "import json\n",
    "import gradio as gr\n",
    "import requests\n",
    "import sys\n",
    "import time\n",
    "\n",
    "from dotenv import load_dotenv\n",
    "\n",
    "from langchain.chat_models import AzureChatOpenAI\n",
    "from langchain.chains import RetrievalQA\n",
    "from langchain.retrievers import AzureCognitiveSearchRetriever\n",
    "from langchain.prompts import PromptTemplate\n",
    "from langchain.document_loaders import TextLoader\n",
    "from langchain.text_splitter import CharacterTextSplitter\n",
    "from langchain.embeddings import OpenAIEmbeddings\n",
    "from langchain.vectorstores import AzureSearch"
   ]
  },
  {
   "cell_type": "code",
   "execution_count": 2,
   "id": "6efcce6e",
   "metadata": {},
   "outputs": [
    {
     "data": {
      "text/plain": [
       "'3.10.10 (main, Mar 21 2023, 18:45:11) [GCC 11.2.0]'"
      ]
     },
     "execution_count": 2,
     "metadata": {},
     "output_type": "execute_result"
    }
   ],
   "source": [
    "sys.version"
   ]
  },
  {
   "cell_type": "code",
   "execution_count": 3,
   "id": "da4616ae",
   "metadata": {},
   "outputs": [
    {
     "data": {
      "text/plain": [
       "True"
      ]
     },
     "execution_count": 3,
     "metadata": {},
     "output_type": "execute_result"
    }
   ],
   "source": [
    "load_dotenv(\"azure.env\")"
   ]
  },
  {
   "cell_type": "code",
   "execution_count": null,
   "id": "aae11ae2",
   "metadata": {},
   "outputs": [],
   "source": [
    "acs_endpoint = os.getenv(\"AZURE_COGNITIVE_SEARCH_ENDPOINT\")\n",
    "acs_key = os.getenv(\"AZURE_COGNITIVE_SEARCH_API_KEY\")"
   ]
  },
  {
   "cell_type": "code",
   "execution_count": 4,
   "id": "cb526d0d",
   "metadata": {},
   "outputs": [
    {
     "data": {
      "text/plain": [
       "'videoindexer-transcripts'"
      ]
     },
     "execution_count": 4,
     "metadata": {},
     "output_type": "execute_result"
    }
   ],
   "source": [
    "index_name = \"videoindexer-transcripts\"\n",
    "index_name"
   ]
  },
  {
   "cell_type": "markdown",
   "id": "aa0e03c7",
   "metadata": {},
   "source": [
    "## Documents"
   ]
  },
  {
   "cell_type": "code",
   "execution_count": 5,
   "id": "ca21481f",
   "metadata": {},
   "outputs": [],
   "source": [
    "DOCS_DIR = \"transcripts\""
   ]
  },
  {
   "cell_type": "code",
   "execution_count": 6,
   "id": "2d955202",
   "metadata": {},
   "outputs": [
    {
     "name": "stdout",
     "output_type": "stream",
     "text": [
      "-rwxrwxrwx 1 root root 6.3K Sep  6 12:44 transcripts/Saint_Gobain_2023.csv\r\n",
      "-rwxrwxrwx 1 root root 4.5K Sep  6 13:20 transcripts/St_Gobain_materials.csv\r\n"
     ]
    }
   ],
   "source": [
    "!ls $DOCS_DIR/*.* -lh"
   ]
  },
  {
   "cell_type": "code",
   "execution_count": 7,
   "id": "36ee38c7",
   "metadata": {},
   "outputs": [
    {
     "name": "stdout",
     "output_type": "stream",
     "text": [
      "Saint_Gobain_2023.csv\n",
      "St_Gobain_materials.csv\n"
     ]
    }
   ],
   "source": [
    "# Loop through the folders\n",
    "docs = []\n",
    "for dirpath, dirnames, filenames in os.walk(DOCS_DIR):\n",
    "    for file in filenames:\n",
    "        print(file)\n",
    "        try:\n",
    "            loader = TextLoader(os.path.join(dirpath, file), encoding=\"utf-8\")\n",
    "            docs.extend(loader.load_and_split())\n",
    "        except Exception as e:\n",
    "            pass"
   ]
  },
  {
   "cell_type": "code",
   "execution_count": 8,
   "id": "e9fe2ec2",
   "metadata": {},
   "outputs": [],
   "source": [
    "# Split into chunk of texts\n",
    "text_splitter = CharacterTextSplitter(chunk_size=1000, chunk_overlap=0)\n",
    "texts = text_splitter.split_documents(docs)"
   ]
  },
  {
   "cell_type": "markdown",
   "id": "6d44a591",
   "metadata": {},
   "source": [
    "## Embeddings and loading the documents into the Azure Cognitive Search"
   ]
  },
  {
   "cell_type": "code",
   "execution_count": 9,
   "id": "333f749d",
   "metadata": {},
   "outputs": [
    {
     "data": {
      "text/plain": [
       "'videoindexer-transcripts'"
      ]
     },
     "execution_count": 9,
     "metadata": {},
     "output_type": "execute_result"
    }
   ],
   "source": [
    "# Azure Cognitive Search index name to create\n",
    "index_name"
   ]
  },
  {
   "cell_type": "code",
   "execution_count": 10,
   "id": "8c5780c1",
   "metadata": {},
   "outputs": [
    {
     "data": {
      "text/plain": [
       "['ZGU3OTZjMzAtYzQ0ZC00NDNhLTg3Y2EtMmI0YzMzNGM0ZjY5',\n",
       " 'ZGEwMTM2NGUtMTA3OC00MzMyLWI1YmEtODk1Y2JmMTdjMWU1',\n",
       " 'ZDNhOWU5YTgtOWM1Yi00ODQ2LWI5NGYtYWNkNGJhZDVjNzdh',\n",
       " 'NzZiZGIyYzQtOGZiOS00MDA4LWI3ZDQtMmQ3OTcwNzg2YWRj']"
      ]
     },
     "execution_count": 10,
     "metadata": {},
     "output_type": "execute_result"
    }
   ],
   "source": [
    "# Initialize our embedding model\n",
    "embeddings = OpenAIEmbeddings(\n",
    "    deployment=os.getenv(\"OPENAI_ADA_EMBEDDING_DEPLOYMENT_NAME\"),\n",
    "    model=os.getenv(\"OPENAI_ADA_EMBEDDING_MODEL_NAME\"),\n",
    "    openai_api_base=os.getenv(\"OPENAI_API_BASE\"),\n",
    "    openai_api_type=\"azure\",\n",
    "    chunk_size=1,\n",
    ")\n",
    "\n",
    "\n",
    "# Set our Azure Search\n",
    "acs = AzureSearch(\n",
    "    azure_search_endpoint=os.getenv(\"AZURE_COGNITIVE_SEARCH_ENDPOINT\"),\n",
    "    azure_search_key=os.getenv(\"AZURE_COGNITIVE_SEARCH_API_KEY\"),\n",
    "    index_name=index_name,\n",
    "    embedding_function=embeddings.embed_query,\n",
    ")\n",
    "\n",
    "# Add documents to Azure Search\n",
    "acs.add_documents(documents=texts)"
   ]
  },
  {
   "cell_type": "code",
   "execution_count": 11,
   "id": "28afc4ac",
   "metadata": {},
   "outputs": [],
   "source": [
    "# Define Azure Cognitive Search as our retriever\n",
    "retriever = AzureCognitiveSearchRetriever(\n",
    "    content_key=\"content\", top_k=10, index_name=index_name\n",
    ")"
   ]
  },
  {
   "cell_type": "code",
   "execution_count": 12,
   "id": "950629e8",
   "metadata": {},
   "outputs": [],
   "source": [
    "# Set chatGPT 3.5 as our LLM\n",
    "llm = AzureChatOpenAI(deployment_name=\"gpt-35-turbo-16k\", temperature=0.7)"
   ]
  },
  {
   "cell_type": "code",
   "execution_count": 13,
   "id": "774a642e",
   "metadata": {},
   "outputs": [
    {
     "data": {
      "text/plain": [
       "AzureCognitiveSearchRetriever(tags=None, metadata=None, service_name='azurecogsearcheastussr', index_name='videoindexer-transcripts', api_key='ViHEHiP4CdH3zH0BYLDgHG0DKr6yHoTwbWXR4F90ujAzSeDP6Y0a', api_version='2020-06-30', aiosession=None, content_key='content', top_k=10)"
      ]
     },
     "execution_count": 13,
     "metadata": {},
     "output_type": "execute_result"
    }
   ],
   "source": [
    "retriever"
   ]
  },
  {
   "cell_type": "code",
   "execution_count": 14,
   "id": "1904a243",
   "metadata": {},
   "outputs": [
    {
     "data": {
      "text/plain": [
       "AzureChatOpenAI(cache=None, verbose=False, callbacks=None, callback_manager=None, tags=None, metadata=None, client=<class 'openai.api_resources.chat_completion.ChatCompletion'>, model_name='gpt-3.5-turbo', temperature=0.7, model_kwargs={}, openai_api_key='8d0786663aa1480f9dee3c9edd842b1a', openai_api_base='https://azure-openai-serge.openai.azure.com', openai_organization='', openai_proxy='', request_timeout=None, max_retries=6, streaming=False, n=1, max_tokens=None, tiktoken_model_name=None, deployment_name='gpt-35-turbo-16k', model_version='', openai_api_type='azure', openai_api_version='2023-05-15')"
      ]
     },
     "execution_count": 14,
     "metadata": {},
     "output_type": "execute_result"
    }
   ],
   "source": [
    "llm"
   ]
  },
  {
   "cell_type": "markdown",
   "id": "5e7fd5b7",
   "metadata": {},
   "source": [
    "## Testing"
   ]
  },
  {
   "cell_type": "code",
   "execution_count": 15,
   "id": "2848f354",
   "metadata": {},
   "outputs": [],
   "source": [
    "# Define a template message\n",
    "template = \"\"\"You are analyzing a transcript text file that contains the speech to text results from a video file. \n",
    "{context}\n",
    "Question: {question}\n",
    "Helpful Answer:\"\"\"\n",
    "\n",
    "QA_CHAIN_PROMPT = PromptTemplate.from_template(template)\n",
    "\n",
    "# Set the Retrieval QA chain\n",
    "qa_chain = RetrievalQA.from_chain_type(\n",
    "    llm,\n",
    "    retriever=retriever,\n",
    "    chain_type_kwargs={\"prompt\": QA_CHAIN_PROMPT},\n",
    ")"
   ]
  },
  {
   "cell_type": "code",
   "execution_count": 16,
   "id": "3dc5fc49",
   "metadata": {},
   "outputs": [
    {
     "name": "stdout",
     "output_type": "stream",
     "text": [
      "\u001b[1;31;34m\n",
      "Question: Could you summarize in a couple of lines the document Saint_Gobain_2023.csv?\n",
      "\u001b[1;31;32m\n",
      "Answer: The document Saint_Gobain_2023.csv is a transcript of a video presentation highlighting the achievements and innovations of Saint-Gobain in the year 2022. It emphasizes the company's commitment to sustainability, environmental responsibility, and social impact. The transcript mentions the development of low-carbon glass and plaster products, expansion into new markets, and investments in industrial capacity. Overall, it showcases Saint-Gobain's focus on transforming interior spaces and its dedication to being a leader in the construction and manufacturing industry.\n"
     ]
    }
   ],
   "source": [
    "questions = [\"Could you summarize in a couple of lines the document Saint_Gobain_2023.csv?\"]\n",
    "\n",
    "chat_history = []\n",
    "\n",
    "for question in questions:\n",
    "    result = qa_chain({\"query\": question, \"chat_history\": chat_history})\n",
    "    #chat_history.append((question, result))\n",
    "    print(\"\\033[1;31;34m\")\n",
    "    print(f\"Question: {question}\")\n",
    "    print(\"\\033[1;31;32m\")\n",
    "    print(f\"Answer: {result['result']}\")"
   ]
  },
  {
   "cell_type": "code",
   "execution_count": 17,
   "id": "6fd2890f",
   "metadata": {},
   "outputs": [
    {
     "name": "stdout",
     "output_type": "stream",
     "text": [
      "\u001b[1;31;34m\n",
      "Question: What is the language of the document Saint_Gobain_2023.csv\n",
      "\u001b[1;31;32m\n",
      "Answer: Based on the content of the document, the language of the document Saint_Gobain_2023.csv appears to be French.\n"
     ]
    }
   ],
   "source": [
    "questions = [\"What is the language of the document Saint_Gobain_2023.csv\"]\n",
    "\n",
    "chat_history = []\n",
    "\n",
    "for question in questions:\n",
    "    result = qa_chain({\"query\": question, \"chat_history\": chat_history})\n",
    "    #chat_history.append((question, result))\n",
    "    print(\"\\033[1;31;34m\")\n",
    "    print(f\"Question: {question}\")\n",
    "    print(\"\\033[1;31;32m\")\n",
    "    print(f\"Answer: {result['result']}\")"
   ]
  },
  {
   "cell_type": "code",
   "execution_count": 18,
   "id": "6ab78382",
   "metadata": {},
   "outputs": [
    {
     "name": "stdout",
     "output_type": "stream",
     "text": [
      "\u001b[1;31;34m\n",
      "Question: Can you generate 10 keywords from Saint_Gobain_2023.csv?\n",
      "\u001b[1;31;32m\n",
      "Answer: 1. Interior materials\n",
      "2. Luxury\n",
      "3. Planet Lac Evolution\n",
      "4. Premium lacquered glass\n",
      "5. Vibrant living spaces\n",
      "6. Design possibilities\n",
      "7. Manufacturing process\n",
      "8. Bonding\n",
      "9. Quality parameters\n",
      "10. Innovation\n"
     ]
    }
   ],
   "source": [
    "questions = [\"Can you generate 10 keywords from Saint_Gobain_2023.csv?\"]\n",
    "\n",
    "chat_history = []\n",
    "\n",
    "for question in questions:\n",
    "    result = qa_chain({\"query\": question, \"chat_history\": chat_history})\n",
    "    #chat_history.append((question, result))\n",
    "    print(\"\\033[1;31;34m\")\n",
    "    print(f\"Question: {question}\")\n",
    "    print(\"\\033[1;31;32m\")\n",
    "    print(f\"Answer: {result['result']}\")"
   ]
  },
  {
   "cell_type": "code",
   "execution_count": 19,
   "id": "310bf57e",
   "metadata": {},
   "outputs": [
    {
     "name": "stdout",
     "output_type": "stream",
     "text": [
      "\u001b[1;31;34m\n",
      "Question: Can you generate some hashtags from Saint_Gobain_materials.csv?\n",
      "\u001b[1;31;32m\n",
      "Answer: #InteriorMaterials #LuxuryInteriors #PlanetLacEvolution #ArtisticExcellence #VibrantLivingSpaces #UnlimitedDesignPossibilities #InteriorSurfaceDesign #GlassManufacturing #BondingProcess #HighQualityGlass #LabTesting #SaintGobainMaterials\n"
     ]
    }
   ],
   "source": [
    "questions = [\"Can you generate some hashtags from Saint_Gobain_materials.csv?\"]\n",
    "\n",
    "chat_history = []\n",
    "\n",
    "for question in questions:\n",
    "    result = qa_chain({\"query\": question, \"chat_history\": chat_history})\n",
    "    #chat_history.append((question, result))\n",
    "    print(\"\\033[1;31;34m\")\n",
    "    print(f\"Question: {question}\")\n",
    "    print(\"\\033[1;31;32m\")\n",
    "    print(f\"Answer: {result['result']}\")"
   ]
  },
  {
   "cell_type": "code",
   "execution_count": 35,
   "id": "1d45fc5c",
   "metadata": {},
   "outputs": [
    {
     "name": "stdout",
     "output_type": "stream",
     "text": [
      "\u001b[1;31;34m\n",
      "Question: You are a twitter redactor. Write a tweeter post about the content of Saint_Gobain_materials.csv?Use some smileys\n",
      "\u001b[1;31;32m\n",
      "Answer: Just analyzed the transcript from Saint_Gobain_materials.csv 📑🔍 So many amazing interior materials and glass products! 🏢✨ They redefine luxury and create vibrant living spaces. 🌈🏠 Saint-Gobain is all about innovation and quality. 👏🌟 #InteriorDesign #LuxuryLiving #Innovation\n"
     ]
    }
   ],
   "source": [
    "questions = [\"You are a twitter redactor. Write a tweeter post about the content of Saint_Gobain_materials.csv?\\\n",
    "Use some smileys\"]\n",
    "\n",
    "chat_history = []\n",
    "\n",
    "for question in questions:\n",
    "    result = qa_chain({\"query\": question, \"chat_history\": chat_history})\n",
    "    #chat_history.append((question, result))\n",
    "    print(\"\\033[1;31;34m\")\n",
    "    print(f\"Question: {question}\")\n",
    "    print(\"\\033[1;31;32m\")\n",
    "    print(f\"Answer: {result['result']}\")"
   ]
  },
  {
   "cell_type": "code",
   "execution_count": 21,
   "id": "06306631",
   "metadata": {},
   "outputs": [
    {
     "name": "stdout",
     "output_type": "stream",
     "text": [
      "\u001b[1;31;34m\n",
      "Question: What are the countries names from Saint_Gobain_2023.csv\n",
      "\u001b[1;31;32m\n",
      "Answer: Based on the provided transcript, the following country names are mentioned in the Saint_Gobain_2023.csv file: Canada, Mexico, Brazil, Egypt, Finland, Norway, Germany.\n"
     ]
    }
   ],
   "source": [
    "questions = [\"What are the countries names from Saint_Gobain_2023.csv\"]\n",
    "\n",
    "chat_history = []\n",
    "\n",
    "for question in questions:\n",
    "    result = qa_chain({\"query\": question, \"chat_history\": chat_history})\n",
    "    #chat_history.append((question, result))\n",
    "    print(\"\\033[1;31;34m\")\n",
    "    print(f\"Question: {question}\")\n",
    "    print(\"\\033[1;31;32m\")\n",
    "    print(f\"Answer: {result['result']}\")"
   ]
  },
  {
   "cell_type": "code",
   "execution_count": 22,
   "id": "01857119",
   "metadata": {},
   "outputs": [
    {
     "name": "stdout",
     "output_type": "stream",
     "text": [
      "\u001b[1;31;34m\n",
      "Question: Do we have a mention of 'Planilac lacquer' in the St_Gobain.csv file?\n",
      "\u001b[1;31;32m\n",
      "Answer: Yes, there are several mentions of 'Planilac lacquer' in the St_Gobain.csv file.\n"
     ]
    }
   ],
   "source": [
    "questions = [\"Do we have a mention of 'Planilac lacquer' in the St_Gobain.csv file?\"]\n",
    "\n",
    "chat_history = []\n",
    "\n",
    "for question in questions:\n",
    "    result = qa_chain({\"query\": question, \"chat_history\": chat_history})\n",
    "    #chat_history.append((question, result))\n",
    "    print(\"\\033[1;31;34m\")\n",
    "    print(f\"Question: {question}\")\n",
    "    print(\"\\033[1;31;32m\")\n",
    "    print(f\"Answer: {result['result']}\")"
   ]
  },
  {
   "cell_type": "code",
   "execution_count": 23,
   "id": "56538d3d",
   "metadata": {},
   "outputs": [
    {
     "name": "stdout",
     "output_type": "stream",
     "text": [
      "\u001b[1;31;34m\n",
      "Question: How many different stages do we have in the process of curing of glass in the St_Gobain.csv file?\n",
      "\u001b[1;31;32m\n",
      "Answer: There are 12 different stages in the process of curing of glass in the St_Gobain.csv file.\n"
     ]
    }
   ],
   "source": [
    "questions = [\"How many different stages do we have in the process of curing of glass in the St_Gobain.csv file?\"]\n",
    "\n",
    "chat_history = []\n",
    "\n",
    "for question in questions:\n",
    "    result = qa_chain({\"query\": question, \"chat_history\": chat_history})\n",
    "    #chat_history.append((question, result))\n",
    "    print(\"\\033[1;31;34m\")\n",
    "    print(f\"Question: {question}\")\n",
    "    print(\"\\033[1;31;32m\")\n",
    "    print(f\"Answer: {result['result']}\")"
   ]
  },
  {
   "cell_type": "code",
   "execution_count": 24,
   "id": "6078e139",
   "metadata": {},
   "outputs": [
    {
     "name": "stdout",
     "output_type": "stream",
     "text": [
      "\u001b[1;31;34m\n",
      "Question: Display the timeframe of the curing of glass process in the St_Gobain.csv file?\n",
      "\u001b[1;31;32m\n",
      "Answer: The timeframe of the curing of glass process in the St_Gobain.csv file is from 00:02:49.120 to 00:02:56.400.\n"
     ]
    }
   ],
   "source": [
    "questions = [\"Display the timeframe of the curing of glass process in the St_Gobain.csv file?\"]\n",
    "\n",
    "chat_history = []\n",
    "\n",
    "for question in questions:\n",
    "    result = qa_chain({\"query\": question, \"chat_history\": chat_history})\n",
    "    #chat_history.append((question, result))\n",
    "    print(\"\\033[1;31;34m\")\n",
    "    print(f\"Question: {question}\")\n",
    "    print(\"\\033[1;31;32m\")\n",
    "    print(f\"Answer: {result['result']}\")"
   ]
  },
  {
   "cell_type": "code",
   "execution_count": 25,
   "id": "2b35349b",
   "metadata": {},
   "outputs": [
    {
     "name": "stdout",
     "output_type": "stream",
     "text": [
      "\u001b[1;31;34m\n",
      "Question: What are the different tests in the St_Gobain_materials.csv file?\n",
      "\u001b[1;31;32m\n",
      "Answer: The different tests mentioned in the St_Gobain_materials.csv file are Tabor tests, Color value test, and high humidity test.\n"
     ]
    }
   ],
   "source": [
    "questions = [\"What are the different tests in the St_Gobain_materials.csv file?\"]\n",
    "\n",
    "chat_history = []\n",
    "\n",
    "for question in questions:\n",
    "    result = qa_chain({\"query\": question, \"chat_history\": chat_history})\n",
    "    #chat_history.append((question, result))\n",
    "    print(\"\\033[1;31;34m\")\n",
    "    print(f\"Question: {question}\")\n",
    "    print(\"\\033[1;31;32m\")\n",
    "    print(f\"Answer: {result['result']}\")"
   ]
  },
  {
   "cell_type": "code",
   "execution_count": 26,
   "id": "b2f05da0",
   "metadata": {},
   "outputs": [
    {
     "name": "stdout",
     "output_type": "stream",
     "text": [
      "\u001b[1;31;34m\n",
      "Question: Display the timeframe of the the 'Color value tests' in the St_Gobain_materials.csv file? Just print the values              like a json file\n",
      "\u001b[1;31;32m\n",
      "Answer: {\n",
      "  \"Color value tests\": {\n",
      "    \"start_time\": \"00:03:23.428\",\n",
      "    \"end_time\": \"00:03:28.158\"\n",
      "  }\n",
      "}\n"
     ]
    }
   ],
   "source": [
    "questions = [\"Display the timeframe of the the 'Color value tests' in the St_Gobain_materials.csv file? Just print the values \\\n",
    "             like a json file\"]\n",
    "\n",
    "chat_history = []\n",
    "\n",
    "for question in questions:\n",
    "    result = qa_chain({\"query\": question, \"chat_history\": chat_history})\n",
    "    #chat_history.append((question, result))\n",
    "    print(\"\\033[1;31;34m\")\n",
    "    print(f\"Question: {question}\")\n",
    "    print(\"\\033[1;31;32m\")\n",
    "    print(f\"Answer: {result['result']}\")"
   ]
  },
  {
   "cell_type": "code",
   "execution_count": 27,
   "id": "7bf962b0",
   "metadata": {},
   "outputs": [
    {
     "name": "stdout",
     "output_type": "stream",
     "text": [
      "\u001b[1;31;34m\n",
      "Question: Display the timeframe of the curing of glass process in the St_Gobain.csv file? Just print the values              like a json file\n",
      "\u001b[1;31;32m\n",
      "Answer: {\n",
      "  \"start_time\": \"00:01:38.390\",\n",
      "  \"end_time\": \"00:01:46.276\"\n",
      "}\n"
     ]
    }
   ],
   "source": [
    "questions = [\"Display the timeframe of the curing of glass process in the St_Gobain.csv file? Just print the values \\\n",
    "             like a json file\"]\n",
    "\n",
    "chat_history = []\n",
    "\n",
    "for question in questions:\n",
    "    result = qa_chain({\"query\": question, \"chat_history\": chat_history})\n",
    "    #chat_history.append((question, result))\n",
    "    print(\"\\033[1;31;34m\")\n",
    "    print(f\"Question: {question}\")\n",
    "    print(\"\\033[1;31;32m\")\n",
    "    print(f\"Answer: {result['result']}\")"
   ]
  },
  {
   "cell_type": "code",
   "execution_count": 28,
   "id": "52655939",
   "metadata": {},
   "outputs": [
    {
     "name": "stdout",
     "output_type": "stream",
     "text": [
      "\u001b[1;31;34m\n",
      "Question: Display the timeframe of the mention of Canada in the St_Gobain.csv file? Just print the values like a json file.\n",
      "\u001b[1;31;32m\n",
      "Answer: {\"start_time\": \"00:01:20.270\", \"end_time\": \"00:01:25.945\"}\n"
     ]
    }
   ],
   "source": [
    "questions = [\"Display the timeframe of the mention of Canada in the St_Gobain.csv file? Just print the values \\\n",
    "like a json file.\"]\n",
    "\n",
    "chat_history = []\n",
    "\n",
    "for question in questions:\n",
    "    result = qa_chain({\"query\": question, \"chat_history\": chat_history})\n",
    "    #chat_history.append((question, result))\n",
    "    print(\"\\033[1;31;34m\")\n",
    "    print(f\"Question: {question}\")\n",
    "    print(\"\\033[1;31;32m\")\n",
    "    print(f\"Answer: {result['result']}\")"
   ]
  },
  {
   "cell_type": "markdown",
   "id": "603bc51d",
   "metadata": {},
   "source": [
    "## Webapp"
   ]
  },
  {
   "cell_type": "code",
   "execution_count": 29,
   "id": "8513c37f",
   "metadata": {},
   "outputs": [],
   "source": [
    "def webapp_function(prompt):\n",
    "    \"\"\"\n",
    "    Gradio function\n",
    "    \"\"\"\n",
    "    template = \"\"\"You are analyzing a transcript text file that contains the speech to text results from a video file. \n",
    "    {context}\n",
    "    Question: {question}\n",
    "    Helpful Answer:\"\"\"\n",
    "\n",
    "    QA_CHAIN_PROMPT = PromptTemplate.from_template(template)\n",
    "    qa_chain = RetrievalQA.from_chain_type(\n",
    "        llm,\n",
    "        retriever=retriever,\n",
    "        chain_type_kwargs={\"prompt\": QA_CHAIN_PROMPT},\n",
    "    )\n",
    "    questions = [prompt]\n",
    "    chat_history = []\n",
    "\n",
    "    for question in questions:\n",
    "        result = qa_chain({\"query\": question, \"chat_history\": chat_history})\n",
    "        answer = result['result']\n",
    "        \n",
    "    return answer"
   ]
  },
  {
   "cell_type": "code",
   "execution_count": 30,
   "id": "eec9f91b",
   "metadata": {},
   "outputs": [
    {
     "name": "stdout",
     "output_type": "stream",
     "text": [
      "Running on local URL:  http://127.0.0.1:7860\n",
      "Running on public URL: https://8824376493967d51e6.gradio.live\n",
      "\n",
      "This share link expires in 72 hours. For free permanent hosting and GPU upgrades (NEW!), check out Spaces: https://huggingface.co/spaces\n"
     ]
    },
    {
     "data": {
      "text/html": [
       "<div><iframe src=\"https://8824376493967d51e6.gradio.live\" width=\"100%\" height=\"500\" allow=\"autoplay; camera; microphone; clipboard-read; clipboard-write;\" frameborder=\"0\" allowfullscreen></iframe></div>"
      ],
      "text/plain": [
       "<IPython.core.display.HTML object>"
      ]
     },
     "metadata": {},
     "output_type": "display_data"
    },
    {
     "data": {
      "text/plain": []
     },
     "execution_count": 30,
     "metadata": {},
     "output_type": "execute_result"
    }
   ],
   "source": [
    "logo = \"https://github.com/retkowsky/images/blob/master/aoai.jpg?raw=true\"\n",
    "image = \"<center> <img src= {} width=240px></center>\".format(logo)\n",
    "title = \"Azure Open AI Chat GPT on Video Indexer transcripts\"\n",
    "\n",
    "samples = [\n",
    "    \"Display the timeframe of the curing of glass process in the St_Gobain.csv file?\",\n",
    "    \"In which documents are we talking about the process of curing of glass?\",\n",
    "    \"How many different stages do we have in the process of curing of glass in the St_Gobain.csv file?\",\n",
    "    \"Display the timeframe of the mention of Canada in the St_Gobain.csv file? Just print the values like a json file.\",\n",
    "    \"You are a twitter redactor. Write a tweeter post about the content of St_Gobain.csv? Use some smileys.\",\n",
    "    \"Could you summarize in a couple of lines the document Saint_Gobain_2023.csv?\",\n",
    "    \"Could you summarize St_Gobain.csv?\",\n",
    "    \"Can you generate 10 keywords from Saint_Gobain_2023.csv?\",\n",
    "]\n",
    "\n",
    "inputs = [gr.Textbox(label=\"Your prompt:\")]\n",
    "outputs = \"text\"\n",
    "\n",
    "# Webapp\n",
    "webapp = gr.Interface(fn=webapp_function,\n",
    "                      inputs=inputs,\n",
    "                      outputs=outputs,\n",
    "                      description=image,\n",
    "                      title=title,\n",
    "                      examples = samples,\n",
    "                      theme=\"Taithrah/Minimal\",  # https://huggingface.co/spaces/gradio/theme-gallery\n",
    "                     )\n",
    "\n",
    "# Running the webapp\n",
    "webapp.launch(share=True)"
   ]
  },
  {
   "cell_type": "markdown",
   "id": "c3d8922a",
   "metadata": {},
   "source": [
    "## Post Processing"
   ]
  },
  {
   "cell_type": "code",
   "execution_count": 31,
   "id": "9b7581eb",
   "metadata": {},
   "outputs": [],
   "source": [
    "def acs_delete_index(index_name):\n",
    "    \"\"\"\n",
    "    Deleting an Azure Cognitive Search index\n",
    "    Input: an Azure Cognitive Search index name\n",
    "    \"\"\"\n",
    "    start = time.time()\n",
    "    \n",
    "    search_client = SearchIndexClient(\n",
    "        endpoint=os.getenv(\"AZURE_COGNITIVE_SEARCH_ENDPOINT\"),\n",
    "        credential=AzureKeyCredential(os.getenv(\"AZURE_COGNITIVE_SEARCH_API_KEY\"))\n",
    "    )\n",
    "    \n",
    "    try:\n",
    "        print(\"Deleting the Azure Cognitive Search index:\", index_name)\n",
    "        search_client.delete_index(index_name)\n",
    "        print(\"Done. Elapsed time:\", round(time.time() - start, 2), \"secs\")\n",
    "    except:\n",
    "        print(\"Cannot delete index. Check the index name.\")"
   ]
  },
  {
   "cell_type": "code",
   "execution_count": 40,
   "id": "a78cf880",
   "metadata": {},
   "outputs": [],
   "source": [
    "def acs_index_stats(index_name):\n",
    "    \"\"\"\n",
    "    Get statistics about Azure Cognitive Search index\n",
    "    Input: an Azure Cognitive Search index name\n",
    "    \"\"\"\n",
    "    url = (\n",
    "        os.getenv(\"AZURE_COGNITIVE_SEARCH_ENDPOINT\")\n",
    "        + \"/indexes/\"\n",
    "        + index_name\n",
    "        + \"/stats?api-version=2021-04-30-Preview\"\n",
    "    )\n",
    "    headers = {\n",
    "        \"Content-Type\": \"application/json\",\n",
    "        \"api-key\": os.getenv(\"AZURE_COGNITIVE_SEARCH_API_KEY\"),\n",
    "    }\n",
    "    response = requests.get(url, headers=headers)\n",
    "    print(\"Azure Cognitive Search index status for:\", index_name, \"\\n\")\n",
    "\n",
    "    if response.status_code == 200:\n",
    "        res = response.json()\n",
    "        print(json.dumps(res, indent=2))\n",
    "        document_count = res[\"documentCount\"]\n",
    "        storage_size = res[\"storageSize\"]\n",
    "\n",
    "    else:\n",
    "        print(\"Request failed with status code:\", response.status_code)\n",
    "\n",
    "    return document_count, storage_size"
   ]
  },
  {
   "cell_type": "code",
   "execution_count": 41,
   "id": "88ec0300",
   "metadata": {},
   "outputs": [],
   "source": [
    "def acs_index_status(index_name):\n",
    "    \"\"\"\n",
    "    Azure Cognitive Search index status\n",
    "    Input: an Azure Cognitive Search index name\n",
    "    \"\"\"\n",
    "    print(\"Azure Cognitive Search Index:\", index_name, \"\\n\")\n",
    "\n",
    "    headers = {\"Content-Type\": \"application/json\", \"api-key\": os.getenv(\"AZURE_COGNITIVE_SEARCH_API_KEY\")}\n",
    "    params = {\"api-version\": \"2021-04-30-Preview\"}\n",
    "    index_status = requests.get(\n",
    "        os.getenv(\"AZURE_COGNITIVE_SEARCH_ENDPOINT\") + \"/indexes/\" + index_name, headers=headers, params=params\n",
    "    )\n",
    "\n",
    "    try:\n",
    "        print(json.dumps((index_status.json()), indent=5))\n",
    "    except:\n",
    "        print(\"Request failed with status code:\", response.status_code)"
   ]
  },
  {
   "cell_type": "code",
   "execution_count": 42,
   "id": "45900f3b",
   "metadata": {},
   "outputs": [
    {
     "name": "stdout",
     "output_type": "stream",
     "text": [
      "Azure Cognitive Search Index: videoindexer-transcripts \n",
      "\n",
      "{\n",
      "     \"@odata.context\": \"https://azurecogsearcheastussr.search.windows.net/$metadata#indexes/$entity\",\n",
      "     \"@odata.etag\": \"\\\"0x8DBAEE04B64F416\\\"\",\n",
      "     \"name\": \"videoindexer-transcripts\",\n",
      "     \"defaultScoringProfile\": null,\n",
      "     \"fields\": [\n",
      "          {\n",
      "               \"name\": \"id\",\n",
      "               \"type\": \"Edm.String\",\n",
      "               \"searchable\": false,\n",
      "               \"filterable\": true,\n",
      "               \"retrievable\": true,\n",
      "               \"sortable\": false,\n",
      "               \"facetable\": false,\n",
      "               \"key\": true,\n",
      "               \"indexAnalyzer\": null,\n",
      "               \"searchAnalyzer\": null,\n",
      "               \"analyzer\": null,\n",
      "               \"normalizer\": null,\n",
      "               \"synonymMaps\": []\n",
      "          },\n",
      "          {\n",
      "               \"name\": \"content\",\n",
      "               \"type\": \"Edm.String\",\n",
      "               \"searchable\": true,\n",
      "               \"filterable\": false,\n",
      "               \"retrievable\": true,\n",
      "               \"sortable\": false,\n",
      "               \"facetable\": false,\n",
      "               \"key\": false,\n",
      "               \"indexAnalyzer\": null,\n",
      "               \"searchAnalyzer\": null,\n",
      "               \"analyzer\": null,\n",
      "               \"normalizer\": null,\n",
      "               \"synonymMaps\": []\n",
      "          },\n",
      "          {\n",
      "               \"name\": \"content_vector\",\n",
      "               \"type\": \"Collection(Edm.Single)\",\n",
      "               \"searchable\": true,\n",
      "               \"filterable\": false,\n",
      "               \"retrievable\": true,\n",
      "               \"sortable\": false,\n",
      "               \"facetable\": false,\n",
      "               \"key\": false,\n",
      "               \"indexAnalyzer\": null,\n",
      "               \"searchAnalyzer\": null,\n",
      "               \"analyzer\": null,\n",
      "               \"normalizer\": null,\n",
      "               \"synonymMaps\": []\n",
      "          },\n",
      "          {\n",
      "               \"name\": \"metadata\",\n",
      "               \"type\": \"Edm.String\",\n",
      "               \"searchable\": true,\n",
      "               \"filterable\": false,\n",
      "               \"retrievable\": true,\n",
      "               \"sortable\": false,\n",
      "               \"facetable\": false,\n",
      "               \"key\": false,\n",
      "               \"indexAnalyzer\": null,\n",
      "               \"searchAnalyzer\": null,\n",
      "               \"analyzer\": null,\n",
      "               \"normalizer\": null,\n",
      "               \"synonymMaps\": []\n",
      "          }\n",
      "     ],\n",
      "     \"scoringProfiles\": [],\n",
      "     \"corsOptions\": null,\n",
      "     \"suggesters\": [],\n",
      "     \"analyzers\": [],\n",
      "     \"normalizers\": [],\n",
      "     \"tokenizers\": [],\n",
      "     \"tokenFilters\": [],\n",
      "     \"charFilters\": [],\n",
      "     \"encryptionKey\": null,\n",
      "     \"similarity\": {\n",
      "          \"@odata.type\": \"#Microsoft.Azure.Search.BM25Similarity\",\n",
      "          \"k1\": null,\n",
      "          \"b\": null\n",
      "     },\n",
      "     \"semantic\": null\n",
      "}\n"
     ]
    }
   ],
   "source": [
    "acs_index_status(index_name)"
   ]
  },
  {
   "cell_type": "code",
   "execution_count": 43,
   "id": "98b245e9",
   "metadata": {},
   "outputs": [
    {
     "name": "stdout",
     "output_type": "stream",
     "text": [
      "Azure Cognitive Search index status for: videoindexer-transcripts \n",
      "\n",
      "{\n",
      "  \"@odata.context\": \"https://azurecogsearcheastussr.search.windows.net/$metadata#Microsoft.Azure.Search.V2021_04_30_Preview.IndexStatistics\",\n",
      "  \"documentCount\": 4,\n",
      "  \"storageSize\": 139872\n",
      "}\n"
     ]
    },
    {
     "data": {
      "text/plain": [
       "(4, 139872)"
      ]
     },
     "execution_count": 43,
     "metadata": {},
     "output_type": "execute_result"
    }
   ],
   "source": [
    "acs_index_stats(index_name)"
   ]
  },
  {
   "cell_type": "code",
   "execution_count": 44,
   "id": "a80664d0",
   "metadata": {},
   "outputs": [],
   "source": [
    "from azure.search.documents.indexes import SearchIndexClient\n",
    "from azure.core.credentials import AzureKeyCredential"
   ]
  },
  {
   "cell_type": "code",
   "execution_count": 45,
   "id": "a6b7b383",
   "metadata": {},
   "outputs": [
    {
     "name": "stdout",
     "output_type": "stream",
     "text": [
      "Deleting the Azure Cognitive Search index: videoindexer-transcripts\n",
      "Done. Elapsed time: 0.62 secs\n"
     ]
    }
   ],
   "source": [
    "acs_delete_index(index_name)"
   ]
  },
  {
   "cell_type": "code",
   "execution_count": null,
   "id": "25e34908",
   "metadata": {},
   "outputs": [],
   "source": []
  }
 ],
 "metadata": {
  "kernelspec": {
   "display_name": "Python 3.10 - SDK v2",
   "language": "python",
   "name": "python310-sdkv2"
  },
  "language_info": {
   "codemirror_mode": {
    "name": "ipython",
    "version": 3
   },
   "file_extension": ".py",
   "mimetype": "text/x-python",
   "name": "python",
   "nbconvert_exporter": "python",
   "pygments_lexer": "ipython3",
   "version": "3.10.10"
  }
 },
 "nbformat": 4,
 "nbformat_minor": 5
}
