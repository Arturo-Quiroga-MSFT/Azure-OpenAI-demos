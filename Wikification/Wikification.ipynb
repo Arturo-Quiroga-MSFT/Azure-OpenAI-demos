{
 "cells": [
  {
   "cell_type": "markdown",
   "metadata": {},
   "source": [
    "# Wikification"
   ]
  },
  {
   "cell_type": "code",
   "execution_count": 1,
   "metadata": {},
   "outputs": [],
   "source": [
    "import json\n",
    "import openai\n",
    "import os\n",
    "import sys\n",
    "\n",
    "from dotenv import load_dotenv\n",
    "from pprint import pprint"
   ]
  },
  {
   "cell_type": "code",
   "execution_count": 2,
   "metadata": {},
   "outputs": [],
   "source": [
    "load_dotenv(\"azure.env\")\n",
    "\n",
    "openai.api_type: str = \"azure\"\n",
    "openai.api_key = os.getenv(\"OPENAI_API_KEY\")\n",
    "openai.api_base = os.getenv(\"OPENAI_API_BASE\")\n",
    "openai.api_version = os.getenv(\"OPENAI_API_VERSION\")"
   ]
  },
  {
   "cell_type": "code",
   "execution_count": 3,
   "metadata": {},
   "outputs": [],
   "source": [
    "model = \"text-davinci-003\""
   ]
  },
  {
   "cell_type": "code",
   "execution_count": 4,
   "metadata": {},
   "outputs": [],
   "source": [
    "def wikification(text, model, max_tokens=500):\n",
    "    prompt = (\n",
    "        \"\"\"You will read a text, and you will detect named entities contained in it \n",
    "--- \n",
    "TEXT \"\"\"\n",
    "        + text\n",
    "        + \"\"\"  \n",
    "---\n",
    "Now you will connect the named entities to a corresponding Wikipedia Page. \n",
    "If there are several wikipedia pages corresponding, select wikipedia pages that have a logic connection\n",
    "\n",
    "Finally you will return the result in a json format like the one below:\n",
    "\n",
    "{\n",
    "    \"links\" : [\n",
    "      { \n",
    "        \"wikipedia_page\":\"HERE PUT THE WIKIPEDIA PAGE URL\",\n",
    "        \"wikipedia_page_title\":\"HERE PUT THE WIKIPEDIA PAGE TITLE\",\n",
    "        \"text\":\"HERE PUT THE DETECTED TEXT\"\n",
    "      },\n",
    "       ... ]\n",
    "}\n",
    "\n",
    "Answer:\n",
    "\"\"\"\n",
    "    )\n",
    "    result = openai.Completion.create(\n",
    "        prompt=prompt,\n",
    "        temperature=0.8,\n",
    "        max_tokens=max_tokens,\n",
    "        engine=model,\n",
    "    )\n",
    "\n",
    "    results = json.loads(result[\"choices\"][0][\"text\"].strip(\"\\n\").replace(\"\\n\", \"\"))\n",
    "\n",
    "    return results"
   ]
  },
  {
   "cell_type": "code",
   "execution_count": 5,
   "metadata": {},
   "outputs": [],
   "source": [
    "def print_wikification(results):\n",
    "    \"\"\"\n",
    "    Print the wikification results\n",
    "    \"\"\"\n",
    "    print(\"\\033[1;31;32m\")\n",
    "    for link in results['links']:\n",
    "        text = link['text']\n",
    "        wikipedia_page = link['wikipedia_page']\n",
    "        wikipedia_page_title = link['wikipedia_page_title']\n",
    "    \n",
    "        print(f'Text: {text}')\n",
    "        print(f'Wikipedia Page: {wikipedia_page}')\n",
    "        print(f'Wikipedia Page Title: {wikipedia_page_title}')\n",
    "        print()"
   ]
  },
  {
   "cell_type": "code",
   "execution_count": 6,
   "metadata": {},
   "outputs": [],
   "source": [
    "text1 = \"The OpenAI API can be applied to virtually any task that requires understanding or \\\n",
    "generating natural language and code. The OpenAI API can also be used to generate and edit \\\n",
    "images or convert speech into text. We offer a range of models with different capabilities and \\\n",
    "price points, as well as the ability to fine-tune custom models.\""
   ]
  },
  {
   "cell_type": "code",
   "execution_count": 7,
   "metadata": {},
   "outputs": [
    {
     "name": "stdout",
     "output_type": "stream",
     "text": [
      "{'links': [{'text': 'OpenAI API',\n",
      "            'wikipedia_page': 'https://en.wikipedia.org/wiki/OpenAI',\n",
      "            'wikipedia_page_title': 'OpenAI'},\n",
      "           {'text': 'natural language',\n",
      "            'wikipedia_page': 'https://en.wikipedia.org/wiki/Natural_language_processing',\n",
      "            'wikipedia_page_title': 'Natural language processing'},\n",
      "           {'text': 'generate and edit images',\n",
      "            'wikipedia_page': 'https://en.wikipedia.org/wiki/Computer_graphics',\n",
      "            'wikipedia_page_title': 'Computer graphics'},\n",
      "           {'text': 'convert speech into text',\n",
      "            'wikipedia_page': 'https://en.wikipedia.org/wiki/Speech_recognition',\n",
      "            'wikipedia_page_title': 'Speech recognition'}]}\n"
     ]
    }
   ],
   "source": [
    "res1 = wikification(text1, model=model)\n",
    "\n",
    "pprint(res1)"
   ]
  },
  {
   "cell_type": "code",
   "execution_count": 8,
   "metadata": {},
   "outputs": [
    {
     "name": "stdout",
     "output_type": "stream",
     "text": [
      "\u001b[1;31;32m\n",
      "Text: OpenAI API\n",
      "Wikipedia Page: https://en.wikipedia.org/wiki/OpenAI\n",
      "Wikipedia Page Title: OpenAI\n",
      "\n",
      "Text: natural language\n",
      "Wikipedia Page: https://en.wikipedia.org/wiki/Natural_language_processing\n",
      "Wikipedia Page Title: Natural language processing\n",
      "\n",
      "Text: generate and edit images\n",
      "Wikipedia Page: https://en.wikipedia.org/wiki/Computer_graphics\n",
      "Wikipedia Page Title: Computer graphics\n",
      "\n",
      "Text: convert speech into text\n",
      "Wikipedia Page: https://en.wikipedia.org/wiki/Speech_recognition\n",
      "Wikipedia Page Title: Speech recognition\n",
      "\n"
     ]
    }
   ],
   "source": [
    "print_wikification(res1)"
   ]
  },
  {
   "cell_type": "code",
   "execution_count": 9,
   "metadata": {},
   "outputs": [],
   "source": [
    "text2 = \"Microsoft plans event to share AI announcements for OneDrive\""
   ]
  },
  {
   "cell_type": "code",
   "execution_count": 10,
   "metadata": {},
   "outputs": [
    {
     "name": "stdout",
     "output_type": "stream",
     "text": [
      "{'links': [{'text': 'Microsoft',\n",
      "            'wikipedia_page': 'https://en.wikipedia.org/wiki/Microsoft',\n",
      "            'wikipedia_page_title': 'Microsoft'},\n",
      "           {'text': 'AI',\n",
      "            'wikipedia_page': 'https://en.wikipedia.org/wiki/AI',\n",
      "            'wikipedia_page_title': 'AI'},\n",
      "           {'text': 'OneDrive',\n",
      "            'wikipedia_page': 'https://en.wikipedia.org/wiki/OneDrive',\n",
      "            'wikipedia_page_title': 'OneDrive'}]}\n"
     ]
    }
   ],
   "source": [
    "res2 = wikification(text2, model=model)\n",
    "pprint(res2)"
   ]
  },
  {
   "cell_type": "code",
   "execution_count": 11,
   "metadata": {},
   "outputs": [
    {
     "name": "stdout",
     "output_type": "stream",
     "text": [
      "\u001b[1;31;32m\n",
      "Text: Microsoft\n",
      "Wikipedia Page: https://en.wikipedia.org/wiki/Microsoft\n",
      "Wikipedia Page Title: Microsoft\n",
      "\n",
      "Text: AI\n",
      "Wikipedia Page: https://en.wikipedia.org/wiki/AI\n",
      "Wikipedia Page Title: AI\n",
      "\n",
      "Text: OneDrive\n",
      "Wikipedia Page: https://en.wikipedia.org/wiki/OneDrive\n",
      "Wikipedia Page Title: OneDrive\n",
      "\n"
     ]
    }
   ],
   "source": [
    "print_wikification(res2)"
   ]
  },
  {
   "cell_type": "code",
   "execution_count": 12,
   "metadata": {},
   "outputs": [],
   "source": [
    "text3 = \"\"\"Wikification is a fundamental task in natural language processing that involves linking \\\n",
    "named entities in a given text to their corresponding entries in a knowledge base, such as Wikipedia. \\\n",
    "In this notebook, we will explore how to leverage OpenAI's powerful language models to perform wikification \\\n",
    "using the LLM model.\n",
    "Entity linking and annotation are crucial for a wide range of applications, including information retrieval, \\\n",
    "question answering systems, text summarization, and more. By linking entities to knowledge bases, \\\n",
    "we can enrich the understanding of text and facilitate further analysis.\n",
    "Throughout this notebook, we will guide you through the process of setting up the environment, \\\n",
    "installing the necessary libraries, and implementing the steps involved in performing wikification \\\n",
    "with OpenAI's LLM model.\"\"\""
   ]
  },
  {
   "cell_type": "code",
   "execution_count": 13,
   "metadata": {},
   "outputs": [
    {
     "name": "stdout",
     "output_type": "stream",
     "text": [
      "{'links': [{'text': 'Wikification',\n",
      "            'wikipedia_page': 'https://en.wikipedia.org/wiki/Wikification',\n",
      "            'wikipedia_page_title': 'Wikification'},\n",
      "           {'text': 'natural language processing',\n",
      "            'wikipedia_page': 'https://en.wikipedia.org/wiki/Natural_language_processing',\n",
      "            'wikipedia_page_title': 'Natural language processing'},\n",
      "           {'text': 'OpenAI',\n",
      "            'wikipedia_page': 'https://en.wikipedia.org/wiki/OpenAI',\n",
      "            'wikipedia_page_title': 'OpenAI'},\n",
      "           {'text': 'LLM model',\n",
      "            'wikipedia_page': 'https://en.wikipedia.org/wiki/Language_model',\n",
      "            'wikipedia_page_title': 'Language model'},\n",
      "           {'text': 'entity linking',\n",
      "            'wikipedia_page': 'https://en.wikipedia.org/wiki/Entity_linking',\n",
      "            'wikipedia_page_title': 'Entity linking'},\n",
      "           {'text': 'information retrieval',\n",
      "            'wikipedia_page': 'https://en.wikipedia.org/wiki/Information_retrieval',\n",
      "            'wikipedia_page_title': 'Information retrieval'},\n",
      "           {'text': 'question answering systems',\n",
      "            'wikipedia_page': 'https://en.wikipedia.org/wiki/Question_answering',\n",
      "            'wikipedia_page_title': 'Question answering'},\n",
      "           {'text': 'text summarization',\n",
      "            'wikipedia_page': 'https://en.wikipedia.org/wiki/Text_summarization',\n",
      "            'wikipedia_page_title': 'Text summarization'}]}\n"
     ]
    }
   ],
   "source": [
    "res3 = wikification(text3, model=model, max_tokens=1000)\n",
    "pprint(res3)"
   ]
  },
  {
   "cell_type": "code",
   "execution_count": 14,
   "metadata": {},
   "outputs": [
    {
     "name": "stdout",
     "output_type": "stream",
     "text": [
      "\u001b[1;31;32m\n",
      "Text: Wikification\n",
      "Wikipedia Page: https://en.wikipedia.org/wiki/Wikification\n",
      "Wikipedia Page Title: Wikification\n",
      "\n",
      "Text: natural language processing\n",
      "Wikipedia Page: https://en.wikipedia.org/wiki/Natural_language_processing\n",
      "Wikipedia Page Title: Natural language processing\n",
      "\n",
      "Text: OpenAI\n",
      "Wikipedia Page: https://en.wikipedia.org/wiki/OpenAI\n",
      "Wikipedia Page Title: OpenAI\n",
      "\n",
      "Text: LLM model\n",
      "Wikipedia Page: https://en.wikipedia.org/wiki/Language_model\n",
      "Wikipedia Page Title: Language model\n",
      "\n",
      "Text: entity linking\n",
      "Wikipedia Page: https://en.wikipedia.org/wiki/Entity_linking\n",
      "Wikipedia Page Title: Entity linking\n",
      "\n",
      "Text: information retrieval\n",
      "Wikipedia Page: https://en.wikipedia.org/wiki/Information_retrieval\n",
      "Wikipedia Page Title: Information retrieval\n",
      "\n",
      "Text: question answering systems\n",
      "Wikipedia Page: https://en.wikipedia.org/wiki/Question_answering\n",
      "Wikipedia Page Title: Question answering\n",
      "\n",
      "Text: text summarization\n",
      "Wikipedia Page: https://en.wikipedia.org/wiki/Text_summarization\n",
      "Wikipedia Page Title: Text summarization\n",
      "\n"
     ]
    }
   ],
   "source": [
    "print_wikification(res3)"
   ]
  },
  {
   "cell_type": "code",
   "execution_count": null,
   "metadata": {},
   "outputs": [],
   "source": []
  }
 ],
 "metadata": {
  "kernelspec": {
   "display_name": "Python 3.10 - SDK v2",
   "language": "python",
   "name": "python310-sdkv2"
  },
  "language_info": {
   "codemirror_mode": {
    "name": "ipython",
    "version": 3
   },
   "file_extension": ".py",
   "mimetype": "text/x-python",
   "name": "python",
   "nbconvert_exporter": "python",
   "pygments_lexer": "ipython3",
   "version": "3.10.10"
  }
 },
 "nbformat": 4,
 "nbformat_minor": 2
}
