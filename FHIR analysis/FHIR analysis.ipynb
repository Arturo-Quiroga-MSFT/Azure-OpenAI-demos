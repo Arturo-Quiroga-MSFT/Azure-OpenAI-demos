{
 "cells": [
  {
   "cell_type": "markdown",
   "id": "bbeeb8bc",
   "metadata": {},
   "source": [
    "# Azure Open AI and FHIR"
   ]
  },
  {
   "cell_type": "markdown",
   "id": "70940acb",
   "metadata": {},
   "source": [
    "https://en.wikipedia.org/wiki/Fast_Healthcare_Interoperability_Resources"
   ]
  },
  {
   "cell_type": "code",
   "execution_count": 1,
   "id": "eeefd124",
   "metadata": {},
   "outputs": [],
   "source": [
    "import os\n",
    "import openai\n",
    "import json\n",
    "\n",
    "from dotenv import load_dotenv"
   ]
  },
  {
   "cell_type": "code",
   "execution_count": 2,
   "id": "023347ac",
   "metadata": {},
   "outputs": [
    {
     "name": "stdout",
     "output_type": "stream",
     "text": [
      "openai version = 0.28.0\n"
     ]
    }
   ],
   "source": [
    "print(\"openai version =\", openai.__version__)"
   ]
  },
  {
   "cell_type": "code",
   "execution_count": 3,
   "id": "1eb66c65",
   "metadata": {},
   "outputs": [],
   "source": [
    "load_dotenv(\"azure.env\")\n",
    "\n",
    "openai.api_key = os.getenv(\"OPENAI_API_KEY\")\n",
    "openai.api_base = os.getenv(\"OPENAI_API_BASE\")\n",
    "openai.api_version = \"2023-07-01-preview\"\n",
    "openai.api_type = \"azure\""
   ]
  },
  {
   "cell_type": "markdown",
   "id": "418f3cb7",
   "metadata": {},
   "source": [
    "## Example 1"
   ]
  },
  {
   "cell_type": "code",
   "execution_count": 4,
   "id": "c9236a00",
   "metadata": {},
   "outputs": [
    {
     "name": "stdout",
     "output_type": "stream",
     "text": [
      "--2023-09-10 16:53:38--  http://docs.smarthealthit.org/dstu2-examples/examples/allergyintolerance-example.canonical.json\n",
      "Resolving docs.smarthealthit.org (docs.smarthealthit.org)... 185.199.111.153, 185.199.110.153, 185.199.109.153, ...\n",
      "Connecting to docs.smarthealthit.org (docs.smarthealthit.org)|185.199.111.153|:80... connected.\n",
      "HTTP request sent, awaiting response... 200 OK\n",
      "Length: 2473 (2.4K) [application/json]\n",
      "Saving to: ‘allergyintolerance-example.canonical.json.1’\n",
      "\n",
      "allergyintolerance- 100%[===================>]   2.42K  --.-KB/s    in 0s      \n",
      "\n",
      "2023-09-10 16:53:38 (127 MB/s) - ‘allergyintolerance-example.canonical.json.1’ saved [2473/2473]\n",
      "\n"
     ]
    }
   ],
   "source": [
    "!wget http://docs.smarthealthit.org/dstu2-examples/examples/allergyintolerance-example.canonical.json"
   ]
  },
  {
   "cell_type": "code",
   "execution_count": 5,
   "id": "6d7b3593",
   "metadata": {},
   "outputs": [
    {
     "name": "stdout",
     "output_type": "stream",
     "text": [
      "JSON data as a string:\n",
      "{\"category\":\"food\",\"criticality\":\"CRITH\",\"id\":\"example\",\"identifier\":[{\"system\":\"http://acme.com/ids/patients/risks\",\"value\":\"49476534\"}],\"lastOccurence\":\"2012-06\",\"patient\":{\"reference\":\"Patient/example\"},\"reaction\":[{\"description\":\"Challenge Protocol. Severe Reaction to 1/8 cashew. Epinephrine administered\",\"manifestation\":[{\"coding\":[{\"code\":\"39579001\",\"display\":\"Anaphylactic reaction\",\"system\":\"http://snomed.info/sct\"}]}],\"onset\":\"2012-06-12\",\"severity\":\"severe\",\"substance\":{\"coding\":[{\"code\":\"C3214954\",\"display\":\"cashew nut allergenic extract Injectable Product\",\"system\":\"http://www.nlm.nih.gov/research/umls/rxnorm\"}]}},{\"certainty\":\"likely\",\"manifestation\":[{\"coding\":[{\"code\":\"64305001\",\"display\":\"Urticaria\",\"system\":\"http://snomed.info/sct\"}]}],\"onset\":\"2004\",\"severity\":\"moderate\"}],\"recordedDate\":\"2014-10-09T14:58:00+11:00\",\"recorder\":{\"reference\":\"Practitioner/example\"},\"resourceType\":\"AllergyIntolerance\",\"status\":\"confirmed\",\"substance\":{\"coding\":[{\"code\":\"227493005\",\"display\":\"Cashew nuts\",\"system\":\"http://snomed.info/sct\"}]},\"text\":{\"div\":\"<div><p><b>Generated Narrative with Details</b></p><p><b>id</b>: example</p><p><b>identifier</b>: 49476534</p><p><b>recordedDate</b>: 09/10/2014 2:58:00 PM</p><p><b>recorder</b>: <a>Practitioner/example</a></p><p><b>patient</b>: <a>Patient/example</a></p><p><b>substance</b>: Cashew nuts <span>(Details : {SNOMED CT code '227493005' = '227493005', given as 'Cashew nuts'})</span></p><p><b>status</b>: confirmed</p><p><b>criticality</b>: CRITH</p><p><b>type</b>: allergy</p><p><b>category</b>: food</p><p><b>lastOccurence</b>: 01/06/2012</p><blockquote><p><b>reaction</b></p><p><b>substance</b>: cashew nut allergenic extract Injectable Product <span>(Details : {RxNorm code 'C3214954' = '??', given as 'cashew nut allergenic extract Injectable Product'})</span></p><p><b>manifestation</b>: Anaphylactic reaction <span>(Details : {SNOMED CT code '39579001' = '39579001', given as 'Anaphylactic reaction'})</span></p><p><b>description</b>: Challenge Protocol. Severe Reaction to 1/8 cashew. Epinephrine administered</p><p><b>onset</b>: 12/06/2012</p><p><b>severity</b>: severe</p></blockquote><blockquote><p><b>reaction</b></p><p><b>certainty</b>: likely</p><p><b>manifestation</b>: Urticaria <span>(Details : {SNOMED CT code '64305001' = '64305001', given as 'Urticaria'})</span></p><p><b>onset</b>: 01/01/2004</p><p><b>severity</b>: moderate</p></blockquote></div>\",\"status\":\"generated\"},\"type\":\"allergy\"}\n"
     ]
    }
   ],
   "source": [
    "file_path = \"allergyintolerance-example.canonical.json\"\n",
    "\n",
    "try:\n",
    "    with open(file_path, \"r\") as json_file:\n",
    "        # Read the contents of the JSON file.\n",
    "        json_data = json_file.read()\n",
    "    # Now, json_data contains the JSON content as a string.\n",
    "    print(\"JSON data as a string:\")\n",
    "    print(json_data)\n",
    "\n",
    "except FileNotFoundError:\n",
    "    print(f\"The file '{file_path}' was not found.\")\n",
    "except Exception as e:\n",
    "    print(f\"An error occurred: {str(e)}\")"
   ]
  },
  {
   "cell_type": "code",
   "execution_count": 6,
   "id": "bb566c71",
   "metadata": {},
   "outputs": [],
   "source": [
    "engine = \"gpt-35-turbo-16k\""
   ]
  },
  {
   "cell_type": "code",
   "execution_count": 7,
   "id": "4a4e3d53",
   "metadata": {},
   "outputs": [],
   "source": [
    "messages = [\n",
    "    {\n",
    "        \"role\": \"assistant\",\n",
    "        \"content\": \"You are an export in FHIR document. You will analyse this FHIR document \\\n",
    "    and generate a summary\",\n",
    "    },\n",
    "    {\"role\": \"user\", \"content\": file_path},\n",
    "]"
   ]
  },
  {
   "cell_type": "code",
   "execution_count": 8,
   "id": "7b8a23f1",
   "metadata": {},
   "outputs": [],
   "source": [
    "response = openai.ChatCompletion.create(\n",
    "    deployment_id=engine,\n",
    "    messages=messages,\n",
    "    temperature=0,\n",
    "    max_tokens=2048,\n",
    ")"
   ]
  },
  {
   "cell_type": "code",
   "execution_count": 9,
   "id": "d17f41cf",
   "metadata": {},
   "outputs": [
    {
     "data": {
      "text/plain": [
       "<OpenAIObject chat.completion id=chatcmpl-7xHz0BUYr3xEP1CK5u42Rx0pRiowg at 0x7fcb6b652f70> JSON: {\n",
       "  \"id\": \"chatcmpl-7xHz0BUYr3xEP1CK5u42Rx0pRiowg\",\n",
       "  \"object\": \"chat.completion\",\n",
       "  \"created\": 1694364834,\n",
       "  \"model\": \"gpt-35-turbo-16k\",\n",
       "  \"prompt_annotations\": [\n",
       "    {\n",
       "      \"prompt_index\": 0,\n",
       "      \"content_filter_results\": {\n",
       "        \"hate\": {\n",
       "          \"filtered\": false,\n",
       "          \"severity\": \"safe\"\n",
       "        },\n",
       "        \"self_harm\": {\n",
       "          \"filtered\": false,\n",
       "          \"severity\": \"safe\"\n",
       "        },\n",
       "        \"sexual\": {\n",
       "          \"filtered\": false,\n",
       "          \"severity\": \"safe\"\n",
       "        },\n",
       "        \"violence\": {\n",
       "          \"filtered\": false,\n",
       "          \"severity\": \"safe\"\n",
       "        }\n",
       "      }\n",
       "    }\n",
       "  ],\n",
       "  \"choices\": [\n",
       "    {\n",
       "      \"index\": 0,\n",
       "      \"finish_reason\": \"stop\",\n",
       "      \"message\": {\n",
       "        \"role\": \"assistant\",\n",
       "        \"content\": \"This FHIR document is an example of an AllergyIntolerance resource in the FHIR format. It represents information about a patient's allergy or intolerance to a specific substance.\\n\\nThe document includes the following key information:\\n\\n- Identifier: A unique identifier for the allergy or intolerance.\\n- ClinicalStatus: The clinical status of the allergy or intolerance, indicating whether it is active, inactive, resolved, or confirmed.\\n- VerificationStatus: The verification status of the allergy or intolerance, indicating whether it is unconfirmed, confirmed, or refuted.\\n- Type: The type of the allergy or intolerance, which can be either an allergy or an intolerance.\\n- Category: The category of the allergy or intolerance, such as food, medication, or environmental.\\n- Criticality: The criticality of the allergy or intolerance, indicating the potential impact on the patient's health.\\n- Code: The code representing the specific substance that the patient is allergic or intolerant to.\\n- Patient: A reference to the patient to whom the allergy or intolerance belongs.\\n- Onset: The date or time when the allergy or intolerance was first identified or reported.\\n- Recorder: A reference to the healthcare professional who recorded the allergy or intolerance.\\n- Note: Additional notes or comments about the allergy or intolerance.\\n\\nThis FHIR document provides a structured representation of the allergy or intolerance information, making it easier to exchange and share this data between different healthcare systems.\"\n",
       "      },\n",
       "      \"content_filter_results\": {\n",
       "        \"hate\": {\n",
       "          \"filtered\": false,\n",
       "          \"severity\": \"safe\"\n",
       "        },\n",
       "        \"self_harm\": {\n",
       "          \"filtered\": false,\n",
       "          \"severity\": \"safe\"\n",
       "        },\n",
       "        \"sexual\": {\n",
       "          \"filtered\": false,\n",
       "          \"severity\": \"safe\"\n",
       "        },\n",
       "        \"violence\": {\n",
       "          \"filtered\": false,\n",
       "          \"severity\": \"safe\"\n",
       "        }\n",
       "      }\n",
       "    }\n",
       "  ],\n",
       "  \"usage\": {\n",
       "    \"completion_tokens\": 283,\n",
       "    \"prompt_tokens\": 40,\n",
       "    \"total_tokens\": 323\n",
       "  }\n",
       "}"
      ]
     },
     "execution_count": 9,
     "metadata": {},
     "output_type": "execute_result"
    }
   ],
   "source": [
    "response"
   ]
  },
  {
   "cell_type": "code",
   "execution_count": 10,
   "id": "052ba896",
   "metadata": {},
   "outputs": [
    {
     "name": "stdout",
     "output_type": "stream",
     "text": [
      "This FHIR document is an example of an AllergyIntolerance resource in the FHIR format. It represents information about a patient's allergy or intolerance to a specific substance.\n",
      "\n",
      "The document includes the following key information:\n",
      "\n",
      "- Identifier: A unique identifier for the allergy or intolerance.\n",
      "- ClinicalStatus: The clinical status of the allergy or intolerance, indicating whether it is active, inactive, resolved, or confirmed.\n",
      "- VerificationStatus: The verification status of the allergy or intolerance, indicating whether it is unconfirmed, confirmed, or refuted.\n",
      "- Type: The type of the allergy or intolerance, which can be either an allergy or an intolerance.\n",
      "- Category: The category of the allergy or intolerance, such as food, medication, or environmental.\n",
      "- Criticality: The criticality of the allergy or intolerance, indicating the potential impact on the patient's health.\n",
      "- Code: The code representing the specific substance that the patient is allergic or intolerant to.\n",
      "- Patient: A reference to the patient to whom the allergy or intolerance belongs.\n",
      "- Onset: The date or time when the allergy or intolerance was first identified or reported.\n",
      "- Recorder: A reference to the healthcare professional who recorded the allergy or intolerance.\n",
      "- Note: Additional notes or comments about the allergy or intolerance.\n",
      "\n",
      "This FHIR document provides a structured representation of the allergy or intolerance information, making it easier to exchange and share this data between different healthcare systems.\n"
     ]
    }
   ],
   "source": [
    "print(response[\"choices\"][0][\"message\"][\"content\"])"
   ]
  },
  {
   "cell_type": "markdown",
   "id": "00c5bd87",
   "metadata": {},
   "source": [
    "## Example 2"
   ]
  },
  {
   "cell_type": "code",
   "execution_count": 11,
   "id": "bb541caa",
   "metadata": {},
   "outputs": [
    {
     "name": "stdout",
     "output_type": "stream",
     "text": [
      "--2023-09-10 16:54:08--  http://docs.smarthealthit.org/dstu2-examples/examples/careplan-example-f003-pharynx.canonical.json\n",
      "Resolving docs.smarthealthit.org (docs.smarthealthit.org)... 185.199.108.153, 185.199.109.153, 185.199.110.153, ...\n",
      "Connecting to docs.smarthealthit.org (docs.smarthealthit.org)|185.199.108.153|:80... connected.\n",
      "HTTP request sent, awaiting response... 200 OK\n",
      "Length: 2562 (2.5K) [application/json]\n",
      "Saving to: ‘careplan-example-f003-pharynx.canonical.json.1’\n",
      "\n",
      "careplan-example-f0 100%[===================>]   2.50K  --.-KB/s    in 0s      \n",
      "\n",
      "2023-09-10 16:54:08 (120 MB/s) - ‘careplan-example-f003-pharynx.canonical.json.1’ saved [2562/2562]\n",
      "\n"
     ]
    }
   ],
   "source": [
    "!wget http://docs.smarthealthit.org/dstu2-examples/examples/careplan-example-f003-pharynx.canonical.json"
   ]
  },
  {
   "cell_type": "code",
   "execution_count": 12,
   "id": "554637be",
   "metadata": {},
   "outputs": [
    {
     "name": "stdout",
     "output_type": "stream",
     "text": [
      "JSON data as a string:\n",
      "{\"activity\":[{\"detail\":{\"category\":{\"coding\":[{\"code\":\"procedure\",\"system\":\"http://hl7.org/fhir/care-plan-activity-category\"}]},\"code\":{\"coding\":[{\"code\":\"172960003\",\"display\":\"Incision of retropharyngeal abscess\",\"system\":\"http://snomed.info/sct\"}]},\"performer\":[{\"display\":\"E.M. van den broek\",\"reference\":\"Practitioner/f001\"}],\"prohibited\":true,\"scheduledString\":\"2011-06-27T09:30:10+01:00\",\"status\":\"completed\"}}],\"addresses\":[{\"display\":\"?????\",\"reference\":\"Condition/f201\"}],\"contained\":[{\"description\":\"Retropharyngeal abscess removal\",\"id\":\"goal\",\"note\":[{\"text\":\"goal accomplished without complications\"}],\"resourceType\":\"Goal\",\"status\":\"achieved\",\"subject\":{\"display\":\"P. van de Heuvel\",\"reference\":\"Patient/f001\"}}],\"goal\":[{\"reference\":\"#goal\"}],\"id\":\"f003\",\"identifier\":[{\"system\":\"http://www.bmc.nl/zorgportal/identifiers/careplans\",\"use\":\"official\",\"value\":\"CP3953\"}],\"modified\":\"2013-06-27T09:30:10+01:00\",\"participant\":[{\"member\":{\"display\":\"E.M. van den broek\",\"reference\":\"Practitioner/f001\"}}],\"period\":{\"end\":\"2013-03-08T09:30:10+01:00\",\"start\":\"2013-03-08T09:00:10+01:00\"},\"resourceType\":\"CarePlan\",\"status\":\"completed\",\"subject\":{\"display\":\"P. van de Heuvel\",\"reference\":\"Patient/f001\"},\"text\":{\"div\":\"<div><p><b>Generated Narrative with Details</b></p><p><b>id</b>: f003</p><p><b>contained</b>: </p><p><b>identifier</b>: CP3953 (OFFICIAL)</p><p><b>subject</b>: <a>P. van de Heuvel</a></p><p><b>status</b>: completed</p><p><b>period</b>: 08/03/2013 9:00:10 AM --&gt; 08/03/2013 9:30:10 AM</p><p><b>modified</b>: 27/06/2013 9:30:10 AM</p><p><b>addresses</b>: <a>?????</a></p><h3>Participants</h3><table><tr><td>-</td><td><b>Member</b></td></tr><tr><td>*</td><td><a>E.M. van den broek</a></td></tr></table><p><b>goal</b>: id: goal; P. van de Heuvel; description: Retropharyngeal abscess removal; status: achieved; Annotation: goal accomplished without complications</p><blockquote><p><b>activity</b></p><h3>Details</h3><table><tr><td>-</td><td><b>Category</b></td><td><b>Code</b></td><td><b>Status</b></td><td><b>Prohibited</b></td><td><b>Scheduled[x]</b></td><td><b>Performer</b></td></tr><tr><td>*</td><td>Procedure <span>(Details : {http://hl7.org/fhir/care-plan-activity-category code 'procedure' = 'Procedure)</span></td><td>Incision of retropharyngeal abscess <span>(Details : {SNOMED CT code '172960003' = '172960003', given as 'Incision of retropharyngeal abscess'})</span></td><td>completed</td><td>true</td><td>2011-06-27T09:30:10+01:00</td><td><a>E.M. van den broek</a></td></tr></table></blockquote></div>\",\"status\":\"generated\"}}\n"
     ]
    }
   ],
   "source": [
    "file_path = \"careplan-example-f003-pharynx.canonical.json\"\n",
    "\n",
    "try:\n",
    "    with open(file_path, \"r\") as json_file:\n",
    "        # Read the contents of the JSON file.\n",
    "        json_data = json_file.read()\n",
    "    # Now, json_data contains the JSON content as a string.\n",
    "    print(\"JSON data as a string:\")\n",
    "    print(json_data)\n",
    "\n",
    "except FileNotFoundError:\n",
    "    print(f\"The file '{file_path}' was not found.\")\n",
    "except Exception as e:\n",
    "    print(f\"An error occurred: {str(e)}\")"
   ]
  },
  {
   "cell_type": "code",
   "execution_count": 13,
   "id": "86cc0c49",
   "metadata": {},
   "outputs": [],
   "source": [
    "response = openai.ChatCompletion.create(\n",
    "    deployment_id=engine,\n",
    "    messages=messages,\n",
    "    temperature=0,\n",
    "    max_tokens=2048,\n",
    ")"
   ]
  },
  {
   "cell_type": "code",
   "execution_count": 14,
   "id": "125939ab",
   "metadata": {},
   "outputs": [
    {
     "name": "stdout",
     "output_type": "stream",
     "text": [
      "This FHIR document is an example of an AllergyIntolerance resource in the FHIR format. It represents information about a patient's allergy or intolerance to a specific substance.\n",
      "\n",
      "The document includes the following key information:\n",
      "\n",
      "- Identifier: A unique identifier for the allergy or intolerance.\n",
      "- ClinicalStatus: The clinical status of the allergy or intolerance, indicating whether it is active, inactive, resolved, or confirmed.\n",
      "- VerificationStatus: The verification status of the allergy or intolerance, indicating whether it is unconfirmed, confirmed, or refuted.\n",
      "- Type: The type of the allergy or intolerance, which can be either an allergy or an intolerance.\n",
      "- Category: The category of the allergy or intolerance, such as food, medication, or environmental.\n",
      "- Criticality: The criticality of the allergy or intolerance, indicating the potential impact on the patient's health.\n",
      "- Code: The code representing the specific substance that the patient is allergic or intolerant to.\n",
      "- Patient: A reference to the patient to whom the allergy or intolerance belongs.\n",
      "- Onset: The date or time when the allergy or intolerance was first identified or reported.\n",
      "- Recorder: A reference to the healthcare professional who recorded the allergy or intolerance.\n",
      "- Note: Additional notes or comments about the allergy or intolerance.\n",
      "\n",
      "This FHIR document provides a structured representation of the allergy or intolerance information, making it easier to exchange and share this data between different healthcare systems.\n"
     ]
    }
   ],
   "source": [
    "print(response[\"choices\"][0][\"message\"][\"content\"])"
   ]
  },
  {
   "cell_type": "code",
   "execution_count": null,
   "id": "52dc6daa",
   "metadata": {},
   "outputs": [],
   "source": []
  }
 ],
 "metadata": {
  "kernelspec": {
   "display_name": "Python 3.10 - SDK v2",
   "language": "python",
   "name": "python310-sdkv2"
  },
  "language_info": {
   "codemirror_mode": {
    "name": "ipython",
    "version": 3
   },
   "file_extension": ".py",
   "mimetype": "text/x-python",
   "name": "python",
   "nbconvert_exporter": "python",
   "pygments_lexer": "ipython3",
   "version": "3.10.10"
  }
 },
 "nbformat": 4,
 "nbformat_minor": 5
}
