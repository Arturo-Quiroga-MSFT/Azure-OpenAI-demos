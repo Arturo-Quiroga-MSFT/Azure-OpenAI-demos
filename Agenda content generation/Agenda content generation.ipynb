{
 "cells": [
  {
   "cell_type": "markdown",
   "id": "8a157fb8",
   "metadata": {},
   "source": [
    "# Agenda content generation with Azure Open AI"
   ]
  },
  {
   "cell_type": "code",
   "execution_count": 1,
   "id": "e08cdbd6",
   "metadata": {},
   "outputs": [],
   "source": [
    "import datetime\n",
    "import openai\n",
    "import os\n",
    "import sys\n",
    "\n",
    "from dotenv import load_dotenv"
   ]
  },
  {
   "cell_type": "code",
   "execution_count": 2,
   "id": "14be4f9e",
   "metadata": {},
   "outputs": [
    {
     "data": {
      "text/plain": [
       "'3.10.10 (main, Mar 21 2023, 18:45:11) [GCC 11.2.0]'"
      ]
     },
     "execution_count": 2,
     "metadata": {},
     "output_type": "execute_result"
    }
   ],
   "source": [
    "sys.version"
   ]
  },
  {
   "cell_type": "code",
   "execution_count": 3,
   "id": "77c69ef6",
   "metadata": {},
   "outputs": [
    {
     "name": "stdout",
     "output_type": "stream",
     "text": [
      "Today is 09-Nov-2023 09:33:37\n"
     ]
    }
   ],
   "source": [
    "print(f\"Today is {datetime.datetime.today().strftime('%d-%b-%Y %H:%M:%S')}\")"
   ]
  },
  {
   "cell_type": "code",
   "execution_count": 4,
   "id": "55d27ebf",
   "metadata": {},
   "outputs": [
    {
     "name": "stdout",
     "output_type": "stream",
     "text": [
      "Open AI version: 0.28.1\n"
     ]
    }
   ],
   "source": [
    "load_dotenv(\"azure.env\")\n",
    "\n",
    "# Azure Open AI\n",
    "openai.api_type: str = \"azure\"\n",
    "openai.api_key = os.getenv(\"OPENAI_API_KEY\")\n",
    "openai.api_base = os.getenv(\"OPENAI_API_BASE\")\n",
    "openai.api_version = os.getenv(\"OPENAI_API_VERSION\")\n",
    "\n",
    "print(\"Open AI version:\", openai.__version__)"
   ]
  },
  {
   "cell_type": "markdown",
   "id": "87d3bd2b",
   "metadata": {},
   "source": [
    "## Function"
   ]
  },
  {
   "cell_type": "code",
   "execution_count": 5,
   "id": "ed7bc8a5",
   "metadata": {},
   "outputs": [],
   "source": [
    "def ask(query):\n",
    "    \"\"\"\n",
    "    Data generation with Azure Open AI\n",
    "    \"\"\"\n",
    "    prompt = (\n",
    "        \"\"\"\n",
    "    You are a teacher asistant. You should generate some lesson plan with some numbered list.\n",
    "    \"\"\"\n",
    "        + query\n",
    "    )\n",
    "\n",
    "    response = openai.Completion.create(\n",
    "        engine=\"text-davinci-003\",\n",
    "        prompt=prompt,\n",
    "        max_tokens=4000,\n",
    "        temperature=0.7,\n",
    "    )\n",
    "\n",
    "    result = response[\"choices\"][0][\"text\"]\n",
    "\n",
    "    return result"
   ]
  },
  {
   "cell_type": "markdown",
   "id": "2741001c",
   "metadata": {},
   "source": [
    "## Testing"
   ]
  },
  {
   "cell_type": "code",
   "execution_count": 6,
   "id": "ea6b1be7",
   "metadata": {},
   "outputs": [
    {
     "name": "stdout",
     "output_type": "stream",
     "text": [
      "\n",
      "\n",
      "1. Introduction to Azure Custom Vision (15 minutes):\n",
      "    - Explain what Azure Custom Vision is and what it can do\n",
      "    - Discuss the benefits of using Azure Custom Vision\n",
      "    - Showcase an example of an AI model created with Azure Custom Vision\n",
      "\n",
      "2. Setting up an Azure Custom Vision Project (30 minutes):\n",
      "    - Walk through the process of setting up an Azure Custom Vision project\n",
      "    - Explain how to label and upload images\n",
      "    - Demonstrate how to train the model and evaluate the performance\n",
      "\n",
      "3. Working with the Custom Vision API (30 minutes):\n",
      "    - Introduce the Custom Vision API\n",
      "    - Explain how to call the API from an application\n",
      "    - Show examples of how to use the API to make predictions\n",
      "\n",
      "4. Building an AI Application with Azure Custom Vision (30 minutes):\n",
      "    - Discuss the process of building an AI application with Azure Custom Vision\n",
      "    - Demonstrate how to connect the API to an application\n",
      "    - Showcase a demo application\n",
      "\n",
      "5. Q&A (15 minutes):\n",
      "    - Allow students to ask questions and get clarification on topics discussed\n"
     ]
    }
   ],
   "source": [
    "prompt = \"Write a lesson plan for around 2 hours presentation of Azure Custom vision.\"\n",
    "\n",
    "print(ask(prompt))"
   ]
  },
  {
   "cell_type": "code",
   "execution_count": 7,
   "id": "be877d32",
   "metadata": {},
   "outputs": [
    {
     "name": "stdout",
     "output_type": "stream",
     "text": [
      "\n",
      "Day 1\n",
      "1. Introduction to Computer Vision AI: \n",
      "    a. Overview of Computer Vision AI\n",
      "    b. Introducing Azure AI and its capabilities\n",
      "2. Image Classification: \n",
      "    a. Understanding the concept of image classification\n",
      "    b. Exploring Azure AI tools for image classification\n",
      "3. Object Detection: \n",
      "    a. Understanding the concept of object detection\n",
      "    b. Exploring Azure AI tools for object detection\n",
      "4. Image Segmentation: \n",
      "    a. Understanding the concept of image segmentation\n",
      "    b. Exploring Azure AI tools for image segmentation\n",
      "\n",
      "Day 2\n",
      "1. Image Search: \n",
      "    a. Understanding the concept of image search\n",
      "    b. Exploring Azure AI tools for image search\n",
      "2. Text Recognition: \n",
      "    a. Understanding the concept of text recognition\n",
      "    b. Exploring Azure AI tools for text recognition\n",
      "3. Video Analysis: \n",
      "    a. Understanding the concept of video analysis\n",
      "    b. Exploring Azure AI tools for video analysis\n",
      "4. Hands-on Lab: \n",
      "    a. Working with real-world examples to apply Azure AI tools for Computer Vision AI\n",
      "5. Wrap-up and Q&A: \n",
      "    a. Summary of the workshop and Q&A session\n"
     ]
    }
   ],
   "source": [
    "prompt = \"\"\"\n",
    "Write a 2 days workshop plan for an introductory Computer Vision AI techniques with Azure AI.\n",
    "\"\"\"\n",
    "\n",
    "print(ask(prompt))"
   ]
  },
  {
   "cell_type": "code",
   "execution_count": 8,
   "id": "77322a6a",
   "metadata": {},
   "outputs": [
    {
     "name": "stdout",
     "output_type": "stream",
     "text": [
      "\n",
      "Lesson Plan: Introduction to Advanced Azure ML Services\n",
      "\n",
      "Objective: By the end of this lesson, students will have a comprehensive understanding of advanced Azure ML services and be able to use them in their own projects.\n",
      "\n",
      "1. Introduction to Azure ML Services:\n",
      "    a. Overview of Azure ML services \n",
      "    b. Advantages of using Azure ML services\n",
      "    c. Common use cases for Azure ML services\n",
      "\n",
      "2. Exploring Advanced Azure ML Services:\n",
      "    a. Introduction to Azure Machine Learning Designer\n",
      "    b. Working with Azure Machine Learning Designer\n",
      "    c. Creating models with Azure Machine Learning Designer\n",
      "\n",
      "3. Deploying and Managing Azure ML Services:\n",
      "    a. Overview of deployment options\n",
      "    b. Managing deployments using the Azure portal\n",
      "    c. Working with the Azure ML SDK\n",
      "\n",
      "4. Using Advanced Azure ML Services in Practice:\n",
      "    a. Building a machine learning model with Azure ML Designer\n",
      "    b. Deploying the model using the Azure portal\n",
      "    c. Testing and evaluating the model\n",
      "\n",
      "5. Conclusion:\n",
      "    a. Review of the topics covered\n",
      "    b. Summary of the skills developed\n",
      "    c. Questions and answers\n"
     ]
    }
   ],
   "source": [
    "prompt = \"\"\"\n",
    "Write a lesson plan for an advanced Azure ML service.\n",
    "\"\"\"\n",
    "\n",
    "print(ask(prompt))"
   ]
  },
  {
   "cell_type": "code",
   "execution_count": 9,
   "id": "20bc3e67",
   "metadata": {},
   "outputs": [
    {
     "name": "stdout",
     "output_type": "stream",
     "text": [
      "\n",
      "1. Introduction to PyTorch and Azure ML service: Explain the basics of PyTorch and how to use it to build machine learning models. Explain the concept of Azure ML service, and how it can be used to deploy PyTorch models. \n",
      "2. Set up an Azure ML environment: Demonstrate how to set up an Azure ML Workspace, and the resources available to build and deploy models.\n",
      "3. Train models with PyTorch: Show how to use PyTorch to train a machine learning model, and explain the different types of models available.\n",
      "4. Deploy models using Azure ML service: Explain how to deploy a machine learning model using Azure ML service, and discuss the different deployment options available.\n",
      "5. Monitor and improve models: Teach students how to monitor and improve their models using Azure ML service.\n",
      "6. Automate model training and deployment: Show how to automate model training and deployment using Azure ML service.\n",
      "7. Conclusion: Summarize the main points covered in the lesson, and discuss how students can apply what they have learned.\n"
     ]
    }
   ],
   "source": [
    "prompt = \"\"\"\n",
    "Write a lesson plan for building PyTorch models with Azure ML service.\n",
    "\"\"\"\n",
    "\n",
    "print(ask(prompt))"
   ]
  },
  {
   "cell_type": "code",
   "execution_count": null,
   "id": "53bb2a00",
   "metadata": {},
   "outputs": [],
   "source": []
  }
 ],
 "metadata": {
  "kernelspec": {
   "display_name": "Python 3.10 - SDK v2",
   "language": "python",
   "name": "python310-sdkv2"
  },
  "language_info": {
   "codemirror_mode": {
    "name": "ipython",
    "version": 3
   },
   "file_extension": ".py",
   "mimetype": "text/x-python",
   "name": "python",
   "nbconvert_exporter": "python",
   "pygments_lexer": "ipython3",
   "version": "3.10.10"
  }
 },
 "nbformat": 4,
 "nbformat_minor": 5
}
